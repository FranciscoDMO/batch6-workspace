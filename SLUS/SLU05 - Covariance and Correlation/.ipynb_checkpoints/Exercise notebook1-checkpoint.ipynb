{
 "cells": [
  {
   "cell_type": "code",
   "execution_count": 1,
   "id": "d67d44ab",
   "metadata": {
    "deletable": false,
    "editable": false,
    "nbgrader": {
     "grade": false,
     "grade_id": "cell-6e36eaeb647e4592",
     "locked": true,
     "schema_version": 3,
     "solution": false,
     "task": false
    }
   },
   "outputs": [],
   "source": [
    "import pandas as pd \n",
    "import numpy as np \n",
    "import math \n",
    "import utils \n",
    "import seaborn as sns\n",
    "\n",
    "from IPython.display import Image\n",
    "from matplotlib import pyplot as plt\n",
    "from utils import get_distance_speed, get_fathers_sons_outliers, plot_correlation_bargraph \n",
    "\n",
    "# this is for grading without showing the answers \n",
    "import hashlib\n",
    "def hash_answer(answer): \n",
    "    answer=str(answer)\n",
    "    return hashlib.sha256((answer).encode()).hexdigest()"
   ]
  },
  {
   "cell_type": "markdown",
   "id": "85ab4200",
   "metadata": {
    "deletable": false,
    "editable": false,
    "nbgrader": {
     "grade": false,
     "grade_id": "cell-36d1376d23b17d6d",
     "locked": true,
     "schema_version": 3,
     "solution": false,
     "task": false
    }
   },
   "source": [
    "In this notebook, you will practice the following:\n",
    "\n",
    "- Covariance \n",
    "- Pearson correlation\n",
    "- Spearman correlation\n",
    "- Correlation matrix\n",
    "- Spurious correlations"
   ]
  },
  {
   "cell_type": "markdown",
   "id": "0e884381",
   "metadata": {
    "deletable": false,
    "editable": false,
    "nbgrader": {
     "grade": false,
     "grade_id": "cell-a264257b42684e9f",
     "locked": true,
     "schema_version": 3,
     "solution": false,
     "task": false
    }
   },
   "source": [
    "# Exercise 1: covariance and correlation with Pandas\n",
    "\n",
    "Here you will apply what you learned in the Learning Notebook, calculating covariance and correlation on a sample dataset.\n",
    "\n",
    "We're going to use a dataset of Car Fuel Consumption for this exercise. Source: https://www.kaggle.com/datasets/anderas/car-consume?resource=download. Let's begin by taking a quick look at the dataset:\n"
   ]
  },
  {
   "cell_type": "code",
   "execution_count": 2,
   "id": "dd076463",
   "metadata": {},
   "outputs": [
    {
     "data": {
      "text/html": [
       "<div>\n",
       "<style scoped>\n",
       "    .dataframe tbody tr th:only-of-type {\n",
       "        vertical-align: middle;\n",
       "    }\n",
       "\n",
       "    .dataframe tbody tr th {\n",
       "        vertical-align: top;\n",
       "    }\n",
       "\n",
       "    .dataframe thead th {\n",
       "        text-align: right;\n",
       "    }\n",
       "</style>\n",
       "<table border=\"1\" class=\"dataframe\">\n",
       "  <thead>\n",
       "    <tr style=\"text-align: right;\">\n",
       "      <th></th>\n",
       "      <th>distance</th>\n",
       "      <th>consume</th>\n",
       "      <th>speed</th>\n",
       "      <th>temp_outside</th>\n",
       "    </tr>\n",
       "  </thead>\n",
       "  <tbody>\n",
       "    <tr>\n",
       "      <th>0</th>\n",
       "      <td>28.0</td>\n",
       "      <td>5.0</td>\n",
       "      <td>26</td>\n",
       "      <td>12.0</td>\n",
       "    </tr>\n",
       "    <tr>\n",
       "      <th>1</th>\n",
       "      <td>12.0</td>\n",
       "      <td>42.0</td>\n",
       "      <td>30</td>\n",
       "      <td>13.0</td>\n",
       "    </tr>\n",
       "    <tr>\n",
       "      <th>2</th>\n",
       "      <td>112.0</td>\n",
       "      <td>55.0</td>\n",
       "      <td>38</td>\n",
       "      <td>15.0</td>\n",
       "    </tr>\n",
       "    <tr>\n",
       "      <th>3</th>\n",
       "      <td>129.0</td>\n",
       "      <td>39.0</td>\n",
       "      <td>36</td>\n",
       "      <td>14.0</td>\n",
       "    </tr>\n",
       "    <tr>\n",
       "      <th>4</th>\n",
       "      <td>185.0</td>\n",
       "      <td>45.0</td>\n",
       "      <td>46</td>\n",
       "      <td>15.0</td>\n",
       "    </tr>\n",
       "  </tbody>\n",
       "</table>\n",
       "</div>"
      ],
      "text/plain": [
       "   distance  consume  speed  temp_outside\n",
       "0      28.0      5.0     26          12.0\n",
       "1      12.0     42.0     30          13.0\n",
       "2     112.0     55.0     38          15.0\n",
       "3     129.0     39.0     36          14.0\n",
       "4     185.0     45.0     46          15.0"
      ]
     },
     "execution_count": 2,
     "metadata": {},
     "output_type": "execute_result"
    }
   ],
   "source": [
    "carride = pd.read_csv('data/carride2.csv')\n",
    "carride.head()"
   ]
  },
  {
   "cell_type": "markdown",
   "id": "729f6766",
   "metadata": {
    "deletable": false,
    "editable": false,
    "nbgrader": {
     "grade": false,
     "grade_id": "cell-b30dc6ff1e17cc8e",
     "locked": true,
     "schema_version": 3,
     "solution": false,
     "task": false
    }
   },
   "source": [
    "## 1.1 Are speed and consume related?\n",
    "\n",
    "We'll begin by checking if the speed is related to the consumption.\n",
    "\n",
    "Edit the function below so that when given the two features, it returns their covariance, Pearson correlation and Spearman correlation (in this order).\n"
   ]
  },
  {
   "cell_type": "code",
   "execution_count": 3,
   "id": "55b5e28b",
   "metadata": {
    "deletable": false,
    "nbgrader": {
     "grade": false,
     "grade_id": "cell-33f3448b9c3e71c2",
     "locked": false,
     "schema_version": 3,
     "solution": true,
     "task": false
    }
   },
   "outputs": [],
   "source": [
    "def check_if_related(consume, speed):\n",
    "    covariance = carride['consume'].cov(carride['speed'])\n",
    "    pearson_corr = carride['consume'].corr(carride['speed'])\n",
    "    spearman_corr = carride['consume'].corr(carride['speed'], method='spearman')\n",
    "    \n",
    "    return covariance, pearson_corr, spearman_corr\n"
   ]
  },
  {
   "cell_type": "code",
   "execution_count": 4,
   "id": "0c808a2f",
   "metadata": {
    "deletable": false,
    "editable": false,
    "nbgrader": {
     "grade": true,
     "grade_id": "cell-9a836c764eb5109c",
     "locked": true,
     "points": 3,
     "schema_version": 3,
     "solution": false,
     "task": false
    }
   },
   "outputs": [
    {
     "name": "stdout",
     "output_type": "stream",
     "text": [
      "Well done! Everything seems in order! The correlation does not seem very significant.\n"
     ]
    }
   ],
   "source": [
    "consume, speed = get_distance_speed()\n",
    "assert math.isclose(check_if_related(consume, speed)[0], -25.061536002557347, abs_tol=0.01), \"The covariance seems to be wrong.\"\n",
    "assert math.isclose(check_if_related(consume, speed)[1], -0.10365751316032525, abs_tol=0.0001), \"The Pearson correlation seems to be wrong.\"\n",
    "assert math.isclose(check_if_related(consume, speed)[2], -0.11331148715392869, abs_tol=0.0001), \"The Spearman correlation seems to be wrong.\"\n",
    "print(\"Well done! Everything seems in order! The correlation does not seem very significant.\")"
   ]
  },
  {
   "cell_type": "markdown",
   "id": "81a7fd5d",
   "metadata": {},
   "source": [
    "## 1.2 Changing units\n",
    "\n",
    "Now for a thought exercise. Those distances are in feet. Let's assume we want to know the distances in meter.\n",
    "\n",
    "We know that 1 meter = 3.28 feet, meaning that the meter is a larger unit than the one in this dataset.\n",
    "\n",
    "If we extract the covariance and Pearson/Spearman correlations again, but this time in meter, which of these statements is true?\n",
    "\n",
    "    A. The covariance, Pearson correlation and Spearman correlation will decrease.\n",
    "\n",
    "    B. The covariance will decrease, but the Pearson correlation and Spearman correlation will increase.\n",
    "\n",
    "    C. The covariance will remain the same, but Pearson correlation and Spearman correlation all decrease.\n",
    "\n",
    "    D. The covariance will decrease, but Pearson correlation and Spearman correlation will remain the same.\n",
    "\n",
    "Write the letter corresponding to your chosen answer as a text string into the variable ex1_answer below.\n",
    "\n",
    "\n"
   ]
  },
  {
   "cell_type": "code",
   "execution_count": 5,
   "id": "cd7f0201",
   "metadata": {
    "deletable": false,
    "nbgrader": {
     "grade": false,
     "grade_id": "cell-c7f0b06183805a36",
     "locked": false,
     "schema_version": 3,
     "solution": true,
     "task": false
    }
   },
   "outputs": [],
   "source": [
    "ex1_answer = \"D\"\n",
    "# YOUR CODE HERE\n",
    "#raise NotImplementedError()"
   ]
  },
  {
   "cell_type": "code",
   "execution_count": 6,
   "id": "74484a50",
   "metadata": {
    "deletable": false,
    "editable": false,
    "nbgrader": {
     "grade": true,
     "grade_id": "cell-f339ebf6d0093b75",
     "locked": true,
     "points": 2,
     "schema_version": 3,
     "solution": false,
     "task": false
    }
   },
   "outputs": [
    {
     "name": "stdout",
     "output_type": "stream",
     "text": [
      "Good job!\n"
     ]
    }
   ],
   "source": [
    "assert hash_answer(ex1_answer.lower()) == \"18ac3e7343f016890c510e93f935261169d9e3f565436429830faf0934f4f8e4\", \"Wrong choice. Remember that correlation does not depend on units.\"\n",
    "print(\"Good job!\")\n",
    "\n"
   ]
  },
  {
   "cell_type": "markdown",
   "id": "65e659f9",
   "metadata": {
    "deletable": false,
    "editable": false,
    "nbgrader": {
     "grade": false,
     "grade_id": "cell-0505d086041dad3f",
     "locked": true,
     "schema_version": 3,
     "solution": false,
     "task": false
    }
   },
   "source": [
    "# Exercise 2: Pearson experiment\n",
    "\n",
    "The table below gives the heights of fathers and their sons, based on a famous experiment by Karl Pearson around 1903. The number of cases is 1078. Random noise was added to the original data, to produce heights to the nearest 0.1 inch. more info: https://www.kaggle.com/datasets/abhilash04/fathersandsonheight\n"
   ]
  },
  {
   "cell_type": "code",
   "execution_count": 7,
   "id": "824f9580",
   "metadata": {
    "deletable": false,
    "editable": false,
    "nbgrader": {
     "grade": false,
     "grade_id": "cell-4a90ff13471f8feb",
     "locked": true,
     "schema_version": 3,
     "solution": false,
     "task": false
    }
   },
   "outputs": [
    {
     "data": {
      "text/html": [
       "<div>\n",
       "<style scoped>\n",
       "    .dataframe tbody tr th:only-of-type {\n",
       "        vertical-align: middle;\n",
       "    }\n",
       "\n",
       "    .dataframe tbody tr th {\n",
       "        vertical-align: top;\n",
       "    }\n",
       "\n",
       "    .dataframe thead th {\n",
       "        text-align: right;\n",
       "    }\n",
       "</style>\n",
       "<table border=\"1\" class=\"dataframe\">\n",
       "  <thead>\n",
       "    <tr style=\"text-align: right;\">\n",
       "      <th></th>\n",
       "      <th>Fathers</th>\n",
       "      <th>Sons</th>\n",
       "    </tr>\n",
       "  </thead>\n",
       "  <tbody>\n",
       "    <tr>\n",
       "      <th>0</th>\n",
       "      <td>65.0</td>\n",
       "      <td>59.8</td>\n",
       "    </tr>\n",
       "    <tr>\n",
       "      <th>1</th>\n",
       "      <td>63.3</td>\n",
       "      <td>63.2</td>\n",
       "    </tr>\n",
       "    <tr>\n",
       "      <th>2</th>\n",
       "      <td>65.0</td>\n",
       "      <td>63.3</td>\n",
       "    </tr>\n",
       "    <tr>\n",
       "      <th>3</th>\n",
       "      <td>65.8</td>\n",
       "      <td>62.8</td>\n",
       "    </tr>\n",
       "    <tr>\n",
       "      <th>4</th>\n",
       "      <td>61.1</td>\n",
       "      <td>64.3</td>\n",
       "    </tr>\n",
       "  </tbody>\n",
       "</table>\n",
       "</div>"
      ],
      "text/plain": [
       "   Fathers  Sons\n",
       "0     65.0  59.8\n",
       "1     63.3  63.2\n",
       "2     65.0  63.3\n",
       "3     65.8  62.8\n",
       "4     61.1  64.3"
      ]
     },
     "execution_count": 7,
     "metadata": {},
     "output_type": "execute_result"
    }
   ],
   "source": [
    "pearson = pd.read_csv('data/pearson.csv')\n",
    "pearson.head()"
   ]
  },
  {
   "cell_type": "code",
   "execution_count": 8,
   "id": "15bd0832",
   "metadata": {
    "deletable": false,
    "editable": false,
    "nbgrader": {
     "grade": false,
     "grade_id": "cell-356d18108f71be93",
     "locked": true,
     "schema_version": 3,
     "solution": false,
     "task": false
    }
   },
   "outputs": [
    {
     "data": {
      "text/plain": [
       "Text(0, 0.5, 'Sons')"
      ]
     },
     "execution_count": 8,
     "metadata": {},
     "output_type": "execute_result"
    },
    {
     "data": {
      "image/png": "[encoded data removed]",
      "text/plain": [
       "<Figure size 640x480 with 1 Axes>"
      ]
     },
     "metadata": {},
     "output_type": "display_data"
    }
   ],
   "source": [
    "plt.scatter(pearson['Fathers'],pearson['Sons'])\n",
    "plt.xlabel('Fathers)')\n",
    "plt.ylabel('Sons')\n"
   ]
  },
  {
   "cell_type": "markdown",
   "id": "e5338666",
   "metadata": {
    "deletable": false,
    "editable": false,
    "nbgrader": {
     "grade": false,
     "grade_id": "cell-ce1ea76f53a60e4e",
     "locked": true,
     "schema_version": 3,
     "solution": false,
     "task": false
    }
   },
   "source": [
    "## 2.1 What can you read from the plot?\n",
    "What can we infer from the scatter plot above?\n",
    "\n",
    "    A. There is no correlation between Father and sun.\n",
    "\n",
    "    B. There is a negative correlation visuable.\n",
    "\n",
    "    C. There is a positive correlation visuable.\n",
    "\n",
    "    D. Nothing can be inferred from just the graph.\n",
    "    \n",
    "Write the letter corresponding to your chosen answer as a text string into the variable ex2_answer below.\n"
   ]
  },
  {
   "cell_type": "code",
   "execution_count": 9,
   "id": "648f1c36",
   "metadata": {
    "deletable": false,
    "nbgrader": {
     "grade": false,
     "grade_id": "cell-62e6ef4c069cc4b4",
     "locked": false,
     "schema_version": 3,
     "solution": true,
     "task": false
    }
   },
   "outputs": [],
   "source": [
    "ex2_answer = \"C\"\n",
    "# YOUR CODE HERE\n",
    "#raise NotImplementedError()"
   ]
  },
  {
   "cell_type": "code",
   "execution_count": 10,
   "id": "2750543f",
   "metadata": {
    "deletable": false,
    "editable": false,
    "nbgrader": {
     "grade": true,
     "grade_id": "cell-f2ffe2bc162d2f79",
     "locked": true,
     "points": 2,
     "schema_version": 3,
     "solution": false,
     "task": false
    }
   },
   "outputs": [
    {
     "name": "stdout",
     "output_type": "stream",
     "text": [
      "Nice!\n"
     ]
    }
   ],
   "source": [
    "assert hash_answer(ex2_answer.lower()) == \"2e7d2c03a9507ae265ecf5b5356885a53393a2029d241394997265a1a25aefc6\", \"Wrong choice. Remember that correlation does not depend on units.\"\n",
    "print(\"Nice!\")"
   ]
  },
  {
   "cell_type": "markdown",
   "id": "849d6c70",
   "metadata": {
    "deletable": false,
    "editable": false,
    "nbgrader": {
     "grade": false,
     "grade_id": "cell-5693c28505010bd1",
     "locked": true,
     "schema_version": 3,
     "solution": false,
     "task": false
    }
   },
   "source": [
    "## 2.2 The outlier\n",
    "\n",
    "We are going back to analyze those heights.\n",
    "\n",
    "We adjusted in the dataset some really weird heights or so called outliers. This could be the tallest man ever lifed or giant really exist.  \n",
    "\n",
    "Adjust the function below to calculate the correlations between the fathers and the sons. Have it return the Pearson correlation and the Spearman correlation, in that order."
   ]
  },
  {
   "cell_type": "code",
   "execution_count": 11,
   "id": "b74e12b1",
   "metadata": {
    "deletable": false,
    "editable": false,
    "nbgrader": {
     "grade": false,
     "grade_id": "cell-874d28fcddd25a27",
     "locked": true,
     "schema_version": 3,
     "solution": false,
     "task": false
    }
   },
   "outputs": [
    {
     "data": {
      "text/plain": [
       "Text(0, 0.5, 'Sons')"
      ]
     },
     "execution_count": 11,
     "metadata": {},
     "output_type": "execute_result"
    },
    {
     "data": {
      "image/png": "[encoded data removed]",
      "text/plain": [
       "<Figure size 640x480 with 1 Axes>"
      ]
     },
     "metadata": {},
     "output_type": "display_data"
    }
   ],
   "source": [
    "outlier_data = pd.read_csv('data/outlier_data.csv')\n",
    "plt.scatter(outlier_data['Fathers'],outlier_data['Sons'])\n",
    "plt.xlabel('Fathers')\n",
    "plt.ylabel('Sons')"
   ]
  },
  {
   "cell_type": "code",
   "execution_count": 12,
   "id": "9d081de3",
   "metadata": {
    "deletable": false,
    "nbgrader": {
     "grade": false,
     "grade_id": "cell-87a94ef2e593d4c6",
     "locked": false,
     "schema_version": 3,
     "solution": true,
     "task": false
    }
   },
   "outputs": [],
   "source": [
    "def calculate_correlations_with_pandas(fathers, sons):\n",
    "    \n",
    "    pearson_corr = fathers.corr(sons)\n",
    "    spearman_corr = fathers.corr(sons, method='spearman')\n",
    "\n",
    "    \n",
    "    return pearson_corr, spearman_corr"
   ]
  },
  {
   "cell_type": "code",
   "execution_count": 13,
   "id": "765b428d",
   "metadata": {
    "deletable": false,
    "editable": false,
    "nbgrader": {
     "grade": false,
     "grade_id": "cell-62325cce4485e655",
     "locked": true,
     "schema_version": 3,
     "solution": false,
     "task": false
    }
   },
   "outputs": [
    {
     "name": "stdout",
     "output_type": "stream",
     "text": [
      "Pearson without outlier : 0.5011626808075911\n",
      "Pearson with outlier    : 0.49940954577534535\n",
      "Spearman without outlier: 0.5056466119232446\n",
      "Spearman with outlier   : 0.5036626884981541\n"
     ]
    },
    {
     "data": {
      "image/png": "[encoded data removed]",
      "text/plain": [
       "<Figure size 640x480 with 1 Axes>"
      ]
     },
     "metadata": {},
     "output_type": "display_data"
    }
   ],
   "source": [
    "fathers, sons, sons_with_outliers = get_fathers_sons_outliers()\n",
    "\n",
    "pearson_corr_normal, spearman_corr_normal = calculate_correlations_with_pandas(fathers, sons)\n",
    "pearson_corr_outlier, spearman_corr_outlier = calculate_correlations_with_pandas(fathers, sons_with_outliers)\n",
    "\n",
    "# quick plot to see what happens\n",
    "plot_correlation_bargraph(pearson_corr_normal, pearson_corr_outlier, \n",
    "                          spearman_corr_normal, spearman_corr_outlier )"
   ]
  },
  {
   "cell_type": "code",
   "execution_count": 14,
   "id": "0ee5ff5b",
   "metadata": {
    "deletable": false,
    "editable": false,
    "nbgrader": {
     "grade": true,
     "grade_id": "cell-74ef64e65b500d98",
     "locked": true,
     "points": 3,
     "schema_version": 3,
     "solution": false,
     "task": false
    }
   },
   "outputs": [
    {
     "name": "stdout",
     "output_type": "stream",
     "text": [
      "So far, so good!\n"
     ]
    }
   ],
   "source": [
    "assert math.isclose(abs(pearson_corr_normal - pearson_corr_outlier), 0.002, abs_tol=.001), \"The Pearson correlation seems to be off. You should see some change between the two datasets.\"\n",
    "assert math.isclose(abs(spearman_corr_normal - spearman_corr_outlier), 0.002, abs_tol=.001), \"The Spearman correlation seems to be off. You should see almost no change between the two datasets.\"\n",
    "print(\"So far, so good!\")"
   ]
  },
  {
   "cell_type": "markdown",
   "id": "271d427c",
   "metadata": {
    "deletable": false,
    "editable": false,
    "nbgrader": {
     "grade": false,
     "grade_id": "cell-2bc34627ac495f9d",
     "locked": true,
     "schema_version": 3,
     "solution": false,
     "task": false
    }
   },
   "source": [
    "## 2.3 What to use when you have outliers?\n",
    "\n",
    "So, unsurprisingly, the higher the dads are, the higher the sons: a positive correlation. But, as you can see, having outliers may hugely affect your analysis. Then, when dealing with a dataset with outliers, which correlation methodology should you use?\n",
    "\n",
    "    A. Pearson.\n",
    "\n",
    "    B. Spearman.\n",
    "\n",
    "Write the letter corresponding to your chosen answer as a text string into the variable ex3_answer below."
   ]
  },
  {
   "cell_type": "code",
   "execution_count": 15,
   "id": "ca4cf9bb",
   "metadata": {
    "deletable": false,
    "nbgrader": {
     "grade": false,
     "grade_id": "cell-2606c61a466aefd2",
     "locked": false,
     "schema_version": 3,
     "solution": true,
     "task": false
    }
   },
   "outputs": [],
   "source": [
    "ex3_answer = \"B\""
   ]
  },
  {
   "cell_type": "code",
   "execution_count": 16,
   "id": "f0948918",
   "metadata": {
    "deletable": false,
    "editable": false,
    "nbgrader": {
     "grade": true,
     "grade_id": "cell-128352ee79915777",
     "locked": true,
     "points": 2,
     "schema_version": 3,
     "solution": false,
     "task": false
    }
   },
   "outputs": [
    {
     "name": "stdout",
     "output_type": "stream",
     "text": [
      "Nice! Now you can avoid the data disruption caused by the longest or shortest man ever alive!\n"
     ]
    }
   ],
   "source": [
    "assert hash_answer(ex3_answer.lower()) == \"3e23e8160039594a33894f6564e1b1348bbd7a0088d42c4acb73eeaed59c009d\", \"Wrong choice. Look at the changes in the correlations in the bar graphs.\"\n",
    "print(\"Nice! Now you can avoid the data disruption caused by the longest or shortest man ever alive!\")"
   ]
  },
  {
   "cell_type": "markdown",
   "id": "0ab86c27",
   "metadata": {
    "deletable": false,
    "editable": false,
    "nbgrader": {
     "grade": false,
     "grade_id": "cell-81ccd229c0bd96ff",
     "locked": true,
     "schema_version": 3,
     "solution": false,
     "task": false
    }
   },
   "source": [
    "# Exercise 3: Interest in Health issues \n",
    "\n",
    "This health search dataset includes an index of volumes of searches for various common medical topics throughout an assortment of areas in the United States. The data covers the period 2004. source: https://www.searching-for-health.com/\n",
    "\n",
    "Explore the dataset provided below:\n",
    "\n",
    "- Hint 1: you can use display (<name of df>) to force it to pretty print.\n",
    "- Hint 2: use the heatmap of the correlation matrix that we used in the learning notebooks.\n",
    "- Hint 3: you may want to import something to help with the visualization.\n",
    "- Hint 4: you can either paste the answers or use a purely programmatic solution.\n",
    "- Hint 5: when we say lowest and highest we mean the sign, not the \"magnitude\"."
   ]
  },
  {
   "cell_type": "code",
   "execution_count": 17,
   "id": "a470a508",
   "metadata": {
    "deletable": false,
    "editable": false,
    "nbgrader": {
     "grade": false,
     "grade_id": "cell-3658f33fec0c9638",
     "locked": true,
     "schema_version": 3,
     "solution": false,
     "task": false
    }
   },
   "outputs": [
    {
     "data": {
      "text/html": [
       "<div>\n",
       "<style scoped>\n",
       "    .dataframe tbody tr th:only-of-type {\n",
       "        vertical-align: middle;\n",
       "    }\n",
       "\n",
       "    .dataframe tbody tr th {\n",
       "        vertical-align: top;\n",
       "    }\n",
       "\n",
       "    .dataframe thead th {\n",
       "        text-align: right;\n",
       "    }\n",
       "</style>\n",
       "<table border=\"1\" class=\"dataframe\">\n",
       "  <thead>\n",
       "    <tr style=\"text-align: right;\">\n",
       "      <th></th>\n",
       "      <th>cancer</th>\n",
       "      <th>cardiovascular</th>\n",
       "      <th>stroke</th>\n",
       "      <th>depression</th>\n",
       "      <th>rehab</th>\n",
       "      <th>vaccine</th>\n",
       "      <th>diarrhea</th>\n",
       "      <th>obesity</th>\n",
       "      <th>diabetes</th>\n",
       "    </tr>\n",
       "  </thead>\n",
       "  <tbody>\n",
       "    <tr>\n",
       "      <th>0</th>\n",
       "      <td>44</td>\n",
       "      <td>6</td>\n",
       "      <td>17</td>\n",
       "      <td>39</td>\n",
       "      <td>21</td>\n",
       "      <td>31</td>\n",
       "      <td>14</td>\n",
       "      <td>29</td>\n",
       "      <td>38</td>\n",
       "    </tr>\n",
       "    <tr>\n",
       "      <th>1</th>\n",
       "      <td>47</td>\n",
       "      <td>6</td>\n",
       "      <td>13</td>\n",
       "      <td>38</td>\n",
       "      <td>16</td>\n",
       "      <td>33</td>\n",
       "      <td>12</td>\n",
       "      <td>27</td>\n",
       "      <td>32</td>\n",
       "    </tr>\n",
       "    <tr>\n",
       "      <th>2</th>\n",
       "      <td>48</td>\n",
       "      <td>3</td>\n",
       "      <td>16</td>\n",
       "      <td>50</td>\n",
       "      <td>12</td>\n",
       "      <td>37</td>\n",
       "      <td>24</td>\n",
       "      <td>31</td>\n",
       "      <td>37</td>\n",
       "    </tr>\n",
       "    <tr>\n",
       "      <th>3</th>\n",
       "      <td>44</td>\n",
       "      <td>14</td>\n",
       "      <td>14</td>\n",
       "      <td>37</td>\n",
       "      <td>19</td>\n",
       "      <td>49</td>\n",
       "      <td>14</td>\n",
       "      <td>29</td>\n",
       "      <td>31</td>\n",
       "    </tr>\n",
       "    <tr>\n",
       "      <th>4</th>\n",
       "      <td>52</td>\n",
       "      <td>7</td>\n",
       "      <td>16</td>\n",
       "      <td>41</td>\n",
       "      <td>23</td>\n",
       "      <td>36</td>\n",
       "      <td>14</td>\n",
       "      <td>30</td>\n",
       "      <td>37</td>\n",
       "    </tr>\n",
       "  </tbody>\n",
       "</table>\n",
       "</div>"
      ],
      "text/plain": [
       "   cancer  cardiovascular  stroke  depression  rehab  vaccine  diarrhea  \\\n",
       "0      44               6      17          39     21       31        14   \n",
       "1      47               6      13          38     16       33        12   \n",
       "2      48               3      16          50     12       37        24   \n",
       "3      44              14      14          37     19       49        14   \n",
       "4      52               7      16          41     23       36        14   \n",
       "\n",
       "   obesity  diabetes  \n",
       "0       29        38  \n",
       "1       27        32  \n",
       "2       31        37  \n",
       "3       29        31  \n",
       "4       30        37  "
      ]
     },
     "execution_count": 17,
     "metadata": {},
     "output_type": "execute_result"
    }
   ],
   "source": [
    "health = pd.read_csv('data/health_issue.csv')\n",
    "health.head()"
   ]
  },
  {
   "cell_type": "code",
   "execution_count": null,
   "id": "31951e72",
   "metadata": {
    "deletable": false,
    "nbgrader": {
     "grade": false,
     "grade_id": "cell-de93d4d0cdd64286",
     "locked": false,
     "schema_version": 3,
     "solution": true,
     "task": false
    }
   },
   "outputs": [],
   "source": []
  },
  {
   "cell_type": "code",
   "execution_count": 18,
   "id": "a87473c1",
   "metadata": {
    "deletable": false,
    "nbgrader": {
     "grade": false,
     "grade_id": "cell-d42ffaeb50ad744e",
     "locked": false,
     "schema_version": 3,
     "solution": true,
     "task": false
    }
   },
   "outputs": [],
   "source": [
    "# Complete the following questions \n",
    "\n",
    "# Q1: What is the pair of healthissues with the most negative Pearson correlation? \n",
    "# (pass the answer as a list, and remember, you can just type it in, no fancy Pandas needed) \n",
    "health_pair_with_lowest_pearson_corr = ['cardiovascular','rehab']\n",
    "\n",
    "\n",
    "# # Q2: What is the healthissue with the most negative pearson correlation with Obesity? \n",
    "# (the answer is a string)\n",
    "health_rank_pearson_corr_with_obesity = 'stroke' \n",
    "\n",
    "\n",
    "# Q3: What is the Spearman correlation between vaccine and stroke? \n",
    "# (answer is a float, use two decimal spaces)\n",
    "spearman_corr_between_vaccine_and_stroke = 0.187\n",
    "\n",
    "# Q4: Observe the top 6 Pearson correlation pairs, and then look at the general correlation matrix. \n",
    "# Is there one health issue that seems highly related to most other healthissues? \n",
    "# Which confounding variable is it?\n",
    "possible_confounding_variable = 'diabetes'"
   ]
  },
  {
   "cell_type": "code",
   "execution_count": 19,
   "id": "ba807fa9",
   "metadata": {
    "deletable": false,
    "editable": false,
    "nbgrader": {
     "grade": true,
     "grade_id": "cell-3215d77226d787e2",
     "locked": true,
     "points": 4,
     "schema_version": 3,
     "solution": false,
     "task": false
    }
   },
   "outputs": [
    {
     "name": "stdout",
     "output_type": "stream",
     "text": [
      "You got it!\n"
     ]
    }
   ],
   "source": [
    "\n",
    "assert hash_answer(sorted(health_pair_with_lowest_pearson_corr)[0].lower()) == \"4bb237c1191f109fd0899e69bf015cae2920af32588512a5def831d74e263b41\", \"That is not the pair with the lowest pearson correlation.\"\n",
    "assert hash_answer(sorted(health_pair_with_lowest_pearson_corr)[1].lower()) == \"939bb889c999330525d525d62ad19cdd352928d1d79e9bddc2f88033220675c3\", \"That is not the pair with the lowest pearson correlation.\"\n",
    "assert hash_answer(health_rank_pearson_corr_with_obesity.lower()) == \"1ba7573640bbbb13a9e25d5b6946b560307af27e6c9cd040840583b186d280b5\", \"That is not it\"\n",
    "assert math.isclose(spearman_corr_between_vaccine_and_stroke, 0.19, abs_tol=0.01), \"Wrong spearman correlation value between vaccine and stroke.\"\n",
    "assert hash_answer(possible_confounding_variable.lower()) == \"6a5d28d69b8b05a62caeaf6e6908402d26edf8fd2935e55ba687cbcf205ddc2f\", \"Let's check again\"\n",
    "\n",
    "print(\"You got it!\")\n"
   ]
  },
  {
   "cell_type": "markdown",
   "id": "b5b92dc2",
   "metadata": {
    "deletable": false,
    "editable": false,
    "nbgrader": {
     "grade": false,
     "grade_id": "cell-afac71313cf11768",
     "locked": true,
     "schema_version": 3,
     "solution": false,
     "task": false
    }
   },
   "source": [
    "# Exercise 4: lots of stocks\n",
    "You were hired by a hedge fund, because money. \n",
    "\n",
    "On the first day, your boss, Greedy McRiskyface asked you to select one stock pair. He wants the two stocks to be as uncorrelated as possible (use Pearson), so that he can short one and long the other. \n",
    "\n",
    "The answer should be (1) the two stocks, as a list and (2) their Pearson correlation, as a float. "
   ]
  },
  {
   "cell_type": "code",
   "execution_count": 20,
   "id": "062f5862",
   "metadata": {
    "deletable": false,
    "editable": false,
    "nbgrader": {
     "grade": false,
     "grade_id": "cell-f778af17111daca0",
     "locked": true,
     "schema_version": 3,
     "solution": false,
     "task": false
    }
   },
   "outputs": [],
   "source": [
    "stock_data = utils.get_stocks_data_2()"
   ]
  },
  {
   "cell_type": "code",
   "execution_count": 21,
   "id": "f72bec59",
   "metadata": {
    "deletable": false,
    "nbgrader": {
     "grade": false,
     "grade_id": "cell-e7e2a0de34acc4b6",
     "locked": false,
     "schema_version": 3,
     "solution": true,
     "task": false
    }
   },
   "outputs": [
    {
     "name": "stderr",
     "output_type": "stream",
     "text": [
      "/tmp/ipykernel_2635/356944436.py:7: DeprecationWarning: `np.bool` is a deprecated alias for the builtin `bool`. To silence this warning, use `bool` by itself. Doing this will not modify any behavior and is safe. If you specifically wanted the numpy scalar type, use `np.bool_` here.\n",
      "Deprecated in NumPy 1.20; for more details and guidance: https://numpy.org/devdocs/release/1.20.0-notes.html#deprecations\n",
      "  lower_triangle_mask = np.triu(np.ones(data.shape)).astype(np.bool)\n"
     ]
    }
   ],
   "source": [
    "# just getting the correlation matrix again \n",
    "data = stock_data.corr()\n",
    "\n",
    "# Bit of crazy numpy. We are getting the triangular matrix \n",
    "# the same size as our correlation matrix, with just Trues and \n",
    "# Falses, to then use in a mask. (you can just copy paste this though) \n",
    "lower_triangle_mask = np.triu(np.ones(data.shape)).astype(np.bool)\n",
    "\n",
    "## Now mask the correlation matrix, keeping only the lower triangle \n",
    "data = data.mask(lower_triangle_mask)\n",
    "data = data.unstack().dropna()"
   ]
  },
  {
   "cell_type": "code",
   "execution_count": 22,
   "id": "a2758ef1",
   "metadata": {},
   "outputs": [],
   "source": [
    "most_correlated_pair = ['VVZ','SNJ'] \n",
    "most_correlated_pair_value =  0.501617\n"
   ]
  },
  {
   "cell_type": "code",
   "execution_count": 23,
   "id": "21492e06",
   "metadata": {
    "deletable": false,
    "editable": false,
    "nbgrader": {
     "grade": true,
     "grade_id": "cell-0cf195c80388cd41",
     "locked": true,
     "points": 4,
     "schema_version": 3,
     "solution": false,
     "task": false
    }
   },
   "outputs": [
    {
     "name": "stdout",
     "output_type": "stream",
     "text": [
      "\n",
      "    Ok, we tricked you, and it was unfair of us.\n",
      "\n",
      "    The reality is that this stock dataset was 100% RANDOM NUMBERS.\n",
      "\n",
      "    The thing to remember is: if you use correlation without knowing the data, you are always going to find \"something\".\n",
      "    A lot of bad data science comes from over trusting the tools without knowing the data.\n",
      "\n",
      "    If you have enough data and dig into it using correlation you will ALWAYS find something\n",
      "    ... even if there is nothing to be found.\n",
      "\n",
      "    Correlation does not equal causality.\n",
      "    And sometimes, it just means you found a signal where there was only noise.\n",
      "\n",
      "    Now go on to the next SLU, and remember the day you modeled random numbers and found good stock picks :)\n",
      "    \n"
     ]
    }
   ],
   "source": [
    "assert isinstance(most_correlated_pair, list), \"the most correlated pair is not a list\"\n",
    "assert len(most_correlated_pair) == 2, \"the length of the most correlated pair list is not 2\"\n",
    "assert math.isclose(most_correlated_pair_value, 0.4, abs_tol=0.2),\"The value is not correct.\"\n",
    "utils.dirty_little_secret()"
   ]
  },
  {
   "cell_type": "code",
   "execution_count": null,
   "id": "0dc4c8ab",
   "metadata": {},
   "outputs": [],
   "source": []
  }
 ],
 "metadata": {
  "kernelspec": {
   "display_name": "Python 3 (ipykernel)",
   "language": "python",
   "name": "python3"
  },
  "language_info": {
   "codemirror_mode": {
    "name": "ipython",
    "version": 3
   },
   "file_extension": ".py",
   "mimetype": "text/x-python",
   "name": "python",
   "nbconvert_exporter": "python",
   "pygments_lexer": "ipython3",
   "version": "3.8.14"
  }
 },
 "nbformat": 4,
 "nbformat_minor": 5
}
