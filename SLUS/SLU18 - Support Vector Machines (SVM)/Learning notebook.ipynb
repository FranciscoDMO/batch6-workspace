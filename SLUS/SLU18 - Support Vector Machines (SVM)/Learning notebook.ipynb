{
 "cells": [
  {
   "cell_type": "markdown",
   "metadata": {
    "colab_type": "text",
    "id": "GxgRMERIM2IU"
   },
   "source": [
    "# SLU18 - Support Vector Machines\n",
    "\n",
    "In this notebook we will be covering the following:\n",
    "\n",
    "\n",
    "*  Hyperplanes\n",
    "*  Maximal Margin Classifier\n",
    "* Support Vector Classifier\n",
    "* Support Vector Machine\n",
    "* Multi-Class extension\n",
    "* Support Vector Regression\n",
    "\n",
    "New tools in this unit\n",
    "\n",
    "* [SVC](https://scikit-learn.org/stable/modules/generated/sklearn.svm.SVC.html)\n",
    "* [SVR](https://scikit-learn.org/stable/modules/generated/sklearn.svm.SVR.html)\n",
    "\n"
   ]
  },
  {
   "cell_type": "code",
   "execution_count": 1,
   "metadata": {
    "colab": {
     "base_uri": "https://localhost:8080/",
     "height": 102
    },
    "colab_type": "code",
    "id": "ctwokYS3Mdn0",
    "outputId": "f1caf272-1bce-49d0-fd9f-08c7be7a89d4"
   },
   "outputs": [
    {
     "data": {
      "text/plain": [
       "array([[ 0.50928737, -1.29147305,  0.65685401,  0.84584804],\n",
       "       [-1.18833719,  0.10053383, -1.36127829, -1.50857433],\n",
       "       [ 0.63054626, -0.36346846,  0.25322755,  0.06104058],\n",
       "       [ 0.02425178, -0.13146732,  0.71451494,  0.71504679],\n",
       "       [-1.79463167,  0.33253498, -1.47660013, -1.37777309]])"
      ]
     },
     "execution_count": 1,
     "metadata": {},
     "output_type": "execute_result"
    }
   ],
   "source": [
    "import warnings\n",
    "import pandas as pd\n",
    "\n",
    "from sklearn.model_selection import train_test_split\n",
    "from sklearn.preprocessing import StandardScaler\n",
    "from sklearn.datasets import load_iris\n",
    "\n",
    "warnings.simplefilter(\"ignore\")\n",
    "\n",
    "# load the iris dataset and train-test split it\n",
    "X, y = load_iris(return_X_y=True)\n",
    "\n",
    "X_train, X_test, y_train, y_test = train_test_split(X, y, test_size=0.2)\n",
    "\n",
    "# SVMs are not scale invariant, so we should scale our data beforehand\n",
    "scaler = StandardScaler()\n",
    "X_train = scaler.fit_transform(X_train)\n",
    "X_test = scaler.fit_transform(X_test)\n",
    "\n",
    "# Take a look at the first five observations' features\n",
    "X_train[0:5, :]"
   ]
  },
  {
   "cell_type": "code",
   "execution_count": 2,
   "metadata": {
    "colab": {
     "base_uri": "https://localhost:8080/",
     "height": 34
    },
    "colab_type": "code",
    "id": "g70_dcpI_01V",
    "outputId": "4e13d18a-3e0f-4f57-91a3-39244d56dc28"
   },
   "outputs": [
    {
     "data": {
      "text/plain": [
       "array([2, 0, 1, 2, 0])"
      ]
     },
     "execution_count": 2,
     "metadata": {},
     "output_type": "execute_result"
    }
   ],
   "source": [
    "# Take a look at the first five observations' class\n",
    "y_train[0:5]"
   ]
  },
  {
   "cell_type": "markdown",
   "metadata": {
    "colab_type": "text",
    "id": "hnMp9uxAOwDZ"
   },
   "source": [
    "## Introduction\n",
    "\n",
    "In this learning unit, we discuss the support vector machine (SVM), an approach that was developed in the computer science community in\n",
    "the 1990s and that has grown in popularity since then. SVMs have been shown to perform well in a variety of settings, and are often considered one\n",
    "of the best \"out of the box\" shallow classifiers.\n",
    "\n",
    "![intro](media/into.png)"
   ]
  },
  {
   "cell_type": "markdown",
   "metadata": {
    "colab_type": "text",
    "id": "oFB9j5bt2Sc2"
   },
   "source": [
    "People often loosely refer to the maximal margin classifier, the support vector classifier, and the support vector machine as \"support vector machines\". To avoid confusion, we will carefully distinguish between these three notions."
   ]
  },
  {
   "cell_type": "markdown",
   "metadata": {
    "colab_type": "text",
    "id": "WlQLNTk9X4W3"
   },
   "source": [
    "## Hyperplanes\n",
    "\n",
    "In a p-dimensional space, a hyperplane is a flat  subspace of dimension p − 1. For instance, in two dimensions, a hyperplane is a flat one-dimensional subspace — in other words, a line. In three dimensions, a hyperplane is a flat two-dimensional subspace — that is, a plane. In p > 3\n",
    "dimensions, it can be hard to visualize a hyperplane, but the notion of a (p − 1)-dimensional flat subspace still applies.\n",
    "\n",
    "![hyperplanes](media/hyperplanes.png)"
   ]
  },
  {
   "cell_type": "markdown",
   "metadata": {
    "colab_type": "text",
    "id": "60wGgq8Z345d"
   },
   "source": [
    "Consider a $n×p$ data matrix **X** that consists of n training observations in p-dimensional space. A hyperplane in the p-dimensional setting is defined by the below equation, \n",
    "\n",
    "$\\beta_{0}+ \\beta_{1}x_{1}+ ... +\\beta_{p}x_{p} = 0$\n",
    "\n",
    "Using this hyperplane, we can separate two classes of observations. For instance, all observations that satisfy\n",
    "\n",
    "$\\beta_{0}+ \\beta_{1}x_{1}+ ... +\\beta_{p}x_{p} > 0$\n",
    "\n",
    "will be classified as one class, while all other observations that satisfy \n",
    "\n",
    "$\\beta_{0}+ \\beta_{1}x_{1}+ ... +\\beta_{p}x_{p} < 0$\n",
    "\n",
    "will be classified as the remaining class. "
   ]
  },
  {
   "cell_type": "markdown",
   "metadata": {
    "colab_type": "text",
    "id": "j7hCW7g6ZVum"
   },
   "source": [
    "## Maximal Margin Classifier (MMC)\n",
    "\n",
    "The Maximal Margin Classifier is a binary classification method that makes use of the **optimal separating hyperplane**, which is the separating hyperplane that is farthest from the training observations. The minimal distance from the observations to the hyperplane is known as the **margin**. The observations that lie on the margin are known as the **support vectors**. The figure below illustrates the decision boundary (black line), the margin (dashed lines), and the support vectors (points on the dashed line) of the application of a maximal margin classifier.\n",
    "\n",
    "![mmc](media/mmc.png)\n",
    "\n",
    "In order to construct the optimal separating hyperplane based on a set of n training observations $x_{1}, . . . , x_{n} ∈ R_{p}$ and associated class labels $y_{1}, . . . , y_{n} $∈ {-1,1}, we must find the solution to the optimization problem\n",
    "\n",
    "* maximize $M$\n",
    "\n",
    "* subject to $\\sum_{j=1}^{p} β^{2}=1$\n",
    "\n",
    "* $y_{i}(\\beta_{0}+ \\beta_{1}x_{i1}+ ... +\\beta_{p}x_{ip} =  M,    ∀ i = 1, . . . , n$) \n",
    "\n",
    "Here, M represents the margin, and the optimization problem chooses $\\beta_{0}+ \\beta_{1} + ... + \\beta_{p}$ to maximize M.\n",
    "\n",
    "The maximal margin classifier is a very natural way to perform classification, if a separating hyperplane exists. However, in many cases no separating hyperplane exists, and so there is no maximal margin classifier. In this case, the optimization problem has no solution with M >0.\n",
    "\n",
    "![meme](media/unseparable_meme.png)"
   ]
  },
  {
   "cell_type": "markdown",
   "metadata": {
    "colab_type": "text",
    "id": "oRbhkeVvaSs8"
   },
   "source": [
    "## Support Vector Classifier (SVC)\n",
    "\n",
    "The Support Vector Classifier, also known as the soft margin classifier, is an extension of the maximal margin classifier. The soft margin allows some observations to be on the incorrect side of the margin, or even on the incorrect side of the hyperplane. \n",
    "\n",
    "This overcomes the MMC's limitation of not being able to handle cases where no separating hyperplane exists. In fact, even if a separating hyperplane does exist, there are instances in which a classifier based on such a separating hyperplane might not be desirable. An MMC classifier based on a separating hyperplane will necessarily perfectly classify all the training observations, which can lead to sensitivity to individual observations.\n",
    "\n",
    "By not perfectly separating the two classes, the SVC has greater robustness to individual observations and a better classification of *most* of the observations. The image below illustrates the decision boundary and margin of an SVC, \n",
    "\n",
    "![svc](media/svc.png)\n",
    "\n",
    "As can be seen, some observations violate the hyperplane. The method to obtain this hyperplane is similar to that of the MMC, except that we now introduce some slack variables $s_{0}, ..., s_{n}$ and a non-negative tuning parameter C.\n",
    "\n",
    "* maximize M \n",
    "\n",
    "* subject to $\\sum_{j=1}^{p} β^{2}=1$\n",
    "\n",
    "* $y_{i}(\\beta_{0}+ \\beta_{1}x_{i1}+ ... +\\beta_{p}x_{ip} ≥ M(1-s_{i})$\n",
    "* $s_{i} ≥ 0$\n",
    "\n",
    "* $\\sum_{j=1}^{p} s_{i} ≤ C$\n",
    "\n",
    "* ∀ i = 1, . . . , n\n",
    "\n",
    "\n",
    "The slack variables $s_{0}, ..., s_{n}$  allow individual observations to be on the wrong side of the margin or the hyperplane. \n",
    "\n"
   ]
  },
  {
   "cell_type": "code",
   "execution_count": 3,
   "metadata": {
    "colab": {
     "base_uri": "https://localhost:8080/",
     "height": 85
    },
    "colab_type": "code",
    "id": "7V5T0HUaRrJA",
    "outputId": "2a58db42-44a8-4d64-93ab-5157ce8eb4e4"
   },
   "outputs": [
    {
     "data": {
      "text/plain": [
       "SVC(C=1, kernel='linear')"
      ]
     },
     "execution_count": 3,
     "metadata": {},
     "output_type": "execute_result"
    }
   ],
   "source": [
    "# import the SVC class\n",
    "from sklearn.svm import SVC\n",
    "\n",
    "# Create an estimator\n",
    "linear_svc = SVC(kernel=\"linear\", C=1) # don't worry about the kernel argument for now\n",
    "linear_svc"
   ]
  },
  {
   "cell_type": "code",
   "execution_count": 4,
   "metadata": {
    "colab": {
     "base_uri": "https://localhost:8080/",
     "height": 51
    },
    "colab_type": "code",
    "id": "YesYso4i4UUG",
    "outputId": "dab3c583-0244-45a6-fbc5-971c4b55e826"
   },
   "outputs": [
    {
     "data": {
      "text/plain": [
       "array([2, 0, 1, 0, 0, 0, 0, 0, 2, 1, 1, 2, 0, 0, 0, 1, 0, 2, 0, 2, 2, 2,\n",
       "       0, 2, 2, 0, 2, 1, 1, 1])"
      ]
     },
     "execution_count": 4,
     "metadata": {},
     "output_type": "execute_result"
    }
   ],
   "source": [
    "# fit the estimator\n",
    "linear_svc.fit(X_train, y_train)\n",
    "# make predictions\n",
    "predictions = linear_svc.predict(X_test)\n",
    "predictions"
   ]
  },
  {
   "cell_type": "code",
   "execution_count": 5,
   "metadata": {
    "colab": {
     "base_uri": "https://localhost:8080/",
     "height": 34
    },
    "colab_type": "code",
    "id": "w4klJ7Y77Aef",
    "outputId": "b1e1f35b-7060-4834-f1ac-58fbb9e5582e"
   },
   "outputs": [
    {
     "data": {
      "text/plain": [
       "0.9"
      ]
     },
     "execution_count": 5,
     "metadata": {},
     "output_type": "execute_result"
    }
   ],
   "source": [
    "#score the estimator\n",
    "linear_svc.score(X_test, y_test)"
   ]
  },
  {
   "cell_type": "code",
   "execution_count": 6,
   "metadata": {
    "colab": {
     "base_uri": "https://localhost:8080/",
     "height": 391
    },
    "colab_type": "code",
    "id": "YJVYydj_-G7b",
    "outputId": "cc861407-edc0-4c58-9681-e836cc660c1f"
   },
   "outputs": [
    {
     "data": {
      "text/plain": [
       "array([[-1.67337278, -1.75547534, -1.47660013, -1.24697185],\n",
       "       [-1.06707829,  1.02853842, -1.30361736, -0.85456812],\n",
       "       [-0.5820427 ,  0.79653727, -1.36127829, -1.1161706 ],\n",
       "       [ 0.14551068, -0.36346846,  0.3685494 ,  0.32264307],\n",
       "       [-0.33952491, -0.13146732,  0.3685494 ,  0.32264307],\n",
       "       [ 1.11558185, -0.59546961,  0.54153217,  0.19184182],\n",
       "       [ 0.02425178,  0.33253498,  0.54153217,  0.71504679],\n",
       "       [ 0.75180516, -0.59546961,  0.42621032,  0.32264307],\n",
       "       [-0.94581939, -1.29147305, -0.49636444, -0.20056191],\n",
       "       [ 0.38802847, -1.98747649,  0.3685494 ,  0.32264307],\n",
       "       [ 0.99432295, -0.13146732,  0.65685401,  0.58424555],\n",
       "       [ 1.23684075,  0.10053383,  0.59919309,  0.32264307],\n",
       "       [ 0.50928737, -1.75547534,  0.31088848,  0.06104058],\n",
       "       [-0.5820427 , -0.13146732,  0.3685494 ,  0.32264307],\n",
       "       [ 0.50928737,  0.56453612,  0.48387124,  0.45344431],\n",
       "       [ 0.02425178, -0.13146732,  0.71451494,  0.71504679],\n",
       "       [ 0.75180516,  0.33253498,  0.71451494,  0.97664928],\n",
       "       [ 0.26676957, -1.0594719 ,  1.00281955,  0.19184182],\n",
       "       [ 0.50928737, -0.82747076,  0.59919309,  0.71504679],\n",
       "       [ 1.60061744, -0.13146732,  1.1181414 ,  0.45344431],\n",
       "       [ 0.26676957, -0.13146732,  0.59919309,  0.71504679],\n",
       "       [ 0.38802847, -0.59546961,  0.54153217,  0.71504679],\n",
       "       [ 0.14551068, -1.98747649,  0.65685401,  0.32264307],\n",
       "       [ 0.50928737, -0.59546961,  0.71451494,  0.32264307],\n",
       "       [ 0.14551068, -0.13146732,  0.54153217,  0.71504679]])"
      ]
     },
     "execution_count": 6,
     "metadata": {},
     "output_type": "execute_result"
    }
   ],
   "source": [
    "# get the support vectors\n",
    "linear_svc.support_vectors_"
   ]
  },
  {
   "cell_type": "markdown",
   "metadata": {
    "colab_type": "text",
    "id": "7fiAph15Rrlo"
   },
   "source": [
    "### The C Penalty\n",
    "\n",
    "The C penalty is the sum of all the slack variables, and it thus determines the number and severity of the violations to the margin (and the hyperplane) that the model will tolerate.  If C=0 then we are back to the MMC. As C increases, the model becomes more tolerant and thus the margin will increase. This is illustrated by the pictures below, \n",
    "\n",
    "![small_C](media/small_C.png)\n",
    "![large_C](media/large_C.png)\n",
    "\n",
    "The picture on the top illustrates an SVC with a small value of C, while the picture on the bottom illustrates an SVC with a large value of C. In practice, C is often chosen via cross-validation, though a value of C=1 is usually a good start.\n",
    "\n",
    "C controls the bias-variance trade-off of the statistical learning technique. When C is small  the  classifier is highly fit to the data, which may have low bias but high variance. On the other hand, when C is larger, the margin is wider and we allow more violations to it. This results in fitting the data less hard and obtaining a classifier that is potentially more biased but with lower variance."
   ]
  },
  {
   "cell_type": "markdown",
   "metadata": {
    "colab_type": "text",
    "id": "nMXCPKf4aoja"
   },
   "source": [
    "## Support Vector Machine (SVM)\n",
    "\n",
    "So far we have only considered models with a linear decision boundary. Support Vector Machines are the extension of the SVC to the non-linear case. The full details of this extension are somewhat complex and beyond the scope of this learning unit, but the main ideas are detailed below. \n",
    "\n",
    "### Kernels\n",
    "\n",
    "SVMs enlarge the feature space in a specific way using **kernels**. The kernel approach is simply an efficient computational approach for accommodating non-linear decision boundaries. A kernel function quantifies the similarity of two observations. For instance, to obtain the SVC we could use the following kernel,\n",
    "\n",
    "\n",
    "$K(x_{i}, x_{n}) =  \\sum_{j=1}^{p}x_{ij}x_{nj}$\n",
    "\n",
    "\n",
    "Kernels operate in implicit feature space without ever computing the coordinates of the data in that space. In practice, they simply compute the inner products between the images of all pairs of data in the feature space. This is known as the **Kernel Trick**. \n",
    "\n",
    "![kernel_trick](media/kernel_trick.png)\n",
    "\n",
    "Data not linearly separable in n-dimensional space may be linearly separable in higher dimensional space. "
   ]
  },
  {
   "cell_type": "markdown",
   "metadata": {
    "colab_type": "text",
    "id": "0LfIRqGu4Iu8"
   },
   "source": [
    "\n",
    "One popular choice is the **polynomial kernel** of degree d, given by the equation below,\n",
    "\n",
    "$K(x_{i}, x_{n}) = (1 + \\sum_{j=1}^{p}x_{ij}x_{nj})^{d}$\n",
    "\n",
    "![poly_kernel](media/poly_kernel.png)\n",
    "\n",
    "Using such a kernel with d > 1, instead of the SVC, leads to a much more flexible decision boundary. It essentially allows fitting a support vector\n",
    "classifier in a higher-dimensional space involving polynomials of degree d, rather than in the original feature space.\n"
   ]
  },
  {
   "cell_type": "code",
   "execution_count": 7,
   "metadata": {
    "colab": {
     "base_uri": "https://localhost:8080/",
     "height": 85
    },
    "colab_type": "code",
    "id": "nl-pzgpo4L-L",
    "outputId": "9b4816db-ac2a-4895-81f3-491628ac00f1"
   },
   "outputs": [
    {
     "data": {
      "text/plain": [
       "SVC(kernel='poly')"
      ]
     },
     "execution_count": 7,
     "metadata": {},
     "output_type": "execute_result"
    }
   ],
   "source": [
    "# Pass kernel='poly' and degree=d to create an\n",
    "# SVM with polynomial kernel of degree d\n",
    "# For example, let's use a kernel with a degree of 3\n",
    "polynomial_svm = SVC(kernel=\"poly\", degree=3)\n",
    "polynomial_svm"
   ]
  },
  {
   "cell_type": "code",
   "execution_count": 8,
   "metadata": {
    "colab": {
     "base_uri": "https://localhost:8080/",
     "height": 34
    },
    "colab_type": "code",
    "id": "TStsBmjPAS9X",
    "outputId": "97025c88-2b62-4996-c2e3-d07327b953be"
   },
   "outputs": [
    {
     "data": {
      "text/plain": [
       "0.8333333333333334"
      ]
     },
     "execution_count": 8,
     "metadata": {},
     "output_type": "execute_result"
    }
   ],
   "source": [
    "# fit the model\n",
    "polynomial_svm.fit(X_train, y_train)\n",
    "# score the model\n",
    "polynomial_svm.score(X_test, y_test)"
   ]
  },
  {
   "cell_type": "markdown",
   "metadata": {
    "colab_type": "text",
    "id": "NFOc9jmx4MZT"
   },
   "source": [
    "Another popular option is the **radial kernel**, \n",
    "\n",
    "$K(x_{i}, x_{n}) = \\exp(-\\gamma\\sum_{j=1}^{p}(x_{ij}-x_{nj})^{2})$\n",
    "\n",
    "Where  $\\gamma$  is a positive constant. This kernel has very local behavior, meaning that the classification of new observations will be mostly determined by observations very close to it. The below picture shows the application of a radial kernel, \n",
    "\n",
    "![rbf_kernel](media/rbf_kernel.png)\n",
    "\n"
   ]
  },
  {
   "cell_type": "code",
   "execution_count": 9,
   "metadata": {
    "colab": {
     "base_uri": "https://localhost:8080/",
     "height": 85
    },
    "colab_type": "code",
    "id": "Ndpj8ipZ5k2h",
    "outputId": "a607cec3-7af9-4960-f0af-0f62b7aea044"
   },
   "outputs": [
    {
     "data": {
      "text/plain": [
       "SVC()"
      ]
     },
     "execution_count": 9,
     "metadata": {},
     "output_type": "execute_result"
    }
   ],
   "source": [
    "# Pass kernel='rbf' (default) to create an \n",
    "# SVM with radial kernel\n",
    "radial_svm = SVC(kernel=\"rbf\")\n",
    "radial_svm"
   ]
  },
  {
   "cell_type": "code",
   "execution_count": 10,
   "metadata": {
    "colab": {
     "base_uri": "https://localhost:8080/",
     "height": 34
    },
    "colab_type": "code",
    "id": "eh3FtQyuAi-r",
    "outputId": "0a31deae-14ce-445c-e750-8b6018d5b6f0"
   },
   "outputs": [
    {
     "data": {
      "text/plain": [
       "0.8666666666666667"
      ]
     },
     "execution_count": 10,
     "metadata": {},
     "output_type": "execute_result"
    }
   ],
   "source": [
    "# fit the model\n",
    "radial_svm.fit(X_train, y_train)\n",
    "# score the model\n",
    "radial_svm.score(X_test, y_test)"
   ]
  },
  {
   "cell_type": "markdown",
   "metadata": {
    "colab_type": "text",
    "id": "AsP5DSPpa2ir"
   },
   "source": [
    "### Multi-Class Classification\n",
    "\n",
    "So far the estimators we have seen are only applicable to binary classification. There are ways to extend them in order to perform multi-class classification, and two popular methods are One-Vs-one (OVO) and One-Vs-Rest (OVR)\n",
    "\n",
    "\n",
    "One-Vs-One\n",
    "1. Fit $\\binom{K}{2}$ SVMs, each comparing a pair of classes \n",
    "2. Assign test observation to most frequently assigned class in all pairwise classifications\n",
    "\n",
    "One-Vs-Rest\n",
    "1. Fit K SVMs\n",
    "2. Compare each K class to remaining K-1 classes \n",
    "2. Assign  test observation for which $\\beta_{0}+ \\beta_{1}x_{1}+ ... +\\beta_{p}x_{p}$ is largest (this amounts to a high level of confidence that the test\n",
    "observation belongs to the kth class rather than to any of the other classes) \n",
    "\n",
    "Luckily,  all sklearn SVM estimators already implement multi-class classification, so we don't need to do it ourselves. "
   ]
  },
  {
   "cell_type": "code",
   "execution_count": 11,
   "metadata": {
    "colab": {
     "base_uri": "https://localhost:8080/",
     "height": 85
    },
    "colab_type": "code",
    "id": "8SZt2wqqPo7S",
    "outputId": "3d003117-9a6b-4b1d-f9ef-a6306fbbcc57"
   },
   "outputs": [
    {
     "data": {
      "text/plain": [
       "SVC(decision_function_shape='ovo')"
      ]
     },
     "execution_count": 11,
     "metadata": {},
     "output_type": "execute_result"
    }
   ],
   "source": [
    "# You can specify which multi-class method you want your estimator to use\n",
    "# through the \"decision_function_shape\" argument.\n",
    "SVC(decision_function_shape=\"ovo\")"
   ]
  },
  {
   "cell_type": "markdown",
   "metadata": {
    "colab_type": "text",
    "id": "S0CLBoUqql8O"
   },
   "source": [
    "## Support Vector Regression\n",
    "\n",
    "\n",
    "The method of Support Vector Classification can be extended to solve regression problems. This method is called Support Vector Regression.\n",
    "\n",
    "The model produced by support vector classification  depends only on a subset of the training data, because the cost function for building the model does not care about training points that lie beyond the margin. Analogously, the model produced by Support Vector Regression depends only on a subset of the training data. This is illustrated by the image below,\n",
    "\n",
    "![SVR](media/svr.png)\n",
    "\n",
    "The model fits a decision boundary line for which the support vectors are within a certain deviation. Then, that line is used to compute the predictions. For this, we can use the [SVR](https://scikit-learn.org/stable/modules/generated/sklearn.svm.SVR.html)  implementation from sklearn"
   ]
  },
  {
   "cell_type": "code",
   "execution_count": 12,
   "metadata": {
    "colab": {
     "base_uri": "https://localhost:8080/",
     "height": 68
    },
    "colab_type": "code",
    "id": "gd5wYqrmqi9p",
    "outputId": "3b4628a7-24c7-403a-d6e3-38a09e6e0faf"
   },
   "outputs": [
    {
     "data": {
      "text/plain": [
       "SVR()"
      ]
     },
     "execution_count": 12,
     "metadata": {},
     "output_type": "execute_result"
    }
   ],
   "source": [
    "# Load the Boston Dataset (Regression)\n",
    "from sklearn.datasets import load_boston\n",
    "X, y = load_boston(return_X_y=True)\n",
    "X_train, X_test, y_train, y_test = train_test_split(X, y, test_size=0.2)\n",
    "\n",
    "# Import the SVR estimator\n",
    "from sklearn.svm import SVR\n",
    "\n",
    "# Create the SVR estimator\n",
    "svr = SVR()\n",
    "svr"
   ]
  },
  {
   "cell_type": "code",
   "execution_count": 13,
   "metadata": {
    "colab": {
     "base_uri": "https://localhost:8080/",
     "height": 374
    },
    "colab_type": "code",
    "id": "wsPapQsnDYOH",
    "outputId": "821bd78d-838b-435c-b97b-a451a98a0fa7"
   },
   "outputs": [
    {
     "data": {
      "text/plain": [
       "array([21.58720689, 18.82692254, 20.70769101, 16.52914393, 23.7526897 ,\n",
       "       16.67532539, 16.55840991, 22.54229267, 22.37610711, 22.86134232,\n",
       "       24.4815473 , 16.43663232, 22.36702254, 19.18555794, 20.21062459,\n",
       "       21.35628719, 16.46185949, 24.31662081, 20.53776927, 16.75583856,\n",
       "       24.62626045, 22.3599806 , 15.3566948 , 15.57040899, 23.30433189,\n",
       "       22.89102035, 21.07420063, 16.07129549, 20.12063296, 16.47212337,\n",
       "       23.09656166, 16.90147759, 19.34141377, 23.21402682, 23.88064401,\n",
       "       25.03503635, 19.35068821, 19.4119772 , 25.09519734, 23.65888161,\n",
       "       23.71016504, 24.04311299, 24.33931089, 20.46162985, 16.47665338,\n",
       "       24.36508003, 23.1134712 , 21.34991834, 22.42440414, 16.51981806,\n",
       "       19.83017819, 22.12445704, 20.95794306, 24.37619864, 23.68432891,\n",
       "       23.97775228, 19.54498852, 15.43951135, 24.6561844 , 23.055603  ,\n",
       "       16.48018018, 23.32365994, 22.41683119, 21.66919585, 19.30724829,\n",
       "       23.22755775, 22.13317714, 16.34213624, 19.80150991, 24.92729514,\n",
       "       23.07381128, 24.24737232, 24.68050986, 21.98533309, 13.41226459,\n",
       "       23.79045177, 19.39985235, 22.51408686, 23.48930907, 20.17522049,\n",
       "       21.87048329, 21.70704273, 16.86052214, 16.53932523, 23.22215709,\n",
       "       16.48089897, 16.08585245, 16.47071725, 23.28425902, 22.33310408,\n",
       "       16.17206455, 22.87638511, 21.16818384, 23.4701329 , 22.22831121,\n",
       "       16.47611999, 23.08071385, 13.27779584, 25.27685001, 23.55117395,\n",
       "       23.45711667, 16.56699707])"
      ]
     },
     "execution_count": 13,
     "metadata": {},
     "output_type": "execute_result"
    }
   ],
   "source": [
    "# Fit the SVR estimator\n",
    "svr.fit(X_train, y_train)\n",
    "# Make predictions\n",
    "svr.predict(X_test)"
   ]
  },
  {
   "cell_type": "code",
   "execution_count": 14,
   "metadata": {
    "colab": {
     "base_uri": "https://localhost:8080/",
     "height": 34
    },
    "colab_type": "code",
    "id": "9pZKnM3WCpIM",
    "outputId": "57024901-281a-415b-c21b-6d6a54470218"
   },
   "outputs": [
    {
     "data": {
      "text/plain": [
       "0.20019357656938241"
      ]
     },
     "execution_count": 14,
     "metadata": {},
     "output_type": "execute_result"
    }
   ],
   "source": [
    "# Score the estimator (using R^2)\n",
    "svr.score(X_test, y_test)"
   ]
  },
  {
   "cell_type": "markdown",
   "metadata": {
    "colab_type": "text",
    "id": "5YmdLkYKA-Q9"
   },
   "source": [
    "## Conclusion\n",
    "\n",
    "That's it for Support Vector Machines! Below is the recap of the main points of this SLU:\n",
    " \n",
    "\n",
    "*   p-dimensional hyperplanes can be used as decision boundaries\n",
    "*   Maximal Margin Classifier uses the optimal separating hyperplane\n",
    "*   SVC uses a soft margin to allow misclassifications\n",
    "*   SVM uses kernels to handle non-linearity\n",
    "*   Extension to multi-class can be achieved with OVO and OVR\n",
    "*   Extension to regression can be done with SVR\n",
    "\n",
    "### Further readings\n",
    "\n",
    "[The Kernel method](https://en.wikipedia.org/wiki/Kernel_method)\n",
    "\n",
    "[Support Vector Regression](https://medium.com/coinmonks/support-vector-regression-or-svr-8eb3acf6d0ff)\n",
    "\n",
    " Witten, Daniela, et al. “Chapter 9.” An Introduction to Statistical Learning, by Gareth James, Springer, 2017.\n"
   ]
  }
 ],
 "metadata": {
  "colab": {
   "collapsed_sections": [],
   "name": "Learning notebook - SLU12 (Support Vector Machines).ipynb",
   "provenance": [],
   "toc_visible": true,
   "version": "0.3.2"
  },
  "kernelspec": {
   "display_name": "Python 3 (ipykernel)",
   "language": "python",
   "name": "python3"
  },
  "language_info": {
   "codemirror_mode": {
    "name": "ipython",
    "version": 3
   },
   "file_extension": ".py",
   "mimetype": "text/x-python",
   "name": "python",
   "nbconvert_exporter": "python",
   "pygments_lexer": "ipython3",
   "version": "3.8.14"
  }
 },
 "nbformat": 4,
 "nbformat_minor": 1
}
