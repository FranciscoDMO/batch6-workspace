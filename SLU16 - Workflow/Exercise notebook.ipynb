{
 "cells": [
  {
   "cell_type": "markdown",
   "id": "fba84fc3",
   "metadata": {
    "deletable": false,
    "editable": false,
    "nbgrader": {
     "grade": false,
     "grade_id": "cell-95630bbc79890e36",
     "locked": true,
     "schema_version": 3,
     "solution": false,
     "task": false
    }
   },
   "source": [
    "# SLU16 - Workflow: Exercise Notebook"
   ]
  },
  {
   "cell_type": "code",
   "execution_count": 1,
   "id": "09ef698a",
   "metadata": {
    "deletable": false,
    "editable": false,
    "nbgrader": {
     "grade": false,
     "grade_id": "cell-2f7d8358f51a95c7",
     "locked": true,
     "schema_version": 3,
     "solution": false,
     "task": false
    }
   },
   "outputs": [],
   "source": [
    "import random\n",
    "import pandas as pd\n",
    "import matplotlib.pyplot as plt\n",
    "\n",
    "from sklearn import linear_model\n",
    "from sklearn.pipeline import make_pipeline\n",
    "from sklearn.preprocessing import MinMaxScaler\n",
    "from sklearn.ensemble import RandomForestClassifier\n",
    "from sklearn.metrics import accuracy_score\n",
    "from sklearn.base import TransformerMixin\n",
    "from sklearn.model_selection import train_test_split\n",
    "from sklearn.impute import SimpleImputer\n",
    "\n",
    "from hashlib import sha1 # just for grading purposes\n",
    "import json # just for grading purposes\n",
    "\n",
    "from utils import workflow_steps, data_analysis_steps\n",
    "\n",
    "def _hash(obj, salt='none'):\n",
    "    if type(obj) is not str:\n",
    "        obj = json.dumps(obj)\n",
    "    to_encode = obj + salt\n",
    "    return sha1(to_encode.encode()).hexdigest()\n",
    "import warnings\n",
    "warnings.filterwarnings('ignore')"
   ]
  },
  {
   "cell_type": "markdown",
   "id": "4a2bbc27",
   "metadata": {
    "deletable": false,
    "editable": false,
    "nbgrader": {
     "grade": false,
     "grade_id": "cell-fa8e9c716561a3a0",
     "locked": true,
     "schema_version": 3,
     "solution": false,
     "task": false
    }
   },
   "source": [
    "In this notebook we will be covering the following:\n",
    "\n",
    "* Workflow\n",
    " * Step 1: Get the data\n",
    " * Step 2: Data analysis and preparation\n",
    "   * 2.1 Data analysis\n",
    "   * 2.2 Dealing with data problems\n",
    "   * 2.3 Feature engineering\n",
    "   * 2.4 Feature selection\n",
    " * Step 3: Model training\n",
    " * Step 4: Evaluate results\n",
    "* Pipelines and Custom estimators\n",
    "    * Pipelines \n",
    "        * Doing it \"the hard way\"\n",
    "        * What is a pipeline\n",
    "        * Setting up a pipeline\n",
    "    * Custom Objects\n",
    "        * Custom Transformers\n",
    "        * Custom Estimators"
   ]
  },
  {
   "cell_type": "markdown",
   "id": "fa0379fe",
   "metadata": {
    "deletable": false,
    "editable": false,
    "nbgrader": {
     "grade": false,
     "grade_id": "cell-017c07341b261351",
     "locked": true,
     "schema_version": 3,
     "solution": false,
     "task": false
    }
   },
   "source": [
    "A data science **workflow** defines the phases (or steps) in a data science project. Using a well-defined data science workflow is useful not only to you, but your teammates as it provides a simple way to clearly structure and organize a data science project. Across this specialization we've been covering the different steps in this workflow, but how well are you familiarised with them?"
   ]
  },
  {
   "cell_type": "markdown",
   "id": "b32cf131",
   "metadata": {
    "deletable": false,
    "editable": false,
    "nbgrader": {
     "grade": false,
     "grade_id": "cell-cc4e9e934ce2b450",
     "locked": true,
     "schema_version": 3,
     "solution": false,
     "task": false
    }
   },
   "source": [
    "## Exercise 1: Workflow"
   ]
  },
  {
   "cell_type": "markdown",
   "id": "66022a78",
   "metadata": {
    "deletable": false,
    "editable": false,
    "nbgrader": {
     "grade": false,
     "grade_id": "cell-cab312b59a379771",
     "locked": true,
     "schema_version": 3,
     "solution": false,
     "task": false
    }
   },
   "source": [
    "### Exercise 1.1 - Overall workflow steps"
   ]
  },
  {
   "cell_type": "markdown",
   "id": "1eb7ce91",
   "metadata": {
    "deletable": false,
    "editable": false,
    "nbgrader": {
     "grade": false,
     "grade_id": "cell-43d6817e1deb33e3",
     "locked": true,
     "schema_version": 3,
     "solution": false,
     "task": false
    }
   },
   "source": [
    "What are the basic workflow steps?\n",
    "\n",
    "You probably know them already, but we want you to really internalize them. We've given you a list of steps in `workflow_steps`, but it appears that, not only does it have to many steps, some are _probably_ wrong, as well.\n",
    "\n",
    "Select the correct ones and reorder them!"
   ]
  },
  {
   "cell_type": "code",
   "execution_count": 2,
   "id": "2ae1b06d",
   "metadata": {
    "deletable": false,
    "editable": false,
    "nbgrader": {
     "grade": false,
     "grade_id": "cell-c5101e47a4828368",
     "locked": true,
     "schema_version": 3,
     "solution": false,
     "task": false
    }
   },
   "outputs": [
    {
     "name": "stdout",
     "output_type": "stream",
     "text": [
      "Workflow steps:\n",
      "1 :  Iterate\n",
      "2 :  Establish a Baseline\n",
      "3 :  Data analysis and preparation\n",
      "4 :  Google Hackathon solutions\n",
      "5 :  Evaluate results\n",
      "6 :  Increase complexity\n",
      "7 :  Spam\n",
      "8 :  Get the data\n",
      "9 :  Watch Netflix\n",
      "10 :  Train model\n"
     ]
    }
   ],
   "source": [
    "print(\"Workflow steps:\")\n",
    "for i in range(len(workflow_steps)):\n",
    "    print(i+1, ': ', workflow_steps[i])"
   ]
  },
  {
   "cell_type": "code",
   "execution_count": 3,
   "id": "d50e8f62",
   "metadata": {
    "deletable": false,
    "nbgrader": {
     "grade": false,
     "grade_id": "cell-eb636145aa25eef4",
     "locked": false,
     "schema_version": 3,
     "solution": true,
     "task": false
    }
   },
   "outputs": [],
   "source": [
    "# Exercise 1.1. Filter and sort the names of the steps in the workflow_steps list\n",
    "x=workflow_steps\n",
    "workflow_steps_answer = ['Get the data', 'Data analysis and preparation', 'Train model', 'Evaluate results', 'Iterate']\n",
    "    \n"
   ]
  },
  {
   "cell_type": "code",
   "execution_count": 4,
   "id": "ce2728e0",
   "metadata": {
    "deletable": false,
    "editable": false,
    "nbgrader": {
     "grade": true,
     "grade_id": "cell-8c9ae302d2c9c48c",
     "locked": true,
     "points": 1,
     "schema_version": 3,
     "solution": false,
     "task": false
    }
   },
   "outputs": [],
   "source": [
    "assert _hash(len(workflow_steps_answer), 'salt0') == '253bd16d7f97f7d7295d404825e32985d257e11f', \"your workflow size doesn't look right! Don't forget to remove steps that shouldn't be there\"\n",
    "assert _hash([step.lower() for step in workflow_steps_answer], 'salt0') == '701e2306da9bfde36382bdb6feb80a354916ebf4', \"your workflow order doesn't look right! Some steps might be out of place\"\n"
   ]
  },
  {
   "cell_type": "markdown",
   "id": "d6f7c415",
   "metadata": {
    "deletable": false,
    "editable": false,
    "nbgrader": {
     "grade": false,
     "grade_id": "cell-9794a05f48292719",
     "locked": true,
     "schema_version": 3,
     "solution": false,
     "task": false
    }
   },
   "source": [
    "## Exercise 1.2: Data Analysis and Preparation"
   ]
  },
  {
   "cell_type": "markdown",
   "id": "ab02f4fa",
   "metadata": {
    "deletable": false,
    "editable": false,
    "nbgrader": {
     "grade": false,
     "grade_id": "cell-f258575f6c7a6dc6",
     "locked": true,
     "schema_version": 3,
     "solution": false,
     "task": false
    }
   },
   "source": [
    "There are way too many substeps in the **Data Analysis and Preparation** step to group them all under a single category. We've given you another list of steps: `data_analysis_steps`.\n",
    "\n",
    "Aside from being shuffled, it should be fine but keep an eye out. You never know what to expect..."
   ]
  },
  {
   "cell_type": "code",
   "execution_count": 5,
   "id": "397e0bfa",
   "metadata": {
    "deletable": false,
    "editable": false,
    "nbgrader": {
     "grade": false,
     "grade_id": "cell-28be987a3be96809",
     "locked": true,
     "schema_version": 3,
     "solution": false,
     "task": false
    }
   },
   "outputs": [
    {
     "name": "stdout",
     "output_type": "stream",
     "text": [
      "Data Analysis and Preparation steps:\n",
      "1 :  Feature selection\n",
      "2 :  Data analysis\n",
      "3 :  Dealing with data problems\n",
      "4 :  Feature engineering\n",
      "5 :  Spanish Inquisition\n"
     ]
    }
   ],
   "source": [
    "print(\"Data Analysis and Preparation steps:\")\n",
    "for i in range(len(data_analysis_steps)):\n",
    "    print(i+1, ': ', data_analysis_steps[i])"
   ]
  },
  {
   "cell_type": "code",
   "execution_count": 6,
   "id": "b4116241",
   "metadata": {
    "deletable": false,
    "nbgrader": {
     "grade": false,
     "grade_id": "cell-2dab17640925e0d9",
     "locked": false,
     "schema_version": 3,
     "solution": true,
     "task": false
    }
   },
   "outputs": [],
   "source": [
    "# Exercise 1.2. Filter and sort the names of the steps in the data_analysis_steps list\n",
    "x = data_analysis_steps\n",
    "data_analysis_steps_answer = ['Data analysis',\n",
    " 'Dealing with data problems',\n",
    " 'Feature engineering',\n",
    " 'Feature selection']"
   ]
  },
  {
   "cell_type": "code",
   "execution_count": 7,
   "id": "09b060a6",
   "metadata": {
    "deletable": false,
    "editable": false,
    "nbgrader": {
     "grade": true,
     "grade_id": "cell-6d6087c6110d2371",
     "locked": true,
     "points": 1,
     "schema_version": 3,
     "solution": false,
     "task": false
    }
   },
   "outputs": [],
   "source": [
    "assert _hash(len(data_analysis_steps_answer), 'salt0') == '3aa298b947129ff226ba1e3f545f8b5ffaa6e557', \"your workflow size doesn't look right! Don't forget to remove steps that shouldn't be there\"\n",
    "assert _hash([step.lower() for step in data_analysis_steps_answer], 'salt0') == '658ab90eff4a0cea2bfb51cc89c8db5b4121fa86', \"your workflow order doesn't look right! Some steps might be out of place\"\n"
   ]
  },
  {
   "cell_type": "markdown",
   "id": "23109fc9",
   "metadata": {
    "deletable": false,
    "editable": false,
    "nbgrader": {
     "grade": false,
     "grade_id": "cell-010003b31ea0fd27",
     "locked": true,
     "schema_version": 3,
     "solution": false,
     "task": false
    }
   },
   "source": [
    "<img src=\"media/spanish_inquisition.gif\" width=\"400\" />"
   ]
  },
  {
   "cell_type": "markdown",
   "id": "b4bb77b6",
   "metadata": {
    "deletable": false,
    "editable": false,
    "nbgrader": {
     "grade": false,
     "grade_id": "cell-7152f046d21dcd9d",
     "locked": true,
     "schema_version": 3,
     "solution": false,
     "task": false
    }
   },
   "source": [
    "## Exercise 2 - Walking down the yellow (workflow) path"
   ]
  },
  {
   "cell_type": "markdown",
   "id": "5ee5d448",
   "metadata": {
    "deletable": false,
    "editable": false,
    "nbgrader": {
     "grade": false,
     "grade_id": "cell-ba6650bcf67a8fa3",
     "locked": true,
     "schema_version": 3,
     "solution": false,
     "task": false
    }
   },
   "source": [
    "There is no template for solving a data science problem. The roadmap changes with every new dataset and new problem. But we do see similar steps in many different projects. Regardless, some steps are fairly common in any process. Let's go through them one by one."
   ]
  },
  {
   "cell_type": "markdown",
   "id": "8032e7fb",
   "metadata": {
    "deletable": false,
    "editable": false,
    "nbgrader": {
     "grade": false,
     "grade_id": "cell-bb496988687ae3d6",
     "locked": true,
     "schema_version": 3,
     "solution": false,
     "task": false
    }
   },
   "source": [
    "### Exercise 2.1 - Objective"
   ]
  },
  {
   "cell_type": "markdown",
   "id": "474c2754",
   "metadata": {
    "deletable": false,
    "editable": false,
    "nbgrader": {
     "grade": false,
     "grade_id": "cell-7a140029ef4d8d6c",
     "locked": true,
     "schema_version": 3,
     "solution": false,
     "task": false
    }
   },
   "source": [
    "Every DS analysis should start with one question: **What is the problem you are trying to solve?** Clearly stating your problem is the first step to solving it and without a clear problem, you could find yourself down a data-science rabbit-hole.\n",
    "\n",
    "For this workflow, we are going to analyze the **highest ranked movies on IMDB.com**. The objective? \n",
    "\n",
    "> I want to build a model to predict IMDB movie rating based on features like budget, runtime, and votes on the website."
   ]
  },
  {
   "cell_type": "markdown",
   "id": "b11896f0",
   "metadata": {
    "deletable": false,
    "editable": false,
    "nbgrader": {
     "grade": false,
     "grade_id": "cell-263f1d315649fb6f",
     "locked": true,
     "schema_version": 3,
     "solution": false,
     "task": false
    }
   },
   "source": [
    "#### Exercise 2.1.1 - Objective\n",
    "Let's start by importing the dataset. "
   ]
  },
  {
   "cell_type": "code",
   "execution_count": 8,
   "id": "18917a09",
   "metadata": {
    "deletable": false,
    "editable": false,
    "nbgrader": {
     "grade": false,
     "grade_id": "cell-a7a6a16a20aec456",
     "locked": true,
     "schema_version": 3,
     "solution": false,
     "task": false
    }
   },
   "outputs": [
    {
     "data": {
      "text/html": [
       "<div>\n",
       "<style scoped>\n",
       "    .dataframe tbody tr th:only-of-type {\n",
       "        vertical-align: middle;\n",
       "    }\n",
       "\n",
       "    .dataframe tbody tr th {\n",
       "        vertical-align: top;\n",
       "    }\n",
       "\n",
       "    .dataframe thead th {\n",
       "        text-align: right;\n",
       "    }\n",
       "</style>\n",
       "<table border=\"1\" class=\"dataframe\">\n",
       "  <thead>\n",
       "    <tr style=\"text-align: right;\">\n",
       "      <th></th>\n",
       "      <th>Title</th>\n",
       "      <th>Rating</th>\n",
       "      <th>TotalVotes</th>\n",
       "      <th>Genre1</th>\n",
       "      <th>Genre2</th>\n",
       "      <th>Genre3</th>\n",
       "      <th>MetaCritic</th>\n",
       "      <th>Budget</th>\n",
       "      <th>Runtime</th>\n",
       "      <th>ï..CVotes10</th>\n",
       "      <th>...</th>\n",
       "      <th>Votes3044</th>\n",
       "      <th>Votes3044M</th>\n",
       "      <th>Votes3044F</th>\n",
       "      <th>Votes45A</th>\n",
       "      <th>Votes45AM</th>\n",
       "      <th>Votes45AF</th>\n",
       "      <th>VotesIMDB</th>\n",
       "      <th>Votes1000</th>\n",
       "      <th>VotesUS</th>\n",
       "      <th>VotesnUS</th>\n",
       "    </tr>\n",
       "  </thead>\n",
       "  <tbody>\n",
       "    <tr>\n",
       "      <th>1</th>\n",
       "      <td>12 Years a Slave (2013)</td>\n",
       "      <td>8.1</td>\n",
       "      <td>496,092</td>\n",
       "      <td>Biography</td>\n",
       "      <td>Drama</td>\n",
       "      <td>History</td>\n",
       "      <td>96.0</td>\n",
       "      <td>$20,000,000</td>\n",
       "      <td>134 min</td>\n",
       "      <td>75556</td>\n",
       "      <td>...</td>\n",
       "      <td>8.0</td>\n",
       "      <td>7.9</td>\n",
       "      <td>8.0</td>\n",
       "      <td>7.8</td>\n",
       "      <td>7.8</td>\n",
       "      <td>8.1</td>\n",
       "      <td>8.0</td>\n",
       "      <td>7.7</td>\n",
       "      <td>8.3</td>\n",
       "      <td>8.0</td>\n",
       "    </tr>\n",
       "    <tr>\n",
       "      <th>2</th>\n",
       "      <td>127 Hours (2010)</td>\n",
       "      <td>7.6</td>\n",
       "      <td>297,075</td>\n",
       "      <td>Adventure</td>\n",
       "      <td>Biography</td>\n",
       "      <td>Drama</td>\n",
       "      <td>82.0</td>\n",
       "      <td>$18,000,000</td>\n",
       "      <td>94 min</td>\n",
       "      <td>28939</td>\n",
       "      <td>...</td>\n",
       "      <td>7.5</td>\n",
       "      <td>7.5</td>\n",
       "      <td>7.5</td>\n",
       "      <td>7.3</td>\n",
       "      <td>7.3</td>\n",
       "      <td>7.5</td>\n",
       "      <td>7.6</td>\n",
       "      <td>7.0</td>\n",
       "      <td>7.7</td>\n",
       "      <td>7.6</td>\n",
       "    </tr>\n",
       "    <tr>\n",
       "      <th>3</th>\n",
       "      <td>50/50 (2011)</td>\n",
       "      <td>7.7</td>\n",
       "      <td>283,935</td>\n",
       "      <td>Comedy</td>\n",
       "      <td>Drama</td>\n",
       "      <td>Romance</td>\n",
       "      <td>72.0</td>\n",
       "      <td>$8,000,000</td>\n",
       "      <td>100 min</td>\n",
       "      <td>28304</td>\n",
       "      <td>...</td>\n",
       "      <td>7.6</td>\n",
       "      <td>7.6</td>\n",
       "      <td>7.6</td>\n",
       "      <td>7.4</td>\n",
       "      <td>7.4</td>\n",
       "      <td>7.5</td>\n",
       "      <td>7.4</td>\n",
       "      <td>7.0</td>\n",
       "      <td>7.9</td>\n",
       "      <td>7.6</td>\n",
       "    </tr>\n",
       "    <tr>\n",
       "      <th>4</th>\n",
       "      <td>About Time (2013)</td>\n",
       "      <td>7.8</td>\n",
       "      <td>225,412</td>\n",
       "      <td>Comedy</td>\n",
       "      <td>Drama</td>\n",
       "      <td>Fantasy</td>\n",
       "      <td>NaN</td>\n",
       "      <td>$12,000,000</td>\n",
       "      <td>123 min</td>\n",
       "      <td>38556</td>\n",
       "      <td>...</td>\n",
       "      <td>7.6</td>\n",
       "      <td>7.6</td>\n",
       "      <td>7.7</td>\n",
       "      <td>7.6</td>\n",
       "      <td>7.5</td>\n",
       "      <td>7.8</td>\n",
       "      <td>7.7</td>\n",
       "      <td>6.9</td>\n",
       "      <td>7.8</td>\n",
       "      <td>7.7</td>\n",
       "    </tr>\n",
       "    <tr>\n",
       "      <th>5</th>\n",
       "      <td>Amour (2012)</td>\n",
       "      <td>7.9</td>\n",
       "      <td>76,121</td>\n",
       "      <td>Drama</td>\n",
       "      <td>Romance</td>\n",
       "      <td>NaN</td>\n",
       "      <td>94.0</td>\n",
       "      <td>$8,900,000</td>\n",
       "      <td>127 min</td>\n",
       "      <td>11093</td>\n",
       "      <td>...</td>\n",
       "      <td>7.7</td>\n",
       "      <td>7.7</td>\n",
       "      <td>7.9</td>\n",
       "      <td>7.9</td>\n",
       "      <td>7.8</td>\n",
       "      <td>8.1</td>\n",
       "      <td>6.6</td>\n",
       "      <td>7.2</td>\n",
       "      <td>7.9</td>\n",
       "      <td>7.8</td>\n",
       "    </tr>\n",
       "  </tbody>\n",
       "</table>\n",
       "<p>5 rows × 54 columns</p>\n",
       "</div>"
      ],
      "text/plain": [
       "                     Title  Rating TotalVotes     Genre1     Genre2   Genre3  \\\n",
       "1  12 Years a Slave (2013)     8.1    496,092  Biography      Drama  History   \n",
       "2         127 Hours (2010)     7.6    297,075  Adventure  Biography    Drama   \n",
       "3             50/50 (2011)     7.7    283,935     Comedy      Drama  Romance   \n",
       "4        About Time (2013)     7.8    225,412     Comedy      Drama  Fantasy   \n",
       "5             Amour (2012)     7.9     76,121      Drama    Romance      NaN   \n",
       "\n",
       "   MetaCritic        Budget  Runtime  ï..CVotes10  ...  Votes3044  Votes3044M  \\\n",
       "1        96.0  $20,000,000   134 min        75556  ...        8.0         7.9   \n",
       "2        82.0  $18,000,000    94 min        28939  ...        7.5         7.5   \n",
       "3        72.0   $8,000,000   100 min        28304  ...        7.6         7.6   \n",
       "4         NaN  $12,000,000   123 min        38556  ...        7.6         7.6   \n",
       "5        94.0   $8,900,000   127 min        11093  ...        7.7         7.7   \n",
       "\n",
       "   Votes3044F  Votes45A  Votes45AM  Votes45AF  VotesIMDB  Votes1000  VotesUS  \\\n",
       "1         8.0       7.8        7.8        8.1        8.0        7.7      8.3   \n",
       "2         7.5       7.3        7.3        7.5        7.6        7.0      7.7   \n",
       "3         7.6       7.4        7.4        7.5        7.4        7.0      7.9   \n",
       "4         7.7       7.6        7.5        7.8        7.7        6.9      7.8   \n",
       "5         7.9       7.9        7.8        8.1        6.6        7.2      7.9   \n",
       "\n",
       "  VotesnUS  \n",
       "1      8.0  \n",
       "2      7.6  \n",
       "3      7.6  \n",
       "4      7.7  \n",
       "5      7.8  \n",
       "\n",
       "[5 rows x 54 columns]"
      ]
     },
     "execution_count": 8,
     "metadata": {},
     "output_type": "execute_result"
    }
   ],
   "source": [
    "df = pd.read_csv('data/IMDB.csv', index_col=0, encoding='latin-1')\n",
    "df.head()"
   ]
  },
  {
   "cell_type": "code",
   "execution_count": 9,
   "id": "0e5a2f49",
   "metadata": {
    "deletable": false,
    "nbgrader": {
     "grade": false,
     "grade_id": "cell-7bac9e5a5b30e333",
     "locked": false,
     "schema_version": 3,
     "solution": true,
     "task": false
    }
   },
   "outputs": [],
   "source": [
    "# Is the objective clear to you?\n",
    "# This is just a yes or no question, no need for code here! :P \n",
    "answer_2_1_1=True"
   ]
  },
  {
   "cell_type": "code",
   "execution_count": 10,
   "id": "8d55c39b",
   "metadata": {
    "deletable": false,
    "editable": false,
    "nbgrader": {
     "grade": true,
     "grade_id": "cell-dad9e0e457bf29a1",
     "locked": true,
     "points": 0,
     "schema_version": 3,
     "solution": false,
     "task": false
    }
   },
   "outputs": [],
   "source": [
    "assert answer_2_1_1, \"Don't make the panda sad!\""
   ]
  },
  {
   "cell_type": "markdown",
   "id": "332cb222",
   "metadata": {},
   "source": [
    "#### Exercise 2.1.2 - Clasifying the problem\n",
    "Now that we have our data imported into Pandas and we've checked out the first few rows of our dataframe, there's a few questions we need to answer before we move on:\n",
    "\n",
    "- *A*: Is this **supervised learning** or **unsupervised learning**? \n",
    "- *B*: Is this a **classification problem** or is it a **regression problem**? \n",
    "- *C*: Is this a **prediction problem** or an **inference problem**?\n",
    "\n",
    "Keeping our **objective in mind** how would you classify this problem?\n",
    "\n",
    "In our example, we are going to be using **regression** to **predict** IMDB rating from Metacritic Ratings, Budgets, Runtime, and Votes.\n",
    "\n",
    "Save, in `answer_2_1_2`, the value from **A, B and C** that apply to our problem!"
   ]
  },
  {
   "cell_type": "code",
   "execution_count": 11,
   "id": "c6af8f33",
   "metadata": {
    "deletable": false,
    "nbgrader": {
     "grade": false,
     "grade_id": "cell-26745fdc9dca03d8",
     "locked": false,
     "schema_version": 3,
     "solution": true,
     "task": false
    }
   },
   "outputs": [],
   "source": [
    "# Remove from the string what doesn't apply to our problem (including the '/')\n",
    "answer_2_1_2 = [\"supervised learning\",\"regression problem\", \"prediction problem\"]\n"
   ]
  },
  {
   "cell_type": "code",
   "execution_count": 12,
   "id": "52df5101",
   "metadata": {
    "deletable": false,
    "editable": false,
    "nbgrader": {
     "grade": true,
     "grade_id": "cell-80d1e9191be2cad6",
     "locked": true,
     "points": 1,
     "schema_version": 3,
     "solution": false,
     "task": false
    }
   },
   "outputs": [],
   "source": [
    "assert _hash(len(answer_2_1_2), 'salt0') == 'bb6591f296df2e5dd0324184f4348795b760f11d', \"your answer doesn't have the correct size. I've asked you to pick the correct option for three questions\"\n",
    "assert _hash([step.lower() for step in answer_2_1_2], 'salt0') == '316a377a65564efdcfaadfec185b3e53aa41995e', \"One or more of your answers is incorrect.\""
   ]
  },
  {
   "cell_type": "markdown",
   "id": "d12f2d77",
   "metadata": {
    "deletable": false,
    "editable": false,
    "nbgrader": {
     "grade": false,
     "grade_id": "cell-8b336c0b944c04c4",
     "locked": true,
     "schema_version": 3,
     "solution": false,
     "task": false
    }
   },
   "source": [
    "### Exercise 2.2 - Data Exploration and Data Cleaning"
   ]
  },
  {
   "cell_type": "markdown",
   "id": "61809799",
   "metadata": {
    "deletable": false,
    "editable": false,
    "nbgrader": {
     "grade": false,
     "grade_id": "cell-3cab1bebd529a56a",
     "locked": true,
     "schema_version": 3,
     "solution": false,
     "task": false
    }
   },
   "source": [
    "Back to our data! Let’s determine which variable is our target and which features we think are important.\n",
    "Our target is going to be the column titled **Rating** and our features are going to be the columns titled the following: **Rating, TotalVotes, MetaCritic, Budget, Runtime, VotesUS and VotesnUS**, in this order. Remove all of the columns we don’t need for this analysis.\n",
    "\n",
    "Save the resulting dataframe in `df_clean`. \n",
    "\n",
    "Remember, in this case we're telling you what columns are to be kept, but this is something that is part of your workflow process. **A good data exploration and data cleaning is a key factor in the outcome of your model!**"
   ]
  },
  {
   "cell_type": "code",
   "execution_count": 13,
   "id": "f4f580ee",
   "metadata": {
    "deletable": false,
    "nbgrader": {
     "grade": false,
     "grade_id": "cell-138aa6edcbd29190",
     "locked": false,
     "schema_version": 3,
     "solution": true,
     "task": false
    }
   },
   "outputs": [
    {
     "data": {
      "text/html": [
       "<div>\n",
       "<style scoped>\n",
       "    .dataframe tbody tr th:only-of-type {\n",
       "        vertical-align: middle;\n",
       "    }\n",
       "\n",
       "    .dataframe tbody tr th {\n",
       "        vertical-align: top;\n",
       "    }\n",
       "\n",
       "    .dataframe thead th {\n",
       "        text-align: right;\n",
       "    }\n",
       "</style>\n",
       "<table border=\"1\" class=\"dataframe\">\n",
       "  <thead>\n",
       "    <tr style=\"text-align: right;\">\n",
       "      <th></th>\n",
       "      <th>Rating</th>\n",
       "      <th>TotalVotes</th>\n",
       "      <th>MetaCritic</th>\n",
       "      <th>Budget</th>\n",
       "      <th>Runtime</th>\n",
       "      <th>VotesUS</th>\n",
       "      <th>VotesnUS</th>\n",
       "    </tr>\n",
       "  </thead>\n",
       "  <tbody>\n",
       "    <tr>\n",
       "      <th>1</th>\n",
       "      <td>8.1</td>\n",
       "      <td>496,092</td>\n",
       "      <td>96.0</td>\n",
       "      <td>$20,000,000</td>\n",
       "      <td>134 min</td>\n",
       "      <td>8.3</td>\n",
       "      <td>8.0</td>\n",
       "    </tr>\n",
       "    <tr>\n",
       "      <th>2</th>\n",
       "      <td>7.6</td>\n",
       "      <td>297,075</td>\n",
       "      <td>82.0</td>\n",
       "      <td>$18,000,000</td>\n",
       "      <td>94 min</td>\n",
       "      <td>7.7</td>\n",
       "      <td>7.6</td>\n",
       "    </tr>\n",
       "    <tr>\n",
       "      <th>3</th>\n",
       "      <td>7.7</td>\n",
       "      <td>283,935</td>\n",
       "      <td>72.0</td>\n",
       "      <td>$8,000,000</td>\n",
       "      <td>100 min</td>\n",
       "      <td>7.9</td>\n",
       "      <td>7.6</td>\n",
       "    </tr>\n",
       "    <tr>\n",
       "      <th>4</th>\n",
       "      <td>7.8</td>\n",
       "      <td>225,412</td>\n",
       "      <td>NaN</td>\n",
       "      <td>$12,000,000</td>\n",
       "      <td>123 min</td>\n",
       "      <td>7.8</td>\n",
       "      <td>7.7</td>\n",
       "    </tr>\n",
       "    <tr>\n",
       "      <th>5</th>\n",
       "      <td>7.9</td>\n",
       "      <td>76,121</td>\n",
       "      <td>94.0</td>\n",
       "      <td>$8,900,000</td>\n",
       "      <td>127 min</td>\n",
       "      <td>7.9</td>\n",
       "      <td>7.8</td>\n",
       "    </tr>\n",
       "    <tr>\n",
       "      <th>...</th>\n",
       "      <td>...</td>\n",
       "      <td>...</td>\n",
       "      <td>...</td>\n",
       "      <td>...</td>\n",
       "      <td>...</td>\n",
       "      <td>...</td>\n",
       "      <td>...</td>\n",
       "    </tr>\n",
       "    <tr>\n",
       "      <th>114</th>\n",
       "      <td>8.5</td>\n",
       "      <td>492,285</td>\n",
       "      <td>88.0</td>\n",
       "      <td>$3,300,000</td>\n",
       "      <td>107 min</td>\n",
       "      <td>8.6</td>\n",
       "      <td>8.4</td>\n",
       "    </tr>\n",
       "    <tr>\n",
       "      <th>115</th>\n",
       "      <td>7.7</td>\n",
       "      <td>295,125</td>\n",
       "      <td>72.0</td>\n",
       "      <td>Opening Weekend:         49,038,712           ...</td>\n",
       "      <td>NaN</td>\n",
       "      <td>7.9</td>\n",
       "      <td>7.6</td>\n",
       "    </tr>\n",
       "    <tr>\n",
       "      <th>116</th>\n",
       "      <td>8.0</td>\n",
       "      <td>560,736</td>\n",
       "      <td>74.0</td>\n",
       "      <td>$200,000,000</td>\n",
       "      <td>132 min</td>\n",
       "      <td>8.1</td>\n",
       "      <td>7.9</td>\n",
       "    </tr>\n",
       "    <tr>\n",
       "      <th>117</th>\n",
       "      <td>7.8</td>\n",
       "      <td>556,713</td>\n",
       "      <td>65.0</td>\n",
       "      <td>$160,000,000</td>\n",
       "      <td>132 min</td>\n",
       "      <td>7.8</td>\n",
       "      <td>7.7</td>\n",
       "    </tr>\n",
       "    <tr>\n",
       "      <th>118</th>\n",
       "      <td>8.1</td>\n",
       "      <td>309,474</td>\n",
       "      <td>78.0</td>\n",
       "      <td>$150,000,000</td>\n",
       "      <td>108 min</td>\n",
       "      <td>8.0</td>\n",
       "      <td>8.0</td>\n",
       "    </tr>\n",
       "  </tbody>\n",
       "</table>\n",
       "<p>118 rows × 7 columns</p>\n",
       "</div>"
      ],
      "text/plain": [
       "     Rating TotalVotes  MetaCritic  \\\n",
       "1       8.1    496,092        96.0   \n",
       "2       7.6    297,075        82.0   \n",
       "3       7.7    283,935        72.0   \n",
       "4       7.8    225,412         NaN   \n",
       "5       7.9     76,121        94.0   \n",
       "..      ...        ...         ...   \n",
       "114     8.5    492,285        88.0   \n",
       "115     7.7    295,125        72.0   \n",
       "116     8.0    560,736        74.0   \n",
       "117     7.8    556,713        65.0   \n",
       "118     8.1    309,474        78.0   \n",
       "\n",
       "                                                Budget  Runtime VotesUS  \\\n",
       "1                                         $20,000,000   134 min     8.3   \n",
       "2                                         $18,000,000    94 min     7.7   \n",
       "3                                          $8,000,000   100 min     7.9   \n",
       "4                                         $12,000,000   123 min     7.8   \n",
       "5                                          $8,900,000   127 min     7.9   \n",
       "..                                                 ...      ...     ...   \n",
       "114                                        $3,300,000   107 min     8.6   \n",
       "115  Opening Weekend:         49,038,712           ...      NaN     7.9   \n",
       "116                                      $200,000,000   132 min     8.1   \n",
       "117                                      $160,000,000   132 min     7.8   \n",
       "118                                      $150,000,000   108 min     8.0   \n",
       "\n",
       "    VotesnUS  \n",
       "1        8.0  \n",
       "2        7.6  \n",
       "3        7.6  \n",
       "4        7.7  \n",
       "5        7.8  \n",
       "..       ...  \n",
       "114      8.4  \n",
       "115      7.6  \n",
       "116      7.9  \n",
       "117      7.7  \n",
       "118      8.0  \n",
       "\n",
       "[118 rows x 7 columns]"
      ]
     },
     "execution_count": 13,
     "metadata": {},
     "output_type": "execute_result"
    }
   ],
   "source": [
    "df_clean = df[['Rating', 'TotalVotes', 'MetaCritic', 'Budget', 'Runtime', 'VotesUS' , 'VotesnUS']].copy()\n",
    "df_clean"
   ]
  },
  {
   "cell_type": "code",
   "execution_count": 14,
   "id": "d2460fe8",
   "metadata": {
    "deletable": false,
    "editable": false,
    "nbgrader": {
     "grade": true,
     "grade_id": "cell-797514f689b49b52",
     "locked": true,
     "points": 1,
     "schema_version": 3,
     "solution": false,
     "task": false
    }
   },
   "outputs": [],
   "source": [
    "assert isinstance(df_clean, pd.DataFrame), \"Should be a dataframe\"\n",
    "assert df_clean.shape == (118, 7), \"The shape of the dataframe is different then expected. Have you dropped the uncessessary columns?\"\n",
    "assert _hash([step.lower() for step in df_clean.columns], 'salt0') == 'a721c6ef4e309977818a8875f46459655f645b70', \"One or more of your column headers is incorrect.\"\n"
   ]
  },
  {
   "cell_type": "markdown",
   "id": "14b9d300",
   "metadata": {
    "deletable": false,
    "editable": false,
    "nbgrader": {
     "grade": false,
     "grade_id": "cell-0febe6071b3fff48",
     "locked": true,
     "schema_version": 3,
     "solution": false,
     "task": false
    }
   },
   "source": [
    "### Exercise 2.3 - EDA\n",
    "\n",
    "Exploratory data analysis (EDA) gives the data scientist an opportunity to really learn about the data they are working with. \n",
    "\n",
    "Throughout the EDA process, I clean the data. Data from the real world is *very messy*. As I work through the EDA process and learn about the data, I take notes on things I need to fix in order to conduct my analysis. Most times, **Data cleaning and EDA go hand in hand for me**."
   ]
  },
  {
   "cell_type": "markdown",
   "id": "1a41caa6",
   "metadata": {
    "deletable": false,
    "editable": false,
    "nbgrader": {
     "grade": false,
     "grade_id": "cell-a19ce7391b2591cd",
     "locked": true,
     "schema_version": 3,
     "solution": false,
     "task": false
    }
   },
   "source": [
    "The first thing I check is data types. Getting all of the values in the correct format is important. This can involve stripping characters from strings, converting integers to floats, or many other things."
   ]
  },
  {
   "cell_type": "code",
   "execution_count": 15,
   "id": "b77b7ed0",
   "metadata": {
    "deletable": false,
    "editable": false,
    "nbgrader": {
     "grade": false,
     "grade_id": "cell-c1df6eb16892c268",
     "locked": true,
     "schema_version": 3,
     "solution": false,
     "task": false
    }
   },
   "outputs": [
    {
     "data": {
      "text/plain": [
       "Rating        float64\n",
       "TotalVotes     object\n",
       "MetaCritic    float64\n",
       "Budget         object\n",
       "Runtime        object\n",
       "VotesUS        object\n",
       "VotesnUS       object\n",
       "dtype: object"
      ]
     },
     "execution_count": 15,
     "metadata": {},
     "output_type": "execute_result"
    }
   ],
   "source": [
    "df_clean.dtypes\n"
   ]
  },
  {
   "cell_type": "markdown",
   "id": "e8f67b1f",
   "metadata": {
    "deletable": false,
    "editable": false,
    "nbgrader": {
     "grade": false,
     "grade_id": "cell-74ae17235c8a2dd1",
     "locked": true,
     "schema_version": 3,
     "solution": false,
     "task": false
    }
   },
   "source": [
    "We can observe that the columns **Total Votes**, **Budget** and **Runtime** are not in the expected format (they're all as objects). \n",
    "\n",
    "Let's fix these columns one by one:"
   ]
  },
  {
   "cell_type": "markdown",
   "id": "a7b48b05",
   "metadata": {
    "deletable": false,
    "editable": false,
    "nbgrader": {
     "grade": false,
     "grade_id": "cell-c46e92b54d2e026f",
     "locked": true,
     "schema_version": 3,
     "solution": false,
     "task": false
    }
   },
   "source": [
    "#### Exercise 2.3.1 - Total Votes\n",
    "Remove the commas in the column and set its type as `int` "
   ]
  },
  {
   "cell_type": "code",
   "execution_count": 16,
   "id": "c3cb96eb",
   "metadata": {},
   "outputs": [
    {
     "data": {
      "text/plain": [
       "1      496,092\n",
       "2      297,075\n",
       "3      283,935\n",
       "4      225,412\n",
       "5       76,121\n",
       "        ...   \n",
       "114    492,285\n",
       "115    295,125\n",
       "116    560,736\n",
       "117    556,713\n",
       "118    309,474\n",
       "Name: TotalVotes, Length: 118, dtype: object"
      ]
     },
     "execution_count": 16,
     "metadata": {},
     "output_type": "execute_result"
    }
   ],
   "source": [
    "df_clean.TotalVotes"
   ]
  },
  {
   "cell_type": "code",
   "execution_count": 17,
   "id": "2d4d5783",
   "metadata": {
    "deletable": false,
    "nbgrader": {
     "grade": false,
     "grade_id": "cell-c0fece0cf6d920ba",
     "locked": false,
     "schema_version": 3,
     "solution": true,
     "task": false
    }
   },
   "outputs": [],
   "source": [
    "#hit: str.replace() and as.type() are your friends\n",
    "df_clean['TotalVotes']=df_clean['TotalVotes'].str.replace(',', '')\n",
    "df_clean.TotalVotes =df_clean.TotalVotes.astype('int')\n",
    "\n"
   ]
  },
  {
   "cell_type": "code",
   "execution_count": 18,
   "id": "e455301e",
   "metadata": {
    "deletable": false,
    "editable": false,
    "nbgrader": {
     "grade": true,
     "grade_id": "cell-80f21621753787af",
     "locked": true,
     "points": 1,
     "schema_version": 3,
     "solution": false,
     "task": false
    }
   },
   "outputs": [],
   "source": [
    "assert all(isinstance(item, int) for item in df_clean['TotalVotes']), \"TotalVotes should be saved as integers\" \n",
    "assert _hash(list(df_clean['TotalVotes']), 'salt0') == '8213634d779bf710f03e6ea7b9cafc2671d5f5c4', \"Something is wrong with your data conversion\""
   ]
  },
  {
   "cell_type": "markdown",
   "id": "0b2f6537",
   "metadata": {
    "deletable": false,
    "editable": false,
    "nbgrader": {
     "grade": false,
     "grade_id": "cell-f627f646a3ee1c1f",
     "locked": true,
     "schema_version": 3,
     "solution": false,
     "task": false
    }
   },
   "source": [
    "#### Exercise 2.3.2 - Budget\n",
    "Set the column Budget as int, cleaning the weird cases as you go"
   ]
  },
  {
   "cell_type": "code",
   "execution_count": 19,
   "id": "55bccf11",
   "metadata": {
    "deletable": false,
    "editable": false,
    "nbgrader": {
     "grade": false,
     "grade_id": "cell-df64ad37e27d68e0",
     "locked": true,
     "schema_version": 3,
     "solution": false,
     "task": false
    }
   },
   "outputs": [
    {
     "data": {
      "text/plain": [
       "1                                           $20,000,000 \n",
       "2                                           $18,000,000 \n",
       "3                                            $8,000,000 \n",
       "4                                           $12,000,000 \n",
       "5                                            $8,900,000 \n",
       "                             ...                        \n",
       "114                                          $3,300,000 \n",
       "115    Opening Weekend:         49,038,712           ...\n",
       "116                                        $200,000,000 \n",
       "117                                        $160,000,000 \n",
       "118                                        $150,000,000 \n",
       "Name: Budget, Length: 118, dtype: object"
      ]
     },
     "execution_count": 19,
     "metadata": {},
     "output_type": "execute_result"
    }
   ],
   "source": [
    "df_clean.Budget"
   ]
  },
  {
   "cell_type": "code",
   "execution_count": 20,
   "id": "c2198f96",
   "metadata": {
    "deletable": false,
    "nbgrader": {
     "grade": false,
     "grade_id": "cell-bde0821a4f079b78",
     "locked": false,
     "schema_version": 3,
     "solution": true,
     "task": false
    }
   },
   "outputs": [],
   "source": [
    "# remove cases where the budget contains the words \"Opening\", \"Pathé\" and \"BBC\"\n",
    "\n",
    "df_clean = df_clean[~df_clean.Budget.str.contains(\"Opening|Pathé|BBC\")]\n",
    "\n",
    "# remove weird string cases from the column - this is a freeby for you ;)\n",
    "df_clean.Budget = df_clean.Budget.str.replace('[^\\x00-\\x7F]','')\n",
    "\n",
    "# remove commas and dollar strings\n",
    "\n",
    "df_clean.Budget = df_clean.Budget.str.replace('$','')\n",
    "df_clean.Budget = df_clean.Budget.str.replace(',' ,'')                                     \n",
    "\n",
    "# set type as int\n",
    "df_clean.Budget = df_clean.Budget.astype('int')"
   ]
  },
  {
   "cell_type": "code",
   "execution_count": 21,
   "id": "598e4af7",
   "metadata": {
    "deletable": false,
    "editable": false,
    "nbgrader": {
     "grade": true,
     "grade_id": "cell-733c4a2a5e210740",
     "locked": true,
     "points": 2,
     "schema_version": 3,
     "solution": false,
     "task": false
    }
   },
   "outputs": [],
   "source": [
    "assert all(isinstance(item, int) for item in df_clean['Budget']), \"Budget should be saved as integers\" \n",
    "assert _hash(list(df_clean['Budget']), 'salt0') == '36348180fcef98c4a20e296250c54dcba9150ce4', \"Something is wrong with your data cleaning\""
   ]
  },
  {
   "cell_type": "markdown",
   "id": "37f1d3ca",
   "metadata": {
    "deletable": false,
    "editable": false,
    "nbgrader": {
     "grade": false,
     "grade_id": "cell-71b2ff6735d7bc0a",
     "locked": true,
     "schema_version": 3,
     "solution": false,
     "task": false
    }
   },
   "source": [
    "#### Exercise 2.3.3 - Runtime\n",
    "Extract the runtime time in minutes from this column. *Don't convert this column.* "
   ]
  },
  {
   "cell_type": "code",
   "execution_count": 22,
   "id": "c152631a",
   "metadata": {
    "deletable": false,
    "editable": false,
    "nbgrader": {
     "grade": false,
     "grade_id": "cell-0b96bc1d492c78a4",
     "locked": true,
     "schema_version": 3,
     "solution": false,
     "task": false
    }
   },
   "outputs": [
    {
     "data": {
      "text/plain": [
       "1      134 min\n",
       "2       94 min\n",
       "3      100 min\n",
       "4      123 min\n",
       "5      127 min\n",
       "        ...   \n",
       "112    140 min\n",
       "114    107 min\n",
       "116    132 min\n",
       "117    132 min\n",
       "118    108 min\n",
       "Name: Runtime, Length: 99, dtype: object"
      ]
     },
     "execution_count": 22,
     "metadata": {},
     "output_type": "execute_result"
    }
   ],
   "source": [
    "df_clean.Runtime"
   ]
  },
  {
   "cell_type": "code",
   "execution_count": 23,
   "id": "e17b1765",
   "metadata": {
    "deletable": false,
    "nbgrader": {
     "grade": false,
     "grade_id": "cell-39c6b959c9e31b30",
     "locked": false,
     "schema_version": 3,
     "solution": true,
     "task": false
    }
   },
   "outputs": [],
   "source": [
    "# hint: str.split() is your friend\n",
    "new= df_clean.Runtime.str.split(' ', expand=True)\n",
    "df_clean.Runtime= new[0]\n"
   ]
  },
  {
   "cell_type": "code",
   "execution_count": 24,
   "id": "cd2f29f8",
   "metadata": {
    "deletable": false,
    "editable": false,
    "nbgrader": {
     "grade": true,
     "grade_id": "cell-1c14f70638eb8f1c",
     "locked": true,
     "points": 1,
     "schema_version": 3,
     "solution": false,
     "task": false
    }
   },
   "outputs": [],
   "source": [
    "assert all(isinstance(item, object) for item in df_clean['Runtime']), \"Runtime should be left as object\" \n",
    "assert _hash(list(df_clean['Runtime']), 'salt0') == 'd17030b4117d1ea61ead4b8b3ddfdb82a0bfc0bf', \"Something is wrong with your data cleaning\""
   ]
  },
  {
   "cell_type": "markdown",
   "id": "08897511",
   "metadata": {
    "deletable": false,
    "editable": false,
    "nbgrader": {
     "grade": false,
     "grade_id": "cell-c44cf8d3b12a8ec6",
     "locked": true,
     "schema_version": 3,
     "solution": false,
     "task": false
    }
   },
   "source": [
    "### Exercise 2.4 - Drop missing values\n",
    "Finding missing values is quite common. Just drop them from out clean dataframe."
   ]
  },
  {
   "cell_type": "code",
   "execution_count": 25,
   "id": "40c6d756",
   "metadata": {
    "deletable": false,
    "nbgrader": {
     "grade": false,
     "grade_id": "cell-fc4703b89bf0d85b",
     "locked": false,
     "schema_version": 3,
     "solution": true,
     "task": false
    }
   },
   "outputs": [],
   "source": [
    "df_clean = df_clean.dropna()\n"
   ]
  },
  {
   "cell_type": "code",
   "execution_count": 26,
   "id": "14446f9b",
   "metadata": {
    "deletable": false,
    "editable": false,
    "nbgrader": {
     "grade": true,
     "grade_id": "cell-8443173a170a44d8",
     "locked": true,
     "points": 1,
     "schema_version": 3,
     "solution": false,
     "task": false
    }
   },
   "outputs": [],
   "source": [
    "assert isinstance(df_clean, pd.DataFrame), \"Should be a dataframe\"\n",
    "assert df_clean.shape == (92, 7), \"The shape of the dataframe is different then expected. Have you dropped the rows with missing data?\""
   ]
  },
  {
   "cell_type": "markdown",
   "id": "dbd4be6f",
   "metadata": {
    "deletable": false,
    "editable": false,
    "nbgrader": {
     "grade": false,
     "grade_id": "cell-7039618ddc791c28",
     "locked": true,
     "schema_version": 3,
     "solution": false,
     "task": false
    }
   },
   "source": [
    "### Exercise 2.5 - Set type of remaining columns\n",
    "\n",
    "Finally we can set the type of **Runtime**. as int, and **VotesnUS** and **VotesUS** as float."
   ]
  },
  {
   "cell_type": "code",
   "execution_count": 27,
   "id": "00747840",
   "metadata": {
    "deletable": false,
    "nbgrader": {
     "grade": false,
     "grade_id": "cell-53bce2cc4afac670",
     "locked": false,
     "schema_version": 3,
     "solution": true,
     "task": false
    }
   },
   "outputs": [],
   "source": [
    "df_clean.Runtime = df_clean.Runtime.astype(int)\n",
    "df_clean.VotesnUS = df_clean.VotesnUS.astype(float)\n",
    "df_clean.VotesUS = df_clean.VotesUS.astype(float)\n",
    "\n"
   ]
  },
  {
   "cell_type": "code",
   "execution_count": 28,
   "id": "321892e9",
   "metadata": {
    "deletable": false,
    "editable": false,
    "nbgrader": {
     "grade": true,
     "grade_id": "cell-24f27a68d3dcd195",
     "locked": true,
     "points": 0,
     "schema_version": 3,
     "solution": false,
     "task": false
    }
   },
   "outputs": [
    {
     "data": {
      "image/png": "[encoded data removed]",
      "text/plain": [
       "<Figure size 2000x2000 with 49 Axes>"
      ]
     },
     "metadata": {},
     "output_type": "display_data"
    }
   ],
   "source": [
    "assert all(isinstance(item, int) for item in df_clean['Runtime']), \"Runtime should be saved as integers\" \n",
    "assert all(isinstance(item, float) for item in df_clean['VotesnUS']), \"VotesnUS should be saved as integers\" \n",
    "assert all(isinstance(item, float) for item in df_clean['VotesUS']), \"VotesUS should be saved as integers\" \n",
    "\n",
    "pd.plotting.scatter_matrix(df_clean, figsize=(20,20))\n",
    "plt.show()"
   ]
  },
  {
   "cell_type": "markdown",
   "id": "349b8a99",
   "metadata": {
    "deletable": false,
    "editable": false,
    "nbgrader": {
     "grade": false,
     "grade_id": "cell-ddc782874c5a987a",
     "locked": true,
     "schema_version": 3,
     "solution": false,
     "task": false
    }
   },
   "source": [
    "Uff! That took quite some time, but now we have a clean and tidy dataframe to work with!"
   ]
  },
  {
   "cell_type": "markdown",
   "id": "82902ada",
   "metadata": {
    "deletable": false,
    "editable": false,
    "nbgrader": {
     "grade": false,
     "grade_id": "cell-b3cceed7311b4e1f",
     "locked": true,
     "schema_version": 3,
     "solution": false,
     "task": false
    }
   },
   "source": [
    "## Exercise 3 - Baseline modeling"
   ]
  },
  {
   "cell_type": "markdown",
   "id": "db9f1320",
   "metadata": {
    "deletable": false,
    "editable": false,
    "nbgrader": {
     "grade": false,
     "grade_id": "cell-91d8e0995fb8cfe9",
     "locked": true,
     "schema_version": 3,
     "solution": false,
     "task": false
    }
   },
   "source": [
    "As a data scientist, you will build a lot of models. You will use a variety of algorithms to perform a wide variety of tasks. You will need to use intuition and experience to decide when certain models are appropriate! \n",
    "\n",
    "But when costructing your baseline model, the simpler, the better! \n",
    "\n",
    "Let's start!"
   ]
  },
  {
   "cell_type": "markdown",
   "id": "5a454a96",
   "metadata": {
    "deletable": false,
    "editable": false,
    "nbgrader": {
     "grade": false,
     "grade_id": "cell-5cb59cec192c4d69",
     "locked": true,
     "schema_version": 3,
     "solution": false,
     "task": false
    }
   },
   "source": [
    "### Exercise 3.1 - Separate your target value \n",
    "\n",
    "Separate into `X` and `y` your features and your target. Order the columns in `X` as in exercise 2.2. "
   ]
  },
  {
   "cell_type": "code",
   "execution_count": 29,
   "id": "4f562bcf",
   "metadata": {},
   "outputs": [
    {
     "data": {
      "text/html": [
       "<div>\n",
       "<style scoped>\n",
       "    .dataframe tbody tr th:only-of-type {\n",
       "        vertical-align: middle;\n",
       "    }\n",
       "\n",
       "    .dataframe tbody tr th {\n",
       "        vertical-align: top;\n",
       "    }\n",
       "\n",
       "    .dataframe thead th {\n",
       "        text-align: right;\n",
       "    }\n",
       "</style>\n",
       "<table border=\"1\" class=\"dataframe\">\n",
       "  <thead>\n",
       "    <tr style=\"text-align: right;\">\n",
       "      <th></th>\n",
       "      <th>Rating</th>\n",
       "      <th>TotalVotes</th>\n",
       "      <th>MetaCritic</th>\n",
       "      <th>Budget</th>\n",
       "      <th>Runtime</th>\n",
       "      <th>VotesUS</th>\n",
       "      <th>VotesnUS</th>\n",
       "    </tr>\n",
       "  </thead>\n",
       "  <tbody>\n",
       "    <tr>\n",
       "      <th>1</th>\n",
       "      <td>8.1</td>\n",
       "      <td>496092</td>\n",
       "      <td>96.0</td>\n",
       "      <td>20000000</td>\n",
       "      <td>134</td>\n",
       "      <td>8.3</td>\n",
       "      <td>8.0</td>\n",
       "    </tr>\n",
       "    <tr>\n",
       "      <th>2</th>\n",
       "      <td>7.6</td>\n",
       "      <td>297075</td>\n",
       "      <td>82.0</td>\n",
       "      <td>18000000</td>\n",
       "      <td>94</td>\n",
       "      <td>7.7</td>\n",
       "      <td>7.6</td>\n",
       "    </tr>\n",
       "    <tr>\n",
       "      <th>3</th>\n",
       "      <td>7.7</td>\n",
       "      <td>283935</td>\n",
       "      <td>72.0</td>\n",
       "      <td>8000000</td>\n",
       "      <td>100</td>\n",
       "      <td>7.9</td>\n",
       "      <td>7.6</td>\n",
       "    </tr>\n",
       "    <tr>\n",
       "      <th>5</th>\n",
       "      <td>7.9</td>\n",
       "      <td>76121</td>\n",
       "      <td>94.0</td>\n",
       "      <td>8900000</td>\n",
       "      <td>127</td>\n",
       "      <td>7.9</td>\n",
       "      <td>7.8</td>\n",
       "    </tr>\n",
       "    <tr>\n",
       "      <th>6</th>\n",
       "      <td>7.7</td>\n",
       "      <td>486840</td>\n",
       "      <td>86.0</td>\n",
       "      <td>44500000</td>\n",
       "      <td>120</td>\n",
       "      <td>8.0</td>\n",
       "      <td>7.6</td>\n",
       "    </tr>\n",
       "    <tr>\n",
       "      <th>...</th>\n",
       "      <td>...</td>\n",
       "      <td>...</td>\n",
       "      <td>...</td>\n",
       "      <td>...</td>\n",
       "      <td>...</td>\n",
       "      <td>...</td>\n",
       "      <td>...</td>\n",
       "    </tr>\n",
       "    <tr>\n",
       "      <th>112</th>\n",
       "      <td>8.2</td>\n",
       "      <td>361049</td>\n",
       "      <td>71.0</td>\n",
       "      <td>25000000</td>\n",
       "      <td>140</td>\n",
       "      <td>8.2</td>\n",
       "      <td>8.1</td>\n",
       "    </tr>\n",
       "    <tr>\n",
       "      <th>114</th>\n",
       "      <td>8.5</td>\n",
       "      <td>492285</td>\n",
       "      <td>88.0</td>\n",
       "      <td>3300000</td>\n",
       "      <td>107</td>\n",
       "      <td>8.6</td>\n",
       "      <td>8.4</td>\n",
       "    </tr>\n",
       "    <tr>\n",
       "      <th>116</th>\n",
       "      <td>8.0</td>\n",
       "      <td>560736</td>\n",
       "      <td>74.0</td>\n",
       "      <td>200000000</td>\n",
       "      <td>132</td>\n",
       "      <td>8.1</td>\n",
       "      <td>7.9</td>\n",
       "    </tr>\n",
       "    <tr>\n",
       "      <th>117</th>\n",
       "      <td>7.8</td>\n",
       "      <td>556713</td>\n",
       "      <td>65.0</td>\n",
       "      <td>160000000</td>\n",
       "      <td>132</td>\n",
       "      <td>7.8</td>\n",
       "      <td>7.7</td>\n",
       "    </tr>\n",
       "    <tr>\n",
       "      <th>118</th>\n",
       "      <td>8.1</td>\n",
       "      <td>309474</td>\n",
       "      <td>78.0</td>\n",
       "      <td>150000000</td>\n",
       "      <td>108</td>\n",
       "      <td>8.0</td>\n",
       "      <td>8.0</td>\n",
       "    </tr>\n",
       "  </tbody>\n",
       "</table>\n",
       "<p>92 rows × 7 columns</p>\n",
       "</div>"
      ],
      "text/plain": [
       "     Rating  TotalVotes  MetaCritic     Budget  Runtime  VotesUS  VotesnUS\n",
       "1       8.1      496092        96.0   20000000      134      8.3       8.0\n",
       "2       7.6      297075        82.0   18000000       94      7.7       7.6\n",
       "3       7.7      283935        72.0    8000000      100      7.9       7.6\n",
       "5       7.9       76121        94.0    8900000      127      7.9       7.8\n",
       "6       7.7      486840        86.0   44500000      120      8.0       7.6\n",
       "..      ...         ...         ...        ...      ...      ...       ...\n",
       "112     8.2      361049        71.0   25000000      140      8.2       8.1\n",
       "114     8.5      492285        88.0    3300000      107      8.6       8.4\n",
       "116     8.0      560736        74.0  200000000      132      8.1       7.9\n",
       "117     7.8      556713        65.0  160000000      132      7.8       7.7\n",
       "118     8.1      309474        78.0  150000000      108      8.0       8.0\n",
       "\n",
       "[92 rows x 7 columns]"
      ]
     },
     "execution_count": 29,
     "metadata": {},
     "output_type": "execute_result"
    }
   ],
   "source": [
    "df_clean_= df_clean.copy()\n",
    "df_clean_"
   ]
  },
  {
   "cell_type": "code",
   "execution_count": 30,
   "id": "940e099a",
   "metadata": {
    "deletable": false,
    "nbgrader": {
     "grade": false,
     "grade_id": "cell-c1c072726b679fe8",
     "locked": false,
     "schema_version": 3,
     "solution": true,
     "task": false
    }
   },
   "outputs": [],
   "source": [
    "X = df_clean_.drop('Rating',axis=1)\n",
    "y = df_clean_['Rating']\n",
    "\n"
   ]
  },
  {
   "cell_type": "code",
   "execution_count": 31,
   "id": "30212e96",
   "metadata": {
    "deletable": false,
    "editable": false,
    "nbgrader": {
     "grade": true,
     "grade_id": "cell-d02011f7f3426b07",
     "locked": true,
     "points": 1,
     "schema_version": 3,
     "solution": false,
     "task": false
    }
   },
   "outputs": [],
   "source": [
    "assert _hash(list(y), 'salt0') == 'a285222c126f8617cd0179da57e9879065213a75', \"Have you picked the right column as the target?\"\n",
    "assert X.shape == (92, 6), \"The shape of the dataframe is different then expected. Have you dropped the target?\"\n",
    "assert _hash(sorted(X.columns), 'salt0') == '91dadf1574a4bf5ac09cbc839a67393502645794', \"Have you included the right columns in X?\""
   ]
  },
  {
   "cell_type": "markdown",
   "id": "d12f74a3",
   "metadata": {
    "deletable": false,
    "editable": false,
    "nbgrader": {
     "grade": false,
     "grade_id": "cell-cbbe2d32e51c944c",
     "locked": true,
     "schema_version": 3,
     "solution": false,
     "task": false
    }
   },
   "source": [
    "### Exercise 3.2 - Scale your data\n",
    "As we're using a linear regression, you should scale your X dataframe. Use `MinMaxScaler`"
   ]
  },
  {
   "cell_type": "code",
   "execution_count": 32,
   "id": "1aab4a81",
   "metadata": {
    "deletable": false,
    "nbgrader": {
     "grade": false,
     "grade_id": "cell-fe58c296cca28681",
     "locked": false,
     "schema_version": 3,
     "solution": true,
     "task": false
    }
   },
   "outputs": [],
   "source": [
    "corr_X = MinMaxScaler().fit_transform(X)\n"
   ]
  },
  {
   "cell_type": "code",
   "execution_count": 33,
   "id": "632e4395",
   "metadata": {
    "deletable": false,
    "editable": false,
    "nbgrader": {
     "grade": true,
     "grade_id": "cell-cc5e79e6d94f3521",
     "locked": true,
     "points": 1,
     "schema_version": 3,
     "solution": false,
     "task": false
    }
   },
   "outputs": [],
   "source": [
    "assert _hash(sorted(corr_X[:,1]), 'salt0') == '1e067622da29527aa7f0ea65f8c60d6eb202dd3a', \"have you used the correct scaler?\"\n"
   ]
  },
  {
   "cell_type": "markdown",
   "id": "3dc49702",
   "metadata": {
    "deletable": false,
    "editable": false,
    "nbgrader": {
     "grade": false,
     "grade_id": "cell-7ad60c0b0b46ef11",
     "locked": true,
     "schema_version": 3,
     "solution": false,
     "task": false
    }
   },
   "source": [
    "### Exercise 3.3 - Split data\n",
    "\n",
    "Split your dataset into test and train data, using `test_size=0.2` on your `train_test_split()`"
   ]
  },
  {
   "cell_type": "code",
   "execution_count": 34,
   "id": "61bdd29d",
   "metadata": {
    "deletable": false,
    "nbgrader": {
     "grade": false,
     "grade_id": "cell-0a59ceb29b6e7a7b",
     "locked": false,
     "schema_version": 3,
     "solution": true,
     "task": false
    }
   },
   "outputs": [],
   "source": [
    "X_train, X_test, y_train, y_test = train_test_split(\n",
    "        X, y, random_state=42, test_size=0.2)"
   ]
  },
  {
   "cell_type": "code",
   "execution_count": 35,
   "id": "0876dc7d",
   "metadata": {
    "deletable": false,
    "editable": false,
    "nbgrader": {
     "grade": true,
     "grade_id": "cell-eda4965289c315c6",
     "locked": true,
     "points": 1,
     "schema_version": 3,
     "solution": false,
     "task": false
    }
   },
   "outputs": [],
   "source": [
    "assert (X_train.shape, X_test.shape, y_train.shape, y_test.shape) == ((73, 6), (19, 6), (73,), (19,)), \"have you split the data correctly? Test size should be 0.2\""
   ]
  },
  {
   "cell_type": "markdown",
   "id": "a406d6aa",
   "metadata": {
    "deletable": false,
    "editable": false,
    "nbgrader": {
     "grade": false,
     "grade_id": "cell-46502ca5406d2e19",
     "locked": true,
     "schema_version": 3,
     "solution": false,
     "task": false
    }
   },
   "source": [
    "### Exercise 3.4 - Finally! The model!\n",
    "\n",
    "We can finally make our predictions with our Linear Regression! "
   ]
  },
  {
   "cell_type": "code",
   "execution_count": 36,
   "id": "7fd43740",
   "metadata": {
    "deletable": false,
    "nbgrader": {
     "grade": false,
     "grade_id": "cell-6423f554ffdba88d",
     "locked": false,
     "schema_version": 3,
     "solution": true,
     "task": false
    }
   },
   "outputs": [],
   "source": [
    "lm = linear_model.LinearRegression()\n",
    "model = lm.fit(X_train,y_train )\n",
    "predictions = lm.predict(X_test)\n"
   ]
  },
  {
   "cell_type": "code",
   "execution_count": 37,
   "id": "6d54b964",
   "metadata": {
    "deletable": false,
    "editable": false,
    "nbgrader": {
     "grade": true,
     "grade_id": "cell-408ce12cfa728ad1",
     "locked": true,
     "points": 2,
     "schema_version": 3,
     "solution": false,
     "task": false
    }
   },
   "outputs": [
    {
     "data": {
      "image/png": "[encoded data removed]",
      "text/plain": [
       "<Figure size 640x480 with 1 Axes>"
      ]
     },
     "metadata": {},
     "output_type": "display_data"
    },
    {
     "name": "stdout",
     "output_type": "stream",
     "text": [
      "R-squared Score: 0.9153623377321797\n"
     ]
    }
   ],
   "source": [
    "assert predictions.size == 19\n",
    "plt.scatter(y_test, predictions)\n",
    "plt.xlabel('True y')\n",
    "plt.ylabel('Predicted y')\n",
    "plt.show()\n",
    "\n",
    "print ('R-squared Score:', model.score(X_test, y_test)) "
   ]
  },
  {
   "cell_type": "markdown",
   "id": "13696d98",
   "metadata": {
    "deletable": false,
    "editable": false,
    "nbgrader": {
     "grade": false,
     "grade_id": "cell-92d7a5fdbef2f1a3",
     "locked": true,
     "schema_version": 3,
     "solution": false,
     "task": false
    }
   },
   "source": [
    "Our model is not performing bad at all! If you want to improve it, you should make **small alterations**, **one at a time**! Keeping track of your changes is crucial to know exactly what change is helping or hurting your model! "
   ]
  },
  {
   "cell_type": "markdown",
   "id": "be092b5e",
   "metadata": {
    "deletable": false,
    "editable": false,
    "nbgrader": {
     "grade": false,
     "grade_id": "cell-75dbbef7bea9c43b",
     "locked": true,
     "schema_version": 3,
     "solution": false,
     "task": false
    }
   },
   "source": [
    "## Exercise 4 - Pipelines!!!!! "
   ]
  },
  {
   "cell_type": "markdown",
   "id": "b6eed118",
   "metadata": {
    "deletable": false,
    "editable": false,
    "nbgrader": {
     "grade": false,
     "grade_id": "cell-953febcd52772794",
     "locked": true,
     "schema_version": 3,
     "solution": false,
     "task": false
    }
   },
   "source": [
    "We've already loaded and splitted a dataset for the following exercises. They're stored in the `X_train`, `X_test`, `y_train` and `y_test` variables.\n",
    "\n",
    "In a perfect world, where you have all your data clean and ready-to-go, you can create your pipeline with just Scikit-learn's Transformers. However, in the real world, that's not the case, and you'll need to create custom Transformers to get the job done. Take a look at the data set, what do you see?"
   ]
  },
  {
   "cell_type": "code",
   "execution_count": 38,
   "id": "b11d317e",
   "metadata": {
    "deletable": false,
    "editable": false,
    "nbgrader": {
     "grade": false,
     "grade_id": "cell-a3811573c704e68e",
     "locked": true,
     "schema_version": 3,
     "solution": false,
     "task": false
    }
   },
   "outputs": [],
   "source": [
    "from utils import get_dataset\n",
    "\n",
    "new_X, new_y = get_dataset()  # preloaded dataset\n",
    "new_X_train, new_X_test, new_y_train, new_y_test = train_test_split(new_X, new_y, test_size=0.33)"
   ]
  },
  {
   "cell_type": "code",
   "execution_count": 39,
   "id": "95ce38ba",
   "metadata": {},
   "outputs": [
    {
     "data": {
      "text/html": [
       "<div>\n",
       "<style scoped>\n",
       "    .dataframe tbody tr th:only-of-type {\n",
       "        vertical-align: middle;\n",
       "    }\n",
       "\n",
       "    .dataframe tbody tr th {\n",
       "        vertical-align: top;\n",
       "    }\n",
       "\n",
       "    .dataframe thead th {\n",
       "        text-align: right;\n",
       "    }\n",
       "</style>\n",
       "<table border=\"1\" class=\"dataframe\">\n",
       "  <thead>\n",
       "    <tr style=\"text-align: right;\">\n",
       "      <th></th>\n",
       "      <th>17</th>\n",
       "      <th>leg_1</th>\n",
       "      <th>7</th>\n",
       "      <th>arm_2</th>\n",
       "      <th>2</th>\n",
       "      <th>11</th>\n",
       "      <th>4</th>\n",
       "      <th>16</th>\n",
       "      <th>0</th>\n",
       "      <th>14</th>\n",
       "      <th>...</th>\n",
       "      <th>12</th>\n",
       "      <th>10</th>\n",
       "      <th>15</th>\n",
       "      <th>9</th>\n",
       "      <th>19</th>\n",
       "      <th>18</th>\n",
       "      <th>8</th>\n",
       "      <th>6</th>\n",
       "      <th>arm_0</th>\n",
       "      <th>1</th>\n",
       "    </tr>\n",
       "  </thead>\n",
       "  <tbody>\n",
       "    <tr>\n",
       "      <th>0</th>\n",
       "      <td>-0.334501</td>\n",
       "      <td>lee</td>\n",
       "      <td>-0.653329</td>\n",
       "      <td>Betsey</td>\n",
       "      <td>-0.474945</td>\n",
       "      <td>2.143944</td>\n",
       "      <td>0.504987</td>\n",
       "      <td>-0.792521</td>\n",
       "      <td>NaN</td>\n",
       "      <td>0.633919</td>\n",
       "      <td>...</td>\n",
       "      <td>1.765454</td>\n",
       "      <td>-0.071335</td>\n",
       "      <td>0.087142</td>\n",
       "      <td>-0.661786</td>\n",
       "      <td>-1.200296</td>\n",
       "      <td>0.865755</td>\n",
       "      <td>0.186454</td>\n",
       "      <td>0.404982</td>\n",
       "      <td>tribesman</td>\n",
       "      <td>0.029102</td>\n",
       "    </tr>\n",
       "    <tr>\n",
       "      <th>1</th>\n",
       "      <td>1.375707</td>\n",
       "      <td>Runge</td>\n",
       "      <td>0.125576</td>\n",
       "      <td>bottleneck</td>\n",
       "      <td>-0.150056</td>\n",
       "      <td>0.321357</td>\n",
       "      <td>NaN</td>\n",
       "      <td>1.189470</td>\n",
       "      <td>1.613711</td>\n",
       "      <td>0.421921</td>\n",
       "      <td>...</td>\n",
       "      <td>-0.173072</td>\n",
       "      <td>-1.158068</td>\n",
       "      <td>0.963360</td>\n",
       "      <td>-0.244157</td>\n",
       "      <td>-0.297564</td>\n",
       "      <td>0.701173</td>\n",
       "      <td>0.453534</td>\n",
       "      <td>0.015579</td>\n",
       "      <td>sloven</td>\n",
       "      <td>0.659924</td>\n",
       "    </tr>\n",
       "    <tr>\n",
       "      <th>2</th>\n",
       "      <td>1.189017</td>\n",
       "      <td>Hackett</td>\n",
       "      <td>-0.570746</td>\n",
       "      <td>neuropsychiatric</td>\n",
       "      <td>1.420504</td>\n",
       "      <td>-1.122722</td>\n",
       "      <td>-0.623141</td>\n",
       "      <td>-0.637740</td>\n",
       "      <td>NaN</td>\n",
       "      <td>0.382410</td>\n",
       "      <td>...</td>\n",
       "      <td>-0.832356</td>\n",
       "      <td>-0.270624</td>\n",
       "      <td>-1.692005</td>\n",
       "      <td>0.289169</td>\n",
       "      <td>-0.637387</td>\n",
       "      <td>-0.555477</td>\n",
       "      <td>0.492451</td>\n",
       "      <td>0.471416</td>\n",
       "      <td>Shakespearian</td>\n",
       "      <td>0.950573</td>\n",
       "    </tr>\n",
       "    <tr>\n",
       "      <th>3</th>\n",
       "      <td>-0.689188</td>\n",
       "      <td>woodchuck</td>\n",
       "      <td>0.197911</td>\n",
       "      <td>systematic</td>\n",
       "      <td>1.735964</td>\n",
       "      <td>0.059630</td>\n",
       "      <td>1.317394</td>\n",
       "      <td>1.049553</td>\n",
       "      <td>0.698223</td>\n",
       "      <td>-0.646937</td>\n",
       "      <td>...</td>\n",
       "      <td>-0.651418</td>\n",
       "      <td>0.852392</td>\n",
       "      <td>-1.106450</td>\n",
       "      <td>0.895193</td>\n",
       "      <td>2.075261</td>\n",
       "      <td>0.197600</td>\n",
       "      <td>0.393485</td>\n",
       "      <td>-0.483886</td>\n",
       "      <td>semper</td>\n",
       "      <td>-0.320670</td>\n",
       "    </tr>\n",
       "    <tr>\n",
       "      <th>4</th>\n",
       "      <td>-0.968344</td>\n",
       "      <td>inkling</td>\n",
       "      <td>-1.334025</td>\n",
       "      <td>kingpin</td>\n",
       "      <td>0.105376</td>\n",
       "      <td>-0.988591</td>\n",
       "      <td>-0.982487</td>\n",
       "      <td>-0.989628</td>\n",
       "      <td>0.179894</td>\n",
       "      <td>-1.103589</td>\n",
       "      <td>...</td>\n",
       "      <td>-0.601368</td>\n",
       "      <td>-0.348985</td>\n",
       "      <td>1.303736</td>\n",
       "      <td>0.918317</td>\n",
       "      <td>0.550052</td>\n",
       "      <td>-0.224633</td>\n",
       "      <td>1.392002</td>\n",
       "      <td>0.319782</td>\n",
       "      <td>compensable</td>\n",
       "      <td>-0.222100</td>\n",
       "    </tr>\n",
       "    <tr>\n",
       "      <th>...</th>\n",
       "      <td>...</td>\n",
       "      <td>...</td>\n",
       "      <td>...</td>\n",
       "      <td>...</td>\n",
       "      <td>...</td>\n",
       "      <td>...</td>\n",
       "      <td>...</td>\n",
       "      <td>...</td>\n",
       "      <td>...</td>\n",
       "      <td>...</td>\n",
       "      <td>...</td>\n",
       "      <td>...</td>\n",
       "      <td>...</td>\n",
       "      <td>...</td>\n",
       "      <td>...</td>\n",
       "      <td>...</td>\n",
       "      <td>...</td>\n",
       "      <td>...</td>\n",
       "      <td>...</td>\n",
       "      <td>...</td>\n",
       "      <td>...</td>\n",
       "    </tr>\n",
       "    <tr>\n",
       "      <th>95</th>\n",
       "      <td>1.755341</td>\n",
       "      <td>scarface</td>\n",
       "      <td>0.971571</td>\n",
       "      <td>ephemeris</td>\n",
       "      <td>-0.248964</td>\n",
       "      <td>0.711615</td>\n",
       "      <td>1.179297</td>\n",
       "      <td>1.551152</td>\n",
       "      <td>-1.534114</td>\n",
       "      <td>-1.124642</td>\n",
       "      <td>...</td>\n",
       "      <td>0.645376</td>\n",
       "      <td>-1.217220</td>\n",
       "      <td>-0.763516</td>\n",
       "      <td>0.332314</td>\n",
       "      <td>2.060748</td>\n",
       "      <td>0.067518</td>\n",
       "      <td>1.277677</td>\n",
       "      <td>1.368632</td>\n",
       "      <td>antebellum</td>\n",
       "      <td>1.431401</td>\n",
       "    </tr>\n",
       "    <tr>\n",
       "      <th>96</th>\n",
       "      <td>0.640843</td>\n",
       "      <td>epithelial</td>\n",
       "      <td>0.572583</td>\n",
       "      <td>culminate</td>\n",
       "      <td>-0.571179</td>\n",
       "      <td>1.503398</td>\n",
       "      <td>-1.001620</td>\n",
       "      <td>-0.247177</td>\n",
       "      <td>-0.220964</td>\n",
       "      <td>0.877362</td>\n",
       "      <td>...</td>\n",
       "      <td>1.399355</td>\n",
       "      <td>1.039670</td>\n",
       "      <td>-0.977637</td>\n",
       "      <td>0.208383</td>\n",
       "      <td>1.797687</td>\n",
       "      <td>-0.281100</td>\n",
       "      <td>0.026886</td>\n",
       "      <td>0.924634</td>\n",
       "      <td>irresolution</td>\n",
       "      <td>-0.545612</td>\n",
       "    </tr>\n",
       "    <tr>\n",
       "      <th>97</th>\n",
       "      <td>-0.309172</td>\n",
       "      <td>cutler</td>\n",
       "      <td>-0.478749</td>\n",
       "      <td>experiment</td>\n",
       "      <td>0.222134</td>\n",
       "      <td>-1.081057</td>\n",
       "      <td>0.096121</td>\n",
       "      <td>0.938284</td>\n",
       "      <td>-0.039555</td>\n",
       "      <td>1.053153</td>\n",
       "      <td>...</td>\n",
       "      <td>1.255756</td>\n",
       "      <td>1.985223</td>\n",
       "      <td>-0.511036</td>\n",
       "      <td>0.028318</td>\n",
       "      <td>-0.434496</td>\n",
       "      <td>-0.462275</td>\n",
       "      <td>0.681501</td>\n",
       "      <td>-0.894607</td>\n",
       "      <td>delectate</td>\n",
       "      <td>-1.604993</td>\n",
       "    </tr>\n",
       "    <tr>\n",
       "      <th>98</th>\n",
       "      <td>-0.305225</td>\n",
       "      <td>inveigle</td>\n",
       "      <td>-0.186971</td>\n",
       "      <td>nod</td>\n",
       "      <td>-0.609512</td>\n",
       "      <td>0.028181</td>\n",
       "      <td>0.010353</td>\n",
       "      <td>1.390208</td>\n",
       "      <td>1.085896</td>\n",
       "      <td>-0.009119</td>\n",
       "      <td>...</td>\n",
       "      <td>0.056650</td>\n",
       "      <td>-1.648321</td>\n",
       "      <td>0.735948</td>\n",
       "      <td>-0.025027</td>\n",
       "      <td>-1.065114</td>\n",
       "      <td>-1.311836</td>\n",
       "      <td>0.474698</td>\n",
       "      <td>0.529693</td>\n",
       "      <td>zag</td>\n",
       "      <td>1.203166</td>\n",
       "    </tr>\n",
       "    <tr>\n",
       "      <th>99</th>\n",
       "      <td>0.992042</td>\n",
       "      <td>walkover</td>\n",
       "      <td>-0.755745</td>\n",
       "      <td>young</td>\n",
       "      <td>-0.174960</td>\n",
       "      <td>0.388579</td>\n",
       "      <td>NaN</td>\n",
       "      <td>0.919076</td>\n",
       "      <td>-0.006071</td>\n",
       "      <td>2.493000</td>\n",
       "      <td>...</td>\n",
       "      <td>0.536510</td>\n",
       "      <td>-1.755186</td>\n",
       "      <td>0.717686</td>\n",
       "      <td>0.081829</td>\n",
       "      <td>-0.668090</td>\n",
       "      <td>0.321698</td>\n",
       "      <td>0.838491</td>\n",
       "      <td>-0.898468</td>\n",
       "      <td>Brighton</td>\n",
       "      <td>1.308576</td>\n",
       "    </tr>\n",
       "  </tbody>\n",
       "</table>\n",
       "<p>100 rows × 24 columns</p>\n",
       "</div>"
      ],
      "text/plain": [
       "          17       leg_1         7             arm_2         2        11  \\\n",
       "0  -0.334501         lee -0.653329            Betsey -0.474945  2.143944   \n",
       "1   1.375707       Runge  0.125576        bottleneck -0.150056  0.321357   \n",
       "2   1.189017     Hackett -0.570746  neuropsychiatric  1.420504 -1.122722   \n",
       "3  -0.689188   woodchuck  0.197911        systematic  1.735964  0.059630   \n",
       "4  -0.968344     inkling -1.334025           kingpin  0.105376 -0.988591   \n",
       "..       ...         ...       ...               ...       ...       ...   \n",
       "95  1.755341    scarface  0.971571         ephemeris -0.248964  0.711615   \n",
       "96  0.640843  epithelial  0.572583         culminate -0.571179  1.503398   \n",
       "97 -0.309172      cutler -0.478749        experiment  0.222134 -1.081057   \n",
       "98 -0.305225    inveigle -0.186971               nod -0.609512  0.028181   \n",
       "99  0.992042    walkover -0.755745             young -0.174960  0.388579   \n",
       "\n",
       "           4        16         0        14  ...        12        10        15  \\\n",
       "0   0.504987 -0.792521       NaN  0.633919  ...  1.765454 -0.071335  0.087142   \n",
       "1        NaN  1.189470  1.613711  0.421921  ... -0.173072 -1.158068  0.963360   \n",
       "2  -0.623141 -0.637740       NaN  0.382410  ... -0.832356 -0.270624 -1.692005   \n",
       "3   1.317394  1.049553  0.698223 -0.646937  ... -0.651418  0.852392 -1.106450   \n",
       "4  -0.982487 -0.989628  0.179894 -1.103589  ... -0.601368 -0.348985  1.303736   \n",
       "..       ...       ...       ...       ...  ...       ...       ...       ...   \n",
       "95  1.179297  1.551152 -1.534114 -1.124642  ...  0.645376 -1.217220 -0.763516   \n",
       "96 -1.001620 -0.247177 -0.220964  0.877362  ...  1.399355  1.039670 -0.977637   \n",
       "97  0.096121  0.938284 -0.039555  1.053153  ...  1.255756  1.985223 -0.511036   \n",
       "98  0.010353  1.390208  1.085896 -0.009119  ...  0.056650 -1.648321  0.735948   \n",
       "99       NaN  0.919076 -0.006071  2.493000  ...  0.536510 -1.755186  0.717686   \n",
       "\n",
       "           9        19        18         8         6          arm_0         1  \n",
       "0  -0.661786 -1.200296  0.865755  0.186454  0.404982      tribesman  0.029102  \n",
       "1  -0.244157 -0.297564  0.701173  0.453534  0.015579         sloven  0.659924  \n",
       "2   0.289169 -0.637387 -0.555477  0.492451  0.471416  Shakespearian  0.950573  \n",
       "3   0.895193  2.075261  0.197600  0.393485 -0.483886         semper -0.320670  \n",
       "4   0.918317  0.550052 -0.224633  1.392002  0.319782    compensable -0.222100  \n",
       "..       ...       ...       ...       ...       ...            ...       ...  \n",
       "95  0.332314  2.060748  0.067518  1.277677  1.368632     antebellum  1.431401  \n",
       "96  0.208383  1.797687 -0.281100  0.026886  0.924634   irresolution -0.545612  \n",
       "97  0.028318 -0.434496 -0.462275  0.681501 -0.894607      delectate -1.604993  \n",
       "98 -0.025027 -1.065114 -1.311836  0.474698  0.529693            zag  1.203166  \n",
       "99  0.081829 -0.668090  0.321698  0.838491 -0.898468       Brighton  1.308576  \n",
       "\n",
       "[100 rows x 24 columns]"
      ]
     },
     "execution_count": 39,
     "metadata": {},
     "output_type": "execute_result"
    }
   ],
   "source": [
    "new_X"
   ]
  },
  {
   "cell_type": "markdown",
   "id": "f926376c",
   "metadata": {
    "deletable": false,
    "editable": false,
    "nbgrader": {
     "grade": false,
     "grade_id": "cell-bab71226281048e5",
     "locked": true,
     "schema_version": 3,
     "solution": false,
     "task": false
    }
   },
   "source": [
    "While crunching your data, you probably found two issues:\n",
    "\n",
    "There are 4 columns whose name starts with either arm or leg which are all filled with gibberish.\n",
    "There are some values missing in some columns.\n",
    "So, first things first, let's get rid of those columns through a **Custom Transformer**, so we can plug it in a Scikit Pipeline after."
   ]
  },
  {
   "cell_type": "code",
   "execution_count": 40,
   "id": "16daacfb",
   "metadata": {},
   "outputs": [],
   "source": [
    "df_=new_X.copy()"
   ]
  },
  {
   "cell_type": "code",
   "execution_count": 41,
   "id": "de374dc3",
   "metadata": {},
   "outputs": [
    {
     "data": {
      "text/plain": [
       "Index(['leg_1', 'arm_2', 'leg_3', 'arm_0'], dtype='object')"
      ]
     },
     "execution_count": 41,
     "metadata": {},
     "output_type": "execute_result"
    }
   ],
   "source": [
    "df_.columns[df_.columns.str.startswith('arm') | df_.columns.str.startswith('leg')]\n"
   ]
  },
  {
   "cell_type": "markdown",
   "id": "94e89ddb",
   "metadata": {
    "deletable": false,
    "editable": false,
    "nbgrader": {
     "grade": false,
     "grade_id": "cell-c111570451988ca9",
     "locked": true,
     "schema_version": 3,
     "solution": false,
     "task": false
    }
   },
   "source": [
    "### Exercise 4.1 - Custom Transformer"
   ]
  },
  {
   "cell_type": "code",
   "execution_count": 44,
   "id": "376cfb92",
   "metadata": {
    "deletable": false,
    "nbgrader": {
     "grade": false,
     "grade_id": "cell-dc3fa4786483541e",
     "locked": false,
     "schema_version": 3,
     "solution": true,
     "task": false
    }
   },
   "outputs": [],
   "source": [
    "# Create a pipeline step called RemoveLimbs that removes any\n",
    "#column whose name starts with the string 'arm' or ´leg´\n",
    "class RemoveLimbs(TransformerMixin):\n",
    "\n",
    "    def transform(self,X,y=None):\n",
    "        self.columns = X.columns[X.columns.str.startswith('arm') | X.columns.str.startswith('leg')]\n",
    "        return X.drop(self.columns,axis=1).copy()\n",
    "\n",
    "    def fit(self, X, y=None):\n",
    "        return self \n",
    "\n",
    "\n",
    "\n",
    "\n"
   ]
  },
  {
   "cell_type": "code",
   "execution_count": 45,
   "id": "d68742df",
   "metadata": {
    "deletable": false,
    "editable": false,
    "nbgrader": {
     "grade": true,
     "grade_id": "cell-b91664f72233c2c7",
     "locked": true,
     "points": 3,
     "schema_version": 3,
     "solution": false,
     "task": false
    }
   },
   "outputs": [],
   "source": [
    "assert _hash(sorted(RemoveLimbs().fit_transform(new_X).columns), 'salt5') == '71443dfc3077d773d4c74e958dadf91dc2cc148a'\n",
    "assert _hash(list(map(lambda col: col.startswith('arm') or col.startswith('leg'), RemoveLimbs().fit_transform(new_X_train).columns)), 'salt6') == 'ce45cf3759d2210f2d1315f1673b18f34e3ac711'"
   ]
  },
  {
   "cell_type": "markdown",
   "id": "b4d6b7a6",
   "metadata": {
    "deletable": false,
    "editable": false,
    "nbgrader": {
     "grade": false,
     "grade_id": "cell-57a63eb58da3b85b",
     "locked": true,
     "schema_version": 3,
     "solution": false,
     "task": false
    }
   },
   "source": [
    "### Exercise 4.2 - Pipelines are the best!\n",
    "\n",
    "Now that we have our Custom Transformer in place, we can design our pipeline! \n",
    "\n",
    "Create a pipeline with the following steps:\n",
    "\n",
    "1. Removes limbs columns\n",
    "2. Imputes missing values with the mean\n",
    "3. Has a Random Forest Classifier as the last step\n",
    "\n",
    "You may use `make_pipeline` to create your pipeline with as many steps as you want as long as the first two are the Custom Transformer you developed previously, a `SimpleImputer` as the second step, and a `RandomForestClassifier` as the last step. Save your pipeline into a variable named `pipeline`!"
   ]
  },
  {
   "cell_type": "code",
   "execution_count": 46,
   "id": "3f2502c2",
   "metadata": {
    "deletable": false,
    "nbgrader": {
     "grade": false,
     "grade_id": "cell-178a0f61ec49c4ac",
     "locked": false,
     "schema_version": 3,
     "solution": true,
     "task": false
    }
   },
   "outputs": [],
   "source": [
    "pipeline = make_pipeline(\n",
    "    RemoveLimbs(),\n",
    "    SimpleImputer(strategy='mean'),\n",
    "    RandomForestClassifier(n_estimators=10)\n",
    "    \n",
    ")\n",
    "    "
   ]
  },
  {
   "cell_type": "code",
   "execution_count": 47,
   "id": "d86f2a3d",
   "metadata": {
    "deletable": false,
    "editable": false,
    "nbgrader": {
     "grade": true,
     "grade_id": "cell-3939f2f56f82f742",
     "locked": true,
     "points": 3,
     "schema_version": 3,
     "solution": false,
     "task": false
    }
   },
   "outputs": [],
   "source": [
    "assert _hash(pipeline.steps[0][0], 'salt7') == '471b02068ac2c4f479c2e9f85f4b3dc2179bb841'\n",
    "assert _hash(pipeline.steps[1][0], 'salt8') == 'ca83eaea1a7e243fa5574cfa6f52831166ee0f32'\n",
    "assert _hash(pipeline.steps[-1][0], 'salt9') == '0d66ba4309ad4939673169e74f87088dcadd510b'"
   ]
  },
  {
   "cell_type": "markdown",
   "id": "b64ba237",
   "metadata": {
    "deletable": false,
    "editable": false,
    "nbgrader": {
     "grade": false,
     "grade_id": "cell-b813e89a08b2880e",
     "locked": true,
     "schema_version": 3,
     "solution": false,
     "task": false
    }
   },
   "source": [
    "Does it work? Let's check it out on our dataset!"
   ]
  },
  {
   "cell_type": "code",
   "execution_count": 48,
   "id": "21ecbaec",
   "metadata": {
    "deletable": false,
    "editable": false,
    "nbgrader": {
     "grade": false,
     "grade_id": "cell-aa9293b40285d113",
     "locked": true,
     "schema_version": 3,
     "solution": false,
     "task": false
    }
   },
   "outputs": [
    {
     "data": {
      "text/plain": [
       "0.9393939393939394"
      ]
     },
     "execution_count": 48,
     "metadata": {},
     "output_type": "execute_result"
    }
   ],
   "source": [
    "pipeline.fit(new_X_train, new_y_train)\n",
    "new_y_pred = pipeline.predict(new_X_test)\n",
    "accuracy_score(new_y_test, new_y_pred)"
   ]
  },
  {
   "cell_type": "markdown",
   "id": "5cb9341e",
   "metadata": {
    "deletable": false,
    "editable": false,
    "nbgrader": {
     "grade": false,
     "grade_id": "cell-20bc44001d7869f9",
     "locked": true,
     "schema_version": 3,
     "solution": false,
     "task": false
    }
   },
   "source": [
    "It doesn't get much cleaner that this, does it?\n",
    "\n",
    "For an extra challenge, Go back to exercises 2 and 3 and follow our workflow but with a Pipeline! For each special processing we've done, you can create a custom transformer for that column! \n",
    "\n",
    "Dominating pipelines and custom transformers can be a huge time saver! And there's the hackathon ahead...\n",
    "\n",
    "**Good luck!**"
   ]
  }
 ],
 "metadata": {
  "kernelspec": {
   "display_name": "Python 3 (ipykernel)",
   "language": "python",
   "name": "python3"
  },
  "language_info": {
   "codemirror_mode": {
    "name": "ipython",
    "version": 3
   },
   "file_extension": ".py",
   "mimetype": "text/x-python",
   "name": "python",
   "nbconvert_exporter": "python",
   "pygments_lexer": "ipython3",
   "version": "3.8.13"
  }
 },
 "nbformat": 4,
 "nbformat_minor": 5
}
