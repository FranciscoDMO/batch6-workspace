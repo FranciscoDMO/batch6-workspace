{
 "cells": [
  {
   "cell_type": "code",
   "execution_count": 1,
   "id": "453f8ae3",
   "metadata": {},
   "outputs": [],
   "source": [
    "import numpy as np\n",
    "import sklearn as skl\n",
    "import pandas as pd\n",
    "\n",
    "from numpy import asarray\n",
    "from numpy import save\n",
    "\n",
    "from matplotlib import pyplot\n",
    "\n",
    "\n",
    "from sklearn.model_selection import train_test_split\n",
    "from sklearn.linear_model import LogisticRegression\n",
    "\n",
    "from sklearn.metrics import accuracy_score, f1_score, precision_score, recall_score, roc_auc_score, roc_curve\n",
    "from sklearn.metrics import ConfusionMatrixDisplay, confusion_matrix\n",
    "\n",
    "from imblearn.over_sampling import SMOTE\n",
    "\n",
    "from sklearn.ensemble import RandomForestClassifier\n",
    "from sklearn.svm import SVC"
   ]
  },
  {
   "cell_type": "code",
   "execution_count": 2,
   "id": "530437b1",
   "metadata": {},
   "outputs": [],
   "source": [
    "StartingData = pd.read_csv('data/train.csv', index_col='id')"
   ]
  },
  {
   "cell_type": "code",
   "execution_count": 3,
   "id": "f872a7c4",
   "metadata": {},
   "outputs": [
    {
     "name": "stdout",
     "output_type": "stream",
     "text": [
      "<class 'pandas.core.frame.DataFrame'>\n",
      "Int64Index: 289060 entries, 8 to 3988964\n",
      "Data columns (total 9 columns):\n",
      " #   Column                            Non-Null Count   Dtype  \n",
      "---  ------                            --------------   -----  \n",
      " 0   user_balance_usd                  289060 non-null  float64\n",
      " 1   user_balance_coin_a               289060 non-null  float64\n",
      " 2   user_historical_transactions_10s  289060 non-null  int64  \n",
      " 3   user_historical_transactions_30s  289060 non-null  int64  \n",
      " 4   exchange_a_price                  289060 non-null  float64\n",
      " 5   exchange_b_price                  289060 non-null  float64\n",
      " 6   exchange_b_volatility             289060 non-null  float64\n",
      " 7   result                            289060 non-null  int64  \n",
      " 8   ex_a_vol_num                      289060 non-null  int64  \n",
      "dtypes: float64(5), int64(4)\n",
      "memory usage: 22.1 MB\n",
      "user_balance_usd\n",
      "-0.01819230962493027\n",
      "user_balance_coin_a\n",
      "0.016902394001236304\n",
      "user_historical_transactions_10s\n",
      "0.35488404968465265\n",
      "user_historical_transactions_30s\n",
      "0.42226918002912905\n",
      "exchange_a_price\n",
      "0.08962869962147825\n",
      "exchange_b_price\n",
      "0.03627015635513175\n",
      "exchange_b_volatility\n",
      "0.19778804190630725\n",
      "result\n",
      "1.0\n",
      "ex_a_vol_num\n",
      "0.15262942163110257\n",
      "Profit\n",
      "-0.0069209951706516925\n",
      "Anon\n",
      "-0.0076196607502415446\n"
     ]
    }
   ],
   "source": [
    "dataClean1 = StartingData.dropna()\n",
    "\n",
    "\n",
    "dataClean2 = dataClean1.drop('user_address', axis=1)\n",
    "\n",
    "dataClean2['exchange_a_volatility'].value_counts()\n",
    "exAdict = {\n",
    "    'very low' : 0,\n",
    "    'low' : 1,\n",
    "    'medium' : 2,\n",
    "    'high' : 3,\n",
    "    'very high' : 4\n",
    "}\n",
    "dataClean2['ex_a_vol_num'] = dataClean2['exchange_a_volatility'].apply(lambda x: exAdict[x])\n",
    "\n",
    "dataClean3 = dataClean2.drop(['exchange_a_volatility', 'anonymous'], axis=1)\n",
    "dataClean3.info()\n",
    "\n",
    "#df_1['isProf'] = df_1[['exchange_a_price', 'exchange_b_price']].apply(lambda x: int(x[0] > x[1]), axis=1)\n",
    "dataClean3['Profit'] = dataClean3[['exchange_a_price', 'exchange_b_price']].apply(lambda x: x[0] - x[1], axis=1)\n",
    "dataClean3['Anon'] = dataClean2['anonymous'].apply(lambda x: int(x[1:]))\n",
    "\n",
    "#dataClean1.info()\n",
    "\n",
    "for column in dataClean3.columns:\n",
    "    print(column)\n",
    "    print(dataClean3[column].corr(dataClean3['result']))\n",
    "\n",
    "train, test = train_test_split(dataClean3, stratify=dataClean3['result'], test_size=0.2)\n",
    "\n",
    "\n"
   ]
  },
  {
   "cell_type": "code",
   "execution_count": 4,
   "id": "c5095634",
   "metadata": {},
   "outputs": [],
   "source": [
    "ytrain = train['result']\n",
    "xtrain = train.drop('result', axis=1)\n",
    "\n",
    "ytest = test['result']\n",
    "xtest = test.drop('result', axis=1)"
   ]
  },
  {
   "cell_type": "code",
   "execution_count": 5,
   "id": "9a14b335",
   "metadata": {},
   "outputs": [
    {
     "name": "stdout",
     "output_type": "stream",
     "text": [
      "Majority class\n",
      "Precision: 0.95\n",
      "Rcall: 0.99\n",
      "F1-Score: 0.97\n",
      "==============\n",
      "Minority class\n",
      "Precision: 0.63\n",
      "Recall: 0.30\n",
      "F1-Score: 0.41\n",
      "[[1.   0.  ]\n",
      " [0.94 0.06]\n",
      " [1.   0.  ]\n",
      " ...\n",
      " [1.   0.  ]\n",
      " [1.   0.  ]\n",
      " [0.94 0.06]]\n",
      "The AUROC of our classifier is = 0.886\n",
      "The accuracy of our classifier is = 0.939\n"
     ]
    },
    {
     "data": {
      "image/png": "[encoded data removed]",
      "text/plain": [
       "<Figure size 640x480 with 2 Axes>"
      ]
     },
     "metadata": {},
     "output_type": "display_data"
    }
   ],
   "source": [
    "lr_base_clf = RandomForestClassifier()\n",
    "lr_base_clf.fit(xtrain, ytrain)\n",
    "\n",
    "y_pred = lr_base_clf.predict(xtest)\n",
    "\n",
    "print(\"Majority class\")\n",
    "print(\"Precision: %.2f\" % precision_score(ytest, y_pred, pos_label=0))\n",
    "print(\"Rcall: %.2f\" % recall_score(ytest, y_pred, pos_label=0))\n",
    "print(\"F1-Score: %.2f\" % f1_score(ytest, y_pred, pos_label=0))\n",
    "print(\"==============\")\n",
    "\n",
    "print(\"Minority class\")\n",
    "print(\"Precision: %.2f\" % precision_score(ytest, y_pred, pos_label=1))\n",
    "print(\"Recall: %.2f\" % recall_score(ytest, y_pred, pos_label=1))\n",
    "print(\"F1-Score: %.2f\" % f1_score(ytest, y_pred, pos_label=1))\n",
    "\n",
    "cm = confusion_matrix(ytest, y_pred, labels=lr_base_clf.classes_)\n",
    "disp = ConfusionMatrixDisplay(confusion_matrix=cm,\n",
    "                               display_labels=lr_base_clf.classes_)\n",
    "disp.plot();\n",
    "\n",
    "\n",
    "predicted_proba = lr_base_clf.predict_proba(xtest)\n",
    "print(predicted_proba)\n",
    "\n",
    "roc_auc = roc_auc_score(y_score=predicted_proba[:,1], y_true=ytest)\n",
    "print('The AUROC of our classifier is = %.3f' % roc_auc)\n",
    "\n",
    "accuracy = accuracy_score(y_pred=y_pred, y_true=ytest)\n",
    "print('The accuracy of our classifier is = %.3f' % accuracy)"
   ]
  },
  {
   "cell_type": "code",
   "execution_count": 51,
   "id": "375e381b",
   "metadata": {},
   "outputs": [
    {
     "name": "stdout",
     "output_type": "stream",
     "text": [
      "low 0.00037491496343965 48.620211065283016 49.6776\n"
     ]
    },
    {
     "data": {
      "text/plain": [
       "1    191502\n",
       "0     42399\n",
       "2     28270\n",
       "3     14458\n",
       "4     12431\n",
       "Name: ex_a_vol_num, dtype: int64"
      ]
     },
     "execution_count": 51,
     "metadata": {},
     "output_type": "execute_result"
    }
   ],
   "source": [
    "a = StartingData['exchange_a_volatility'].mode()[0]\n",
    "b = dataClean3['exchange_b_volatility'].median()\n",
    "c = dataClean3['exchange_a_price'].median()\n",
    "d = dataClean3['exchange_b_price'].median()\n",
    "print(a,b,c,d)\n",
    "dataClean3['ex_a_vol_num'].value_counts()"
   ]
  },
  {
   "cell_type": "code",
   "execution_count": 24,
   "id": "6c1f76f1",
   "metadata": {},
   "outputs": [
    {
     "name": "stdout",
     "output_type": "stream",
     "text": [
      "<class 'pandas.core.frame.DataFrame'>\n",
      "Int64Index: 112830 entries, 3988978 to 5307806\n",
      "Data columns (total 10 columns):\n",
      " #   Column                            Non-Null Count   Dtype  \n",
      "---  ------                            --------------   -----  \n",
      " 0   user_address                      112830 non-null  object \n",
      " 1   user_balance_usd                  112830 non-null  float64\n",
      " 2   user_balance_coin_a               112830 non-null  float64\n",
      " 3   user_historical_transactions_10s  112830 non-null  int64  \n",
      " 4   user_historical_transactions_30s  112830 non-null  int64  \n",
      " 5   exchange_a_price                  103453 non-null  float64\n",
      " 6   exchange_b_price                  112830 non-null  float64\n",
      " 7   exchange_a_volatility             107728 non-null  object \n",
      " 8   exchange_b_volatility             110036 non-null  float64\n",
      " 9   anonymous                         112830 non-null  object \n",
      "dtypes: float64(5), int64(2), object(3)\n",
      "memory usage: 9.5+ MB\n"
     ]
    }
   ],
   "source": [
    "XTEST = pd.read_csv('data/test.csv', index_col='id')\n",
    "XTEST.info()"
   ]
  },
  {
   "cell_type": "code",
   "execution_count": 56,
   "id": "aa2cea15",
   "metadata": {},
   "outputs": [
    {
     "name": "stdout",
     "output_type": "stream",
     "text": [
      "<class 'pandas.core.frame.DataFrame'>\n",
      "Int64Index: 112830 entries, 3988978 to 5307806\n",
      "Data columns (total 10 columns):\n",
      " #   Column                            Non-Null Count   Dtype  \n",
      "---  ------                            --------------   -----  \n",
      " 0   user_address                      112830 non-null  object \n",
      " 1   user_balance_usd                  112830 non-null  float64\n",
      " 2   user_balance_coin_a               112830 non-null  float64\n",
      " 3   user_historical_transactions_10s  112830 non-null  int64  \n",
      " 4   user_historical_transactions_30s  112830 non-null  int64  \n",
      " 5   exchange_a_price                  103453 non-null  float64\n",
      " 6   exchange_b_price                  112830 non-null  float64\n",
      " 7   exchange_a_volatility             107728 non-null  object \n",
      " 8   exchange_b_volatility             110036 non-null  float64\n",
      " 9   anonymous                         112830 non-null  object \n",
      "dtypes: float64(5), int64(2), object(3)\n",
      "memory usage: 9.5+ MB\n",
      "<class 'pandas.core.frame.DataFrame'>\n",
      "Int64Index: 112830 entries, 3988978 to 5307806\n",
      "Data columns (total 10 columns):\n",
      " #   Column                            Non-Null Count   Dtype  \n",
      "---  ------                            --------------   -----  \n",
      " 0   user_balance_usd                  112830 non-null  float64\n",
      " 1   user_balance_coin_a               112830 non-null  float64\n",
      " 2   user_historical_transactions_10s  112830 non-null  int64  \n",
      " 3   user_historical_transactions_30s  112830 non-null  int64  \n",
      " 4   exchange_a_price                  112830 non-null  float64\n",
      " 5   exchange_b_price                  112830 non-null  float64\n",
      " 6   exchange_b_volatility             112830 non-null  float64\n",
      " 7   ex_a_vol_num                      112830 non-null  int64  \n",
      " 8   Profit                            112830 non-null  float64\n",
      " 9   Anon                              112830 non-null  int64  \n",
      "dtypes: float64(6), int64(4)\n",
      "memory usage: 9.5 MB\n"
     ]
    }
   ],
   "source": [
    "tdataClean1 = XTEST\n",
    "\n",
    "\n",
    "tdataClean2 = tdataClean1.drop('user_address', axis=1)\n",
    "\n",
    "tdataClean2['exchange_a_volatility'].value_counts()\n",
    "exAdict = {\n",
    "    'very low' : 0,\n",
    "    'low' : 1,\n",
    "    'medium' : 2,\n",
    "    'high' : 3,\n",
    "    'very high' : 4\n",
    "}\n",
    "\n",
    "exAdict2 = {\n",
    "    0 : 'very low',\n",
    "    1 : 'low',\n",
    "    2 : 'medium',\n",
    "    3 : 'high',\n",
    "    4 : 'very high'\n",
    "}\n",
    "\n",
    "tdataClean2['exchange_a_volatility'] = tdataClean2['exchange_a_volatility'].fillna(a)\n",
    "tdataClean2['exchange_b_volatility'] = tdataClean2['exchange_b_volatility'].fillna(b)\n",
    "tdataClean2['exchange_a_price'] = tdataClean2['exchange_a_price'].fillna(c)\n",
    "tdataClean2['exchange_b_price'] = tdataClean2['exchange_b_price'].fillna(d)\n",
    "\n",
    "tdataClean2['ex_a_vol_num'] = tdataClean2['exchange_a_volatility'].apply(lambda x:  exAdict[x])\n",
    "\n",
    "tdataClean3 = tdataClean2.drop(['exchange_a_volatility', 'anonymous'], axis=1)\n",
    "tdataClean1.info()\n",
    "#df_1['isProf'] = df_1[['exchange_a_price', 'exchange_b_price']].apply(lambda x: int(x[0] > x[1]), axis=1)\n",
    "tdataClean3['Profit'] = tdataClean3[['exchange_a_price', 'exchange_b_price']].apply(lambda x: x[0] - x[1], axis=1)\n",
    "tdataClean3['Anon'] = tdataClean2['anonymous'].apply(lambda x: int(x[1:]))\n",
    "\n",
    "#dataClean1.info()\n",
    "tdataClean3.info()\n",
    "\n",
    "\n",
    "#train, test = train_test_split(tdataClean3, stratify=tdataClean3['result'], test_size=0.2)"
   ]
  },
  {
   "cell_type": "code",
   "execution_count": 60,
   "id": "97e75c1b",
   "metadata": {},
   "outputs": [],
   "source": [
    "predicted_proba = lr_base_clf.predict_proba(tdataClean3)\n",
    "res = pd.DataFrame(index=tdataClean3.index, data=predicted_proba[:,1])\n",
    "res['result'] = res[0]\n",
    "res = res.drop(0, axis=1)\n",
    "\n",
    "res.to_csv(r'PleaseBeGood.csv', index = True)"
   ]
  },
  {
   "cell_type": "code",
   "execution_count": null,
   "id": "f94f592e",
   "metadata": {},
   "outputs": [],
   "source": []
  },
  {
   "cell_type": "code",
   "execution_count": null,
   "id": "8480d293",
   "metadata": {},
   "outputs": [],
   "source": []
  },
  {
   "cell_type": "code",
   "execution_count": null,
   "id": "4c087f8e",
   "metadata": {},
   "outputs": [],
   "source": []
  },
  {
   "cell_type": "code",
   "execution_count": null,
   "id": "1996ac99",
   "metadata": {},
   "outputs": [],
   "source": [
    "dataClean1 = StartingData.dropna()\n",
    "\n",
    "dataClean1 = pd.DataFrame(dataClean1)\n",
    "\n",
    "dataClean1['Anon1'] = dataClean1['anonymous'].apply(lambda x: x[0])\n",
    "\n",
    "dataClean1['Anon2'] = dataClean1['anonymous'].apply(lambda x: int(x[1:]))\n",
    "\n",
    "dataClean1.info()\n",
    "\n",
    "rel = pd.crosstab(index=dataClean1[\"Anon1\"], \n",
    "                           columns=dataClean1[\"result\"])\n",
    "#print(dataClean1[dataClean1['result'] == 1])\n",
    "print(rel)\n",
    "\n",
    "\n",
    "rel = pd.crosstab(index=dataClean1[\"Anon1\"], \n",
    "                           columns=dataClean1[\"result\"])\n",
    "#print(dataClean1[dataClean1['result'] == 1])\n",
    "print(rel)\n",
    "\n",
    "#for column in dataClean1.columns:\n",
    "#    print(column)\n",
    "#    print(dataClean1[column].corr(dataClean1['result']))"
   ]
  }
 ],
 "metadata": {
  "kernelspec": {
   "display_name": "Python 3 (ipykernel)",
   "language": "python",
   "name": "python3"
  },
  "language_info": {
   "codemirror_mode": {
    "name": "ipython",
    "version": 3
   },
   "file_extension": ".py",
   "mimetype": "text/x-python",
   "name": "python",
   "nbconvert_exporter": "python",
   "pygments_lexer": "ipython3",
   "version": "3.8.14"
  }
 },
 "nbformat": 4,
 "nbformat_minor": 5
}
