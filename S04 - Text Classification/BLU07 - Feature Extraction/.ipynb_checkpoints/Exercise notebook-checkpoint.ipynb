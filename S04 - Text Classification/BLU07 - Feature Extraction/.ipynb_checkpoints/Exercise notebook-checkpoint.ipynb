{
 "cells": [
  {
   "cell_type": "code",
   "execution_count": 1,
   "metadata": {
    "deletable": false,
    "editable": false,
    "nbgrader": {
     "grade": false,
     "grade_id": "cell-12bea12324c032d8",
     "locked": true,
     "schema_version": 3,
     "solution": false
    }
   },
   "outputs": [
    {
     "name": "stderr",
     "output_type": "stream",
     "text": [
      "[nltk_data] Downloading package stopwords to\n",
      "[nltk_data]     /home/francisco/nltk_data...\n",
      "[nltk_data]   Package stopwords is already up-to-date!\n"
     ]
    }
   ],
   "source": [
    "import hashlib # for grading\n",
    "\n",
    "# Standard imports\n",
    "import numpy as np\n",
    "from numpy.testing import assert_allclose, assert_almost_equal\n",
    "import pandas as pd\n",
    "import re\n",
    "import string\n",
    "import math\n",
    "import warnings; warnings.simplefilter('ignore')\n",
    "\n",
    "# NLTK imports\n",
    "import nltk\n",
    "nltk.download('stopwords')\n",
    "\n",
    "from nltk.tokenize import WordPunctTokenizer\n",
    "from nltk.stem.snowball import SnowballStemmer\n",
    "from nltk.corpus import stopwords\n",
    "\n",
    "# SKLearn related imports\n",
    "import sklearn\n",
    "from sklearn.feature_extraction.text import CountVectorizer\n",
    "from sklearn.feature_extraction.text import TfidfTransformer\n",
    "from sklearn.pipeline import Pipeline\n",
    "from sklearn.base import TransformerMixin\n",
    "from sklearn import preprocessing\n",
    "\n",
    "from sklearn.naive_bayes import MultinomialNB\n",
    "from sklearn.model_selection import train_test_split\n",
    "from sklearn.metrics import classification_report\n",
    "from sklearn.metrics import accuracy_score"
   ]
  },
  {
   "cell_type": "markdown",
   "metadata": {
    "deletable": false,
    "editable": false,
    "nbgrader": {
     "grade": false,
     "grade_id": "cell-f07b8631beb0508c",
     "locked": true,
     "schema_version": 3,
     "solution": false
    }
   },
   "source": [
    "## Q1. S&P 500 Companies\n",
    "\n",
    "For the first question, you will be making use of regex. In particular, you have a list of companies currently in the S&P 500, their [stock tickers](https://en.wikipedia.org/wiki/Ticker_symbol) (an abbreviation used to uniquely identify publicly traded shares of a particular stock on a particular stock market), and their industries, and you'll have to answer some very specific questions about that list.\n",
    "\n",
    "Start by loading the data into a list:\n"
   ]
  },
  {
   "cell_type": "code",
   "execution_count": 2,
   "metadata": {
    "deletable": false,
    "editable": false,
    "nbgrader": {
     "grade": false,
     "grade_id": "cell-8c533ada39c512c9",
     "locked": true,
     "schema_version": 3,
     "solution": false,
     "task": false
    }
   },
   "outputs": [],
   "source": [
    "path = \"data/SP500.txt\"\n",
    "companies = []\n",
    "with open(path, 'r', encoding='utf-8') as f:\n",
    "    companies = [l.strip() for l in f.readlines()]"
   ]
  },
  {
   "cell_type": "code",
   "execution_count": 3,
   "metadata": {
    "deletable": false,
    "editable": false,
    "nbgrader": {
     "grade": false,
     "grade_id": "cell-1ecb61cd23d78a49",
     "locked": true,
     "schema_version": 3,
     "solution": false,
     "task": false
    }
   },
   "outputs": [
    {
     "data": {
      "text/plain": [
       "['3M Company (MMM) -- Industrials',\n",
       " 'Abbott Laboratories (ABT) -- Health Care',\n",
       " 'AbbVie Inc. (ABBV) -- Health Care',\n",
       " 'ABIOMED Inc (ABMD) -- Health Care',\n",
       " 'Accenture plc (ACN) -- Information Technology']"
      ]
     },
     "execution_count": 3,
     "metadata": {},
     "output_type": "execute_result"
    }
   ],
   "source": [
    "# check the format\n",
    "companies[:5]"
   ]
  },
  {
   "cell_type": "markdown",
   "metadata": {
    "deletable": false,
    "editable": false,
    "nbgrader": {
     "grade": false,
     "grade_id": "cell-25dda75958bdaef9",
     "locked": true,
     "schema_version": 3,
     "solution": false,
     "task": false
    }
   },
   "source": [
    "In the first item, for example, `3M Company` is the company name, `MMM` is the ticker symbol, and `Industrials` is the industry."
   ]
  },
  {
   "cell_type": "markdown",
   "metadata": {
    "deletable": false,
    "editable": false,
    "nbgrader": {
     "grade": false,
     "grade_id": "cell-df341d1f1838c29e",
     "locked": true,
     "schema_version": 3,
     "solution": false
    }
   },
   "source": [
    "#### Q1.a)\n",
    "\n",
    "First, we want to know which companies belong to the Real Estate or Health Care sectors. Return the full strings that include these companies in a list assigned to a variable `ans`."
   ]
  },
  {
   "cell_type": "code",
   "execution_count": 4,
   "metadata": {
    "deletable": false,
    "nbgrader": {
     "grade": false,
     "grade_id": "cell-7cddd8e2e48afb31",
     "locked": false,
     "schema_version": 3,
     "solution": true
    }
   },
   "outputs": [],
   "source": [
    "# ans = [ ... ]\n",
    "pattern = \".*Real Estate$|.*Health Care$\"\n",
    "ans =[]\n",
    "for text in companies :\n",
    "    b=re.findall(pattern, text)\n",
    "    if b!=[]:\n",
    "        ans.append(b[0])\n"
   ]
  },
  {
   "cell_type": "code",
   "execution_count": 5,
   "metadata": {
    "deletable": false,
    "editable": false,
    "nbgrader": {
     "grade": true,
     "grade_id": "cell-5a358ed83c473214",
     "locked": true,
     "points": 1,
     "schema_version": 3,
     "solution": false
    }
   },
   "outputs": [],
   "source": [
    "assert len(ans) == 93\n",
    "assert hashlib.sha256(' '.join(ans).encode()).hexdigest() == \\\n",
    "    'b25ef38e29cc7d975a651e93fc201b9a83cfdb35a0a79d6068d1e29325d3fa8f'"
   ]
  },
  {
   "cell_type": "markdown",
   "metadata": {
    "deletable": false,
    "editable": false,
    "nbgrader": {
     "grade": false,
     "grade_id": "cell-4e3cc736b933d71e",
     "locked": true,
     "schema_version": 3,
     "solution": false
    }
   },
   "source": [
    "#### Q1.b)\n",
    "\n",
    "Next, among all companies, find the companies that start with an initial consisting of a capital letter followed by a period (e.g. `A.`). Return a list of the companies (the full strings) in the variable `ans_initials`."
   ]
  },
  {
   "cell_type": "code",
   "execution_count": 6,
   "metadata": {
    "deletable": false,
    "nbgrader": {
     "grade": false,
     "grade_id": "cell-2bf14a2df3dd3e4e",
     "locked": false,
     "schema_version": 3,
     "solution": true
    }
   },
   "outputs": [
    {
     "data": {
      "text/plain": [
       "['A.O. Smith Corp (AOS) -- Industrials',\n",
       " 'C. H. Robinson Worldwide (CHRW) -- Industrials',\n",
       " 'D. R. Horton (DHI) -- Consumer Discretionary',\n",
       " 'J. B. Hunt Transport Services (JBHT) -- Industrials',\n",
       " 'T. Rowe Price Group (TROW) -- Financials',\n",
       " 'U.S. Bancorp (USB) -- Financials',\n",
       " 'W. R. Berkley Corporation (WRB) -- Financials']"
      ]
     },
     "execution_count": 6,
     "metadata": {},
     "output_type": "execute_result"
    }
   ],
   "source": [
    "pattern = \"^[A-Z]{1}\\..*\"\n",
    "ans_initials =[]\n",
    "for text in companies :\n",
    "    b=re.findall(pattern, text)\n",
    "    if b!=[]:\n",
    "        ans_initials.append(b[0])\n",
    "ans_initials"
   ]
  },
  {
   "cell_type": "code",
   "execution_count": 7,
   "metadata": {
    "deletable": false,
    "editable": false,
    "nbgrader": {
     "grade": true,
     "grade_id": "cell-19b61469674be299",
     "locked": true,
     "points": 1,
     "schema_version": 3,
     "solution": false
    }
   },
   "outputs": [
    {
     "name": "stdout",
     "output_type": "stream",
     "text": [
      "Number of companies starting with an initial:  7\n"
     ]
    }
   ],
   "source": [
    "print(\"Number of companies starting with an initial: \" , len(ans_initials))\n",
    "assert 'A.O. Smith Corp (AOS) -- Industrials' in ans_initials\n",
    "assert 'D. R. Horton (DHI) -- Consumer Discretionary' in ans_initials\n",
    "assert 'Arthur J. Gallagher & Co. (AJG) -- Financials' not in ans_initials\n",
    "assert 'Berkshire Hathaway (BRK.B) -- Financials' not in ans_initials\n",
    "assert hashlib.sha256(' '.join(ans_initials).encode()).hexdigest() == \\\n",
    "    '999cbcf37711021cecdda234015f87d8785f0d25f1200d43be4cf0ac7239aaa7'\n",
    "assert len(ans_initials) == 7"
   ]
  },
  {
   "cell_type": "markdown",
   "metadata": {
    "deletable": false,
    "editable": false,
    "nbgrader": {
     "grade": false,
     "grade_id": "cell-6727f8213243afc0",
     "locked": true,
     "schema_version": 3,
     "solution": false
    }
   },
   "source": [
    "#### Q1.c)\n",
    "\n",
    "Now, extract only the company names whose stock tickers contain just a single letter. For example, if the string looks like `Lisbon Data Science Academy (L) -- Education`, return just `Lisbon Data Science Academy`. Store the company names as a list called `ans_single`.\n",
    "\n",
    "For an extra challenge, try to do this using just one regex pattern. You may want to use `re.search()` and read about [capturing groups](https://docs.python.org/3/howto/regex.html#grouping), and don't forget you can use tools like https://regex101.com/ to test your regexes. "
   ]
  },
  {
   "cell_type": "code",
   "execution_count": 8,
   "metadata": {
    "deletable": false,
    "nbgrader": {
     "grade": false,
     "grade_id": "cell-447eb675481e47fd",
     "locked": false,
     "schema_version": 3,
     "solution": true
    }
   },
   "outputs": [
    {
     "data": {
      "text/plain": [
       "['Agilent Technologies Inc',\n",
       " 'AT&T Inc.',\n",
       " 'Citigroup Inc.',\n",
       " 'Dominion Energy',\n",
       " 'Ford Motor Company',\n",
       " 'Jacobs Engineering Group',\n",
       " 'Kellogg Co.',\n",
       " 'Loews Corp.',\n",
       " 'Realty Income Corporation',\n",
       " 'Visa Inc.']"
      ]
     },
     "execution_count": 8,
     "metadata": {},
     "output_type": "execute_result"
    }
   ],
   "source": [
    "# ans_single = [ ... ]\n",
    "ans_single =[]\n",
    "\n",
    "for text in companies :\n",
    "    p=re.compile('(.*)(\\s)\\([A-Z]\\)')\n",
    "    b=p.search(text)\n",
    "    if b != None :\n",
    "        ans_single.append(b.group(1))\n",
    "    \n",
    "ans_single"
   ]
  },
  {
   "cell_type": "code",
   "execution_count": 9,
   "metadata": {
    "deletable": false,
    "editable": false,
    "nbgrader": {
     "grade": true,
     "grade_id": "cell-535072609d84d577",
     "locked": true,
     "points": 2.5,
     "schema_version": 3,
     "solution": false
    }
   },
   "outputs": [],
   "source": [
    "assert len(ans_single) == 10\n",
    "assert hashlib.sha256(' '.join(ans_single).encode()).hexdigest() == 'b449c503fabbec88da870a63b6bda074496741113d7c04f204ad597a31ca23fb'"
   ]
  },
  {
   "cell_type": "markdown",
   "metadata": {
    "deletable": false,
    "editable": false,
    "nbgrader": {
     "grade": false,
     "grade_id": "cell-0409818769bbf3d0",
     "locked": true,
     "schema_version": 3,
     "solution": false
    }
   },
   "source": [
    "## Q2. Sports News (preprocessing)\n",
    "\n",
    "Here is a subset of data taken from the 20 Newsgroups dataset, a classic text classification dataset, which we can download directly from [scikit-learn](https://scikit-learn.org/stable/datasets/real_world.html#newsgroups-dataset). To keep things simple, we will only be focusing on two of the categories, `rec.sport.baseball` and `rec.sport.hockey`. Our goal will be to classify whether news articles are about the sport of baseball or hockey.\n",
    "\n",
    "First, let's prepare the data:"
   ]
  },
  {
   "cell_type": "code",
   "execution_count": 10,
   "metadata": {
    "deletable": false,
    "editable": false,
    "nbgrader": {
     "grade": false,
     "grade_id": "cell-5684ea0f3e42ccee",
     "locked": true,
     "schema_version": 3,
     "solution": false,
     "task": false
    }
   },
   "outputs": [],
   "source": [
    "# This is how the data was originally downloaded\n",
    "\n",
    "# from sklearn.datasets import fetch_20newsgroups\n",
    "\n",
    "# categories = [\n",
    "#  'rec.sport.baseball',\n",
    "#  'rec.sport.hockey',\n",
    "# ]\n",
    "\n",
    "# # returns a list of strings X representing the articles to classify, and the category labels y as a numpy array\n",
    "# X, y = fetch_20newsgroups(subset=\"all\", remove=(\"headers\", \"footers\", \"quotes\"),\n",
    "#                           categories=categories, return_X_y=True)"
   ]
  },
  {
   "cell_type": "code",
   "execution_count": 11,
   "metadata": {
    "deletable": false,
    "editable": false,
    "nbgrader": {
     "grade": false,
     "grade_id": "cell-d16b254d5489bd0b",
     "locked": true,
     "schema_version": 3,
     "solution": false,
     "task": false
    }
   },
   "outputs": [],
   "source": [
    "# We will load the data from pickle files instead\n",
    "\n",
    "import pickle\n",
    "\n",
    "with open(\"data/20_newsgroups_baseball_hockey_X.pkl\", \"rb\") as f:\n",
    "    X = pickle.load(f)\n",
    "with open(\"data/20_newsgroups_baseball_hockey_y.pkl\", \"rb\") as f:\n",
    "    y = pickle.load(f)"
   ]
  },
  {
   "cell_type": "markdown",
   "metadata": {
    "deletable": false,
    "editable": false,
    "nbgrader": {
     "grade": false,
     "grade_id": "cell-dbdc0548dd699460",
     "locked": true,
     "schema_version": 3,
     "solution": false,
     "task": false
    }
   },
   "source": [
    "Let's check the data size and distribution of classes:"
   ]
  },
  {
   "cell_type": "code",
   "execution_count": 12,
   "metadata": {
    "deletable": false,
    "editable": false,
    "nbgrader": {
     "grade": false,
     "grade_id": "cell-622a8322d87daf24",
     "locked": true,
     "schema_version": 3,
     "solution": false,
     "task": false
    }
   },
   "outputs": [
    {
     "name": "stdout",
     "output_type": "stream",
     "text": [
      "Size of dataset: 1993\n",
      "Distribution of classes: {0: 994, 1: 999}\n"
     ]
    }
   ],
   "source": [
    "def get_data_stats(X, y):\n",
    "    print(f\"Size of dataset: {len(X)}\")\n",
    "    unique, counts = np.unique(y, return_counts=True)\n",
    "    print(f\"Distribution of classes: {dict(zip(unique, counts))}\")\n",
    "\n",
    "get_data_stats(X, y)"
   ]
  },
  {
   "cell_type": "markdown",
   "metadata": {
    "deletable": false,
    "editable": false,
    "nbgrader": {
     "grade": false,
     "grade_id": "cell-808b90ccd21d360d",
     "locked": true,
     "schema_version": 3,
     "solution": false,
     "task": false
    }
   },
   "source": [
    "Since the classes are evenly distributed, we can use a regular train/dev/test split. We'll use a dev and test size of 10% of the full dataset.\n",
    "\n",
    "**Note**: So far you've using the `train`/`val`/`test` nomenclature for naming variables related to training, validation and test sets, respectively. `dev` is short for \"development\" and is just another typicaly identifier for the validation set, and we'll use it throghout this notebook instead of `val`"
   ]
  },
  {
   "cell_type": "code",
   "execution_count": 13,
   "metadata": {
    "deletable": false,
    "editable": false,
    "nbgrader": {
     "grade": false,
     "grade_id": "cell-a524119b37972d48",
     "locked": true,
     "schema_version": 3,
     "solution": false,
     "task": false
    }
   },
   "outputs": [
    {
     "name": "stdout",
     "output_type": "stream",
     "text": [
      "Train size: 1594\n",
      "Dev size: 199\n",
      "Test size: 200\n"
     ]
    }
   ],
   "source": [
    "# train dev test split\n",
    "X_train, X_temp, y_train, y_temp = train_test_split(X, y, test_size=0.2, random_state=42)\n",
    "X_dev, X_test, y_dev, y_test = train_test_split(X_temp, y_temp, test_size=0.5, random_state=42)\n",
    "print(f\"Train size: {len(X_train)}\\nDev size: {len(X_dev)}\\nTest size: {len(X_test)}\")"
   ]
  },
  {
   "cell_type": "markdown",
   "metadata": {
    "deletable": false,
    "editable": false,
    "nbgrader": {
     "grade": false,
     "grade_id": "cell-e93f9088c1da685e",
     "locked": true,
     "schema_version": 3,
     "solution": false,
     "task": false
    }
   },
   "source": [
    "Since the goal is to turn the strings on X into useful features, now we will be performing common preprocessing operations on the texts."
   ]
  },
  {
   "cell_type": "markdown",
   "metadata": {
    "deletable": false,
    "editable": false,
    "nbgrader": {
     "grade": false,
     "grade_id": "cell-addc0c904c359402",
     "locked": true,
     "schema_version": 3,
     "solution": false
    }
   },
   "source": [
    "#### Q2.a)\n",
    "\n",
    "First tokenize the data. Implement the function to receive a list of strings and an NLTK-style tokenizer, and return the list but with tokenized strings."
   ]
  },
  {
   "cell_type": "code",
   "execution_count": 14,
   "metadata": {
    "deletable": false,
    "nbgrader": {
     "grade": false,
     "grade_id": "cell-a8b7930a61806e32",
     "locked": false,
     "schema_version": 3,
     "solution": true
    }
   },
   "outputs": [],
   "source": [
    "def apply_tokenizer(data, tokenizer):\n",
    "    \"\"\"\n",
    "    Returns a list of sentences that have been tokenized with the provided `tokenizer`\n",
    "    \n",
    "    E.g. for an input [\"This is a test!\", \"No, it can't be\"],\n",
    "         it should return [\"This is a test !\", \"No , it can ' t be\"]\n",
    "    \n",
    "    Args:\n",
    "    data - list of strings containing the text to tokenize\n",
    "    tokenizer - nltk tokenizer\n",
    "    \"\"\"\n",
    "    data_tok=[]\n",
    "    for s in data:\n",
    "        b=tokenizer.tokenize(s)\n",
    "        data_ = \" \".join(b)\n",
    "        data_tok.append(data_)\n",
    "        \n",
    "    \n",
    "    return data_tok\n",
    "   "
   ]
  },
  {
   "cell_type": "code",
   "execution_count": 15,
   "metadata": {
    "deletable": false,
    "editable": false,
    "nbgrader": {
     "grade": true,
     "grade_id": "cell-f829c5a222c54690",
     "locked": true,
     "points": 0.5,
     "schema_version": 3,
     "solution": false
    }
   },
   "outputs": [],
   "source": [
    "tokenizer = WordPunctTokenizer()\n",
    "data_tok = apply_tokenizer(X_train, tokenizer)\n",
    "\n",
    "assert len(data_tok) == 1594\n",
    "assert isinstance (data_tok, list)\n",
    "assert all(isinstance(sentence, str) for sentence in data_tok)\n",
    "\n",
    "assert len([w for s in data_tok for w in s.split(\" \")]) == 333566\n",
    "assert hashlib.sha256(data_tok[1234].encode()).hexdigest() == \\\n",
    "    'bd70c45292aafb1430f3dae58dd7b3732ff2ddebc8acb64976a38efbe7945215'\n",
    "assert hashlib.sha256(data_tok[567].encode()).hexdigest() == \\\n",
    "    '0de358e31d950ef321b2f3d762b525a8ab1e65e0a2c392633e6984e40253f2e4'"
   ]
  },
  {
   "cell_type": "markdown",
   "metadata": {
    "deletable": false,
    "editable": false,
    "nbgrader": {
     "grade": false,
     "grade_id": "cell-b76d100b971a777f",
     "locked": true,
     "schema_version": 3,
     "solution": false
    }
   },
   "source": [
    "#### Q2.b)\n",
    "\n",
    "The second step you will implement is lowercasing the data."
   ]
  },
  {
   "cell_type": "code",
   "execution_count": 16,
   "metadata": {
    "deletable": false,
    "nbgrader": {
     "grade": false,
     "grade_id": "cell-ee47fb5a45fbd622",
     "locked": false,
     "schema_version": 3,
     "solution": true
    }
   },
   "outputs": [],
   "source": [
    "def apply_lowercase(data):\n",
    "    \"\"\"\n",
    "    Returns a list of strings, with all the tokens lowercased.\n",
    "    \n",
    "    Args:\n",
    "    data - list of strings to be lowercased\n",
    "    \"\"\"\n",
    "    data_tok_lc=[]\n",
    "    for s in data:\n",
    "        b=s.lower()\n",
    "        data_tok_lc.append(b)\n",
    "        \n",
    "        \n",
    "        \n",
    "    \n",
    "    return data_tok_lc\n",
    "    "
   ]
  },
  {
   "cell_type": "code",
   "execution_count": 17,
   "metadata": {},
   "outputs": [],
   "source": [
    "data_tok_lc = apply_lowercase(data_tok)\n"
   ]
  },
  {
   "cell_type": "code",
   "execution_count": 18,
   "metadata": {
    "deletable": false,
    "editable": false,
    "nbgrader": {
     "grade": true,
     "grade_id": "cell-7979e12840663ea2",
     "locked": true,
     "points": 0.5,
     "schema_version": 3,
     "solution": false
    }
   },
   "outputs": [],
   "source": [
    "data_tok_lc = apply_lowercase(data_tok)\n",
    "\n",
    "assert len(data_tok_lc) == 1594\n",
    "assert isinstance (data_tok, list)\n",
    "assert all(isinstance(sentence, str) for sentence in data_tok)\n",
    "\n",
    "assert len([w for s in data_tok_lc for w in s.split(\" \")]) == 333566\n",
    "assert hashlib.sha256(data_tok_lc[1234].encode()).hexdigest() == \\\n",
    "    'e12bd8bec884721329792d49085e8e6b268c8129da7ed638b06ccdf3ea49c7a5'\n",
    "assert hashlib.sha256(data_tok_lc[567].encode()).hexdigest() == \\\n",
    "    '4476776aa3ea52c7580c592bfeb0e2286a79ec1bb615188518a167a73429b424'"
   ]
  },
  {
   "cell_type": "markdown",
   "metadata": {
    "deletable": false,
    "editable": false,
    "nbgrader": {
     "grade": false,
     "grade_id": "cell-c8044c14c20583cf",
     "locked": true,
     "schema_version": 3,
     "solution": false
    }
   },
   "source": [
    "#### Q2.c)\n",
    "\n",
    "Now implement a function that filters the stopwords. We will use NLTK's built-in English stopword list."
   ]
  },
  {
   "cell_type": "code",
   "execution_count": 19,
   "metadata": {
    "deletable": false,
    "editable": false,
    "nbgrader": {
     "grade": false,
     "grade_id": "cell-3f0dea2c5108c93a",
     "locked": true,
     "schema_version": 3,
     "solution": false,
     "task": false
    }
   },
   "outputs": [],
   "source": [
    "stopword_list = stopwords.words('english')"
   ]
  },
  {
   "cell_type": "code",
   "execution_count": 20,
   "metadata": {
    "deletable": false,
    "nbgrader": {
     "grade": false,
     "grade_id": "cell-42ecb29c8fe117f1",
     "locked": false,
     "schema_version": 3,
     "solution": true
    }
   },
   "outputs": [],
   "source": [
    "def apply_filter_stopwords(data, stopword_list):\n",
    "    \"\"\"\n",
    "    Returns a list of strings, where the strings do not contain any of\n",
    "        the stopwords in the given list.\n",
    "    \n",
    "    Args:\n",
    "    data - list of strings to filter stopwords from\n",
    "    stopword_list - list of stopwords to filter out\n",
    "    \"\"\"\n",
    "    data_no_stopwords=[]\n",
    "    for words in data :\n",
    "        removed = [word for word in tokenizer.tokenize(words) if word not in stopword_list]\n",
    "        strings = ' '.join(removed)\n",
    "        data_no_stopwords.append(strings)\n",
    "     \n",
    "    return data_no_stopwords\n"
   ]
  },
  {
   "cell_type": "code",
   "execution_count": 21,
   "metadata": {
    "deletable": false,
    "editable": false,
    "nbgrader": {
     "grade": true,
     "grade_id": "cell-f70da0255ea6e291",
     "locked": true,
     "points": 0.5,
     "schema_version": 3,
     "solution": false
    }
   },
   "outputs": [],
   "source": [
    "data_tok_lc_nosw = apply_filter_stopwords(data_tok_lc, stopword_list)\n",
    "\n",
    "assert len(data_tok_lc_nosw) == 1594\n",
    "assert isinstance (data_tok, list)\n",
    "assert all(isinstance(sentence, str) for sentence in data_tok)\n",
    "\n",
    "assert len([w for s in data_tok_lc_nosw for w in s.split(\" \")]) == 239401\n",
    "assert hashlib.sha256(data_tok_lc_nosw[1234].encode()).hexdigest() == \\\n",
    "    '9d48d50a7a0dcd3676c13419750a3aad75006e165d2c614e0fe7e8f98d521b84'\n",
    "assert hashlib.sha256(data_tok_lc_nosw[567].encode()).hexdigest() == \\\n",
    "    'd1d745ba13b4588eb2356dd3a5119113e391bfe226bc4126338391bf03830ecf'"
   ]
  },
  {
   "cell_type": "markdown",
   "metadata": {
    "deletable": false,
    "editable": false,
    "nbgrader": {
     "grade": false,
     "grade_id": "cell-8d0cb317596faa2f",
     "locked": true,
     "schema_version": 3,
     "solution": false
    }
   },
   "source": [
    "#### Q2.d)\n",
    "\n",
    "After filtering stopwords, we want to remove punctuation from the text as well. Make use of `string.punctuation` to do so. Make sure to remove all punctuation and not only tokens that are single punctuation characters. \n",
    "\n",
    "_Hint: check the note on punctuation in Part 2 of the learning notebooks_"
   ]
  },
  {
   "cell_type": "code",
   "execution_count": 22,
   "metadata": {
    "deletable": false,
    "nbgrader": {
     "grade": false,
     "grade_id": "cell-a0cd3cf5cc97a8f2",
     "locked": false,
     "schema_version": 3,
     "solution": true
    }
   },
   "outputs": [],
   "source": [
    "def apply_filter_punct(data):\n",
    "    \"\"\"\n",
    "    Returns a list of tokenized sentences with no punctuation.\n",
    "    \n",
    "    Args:\n",
    "    data - list of tokenized sentences from which to remove punctuation\n",
    "    \"\"\"\n",
    "\n",
    "    data_tok_lc_nosw_nopunct=[]\n",
    "    for words in data :\n",
    "        removed = [word for word in words if word not in string.punctuation]\n",
    "        \n",
    "        strings = ''.join(removed)\n",
    "        \n",
    "        data_tok_lc_nosw_nopunct.append(strings)\n",
    "     \n",
    "    return data_tok_lc_nosw_nopunct\n"
   ]
  },
  {
   "cell_type": "code",
   "execution_count": 23,
   "metadata": {
    "deletable": false,
    "editable": false,
    "nbgrader": {
     "grade": false,
     "grade_id": "cell-31c9a6a65413aef8",
     "locked": true,
     "schema_version": 3,
     "solution": false,
     "task": false
    }
   },
   "outputs": [],
   "source": [
    "data_tok_lc_nosw_nopunct = apply_filter_punct(data_tok_lc_nosw)\n"
   ]
  },
  {
   "cell_type": "markdown",
   "metadata": {
    "deletable": false,
    "editable": false,
    "nbgrader": {
     "grade": false,
     "grade_id": "cell-925e418acc339a2f",
     "locked": true,
     "schema_version": 3,
     "solution": false,
     "task": false
    }
   },
   "source": [
    "#### Normalize whitespaces\n",
    "\n",
    "Run the following function on `data_tok_lc_nosw_nopunct` before checking your answers, in case extra whitespaces cause the asserts to fail:"
   ]
  },
  {
   "cell_type": "code",
   "execution_count": 24,
   "metadata": {
    "deletable": false,
    "editable": false,
    "nbgrader": {
     "grade": false,
     "grade_id": "cell-67539c50de422305",
     "locked": true,
     "schema_version": 3,
     "solution": false,
     "task": false
    }
   },
   "outputs": [],
   "source": [
    "def normalize_whitespace(data):\n",
    "    return [re.sub(r\"^\\s+|\\s+$|(?<=\\s)\\s*\", \"\", text) for text in data]\n",
    "\n",
    "data_tok_lc_nosw_nopunct_norm = normalize_whitespace(data_tok_lc_nosw_nopunct)"
   ]
  },
  {
   "cell_type": "code",
   "execution_count": 25,
   "metadata": {
    "deletable": false,
    "editable": false,
    "nbgrader": {
     "grade": true,
     "grade_id": "cell-650a677a3a01d1bf",
     "locked": true,
     "points": 0.5,
     "schema_version": 3,
     "solution": false
    }
   },
   "outputs": [],
   "source": [
    "assert len(data_tok_lc_nosw_nopunct_norm) == 1594\n",
    "assert len([w for s in data_tok_lc_nosw_nopunct_norm for w in s.split(\" \")]) == 174486\n",
    "assert hashlib.sha256(data_tok_lc_nosw_nopunct_norm[1234].encode()).hexdigest() == \\\n",
    "    '57b0c8646701140d4edfb7112b812c0df7cdebfe7db1a58811c9229f906f6ca9'\n",
    "assert hashlib.sha256(data_tok_lc_nosw_nopunct_norm[567].encode()).hexdigest() == \\\n",
    "    'a39ba5c27525d163573d484284aff0228118db129aeae1623020ac11b063a952'"
   ]
  },
  {
   "cell_type": "markdown",
   "metadata": {
    "deletable": false,
    "editable": false,
    "nbgrader": {
     "grade": false,
     "grade_id": "cell-38d66dd89731e114",
     "locked": true,
     "schema_version": 3,
     "solution": false
    }
   },
   "source": [
    "#### Q2.e)\n",
    "\n",
    "The last preprocessing step you are going to implement is stemming. Implement the function to receive an NLTK-style stemmer and return the text as a string with the stemmer applied."
   ]
  },
  {
   "cell_type": "code",
   "execution_count": 26,
   "metadata": {
    "deletable": false,
    "nbgrader": {
     "grade": false,
     "grade_id": "cell-a831ba989f3e50e6",
     "locked": false,
     "schema_version": 3,
     "solution": true
    }
   },
   "outputs": [],
   "source": [
    "def apply_stemmer(data, stemmer):\n",
    "    \"\"\"\n",
    "    Returns a list of strings, with stemmed data.\n",
    "    \n",
    "    Args:\n",
    "    data - list with text to stem\n",
    "    stemmer - instance of stemmer to use\n",
    "    \"\"\"\n",
    "    stemmed_data = []\n",
    "    #data_tok_lc_nosw_nopunct_norm_stem = list(map(stemmer.stem, data))\n",
    "    for text in data:\n",
    "        stemmed_text = [stemmer.stem(word) for word in text.split()]\n",
    "        stemmed_data.append(\" \".join(stemmed_text))\n",
    "     \n",
    "    return stemmed_data"
   ]
  },
  {
   "cell_type": "code",
   "execution_count": 27,
   "metadata": {},
   "outputs": [],
   "source": [
    "stemmer = SnowballStemmer(\"english\")\n",
    "data_tok_lc_nosw_nopunct_norm_stem = apply_stemmer(data_tok_lc_nosw_nopunct_norm, stemmer)\n"
   ]
  },
  {
   "cell_type": "code",
   "execution_count": 28,
   "metadata": {},
   "outputs": [
    {
     "data": {
      "text/plain": [
       "'event impact gaetti career leg injuri 1988 perform drop radic 1988 1989 still twin 1989 1990 look stat offens defens never come back pre injuri level'"
      ]
     },
     "execution_count": 28,
     "metadata": {},
     "output_type": "execute_result"
    }
   ],
   "source": [
    "data_tok_lc_nosw_nopunct_norm_stem[2]"
   ]
  },
  {
   "cell_type": "code",
   "execution_count": 29,
   "metadata": {
    "deletable": false,
    "editable": false,
    "nbgrader": {
     "grade": true,
     "grade_id": "cell-3596a6510ebbda3d",
     "locked": true,
     "points": 0.5,
     "schema_version": 3,
     "solution": false
    }
   },
   "outputs": [],
   "source": [
    "stemmer = SnowballStemmer(\"english\")\n",
    "data_tok_lc_nosw_nopunct_norm_stem = apply_stemmer(data_tok_lc_nosw_nopunct_norm, stemmer)\n",
    "\n",
    "assert len(data_tok_lc_nosw_nopunct_norm_stem) == 1594\n",
    "assert len([w for s in data_tok_lc_nosw_nopunct_norm_stem for w in s.split(\" \")]) == 174486\n",
    "assert hashlib.sha256(data_tok_lc_nosw_nopunct_norm_stem[1234].encode()).hexdigest() == \\\n",
    "    'f8e83239a3658073219232f17c270a0df20d4cebfb517ce935d395e02467009f'\n",
    "assert hashlib.sha256(data_tok_lc_nosw_nopunct_norm_stem[567].encode()).hexdigest() == \\\n",
    "    '4f36be21767ee2ad747baecf0d67b8b082c8c65f334fce896036870a75570fb0'"
   ]
  },
  {
   "cell_type": "code",
   "execution_count": 30,
   "metadata": {},
   "outputs": [
    {
     "data": {
      "text/plain": [
       "['',\n",
       " 'keeper stat famili hockey pool look daili week email server playoff stat connect server j militzok skidmor edu wilson cs ucf edu still sort two other email pleas site get group thank rick',\n",
       " 'event impact gaetti career leg injuri 1988 perform drop radic 1988 1989 still twin 1989 1990 look stat offens defens never come back pre injuri level',\n",
       " 'hartford 1 1 3 5 ny ranger 1 2 1 4 first period 1 hartford cunneyworth 5 janssen greig 12 21 2 ny ranger grave 34 turcott zubov 18 39 second period 3 ny ranger kovalev 19 turcott grave 2 12 4 hartford sanderson 44 cassel pp 4 54 5 ny ranger amont 30 andersson vanbiesbrouck pp 19 13 third period 6 ny ranger messier 25 amont andersson 2 26 7 hartford sanderson 45 cassel sh 5 23 8 hartford nyland 6 ladouceur 8 35 9 hartford verbeek 36 zalapski 17 43 hartford 5 power play 4 1 special goal pp 1 sh 1 total 2 scorer g pts cassel 0 2 2 cunneyworth 1 0 1 greig 0 1 1 janssen 0 1 1 ladouceur 0 1 1 nyland 1 0 1 sanderson 2 0 2 verbeek 1 0 1 zalapski 0 1 1',\n",
       " 'averi 2 overal pick brave behind mark lewi think 1988 john smoltz came brave tiger develop brave jeff blauser bad player dale j stephenson steph cs uiuc edu basebal fanat',\n",
       " '1993apr21 211038 12363 newshub ist ca dchhabra stpl ist ca',\n",
       " 'accord hockey gurus espn island win tonit two team record devil play penguin island season seri devil think rule decid tie breaker includ 1 season seri 2 goal 3 goal order correct wrong anyon anyth add craig',\n",
       " 'new jersey 1 0 2 3 pittsburgh 2 3 1 6 first period 1 pittsburgh tocchet 1 steven lemieux pp 1 40 2 new jersey barr 1 guerin holik 6 24 3 pittsburgh lemieux 1 jagr ramsey 9 33 second period 4 pittsburgh lemieux 2 steven murphi pp 4 11 5 pittsburgh franci 1 ramsey mullen 12 57 6 pittsburgh tippett 1 jagr mceachern 17 13 third period 7 pittsburgh jagr 1 samuelsson lemieux pp 8 35 8 new jersey steven 1 niedermay driver pp 11 48 9 new jersey steven 2 semak niedermay 18 56 pittsburgh 6 power play 8 3 scorer g pts franci 1 0 1 jagr 1 2 3 lemieux 2 2 4 mceachern 0 1 1 mullen 0 1 1 murphi 0 1 1 ramsey 0 2 2 samuelsson 0 1 1 steven 0 2 2 tippett 1 0 1 tocchet 1 0 1 new jersey 3 power play 8 1 scorer g pts barr 1 0 1 driver 0 1 1 guerin 0 1 1 holik 0 1 1 niedermay 0 2 2 semak 0 1 1 steven 2 0 2 st loui 0 2 2 4 chicago 1 2 0 3 first period 1 chicago noonan 1 larmer brown 8 17 second period 2 st loui brown 1 shanahan emerson 3 12 3 chicago noonan 2 roenick chelio pp 5 40 4 chicago noonan 3 matteau sutter 8 51 5 st loui felsner 1 mcrae janney 12 49 third period 6 st loui shanahan 1 brown hull pp 11 12 7 st loui hull 1 emerson brown pp 11 29 st loui 4 power play 4 2 scorer g pts brown 1 2 3 emerson 0 2 2 felsner 1 0 1 hull 1 1 2 janney 0 1 1 mcrae 0 1 1 shanahan 1 1 2 chicago 3 power play 7 1 scorer g pts brown 0 1 1 chelio 0 1 1 larmer 0 1 1 matteau 0 1 1 noonan 3 0 3 roenick 0 1 1 sutter 0 1 1 los angel 1 3 2 6 calgari 0 1 2 3 first period 1 los angel sydor 1 gretzki sandstrom 0 16 second period 2 calgari suter 1 fleuri sh 2 48 3 los angel carson 1 shuchuk sydor pp 3 13 4 los angel huddi 1 taylor rychel 3 37 5 los angel mcsorley 1 unassist 6 36 third period 6 los angel millen 1 granato donnelli 1 06 7 calgari dahlquist 1 otto 4 23 8 calgari yawney 1 macinni reichel 8 47 9 los angel carson 2 sandstrom robitaill pp 10 32 los angel 6 power play 10 2 scorer g pts carson 2 0 2 donnelli 0 1 1 granato 0 1 1 gretzki 0 1 1 huddi 1 0 1 mcsorley 1 0 1 millen 1 0 1 robitaill 0 1 1 rychel 0 1 1 sandstrom 0 2 2 shuchuk 0 1 1 sydor 1 1 2 taylor 0 1 1 calgari 3 power play 8 0 special goal sh 1 total 1 scorer g pts dahlquist 1 0 1 fleuri 0 1 1 macinni 0 1 1 otto 0 1 1 reichel 0 1 1 suter 1 0 1 yawney 1 0 1 first period 1 ny island ferraro 1 flatley vask 5 56 second period score third period 2 washington hunter 1 elynuik krygier 3 18 3 washington hunter 2 khristich johansson pp 7 01 4 washington khristich 1 pivonka johansson pp 15 25 washington 3 power play 5 2 scorer g pts elynuik 0 1 1 hunter 2 0 2 johansson 0 2 2 khristich 1 1 2 krygier 0 1 1 pivonka 0 1 1 ny island 1 power play 5 0 scorer g pts ferraro 1 0 1 flatley 0 1 1 vask 0 1 1 buffalo 2 1 1 1 5 boston 0 2 2 0 4 first period 1 buffalo hannan 1 unassist 2 32 2 buffalo lafontain 1 mogilni 9 26 second period 3 boston juneau 1 neeli oat pp 7 20 4 boston neeli 1 oat juneau 14 42 5 buffalo mogilni 1 hawerchuk smehlik 19 55 third period 6 buffalo mogilni 2 unassist 3 46 7 boston neeli 2 juneau oat 15 44 8 boston heinz 1 juneau 17 00 overtim 9 buffalo sweeney 1 khmylev smehlik 11 03 buffalo 5 power play 3 0 scorer g pts hannan 1 0 1 hawerchuk 0 1 1 khmylev 0 1 1 lafontain 1 0 1 mogilni 2 1 3 smehlik 0 2 2 sweeney 1 0 1 boston 4 power play 7 1 scorer g pts heinz 1 0 1 juneau 1 3 4 neeli 2 1 3 oat 0 3 3 montreal 1 1 0 0 2 quebec 0 0 2 1 3 first period 1 montreal dionn 1 dipietro brunet 5 52 second period 2 montreal bellow 1 muller desjardin 9 58 third period 3 quebec rucinski 1 lapoint sundin pp 18 31 4 quebec sakic 1 lapoint 19 12 overtim 5 quebec young 1 ricci duchesn 16 49 quebec 3 power play 4 1 scorer g pts duchesn 0 1 1 lapoint 0 2 2 ricci 0 1 1 rucinski 1 0 1 sakic 1 0 1 sundin 0 1 1 young 1 0 1 montreal 2 power play 1 0 scorer g pts bellow 1 0 1 brunet 0 1 1 desjardin 0 1 1 dionn 1 0 1 dipietro 0 1 1 muller 0 1 1',\n",
       " 'atlanta undisput best start rotat feel relief staff may suspect real closer although mike stanton 4 save use role stanton start great last year falter despit point well taken atlanta seem person ny team thus unlik self destruct houston take em atlanta need suffer injuri particular start rotat understand boever murphi consid expend club houston felt posit could fill number player art doug jone key houston success must anoth great year houston challeng nl west lousey spring right strong rotat take pressur troubl bullpen unsuspect strength lower part order save club far biggio finley job get base instead fill role rbi man bagwel assum biggio finley job biggio concern sinc usual start season strong side note concern rumor concern next year uniform talk road uniform blech tradit grey word houston written across chest mistaken home uniform may total elimin color orang shiver mclane favorit color red realli upset current unform dull new one sound horribl like see uniform mid 1980s return may pretti houston establish long precid wear ugliest uniform basebal like astro fan sinc day ryan scott smith cruz davi bass hatcher',\n",
       " 'news steve status sinc lost start job would appreci',\n",
       " 'much pure simpl grant fuhr money awesom playoff especi last night mogilni score well russian friend kymlev sp also done well fuhr biggest reason win differ year team previous year',\n",
       " 'shameless woof delet behalf rest us tiger fan appolig shameless woof tri keep minimum win game day sometim hard control see philli fan',\n",
       " 'protest would deni cours umpir judgement determin garbag thing although think game call person opinion matter time ump say second argument baseless',\n",
       " 'hi wonder anyon knew erickson keith miller expect come back exact ail sincer',\n",
       " 'jayson stark trhink fit perfect categori anyon write dean palmer 2 homer pace 324 home run shot end april 11 anyon write pace 100 homer shouldb shot',\n",
       " 'still aluminum stick got first 15 christian broke shaft halfway season two year later bought anoth canadian begin next season still also easton friend get rid give game find easton blade easier get brand blade pretti well interchang watch dri bit firewood store pass blade experi blade aluminum break often regular stick ever broken one aluminum shaft like aluminum stick blade quick chang even bench downsid shaft break decid impal ciao mark',\n",
       " 'heard rumor la cin hou sd interest mark davi surpris team give someth cash actual get lynch mob',\n",
       " 'actual answer one bosio walk first two batter retir 27 straight back end perfect game mani game includ extra inning game seen pitcher retir 27 straight exclud offici perfect game instanc know sure famous erni shore game count perfect one accord goon cooperstown shore came game boston pitcher babe ruth got thrown argu first batter walk shore pick retir 26 straight matt wall wall cc swarthmor edu hey gotta job ok',\n",
       " 'detroit april 21 knowledg observ watch shock detroit red wing beat best goaltend world six time en rout anoth easi victori best team nhl best goaltend world felix potvin six bad number surrend six goal collect six minut penalti repons goon tactic employ inferior red wing team alan',\n",
       " 'come indirect al morgani work studio espn hockey text delet espn contractu oblig show basebal could broadcast ot hockey game next year espn2 introduc basebal fan watch basebal hockey fan watch hockey heard new espn2 new network suppos start sound great long cabl co offer',\n",
       " 'hi german mlb stuff sinc almost one year mani problem occur one era statist pitcher say era indic averag number earn run attribut pitcher per nine inning game thus pitcher pitch 3 inning gave 1 earn run 9 inning equivel perfom would 3 earn run thus era 3 00 comput era simpli take number earn run divid inning pitch multipl result 9 era er ip 9 earn run run given pitcher attribut field error specif error occur repres third run score error consid unearn run earn run also run score result player left base pitcher exit game exampl two out inning men base error occur repres third run error count earn run pitcher issu base ball walk leav game inning complet respons peopl left base runner left base score score result error eran run attribut pitcher left game hope explain thing',\n",
       " 'report ottawa today say senat come verbal agreement last season first pick 2nd overal choic alexei yashin 5 year deal well senat sign second round pick chad penney current play sault ste mari greyhound ontario junior leagu playoff',\n",
       " 'write hesit make assumpt peopl write neither two sound though kid may spous either consid night game start 7 05 pm est 7 35 last year cleveland show thought good sens push back go 11 pm minimum extra inning could put well past midnight even without extra inning score beyond 2 1 see famili night next day workday may bag well later game goe colder get shore lake eri stuff enter consider even go game say care whether game sped impo say care time goe game peopl famili get work next day rg',\n",
       " 'fact go suggest roger take way discuss r footbal pro kind hormon reason standard canadian hockey would suggest r h would work import thread everyon involv use bodi part produc post brain organ choic',\n",
       " 'heard news asn carri game local cabl station st john cabl 9 carri game live hey better noth go leaf go dale',\n",
       " 'sandiego graig nettl',\n",
       " 'colorado rocki open day cast pitcher scott aldr l mlb total 31 game 6 14 5 08 era 0 save andi ashbi r 18 game 2 8 6 72 era 0 save willi blair r 67 game 10 15 4 57 era 0 save butch henri l 28 game 6 9 4 02 era 0 save darren holm r 95 game 5 9 4 10 era 9 save david neid r 6 game 3 0 1 17 era 0 save jeff parrett r 341 game 46 30 3 65 era 21 save steve reed r 18 game 1 0 2 30 era 0 save bruce ruffin l 223 game 43 64 4 31 era 3 save bryn smith r 354 game 106 90 3 44 era 6 save gari wayn l 147 game 8 8 3 44 era 3 save rest',\n",
       " 'border blasphemi',\n",
       " 'devorski unfortun help taint otherwis brilliant display maclean canuck tie jet tight thought mail btw greg next time fall asleep geographi class pretti sad fellow norway spell winnipeg proper guy north america one thing long vancouv nhl mani championship oh yeah go arena see one two six championship banner hang rafter 3 stanley cup banner 3 avco cup banner nhl guid say vancouv cup mani time rockin town kenora',\n",
       " 'k one seri done need post someth way island score rank team name point final 4 1 rolandbehunin 5 cal 6 que 7 que 7 2 miltonkeynesk 0 det 6 pit 5 pit 5 barfli 0 tor 6 bos 7 tor 6 dean 0 det 5 pit 5 pit 7 oz 0 lak 6 bos 6 lak 6 garri 0 tor 6 bos 6 bos 4 brianbergman 0 det 6 pit 6 det 6 moparmusclemen 0 chi 5 pit 6 pit 5 bh slastplacepick 0 chi 5 pit 6 pit 5 davewessel 0 van 7 pit 6 pit 5 sam hisdog 0 det 6 pit 5 pit 5 yede 0 det 6 pit 5 pit 6 tamperestar 0 chi 6 pit 6 pit 6 themightyhedgehogsofmyllyp 0 chi 6 bos 6 bos 6 homesickhawaiian 0 van 7 pit 6 pit 5 killerk 0 chi 6 6 chi 6 puggygreybeard 0 det 5 pit 5 pit 5 ottawabearcat 0 tor 5 pit 6 tor 6 andrewkirk 0 tor 6 pit 6 pit 5 mullernwalk 0 det 6 pit 6 pit 6 excalibur 0 det 6 pit 4 pit 6 rednecksfromhockeyhel 0 det 7 bos 5 bos 5 the rangersof1940 0 chi 6 pit 7 pit 6 jeffphelp 0 det 6 pit 6 pit 5 arcticcircl 0 det 6 pit 6 pit 4 sludg 0 det 6 pit 6 det 6 thelogistician 0 det 6 pit 6 det 7 hillsideraid 0 chi 6 bos 6 bos 7 daniell 0 chi 5 que 7 que 7 staniasstar 0 chi 6 bos 7 bos 6 bloodhook 0 det 5 pit 5 pit 5 gillescarmel 0 chi 6 pit 7 pit 7 pasifr nti 0 lak 7 pit 5 pit 6 evanpritchard 0 van 6 pit 6 pit 5 skrikowolv 0 det 7 pit 5 pit 5 rangersblow 0 cal 7 pit 6 pit 4 sean 0 det 5 pit 5 pit 6 schottshoot 0 chi 6 pit 5 pit 5 garyshiff 0 tor 4 pit 6 pit 4 mikeburg 0 det 7 pit 6 det 7 dars 0 det 6 pit 6 pit 6',\n",
       " 'pen 6 nj devil 6 first period score 1 pittsburgh daniel needham tippett 4 14 2 nj devil c lemieux semak driver 10 19 3 pittsburgh steven tocchet murphi 12 40ppg 4 nj devil zelepukin driver niedermay 17 26 penalti pgh steven rough 1 30 njd pellerin doubl minor cross check 1 30 njd zelepukin trip 7 21 njd stasni hold 11 15 pgh taglianetti rough 13 51 njd lemieux rough 13 51 pgh jagr trip 15 23 second period score 5 pittsburgh lemieux murphi tocchet 1 42 6 nj devil semak lemieux zelepukin 2 27 7 pittsburgh mceachern jagr barrasso 4 24 8 njd steven guerin pellerin 5 45 9 pittsburgh lemieux unassist 12 40shg 10 nj devil richer nichol 15 53 11 nj devil lemieux zelepukin 17 40 penalti pgh steven rough 3 06 njd mckay rough 3 06 pgh mullen hook 10 42 pgh tocchet rough 12 06 njd steven slash 12 06 njd lemieux unsportsmanlik conduct 12 40 pgh u samuelsson cross check 20 00 pgh barrasso doubl minor spear serv mceachern 20 00 njd holik cross check 20 00 njd lemieux rough 20 00 third period score 12 pittsburgh mullen jagr lemieux 18 54 penalti njd daneyko interfer 3 37 pgh steven rough 9 18 njd holik rough 9 18 pgh match penalti game misconduct 9 50 njd zelepukin trip 12 01 pgh steven rough 18 41 njd daneyko rough 18 41 overtim score score penalti penalti shot goal pittsburgh 9 11 8 2 30 nj devil 12 15 9 3 39 goali barrasso 39 shot 33 save 43 14 5 billington 30 shot 24 save ref devorski linesmen gauthier vine',\n",
       " 'mark singer bring strawberri incid lost homerun fan caught yes think done get way much fan want catch ball realli awar win game import dodger fan awar home stadium entail help home team win way possibl soon ball hit far first instinct root darryl catch tri catch particular sit close enjoy attitud wrigley fan visit team home run much actual throw back field noth whether darryl could caught sure probabl screw fan realiz first respons get way help team win',\n",
       " 'stand game 1 division semi final hey look 4 tri post stand game e everi two day manag recov email lost saturday night miss mail arriv earli saturday morn sunday afternoon mani peopl sent team may receiv two repli back team name list pleas resend team see kind proof sent weekend help case serious fun pool trust person honest sorri inconveni hope pool still fun andrew usenet hockey playoff draft stand posn team pts rem last posn 1 sneddon scorer 43 25 2 borg 42 25 dave wessel 42 25 4 bruce rent mule 41 25 great expect 41 25 hurrican andrew 41 25 jerki boy 41 24 homesick hawaiian 41 25 9 give money monday 40 25 einstien punk band 40 25 11 zipper head 39 25 tapio repo 39 25 detroit homeboy 39 25 dead duck 39 25 mike burger 39 25 test depart 39 25 team elvi 39 25 craig team 39 25 19 skate die 38 25 debbi bowl 38 25 fuzzfac galor 38 25 sud 38 25 campi machin 38 25 zachman winger 38 25 sean forb 38 25 threepeat 38 25 flam senat 38 25 team awesom 38 25 p buri 38 25 purdu rick pen 38 25 gb flyer 38 25 seppo kemppainen 38 25 33 paig fault 37 25 weeni 37 25 chris roney 37 25 redneck hockey hell 37 25 dog hog 37 25 mind sweeper 37 25 teem kanada 37 25 northern light 37 25 fugazi 37 25 delawar destroy 37 25 mopar muscl men 37 25 lanc hill boston bruin fa 37 25 garryola 37 25 oakvill brother 37 25 sam dog 37 25 cluster buster 37 24 jan stein 37 25 frank littl wanker 37 25 milton keyn king 37 25 promis land 37 25 ranger destini 37 25 54 new zealand leaf 36 25 load weapon 36 25 bloom counti star 36 25 robart research rebel 36 25 tiger chung lee 36 25 goddess ferment 36 25 make belief 36 25 rob del mundo 36 25 heikki salmi 36 25 underwrit 36 25 muller n walker 36 25 controversi warrior 36 25 bjorkloven 36 25 norway killerwhal 36 25 holstein sfb 36 25 buffalo soldier 36 25 lemon pepper grizzli bear 36 25 frack attack 36 25 houdini magician 36 25 ranger 1940 36 24 ranger blow 36 25 75 dave hiebert 35 25 yan loke 35 25 canadian gladiat 35 25 littlest giant 35 25 alf star 35 25 ice kicker 35 25 beer make expert 35 25 forc 25 35 25 mr creosot 35 25 goobmeist 35 25 mulberri mauler 35 25 rev rebel 35 25 boss 35 25 zippeti doodah 35 25 kramer georg jerri 35 25 dehradun maawali 35 25 sludg 35 25 j rock em sock em 35 25 brian bloodlett 35 25 grant marven 35 25 arctic circl 35 25 kane men 35 25 trevor triumph 35 25 mark steve dream 35 25 goalding 35 25 bjoern leaguen 35 25 hab play golf 35 25 102 shigella 34 25 new jersey rob 34 25 steve superstar 34 25 big bay bomber 34 25 doug bowl 34 25 neural netter 34 25 lipp 34 25 let go panda 34 25 les raisin 34 25 dave knee jerk pick 34 25 monica loke 34 25 jason team 34 25 reneb 34 25 schott shooter 34 25 gill carmel 34 25 lewey laker 34 25 smithw 34 25 east citi joker 34 25 daryl turner 34 25 doug mraz 34 25 skriko wolv 34 25 icemachin 34 25 lamp lighter 34 25 thin ice 34 25 joe crak head 34 25 127 samuel lau calgari alberta 33 25 comfort numb 33 25 reksa fan oulu 33 25 gail hiebert 33 25 gee man 33 25 wait there 33 25 marc mauler 33 25 daniell leblanc 33 25 bobbi schmautz fan club 33 25 ottawa bearcat 33 25 boop bet 33 25 tripl x 33 25 timo ojala 33 25 fli pig 33 25 141 erad 32 25 van isl colonist 32 25 commit 32 25 bure blur 32 25 great scott 32 25 weasel 32 25 tequila shooter 32 25 whiter 32 25 frass facepl 32 25 high sticker 32 25 mak paranjap 32 25 lord stanley favourit 32 25 san jose mahi mahi 32 25 oz 32 25 e 32 25 mann marin 32 24 jfz dream team 32 25 stacey ross 32 25 louisiana psycho killer 32 25 la coup stainless 32 25 161 fight amish 31 25 evan pritchard 31 25 stania star 31 25 pen dynasti 31 25 oceanweav 31 25 go go gagit 31 25 myllypuro hedgehog 31 25 arm hammer 31 25 legzryx 31 25 chapman chap 31 25 dean martin 31 25 cherri bomber 31 25 173 sluggo hoser 30 25 anson mak 30 25 knight power play 30 25 176 canuck forc 29 25 butt end 29 25 beam team 29 25 jukurit 29 25 chapman stick 29 25 ken de cruyenaer 29 25 gax goon 29 25 tamper salami 29 25 sparki select 29 25 185 hillsid raider 28 25 eldoret eleph 28 25 jane world 28 25 alarm 28 25 189 rolaid requir 27 25 chip n dale 27 25 brian bergman 27 25 192 killer king 26 25 monti nord 26 25 194 arsenal mapl leaf 25 18 martin gag 25 25 196 equip du jour 24 25 197 lisa lugger 23 25 andrew scott andrew idacom hp com hp idacom telecom oper 403 462 0666 ext 253',\n",
       " 'thank 41 peopl enter year team pool summari pick 1st round pittsburgh 41 new jersey 0 chicago 40 st loui 1 boston 40 buffalo 1 vancouv 30 winnipeg 11 calgari 27 los angel 14 detroit 26 toronto 15 washington 24 new york island 15 2 peopl pick new jersey quebec 23 montreal 18 2nd round pittsburgh 38 washington 2 new york island 1 boston 31 quebec 6 montreal 4 detroit 21 chicago 15 toronto 5 calgari 18 vancouv 14 los angel 8 winnipeg 1 3rd round pittsburgh 31 boston 7 quebec 2 washington 1 detroit 18 chicago 11 toronto 5 vancouv 3 calgari 2 los angel 2 final pittsburgh 26 boston 5 detroit 4 toronto 2 quebec 2 los angel 1 chicago 1 good luck',\n",
       " 'unlik improb bruin stuff nightmar sabr tast heaven first time sinc 1983 sabr first three game seri last time three game none victori best five canadien take littl work time sabr seem readi put extra work heel shutout one took away boston home ice advantag sabr came back four three overtim win easi alway pretti still work john blue got nod boston supplant andi moog start goaltend moog pull midway game 2 tuesday buffalo start goal mogilni fourth playoff powerplay boston sweeney gord robert box lafontain hawerchuk assist goal number two khmylev first playoff pretti goal score sabr stole puck pass open wait khmylev smehlik hannan assist determin shut boston talli shot ray bourqu powerplay colin patterson bob sweeney box period two scoreless split penalti two club third saw boston smolinski get first courtesi oat buffalo resecur lead two minut later former bruin bob sweeney khmylev carney neeli tie game 3 4 way third send overtim last year overtim meant bruin win last night spell sweet reveng buffalo score ray bourqu penalti box tip khmylev hawerchuk lafontain minut overtim team finish 34 shot power play convers boston 5 1 buffalo 7 2 refere rob shick comment shick pocket whistl third allow lot clutch grab buffalo penalti kill unit fantast mogilni check grant miss instead flung bodi board check like novel idea mogilni crowd unbeliev think ever heard crowd loud aud sabr game rememb five play cup rememb one took game doug bodger postgam interview note tri say someth hawerchuk crowd loud even though shout seem matter sabr even muckler said great yuri khmylev seem realiz game third star skate name call sweeney 2 fuhr 1 yuri made appear san jersey ask interview later whether knew big goal respon yes ok interpret said even interpret said digress interview seem think speak english must understand playoff uh huh',\n",
       " 'okay cap break golf club anyon histori washington capit futil record playoff rememb terri first year first year cap final made third round brian notic everi year cap got second round year make past first round trend continun admir hopeless cap fan p still rememb 3 ot loss island aurggghhhhhhhhh',\n",
       " 'giant five man rotat john burkett trevor wilson bill swift jeff brantley bud black dave burba black put 15 day disabl dave burba take start',\n",
       " 'educ rip year manag year lankford injur previous game torr rest far whitten gilkey controversi whitten add need power jordan continu hit way gilkey find start lineup soon enough sam',\n",
       " 'quot greg roger gr hi gr due live bay area unabl see vancouv victori gr jet last night know score rare describ gr game could someon pleas post brief sonapsi sp waht gr happen well team play cannuck deserv gr victori gr also could kind soul pleas email end season gr individu player stat gr greg gr vancouv cup virtual realiti sorri tell greg realiti cannot see vancouv win cup rralli good chanc come smyth divis chanc make final one capabl year beat penguin mani score threat would love proven wrong must conclud pen win cup 3 year steve',\n",
       " 'see happen player post public apolog mr hirschbeck think case select enforc dale j stephenson steph cs uiuc edu basebal fanat',\n",
       " 'success copi uuencod version logo local directori tri gif file said permiss deni could explain also execut uuencod file thank ken',\n",
       " 'know score isl 28 7 franchis record playoff ot game took game four score 4 3 third consecut ot win capit tonight uniondal know pleas post score isl fan live atlanta hockey hell lord stan uniondal man go isl',\n",
       " 'first penguin win cup go stop definit canuck predict patrick divis winner pittsburgh adam divis winner quebec montreal norri divis winner detroit smyth divis winner winnipeg wale confer champ pittsburgh campbel confer champ detroit stanley cup champion pittsburgh canuck suck lose first round compliment winnipeg teemu selann',\n",
       " 'note post part argument roger meynard independ sort thread actual quot thing roger meynard wrote might better think sampl post hip hop sens fit want say interest parallel way view basebal team peopl concept biolog organ biolog context would like read fit score game organ team interpret player trickier either organ gene might seem reason choic depend point tri make gene interpret actual might realli interest case would differ probabl longer post howev take organ view knowledg biolog make us paus start say thing like speci x fit speci better organ z given know interdepend organ would often suspici claim note type argument quit often made map speci x onto human organ z onto brain hand statement kind seem reason other far test e g brain might reason pancrea assum gross patholog particular speci primat even make statement concern function whole organ possibl one organ might crucial one speci second organ anoth mention possibl organ particular crucial third speci howev non vitalist kind reductionsit streak want say organ complet magic unanalyz whole intrigu process made various subprocess interact way potenti observ process might local particular organ other may distribut across multipl organ way like basebal team except think pretti clear process interact involv basebal much simpler less numer organ one thing quit difficult basebal perfect control experi sometim tough cours never stop research best sometim deriv power conclus even absenc certainti goe far beyond sheer specul even sheer specul motiv interest research case see word statist mean summari observ event event view output process possibl input process thus valid notion process put togeth function organ data form statist might give us basi test particular hypothes statement bring us back concept fit fit defin term organ environ might fit one situat anoth move basebal clear team spend entir season environ includ team leagu least nomin sens divis winner fittest team leagu averag better fit score compet opponennt real sens fair larg random compon perform team difficult imposs account term factor intrins interest basebal true biolog also direct biolog equival world seri baseb world seri random compon may great magnifi small number game play team sudden experi huge chang environ origin success might fun watch unclear realli mean one un relat point hand seen us predict outcom division race better random assign team finish mayb us e g better particip forum regular basi probabl due fact 162 game schedul give littl hope bad hop differ winner loser moreov opportun see analysi world seri situat make strong claim nobodi predict ws winner reliabl greater accuraci coin bias reflect well known home vs road effect win percentag sinc stat summari event true know event deriv stat somebodi tri understand process behind stat stat produc new knowledg might even reliabl repeat use speak get back produc knowledg differ field cours produc knowledg even though reli stat',\n",
       " 'sigh go must say bat averag predictor use judg two hitter like get hit particular plate appear valid defin skill hit basebal said except use smaller sampl bat averag clutch situat say could predict futur suggest statist necessarili meaningless data situat non clutch clutch ab h ba ab h ba sabo 1539 452 294 259 59 228 samuel 1564 383 245 278 83 299 red manag time assum would basi let sabo hit rather pinch hit samuel sure basi would util prior perform use particular aspect prior perform correct one time claim abl predict futur said accept data indic samuel would better chanc success situat sabo dismiss work state opinion say work render opinion contrari invalid retent opinion kind insult work say clutch hit well defin said data signific say consist skill said indic perform certain set circumst big sigh ever call anyon els r b stupid nice howev see consid possibl actual could preconceiv bias ah knew could get name call word like much wait minut thought first defin clutch hit made two statement post 1 convinc conclus regard clutch hit 2 would hit sabo 2 mani us make number written statement media think happen basebal shi make statement believ season end chris sabo bat averag clutch situat signific lower bat averag non clutch situat prove happen guess wait see anoth one 1989 1991 joe carter bat averag clutch situat signific bat averag non clutch situat year presum think random non clutch 1585 ab 411 h 259 clutch 338 ab 68 h 201 could expect 1992 mr carter well composit ba 1989 268 1990 262 1991 263 think pretti good idea kind bat averag produc 1992 hit 264 surpris huh also 1992 non clutch 536 ab 144 h 269 clutch 86 ab 20 h 233 prove overal statist trend use predict futur perform across breadth major leagu ballplay make think 1993 joe carter bat averag clutch go high ba non clutch situat 1 plenti compani john dewan stat inc editor scout report wherein statist regard clutch hit compil report referenc text bill jame make numer refer player abil hit well clutch say predict futur other say work render statement mine meaningless accept word prove total idiot stupid total idiot hostil beastmast',\n",
       " 'look softwar hope free run unix box keep track statist compani softbal team bat avg etc know pleas post respond e mail mani thank',\n",
       " 'rememb one hit circa 1976 wrigley field went across street dead center field hit hous roof whif lot connect watch includ stddisclaim h',\n",
       " 'accord fan ottawa daigl e sweepstak mention san jose goal sen sen hunch ottawa would pick first',\n",
       " 'anyon address follow hockey team locat czech slovak republ finland russia sweden inform find address would also appreci aik assat bryna budejovic chelabinsk djurgarden dynamo eskulap espoo farjestad frolunda hpk hv 71 hifk ilv jyp ht jihlava jokerit jokp kalpa khimik kladno kristal lada leksand litvinov lukko lulea malmo metallurg modo olomouc pardubic red armi rogl skoda slovan soviet wing sparta spartak tps tappara trencin tuto vantaa vastera yaroslavl zlin',\n",
       " '1993 calder cup playoff schedul result home team cap necesari first round springfield indian vs provid bruin gm 1 springfield 3 provid 2 gm 2 springfield 5 provid 4 gm 3 4 16 provid springfield cd island vs adirondack red wing gm 1 last night cdi adirondack gm 2 4 17 cdi adirondack gm 3 4 18 adirondack cdi gm 4 4 21 adirondack cdi gm 5 4 23 cdi adirondack gm 6 4 24 adirondack cdi gm 7 4 26 cdi adirondack baltimor skipjack binghamton ranger gm 1 4 16 baltimor binghamton gm 2 4 17 baltimor binghamton gm 3 4 23 binghamton baltimor gm 4 4 24 binghamton baltimor gm 5 4 26 baltimor binghamton gm 6 4 28 binghmaton baltimor gm 7 4 30 baltimor binghamton utica devil vs rochest american gm 1 4 16 utica rochest gm 2 4 17 utica rochest gm 3 4 20 rochest utica gm 4 4 22 rochest utica gm 5 4 24 utica rochest gm 6 4 26 rochest utica gm 7 4 28 utica rochest moncton hawk vs st john mapl leaf gm 1 st john 4 moncton 2 gm 2 4 17 moncton vs st john halifax gm 3 4 21 st john moncton cape breton oiler vs fredericton canadien gm 1 fredericton 4 cape breton 3 2ot gm 2 4 16 cape breton fredericton unfortun newspap didnt list complet playoff sked seri alreadi began also paper list final stand post might delay earli next week hockey news',\n",
       " 'press confer 1pm interest keenan co coach number one team canada world championship roger neilsen interest ranger call balanc neilsen contract keenan assist roger good job mediocr player handl cinderella canuck 10 year ago mistak play ranger like canuck last may gld',\n",
       " 'dunno lemieux hmmm sound like french blood hey franc part europ send euro blood boy back american studi histori french settl north america earli british lemieux probabl trace back north american heritag back lot us friend jibe mode canadian understand sarcasm sometim reader must decid read ludicr must mean opposit said kinda like toronto go win cup post yeah right cow fli friend jibe mode geez gerald like anyon read rec flamefest hockey pen great know le mow quebec',\n",
       " 'philadelphia 1 2 4 7 buffalo 0 3 1 4 first period 1 philadelphia recchi 52 galley lindro 0 18 second period 2 philadelphia hawgood 11 dineen eklund pp 2 15 3 philadelphia dineen 33 mcgill sh 5 40 4 buffalo barnabi 1 hawerchuk smehlik pp 7 48 5 buffalo wood 18 lafontain ledyard pp 17 34 6 buffalo mogilni 75 hawerchuk carney pp 18 56 third period 7 philadelphia eklund 11 dineen beranek 4 42 8 buffalo mogilni 76 errey lafontain 5 24 9 philadelphia dineen 34 brind amour pp 6 44 10 philadelphia dineen 35 brind amour galley sh 8 39 11 philadelphia acton 8 dineen brind amour 19 48 philadelphia 7 power play 5 2 special goal pp 2 sh 2 total 4 scorer g pts acton 1 0 1 beranek 0 1 1 brind amour 0 3 3 dineen 3 3 6 eklund 1 1 2 galley 0 2 2 hawgood 1 0 1 lindro 0 1 1 mcgill 0 1 1 recchi 1 0 1 buffalo 4 power play 10 3 scorer g pts barnabi 1 0 1 carney 0 1 1 errey 0 1 1 hawerchuk 0 2 2 lafontain 0 2 2 ledyard 0 1 1 mogilni 2 0 2 smehlik 0 1 1 wood 1 0 1 minnesota 1 1 1 3 detroit 0 2 3 5 first period 1 minnesota mcphee 18 ludwig 1 23 second period 2 minnesota dahlen 34 courtnal gagner pp 0 31 3 detroit drake 18 howe ogrodnick 9 14 4 detroit ysebaert 34 lidstrom howe pp 17 37 third period 5 detroit ciccarelli 41 coffey chiasson pp 0 32 6 detroit kennedi 19 burr probert 3 42 7 detroit yzerman 58 ciccarelli gallant 6 17 8 minnesota dahlen 35 courtnal gagner 19 11 detroit 5 power play 4 2 scorer g pts burr 0 1 1 chiasson 0 1 1 ciccarelli 1 1 2 coffey 0 1 1 drake 1 0 1 gallant 0 1 1 howe 0 2 2 kennedi 1 0 1 lidstrom 0 1 1 ogrodnick 0 1 1 probert 0 1 1 ysebaert 1 0 1 yzerman 1 0 1 minnesota 3 power play 2 1 scorer g pts courtnal 0 2 2 dahlen 2 0 2 gagner 0 2 2 ludwig 0 1 1 mcphee 1 0 1 edmonton 0 0 0 0 winnipeg 1 2 0 3 first period 1 winnipeg shannon 20 steen davydov pp 2 08 second period 2 winnipeg selann 76 olausson 5 25 3 winnipeg zhamnov 25 selann 19 42 third period score winnipeg 3 power play 6 1 scorer g pts davydov 0 1 1 olausson 0 1 1 selann 1 1 2 shannon 1 0 1 steen 0 1 1 zhamnov 1 0 1 edmonton 0 power play 3 0 score toronto 1 1 0 2 chicago 0 2 1 3 first period 1 toronto baumgartn 1 unassist 18 40 second period 2 chicago roenick 50 murphi chelio 1 29 3 toronto andreychuk 55 mironov lefebvr 13 22 4 chicago murphi 7 roenick chelio pp 19 05 third period 5 chicago matteau 15 unassist 10 51 error power play goal mismatch assum calc valu error team toronto calc 0 read 1 chicago 3 power play 7 1 scorer g pts chelio 0 2 2 matteau 1 0 1 murphi 1 1 2 roenick 1 1 2 toronto 2 power play 3 0 scorer g pts andreychuk 1 0 1 baumgartn 1 0 1 lefebvr 0 1 1 mironov 0 1 1 first period 1 st loui shanahan 50 brown felsner 10 44 2 st loui miller 23 bassen brown 19 38 3 st loui bassen 8 zombo 19 48 second period 4 st loui bassen 9 hedican miller 0 14 5 st loui miller 24 zombo hedican 11 09 6 tampa bay maltai 7 hamrlik 11 27 7 tampa bay bergland 3 hervey gilhen 17 16 8 st loui shanahan 51 emerson 19 38 third period 9 tampa bay creighton 19 bergland bergevin 0 40 10 tampa bay chamber 10 zamun cole 10 37 11 tampa bay cole 12 beer bradley 11 58 st loui 6 power play 4 0 scorer g pts bassen 2 1 3 brown 0 2 2 emerson 0 1 1 felsner 0 1 1 hedican 0 2 2 miller 2 1 3 shanahan 2 0 2 zombo 0 2 2 tampa bay 5 power play 3 0 scorer g pts beer 0 1 1 bergevin 0 1 1 bergland 1 1 2 bradley 0 1 1 chamber 1 0 1 cole 1 1 2 creighton 1 0 1 gilhen 0 1 1 hamrlik 0 1 1 hervey 0 1 1 maltai 1 0 1 zamun 0 1 1 san jose 0 1 2 3 calgari 0 4 3 7 first period score second period 1 san jose garpenlov 22 odger gaudreau pp 3 37 2 calgari nieuwendyk 38 macinni suter pp 5 26 3 calgari ranheim 21 otto suter 10 43 4 calgari yawney 1 nieuwendyk robert 11 26 5 calgari berub 4 paslawski skrudland 13 45 third period 6 san jose wood 1 odger kisio 8 00 7 calgari reichel 40 unassist 9 26 8 calgari robert 38 musil paslawski pp 12 27 9 san jose kisio 26 unassist 13 10 10 calgari paslawski 18 ashton stern 16 16 calgari 7 power play 4 2 scorer g pts ashton 0 1 1 berub 1 0 1 macinni 0 1 1 musil 0 1 1 nieuwendyk 1 1 2 otto 0 1 1 paslawski 1 2 3 ranheim 1 0 1 reichel 1 0 1 robert 1 1 2 skrudland 0 1 1 stern 0 1 1 suter 0 2 2 yawney 1 0 1 san jose 3 power play 3 1 scorer g pts garpenlov 1 0 1 gaudreau 0 1 1 kisio 1 1 2 odger 0 2 2 wood 1 0 1 vancouv 1 2 5 8 los angel 2 3 1 6 first period 1 los angel robitaill 63 gretzki sandstrom 1 39 2 vancouv babych 3 craven nedv pp 9 43 3 los angel sandstrom 25 gretzki robitaill 10 06 second period 4 vancouv linden 32 ron courtnal pp 0 54 5 vancouv ward 22 hunter nedv 1 24 6 los angel gretzki 16 sandstrom robitaill 6 57 7 los angel zhitnik 12 kurri robitaill pp 14 02 8 los angel millen 23 hardi pp 16 57 third period 9 vancouv ron 27 dirk 5 28 10 vancouv ron 28 courtnal linden pp 11 15 11 vancouv linden 33 courtnal ron 11 27 12 los angel donnelli 29 millen granato pp 14 35 13 vancouv courtnal 31 ron ratushni 14 54 14 vancouv ron 29 linden diduck en 18 47 vancouv 8 power play 6 3 special goal pp 3 en 1 total 4 scorer g pts babych 1 0 1 courtnal 1 3 4 craven 0 1 1 diduck 0 1 1 dirk 0 1 1 hunter 0 1 1 linden 2 2 4 nedv 0 2 2 ratushni 0 1 1 ron 3 3 6 ward 1 0 1 los angel 6 power play 10 3 scorer g pts donnelli 1 0 1 granato 0 1 1 gretzki 1 2 3 hardi 0 1 1 kurri 0 1 1 millen 1 1 2 robitaill 1 3 4 sandstrom 1 2 3 zhitnik 1 0 1',\n",
       " 'person rare even seen cherri know anyth know whether area pittsburgh usa depriv broadcast whether canadian thing altogeth serious know coach one time volum post someon sure get steadi diet somehow question deal second comment read net mere flame bait peopl actual take serious gotta tell see realli sound like ass let know mayb miss someth',\n",
       " 'sorri biggest load bunk seen pirat tri trade lavallier time nobodi even vagu interest b sever team made known would grab princ option c lavallier releas noth releas event injuri slaught lavallier longer capabl believ everyday catcher sinc slaught good righti lefti offens actual improv move',\n",
       " 'impress watch met rocki umpir call strike belt far letter would nice case',\n",
       " 'lot team carri 3 catcher 25 man roster 3rd catcher seldom ever use insur case extra inning 2nd catcher injur game free roster spot extra pinch hitter reliev invok catcher substitut rule last roster catcher team injur game team permit substitut place defens purpos catcher previous yank game given rule team need 3 roster catcher 3rd catcher could play aaa non roster bullpen catcher',\n",
       " 'faq fun gak',\n",
       " 'quit honest one ridicul consid follow scenario runner third pitcher start throw home runner take home batter squar around bunt suicid squeez pitcher see throw home stop mid action put runner run balk rule prevent happen believ actual happen oba ontario basebal associ game milton ontario batter amaz umpir miss 12 year play ball worst piec umpir ever saw',\n",
       " 'someon tell hidden somewher david rex wood davewood cs colorado edu univers colorado boulder',\n",
       " 'saw previous request rule instruct usenet playoff pool seen responc anybodi info post away could mail thank advanc',\n",
       " 'nhl playoff result 4 21 93 confer semi final best seven patrick adam norri smyth nj buf lead 2 0 stl lead 2 0 win pit lead 2 0 bos chi van lead 2 0 nyi tie 1 1 mon tor la tie 1 1 que lead 2 0 det lead 2 0 cal toronto mapl leaf 0 1 1 2 detroit red wing lead seri 2 0 1 3 2 6 1st period det lidstrom 1 yzerman coffey pp 4 06 2nd period det fedorov 1 sh 0 43 det yzerman 2 coffey chiasson pp 8 06 det yzerman 3 coffey sheppard 17 40 tor mironov 1 gill gilmour 19 10 3rd period tor gilmour 2 anderson 4 32 det ysebaert 1 kozlov 5 51 det drake 1 kozlov kennedi 18 33 powerplay opportun mapl leaf 1 8 red wing 2 7 shot goal mapl leaf 10 7 13 30 red wing 16 11 3 30 toronto mapl leaf potvin 0 2 30 shot 24 save detroit red wing chevelda 2 0 30 shot 28 save att 19 875 st loui blue lead seri 2 0 2 0 0 2 chicago blackhawk 0 0 0 0 1st period stl hull 2 brown janney pp 7 38 stl lowri 1 sh 13 53 2nd period none 3rd period none powerplay opportun blue 1 5 blackhawk 0 6 shot goal blue 9 3 5 17 blackhawk 16 19 12 47 st loui blue joseph 2 0 47 shot 45 save chicago blackhawk belfour 0 2 17 shot 15 save att 17 339 los angel king seri tie 1 1 1 0 3 4 calgari flame 0 5 4 9 1st period lak carson 3 1 11 2nd period cal otto 1 robert macinni 5 02 cal yawney 2 dahlquist ranheim 8 02 cal reichel 1 fleuri pp 10 52 cal nieuwendyk 1 robert musil 13 47 cal otto 2 dahl sh 19 37 3rd period lak carson 4 granato shuchuk 5 34 cal reichel 2 fleuri macinni pp 7 23 cal paslawski 1 robert nieuwendyk 8 14 cal fleuri 1 macinni nieuwendyk pp 10 37 lak rychel 1 blake 11 56 lak kurri 1 gretzki zhitnik pp 15 22 cal suter 2 skrudland berub 19 15 powerplay opportun king 1 7 flame 3 6 shot goal king 14 8 9 31 flame 9 16 15 40 los angel king hrudey 1 1 40 shot 31 save calgari flame vernon 1 1 31 shot 27 save att 19 477 winnipeg jet 0 1 1 2 vancouv canuck lead seri 2 0 1 1 1 3 1st period van ron 2 courtnal linden 11 37 2nd period van courtnal 1 6 05 win domi 1 king barn 6 48 3rd period win numminen 1 housley selann pp 0 30 van bure 1 adam craven 4 01 powerplay opportun jet 1 4 canuck 0 3 shot goal jet 6 10 6 22 canuck 14 9 9 32 winnipeg jet essensa 0 2 32 shot 29 save vancouv canuck mclean 2 0 22 shot 20 save att 15 729',\n",
       " 'read tv guid articl next week sportsview concern nhl major network broadcast pretti interest',\n",
       " 'trashi move trashi organ front offic state nobodi would lose job sen poor perform bridgeman gone within 24 hour team final game yes know screw let king grab loach sexton qualif asid cheap play us colleg hockey pal club presid bruce fireston kind experi need tri build expans franchis probabl hall fame next year continu tradit front offic gaff paul anka arena deal deni potvin gm postion mike bossi score coach peopl ottawa feel club run',\n",
       " 'look 84 boxscor nhl team person research someon help',\n",
       " '',\n",
       " 'mario make pat walker sound like type would bring ak 47 game take pot shot mario stand still dam sunavbich hmff',\n",
       " 'hey valentin see boston world seri ring finger damn morri three probabl hall fame futur therefor would say toronto easili made best sign tell boston win year even top 4 divis like 6th',\n",
       " 'speak spell error cup wonder h pittsburgh made cup know funni peopl spell pittsburgh',\n",
       " 'teach qualifi statement ok someth shoot royal score 531 run less season although decid get mcrae leadoff spot cours valentin throw one back face royal even manag outscor anoth al team sean',\n",
       " 'amaz pitcher matter good mechan machin cy young winner pitch vaccuum unawar offens brave pitch staff alreadi show sign crack strain know go get mani run unfortun brave pitcher bad long organ put much stress mean stress pitch complet ignor hit brave right look woefulli similar brave mid seventi heaven help us',\n",
       " 'hear ya must rememb inde cub fan cub eventu blow cub easiest team nation leagu root pressur know lose eventu oh well suppos must faith look pretti good even sandberg back yet cub 93',\n",
       " 'final got back great thank mark spiegel save send 2 rob zettler season 4th acquir 91 92 minnesota dispers draft grade c c zettler gave shark everi bit got year unfortun still enough make margin nhler work hard sure better averag defens prone cost penalti defens laps time basic offens zero 0 goal 7 assist 79 game would hardpress make team next year 3 david william season 2nd acquir 91 92 free agent new jersey grade c c imo william valuabl defenseman shark 91 92 play combin good offens 3 goal 25 assist 56 game good defens play first part season kansa citi good neither offens defens year appear 91 92 fluke although improv toward end season prone posit defens demonstr playmak skill made team lead scorer among defensemen last year would also hardpress make team next year 4 jayson season 2nd acquir 91 92 montreal expans draft grade b tout team top defens prospect train camp 91 92 rather disappoint 91 92 particular good defens 17 point 46 game proceed improv game massiv season becom team reliabl defenseman team count night night play steadi defens provid occasion occasion offens flash offens even disappoint last year 11 point 73 game defens improv tremend probabl best defens part defens combin offens defenseman 5 neil wilkinson season 4th acquir 91 92 minnesota dispers draft grade b wilkinson probabl team top defens defenseman 91 92 howev partial injuri year miss 25 game total due nag knee back injuri seem slow even play often save defens partner also solid game complet healthi still forc 6 sandi ozolinsh season 1st acquir 91 92 2nd round pick entri draft grade time injuri decemb 30 philadelphia flyer ozolinsh well track imo team mvp serious knee injuri game though forc miss rest season 47 game still finish team top scorer among defensemen 23 point cours tell lack offens shark defensemen also tell ozolinsh abil time play good defens along excel offens still suscept call rooki mistak probabl defenseman made least team rooki veteran come back injuri readi star 19 doug zmolek season 1st acquir 91 92 minnesota dispers draft grade b zmolek basic solid durabl year one two shark play 84 game season solid defens bill offens defenseman show 15 point also prone penalti 229 penalti minut second team howev also indic fear face tough physic oppon best play physic becom fixtur leagu need improv offens defens cut number power play give oppon',\n",
       " 'anyon know altern game citi local broadcast right protect realli love see bruin coupl time pro patrick bias shown espn someth tell wait confer final see jpc',\n",
       " 'understand ted turner owner brave start run tv station nationwid start run team game nationwid tv station dub team america team team least time whose game could seen across america wor nationwid beauti secaucus met game wor wgn chicago wsbk boston two superst least east coast know mani cub sox sox game show hymi hymowitz cs jhu edu mellow dead weird al yankov get mellow laid back attitud sonni cuckoo bird josh',\n",
       " 'boyfriend comment fact clement look like walk ad brillo pad hair replac therapi guy stuf shirt think greatest hockey analyst sinc howi meeker gosh sake take schoeni day georg',\n",
       " 'nhl playoff result 4 20 93 confer semi final best seven patrick adam norri smyth nj buf lead 2 0 stl lead 1 0 win pit lead 2 0 bos chi van lead 1 0 nyi tie 1 1 mon tor la lead 1 0 que lead 2 0 det lead 1 0 cal new jersey devil 0 0 0 0 pittsburgh penguin lead seri 2 0 2 4 1 7 1st period pit mceachern 1 franci taglianetti 15 09 pit lemieux 3 u samuelsson barrasso sh 17 41 2nd period pit tocchet 2 k steven u samuelsson 3 48 pit jagr 2 franci ramsey 12 39 pit k steven 1 franci murphi pp 15 43 pit mceachern 2 daniel mullen 16 46 3rd period pit mullen 1 franci barrasso 17 42 powerplay opportun devil 0 5 penguin 1 4 shot goal devil 12 11 13 36 penguin 13 10 4 27 new jersey devil terreri 0 2 23 shot 17 save billington 0 00 third 4 shot 3 save pittsburgh penguin barrasso 2 0 36 shot 36 save att 16 164 new york island seri tie 1 1 1 1 2 0 1 5 washington capit 0 2 2 0 0 4 1st period nyi turgeon 1 king thoma 13 14 2nd period hunter 3 johansson miller 6 33 nyi turgeon 2 thoma vask 12 36 hunter 4 johansson carpent pp 16 51 3rd period nyi hogu 1 3 31 khristich 2 cavallini bondra 7 16 nyi ferraro 2 flatley hogu 14 50 hunter 5 johansson khristich pp 19 57 1 overtim none 2 overtim nyi mullen 1 ferraro flatley 14 15 powerplay opportun island 0 5 capit 2 5 shot goal island 14 17 8 13 9 61 capit 6 9 11 14 5 45 new york island heali 1 1 45 shot 41 save washington capit tabaracci 1 1 61 shot 56 save att 15 421 montreal canadien 0 0 1 1 quebec nordiqu lead seri 2 0 3 0 1 4 1st period que leschyshyn 1 kamenski sakic pp 4 19 que young 2 lapoint 11 41 que young 3 lapoint duchesn 13 56 2nd period none 3rd period mon bellow 2 odelein 11 05 que lapoint 1 ricci en 19 23 powerplay opportun canadien 0 1 nordiqu 1 2 shot goal canadien 8 10 15 33 nordiqu 18 14 6 38 montreal canadien roy 0 2 37 shot 34 save quebec nordiqu hextal 2 0 33 shot 32 save att 15 399 buffalo sabr lead seri 2 0 2 1 1 4 boston bruin 0 0 0 0 1st period buf presley 1 sh 4 27 buf wood 1 houlder b sweeney pp 8 07 2nd period buf mogilni 3 lafontain 5 03 3rd period buf hawerchuk 1 carney smehlik pp 14 48 powerplay opportun sabr 2 4 bruin 0 5 shot goal sabr 9 8 8 25 bruin 14 12 8 34 buffalo sabr fuhr 2 0 34 shot 34 save boston bruin moog 0 2 10 shot 7 save blue 5 03 second 15 shot 14 save att 14 448',\n",
       " 'ever notic mani peopl net troubl comparit easi task spell nick name fair citi never knew philadelphia becom philli philli spoken know yet littl clue spell p h l l ok thank oh yeah drug induc trade rumor think snider stupid rumor look mike keenan come back coach flyer later mike mike cornel great mani peopl countri today mac18 po cwru edu fault sane monti python',\n",
       " 'boston area hear ranger wfan devil wabc whaler wtic red wing wjr cours addit bruin current weei may move whdh fool weei own celtic thus show bruin everi time conflict also get wbal baltimor think hockey btw got station indiana fort wayn comet game',\n",
       " 'nl chicago wait til next year new york bunch ego chemistri philedelphia overacheiv mitch william blow game pittsburg cheapskat montreal canadien love name st loui cardin bore miami marlin tri tell tampa stpete marlin florida san diego go men children firster los angel disabl lister san francisco get past number five fine cincinatti underacheiv atlanta bill colorado pitch 10 basebal houston astonom al new york steinbrenn boston wow firster cleveland good hit pitcher detroit lion hey score 20 everi game also toronto god jack morri stinker baltimor great park bankrupt owner milwauke drink water drink beer instead kansa citi oh god again oakland gezz eck blow save texa basher california win sure hell tryer seattl griffey chicago l find way lose again minnesota marshmallow domer msilverm nyx cs du edu go cub',\n",
       " 'yeah valentin mani ring clemen nothin like good old fashion canadian logic btw good thing say jay rotat year could wors stewart might stay healthi',\n",
       " 'guy think mean c mon heck women even think get basebal caus mani problem look lisa olson rememb feisti report enter new england patriot locker room start cri like littl girl think women belong man sport smart guy flame know given exampl footbal care still appli male sport women umpir jeez look pam postema woman everybodi face earth think great get opportun ump even watch game iq greater roast beef see near good aaa umpir besid probabl worri crack fingernail foul tip wade bogg bat jose oquendo bat either way mani complic',\n",
       " 'cool sound like cult classic someon post address phone store sell thank',\n",
       " 'will make two wager 1 snow win roy 2 mat basebal within five year skeptic first think snow good player lose team skeptic second back mat 32 year mani player play 40 mani chronic back problem 32 could wrong either think smart way bet',\n",
       " '',\n",
       " 'hello like learn keep score watch ball game use offici score method get scoresheet instruct use appreci mike',\n",
       " 'yes point well taken howev even area final got game someth nag back skull network nation right pocket say sport news awesom overtim go quebec citi tri get updat show know satellit feedhorn somewher today time abc got great rate chicago st loui 4 2 king flame got 2 9 west coast 2 2 metro new york e devil squander newfound support year ago play ranger comparison senior golf better fear overal nation number great tell abc advanc market cos watch much tv nhl made sure solid cabl go air even espn could sold second right third parti system e non sportschannel sinc make extra money sit game hockey fan necessarili watch pre season beach volleybal playoff game shown somewher gld',\n",
       " 'well put jason wisconsin close relat live port washington 30 minut north milwauke visit citi regular bradley four time see admir play ncaa hockey championship beauti build pettit citi like promot best facil hockey north america happen admir milwauke acquir franchis word team move green bay play brown counti arena admir independ franchis peopl milwauke support well game seen crowd anywher 10 000 13 000 number nhl team e island hartford new jersey would envious night plus fact citi abl support minor leagu franchis without glamour nhl club affili testimoni amount hockey interest exist citi sincer martin hill rt 2 box 155b sault ste mari mi home lssu go laker',\n",
       " 'opi offens product index nl player least 10 bat earli season high number barri bond finish last season 0 795 welcom comment suggest kevin leagu opi 0 410 leagu ba 0 252 leagu slg 0 375 leagu oba 0 321 rank player opi ba slg oba 1 phi daulton 1 101 0 333 0 875 0 515 2 phi kruk 1 069 0 429 0 821 0 529 3 cub grace 1 007 0 452 0 742 0 514 4 cub may 0 931 0 389 0 889 0 421 5 col boston 0 888 0 545 0 545 0 545 6 pit bell 0 873 0 429 0 714 0 467 7 col galarraga 0 867 0 458 0 708 0 458 8 stl pena 0 833 0 400 0 600 0 516 9 stl zeil 0 811 0 440 0 560 0 500 10 cin mitchel 0 810 0 429 0 643 0 467 11 mon lans 0 792 0 419 0 677 0 438 12 pit slaught 0 754 0 474 0 526 0 474 13 mon vanderw 0 746 0 389 0 556 0 476 14 nym tfernandez 0 709 0 300 0 400 0 500 15 snf martinez 0 697 0 300 0 400 0 500 16 hou bagwel 0 695 0 367 0 567 0 424 17 col hay 0 686 0 333 0 667 0 364 18 col eyoung 0 682 0 333 0 500 0 407 19 mon alou 0 675 0 371 0 600 0 389 20 cin milligan 0 659 0 333 0 375 0 515 21 phi dykstra 0 646 0 214 0 571 0 405 22 snf bond 0 624 0 280 0 680 0 333 22 flo conin 0 624 0 393 0 393 0 469 24 snd plantier 0 603 0 286 0 571 0 375 25 hou gonzalez 0 596 0 296 0 667 0 296 26 hou anthoni 0 594 0 320 0 480 0 414 27 col cole 0 579 0 318 0 409 0 400 28 atl sander 0 576 0 357 0 643 0 357 29 mon berri 0 566 0 273 0 273 0 500 30 cub sosa 0 558 0 303 0 545 0 343 31 stl jefferi 0 551 0 269 0 692 0 296 32 pit vanslyk 0 549 0 296 0 444 0 387 33 montreal 0 548 0 312 0 490 0 367 34 los butler 0 545 0 296 0 333 0 457 35 mon grissom 0 542 0 333 0 455 0 371 36 pit king 0 536 0 308 0 346 0 438 37 snd gwynn 0 533 0 280 0 400 0 379 38 pit merc 0 532 0 300 0 400 0 391 39 nym murray 0 521 0 308 0 462 0 357 40 stl gilkey 0 514 0 312 0 438 0 353 41 nym bonilla 0 507 0 292 0 417 0 370 42 snd walter 0 501 0 300 0 500 0 333 43 cub wilson 0 497 0 323 0 452 0 344 44 flo weiss 0 492 0 261 0 348 0 433 45 philadelphia 0 487 0 243 0 431 0 348 46 atl justic 0 480 0 207 0 448 0 361 47 pittsburgh 0 479 0 292 0 428 0 351 48 stl osmith 0 476 0 310 0 448 0 355 49 phi incaviglia 0 473 0 250 0 500 0 308 50 pit young 0 470 0 286 0 500 0 310 51 stloui 0 467 0 275 0 445 0 344 52 colorado 0 459 0 287 0 426 0 327 53 nym hundley 0 458 0 300 0 450 0 333 54 nym orsulak 0 454 0 357 0 429 0 400 55 snf benjamin 0 440 0 200 0 500 0 273 56 atl gant 0 438 0 214 0 464 0 333 56 nymet 0 438 0 261 0 345 0 356 58 houston 0 436 0 260 0 415 0 318 59 mon pitcher 0 434 0 312 0 375 0 353 60 phi morandini 0 433 0 240 0 360 0 321 61 hou cedeno 0 427 0 280 0 440 0 308 62 cin sabo 0 423 0 226 0 452 0 273 63 snf manwar 0 413 0 261 0 435 0 292 64 snfrancisco 0 412 0 253 0 396 0 315 65 atl blauser 0 409 0 276 0 310 0 364 66 snf thompson 0 408 0 278 0 389 0 316 66 hou camin 0 408 0 259 0 481 0 286 68 flo barberi 0 405 0 267 0 267 0 371 69 mon cordero 0 400 0 276 0 345 0 323 70 snd sheffield 0 397 0 241 0 448 0 267 71 los karro 0 392 0 259 0 296 0 355 72 snf william 0 391 0 226 0 452 0 250 72 snd mcgriff 0 391 0 192 0 385 0 276 74 flo destrad 0 390 0 267 0 333 0 333 75 col girardi 0 388 0 238 0 381 0 304 76 atl bream 0 386 0 182 0 409 0 250 77 mon wood 0 385 0 200 0 300 0 333 78 flo santiago 0 384 0 200 0 360 0 286 79 phi thompson 0 383 0 227 0 273 0 320 80 snf clayton 0 382 0 345 0 379 0 345 80 los piazza 0 382 0 304 0 391 0 333 82 snd bell 0 378 0 273 0 364 0 304 83 los wallach 0 374 0 200 0 400 0 273 84 cin larkin 0 367 0 281 0 281 0 361 85 pit garcia 0 366 0 273 0 318 0 304 85 cincinnati 0 366 0 256 0 319 0 326 87 nym coleman 0 363 0 259 0 259 0 310 88 nym kent 0 362 0 190 0 286 0 320 89 stl whiten 0 361 0 240 0 360 0 321 90 cin robert 0 359 0 278 0 278 0 333 90 cub 0 359 0 236 0 366 0 277 92 snf lewi 0 354 0 227 0 364 0 261 92 hou finley 0 354 0 214 0 250 0 312 92 col clark 0 354 0 250 0 350 0 286 95 los pitcher 0 350 0 286 0 357 0 286 95 sndiego 0 350 0 219 0 357 0 268 97 atl lemk 0 345 0 200 0 240 0 333 98 losangel 0 339 0 221 0 275 0 311 99 snf mcgee 0 335 0 267 0 300 0 333 99 atlanta 0 335 0 199 0 308 0 287 101 cin sander 0 334 0 267 0 333 0 290 101 cin oliv 0 334 0 208 0 208 0 345 103 snd gardner 0 332 0 238 0 333 0 273 103 los reed 0 332 0 276 0 276 0 323 105 phi hollin 0 327 0 226 0 290 0 294 106 florida 0 326 0 226 0 268 0 311 107 los davi 0 325 0 188 0 219 0 278 108 atl pendleton 0 322 0 212 0 273 0 297 109 snf clark 0 316 0 161 0 290 0 257 110 los strawberri 0 314 0 111 0 185 0 314 110 hou biggio 0 314 0 179 0 214 0 303 112 phi bell 0 304 0 182 0 364 0 217 113 flo magadan 0 303 0 182 0 182 0 357 114 stl pagnozzi 0 299 0 158 0 316 0 238 115 pit martin 0 295 0 167 0 417 0 167 115 col bichett 0 295 0 222 0 389 0 222 117 hou taubense 0 294 0 190 0 333 0 227 118 mon bolick 0 292 0 250 0 312 0 250 119 flo pose 0 291 0 258 0 323 0 303 120 mon cianfrocco 0 287 0 188 0 375 0 188 121 nym johnson 0 274 0 136 0 136 0 296 122 cin kelli 0 272 0 250 0 333 0 270 123 atl nixon 0 256 0 185 0 222 0 241 124 nym pitcher 0 255 0 167 0 250 0 231 125 pit pitcher 0 250 0 222 0 278 0 222 126 cub buechl 0 231 0 154 0 192 0 241 127 stl lankford 0 225 0 133 0 133 0 316 128 atl olson 0 224 0 150 0 150 0 261 129 cub vizcaino 0 217 0 148 0 259 0 179 130 cub sanchez 0 212 0 188 0 219 0 212 131 phi duncan 0 202 0 214 0 214 0 214 132 los offerman 0 198 0 182 0 182 0 250 133 snf pitcher 0 197 0 176 0 235 0 176 134 mon laker 0 183 0 133 0 267 0 133 135 phi chamberlain 0 180 0 111 0 111 0 200 136 snd pitcher 0 164 0 182 0 182 0 182 136 atl pitcher 0 164 0 182 0 182 0 182 138 phi pitcher 0 159 0 111 0 167 0 158 139 cub maldonado 0 150 0 105 0 158 0 150 140 flo felix 0 148 0 172 0 207 0 172 141 cin espi 0 141 0 100 0 100 0 182 142 stl jordan 0 140 0 105 0 211 0 105 143 atl berryhil 0 128 0 091 0 182 0 091 144 cub pitcher 0 126 0 111 0 111 0 158 145 snd shipley 0 122 0 087 0 174 0 087 146 stl pitcher 0 106 0 125 0 125 0 125 147 hou pitcher 0 053 0 067 0 067 0 067 147 col benavid 0 053 0 067 0 067 0 067 147 cin pitcher 0 053 0 067 0 067 0 067 150 cub wilkin 0 038 0 000 0 000 0 067 151 flo pitcher 0 000 0 000 0 000 0 000 151 col pitcher 0 000 0 000 0 000 0 000 0 74 1b 1 28 2b 1 64 3b 2 25 hr 0 53 bb 0 34 sb 2 cs opi ab h ba h ab slg h 2b 2 3b 3 hr ab oba h bb ab bb',\n",
       " 'live desol midwest far hockey concern sport store around carri littl hockey stuff except san jose tampa bay l pittsburgh lucki chicago would like know anyon know ail order phone order store might abl get contact die real hockey stuff hat shirt key chain etc team edmonton montreal etc inform pleas e mail direct appreci good luck team stanley cup playoff go edmonton like mayb next year assult someon get 5 year hockey 5 minut great sport',\n",
       " 'actual third period return bring spark crowd player play awesom defens third forgot gretzki guy start score king unstopp continu great defens work well stauber net tuesday hope provid anoth stellar perform earn name robb stopper stauber believ know gretzki sandstrom put number peopl left also carson robataill kurri line ignit light fire line hope evid score drought get luc slight breakaway third think steam bench emot might help break streak also notic blake realli good chanc score fan shot wide injuri still affect e g e',\n",
       " 'steve tuttl trade blue tb start season along pat jablonski futur consider play milwauke ihl got trade tb que along michel mongeau current play halifax ahl',\n",
       " 'argument reason player umpir delet yes basebal rule say appeal ball strike decis made umpir regard appeal call strike call could chang thought umpir right thing',\n",
       " '',\n",
       " 'one read bet spread basebal tend someth like 8 9 mean must run spread mean bet 5 underdog win 8 9 favorit win 5',\n",
       " 'brave doubter worri bat come aliv brave come around pitch solid long brave serious injuri start rotat continu pitch well heck five starter brave rotat could even sustain injuri one five hope happen though bat pendleton certain bat 280 justic catch fire bream nixon sander gant well much offens kept quiet much longer right cleveland indian 7 player bat 300 certain seven respect seven though brave someth right pitch 7 player bat 300 bullpen well suspect bat come aliv guy bullpen less concern anyway believ brave tough beat season say brave automat divis optim istic season though aw pain watch time right go brave',\n",
       " 'ever notic hockey player interview period tv game usual get goal assist explain usual talk star regular player explain hight percentag result wonder everybodi els think dont care trivial nonsens ttyl tom',\n",
       " 'disagre mcnall demonstr gretzki star bring crowd whether team expect well fan real istic expect king well year although yet still go see gretzki market strategi sell game sell star employ basebal notabl nba attitud new bettman mcnall leadership bring leagu gone record state tri sell game star timo salami brett hull perfect exampl player real fan know worth damn yet benificiari market orient coach strategi goal total would indic casual observ fan nhl want attract player inde superstar near simpl casual fan think much actual find adult 3 digit iq believ mcdonald make good hamburg yes appar rocket live market responsi biliti hype initi superstar outsid one grey cup game done littl maintain enhanc assess ment talent argo fan probabl feel team would better without cordial alway rm',\n",
       " 'patrick 1st rd pen isl 4 devil cap 6 2nd pen devil 7 adam 1st rd b sabr 5 nord hab 5 2nd b nord 6 norri 1st hawk star blue 5 wing leaf 7 2nd hawk wing 5 smyth 1st jet canuck 7 call hunch flame king 5 2nd jet flame 6 wale pen b 7 campbel hawk jet 5 stanley pen hawk 5',\n",
       " 'mayb wife claim know whether true coupl differ peopl total unrel said harri reliev duti platon relat augi busch wife judgement left individu cuz sure claim impeach sourc case',\n",
       " 'mention rule post town day entri deadlin abl respond messag april 18 would grate someon could repost rule instruct playoff pool sometim next week benefit miss first two post thank andrew scott andrew idacom hp com hp idacom telecom oper 403 462 0666 ext 253',\n",
       " 'sever problem way game present fan feel geograph name would enhanc region loyalti name honour personag cours would appear near confus one approach sport first time anoth thing bother point system percentag use major sport clear inform look nhl stand first thing make quick calcul account game hand almost alway case object percentag claim perhap american sport feel use percentag inform whether american irrelev even orr contribut without like norri would agre norri contribut without like orr take poll fan would quick tell fan feel made meaning contribut look divis name go hold either',\n",
       " 'bore right like caus stroke listen game two blackhawk station think could take anoth call joseph make spectacular saaaaaav blue fan want play like play game two sure result fine blue match well hawk realli need treat like 86 flame need monday night miracl chanc beat chicago blue talent least hawk rich h go blue',\n",
       " 'person expect moog blue play fair decent alright spectacular time 1 2 game moog experi blue go noth would happen tie game prssure goal tender insur keep puck least team score blue face kind pressur tuesday bruin come storm sure realli think seri buffalo boston except two bad pass game one realli play bad believ statist know go get puck fuhr sooner later keep shoot game plan sound need take lead first control tempo imho pat elli p go bruin go umain black bear 42 1 2 number 1 hockey east regular season champion hockey east tournament champion paul kariya hobey baker award winner ncaa div 1 hockey tournament champion',\n",
       " 'anybodi gif tiger stadium seat chart thank brian curran mead data central brian meaddata com',\n",
       " 'hi due live bay area unabl see vancouv victori jet last night know score rare describ game could someon pleas post brief sonapsi sp waht happen well team play cannuck deserv victori also could kind soul pleas email end season individu player stat greg',\n",
       " 'hi anybodi know ticket info fenway thank',\n",
       " 'term stopper general use refer pitcher one count pitch strong game keep team go lose streak brave plenti pitcher fit descript although right expect smoltz glavin take mantl brave lack howev offens stopper somebodi look bring hit slump one brave got rid best pure hitter lonni smith terri pendleton current roster ever shown cursori abil hit oh anoth thing worri ron gant seem slow step scari slow ron gant much go',\n",
       " 'robinson averag easliy real stat water boy ton check fact andr dawson career slug pct 480 winni would like see fact winni probabl done better 129 point carrer slg 480 check import stat defens heart bat averag rbi',\n",
       " 'w w see provid bruin lost first two game home came back w tie seri road may hope bruin yet toast toast know much want eat word gonna happen golf cours boston area playabl condit yet jack acid consum 47 time weight life',\n",
       " 'articl one toronto paper month ago probabl globe mail ethic journalist even sport journalist accept free meal team case one point articl make admittd sport report most ethic standard',\n",
       " 'thought red light went thus review presumpt would find conclus evid puck go net replay say even rear evid conclus puck opinion',\n",
       " 'post guess trivia question post career k one team ryan perhap steve carlton ranger hough long time 100 save depart mayb lee smith least hundr cubbi mayb enough either rsox card mayb gossag nyy sd finger mil oak know homer steal dept articl met trivia could tim leari least lose team mayb beat em probabl seaver koosman fit randi johnson hitter think scott bradley half old marin catch platoon behind plate night',\n",
       " 'actual gaetti first year california 1991 632 da line career averag 616 actual averag 1988 check last three year metrodom 1990 gaetti 655 al avg 604 1991 pag 744 leius 653 al avg 620 1992 leius 680 al avg 603 last three year highest das either leagu post minnesota player three differ one includ one pag mediocr horribl elsewher prove park effect work san diego horribl infield number prove park effect work look like strong possibl lot might even nice play thrid base dale j stephenson steph cs uiuc edu basebal fanat',\n",
       " 'agre lumberjack except 2nd go place san diego los angel san francisco cincinnati denver atlanta miami philadelphia new york montreal pittsburgh chicago st loui point 0 3 home use over enthusiast houston fan realli discourag hang lumberjack get ahold shift key ya obbas appar new owner drayton mclain sp particular like excus item paper austin american statesman read somewher els first said take injuri excus lose possibl account uh oh want owner keep everybodi edg never gotten feel know anybodi houston area feel meddl owner mclain go',\n",
       " 'tom princ 28 year old hit catcher think young dann bilardello begin fathom pirat afraid lose guy aaa last 5 season pirat releas kirk gibson last year princ option eventu sent princ anyway clear waiver without peep anoth year older still hit think clear waiver would care',\n",
       " 'point team canadian nhler playoff bound goali bill ranford edmonton sean burk hartford peter sidorkiewicz ottawa defensemen zarley zalapski hartford norm maciv ottawa garri galley philadelphia greg hawgood philadelphia dave manson edmonton mark tinordi minnesota center mark messier n ranger geoff sanderson hartford brian bradley tampa bay rod brind amour philadelphia left wing adam grave n ranger chris konto tampa bay patrick poulin hartford shayn corson edmonton right wing pat verbeek hartford russ courtnal minnesota mike gartner n ranger kevin dineen philadelphia',\n",
       " 'qualiti marin pitcher log expect see least one congratulatori note chris bosio hitter nari peep take opportun note red feet 11 5 slink town without score run last two game even hit last night gem fan compar suffer follow new england long run tragedi one win season histori someth burden bear take joy get em marin two hit pitcher staff coincident pitcher beat red sox back back game jsh',\n",
       " 'result three day vote rememb 3pts 1st 2 2nd 1 3rd also still turn vote guy regular goali retir pleas includ team thank time keep send vote player team pts vote 1 brian hayward san jose 15 6 andi moog boston 15 6 3 curti joseph st loui 11 5 4 ed belfour chicago 10 5 5 gerri cheever boston retir 5 3 manon rheaum atlanta ihl 5 2 ron hextal quebec 5 2 8 beaupr washington 4 2 other receiv 1 vote artus irb sj tim chevelda det clint malarchuck buf sd ihl grant fuhr buf rick wamsley tor ret jon casey minn john vanbiesbrouck nyr ken dryden mon ret bob essensa win mike vernon cal glenn heali nyi tommi soderstron ray leblanc usa',\n",
       " 'oh yeah dave winfield margin player guy hit lick neglig power crap fielder stay power dave winfield enter believ 20th big leagu season still damn decent hitter admit defens slip great deal prime power arm great rang take look stat know even begin make argument winfield kingman similar player kingman one dimens power hitter field ran like anvil hit low averag though rememb right obp hideous consid thing import absolut primo dick eddi murray yup best 1st baseman 80 know mvp vote conduct mediot given got job mvp deserv 1983 seem overr media lee smith hmmmm one actual pretti close solid depend career closer despit pitch nasti park wrigley fenway take closer look stat seem lee arthur hof calib make legitim point hof credenti reliev simpli rack lot save mean whole hell lot blow bunch simpli minnesota boston month atlanta use reardon closer longer one equal rack impress number save way homerman hof imho darrel evan nice career actual bit underr kinda like ted simmon imho hof er lemm ask hell play game margin wait goddamn minut ozzi smith absolut redefin posit shortstop defens good someth along line 10 gold glove gold glove mediot bias good argument could made larkin deserv one two ozzi recent award usual temper someon els earli 80 get gold glove ozzi deserv earlier career ozzi offens ask good obp great speed number park career depress offens admit power cept tom niedenfu still definit asset offens yount 3 000 hit mvp two differ posit uh huh real stiff 82 one great year ever player recent memori probabl rank behind peak season wagner bank far ss number go clear hof er imho well far garvey goe right garvey mediot candid push win attitud minor factor one great defens error admit rang tree stump garvey hof skyjack said lot nasti thing skyjack last year most respons mediot woofer talk morri abil win noth morri abil pitch toronto score ton run point morri averag pitcher although earli return 93 may damn close done fair morri domin pitcher 80 tiger team 1984 obvious great year detroit rest decad team general content favorit morri career number quit good worthi hof consider ryan cours care guarante someon throw back earlier logic yount smith shortstop hung around long time nolan never cy damn pitcher hung around 99 year w l record mediocr cours nolan hof er puck probabl although got play reason well year 10 year even good one enough make hof like said believ puckett make hof pretti much regardless rest career turn bar someth realli tragic sudden popular media fan legitim one best cf game sinc join leagu alway like guy hope make end think puck make realli earli sell debat come rather frequent net believ never tire interest subject top head list potenti hof er team probabl left coupl guy feel free follow consid anyon start play 1985 earli tell note activ player count recent retire baltimor cal ripken lock even gehrig record stand boston roger clemen might lock alreadi amaz dawson detroit alan trammel lou whitak possibl milwauke robin yount discuss earlier new york wade bogg possibl mat long shot toronto paul molitor jack morri possibl kansa citi georg brett lock minnesota kirbi earli tell winfield lock oakland eckersley lock mcgwire earli rickey lock welch long shot texa mighti nolan earli consid canseco strang cub sandberg lock st loui ozzi lock lee smith probabl new york murray almost lock saberhagen obvious got regain past form certain vinc coleman despit tell los angel butler strawberri hershis long shot san diego toni gwynn pretti good shot colorado dale murphi good shot ryan bowen see awak get flame top head list probabl deserv candid left includ barri bond clark atlanta start pitcher frank thoma canseco mcgriff etc consid guy start play 1985 e mail post almost fear may start',\n",
       " 'take quebec 6 hawk win take 5 cal 7 boston beat quebec 6 pitt 6 bruin arent pushov hawk havent problem year yep agre unless hawk somehow chang fate right know though mayb intens forecheck aka normal hawk style nullifi seem unbeat team mayb pen due let hell could possibl extend record make play way playoff',\n",
       " 'open game effect mayb pros arriv late nervous rooki wc player problem get line click may make thing hard get go wors nation guess better team face open game better sinc chanc upset greater reason wors team tough beat present han virus lindberg former coach switzerland 1 wors team refer franc switzerland austria itali etc usual world class goali 2 defens play becom much disciplin take much less unnecessari penalti 3 use four line make harder make run gas 4 ice qualiti german wc rink poor anoth weird thing czech play entertain hockey err kid david alex new name ok forgot czech roster home yesterday know team player would appreci guy could fill blank especi think player play finland czech republ goaltend 1 petr briza finland somewher right 2 roman turek motor c budejovic defens 3 leo guda 4 milo holan tj vitkovic 5 drahomir kadlec 6 bedrich scerban bryna sweden 7 antonin stavjana hv 71 sweden 8 miroslav horava modo sweden 9 ale flasar tj vitkovic forward 10 petr rosol 12 kamil kastak hv 71 sweden 13 richard zemlicka 14 jiri kucera 16 jan caloun hc litvinov 18 petr hrbek 19 toma kapusta 20 otakar janecki finland 21 roman horak motor c budejovic 22 martin hostak modo sweden 24 radek toupal 26 jiri dolez staffan',\n",
       " 'san jose shark ottawa senat second gm alreadi will wager shark senat probabl see 3rd gm perhap 4th see panther second',\n",
       " 'hey guess come espn chang playoff involv pen anyth wrong espn game thursday game3 pen devil 7 30 gari thorn bill clement saturday game4 cap ny isl 7 30 tom mee john davidson abc game sunday game4 pen devil 1 00 gari thorn bill clement espn name 2 broadcast team tuesday pair tom mee play play john davidson analyst',\n",
       " 'cheryl mark write depend much older',\n",
       " 'marvel time call chris webber result technic foul sinc team time out left perhap webber take place bill buckner master choke least red sox fan hope ted',\n",
       " 'first rfk olim dc stadium built 2 year earlier nowaday move seat back exhibit game 3rd base lf lower deck use move metal pretti noisi bat day vast better fix though back late 70 dump',\n",
       " 'mission reviv hockey umass underway 4 pm saturday afternoon press confer held new mullin center arena former boston colleg asst coach joe mallen award 4 year 85 000 year contract head coach umass minutemen mallen third viabl pick posit right behind jeff jackson lake superior second behind shawn walsh umain previous offer posit rumor offer asst coach brown rpi head coach ahl springfield indian umass hockey disband 1979 due financi constraint undermin team posit period year late novemb last year 52 million mullin sport center open follow one year construct deadlin minutemen slate play independ div ii div iii schedul upcom winter offici enter hockey east winter 1994 season mallen yet comment player recruit strategi potenti team candid minutemen expect leverag insid contact within new england bay state europ draw competit top ice player univers umass slate 18 hockey scholarship upcom fall semest expect hear hear sourc j jim doyl univ massachusett dept comput scienc staff programm puma dcc cnet email doyl gaia cs umass edu',\n",
       " 'one listen wfan know talk sport radio staion new york clear night signal reach east coast particular want know len berman mike lupica show go school virginia listen day wonder jonathan alboum uva',\n",
       " 'eric true fortun get find would like without recchi 30 game soderstrom absolut 4 shutout 39 game rooki without lot defens front runnerup galley fedyk score ton career best galley think paul coffey put score ahead defend fedyk tail big time eklund big question mark year come injuri 42 point 49 game bad recent huge factor win gotten eklund never point game season career product typic qualifi disappoint anyth surpris choic would roussel went strict expect player never thought take 1 goali biggest disappoint bill dineen thought go perfect coach young team instead made mani bad move imho cost enough game keep playoff year coach think put eric lindro point power play bright idea need go back coach school',\n",
       " 'bad got 2 wrong cal chi 5 cal pit 6 7 take sc',\n",
       " 'mention could cut star nhl even rexi prime good regular new york edmonton superstar right although blame lack effort behalf think ny manag made mistak rememb edmonton call reksa middl season win cup call yeah tendenc beat past almost knife brother anger sweden score two final minut wc semifin back 1986 three goal antero kivela let five minut go russki lake placid 80 ugh k bad luck penguin kind luck year playoff never win cup still best team',\n",
       " '',\n",
       " 'mlb stand score friday april 16th 1993 includ yesterday game nation west lost pct gb last 10 streak home road san francisco giant 06 04 600 6 4 1 03 01 03 03 houston astro 05 04 556 0 5 5 4 lost 1 00 03 05 01 atlanta brave 06 05 545 0 5 5 5 lost 2 03 03 03 02 colorado rocki 03 05 375 2 0 3 5 1 03 03 00 02 los angel dodger 03 07 300 3 0 3 7 lost 4 00 03 03 04 san diego padr 02 07 222 3 5 2 7 lost 4 00 04 02 03 cincinnati red 02 07 222 3 5 2 7 lost 3 01 02 01 05 nation east philadelphia philli 08 01 889 8 1 5 05 01 03 00 pittsburgh pirat 07 02 778 1 0 7 2 4 03 02 04 00 st loui cardin 07 02 778 1 0 7 2 3 04 02 03 00 new york met 04 04 500 3 5 4 4 lost 1 02 03 02 01 chicago cub 04 05 444 4 0 4 5 1 01 02 03 03 montreal expo 04 05 444 4 0 4 5 1 01 02 03 03 florida marlin 03 06 333 5 0 3 6 1 02 04 01 02 american west lost pct gb last 10 streak home road texa ranger 06 02 750 6 2 lost 1 04 02 02 00 california angel 05 02 714 0 5 5 2 3 03 02 02 00 chicago white sox 04 04 500 2 0 4 4 1 02 03 02 01 minnesota twin 04 04 500 2 0 4 4 lost 1 01 02 03 02 oakland athlet 04 04 500 2 0 4 4 lost 2 04 02 00 02 seattl marin 04 04 500 2 0 4 4 lost 1 03 02 01 02 kansa citi royal 02 07 222 4 5 2 7 1 01 05 01 02 american east boston red sox 07 02 778 7 2 3 03 00 04 02 toronto blue jay 05 03 625 1 5 5 3 1 04 02 01 01 new york yanke 05 04 556 2 0 5 4 lost 1 02 01 03 03 detroit tiger 04 04 500 2 5 4 4 2 02 00 02 04 cleveland indian 03 06 333 4 0 3 6 lost 3 02 01 01 05 milwauke brewer 02 05 286 4 0 2 5 lost 4 00 02 02 03 baltimor oriol 02 06 222 4 5 2 6 1 00 02 02 04 yesterday score idl team list alphabet order nation leagu american leagu houston astro 1 seattl marin 1 montreal expo 2 toronto blue jay 3 new york met 3 oakland athlet 2 colorado rocki 5 detroit tiger 3 pittsburgh pirat 5 kansa citi royal 5 san diego padr 4 13 new york yanke 4 st loui cardin 4 cleveland indian 3 los angel dodger 2 boston red sox 4 13 atlanta brave 1 california angel ppd san francisco giant 6 milwauke brewer rain chicago cub idl baltimor oriol idl cincinnati red idl chicago white sox idl florida marlin idl minnesota twin idl philadelphia philliesidl texa ranger idl joseph hernandez ram laker jtchern ocf berkeley edu king dodger raider jtcent soda berkeley edu angel clipper',\n",
       " 'say say wow believ anyon would think brave team matter get titl free dolt person would thought incred',\n",
       " 'hey could start new game net call roger similiar waldo instead find waldo pictur peopl tri find roger newsgroup net predict r basketbal pro next',\n",
       " 'today frank viola rest pitcher staff boston red sox shutout chicago white sox 4 0 red sox 9th win season',\n",
       " 'someon net post yanke schedul need right away',\n",
       " 'well could becom fan serious news come sinc thursday effect rob island devil airtim sport talk show almost everywher sampl fact playoff almost exist ranger fan call wfan new york one midnight sport talk mix furi season near orgasm keenan hire summar keenan winner give broadway bum da busi pursu next cup chase interest combin watch keenan paid enough money put shut coach advic player move listen close lot big player move happen rememb keenan got rid deni savard countri club day paramount given smith earlier sign support offer keenan big money put shut back januari ranger might head golf one keenan first statement reaffirm mark messier team captain smith might bargain keenan advic like mayb unload phil bourqu tie domi gld',\n",
       " 'heard eli sell team group cinninati would help could make real free agent sign offseason train camp report everyth pretti posit right backup catcher postion showdown tackett parent although would prefer parent 1 draft pick jeff hammond may come faster hierarchi minor faster expect mike flanagan tri anoth comeback big ben defend coach say homer given aw lot came begin season realli improv second half may ben year feel may mussina cy young year abl pitch entir season without period fatigu like last year around august realli hope bain provid rf support need orsulak decent hope chito martinez could learn defens better play like 91 right mani left hand hitter anderson prove last year fluke cal return averag would big pluss drive pennant rotat sutcliff mussina mcdonald rhode olson interest case strike side load base get three pop out never know way see al east year person bias mix baltimor new york toronto milwauke cleveland boston detroit top 4 true contend mind one 4 definit win divis unless snow hell maryland feel baltimor season final put everyth togeth',\n",
       " 'nice sig like chang btw could post name peopl go letter sure other would like know includ want roger fool',\n",
       " 'dodger shop harri team quest left hand pitch far taker person think harri defens liabil also led team past year hit doubl play least among leader sharperson show last year given chanc play everi day get job done sharpi play one base everi day say third also improv defens wallach help tremend defens reed improv defens quit notic effect pitch staff astacio martinez bail recent start great defens play martinez pitch ninth game might seen lift third past year astacio last 7 inning day similar circumst dodger turn doubl play keep ball infield last year piazza also great defens thrown 10 14 batter tri steal least one pick first wallach clear contribut improv defens offens aw cost dodger run think bad current averag suspect come slump much davi straw seem come',\n",
       " 'yeah think flame flyer trade captain mel bridgeman brad marsh',\n",
       " 'differ nolan ryan yount hung around year continu post great stat dave kingman get hall murray even reardon other hell ask oppos pitcher whether think winfield hall god pretti soon say cal ripken deserv hall flame',\n",
       " 'bosox 3 royal 1 wp clemen 1 0 lp appier 0 1',\n",
       " 'punch imlach contribut coach gm far greater combin name divis trophi smyth norri bunch honour pure power owner owner certain help build leagu whether develop game anoth question altogeth go honour contribut leagu evolut go honour contribut glori sport disagre heard major definit littl asshol origin phrase beat em alley beat em ice idea hockey think chanc cherri classi individu money issu irrelev point would agre player make game great peopl put ice exact true name divis trophi smyth bunch kind nepot put stein hall fame alway thought nonsens',\n",
       " 'anyon know msg televis binghampton ranger playoff game even tape replay would nice',\n",
       " 'player team gp g pts pim lemieux pit 3 4 2 6 2 0 franci pit 3 1 5 6 5 4 oat bos 3 0 6 6 1 2 yzerman det 2 3 2 5 3 0 coffey det 2 0 5 5 1 0 hunter 3 5 0 5 4 10 mogilni buf 3 4 1 5 3 4 thoma nyi 3 2 3 5 6 0 lapoint que 3 1 4 5 2 2 johansson 3 0 5 5 1 4 carson la 2 4 0 4 0 2 brown stl 2 1 3 4 1 2 fleuri cal 2 1 3 4 0 19 g courtnal van 2 1 3 4 3 2 flatley nyi 2 0 4 4 3 2 macinni cal 2 0 4 4 1 4 ferraro nyi 3 3 1 4 2 2 mceachern pit 3 3 1 4 4 8 neeli bos 3 3 1 4 1 4 turgeon nyi 3 3 1 4 5 0 bellow mon 3 2 2 4 0 0 jagr pit 3 2 2 4 3 0 khmylev buf 3 2 2 4 3 0 khristich 3 2 2 4 0 2 hawerchuk buf 3 1 3 4 0 2 hogu nyi 3 1 3 4 3 2 juneau bos 3 1 3 4 0 6 k steven pit 3 1 3 4 1 6 l murphi pit 3 1 3 4 2 0 lafontain buf 3 1 3 4 2 0 ramsey pit 3 0 4 4 3 4 smehlik buf 3 0 4 4 4 2 noonan chi 2 3 0 3 0 0 gilmour tor 2 2 1 3 1 12 hull stl 2 2 1 3 0 0 otto cal 2 2 1 3 2 2 reichel cal 2 2 1 3 0 0 bure van 2 1 2 3 2 0 drake det 2 1 2 3 2 0 linden van 2 1 2 3 4 2 nieuwendyk cal 2 1 2 3 1 2 robert cal 2 0 3 3 2 4 young que 3 3 0 3 3 0 b sweeney buf 3 2 1 3 2 4 steven nj 3 2 1 3 2 4 tocchet pit 3 2 1 3 0 2 carpent 3 1 2 3 0 6 j mullen pit 3 1 2 3 2 2 ron van 2 2 0 2 4 0 suter cal 2 2 0 2 0 4 yawney cal 2 2 0 2 3 4 adam van 2 1 1 2 2 0 chiasson det 2 1 1 2 1 4 craven van 2 1 1 2 2 2 cullen tor 2 1 1 2 1 0 dahlquist cal 2 1 1 2 2 4 king win 2 1 1 2 2 2 racin det 2 1 1 2 6 14 rychel la 2 1 1 2 1 19 shanahan stl 2 1 1 2 0 4 sheppard det 2 1 1 2 2 0 sydor la 2 1 1 2 0 4 barn win 2 0 2 2 1 2 emerson stl 2 0 2 2 0 0 gill tor 2 0 2 2 2 0 granato la 2 0 2 2 1 4 gretzki la 2 0 2 2 3 0 housley win 2 0 2 2 2 0 janney stl 2 0 2 2 0 0 king nyi 2 0 2 2 4 6 kozlov det 2 0 2 2 1 2 sandstrom la 2 0 2 2 4 4 shuchuk la 2 0 2 2 1 2 vask nyi 2 0 2 2 1 0 damphouss mon 3 1 1 2 0 0 elynuik 3 1 1 2 1 0 guerin nj 3 1 1 2 0 4 hannan buf 3 1 1 2 2 8 holik nj 3 1 1 2 1 4 muller mon 3 1 1 2 0 0 sakic que 3 1 1 2 0 0 semak nj 3 1 1 2 2 0 sundin que 3 1 1 2 1 2 taglianetti pit 3 1 1 2 3 6 tipett pit 3 1 1 2 1 6 barasso pit 3 0 2 2 0 2 bondra 3 0 2 2 1 0 carney buf 3 0 2 2 3 4 cavallini 3 0 2 2 0 2 desjardin mon 3 0 2 2 0 0 duchesn que 3 0 2 2 1 2 niedermay nj 3 0 2 2 1 2 ricci que 3 0 2 2 3 2 ridley 3 0 2 2 1 0 u samuelsson pit 3 0 2 2 4 6 blake la 1 0 1 1 2 0 borschevski tor 1 0 1 1 0 0 zelepukin nj 1 0 1 1 2 0 b mullen nyi 2 1 0 1 2 0 burr det 2 1 0 1 1 2 domi win 2 1 0 1 2 4 fedorov det 2 1 0 1 2 2 felsner stl 2 1 0 1 1 0 howe det 2 1 0 1 4 2 huddi la 2 1 0 1 1 0 kurri la 2 1 0 1 2 2 lefebvr tor 2 1 0 1 0 12 lidstrom det 2 1 0 1 1 0 lowri stl 2 1 0 1 1 2 mcsorley la 2 1 0 1 3 12 millen la 2 1 0 1 2 4 mironov tor 2 1 0 1 1 2 numminen win 2 1 0 1 2 0 paslawski cal 2 1 0 1 1 0 steen win 2 1 0 1 4 0 ysebaert det 2 1 0 1 0 0 anderson tor 2 0 1 1 2 2 berub cal 2 0 1 1 1 15 chelio chi 2 0 1 1 1 2 ciccarelli det 2 0 1 1 1 14 clark tor 2 0 1 1 0 6 dahl cal 2 0 1 1 2 6 dipietro mon 2 0 1 1 0 0 donnelli la 2 0 1 1 1 2 ellett tor 2 0 1 1 3 0 gallant det 2 0 1 1 1 4 k brown chi 2 0 1 1 1 0 kennedi det 2 0 1 1 1 0 larmer chi 2 0 1 1 0 0 matteau chi 2 0 1 1 1 2 mclean van 2 0 1 1 0 0 mcrae stl 2 0 1 1 1 2 murzyn van 2 0 1 1 2 0 musil cal 2 0 1 1 0 5 pearson tor 2 0 1 1 1 21 primeau det 2 0 1 1 1 20 probert det 2 0 1 1 0 6 ranheim cal 2 0 1 1 2 0 robitaill la 2 0 1 1 4 2 roenick chi 2 0 1 1 1 0 selann win 2 0 1 1 2 0 shannon win 2 0 1 1 4 0 skrudland cal 2 0 1 1 2 10 sutter chi 2 0 1 1 1 0 taylor la 2 0 1 1 1 0 zhitnik la 2 0 1 1 2 2 barr nj 3 1 0 1 0 6 bourqu bos 3 1 0 1 2 2 burridg 3 1 0 1 2 0 dionn mon 3 1 0 1 0 0 heinz bos 3 1 0 1 0 0 leschyshyn que 3 1 0 1 1 4 presley buf 3 1 0 1 0 0 rucinski que 3 1 0 1 1 2 smolinski bos 3 1 0 1 1 2 wood buf 3 1 0 1 1 4 brunet mon 3 0 1 1 0 0 daniel pit 3 0 1 1 1 0 donato bos 3 0 1 1 5 0 driver nj 3 0 1 1 3 4 gusarov que 3 0 1 1 2 0 houlder buf 3 0 1 1 0 0 k samuelsson pit 3 0 1 1 2 0 kamenski que 3 0 1 1 1 4 krygier 3 0 1 1 0 4 loney pit 3 0 1 1 2 0 may 3 0 1 1 1 2 miller 3 0 1 1 3 0 odelein mon 3 0 1 1 0 0 pivonka 3 0 1 1 1 0 shaw bos 3 0 1 1 2 4 straka pit 3 0 1 1 0 0 belang mon 1 0 0 0 0 0 chorsk nj 1 0 0 0 0 0 druce win 1 0 0 0 0 0 eagl win 1 0 0 0 0 0 errey buf 1 0 0 0 0 4 ewen mon 1 0 0 0 0 0 foligno tor 1 0 0 0 0 16 goulet chi 1 0 0 0 0 0 grimson chi 1 0 0 0 0 2 hugh bos 1 0 0 0 0 2 kovalenko que 1 0 0 0 0 2 leeman mon 1 0 0 0 0 0 mcllwain tor 1 0 0 0 2 0 osbourn tor 1 0 0 0 1 2 richer nj 1 0 0 0 4 0 roberg mon 1 0 0 0 0 0 schneider mon 1 0 0 0 0 0 watter la 1 0 0 0 1 4 weimer bos 1 0 0 0 1 4 andreychuk tor 2 0 0 0 2 2 ashton cal 2 0 0 0 1 2 babych van 2 0 0 0 2 2 baron stl 2 0 0 0 0 6 bassen stl 2 0 0 0 0 4 baumgartn tor 2 0 0 0 0 0 bautin win 2 0 0 0 2 2 belfour chi 2 0 0 0 0 0 berg tor 2 0 0 0 1 4 billington nj 2 0 0 0 0 0 blue bos 2 0 0 0 0 0 borsato win 2 0 0 0 2 0 bozon stl 2 0 0 0 0 0 butcher stl 2 0 0 0 2 0 chevelda det 2 0 0 0 0 2 conach la 2 0 0 0 2 0 corkum buf 2 0 0 0 0 0 diduck van 2 0 0 0 2 2 dirk van 2 0 0 0 0 2 erickson win 2 0 0 0 1 0 essensa win 2 0 0 0 0 2 gilbert chi 2 0 0 0 0 0 graham chi 2 0 0 0 0 0 hardi la 2 0 0 0 1 10 hedican stl 2 0 0 0 0 0 hrudey la 2 0 0 0 0 0 j lemieux chi 2 0 0 0 0 0 johansson cal 2 0 0 0 1 0 joseph stl 2 0 0 0 0 0 kasatonov nj 2 0 0 0 2 0 kennedi win 2 0 0 0 0 0 konstantinov det 2 0 0 0 1 4 krushelnyski tor 2 0 0 0 2 0 lidster van 2 0 0 0 0 0 lumm van 2 0 0 0 2 4 macoun tor 2 0 0 0 1 6 marchment chi 2 0 0 0 1 6 miller stl 2 0 0 0 0 0 momesso van 2 0 0 0 1 2 moog bos 2 0 0 0 0 0 muni chi 2 0 0 0 1 0 murphi chi 2 0 0 0 1 4 murray chi 2 0 0 0 0 0 nedv van 2 0 0 0 2 2 olausson win 2 0 0 0 1 2 pearson que 2 0 0 0 0 0 potvin tor 2 0 0 0 0 6 quintal stl 2 0 0 0 1 0 ramag mon 2 0 0 0 0 0 ri sutter stl 2 0 0 0 0 0 rous tor 2 0 0 0 2 0 russel chi 2 0 0 0 0 0 ruuttu chi 2 0 0 0 1 0 richer bos 2 0 0 0 1 0 smith chi 2 0 0 0 2 4 sandlak van 2 0 0 0 2 0 semenov van 2 0 0 0 0 0 stern cal 2 0 0 0 1 26 hunter van 2 0 0 0 0 2 sweeney bos 2 0 0 0 0 0 terreri nj 2 0 0 0 0 0 tkachuk win 2 0 0 0 3 10 ulanov win 2 0 0 0 1 4 valk van 2 0 0 0 0 2 vernon cal 2 0 0 0 0 2 wilson stl 2 0 0 0 0 4 zezel tor 2 0 0 0 2 2 zhamnov win 2 0 0 0 1 0 zombo stl 2 0 0 0 1 4 albelin nj 3 0 0 0 1 0 anderson 3 0 0 0 1 0 audett buf 3 0 0 0 1 4 bodger buf 3 0 0 0 3 0 briseboi mon 3 0 0 0 0 0 c lemieux nj 3 0 0 0 4 17 carbonneau mon 3 0 0 0 0 0 cavallini que 3 0 0 0 0 0 cote 3 0 0 0 3 0 sweeney bos 3 0 0 0 2 4 daigneault mon 3 0 0 0 0 0 dalgarno nyi 3 0 0 0 3 0 daneyko nj 3 0 0 0 1 2 douri bos 3 0 0 0 3 0 fetisov nj 3 0 0 0 5 0 finn que 3 0 0 0 1 0 fitzgerald nyi 3 0 0 0 0 0 foot que 3 0 0 0 1 0 fuhr buf 3 0 0 0 0 2 g robert bos 3 0 0 0 1 4 haller mon 3 0 0 0 0 0 hatcher 3 0 0 0 1 2 heali nyi 3 0 0 0 0 0 hextal que 3 0 0 0 0 0 hough que 3 0 0 0 0 0 iafrat 3 0 0 0 2 0 jen pit 3 0 0 0 0 4 jone 3 0 0 0 2 5 kaspara nyi 3 0 0 0 0 4 kean mon 3 0 0 0 0 0 kimbl bos 3 0 0 0 0 0 krupp nyi 3 0 0 0 2 2 kvartalnov bos 3 0 0 0 0 2 leclair mon 3 0 0 0 0 0 leach bos 3 0 0 0 0 0 lebeau mon 3 0 0 0 0 0 ledyard buf 3 0 0 0 3 4 loisell nyi 3 0 0 0 1 2 maclean nj 3 0 0 0 4 4 malakov nyi 3 0 0 0 1 2 may buf 3 0 0 0 0 4 mckay nj 3 0 0 0 0 16 nichol nj 3 0 0 0 4 4 nolan que 3 0 0 0 1 2 norton nyi 3 0 0 0 3 0 patterson buf 3 0 0 0 1 2 pilon nyi 3 0 0 0 1 22 poulin bos 3 0 0 0 4 0 roy mon 3 0 0 0 0 0 savard mon 3 0 0 0 0 0 simon que 3 0 0 0 1 2 stapleton pit 3 0 0 0 1 0 stastni nj 3 0 0 0 1 2 sutton buf 3 0 0 0 2 0 green nyi 3 0 0 0 3 0 tabaracci 3 0 0 0 0 4 vukota nyi 3 0 0 0 1 2 wesley bos 3 0 0 0 1 0 wolanin que 3 0 0 0 1 4',\n",
       " 'dear ulf would possibl consid helpimontr canadien fan everywher throw knee check direct deni savard upcom game montreal seem win thanx alot pete h',\n",
       " 'dominican b light hit 304 lifetim 315 1966 73 play c profession pinch hitter yes also give jerri hairston begin 10th year good one thing lot peopl bad of light either 750 op 10 year 10 year year 10 year 10 year yup ok 10 year year six year year brock coleman wilson hot dog basesteal also lonni smith seem special class cfs like petti wilson also get break especi actual field well brock bad hitter either end spoil ifetim 300 ba suspect thatth problem lessen time look histori last three decad seem clear race base pattern util player platoon player lesser talent stay ml far longer white light hit 199 hr 793 lifetim op main houston also latin btw come back 1999 parti h h h h h talk',\n",
       " 'white yes well definit hockey season ticket owner lowest averag incom four major north american sport think major hockey player come farm boondock saskatchewan weedvill alberta inner citi place poor think biggest barrier hockey inner citi ice play stace',\n",
       " 'roar michigan trumbul loader ever year mike illitch head erni harwel back booth tiger bat bang summer alreadi score 20 run two game fielder tettleton deer think win divis pitch bull gulli moor well krueger make decent staff keep team mani game henneman close watch boston toronto baltimor motor citi kitti back nice woof say meow yes tigger fun excit team would pay see last year went 75 87 year offens essenti pitch best essenti think sudden improv win 92 game requir win l east chang see rememb 20 4 win worth much stand 3 2 win',\n",
       " 'well thing differ way headlin would nhl european divis regular season game stockholm storm vs helsinki tornado 4 3 two game everi north american base team 46 might ninth final regular season encount helsinki stockholm remain 27 game would involv pari dortmund milan nice dream marcu',\n",
       " 'would person run e mail list kansa citi royal pleas e mail detail regard mail list list know info pleas send info well pleas e mail time alway read group john',\n",
       " '',\n",
       " '2 bond bat behind william mean matt get good pitch hit import sinc struggl much break ball oppos pitcher want walk william get bond wonder good hitter behind argument realli valid anyon done studi want studi look matt william year mitchel gone look scientif studi show truth matt besid bond want bat 5th thought william bat mitchel show william better 5th rather 4th point moot though becas clark pretti much demand 3rd like point bond like bat 5th person left bat 4th william',\n",
       " 'good question impress back evid general south border seem exempt one hire fire effect talk back 20 attempt hire black cuban ballplay reject commission other well mean say asid short live except japanes intern ww ii black affect law regard slaveri jim crow miscegen militari servic etc claim exclus 100 airtight come except fine cooki compar list racial group put legal onslaught worth discuss length',\n",
       " 'persist believ peter gammon knowledg basebal averag mailbox okay overst still man actual gall say one everi six pitcher nl year pitch major last year huh imo expans see explos jump offens expans draft sinc talent dilut leagu gammon defens talent drain came al well increas seen also get credit mention 1969 jump offens due also rule chang 1968 season still full',\n",
       " 'way gotta walter johnson washington carlton spent long st loui collect less 700 also guess hough due length tenur though suspect bobbi witt far behind mayb even jenkin snuck close finger achiev 100 either mil sd yes go guess otherwis think reardon better chanc 100 min along would think easili reach 100 mon gotta willi may fair sure 300 steal career hmmm leari realli good point forgotten well noth els plenti ex met pitcher categori could lost team koosman leari torrez ryan seaver guess best three guess would leari ryan either seaver koosman',\n",
       " 'duh chop sig bob vesterman ps hey kid take pictur dead presid parent wallet mail',\n",
       " 'one read bet spread basebal tend someth like 8 9 mean must run thank david rex wood davewood cs colorado edu univers colorado boulder',\n",
       " 'think joseph great year consid vezina think barrasso joseph two strongest candid year believ hype roy belfour potvin receiv goaltend think great net would rather curti tommi fuhr net year playoff big name tender alway seem strong defens front goaltend get credit would rather face 25 shot game reli joseph save 35 goali go face 35 shot would rather joseph barrasso face jay ps go quebec know mclean sever other mention candid year vezina partial joseph barrasso season',\n",
       " 'lou want morri along idiot give man 40 million play like give five year old load uzi safeti question mani shot get somebodi wise enough take away see peopl expect boston finish sixth bottom four team last year essenti tie boston seventh place 73 win yanke indian tie fourth place 76 win think obvious red sox improv indian tiger basic red sox stronger year 1b dh ss lf rf healthier start pitcher far least better reliev see reason win 85 game meanwhil indian shambl tiger still pitch win 20 3 blowout lose aw lot 7 5 game mayb sox play poor win 78 game finish fifth think third fourth place like',\n",
       " 'final point total player chosen usenet hockey draft note 114 player score 55 point minimum cost although 254 differ player chosen andrew point team player 160 pit mariolemieux 148 buf patlafontain 142 bos adamo 137 det steveyzerman 132 wpg teemuselann 132 nyi pierreturgeon 127 buf alexandermogilni 127 tor douggilmour 125 la lucrobitaill 123 phi markrecchi 114 que matssundin 111 pit kevinsteven 110 van pavelbur 109 pit ricktocchet 107 chi jeremyroenick 106 stl craigjanney 105 que joesak 102 bos joejuneau 101 stl bretthul 100 cgi theorenfleuri 100 pit ronfranc 99 tor daveandreychuk 97 mtl vincentdamphouss 97 det dinociccarelli 97 wpg philhousley 96 buf dalehawerchuk 94 stl brendanshanahan 94 mtl kirkmul 94 pit jaromirjagr 93 min mikemodano 91 nyr markmessi 89 hfd geoffsanderson 88 mtl brianbellow 88 cgi robertreichel 87 la jarikurri 87 nyi stevethoma 87 det sergeifedorov 87 det paulcoffey 86 tb brianbradley 86 phi rodbrind amour 85 wsh peterbondra 85 pit larrymurphi 85 hfd andrewcassel 85 van cliffron 82 wsh mikeridley 82 la tonygranato 82 que steveduchesn 82 hfd patverbeek 82 bos raybourqu 81 cgi garysut 81 nj claudelemieux 80 mtl stephanlebeau 79 nj alexandersemak 79 wsh kevinhatch 79 min russcourtnal 79 wsh dalehunt 78 que mikericci 78 sj kellykisio 78 stl jeffbrown 77 que owennolan 77 van murraycraven 77 van geoffcourtnal 76 nyr tonyamont 76 nyi derekk 76 min davegagn 75 phi ericlindro 75 cgi joenieuwendyk 75 nyi benoithogu 74 tor nikolaiborschevski 74 wsh michalpivonka 74 min ulfdahlen 73 la jimmycarson 73 nj stephanerich 73 chi chrischelio 73 stl nelsonemerson 72 wpg alexeizhamnov 72 bos dmitrikvartalnov 72 van trevorlinden 72 wpg thomassteen 71 van petrnedv 70 pit joemullen 70 chi stevelarm 69 la mikedonnelli 68 que andreikovalenko 68 nyr mikegartn 67 wsh dmitrikhristich 66 wsh aliafr 66 det raysheppard 66 sj johangarpenlov 65 tor glennanderson 65 hfd zarleyzalapski 65 la waynegretzki 65 nyr adamgrav 64 nj valerizelepukin 63 ott normmaciv 63 phi kevindineen 62 det stevechiasson 62 det paulysebaert 62 phi garrygalley 61 pit shawnmceachern 60 mtl mikekean 60 wpg darrinshannon 60 nyi patflatley 60 nj bernienichol 60 que scottyoung 59 la robblak 59 phi brentfedyk 57 chi stevesmith 57 wsh patelynuik 57 nj scottsteven 57 cgi sergeimakarov 57 wpg fredrikolausson 56 van gregadam 56 tb johntuck 54 chi christianruuttu 54 chi brentsutt 54 cgi almacinni 54 nyr sergeinemchinov 53 hfd terryyak 53 nyr darrenturcott 52 nyi vladimirmalakhov 52 van dixonward 52 la tomassandstrom 51 bos stephenleach 51 hfd patrickpoulin 51 wpg keithtkachuk 50 nyi jeffnorton 50 mtl denissavard 50 tor johncullen 50 wsh sylvaincot 49 nyr edolczyk 49 stl kevinmil 49 bos davepoulin 49 van anatolisemenov 49 phi pelleeklund 49 wpg evgenydavydov 48 mtl gilbertdionn 48 nj johnmaclean 48 que martinrucinski 48 la alexeizhitnik 48 edm petrklima 48 edm dougweight 47 edm shaynecorson 46 edm craigsimpson 45 wsh kellymil 45 edm davemanson 44 chi michelgoulet 44 mtl mathieuschneid 43 det bobprobert 43 cgi paulranheim 43 ott sylvainturgeon 42 min marktinordi 41 ott bobkudelski 41 det niklaslidstrom 41 ott bradshaw 41 edm toddelik 41 bos vladimirruzicka 40 min mikemcphe 40 nyr esatikkanen 40 tor daveellett 40 nj peterstastni 39 la coreymillen 39 nj bobbyholik 39 buf yurikhmylev 39 tb adamcreighton 39 tor wendelclark 38 van sergiomomesso 38 nyr alexeikovalev 37 tor robpearson 37 que valerykamenski 37 chi dirkgraham 36 nyr brianleetch 36 edm zdenocig 35 tor peterzezel 35 bos teddonato 33 min nealbroten 33 hfd mikaelnyland 33 phi josefberanek 33 chi stephanematteau 32 edm scottmellanbi 32 det keithprimeau 32 buf waynepresley 32 nyi brianmullen 32 phi dmitriyushkevich 32 mtl garyleeman 31 buf richardsmehlik 31 bos steveheinz 31 tor dmitrimironov 30 chi briannoonan 28 wsh bobcarpent 28 sj patfalloon 27 stl igorkorolev 27 tb mikaelandersson 27 nyi rayferraro 26 buf petrsvoboda 26 ott marklamb 26 nyr jamespatrick 25 mtl benoitbrunet 24 nyi scottlach 24 tor billberg 23 edm martingelina 23 wpg sergeibautin 23 edm kevintodd 21 nyi davidvolek 21 nyi dariuskaspara 21 tb romanhamrlik 21 min brentgilchrist 20 nyr philbourqu 20 det jimhil 20 phi andreilomakin 20 hfd yvoncorriveau 19 buf donaldaudett 18 bos camne 17 chi joemurphi 17 sj markpederson 16 pit martinstraka 15 nyr peterandersson 13 nj janneojanen 13 ott tomasjelinek 12 min bobbysmith 11 tb stevekasp 10 sj raywhitney 9 hfd robertpetrovicki 9 buf viktorgordijuk 8 tor joesacco 8 que mikhailtatarinov 8 sj peterahola 7 chi robbrown 7 bos glenmurray 6 min brianpropp 6 hfd timkerr 5 wsh reggiesavag 5 la robertlang 5 stl vitaliprokhorov 5 det viacheslavkozlov 5 edm shaunvanallen 4 bos jozefstumpel 4 min danquinn 4 pit bryanfogarti 3 mtl olavpetrov 3 tb standrulia 2 nj claudevilgrain 2 wsh jasonwoolley 0 que peterforsberg 0 wsh briansak 0 wsh randyburridg 0 mtl patrickkjellberg 0 ott alexeiyashin 0 edm deanmcammond 0 cgi corystillman 0 tb brentgretzki 0 buf jasondaw 0 van igorlarionov 0 chi sergeikrivokrasov andrew scott andrew idacom hp com hp idacom telecom oper 403 462 0666 ext 253',\n",
       " 'gari certain sofa tuber like advantag watch pirat kbl met wwor brave tbs mediot espn time without miss anyth someth impress happen catch replay see essenti 4 game 3 hour instead 1 game 2 hour deal insert smiley desir',\n",
       " 'cours penalti chang rough chauvanist male aggress slash chauvanist male vent frustrat fight proof male cannot cope feel sinc penalti fall three class three penalti 1 foul illeg contact player stick bodi stick get 5 game 2 unsportsmanlik contact intent foul inlclud current flavour rough fight board get two thrown game fine 3 technic foul bad mouth ref player coach penalti shot award two thrown game besid penalti shot one technic team get 5 penalti period oppos team get penalti shot everi addit one end period victim get two shot act shoot foul ocur work well sever reason first penalti shot excit thing hockey right follow better next player set penalti shot network take commerci final three penalti network announc meredith dick vital john madden pat summeral marv levi among other abl tell viewer happen pa announc say oh one rule goal score 10 20 time period play cannot resum pa announc announc way network sneak commerci pa announc told score tv announc tell viewer even chanc pronounc name right serious though actual went see nba basketbal game last week first time life amaz bore play slow actual fan come thing like free throw shoot contest period cours laker girl get routin least 6 8 time game period either whistl everi 30 second averag mayb less game 48 minut 2 minut quarter 1 2 3 4 10 minut halftim still take 2 hour reason tv plenti room throw commerci announc jabber noth els happen tv basketbal fair entertain imho better watch tv road nhl follow truli sad day enough',\n",
       " 'r h faq sheet never fail crash newsread way avoid crash restart machin look header avoid read faq anyon els problem read faq',\n",
       " 'cincinnati cyclon game year ago local countri station sponsor kazoo giveaway particular bad call underexperienc echl ref kazoostorm time ice thought pathet display fan right unhappi',\n",
       " 'actual padr year far 23 5th leagu hrs solo shot pythagorean project put 360 win percentag 58 104 need pitch help fast good news though hurst throw curvebal w pain threw 80 pitch yesterday back coupl week mayb trade yanke militello dave',\n",
       " 'first three game pen devil seri impress time time pure talent pen jagr maceachern barrasso especi fun watch one element team goe unnot seem scotti bowman despit brook lunat comment despit devil line chang adantag last night game bowman abl keep cool keep devil dark grant hell dweller pen bottl last night bowman eventu abl configur line get job done abil throw new look strategi moment notic incred bowman seem terrif abil read player individu basi last night instanc realiz speed jagr straka maceachern throw devil balanc result straka receiv mani shift averag jagr play almost entir game alway puck maceachern score goal complement jagr mani time throughout night abil commit one player crucial situat commend especi coach talent team might simpli reli overal talent domin bring success',\n",
       " 'pitcher requir pitch feint attempt pick within 20 second receiv ball 15 pitcher requir pitch warm throw within one minut time frame begin half inning end two minut reason reliev allow warm up simpl differ mound differ catcher ryan robbin penobscot hall univers main',\n",
       " 'eastern time zone pacif get king vs calgari',\n",
       " 'hey american hockey fan hockey fan sympath thefrustr feel problem american give shit hockey view bunch canadian bad accent miss teeth beat shit patch ice warm two third us see stuff natur hand basebal gasp swoon sigh nation pasttim basebal romantic us suppos forget sport exist april 1 novemb 1 feel sinc espn show 5 basebal game week abl show ot hockey game instead open inning basebal game hell game go last 2hrs 45min miss first 1 1 2 hrs indian fan show end start switch hockey fan know basebal mighti sport',\n",
       " 'buffalo 2 0 seri boston reason grant fuhr fuhr playoff hungri prove call money goaltend fuhr might one best goaltend leagu anymor statist least prove make big save right time leaf kept fuhr probabl would chanc powerhous detroit andreychok game 1 see huge smile gerald face fuhr perform',\n",
       " 'like mani other watch cap isl game went basebal game piss could interupt import game understand contract would think would claus contract concern import game anyway us blue hawk fan got shaft wors everyon u watch game abc howev us live central illinoi area subject watch arthritus telethon area affect telecast get see game except hawk vision game televis would first home hawk game shown area sinc 1980 televis bull got stop depriv see game due skyrocket ticket price also depriv watch tv peac hammer',\n",
       " 'new rule chang great howev think rule much complic normal averag fan abl count mani foul player would even rememb name player order determin drew foul cours new sub posit like power center sit slot blue cours puck come near shoot defenseman point defenseman final abl keep stat best worst penalti shot taker sinc almost everyon ice get foul abl see ulf samuellson sp tie domi miss penalti shot like crazi keith keller let go ranger let go quaker kkeller mail sas upenn edu ivi leagu champ',\n",
       " 'stuff delet recal author origin articl start thread claim dislik chang name varieti reason roger one front flame rather sever ground jingoist rant also support name chang ground current name inappropri individu repres fwiw think flame warrant think enhanc credibl observ howev asid real question whether like idea chang name base reason given make easier casual fan whether like idea uniqu division name base individu deserv honour imo latter nice uniqu touch differ sport addit think chang division name effect number peopl interest hockey pointless exercis anyway current name inappropri separ issu central origin articl someth consid addit whether player like orr contribut glori sport would abl without organ profession leagu play case honour builder leagu oppos builder sport becom chicken egg type question although chicken dunno stein comparison justifi sinc look though unanim accept hall hold',\n",
       " 'actual steve think refer leaf expect hit green',\n",
       " 'notic nobodi team will take charg domin defenceman would nice bad schneider got hurt remind chris chelio sometim speak chelio wonder serg savard feel like moron make trade also wish still corson rob ramag ice less use gatorad bottl bench vincent damphouss decid take vacat appar idea demer play deni savard check line carbonneau savard skate well one danger canadien quebec zone puck bad nobodi front time also notic defens zone singl nordiqu get knock disgust also lebeau 5 10 172 get past centr ice wolaninn 6 3 205 repli team except yell penalti dammit deni savard threw best montreal hit night knock sundin balanc deni savard team enforc big troubl someplac asid second goal roy stand head third period least provid someth look forward hab period imo guess somebodi final came along smack coupl time second intermiss remind game start 7 30 hope play way home roy made save ignor second goal team dchhabra stpl ist ca',\n",
       " 'last year nine year old son fell love basebal like play follow profession would like buy board game catch glimps practis littl manageri stragegi look comput game type game manual dexter determin winner someth friend spread tabl raini day spend thought time would appreci name recommend game follow newsgroup e mail respons would ideal michael mgoddard ehd hwc ca michael goddard 613 954 0169 fax 613 952 9798 b9 environment health centr tunney pastur ottawa canada k1a 0l2',\n",
       " 'stand april 6 updat leav japan 1 5 hour back april 17 consequ post week 27 result april 18 email sent april 13 april 18 process use number avail april 18 andrew usenet hockey draft stand week 26 posn team pts proj cash last posn 1 dave wessel 1478 1575 3 1 9 1 2 gill carmel 1389 1533 8 56 3 5 3 bob hill 1418 1530 8 24 0 2 4 awesom oiler 1366 1509 9 68 6 3 5 seppo kemppainen 1372 1508 9 47 2 6 6 mak knife paranjap 1376 1501 8 31 0 4 7 hillsid raider 1397 1490 7 7 0 7 8 jan stein 1354 1478 8 35 3 9 9 ranger destini 1346 1472 5 42 0 10 10 year model 1368 1471 8 17 6 8 11 tapio repo 1354 1461 0 19 6 12 12 frank big fish 1341 1448 3 22 0 14 13 underachiev 1309 1446 5 65 4 16 14 thin ice 1333 1445 5 32 3 11 15 lindro loser 1349 1436 9 1 7 13 16 littlest giant 1319 1435 7 35 6 15 17 go flame 1290 1422 6 64 4 17 18 mopar muscl men 1328 1411 7 3 7 19 19 die penguin bandwaggon 1304 1409 7 20 2 18 20 samuel lau calgari alberta 1298 1383 2 4 9 21 21 general account offic 1272 1373 8 20 9 22 22 migod menschen 1259 1367 0 31 6 20 23 boomer boy 1285 1366 1 0 2 23 24 delawar wombat 1285 1356 2 1 3 24 25 wellsi butthead dec nh 1223 1354 4 52 6 27 26 rocki mountain high 1270 1349 3 1 8 29 27 fife flyer 1232 1346 3 31 4 26 28 gerald olchowi 1231 1343 0 33 7 25 29 fluid glacial 1246 1338 5 18 0 28 30 gaoler 1227 1318 3 11 2 30 31 smeghead 1238 1313 0 0 3 32 32 young skateless 1185 1299 7 42 9 31 33 artic storm 1179 1291 8 39 3 43 34 sam dog 1206 1289 0 11 6 33 35 neural netter 1199 1287 9 11 3 35 36 youngbuc 1157 1286 6 101 7 34 37 soft swede 1154 1275 3 46 9 58 38 jeff horvath 1188 1262 7 5 6 39 39 yan man loke 1180 1261 3 0 7 40 40 milton keyn king 1180 1259 6 2 8 42 41 hamster hoboken 1178 1257 5 8 7 36 42 le fleur de lys 1159 1257 3 25 3 46 43 ice legion 1157 1256 6 28 8 37 44 simmonac 1133 1254 4 87 6 44 45 kuehn crusher 1137 1253 1 45 1 72 46 finnish forc 1149 1249 4 22 5 48 47 streak 1117 1247 1 54 8 38 48 legion hoth 1156 1246 3 15 8 52 49 goalding 1146 1240 6 22 0 45 50 grant marven 1155 1236 0 2 9 50 51 bemybabi 1161 1235 2 7 3 49 52 c overachiev 1162 1232 8 2 9 47 53 skriko wolv 1151 1232 4 5 4 53 54 bozrah bruin 1117 1230 7 45 2 41 55 brian bergman 1132 1229 3 23 3 51 56 lipp 1132 1214 7 13 9 65 57 randi coulman 1140 1214 5 5 2 56 58 lamp lighter 1138 1214 2 5 9 66 59 dave snell 1089 1212 5 182 5 60 60 steven mark dream team 1133 1210 6 3 1 53 61 houdini magician 1126 1209 9 18 3 59 62 real bad toe jam 1096 1208 6 48 9 63 63 rec sport hockey choic 1137 1208 3 1 3 63 64 iowa hockey 1118 1205 7 16 3 55 65 buffalo soldier 1085 1204 6 62 1 57 66 indianapoli benni 1114 1200 6 20 8 67 67 bloom counti star 1121 1199 2 4 3 61 68 tom 1109 1194 0 13 1 68 69 phil kev karma dude 1121 1192 6 0 8 69 70 aik exil 1078 1188 1 34 5 70 71 doug bowl 1099 1186 4 20 0 62 72 bruin 1117 1184 9 0 1 75 73 smithw 1095 1184 3 21 0 71 74 great pumpkin 1057 1178 6 54 4 73 75 shoot seamen 1111 1177 8 0 1 77 76 frank worthless 1099 1176 6 6 3 82 77 non 1089 1175 7 16 4 74 78 invis inc 1104 1173 5 1 1 79 79 brad gibson 1075 1169 0 27 2 89 80 chubbi checker 1074 1165 6 16 3 85 81 plp fool 1092 1164 8 0 1 76 82 john zupanc 1063 1164 2 27 1 78 83 staffan axelsson 1082 1163 0 15 1 80 84 david wong 1038 1162 5 66 1 87 85 kortelaisen kovat 1041 1160 7 164 1 92 86 chocol rocket 1083 1158 9 2 5 83 87 ken decruyenaer 1078 1158 8 5 0 94 88 cougarmania 1061 1154 7 24 8 86 89 garryola 1073 1152 9 9 7 81 90 derril dastard dozen 1062 1149 6 22 1 88 91 namer 1033 1147 6 58 2 91 92 campi machin 1022 1145 8 65 3 90 93 gari bergman fan club 1071 1145 1 5 1 98 94 fisher dirtbag 1073 1144 1 0 7 93 95 kodiak 1076 1141 0 1 3 84 96 arsenal mapl leaf 1066 1136 0 3 8 99 97 kamuck 1020 1134 1 76 1 105 98 bsc oranienburg 1067 1132 1 7 1 102 99 bloodgam 1018 1127 1 42 1 97 100 elli island 1055 1125 5 7 6 100 101 mombasa mosquito 1053 1125 4 6 1 95 102 edelweiss 1049 1122 8 2 9 101 103 zachman winger 1006 1117 7 49 8 103 104 wormtown woosbag 1001 1114 6 72 6 96 105 dirti white sock 1008 1113 6 43 4 106 106 hurrican andrew 1040 1113 5 7 6 104 107 larri 1034 1113 2 11 8 109 108 votenooct26 1010 1108 5 31 8 108 bruce rent mule 1033 1108 5 11 9 110 110 king suke 1042 1108 2 0 1 112 111 teem kanada 1030 1105 3 16 0 115 112 bjoern leaguen 987 1104 7 61 4 123 113 frank folli 1020 1101 2 24 2 117 114 neil younger 985 1100 9 77 7 120 115 het schot hard 1027 1100 8 18 1 121 116 psv dartmouth 1033 1100 7 7 1 107 117 pond slime 1034 1096 8 0 7 111 118 stanford ice hawk 1008 1096 5 28 2 114 119 spud 1019 1096 4 12 6 113 120 mark sander 1020 1091 9 11 1 116 121 oklahoma stormchas 1004 1089 9 28 3 137 122 timo ojala 1015 1084 2 0 3 130 123 nesbitt 1025 1083 0 1 1 118 124 aye carumba 1016 1082 4 3 9 124 125 kokudo keikaku bunni 976 1081 2 40 3 119 126 blue talon 1007 1080 0 13 3 129 127 apricot fuzzfac 1001 1078 3 23 3 125 128 haral 1013 1077 8 7 3 122 129 gari team 995 1076 5 17 1 126 130 late night david letterman 1013 1075 3 0 0 133 131 arctic circl 974 1075 2 37 6 132 132 lost poot 1000 1072 9 6 7 127 seattl pftb 988 1072 9 22 9 134 134 boutch 92 93 987 1071 5 20 0 135 135 dirti rotten pucker 1001 1071 2 1 2 147 136 fli kiwi 998 1069 8 9 1 130 cluster buster 996 1069 8 7 6 136 138 scott glenn 999 1068 7 10 2 142 139 dree hobb 988 1068 5 13 4 146 140 go bruin 999 1066 6 6 2 144 141 le group mi 975 1065 4 30 2 141 142 team gold 992 1065 1 16 7 128 143 closet boy boy 955 1063 4 48 0 140 144 gari bill pen dynasti 982 1063 2 19 6 151 mckee rock rocker 998 1063 2 5 1 151 146 tim roger 987 1061 9 8 1 148 147 andi f wong 982 1061 1 21 5 143 148 butter waffl 947 1059 6 46 0 145 149 bob blue 951 1059 2 46 8 139 150 princeton canuck 945 1058 9 124 2 154 151 go hab go 989 1058 7 8 0 149 152 wembley lostweekend 998 1057 6 0 3 157 153 wild heart son 993 1057 5 4 9 138 154 einstein rock band 994 1054 8 0 0 160 155 tap 989 1053 0 0 5 150 156 goddess ferment 964 1051 0 30 2 156 157 hunter collector 945 1050 6 42 4 163 158 dr joel fleishman 985 1048 7 3 7 159 159 furley furi 983 1048 6 3 6 153 160 convex star 979 1047 9 5 6 161 161 les nordiqu 939 1046 9 60 4 155 162 team 932 1045 3 174 8 167 163 hubert hockey homeboy 980 1043 9 0 6 162 book em danno bushbabi 977 1043 9 10 5 169 165 ride pine 956 1038 7 20 7 158 166 sundog 975 1037 1 0 4 166 167 jeff nimeroff 927 1037 0 48 8 172 168 slap shot marco 930 1036 0 51 8 164 169 daryl turner 976 1035 8 2 4 179 170 dreamer 921 1033 1 63 7 180 171 east citi joker 919 1031 6 69 1 173 172 flower 921 1031 4 113 6 168 173 satan choic 961 1030 1 14 5 171 174 leaf rule 943 1030 0 25 8 165 175 pierr mailhot 969 1029 9 2 6 174 176 voyageur 968 1029 4 2 7 170 177 spinal tap 928 1029 1 41 4 176 178 san jose mahi mahi 939 1026 7 31 8 185 stimpi adg zeta 949 1026 7 21 0 182 180 jeff bachovchin 916 1024 7 46 7 175 181 bulldog 941 1024 5 23 4 184 182 lana inc 940 1021 0 27 3 177 183 big bad bruin 939 1020 6 18 5 186 184 mike mac cormack sydney ns 904 1019 1 107 2 183 185 dars bill 925 1017 8 34 7 178 186 chappel chump 934 1017 6 24 0 181 187 jimpark 903 1014 5 179 0 192 188 republican dirti trickster 894 1008 0 66 0 189 189 enforc 924 1007 8 28 1 191 190 absolut lehigh 937 1007 7 8 9 190 191 yellow plagu 933 1005 0 14 2 187 192 dr 929 1003 8 17 1 198 193 bunch misfit 916 1003 3 23 8 188 194 ninja turtl 942 1000 8 1 3 194 195 great expect 934 999 3 2 3 196 196 cherri bomber 939 998 1 1 2 200 197 henri bar b q 941 998 0 0 7 195 198 robyn team 907 993 5 30 0 198 199 team melvill 891 991 8 46 9 202 200 umpir 4 life 919 990 9 11 1 193 201 acadien 914 988 9 18 3 197 202 kaufbeuren icebreak 894 988 2 37 6 207 203 firebird 926 986 5 3 9 201 204 jayson kinki puck 904 986 1 26 9 203 205 cobra killer 891 982 5 31 7 208 206 outlaw 871 981 6 164 9 206 207 kuta papercut 912 981 5 18 5 204 208 killer ape 902 979 9 24 3 205 209 darman dragon 896 979 4 28 3 211 210 roger smith 882 978 2 39 6 212 211 1st week hurt 862 975 1 55 9 210 212 thunder herd 860 972 8 163 6 218 213 ikea wholesal 910 970 2 1 7 214 214 believ dont 895 968 7 21 1 215 215 fred mckim 861 966 8 93 0 217 216 400 hurrican 880 966 4 32 1 216 217 creep death 886 965 0 21 3 220 218 knee injuri 897 964 9 10 4 213 219 200 club 902 964 7 6 8 209 220 crazi euro 888 962 1 17 9 219 221 frack attack 875 961 8 27 3 226 222 todd turkey 898 957 0 1 9 229 223 ryan renegad 858 956 4 50 9 225 224 cafal crew 862 955 9 38 3 222 225 pig vomit 894 955 2 1 3 227 226 ice stryker 848 954 4 105 4 221 227 fight geordi 850 954 1 141 6 223 228 cdn stuck alabama 886 945 7 10 3 231 229 ship way 884 943 4 8 7 233 230 swillbelli 870 942 8 18 7 228 231 oz 851 941 8 35 0 235 232 chris death 835 939 3 83 6 234 233 banko beer ranger 875 938 6 4 2 230 234 ny flame 872 938 1 7 8 232 235 laubster ii 828 937 4 201 6 237 236 dayton bomber 882 935 1 0 0 241 237 zipper head 847 931 7 33 9 224 238 ninja bunni 826 928 1 44 9 236 239 joliet inmat 832 926 0 45 8 239 240 widefield white wolv 832 924 1 36 9 242 241 dave team 834 920 9 32 0 238 242 great scott 814 917 8 73 3 240 243 south carolina tiger paw 806 915 1 78 4 243 244 sandi sabr 854 910 8 4 7 245 245 florida tech burgh team 809 904 6 49 3 250 246 ice hole 850 903 9 2 7 246 247 leo blue chip 845 902 9 10 4 244 248 xtc 837 897 8 8 2 248 249 roadrunn 826 895 9 18 5 249 250 mudvill king 816 894 0 27 6 251 251 redlin 820 890 8 15 9 253 252 pat phillip 827 889 1 10 1 247 253 new jersey rob 835 883 0 0 7 252 254 stewart clamen 821 869 4 1 6 255 255 demon spawn 782 860 1 25 0 254 256 sunnyval storm 772 813 5 0 2 256 257 allez les blue 713 810 7 476 9 257 258 sale hockey club 725 795 0 23 0 260 259 pete pick 689 788 1 168 5 258 260 rinaco 682 781 6 114 0 259 261 brenz reveng 669 718 5 4 0 261 262 dinamo riga 571 663 8 571 6 262 andrew scott andrew idacom hp com hp idacom telecom oper 403 462 0666 ext 253',\n",
       " 'guarante bond win mvp giant finish higher 6th luigi',\n",
       " 'rule goali equip chang seem e g glove becom bigger bigger time pad goali wear size jersey dream watch old photo film let say ten year back think differ quit obvious expert pleas let know goali becom bigger',\n",
       " 'brook robinson last homerun ever 268 came 4 19 77 memori stadium one two bottom 10th inning larri harlow due brook pinch hit 3 2 pitch dave laroch left field bleacher 6 5 win',\n",
       " 'anyon happen see peter gammon espn last night address exact issu dismiss rather quick accord gammon advanc scout report morri fastbal slider still zip problem year due sudden inabl keep ball hidden releas guzman stottlemyr gone similar stretch clear succinct littl work pitch coach gammon look see morri back top form within month hand still doubt morri era last year rather high pitcher 20 game show seri surpris although convinc wash doubt whether ever regain form twin 91',\n",
       " 'might sens humor favorit stuff zero hero player hit homer long time lgtgah name rememb box score line week incident found column move sunday get dad send boston everi week great stuff',\n",
       " 'read wrote say exact thought sure pen better team got size best skill player leagu also got best clutch goaltend best team leagu point cap play abil level vs pen sinc last year choke mental problem one number year tri point spirit mental prepared win whatev want call miss cap play pen actual right make differ',\n",
       " 'mayb combin young face peek overs aqua helmet scream littl leagu everi fibr',\n",
       " 'giant win pennant giant win pennant gi ooop guess littl earli see octob',\n",
       " '325 441 577',\n",
       " 'love dan kelli usa first got hook hockey back 1980 alway spot top play over cute pipe lusti barrel chest voic pipsqueak unlik fella know rode hockey mania coattail gretzki boy bus first final saw island sweep never forget night year later oiler close home pandemonium smoke million sparkler long empti net goal near end dan kelli let crowd reaction tell stori long second voic bark din dave lumley sew edmonton sound stupid earli hockey memori alway bring thrill sinc grown lot jade game realli sadden dan kelli pass one good guy',\n",
       " 'hmmm walk sb baerga got clobber alomar obp beat slg lesser margin even put asid factor player 51 point edg obp product player 28 point edg slg issu studi doubt could come convinc argument way peopl see bat averag hr realli know valu worth unless studi issu close fact baerga ate lot out alomar baerga make out alomar draw walk base carter winfield et al',\n",
       " 'awesom home record need rememb 7th game last year aud like see playoff game sinc stuck buffalo ub think boston give easi',\n",
       " 'yet bore either peopl know say win second cup better first noth ever top first one everi bit excit year experienc inner calm susan origin refer inner calm boredom far arena general bore well richard got right way season attribut lot new fan spirit knowledg long time fan last tuesday game overheard man express surpris goaltend get assist anyon follow sport regular know anyth happen time confid pen also stupid enough think one minut imposs new jersey blow seri doubt happen possibl bore uh uh spoil least forgot excit like live amaz streak excit take darn thing grant god look chicago see problem quiet savor anyway gonna last forev intend enjoy',\n",
       " 'un better add least anoth plus pederson neeli trade bruin also receiv number 1 round draft pick play great year wesley still decent defenseman bruin got pederson back eventu anyway pat elli p go bruin go umain black bear 42 1 2 number 1 hockey east regular season champion hockey east tournament champion paul kariya hobey baker award winner ncaa div 1 hockey tournament champion',\n",
       " 'say impress hrs ever see came dave kingman infam moon raker drive rememb one hit circa 1976 wrigley field went across street dead center field hit hous roof whif lot connect watch best home run ever seen came believ roger clemen sorri val coupl year ago threw ball incaviglia liter inki neck absolut hammer crap swing clemen nonchal motion new ball even turn around look even get upset ball hit light left field standard 70 feet green monster 100 feet ground total truli amaz shot',\n",
       " 'wonder whether offici mlb stat includ intent walk bb categori',\n",
       " 'kdka first right pirat game split probabl 50 50 conflict penguin game preempt check 102 5 wdve fm right dve also 50 000 watt',\n",
       " 'first game first bat',\n",
       " 'right sick see white guy skate vancouv canuck half women overal one third orient glad volunt overag draft gld',\n",
       " 'know never realli appreci',\n",
       " 'done career velard columbus recal three year grant full time player play alway thought good bat might demor play full time shuttl around think new york ever sinc 34 hit 100 ab back 1989 90 believ think gold glove calibr boot around either think velard given chanc could becom extrem product stat back know defens would cost game think could help year 3 hr alreadi goe jim leyrtiz big mouth get job done concentr think situat leyritz believ potenti super star get piss play think might realiz someth marlin rocki select yank need worri bullpen right kamieniecki wickman militello bullpen ouch pray bp return last year form',\n",
       " 'anybodi els think ws stat becom part player career stat',\n",
       " 'suppos take compliment put wonder servic entir basebal world usenet especi east coast get final score west coast game newspap late tv newscast help fan countri either receiv week score updat week also mani request kind servic previous avail bbs pay news servic way mine free charg copyright restrict rememb post final score updat stand day rec sport basebal newsgroup everyth done privat e mail current 986 peopl mail list branch mail list avail mani other list grow averag 35 peopl day peopl usenet realli want see post rec sport basebal daili basi pleas let know respons overwhelm post anymor thank time joseph hernandez joseph hernandez ram laker jtchern ocf berkeley edu king dodger raider jtcent soda berkeley edu angel clipper',\n",
       " 'uh right also forgot get rbi bar hr nobodi base fraction run come solo hr run score happen player base batter someth good use phrase happen advis lot peopl tri figur player abil turn notch clutch rbi whatev situat found evid anyon abil measur extent clutch hitter peopl tend thing would caus rbi somebodi base end get rbis proport mani teammat oblig posit agre',\n",
       " 'current play 2nd deshield shift third delino came back today play ss cold wil cordero natur posit seem middl infield seem find spot himm somewher long bat hot',\n",
       " 'well druce pretti much suck cap one good playoff season oh well cap notori make stupid trade anyway seen cicarelli hrivnak trade sigh anoth note say cap biggest surpris cote mani cap fan expect lot bondra alreadi',\n",
       " 'one mill oiler might move hamilton porklington get free deal given labour relat puck like would sigh relief way w4e element',\n",
       " 'anoth pair suggest 1 remov balk rule runner respons stay safe matter pitcher 2 pitcher throw occupi base x time x 3 5 without success pick runner runner advanc base walk last suggest probabl increas number stolen base consider suppos pitcher use n 1 n pick attempt runner probabl stretch lead base given extra pressur pitcher get right time would suggest appli pick attempt per pitch per batter per base runner base dr edward j baranoski mit lincoln laboratori got go rm j 118d po box 73 get good lexington 02143 harri chapin greyhound 617 981 0480',\n",
       " 'may pass toronto even seen octopus aud last year bruin sabr game knew detroit version see aud bit puzzl',\n",
       " 'ugliest stanc time go oscar gambl man would practic kneel front home plate order small strike zone lucki strike zone size determin big afro',\n",
       " 'attn live inth philadelphia metro area back septemb listen wip rememb morn guy talk mayor ed rendel topic convers new ball park philli locat new park suggest near 30th st station time mayor optimisit futur could becom realiti new news subject still pipe dream know citi philadelphia project ahead new convent center upcom spectrum ii would nice see realiti plan philli leav vet leav sole eagl case eagl make vet grass stadium anoth stori want see day',\n",
       " 'oh realli seem rememb year woofer consist main roger boston fan relat quiet guess concept fan cocki someth possibl understand eh nah doubt realli would provoc sob usual larg stick cours mean nicest way much brag wobbi r b c umass beat quaker btw congratul go sabr play diciplin win deserv',\n",
       " 'hawk win jermey roenick score 50 th goal hawk put leaf place loser column leaf even beat hawk match littl mean hate see wing oh btw laugh rm jerki go hawk',\n",
       " 'att man skull bli tvyngen att ndra premisserna kund man int lista ut p f rhand huvudsak att man int flyttar ner fel lag stersund var en solklar fix som sagt men v stervik att det beror p nyk ping tror jag int p man kund ju lika g rna flytta ner roma till dra iaf om man g r efter bredgraderna mest r ttvist vore att l ta tierp och v stervik g ra upp men skull roma nyk pink vara eller int vara stra ock avg ras vad skull de ga om det det st rsta felet med ret indeln r exakt samma som f rra ret fast v rre det r int r tvist indelat sportligt sett vallentuna var en match fr n att g upp till allsvenskan f rra ret ist llet gick g vle upp tror ni n n av dem lycka lika bra r aik hif ssk och hik ska sl ss om tv platser om man hadd placerat dessa var sin divis skull de vara sj lvklara favorit till en plat allsvenskan men nu ste tv ge vika var finn r ttvisan det jag har h rt att hik har l mnat en protest till f rbundet ang end indelningen stra mitt f rslag vore att l ta 3 orna varj divis kvalspela om tv platser allsvenskan och efter jul skull man kunna sl ihop de fyra divisionerna till tv en der och en norr p tt bestraffa int ett lag som kommer fr n en trakt r det finn nga bra lag en kul grej som jag nskar att man inf rde r att l ta vinnaren allsvenskan f spela sm slutspelet det skull bli en extra krydda till divis ett ishockeyn om lagen k nde att de var inom r ckh till sm bucklan det skull kansk p sikt ock kunna minska skillnaderna mellan lag elitserien och divis ett vad js marek marek repinski eo ericsson se man skall int anv nda fr mmand ericsson telecom ab ord om man har en adekvat inhemsk system design divis vokabul r disponibel sweden gunnar emanuel str ng 1906 92',\n",
       " 'pitch mani outstand ballgam jack essenti pitch lot 500 ball last year certain irrelev iif replac morri replac level qualiti blue jay might win leadership see leadership effect start pitcher would expect see primari effect pitch staff would expect see rest staff improv instead rest staff declin make reason argument winfield provid leadership offens pick consider effect previous year say buy least argument make intern sens greg',\n",
       " 'specul two proven veteran produc better lopez also specul make differ whether specul well found though good point one specul safer revers',\n",
       " 'flyer close season last night 8th straight victori 5 4 ot winner hartford whaler ot game winner came dimitri yushkevich 5th season first game winner flyer never led point game whaler loss mark nhl record 9th ot loss season roster move gord hyne call play place ryan mcgill injuri ryan mcgill injur hand fight 4 15 scratch line eklund lindro recchi beranek brind amour dineen lomakin butsayev conroy faust acton brown galley bowen yushkevich hawgood carkner hyne domin roussel game summari get tv coverag game sinc stormi part best radio coverag either box score follow thing pick first period hartford nyland 10 8 51 philadelphia recchi 53 lindro brind amour 19 59 8 pp penalti verbeek har hold 55 carkner phi rough 13 53 houda har interfer 18 43 second period hartford burt 6 cunneyworth kron 2 00 philadelphia bowen 1 eklund recchi 7 09 hartford nyland 11 zalapski sanderson 9 38 penalti galley phi major game misconduct spear 58 verbeek har major game misconduct spear 58 brown phi trip 3 22 zalapski har trip 15 51 brind amour phi slash 19 50 third period hartford kron 14 sanderson cassel 1 24 pp philadelphia beranek 15 lomakin yushkevich 3 11 philadelphia faust 2 brind amour roussel 3 38 penalti houda har trip 4 20 hawgood phi hold 5 30 overtim philadelphia yushkevich 5 faust 1 15 penalti none power play philadelphia 1 4 hartford 1 4 goali philadelphia roussel 14 11 5 30 shot 26 save hartford lenarduzzi 1 1 1 38 33 first hartford goal gord hyne misplay puck flyer blue line nyland strip took recchi goal 2 1 lindro bowen goal puck threw net got good carom end behind goali second nyland goal got three whack puck went frustrat part flyer defens take bodi get one shot beat fine give anoth chanc carkner galley mcgill terribl bet money least one closest flyer play radio got bad lucki know score much less heard roussel strong game game gene hart ask bobbi taylor pick three star season rather game garri galley 3 career high point total surpris former goali look closer defens play tommi soderstrom 2 team record tie 5 shutout 1 2 season mark recchi 1 time high team singl season score mark odd part decid lindro recchi number 1 pick recchi 1 hard time choos lindro make lindro 2 wanna know three star season well sinc ask 1 eric lindro eric domin game simpli step onto ice differ team record without accid believ team could almost success without recchi question team signific better eric lindro think deserv wear c jersey next season 2 tommi soderstrom 5 shutout second leagu ed belfour tommi chris chelio booo front also play complet season due heart problem sentiment edg famili histori heart problem question mind tommi soderstrom team goali futur roussel complain number 2 look trade within 2 year 3 mark recchi argu time team high singl season score mark aw lot team singl player get mani point plus mark flyer play entir season tough choic honor mention rod brind amour top singl season high point total set last year differ top line year get much play time get defens attent got last year team either dimtri yushkevich team consist defenseman yes made rooki mistak usual fast enough make feel shot score point next year without give anyth zone suspect team top defenseman year come garri galley team point leader defensemen thing argu battl chronic fatigu syndrom certain deserv kudo miss one game wish doctor order defens play often negat offens contribut littl caution littl bit smarter end make much import part team next year brent fedyk leagu biggest improv last year point total consist becam problem coupl misc note most mail list member tom misnik member mail list would like exchang e mail address list member want keep touch summer interest send mail att acr org tmisnik flyer end season 1 game 500 5th place best win percentag sinc go 500 1988 89 14 20 3 within divis 4th patrick 23 14 5 home finish 17th overal draft 10th next year entri draft quebec 1st rounder though score mani goal allow 319 8 straight win sinc 13 row 1985 send final stat soon get issu hockey news contain sinc game go way get hope enjoy year hockey season much know futur come us made miss playoff one time almost bearabl flyer team record watch eric lindro 41 goal 34 assist 75 point rooki record club record goal club record point eric lindro 40 1992 93 dave poulin 76 1983 84 brian propp 34 1979 80 brian propp 75 1979 80 ron flockhart 33 1981 82 eric lindro 75 1992 93 dave poulin 31 1983 84 ron flockhart 72 1981 82 bill barber 30 1972 73 pell eklund 66 1985 86 mark recchi 53 goal 70 assist 123 point club record goal club record point reggi leach 61 1975 76 mark recchi 123 1992 93 tim kerr 58 1985 86 86 87 bobbi clark 119 1975 76 tim kerr 54 1983 84 84 85 bobbi clark 116 1974 75 mark recchi 53 1992 93 bill barber 112 1975 76 rick macliesh 50 1972 73 bobbi clark 104 1972 73 bill barber 50 1975 76 rick macliesh 100 1972 73 reggi leach 50 1979 80 80 game flyer career year player point best prior season mark recchi 123 113 90 91 penguin rod brind amour 86 77 91 92 flyer garri galley 62 38 84 85 king brent fedyk 59 35 90 91 red wing',\n",
       " 'understand anger german audienc mean finnish team play take advantag ridicul penalti canadien ref call last period german got match penalti 10 minut misconduct practic noth second german goali got two minut delay game shot deflect went crowd result 5 3 skate advantag lead decid goal point german start come strong also sick nation go german sport event watch exampl tenni davi cup match player often abl play minut crowd obnoxi admit kind nation strong even stronger countri go us watch way present olymp televis soccer crowd england finnish spectat nordic ski event mean make sick see nation world would rather see best team player win get chear mind favorit team loos somebodi better play attract admit sport german nation site favorit team watch german soccer team bore watch exampl read post think level crowd critic easi talk near german nazi nationalist that kind propaganda ultraconserv peopl use germani true great danger aris nation germani experi peopl least peopl know also regard big threat tri demonstr attitud look peopl human bee tri put drawer correspond nation eg russian communist american capitalist german nazi fin hang around bee drunk ferri opinion comment show narrow mind seem differ nazi talk thoma',\n",
       " 'assum sarcast remark',\n",
       " 'messier samuelsson incid agre rick ulf cross check illeg kind check see dozen time game without call slo mos sometim tendenc make thing look wors realli besid messier take heat stay kitchen well matt mattia timmand play modo elit leagu team yet modo junior team predict need year join b saw play swedish championship game junior player year play well physic game kind rough stuff ulfi suspect would like ulf type player b team mariusz czerkawski great season hammarbi divis 1 score rememb correct 93 point season keep mind 50 point season sweden consid good due limit number game mariusz djurgarden properti loan hammarbi play elitserien next season unless b get cours would say mariusz one excit player watch swedish hockey season staffan',\n",
       " 'nhl playoff result 4 22 93 confer semi final best seven patrick adam norri smyth nj buf lead 3 0 stl lead 2 0 win pit lead 3 0 bos chi van lead 2 0 nyi lead 2 1 mon tor la tie 1 1 que lead 2 1 det lead 2 0 cal quebec nordiqu lead seri 2 1 1 0 0 0 1 montreal canadien 0 1 0 1 2 1st period que sundin 1 gusarov 1 17 2nd period mon muller 1 damphouss bellow pp 1 30 3rd period none 1 overtim mon damphouss 1 bellow desjardin pp 10 30 powerplay opportun nordiqu 0 4 canadien 2 6 shot goal nordiqu 12 4 14 5 35 canadien 11 14 13 12 50 quebec nordiqu hextal 2 1 50 shot 48 save montreal canadien roy 1 2 35 shot 34 save att 17 679 pittsburgh penguin lead seri 3 0 1 0 3 4 new jersey devil 1 1 1 3 1st period njd guerin 1 1 03 pit mceachern 3 straka 9 36 2nd period njd holik 1 steven 16 32 3rd period pit lemieux 4 murphi ramsey 1 07 pit taglianetti 1 loney tippett 7 05 pit murphi 1 franci tocchet pp 9 31 njd semak 1 zelepukin 9 44 powerplay opportun penguin 1 4 devil 0 5 shot goal penguin 7 16 12 35 devil 16 11 5 32 pittsburgh penguin barrasso 3 0 32 shot 29 save new jersey devil billington 0 1 35 shot 31 save att 14 974 boston bruin 1 0 2 0 3 buffalo sabr lead seri 3 0 2 0 1 1 4 1st period buf mogilni 4 lafontain hawerchuk pp 1 33 buf khmylev 1 smehlik hannan 4 42 bos bourqu 1 oat donato pp 17 33 2nd period none 3rd period bos smolinski 1 oat 13 28 buf b sweeney 2 khmylev carney 14 56 bos neeli 3 oat shaw 15 57 1 overtim buf khmylev 2 hawerchuk lafontain pp 1 05 powerplay opportun bruin 1 5 sabr 2 7 shot goal bruin 11 8 15 0 34 sabr 12 11 8 3 34 boston bruin blue 0 1 34 shot 30 save buffalo sabr fuhr 3 0 34 shot 31 save att 16 325 washington capit 1 1 1 0 3 new york island lead seri 2 1 1 0 2 1 4 1st period nyi thoma 1 16 37 burridg 1 may cavallini 18 58 2nd period carpent 1 ridley bondra 6 18 3rd period elynuik 1 carpent ridley 6 15 nyi thoma 2 turgeon king 11 11 nyi turgeon 3 thoma hogu 19 17 1 overtim nyi ferraro 3 hogu flatley 4 46 powerplay opportun capit 0 2 island 0 4 shot goal capit 10 8 6 1 25 island 10 6 8 6 30 washington capit tabaracci 1 2 25 shot 21 save new york island heali 2 1 30 shot 27 save att 14 180',\n",
       " 'well although admit excit rat killer dale j stephenson steph cs uiuc edu basebal fanat',\n",
       " 'wiggin alan besid point sure peopl would feel slight sympathet rickey kill would also critic lot action exampl jose canseco get coupl speed ticket sudden attitud aw hell speed ticket clubhous influenc anyway sportswrit talk time brian hunter keith mitchel dwi problem toward end last year two year ago cite sign immatur etc meanwhil dykstra almost kill daulton read sportswrit complain may talk bad philli never read anywher critic dykstra charact daulton intellig matter base incid',\n",
       " 'well almost halfway first round far thing good general 1 2 team hate chicago basten 3 zip even though possibl either still win seri yet ego thrash arrog smash underdog st loui buffalo reward 2 montreal stage team life good enough go way yet good abl get realli good draft pick 3 anyon also think year cup final play 2 team wale 4 play montreal find diqu arrog realli 5 smyth realli get sick see douggi wendel night night see canuck jet flame action 6 cherri alright hey politician obleafsjok q get cross mapl leaf groundhog six week crummi hockey l8r dude go hab gooooooooooooooooooo jon shaib ac291 carleton freenet ca',\n",
       " 'um header said career hodapp manag 3000 pa nine year major consist 300 make three year row preced part time year plus last year boston hodapp qualifi bat titl five time injur retir right around 28th birthday anyway hodapp put flashi number year everybodi put flashi number realli good year bat 300 year mar lack power inabl draw walk 163 3000 pa base ball describ fear hitter hand part long line famous cleveland 2b wambsganss rigg stephenson etc',\n",
       " 'add boston weei 590am bruin flagship station probabl pick anywher outsid boston sinc 5 000 watt station bruin also network station 6 new england state could bruin last year eei also happen sport radio station problem bruin happi move differ station wmex 1150am whenev night conflict nba boston celtic happen 28 time cours regular season celtic financi troubl weei bruin might resurfac whdh 850 next year stay tune',\n",
       " 'last name niedermay new jersey scott last name guess brother rob niedermay center defenseman sure shark take kariya say much appar like niedermay victor kozlov along kariya chris pronger name also mention guess take niedermay may take pronger except alreadi mani defens prospect',\n",
       " 'probabl oiler go anywher pocklington chosen moment make last stand moment maximum advantag provinci govern month away provinci elect moment maximum power convinc northland give better arena deal better purchas price nhl new collect agreement player might involv enhanc revenu share pocklington mani thing stupid one dictat term citi pay price edmonton edmonton alreadi fuck intern airport surrend supremaci calgari next year edmonton go take hard hit govern cutback screw beyond recogniton manag find way lose hockey team northland want continu use oiler subsid hors race howev case long term financi viabil oiler fact pocklington basic right regardless own team right provok crisi team accumul million dollar loss becom habitu uncompetit lack money sather done job oiler pois competit soon al strachan one knowledgebl hockey writer canada post mortem oiler season globe mail recent agre',\n",
       " 'knock vaughn spring train 400 hitter 250 regular season hitter around 30 game play indic good hitter qualiti pitch way ryan robbin penobscot hall univers main',\n",
       " '',\n",
       " 'hulett injur yesterday hit face ball run base heard someth reciev stich possibl broken nose park let see feel 0 4 4 9 era doubt fernando well fan favorit get dump gonna get outstand ovat first return let add ovat cal reciev year game compar billi btw sutcliff get knock around pretti good ranger 5 1 bottom fourth',\n",
       " 'add mike trombley somewher sinc need five peopl mark guthri remain bullpen long lefti pag terri jorgenson platoon third reboulet backup infield pag look pretti miser yesterday guy lead leagu da 1991 muf routin grounder heck muf grounder would probabl gotten jorgenson noth except notic leius miss ball think gagn would reach certain miss gag glove season look pretti good contrari mediot say look reason first mid 80s hrbek neither pretti big guy note use see twin 1b look kinda big field big hit vagu like last year perfect good first baseman note much post person observ yesterday game regular most pull sever inning winfield may big hole defens game show pick bad throw exampl take saw far',\n",
       " 'god hope put kind junk season mani home run tartabul 1 right must think dean palmer juan gonzalez texa 2 homer know mani follow 1 4',\n",
       " 'basebal player past present abl come much except sandi koufax somebodi stankowitz mayb john lowenstein anyon come know sound pretti lame rack brain humor us thank help',\n",
       " 'know exact coverag state canada cover tsn mayb espn grab coverag know pick ottawa pick 1 mean almost 100 alexand daigl go 1 either stay trade montreal quebec imo would take kariya alot leadership ncaa far world championship daigl show junior team san jose get kariya tampa bay either go russian kozlov think defenseman rob niedemey probabl spelt last name wrong expans go name blue chip prospect chris gratton chris pridham swedish player rememb name draft order 1 ottawa 2 san jose 3 tampa bay 4 south florida anahiem 5 south florida anahiem 6 hartford 7 edmonton 8 dalla 9 ny ranger 10 philadelphia 8th thru 10th pick could wrong stand guess mind 8 top notch prospect draft kariya lead way go 1',\n",
       " 'vote fwiw team mvp pat verbeek fan 25 goal mouth feed still 36 goal terribl start examplari sp team captain throughout tough coupl season honor mention nick kypreo mark janssen probabl appropri unsung hero categori mvp kypreo 17 goal 320 pim hardest work player team janssen underr defens center checker guess place greater emphasi hard work skill determin valu biggest surpris geoff sanderson 13 goal 31 point last season center move left wing far put 45 goal 80 point new whaler record 21 power play goal come right wing faceoff circl garden spot honor mention andrew cassel terri yake kiddi quartet sanderson poulin nyland petrovicki attract attent cassel 23 score close 90 point season quit nice assum role number one center team work well sanderson yake bounc around minor number season still 24 put 20 goal 50 point season yake like sanderson start perform better offens convert center wing although lefti sanderson went left wing righti yake went right side biggest disappoint hand john cullen cullen disaster 77 point season last year first full season trade cullen start season summer back surgeri fell flat face appropri sinc spent whaler career flat ass whine cullen score 9 point 19 game clubhous malcont command powerplay 9 success percentag 21 sanderson sulk way town worst 4 year 4m contract three year left run one would give 2nd round draft pick mapl leaf offer hartford honor mention steve konroyd also subpar sign 3 year 2 1m contract eric weinrich show flash compet overal play poor jim mckenzi much better hockey player two season ago frank pietrangelo seem play well sean burk extend period got make number start row',\n",
       " 'let start argu better goaltend take soderstrom right say roussel 1 netmind gaa differ less half goal per game less last night save percentag close record similar see label roussel disappoint player flyer season say soderstrom play better competit may well way know roussel would perform game besid better score team like pittsburgh defens key san jose judg roussel game alon seen play past two season philli hershey opinion think got take cours thought mark laforest never wendel young bat 500 judg hershey talent sinc hextal era ranger game say save mistak offens player like rou leg posit make save matter ranger player get puck would goal breakaway goali want take away much possibl forc shooter beat seem rememb roussel excel job pittsurgh open night give flyer tie two time defend champ take anyth away soderstrom senat game again hab tell montreal player open net shoot point game flat miss mistak offens defens part game never shutout anyway happi flyer soderstrom roussel go argu anymor besid current 7 game win streak expect soar next year want piss point sell ticket next season',\n",
       " 'delet geez dal must slip someth ted drink sometim compar princ pagnozzi offens laughabl princ never hit well minor 27 year old think pagnozzi bad hitter minor bring number tomorrow assum anoth brain cramp forget good year louisvill come major recal hype pagnozzi come organ good hit decent field got major hit well expect much play time becam exhibit 312 nichol law catcher defens got reput outstand defens catcher clear ever learn hit four year 100 ab born 31 juli 1962 year ab ba slg oba 1988 195 282 320 328 1990 220 277 373 321 1991 459 264 351 317 1992 485 249 359 290 power less leagu averag walk peak year turn 28 declin ted go invok pagnozzi model princ given princ underperform pagnozzi minor rosi pictur btw still unhappi move zeil reput come cardin organ pagnozzi except much much better hitter 3rd could averag hitter averag fielder instead well averag hitter averag averag field catcher harold',\n",
       " 'price hockey fan pay mistak leav espn 5 6 year ago take time correct mistak return espn correct decis last year next time may potenti sportschannel espn realli compet offer better coverag forc deliv',\n",
       " 'alway scalper ticket outsid arena might pay buck extra alway find look street messag board street front hyatt even around gate 1 later buy less money pay regular season could usual find near face valu wait game time might better pick earlier though',\n",
       " 'mist ranger soap box e captain nemesi ier ex coach roger nebula bad blood bath high hope turn new coach mr klean commissar keenan would like know procedur hockey team use select captain includ select coach staff player vote captain appoint manag subject captain ever trade resign stripe titl season team captain trivia would appreci',\n",
       " 'anoth person incap ration thought',\n",
       " 'yes espn2 launch earli septemb cap citi current work cabl compani ensur good start base need launch brand new cabl servic problem espn2 face tci cablevis connect merger prime sportschannel network prime sportschannel tri wrestl away nhl espn season also tci cablevis control larg number cabl system around countri total 15 million subscrib tci cablevis best espn2 never get ground success nhl valu sudden skyrocket cabl war prime sc espn nhl vital surviv region prime sportschannel sinc virtual nation major leagu sport contract cover local nhl nba mlb sport team',\n",
       " 'articl 34592 oasi dt navi mil odel oasi dt navi mil bernard farmer quit sure reason old man certain enraptur ole harri mayb wife claim know whether true coupl differ peopl total unrel said harri reliev duti platon relat augi busch wife judgement left individu cuz sure claim impeach sourc case among said well quit said certain allud bing devin redbird gm administr time heard bing speak last year sabr nation btw show hand attend year sabr nation san diego',\n",
       " 'wonder friend talk day reason tri come name jewish basebal player past present abl come much except sandi koufax somebodi stankowitz mayb john lowenstein anyon come know sound pretti lame rack brain humor us thank help',\n",
       " 'joe torr worst manag basebal anyon see sunday game right hander pitch decid bench lankform left hand hitter play jordan gilkey right hander later ninth inning base load two out put lankford 300 hitter power pinch runner use lui alicea 250 hitter power pinch hitter hell think earlier game interview acquir mark whiten comment fortun cardin get whiten whiten would regular even though meant gilkey would hurt torr said like gilkey come bench gilkey hit 300 last year start guy would start everi team leagu furthermor sunday game lankford thrown plate replay show bucki dent third base coach look line wave lankford home take anymor brian distress cardin fan',\n",
       " 'think add former first baseman mike epstein relat list',\n",
       " 'leaf turn around get leaf game weekend ca leaf defens wise overnight leaf get slot fluke goal goali duel wing turn jet muscl give caught game 1 satellit figur leaf wash major turnaround predict happen wing leaf perspect welcom',\n",
       " '',\n",
       " 'listen asshol comment heard report sport news notic skeptic comment sheesh thought group wasfor convers guess wrong',\n",
       " 'u johnni hodapp greatest 2nd baseman cleveland indian histori 225 hit 1930 consist 300 great great second baseman',\n",
       " 'mlb stand score thursday april 15th 1993 includ yesterday game nation west lost pct gb last 10 streak home road houston astro 05 03 625 5 3 5 00 03 05 00 atlanta brave 06 04 600 6 4 lost 1 03 03 03 01 san francisco giant 05 04 556 0 5 5 4 lost 1 02 01 03 03 los angel dodger 03 06 333 2 5 3 6 lost 3 00 02 03 04 colorado rocki 02 05 286 2 5 2 5 lost 3 02 03 00 02 san diego padr 02 06 250 3 0 2 6 lost 3 00 03 02 03 cincinnati red 02 07 222 3 5 2 7 lost 3 01 02 01 05 nation east philadelphia philli 08 01 889 8 1 5 05 01 03 00 pittsburgh pirat 06 02 750 1 5 6 2 3 03 02 03 00 st loui cardin 06 02 750 1 5 6 2 2 04 02 02 00 new york met 04 03 571 3 0 4 3 2 02 03 02 00 chicago cub 04 05 444 4 0 4 5 1 01 02 03 03 montreal expo 03 05 375 4 5 3 5 lost 2 00 02 03 03 florida marlin 03 06 333 5 0 3 6 2 02 04 01 02 american west lost pct gb last 10 streak home road texa ranger 06 02 750 6 2 lost 1 04 02 02 00 california angel 05 02 714 0 5 5 2 3 03 02 02 00 oakland athlet 04 03 571 1 5 4 3 lost 1 04 02 00 01 seattl marin 04 03 571 1 5 4 3 1 03 02 01 01 chicago white sox 04 04 500 2 0 4 4 1 02 03 02 01 minnesota twin 04 04 500 2 0 4 4 lost 1 01 02 03 02 kansa citi royal 01 07 125 5 0 1 7 lost 2 01 05 00 02 american east boston red sox 06 02 750 6 2 2 02 00 04 02 new york yanke 05 03 625 1 0 5 3 2 02 00 03 03 toronto blue jay 04 03 571 1 5 4 3 lost 1 03 02 01 01 detroit tiger 03 04 429 2 5 3 4 1 01 00 02 04 cleveland indian 03 05 375 3 0 3 5 lost 2 02 01 01 04 milwauke brewer 02 05 286 3 5 2 5 lost 4 00 02 02 03 baltimor oriol 02 06 250 4 0 2 6 1 00 02 02 04 yesterday score idl team list alphabet order nation leagu american leagu houston 9 baltimor 6 montreal 5 texa 5 pittsburgh 11 seattl 10 san diego 7 toronto 9 10 chicago 6 cleveland 7 atlanta 0 boston 12 cincinnati 2 california 12 philadelphia 9 milwauke 2 new york 6 kansa citi 5 colorado 3 new york 6 florida 6 minnesota ppd san francisco 4 chicago rain st loui 2 detroit idl los angel 1 15 oakland idl joseph hernandez ram laker jtchern ocf berkeley edu king dodger raider jtcent soda berkeley edu angel clipper',\n",
       " 'sure heard extraordiari start rooki j snow california angel fact father star receiv l ram radio person los angel j came yanke organ know much j anyon info background young fenom pleas post way follow exploit hit four home run three day two last night also deliv win hit coupl time angel young season thank',\n",
       " 'know say ha brave score run maddux shut guy think keep track bit longer last outing 5 run total date 8 run 4 game brave record maddux start 2 2 see ya next time denni',\n",
       " '2 simpl reason 1 bat william ahead bond creat left clark right william left bond situat middl bat order make tougher oppos manag chang pitcher 2 bond bat behind william mean matt get good pitch hit import sinc struggl much break ball oppos pitcher want walk william get bond',\n",
       " 'guess time annual pittsburgh penguin whine thon bowman complan cheap shot devil game 1 sorri mr bowman great coach cheap shot noth compar go come also guess abl notic cheap shot made guy white amaz black gold color glass ps nice dive high stick mario everyon knew high stick could stay feet save dive talent later',\n",
       " 'look asshol got confus somebodi els flame would appreci extend courtesi know everyth world surpris',\n",
       " 'delet keep mind massachussett today patriot day state holiday think might float holiday given marathon also happen day peopl go includ stddisclaim h',\n",
       " 'anybodi pittsburgh area know mike lavallier releas last year kept say slaught get bulk play time clear better player point leyland insist keep pretti strict platoon releas make sens greg stori goe like spanki slow quicker would still slaught tom princ want lose princ order bring 11th pitcher slaught good spanki princ come along nice feel bad still gonna get theat 4 000 000 next two year abl want',\n",
       " 'anyon know dick estell radio reader npr one lefti pitch briefli jint 64 65 curious paul spend much time read basebal encyclopedia stretch farm anim beyond natur length paula koufax cv hp com paul andresen hewlett packard 503 750 3511',\n",
       " 'gotta hbp',\n",
       " 'let pass island get past pitt assum isl beat cap god will sorri isl crush leaf flame shield cours one ask alway interject opinion matter concern go island 3 1 go go jet 93',\n",
       " 'write woulda thunk articl realli piec everi time would thought buddi biancalana would home run colorado rocki babe ruth omar vizquel nolan ryan combin idiot guy',\n",
       " 'thus come one true beauti basebal thing along mani other never separ almost everyth basebal situat interdepend allow us carri argument everyth could explain balanc statist basi none wonder mysteri would left might resort go ballyard enjoy game paul feel littl anti stathead today stretch farm anim beyond natur length paula koufax cv hp com paul andresen hewlett packard 503 750 3511',\n",
       " 'lot batter lean pitch come rickey crouch tend exagger think great player watch forget unbias hmmm',\n",
       " 'chicago tribun pitch form perez pitch today 4 16 given way buck chang rotat often could work confus stat page editor',\n",
       " 'would seem logic mask potvin nicknam cat would go long way toward explain panther cours could old stori mask fuhr',\n",
       " 'heard news mike keenan former blackhawk flyer general siberian prison sign coach ranger ranger presid cup last year slip bit end season destin finish last behind lowli flyer flyer fan go disappoint keenan decis interest oh well go cap connin',\n",
       " 'todd karlin write bonilla threaten anyon want give dollar tour',\n",
       " 'person never forget mike schmidt home run expo 1980 decid nl east also career high 48th',\n",
       " 'believ nhl draft june 18th weekend',\n",
       " 'agre boston good team streaki put togeth great streak captur first place adam lost home ice advantag least first round might make would love see sabr win first round even though bet bruin 12 pack oh well perhap start bet sabr often',\n",
       " 'pierr turgeon nyi paul coffey detorit 77 hope help',\n",
       " 'bowman tend overplay franci time bowman style player play hard time disregard defens respons good leader bowman reward increas ice time jagr arrog juvenil display first attitud rub bowman wrong way caus lose ice time throughout year franci consist reciev ice time jagr althouhg never seen stat subject pretti sure jagr point per minut play franci add jagr better rate think becom evid jagr better season franci bad one',\n",
       " 'recent bought pack prospect hockey card various player come nhl got particular card russian name viktor kozlov say mani scout believ 1 pick 1993 anoth guy quot say good mario lemieux anyon know guy',\n",
       " 'perhap trottier happen behind hab goal recal gainey simpli head pick puck gilmour taken complet surpris gainey yeah would say doug play technic smart hockey case claim greg gainey never made technic mistak absolut ludicr good display ignor cours think gainey feel honour know rememb certain plugger integr part team simpli enough solid two way player go around would rather check centr doug gilmour doug jarvi matter would take either gretzki mario check centr think gretzki could cover bob gainey wrong selk award forward best job defens may may best plugger gilmour best defens job leagu see run simpli also contribut offen sive settl think liken selk nobel prize suggest best settl go tri put word mouth let suggest settl bother follow post might consid develop style imit sincerest form flatteri quit sure flatteri intent cordial alway rm',\n",
       " 'philadelphia 1 1 2 1 5 hartford 1 2 1 0 4 first period 1 hartford nyland 10 unassist 8 51 2 philadelphia recchi 53 lindro brind amour pp 19 59 second period 3 hartford burt 6 cunneyworth kron 2 00 4 philadelphia bowen 1 eklund recchi 7 09 5 hartford nyland 11 zalapski sanderson 9 38 third period 6 hartford kron 14 sanderson cassel pp 1 24 7 philadelphia beranek 15 lomakin yushkevich 3 11 8 philadelphia faust 2 brind amour roussel 3 38 overtim 9 philadelphia yushkevich 5 faust 1 15 philadelphia 5 power play 4 1 scorer g pts beranek 1 0 1 bowen 1 0 1 brind amour 0 2 2 eklund 0 1 1 faust 1 1 2 lindro 0 1 1 lomakin 0 1 1 recchi 1 1 2 roussel 0 1 1 yushkevich 1 1 2 hartford 4 power play 4 1 scorer g pts burt 1 0 1 cassel 0 1 1 cunneyworth 0 1 1 kron 1 1 2 nyland 2 0 2 sanderson 0 2 2 zalapski 0 1 1 new jersey 0 3 1 4 ny island 3 3 2 8 first period 1 ny island turgeon 56 unassist 4 11 2 ny island thoma 36 malakhov king pp 5 58 3 ny island ferraro 14 dalgarno malakhov 18 16 second period 4 new jersey niedermay 11 richer nichol 0 41 5 ny island mullen 18 vask dalgarno 1 15 6 ny island thoma 37 hogu norton 2 12 7 new jersey zelepukin 23 unassist 17 11 8 new jersey richer 38 nichol daneyko 17 23 9 ny island hogu 33 flatley ferraro 18 42 third period 10 ny island turgeon 57 unassist 3 45 11 new jersey semak 37 lemieux driver 9 06 12 ny island turgeon 58 king pilon 10 21 ny island 8 power play 4 1 scorer g pts dalgarno 0 2 2 ferraro 1 1 2 flatley 0 1 1 hogu 1 1 2 king 0 2 2 malakhov 0 2 2 mullen 1 0 1 norton 0 1 1 pilon 0 1 1 thoma 2 0 2 turgeon 3 0 3 vask 0 1 1 new jersey 4 power play 2 0 scorer g pts daneyko 0 1 1 driver 0 1 1 lemieux 0 1 1 nichol 0 2 2 niedermay 1 0 1 richer 1 1 2 semak 1 0 1 zelepukin 1 0 1 ny ranger 1 0 1 2 washington 1 1 2 4 first period 1 ny ranger grave 36 zubov andersson 6 17 2 washington ridley 26 unassist 18 33 second period 3 washington hatcher 34 johansson 12 19 third period 4 washington jone 12 may 2 49 5 washington cote 21 khristich pivonka pp 18 55 6 ny ranger gartner 45 amont andersson pp 19 50 washington 4 power play 7 1 scorer g pts cote 1 0 1 hatcher 1 0 1 johansson 0 1 1 jone 1 0 1 khristich 0 1 1 may 0 1 1 pivonka 0 1 1 ridley 1 0 1 ny ranger 2 power play 4 1 scorer g pts amont 0 1 1 andersson 0 2 2 gartner 1 0 1 grave 1 0 1 zubov 0 1 1',\n",
       " 'oh yea chris bosio pitch hitter one minimum two base ball first inning one runner left 95 pitch listen game radio listen dave niehaus call game real treat long keep ron fair quit doubt anyon better niehaus fair guy realli annoy guess clemen viola pitch would differ stori two shutout two night hottest best hit team major leagu basebal pretti impress leagu man johnson bosio hanson keep go marin could realli interest team follow year also john cum rooki three solid outing support fleme come back may best start staff american leagu year relief anoth stori though grimac cool first hitter abl follow start end think niehaus win kind award way call game guy truli joy listen deserv pennant race',\n",
       " 'call contractu oblig major leagu basebal would like see ot isl cap game understand espn come espn commit singl telecast night everyth bonus',\n",
       " 'serious pitcher pinch hit nl nl pitcher crank al stay game crank nl may especi pitcher duel team need extra run',\n",
       " 'basebal fan fan mention band wonder anyon could clue whether dead member sang nation anthem today giant open would imagin bit earli anyon know answer would great appreci curious robert',\n",
       " 'articl 106628 rec sport basebal healey qucdn queensu ca roger healey wrote yes stanc new baylor bat coach st loui last year manag continu work mayb andr weak left eye open stanc give better look ball mayb simpli improv mechan dunno chang seem enabl hit ball well 5 year ago select chang',\n",
       " 'appar part 2 defensemen number 2 19 lost post make thing wors lost copi ask shark mail list get see someon mail copi back someon respond repost get otherwis write day two post sorri 8 larri depalma season 3rd acquir 91 92 free agent minnesota grade c netter fan watch shark includ know depalma end season shark appear still right san jose kansa citi name appear waiver wire kind invis preval part depalma call octob 30 tampa bay lightn depalma excel week score 5 point 3 game play good defens unfortun 27 year old depalma disappear rest way get 3 point 15 game general look letharg uninterest end ice sent kansa citi walk suspend later reinstat reveal injur prompt disappear watch eye shark byte mail list known shark offici faith neither shark miss 10 johan garpenlov season 3rd acquir 91 92 trade detroit bob mcgill 8th round pick 92 entri draft vancouv grade earli slump garpenlov noth short inspir rest way finish 66 point 79 game second highest total team click well team mvp kelli kisio right wing rob gaudreau kisio got credit garpenlov finish second mvp vote clear demonstr playmak score skill seen make excel center pass well finish pass put puck past oppos goaltend get club high 14 power play goal contrari previous rep garpenlov also show despit small size 5 11 183 lbs will throw around necessari albeit success yet also still need work defens although improv tremend throughout season actual quit good penalti killer end season major key offens next year 15 david bruce season 5th acquir 91 92 st loui expans draft grade banner 91 92 led team power play goal 10 third total score 38 point 60 game bruce bother virtual season groin injuri kept lineup 17 game season cours difficult specul well would done season affect injuri 28 year old bruce effect man man short shark first season expect strong offens leader season well injuri appear serious shame otherwis may much brighter futur instead futur shark next season appear cloud 18 mark pederson season 3rd acquir 92 93 trade philadelphia c lw dave snuggerud grade b difficult understand flyer decis unload pederson good offens season last season 40 point 58 game ride pine earli season pederson summarili sent shark exchang defens mind snuggerud finish 41 game combin flyer shark also limit injuri season limit product 17 point healthi pederson appear impress good score touch good size willing throw around although consid physic forward good speed also appear liabil defens shark probabl wait next season see much exact pederson 20 john carter season 4th acquir 91 92 free agent boston grade b b carter definit one hardest worker team hard work work wonder time look great ice howev although look great time fact receiv 16 point 55 game effort sign much hard work shark confirm send kansa citi 20 game left season carter turn 30 may 6 alway hussl result sometim trap deep within offens zone forecheck general credit defens end probabl limit util capac impress offens although one best shark draw penalti unlik back next season 28 jean francoi quintin season 1st acquir 91 92 minnesota dispers draft grade b b understand shark let quintin play 14 game play season general hard work creat opportun offens appear age 23 readi regular nhl duti least team like shark finish 7 point 14 game defens liabil shoulder injuri train camp 91 92 season limit quintin team lead scorer exhibit game despit sit final two 29 game shark blade season look impress solid contend regular duti next season 41 mark beaufait season 1st acquir 2nd round pick 1991 supplement draft grade star season kansa citi beaufait got cup coffey shark late season blade knock playoff spot shark decim injuri play 5 game score goal nhl point thus far despit small size 5 9 165 lbs beaufait shi throw around necessari look pretti good time although earli judg base 5 nhl game play most left wing away center posit northern michigan kansa citi 42 jaroslav otevrel season 1st acquir 8th round pick 1991 entri draft grade like beaufait otevrel also play away normal posit cup tea 7 game midway season general much defens liabil show much offens either although may indic lack ice time got 7 game may need anoth season work defens defens accept readi 44 michel picard season 1st acquir 92 93 trade hartford lw yvon corriveau grade b c 23 year old picard although perenni tore minor seem close chanc reason acquir shark fail impress manag 25 game score 4 goal point spent rest way kansa citi particular strong defens despit offens brillianc minor fail thus far score nhl although given limit opportun may shark bait expans draft 45 dodi wood season 1st acquir 3rd round pick 1991 entri draft grade although perhap give grade accus knock wood much probabl surpris thorough unimpress wood thus far although 13 game small exampl general nonfactor offens particular good defens took mani silli penalti lose mani fight process gather 69 penalti minut 13 game project 446 84 game season readi need least anoth season kc work fight skill noth els relat small size 5 11 181 lbs give much possibl surviv stage enforc',\n",
       " 'actual fire coach georg kingston third gm triumvir trio duo dean lombardi chuck grillo shark alreadi 3rd offic gm 4th like happen septemb either add new coach oofgm name singl gm wager amend read shark like 5th gm panther get 2nd wait see next season nhl guid record book list gm histori shark given depth next year draft expans draft rule reput gms anaheim miami look pretti good first 90s expans team win cup san jose ottawa instabl gm posit someth philli nyi edmonton calgari first cup pittsburgh need quarter centuri',\n",
       " 'geez realiz thing bad ohio state afford phone book even oper probabl clinton fault 8 403',\n",
       " 'owen one error far believ serious underrepres harm done field owen clean play ball reach fine field percentag like alway problem reach anyth hit straight quit obvious problem play next kelli gruber robin ventura third baseman yanke wade bogg move across diamond last year seen one game abbott first start three ball hit left side would stop qualiti defens player instead charg hit abbott',\n",
       " 'ok seen tabaracci play yet two start relief effort beaupr look mighti sharp forget shutout think let four goal eight period play like hrivnak might actual give credit david poil chang trade hope tabaracci start isl tonight jinx',\n",
       " 'ruotsaleinen compet nhl er choic play bear hockey play abil crucial oiler stanley cup victori 1990 one without gretzki made oiler power play letharg year arriv slide overdr oiler miss follow year kurri think oiler would make final ruotsaleinen stay around follow season would beaten pittsburgh ruotsaleinen healthi messier delay pittsburgh dynasti season',\n",
       " 'anyon know billi taylor richmond syracus taken jay rule v draft kept roster basebal week said demot syracus toronto paper indic brave took back atlanta fan anyon read know',\n",
       " 'matter call team jokerit tps helsinki tornado turku typhoon best palyer finland would eventu end team anyway big leagu',\n",
       " 'philadelphia chicago team tie 1st sunday dick red battl chet brewer first game dramat four game seri one friday one saturday good old sunday doublehead could better declar erni bank perhap fact cub challeng pitch alway pitch lack announc ryne sandberg get brewer beat carlton alexand bun preferr 2 last three know might abl win lord hope pull phil score top first richi ashburn singl pete rose follow hit send ashburn around second kiki cuyler cut ball left center threw bullet erni bank threw ron santo get ashburn third rose went second play christobel torrienti lift long fli center move pete rose third schmidt walk cub absolut refus let beat torrienti schmidt like draw 130 150 walk year chuck klein start hit well lash doubl gap right center cool papa bell speed allow cut ball prevent schmidt score nelli fox walk bob boon ground second end threat team start realiz pitch schmidt torrienti lower run total put lot pressur klein dick allen platoon chuck klein occasion spell rose first credit philli abl sustain pace picther slump time came analysi frank chanc cub got run back bell bunt hit thoma grounder move second sandberg made billi william singl home run sixth ron santo launch two run homer make 3 1 dick red got troubl eighth schmidt singl klein singl third ed reulbach enter face fox dick allen pop dugout hit allen doubl right luckili cub william move left andr dawson insert defens fire bullet home plate keep klein third lanc parrish hit boon walk bruce sutter enter larri bowa ground 1 2 3 doubl play ed delahanti walk pinch hitter desir strikeout sinc ashburn like attempt bunt hit quick trillo pinch run third chanc brought lee smith induc pop catcher speedi centerfield end inning cub took win 3 2 move game behind philli steve carlton call upon battl 3 finger brown saturday get anoth righthand lineup ron santo move first bill madlock play third unfortun brown allow six doubl cub bullpen worn even cub tri maintain lead lefti madlock bat sixth knock two doubl drive home four run gabbi hartnett hit two home run cuyler ad anoth score 8 6 cub six inning philli bullpen troubl bottom eighth cub grab 3 run ice 11 7 triumph sunday twin bill saw cool papa bell gather seven straight hit one point includ rare outsid park home run second game robin robert grover alexand phil took first contest 4 2 cub captur second one 5 4 waddel gain win bruce sutter toss two inning save though allow one run eighth cardin stood half game behind co leader would conclud seri expo monday montreal st loui august 3 6 3 way tie 1st denni martinez roll continu versus john tudor friday expo wide varieti hitter among time great get job done win first first two game sudden found 2 1 2 game first wacki season martinez triumph 5 3 friday william outduel dizzi dean 3 2 saturday howev cardin refus give win 6 2 sunday card captur monday game steve carlton outduel steve roger 3 2 realli good ground ball pitcher team speed remark lou brock see win divis philli cub may reason two third way season 3 way tie first new york pittsburgh august 3 6 3 straight 3 2 win buc 2 back 4th team slump like worst thing play pitcher park like spoke gil hodg seri keith hernandez ad defens take away quit run per year must give extra 6 7 win pirat made 26 error season 6 ahead second place dodger error total tend around 50 best defens time team rube foster defeat sid fernandez 5 2 friday candelaria outshon seaver 3 2 saturday game featur outstand defens nolan ryan two reliv 6 hit met anoth 3 2 win sunday pirat could look forward victori get back 500 mark unabl sever time past month bert blyleven met dwight gooden afternoon game pitcher possess fantast stuff run score eight inning home run solo shot rusti staub met two run blast ralph kiner pirat met darryl strawberri singl home run top ninth jess orosco work second inning mooki wilson pinch ran gari carter second one runner first lee mazilli sent pinch hit pirat counter kent tekulv place fifth spot order put barri bond left field ninth place hitter tekulv induc groundout forc strawberri second slid hard honus wagner prevent pirat turn fifth doubl play afternoon tekulv allow hit clement threw mazilli third near right field line end inning tug mcgraw reliev randi myer enter pitch eighth got one bond launch rocket deep center run stop sign third score insid park homer win pirat score improb 3 straight 3 2 win move within 2 game first place seven week go san francisco boswaukta august 3 5 anoth sunday doublehead appear schedul giant manag close gap team thank start pitch tire fact report manag john mcgraw rough part schedul mayb earli come week may shift 4 man rotat littl juan marich continu hot pitch friday beat lew burdett brave 4 1 willi may four r b 3 hit rick reuschel face joe niekro saturday slugfest brave park homer took cake giant seesaw affair 16 13 willi may three homer willi mccovey eddi matthew baylor two hank aaron erni lombardi biz mackey mel ott one brave collect 149 home run go sunday doublehead put pace 223 would 4 short nation leagu record still tad behind 61 yanke pace allow 120 though vida blue actual got win retir 2 batter fifth allow run sixth falter seventh joe mcginniti earn save doublehead brave hoyt wilhelm fail hold lead first game hank aaron homer bill foster eighth brave 4 3 giant took second game howev 6 2 score homer aaron magic 150 brave howev fell three game 500 make comeback extrem unlik san diego cincinnati aug 3 5 randi jone face ewel blackwel first 3 game seri padr felt rather good mat strain back last cleveland game trade look even better mcgriff bat averag even rise cours bench poor joe gordon adequ outfield minor problem sinc pitch hold jone pitch good game friday 6 3 mcgriff launch two home run mel harder earn win help mark davi ray narleski saturday 5 4 final score tom candiotti battl satchel paig 3 3 tie eight inning depart game scoreless 4 inning thirteenth paig depart 10 john franco hurl scoreless inning tom brown work second scoreless inning dave winfield doubl one joe gordon pitch around thurm munson doubl runner home padr game 5 3 win three game sweep pull giant tie red though red deni high emot seri dodger may taken much brookangel houston august 3 5 anoth seri cap weekend doublehead took place wide open plain astrodom astro sent joe niekro hill first game opposit drysdal normal drysdal remark would challeng hitter readi throw afford team though get runner go davi get deck fact glenn davi lead team homer six primarili would deck understood current pace would give nine season hit team littl better power doubl tripl still carl furillo main reason astro home run hit weekend threw two runner tri insid park homer unawar nast astro park 23 foot high gray wall around outfield ball must hit seat home run foul pole 355 feet home plate alley 400 feet away center field 420 feet three year old threw tantrum told playmat hit home run nobodi hit home run remark roy campanella dodger stole five base friday astro decid revit baltimor chop fail 6 week tonight anyway davi jim wynn jose cruz mess swing accord manag pole willi well reach base via baltimor chop drysdal deck jose cruz pitch respond two run doubl wynn play first davi pop astro score inning score 3 fourth eras 3 2 deficit astro wound win 6 4 threaten even better next game tommi john would oppon walt alston met privat starter 6 game think know beat baltimor chop explain pee wee rees wonder go beat ball got readi throw run steve start first dig ball dirt want practic barehand pick throw go shallow infield almost whole time plan almost work mike scott allow two run eight inning astro got three two score bill doran push bunt outfield fourth runner second third 3 2 astro final dave smith earn anoth save dodger score victori first game twin bill sunday nolan ryan walk five three score 4 1 dodger win fernando valenzuela lost second game 4 2 sutton howev dodger thirteen stolen base seri prove enough most power team remark ron cey jacki play mauri will real speed demon though coupl play sunk place like astrodom guess success inde seem basest team give troubl dome stros swipe 12 base 16 attempt give 230 season stand weekend seri l east team w l gb new york 68 42 cleveland 65 46 3 5 detroit 64 46 4 boston 64 47 4 5 baltimor 59 52 9 5 toronto 43 69 25 5 washington 39 73 28 l west oaksaselphia 63 48 minnesota 61 48 1 chicago 59 53 4 5 kansa citi 57 54 6 5 california 57 56 8 milwauke 45 66 17 seattl 32 78 31 5 n l east chicago 57 53 philadelphia 58 54 st loui 58 54 pittsburgh 56 56 2 montreal 53 56 3 5 new york 48 64 10 n l west brookangel 66 46 cincinnati 66 47 0 5 san francisco 65 46 0 5 boswaukta 54 56 11 houston 50 61 17 5 san diego 36 75 29 5',\n",
       " 'heard minnesota detroit game know time though dave',\n",
       " 'xenophob trash delet go go extrem guess better start pack unless nativ north american contin either',\n",
       " '20 apr 93 cherri coach corner clip shown local news pittsburgh last night kdka complet anim sarcasm sportscast second time cherri shown local pittsburgh news last coupl week time blast lemieux jim murawski sr softwar engin 412 268 2650 offic administr comput 412 268 6868 fax inform servic jjm andrew cmu edu carnegi mellon univers offic ucc 155 4910 forb avenu pittsburgh pa 15213 3890 le mieux le magnifiqu soixant six claud non',\n",
       " 'okay entri sheet keep mind spot decid may chang seri pick game divis semi ny island pittsburgh new jersey washington buffalo boston montreal quebec st loui chicago toronto detroit winnipeg vancouv los angel calgari divis final patrick adam norri smyth confer final wale campbel stanley cup winner see previous post score good luck keith keller let go ranger let go quaker kkeller mail sas upenn edu ivi leagu champ',\n",
       " 'ra point far mani european nhl r sick watch game american canadian ra team let say red wing canuck see name r like bure konstantinov borshevshki north america ra disagre think nhl featur best hockey talent world regardless nation admit see player like gretzki messier trade us canadian team afford know say half serious probabl better canadian hockey leagu canadian player ra creation european hockey leagu let ra te bure selann world play contin ra ra want themon mine matter russian finnish mexican albertan new yorker black white korean martian plutoneon matter put leaf jersey put puck',\n",
       " 'could somebodi pleas tell dodger newslett net subscrib thank joel',\n",
       " 'well final key offici rule archiv ask anybodi offici mlb rule electron format tri save ton work scan well ridicul format print thank matt matt wall wall cc swarthmor edu hey gotta job ok',\n",
       " 'favorit barri foot homer bounc waveland second floor window across street second though would kong drive last seen bounc street dead end park waveland',\n",
       " 'said radio develop stiff shoulder throw curvebal loosen cold night denver decid remov game rather let pitch expect pitch next turn rotat expect april 20 shea vs giant',\n",
       " 'except fact seem lot high score al game also think expans team direct affect k scott day kday oasi dt navi mil carderock divis naval surfac warfar center code 1252 bethesda maryland 20084 5000 point rememb govern give must first take away john coleman',\n",
       " 'reli canadian tourist transplant northeastern support team miami crazi espaeci realli deserv citi without team san diego milwauke wish panther whatev name well sell hispan deep doo doo alreadi rumor tampa may move milwauke',\n",
       " 'take er logic conclus imposs ascertain whether better hitter roberto alomar better pitcher juan guzman better center fielder devon white blue jay realli prove world seri 1991 1992 thank mister maynard faith athelet prowess assur faith misplac',\n",
       " 'say quit time absent net figur stick neck bit royal set record fewest run score al team sinc incept dh rule p idea fall easili short 600 run damn sure believ media fool pick win divis like tom gage detroit news claim herk robinson kind genius trade aquisit made c ya sean',\n",
       " 'yeah final came agreement contract soon ink dri sudden decid kansa citi neat place ergo want play nation team bargain chip',\n",
       " '',\n",
       " 'fair walk 6 batter 6 1 ip also allow three hit none extra base one run pretti good outing told thing must win game earli season alway hope darwin pitch well',\n",
       " 'hbp remind favorit apochryph sp drysdal stori order intent walk batter hot dog two previous bat drysdal rear back first pitch drill right rib manag came storm dugout yell drysdal growl back complain save three pitch incident true love know peopl involv ted kuri one man stand wall crack wall suni buffalo crack wall crack wall come dept econom crumbl anthrax',\n",
       " 'uh think call team tom seaver jerri koosman nolan ryan pitch staff team talent come nowher improv forseeabl',\n",
       " 'read net last day continu amaz pronounc basebal prowess mani individu especi come say bosox prayer long time red sox fan simpli say imposs dream year 1967 short memori short live red sox fan continu subject abus critic follow hot team statement support base increas number brave woofer net true fan team team follow team good year well lean year ampli reward time right yeah buckner let roller go leg 86 care clemen told cooley go piss rope prompt earn quick shower fact one best team leagu year fan support appear lean time number detract come let play see happen come septemb red sox may good certain bad either chanc win world seri rememb 69 met would given chanc even make far let alon beat baltimor let face basebal wonder game far unpredict footbal basketbal one never say absolut certain outcom cours 162 game',\n",
       " 'brave run product fall 1 per game certain head lucki mean finish first',\n",
       " 'heh someon mention tommi soderstrom flyer besk mask poll mention part plain white helmet big cage found pretti amus john santor philadelphia flyer 93 94 break surfac tension wild kinet dream rush grand design go philadelphia flyer john santor jsbh andrew cmu edu',\n",
       " 'er yes manni lee team last year team would toronto blue jay manni lee team last year team would albuquerqu leftturn would toronto blue jay whole point clemen get ring morri exact morri part team would jay clemen never know know jay morri could possibl say clemen better year pitcher basebal could better year morri last year',\n",
       " 'stankiewicz doubt koufax one two jewish hof hank greenberg good player buddi myer johnni kling norm larri sherri ken holtzman saul rogovin ed reulbach 150 jewish major leaguer year ago articl someon keep track spi magazin articl entitl jew first cours also least two book subject',\n",
       " 'love peopl blame philli success weak divis look record team divis read inter division play see east realli kick shit west know earli go atlanta strong 188 ba cincinnati 2 7 come sweep veteran stadium philadelphia houston swept first three game philli astrodom western divis friend show three best team divis may strong think phil way 93 brave hit like aaa club red need marg',\n",
       " 'rememb correct alway doubt horner sign brave conting start atlanta think could gone back arizona st one year sign anyhow brave tri send richmond lead week long walkout methink horner work ethic draft minor leagu play help raw talent would gotten ml keep start fall wrist',\n",
       " 'subject line say rule qualifi pitcher make save',\n",
       " 'someon sabr actual look game year ago found offici scorer award save everi one game even pitcher pitch bad allow 4 5 run',\n",
       " 'subject kind bias almost complet useless first basemen raw stat way tell first baseman putout made throw fielder made play likewis tell whether doubl play 6 4 3 3 6 3 field run thus give first baseman credit putout doubl play assist error thus favor first basemen play deep reach lot ball forc pitcher cover first frequent also hurt first baseman play behind left hand pitch staff thus face left hand batter better cours still first baseman defens defens averag use larger probabl better zone mat tie second leagu 233 bat run good most past run produc 1986 say much valu 1993',\n",
       " 'expert want analyz ron gant earli season slump still swing bat way last year tri hit field etc chang swing back old gant small earli season slump spot int lineup even secur especi way hit msilverm nyx cs du edu go cub',\n",
       " '',\n",
       " 'boston probabl go easi sabr game one buffalo would four problem playoff game buffalo sabr bruin quebec montreal whatev espn abc show opposit night toronto detroit whatev espn abc show hockey good chunk north america either side border wonder thousand folk kill shoe coverag wise',\n",
       " 'jagr higher franci point take inform observ ronni franci much better season jaromir jagr take anyth away jaro decent year although live expect dean',\n",
       " 'wonder ojeda sue anyon career may due accid got realli bad haircut meant due float fastbal well',\n",
       " 'absolut nonsens decis made pocklington chose 20 mill gretzki gretzki upset abl win cup la submit worth 20 mill know think thought thought see reveal like gretzki big deal real purpos dive mere attempt draw penalti player tri make checker keep distanc ref fool imagin anyon would expect someon like lemieux chang game pick 1 dimension rate type like hull salami',\n",
       " 'uh gerald think joke',\n",
       " 'encourag great tradit red sox negativ contest predict magnitud sox fall current height must decid first whether sox 500 time year must predict either 1 record first time 500 2 final record stay 500 rest year valentin earlier predict would go 13 13 resend serious val espn point last night last sox start better 1952 finish 76 78 sixth place email guess either bar cs washington edu direct repli post entri close 5 pm pdt wed 28 apr 1993',\n",
       " 'mani run score denver know idea gotten look run score mile high stadium last year bear zephyr tenur american associ total run score per game zephyr game leagu game ratio found ratio hr year rpg lea ratio hrpg lea ratio 1992 10 22 9 10 1 12 1 65 1 58 1 04 1991 9 53 8 87 1 07 1 41 1 26 1 12 1990 10 71 8 72 1 23 1 49 1 24 1 20 1989 9 07 8 34 1 09 1 27 1 11 1 14 1988 9 90 8 37 1 18 1 29 1 08 1 19 1987 12 55 10 70 1 17 2 39 1 92 1 24 1986 9 45 9 33 1 01 1 35 1 38 98 1985 9 50 8 54 1 11 1 53 1 34 1 14 1984 9 99 9 10 1 10 1 55 1 59 97 1983 10 60 9 99 1 06 2 03 1 74 1 17 1982 11 29 10 35 1 09 2 24 1 91 1 17 1981 10 29 9 25 1 11 1 43 1 49 96 1980 10 59 9 43 1 12 1 63 1 46 1 12 1446 13 1 11 1444 13 1 11 seem pretti clear denver larg effect run score stick predict last year one top 3 nl year fair larg effect homerun though appar larg atlanta wrigley cincinnati san diego still ought pretti decent home run park',\n",
       " 'thought post predict stand sinc find post other interest sorri open day certifi complet first pitch al east 1 new york yanke improv team divis 2 toronto blue jay stewart morri way 3 milwauke brewer alway seem better expect 4 baltimor oriol pitch devareaux anderson hoil drop 5 cleveland indian still seem know 6 detroit tiger key player fryman anoth year past peak 7 boston red sox team clemen viola might beter 7th al west divis toughest pick whoever top 4 get pitch win 1 minnesota twin young pitcher seem best chanc success 2 texa ranger know jose canseco 3 chicago white sox frank thoma pitch 4 oakland larussa best manag would keep team close 5 seattl marin like pinella see much 6 kansa citi royal score run 7 california angel win game nl east 1 montreal expo good around plus wallach 2 st loui cardin jeffri whiten jose clark galarraga 3 pittsburgh pirat youngster take slack expect 4 new york met good player still team 5 philadelphia philli impress 6 florida marlin know 7 chicago cub know nl west 2 best team basebal divis 1 atlanta brave awesom starter offens could concern 2 cincinnati red would surpris 3 houston astro team sign urib contend closer 4 2 4 san diego padr plantier could sheffield 1993 5 los angel dodger better pitch giant 6 san francisco giant rocki stink 7 colorado rocki becom seattl marin nl nlcs montreal atlanta brave fan yes probabl contradict said nl west comment alc new york minnesota world seri new york montreal hate yanke fashion nl mvp barri bond mayb mcgriff nl cy young jose rijo al mvp frank thoma deserv fielder might win al cy young roger clemen least deserv',\n",
       " 'hear daigl eb first pick next year word kariya anybodi ever seen play tv also enter draft',\n",
       " 'morn paper radio vizquel quot say could field ball glove still easili thrown rile barehand instead make final play memor seem litl cocki made work entitl doug dudgeon dept chemic engin bf 10 dudgeon opus cheme washington edu univers washington seattl',\n",
       " 'well actual base realli happen base fantasi happen ok understand hockey background stat like plus minus make rbi look good ok straigh answer simel question sure fair number us interes answer pleas answer yes roger pitcher caus offens player team score run al pleas anyon els follow along well known demonstr fact team win loss record close relat number run team score number team allow definit hard fast function definit correl fact rule thumb team b score x run team allow run everi 10 run fewer team b allow win anoth game instanc look 1991 toronto blue jay find score 780 run allow 682 morri allow 114 thing equal frank viola 3 44 era replac jack morri 240 2 inning morri threw plausibl sinc viola threw 238 boston red jay would allow 15 fewer run enough 1 2 win take account viola pitch half inning fenway harder park pitch particular lefthand skydom um roger unless realli believ pitcher somehow affect number run team score could enlighten us fallaci analysi clear would foolhardi claim viola would necessarili put 3 44 jay last year claim look actual perform evalu viola better morri sens morri perform viola team would better true open brain fall mike jone aix high end develop mjone donald aix kingston ibm com',\n",
       " 'tuesday game belov yakult swallow jingu 36 000 hanshin tiger 001 000 100 2 belov yakult 050 020 00x 7 w ito 1 0 l nakagomi 0 1 hr yakult arai 1st central leagu stand w l pct gb hiroshima carp 7 1 0 875 chunichi dragon 6 3 0 667 1 5 hanshin tiger 5 4 0 667 2 5 hate giant 4 4 0 500 3 0 belov swallow 3 6 0 333 4 5 yokohama baystar 1 8 0 111 6 5',\n",
       " 'problem fault espn ongo game cover til final horn sound two channel scni sca late finish game pacif time overtim elsewher kick end local coverag scni block met still hockey sca scni plus espn 2 current situat would allevi gld',\n",
       " 'sorri mike defensemen would wing will give beezer',\n",
       " 'total basebal also tri evalu player total offens defens contribut give barri bond total player rate 9 0 1992 one player sinc ruth attain mark cal ripken 1984 season round top five offens player nl last season sheffield 5 9 sandberg 5 8 van slyke 5 3 larkin 4 7 top 5 offens player al 1992 e martinez 4 8 ventura 4 8 anderson 4 5 r henderson 4 4 thoma 4 4 short total basebal say bond enjoy one best season ever game histori better year mantl may william etc disagre flame flame writer total basebal also martinez ventura neck neck given shortcom statist analysi one better year consid toss thus total basebal support choic bond ventura mvps 1992 phil brown aka pb6755 csc albani edu',\n",
       " 'think guy go littl bit disappoint lemieux two tocchet mullen tippett jagr buzz friend forgot score mullen goal said score lemieux two tocchet tippett jagr funni part said jagr part non chalant process score ask question abc coverag bad scale 1 10 give 8 game chi st loui la area stupid complain televis network even see pirat game instead penguin game time year mani pittsburgh would sure rais hell texa good start may pull year whoop belong rec sport basebal',\n",
       " 'concess mansbridg cbc news argu go play havoc schedul least make sure prime time air soon possibl news got commit post game show would scrap network would go ptn within one minut game end earlier comment cbc ontariocentr frank doublehead decison goe way peopl west cant see leaf peopl central canada see jet game reason decis cbc feel sell advertis six hour hockey one night want see news hockey lot peopl cbc alway get plenti complaint juggl news schedul',\n",
       " 'think miss one point take great gm win stanley cup even guy list gave earlier never one agre could probabl argu back forth day avail best gm hockey matter opinion say opinion better mine point origin origin post well state murray gm abil coach abil lead think point person emot element involv transcend murray logic thought outsid fine us say hire differ coach fact talk past press detroit least built busi murray never get past second round playoff coach think taken upon prove world capabl coach team past second round need paper say get monkey back becom matter intellig pride foolish let pride stand way sound logic perhap littl way time time think eventu step behind bench concentr gm duti team improv result think coach duti take away time might otherwis spent gm work sens step coach see good gm realli may agre everyth said fun discuss',\n",
       " 'bobbi bonilla suppos use word faggot got mad author clubhous ban basebal year like schott',\n",
       " 'could right could wrong claim complet unverifi untest wager brave fan net could name 3 player 1988 season could give away ticket brave game howev dad abl get great seat scalper face valu exact sign hot ticket precis consid america team even especi bad could see brave game cabl could cub well brave better camerawork better announc would rather listen harri discuss game skip pete discuss motobal team much wors tbs brave lot fan outsid georgia home kentucki even though much closer cincinnati mani brave fan red fan even 1990 could actual watch brave play go cincinnati watch red go anywher america watch brave guess brave fan wide distribut toronto fan dale j stephenson steph cs uiuc edu basebal fanat',\n",
       " '',\n",
       " 'mr bettman guy wrong sport mr stein guy charg cours also need new name individu award stuff like presid cup presid cup trophi given best regular season team hart winner valuabl player chosen guy middl guy right guy left guy back guy net though typic given guy middl guy left right norri winner best guy back guy award someth even though one guy middl left right ad nauseum keith keller let go ranger let go quaker kkeller mail sas upenn edu ivi leagu champ',\n",
       " 'ield rf time far compar',\n",
       " 'kevin todd oiler one month close follow devil anyway jeez',\n",
       " 'leaf leaf support say leaf go four unless noth short miracl stroke genenius hit root anoth team andreychuck borchevski busi play wing small key leaf success clark centr andreychuk small slow sloth like mayb 6 4 would consid small asid big andreychunk call known disappear come playoff time one main problem play buffalo go leaf go sabr',\n",
       " 'jewish hof er rod carew convert lowenstein jewish well montana repres major leagu undeserv cy young award winner steve stone jewish stone koufax ken holtzman might wrong pitcher think one threw hitter al nl big ed reulbach quit start rotat moe berg catch harri steinfeldt 3b tinker ever chanc infield stanki jewish dave cohen kinda misinterpret whatev look like stuck around major long',\n",
       " 'regardless sparkl pressbox errey coupl game hip injuri',\n",
       " 'clint malarchuk danger accid could die right ice howev play sinc know think still play posit sabr time know skate though rememb coupl season malarchuk incid borj salm toronto fell creas someon skate face took lot stich fix',\n",
       " 'serious mani colleagu receiv bad e mail roger fact roger happen answer hockey question curios start flame roger better consid nasti attitud toward roger like',\n",
       " 'six seven year ago enthusiast fan nfl footbal last year hard watch game turn incess interrupt continu game team score 2 5 minut commerci kickoff 1 5 minut commerci three down punt 2 minut commerci aaaaarrrrgh earlier thread comment larussa believ institution slow play mind cat mous game rickey first fact rather enjoy similar would enjoy battl listach lofton polonia first object game play karkovic first game blowout mind pitcher step mound gather thought crucial situat hitter step box regain concentr object hitter pitcher take break everi opportun game excit littl delay serv tension builder enhanc valu experi game delay happen regular becom nuisanc like commerci break footbal understand nfl impos number rule chang speed game basic put onus offici staff move marker ball spot faster address problem continu game may appeas sponsor network would amaz anyth enhanc experi fan similari 3 hour basebal game bore tear one continu player take exasper long period get readi pitch doubt anyon watch brave giant game care gant step doubt anyon watch game would found paus anyth opportun complet attent claim drama present would total oppos effort would elimin aspect basebal hand wish basebal commission power enough sit alderson larussa duncan explain actual hurt product basebal drag game way sure mind littl arm twist beastmast',\n",
       " 'disagre one think vancouv go bure goe continu goal score slump even make first round think king make first round regardless play seem pretti well even bad game minnesota saturday think either calgari los angel win smyth e go confer final',\n",
       " 'heard yesterday pocklington talk folk copp afternoon yesterday',\n",
       " '1993apr16 140953 5025 vax cns edu jbrown vax cns muskingum edu write would appreci would refer mr maynard initi thank see norri final ron',\n",
       " 'mcgill hammond johan garpenlov would realli rather two instead johan logic enjoy falloon ozolinsh injur reserv falloon hurt clean check fell poor wilson know ozolinsh judo coach would shark injuri situat bob probert actual judo ju jitsu coach could help add realli interest wrinkl anyon game',\n",
       " 'david vergolini write yeah tiger keep score 20 run game read woof correct one midseason slump go pull team content like yogi say believ believ',\n",
       " 'one last infield fli question alway puzzl yet address believ rule also deal situat infield fli declar ball caught runner tag advanc risk fli ball howev infield fli caught point runner legal leav base w fear doubl advanc earli ball hit ground fielder first touch ball hit ground enlighten would appreci',\n",
       " 'keenan hire precipit loss anticip 5m playoff revenu fear lose season ticket holder plus paramount chief stan jaff chip flyer l affair lindro last autumn add neilsen might return assist coach gerald say earlier today roger confer jaff hire hire jaff went head msg inc par subsidiari head bob gutkowski head protest pres gm neil smith msg make announc saturday get back island make playoff e steal press flyer owner ed snyder livid besid keenan make 900 000 yr gari bettman appoint independ consul look gil stein admiss hall fame new creas colour rather blue oiler charg eat press room next year gld',\n",
       " 'appar 30 minut special penguin season abc wtae channel 4 immedi preced open game devil sunday turn time watch credit anyon tape will let borrow dub would appreci would will come pick return next day buy beer pleas respond via e mail thank lot oh yeah good billi',\n",
       " 'hope somebodi would mention clutch clutch baerga two word simpli go togeth runner score posit baerga bat 308 366 418 last year quit suck batter hit better situat alomar hit 354 439 517 runner score posit differ alomar 68 rbis 147 ab baerga 81 rbis 182 ab baerga got 25 chanc yet succeed 20 time frank believ clutch vote would go alomar mvp let alon best 2b al',\n",
       " 'disciplin 100 certainti necessari state someth fact basebal one therefor say know clemen better morri last year larkin better griffin ascertain prove requir sinc obvious feel thread meaningless simpli stay',\n",
       " 'month well short career compar one might expect high tout prospect due injuri prone overweight work ethic certain suffer rush big',\n",
       " 'histori handi recal preponder roy come win team fact think team perform general irrelev almost alway deserv candid win wrong necessarili lose team angel staff still weak everyday lineup quit well thank snow play great salmon learn make adjust easley appear fine even flora readi come gonzal gruber manag hot corner polonia curti steadi headi even myer orton contribut person think finish 500 make win team beastmast',\n",
       " 'watch entir career never seen player includ russel courtnal davi keon screw mani breakaway bob gainey never forget time deni potvin caught gainey head sold bill good bob gainey gainey plugger press run thing say star dynasti start hype plugger grant fuhr essa tikkannen butch gore bob nystrom bob gainey doug jarvi derek sanderson wayn cashman bob baun bob pulford ralph backstrom henri richard dick duff cordial alway rm',\n",
       " 'perhap excit game play yet seen us watch team around leagu interest object nowher near excit game unfortun instant replay use hit first immedi thought 5 game hit look much sever intent injur perspect see replay say deserv 2 4 minut board careless way slice stewart replay think chaisson would gotten 5 game call bullshit agre admir stewart let go probert look say hell penalti never seen probert whine either need probi decid put wendel board probabl gone right also bullshit replay rous btw realli piss linesmen correct call either b offici refus admit made mistak yes call describ differ detroit loss pick leaf win game 3 emot adrenalin wing excus game 4 superior team call piss anderson get 4 put stick somebodi eye the danger stick infract seen long time everybodi damn leagu know asshol come stickwork four lousi minut bullshit call murray send tape wing hammer live shit',\n",
       " 'damn good thing post sinc claim repres peopl rec sport hockey sole purpos mention net steve gallichio alreadi point lend weight point associ internet reason mention internet misrepresent internet privat corpor alison would leav wide open kind civil suit letter petit claim repres larg proport rec sport hockey user implic signific number internet user 65 name way consid larg proport rec sport hockey way count actual readership access hundr thousand peopl 65 person fli fart windstorm gee look larg dictionari next two syllabl word let suggest place like envi magnitud 65 look way beef iq score said might impress size list name would consider larger even definit account origin context lift sentenc well hell point realli know opinion hockey issu know like',\n",
       " 'record hand',\n",
       " 'pleas pardon ignor well known current rule mayb could limit number throw first pitcher make award balk exceed anoth question would oper pitch clock one umpir add anoth one crew sure like idea think would sever diminish number stolen base limit avail neat strateg ploy hit run squeez play one person favorit ahhh suppos read whole articl hit f key eh obvious wrote like idea may also increas number wild throw bag sinc pitcher know mani chanc pick runner may hurri much rather see run score result sound hit sound basebal strategi rather sloppi could result kind rule suppos disadvantag idea rememb littl leagu bat step batter box even moment automat may littl harsh major serious put limit batter abl step take sever dozen practic swing pound shoe scratch ball etc mayb forc stay batter box bad idea could save minut',\n",
       " 'event saw 1 call strike hirschbeck 2 shock look gant ask appeal first 3 appeal first 4 gant step batter box 5 hirschbeck immedi order gant back bad move 6 gant ignor hirschbeck walk bad move 7 hirschbeck yell gant gant silent 8 hirschbeck call pitch 9 pitch call strike 10 cox argu see came field 11 cox eject player everywher 12 play final resum gant ignor hirschbeck return made strike call fair like although suspect argument might gotten gant toss altogeth hirschbeck let gant step whole incid probabl would avoid dale j stephenson steph cs uiuc edu basebal fanat',\n",
       " 'first longer game way suggest basebal watch unless includ watch grass grow basebal lengthier game batter step box pitcher take longer pitch excess trip mound manag pitch coach true gap play interest true becom extra long quick pitch game grab hold attent much better bring back two hour basebal game three half hour golf game',\n",
       " 'ok guy stir childhood memori went research final month 1964 season turn recollect pretti darn accur least far philli record goe septemb 1 1964 top n l stand w l gb philadelphia 79 51 cincinnati 74 57 5 1 2 st loui 72 59 7 1 2 san francisco 73 60 7 1 2 game game descript remaind philli season date score oppon lead pitcher start winner loser 9 1 4 3 houston 5 1 2 bun 15 4 9 2 2 1 houston 5 1 2 short 15 7 9 3 0 6 houston 5 1 2 bennett 9 12 9 4 5 3 san francisco 6 1 2 mahaffey baldschun 6 5 9 5 win san francisco 6 1 2 bun 16 4 9 6 3 4 san francisco 5 1 2 short baldschun 6 6 9 7 5 1 los angel bennett 10 12 1 3 los angel 6 1 2 wise 5 3 9 8 2 3 los angel 6 mahaffey 12 7 9 9 5 10 11 st loui 5 bun baldschun 6 7 cardin take 2nd place cincinnati 9 10 5 1 st loui 6 short 16 7 9 11 1 0 san francisco 6 bennett 11 12 9 12 1 9 san francisco 6 mahaffey 12 8 giant move tie 2nd st loui 9 13 4 1 10 san francisco 6 bun 17 4 cardin back sole posses 2nd place 9 14 4 1 houston 6 1 2 short 17 7 9 15 1 0 houston 6 bennett 12 12 9 16 5 6 houston 6 bun 17 5 9 17 4 3 los angel 6 1 2 wise schantz 2 4 9 18 3 4 los angel 6 short baldschun 6 8 9 19 3 4 16 los angel 5 1 2 bennett baldschun 6 9 9 20 3 2 los angel 6 1 2 bun 18 5 red move back tie 2nd cardin well far good philli fall apart 9 21 0 1 cincinnati 5 1 2 mahaffey 12 9 red take sole posses 2nd place 9 22 2 9 cincinnati 4 1 2 short 17 8 9 23 4 6 cincinnati 3 1 2 bennett 12 13 9 24 3 5 milwauke 3 bun 18 6 9 25 5 7 12 milwauke 1 1 2 short boozer 3 4 card 2 1 2 back 3rd giant 3 1 2 4th 9 26 4 6 milwauke 1 2 mahaffey schantz 2 5 9 27 8 14 milwauke 1 bun 18 7 phil lose 7 1 2 game 7 day red take 1st cardin 1 1 2 back 3rd 9 28 1 5 st loui 1 1 2 short 17 9 cardin take 2nd place phil drop 3rd 9 29 2 4 st loui 1 1 2 bennett 12 14 red cardin tie 1st 9 30 5 8 st loui 2 1 2 bun 18 8 cardin take 1 2 game lead red 10 1 4 3 cincinnati 1 1 2 short roebuck 5 3 philli halt 10 game lose streak card lead red 1 2 game 10 2 play card lose met red tie 1st phil 1 game back 10 3 10 0 cincinnati 1 bun 19 8 card beat met take first 1 red philli whew finish final stand w l gb st loui 93 69 philadelphia 92 70 1 cincinnati 92 70 1 san francisco 90 72 3 appear philli pitcher bun short realli overus least four man rotat standard day well along 10 game lose streak time mauch probabl desper win cost philli substanti lead evapor way use time may made problem wors although bun one sharpest game year final day 10 0 shutout red cost red share pennant bun pitch complet game six hitter strike five walk one would ineterst see though total inning year bun short stack rest leagu also notic philli play everi day least septemb 1 octob 1 play substanti game team team coupl day stretch',\n",
       " 'complain cherri wonder popular repli dick vital john madden bobbi knight joe garagiola howard cosel john madden pick gari clark redskin madden team lot much better receiv much reason cherri sing prais doug gilmour littl guy heart yet one see string american post say john madden lost marbl dick vital alway promot kid high school colleg outrag statement american expect canada would charact relat greatest passion hockey canadian similar american cultur sport hockey curl wherea american footbal basketbal basebal bowl',\n",
       " 'well sinc someon probabl want know year playoff matchup left matchup would next year new align playoff matchup rule 16 team make playoff next year rule three first round matchup que mtl chi stl van win pit chi pit chi nj stl buf stl det que tor nyi tor mtl cal bos van van buf win nj win que cal bos det mtl la nyi la jim murawski sr softwar engin 412 268 2650 offic administr comput 412 268 6868 fax inform servic jjm andrew cmu edu carnegi mellon univers offic ucc 155 4910 forb avenu pittsburgh pa 15213 3890 le mieux le magnifiqu soixant six claud non',\n",
       " 'media beat incid dodger stadium wednesday death seen anyth rsb yet gerald perri cardin pinch hit eighth inning two club run stroke line drive right field corner ball clear three foot high fenc went crowd darryl race right center got spot time reach glove short fenc miss ball fan sit front row wear mitt reach caught ball home run seen replay sever time conclud darryl miss ball fan glove essenti behind darryl sever dodger fan seat immedi vicin claim fan unquestion interf strawberri cannot disput howev fan caught ball never took eye oblivi fielder play also quit exuber soon realiz made catch exuber disappear immedi howev strawberri went tirad man report indic use lot profan accus man interfer therefor cost dodger game short afterward fan hurl food beverag toward man made catch dodger stadium offici start remov park relent reloc anoth area interview game lasorda blame fan loss strawberri also went tirad fan stupid care win l time columnist similar blast man made catch dodger game public address announc make speech wherein say fan welcom souvenir ball hit stand long interfer field play fan wrong awar situat act avoid possibl interfer human react way season ticket holder request dodger reloc seat anoth area stadium futur interfer imposs other question darryl concern fan grand total 1 rbi first nine game question right center left hand pull hitter game line closer play certain would much better chanc catch ball guess big debat continu respons fan beastmast',\n",
       " 'nooooooooooooooooo mindschem behind one ted simmon say goe broke fix 230 mile home school year never abl pick dve least sort make mike steigi say static kdka may enough reason transfer duquesn live home go announc dve anyway paulson krenn kid',\n",
       " 'think primeau necessarili bad pick tri locat begin murray decis slow trade carson delay primeau develop wait longer big player often primeau good player without point game player especi team yzerman fedorov primeau becom joel otto get 20 goal season play mean extrem good pick',\n",
       " 'wonder anyon kind fenway park gif would appreci someon could send one thank advanc',\n",
       " 'say well let shell run handi dandi program mlb pit phi answer monday 5 10 pittsburg philadelphia 5 35 pm tuesday 5 11 pittsburg philadelphia 5 35 pm wednesday 5 12 pittsburg philadelphia 5 35 pm friday 6 25 philadelphia pittsburg 5 35 pm saturday 6 26 philadelphia pittsburg 5 05 pm sunday 6 27 philadelphia pittsburg 11 35 friday 7 30 pittsburg philadelphia 5 35 pm saturday 7 31 pittsburg philadelphia 5 05 pm sunday 8 1 pittsburg philadelphia 11 35 monday 9 27 philadelphia pittsburg 5 35 pm tuesday 9 28 philadelphia pittsburg 5 35 pm wednesday 9 29 philadelphia pittsburg 5 35 pm thursday 9 30 philadelphia pittsburg 5 35 pm',\n",
       " 'dalla help hawk stay moncton announc would pull affili moncton winnipeg jet chang mind jet announc move said would slash minor leagu roster 20 someth around dozen want share exist ahl ihl franchis enter dalla lone star dalla agre suppli remain 6 8 player moncton franchis thus keep hawk new brunswick citi deal one year extend three year season ticket base increas 3000 hawk sold 1400 year saint john flame offici calgari flame offici sign deal citi saint john nb saint john blue flame play 6200 exhibit center flame still appli expans frnachis ahl expect troubl cap follow jack main despit rumor contrari capit follow baltimor skipjack main cap current farm team baltimor skipjack announc would move main becom portland pirat much doubt cap would follow announc limit deal portland would suppli dozen player includ 2 goali becom third team announc limit farm team along moncton capit district island',\n",
       " 'squid keep tradit aliv kinda like fish unh game',\n",
       " 'doubt true year l east back earli eighti emerg yank far away best n l west best team basebal red bad either noth els giant astro padr talent arounf team found l east dodger plain suck rocki know l east defend champ although lost lot free agenc toronto still one best basebal oriol preseason favorit win cy young mike mussina never forget ripken sign harold bain harold reynold hurt much either although alway like bill ripken let lot go summer randi milligan joe orsulak bill ripken bob milacki sam horn storm davi craig leffert kept heart team intact predict finish 1 baltimor could bias opinion 2 ny yanke 3 toronto 4 milwauke 5 detroit 6 boston 7 cleveland would higher accid go',\n",
       " 'sever reason differ main reason good hitter prime frank thoma danni tartabul rare regular dh even field common place put age veteran anoth use dh slot help player come back injuri slowli get bat lineup without forc play field would expect player hit wors dh rest season third factor player split time dh first outfield hit well dh reason reggi jackson good exampl five year rf dh angel hit like old reggi right second third factor lost player consid primari posit player play 90 game right 60 dh count right fielder averag make sens might also look anoth way although averag offens perform dh may lower left fielder replac level offens perform certain lower left fielder hit well enough keep job anywher certain hit well enough keep job dh',\n",
       " 'heard perhap incorrect lemieux noon wore c jersey took turn captain duti whatev scott scott mark launchpad unc edu scott mark launchpad unc edu',\n",
       " 'yes goali sure hell want play roller hockey boy miss day goali would scream defens clear guy slot care creas get hell away see ball yes roller hockey rememb nobodi around clear slot push offend player hard hate peopl way goali sure felix say see incid potvin realli swung stick big time right move peopl way player ice know',\n",
       " 'final start go net see happen creat traffic muller deserv full mark player damphouss final start skate roy thankyouthankyouthankyou excel see third period save young defens take quebec player zone anybodi els wonder hextal feel like dweeb find win goal went man skate whatta suck although is play realli well sure sunday b golf hab tie 2 2 see mean',\n",
       " 'rich ozzi smith defens liabil',\n",
       " 'jet gave canuck anoth run money almost ident game first seri came short vancouv outscor winnipeg 3 2 pattern first game repeat tonight canuck score quick go sleep second period stave jet comeback opportun goal greater talent jet look danger one make differ number count goal vancouv big line produc centr cliff ron left winger geoff courtnal score first second boost canuck 2 0 lead giveaway suspect jet defenc bautin ulanov mental laps defenc goal score talent opportun area made differ three canuck goal howev first game jet work hard take game canuck second period jet domin second check hard penetr vancouv zone without challeng canuck team want pack earli hard work paid late second tie domi caught vancouv goali kirk mclean surpris sharp angl shot make score 2 1 domi goal gave jet new life began take rush canuck collaps defenc canuck unwil anyth let mclean take shot clear rebound jet allow set make play goali made standup save play pick consider mclean made three great save second danc teammu selann essensa rock pavel bure drive selann look danger rush jet press seri attack canuck zone canuck hand look like offer four check line effort preserv slim lead seri minor penalti end second period result one man advantag jet earli third jet tempo numminen drove puck point mclean leg net tie game 2 2 canuck discord play pick left character long lead pass either never connect pick jet individu rush tight winnipeg defenc never support howev first second canuck goal jet defens laps bonehead play stall winnipeg comeback faceoff winnipeg zone pavel bure left stand creas jet defend anywher near bure invis game point took rebound manag roof backhand even though balanc late jet come back essensa made bench one minut go extra attack noth attack canuck 3 winnipeg 2 next game friday winnipeg jet hole two game 30',\n",
       " 'suspect split result posit outfield fast get good jump would expect catch lot ball prevent singl doubl also cut uncatch ball turing doubl singl howev fielder play shallow catch short fli fewer long fli mean allow fewer singl doubl anyon seen player posit butler felix play deep lankford martinez wilson shallow park effect thought butler like play shallow',\n",
       " 'boxscor bewar origin poster look louisvill chanc louisvill get edit nytim print chicago midwest edit boxscor monday sunday extrem skimpi sport section game summari most color stori',\n",
       " '',\n",
       " 'hold record career strikeout play one team hold record career strikeout ranger hint nolan ryan either two pitcher 100 career save two differ team player hit 300 career home run steal 300 career base team fair peek basebal stat',\n",
       " 'oh excus wast bandwidth refer origin incid recent skirmish occur past month',\n",
       " 'rememb game 7 1988 nlcs dodger defeat met ugh dugh foo boo fat stomach tom lasorda came run field celebr yuck undul arm flew keep time roll set 9 stomach flew around cozi confin chavez ravin ooz like white gastropod ran disgust sight watch met seri watch fat stomach lasorda roll around dodger blargh like short fat men grunt curs spit lot whitey certain man former wfan host pete franklin white rat true emphasi appear ballplay tight uniform work player actual extraodinari physiqu look charli hough scrawni torso tight white shirt sort make decid hmmm want eat lunch today tomorrow anytim soon al harazin first becam met gm ask intend help redesign met uniform chang imag particular ask orang blue race stripe run side uniform said much favor keep sleek sexi sid fernandez tight fit uniform sleek race stripe denot speed potencti mmmmmmmm lard kevin mcreynold dive fli ball mmmmmmmm man war babi pat howel well never mind noth could tight make uniform size small',\n",
       " 'ah european player bash next french canadien yeah idea let french speak canadien hockey leagu want crazi nhl one true intern leagu yes are mani european deserv play nhl better north american look teemu one glad see european nhl hope nhl soon expand europ nice see differ peopl come togeth form soon 26 hockey team darryl brook univers buffalo',\n",
       " 'espn never commit never saw advertis particular thursday game origin schedul bos buf somehow leak net knowledg espn never public releas schedul monday announc pitt nj thursday boston buffalo saturday',\n",
       " 'new name florida panther panther endang speci most locat everglad coupl year ago licens plate made panther part revenu go protect fund name new presid panther announc today yesterday paper huizenga new hockey team take ice miami arena fall team guarante two year leas arena four one year option could run 1999 choic jame blosser lawyer huizenga aid said rule arena long term option nhl told us stay econom feasibl one reason miami heat basketbal team control skybox advertis revenu arena reduc hockey team profit potenti hockey team attract arena site propos broward dade palm beach counti lead site vacant land near joe robbi stadium resid 10 day ago agre drop opposit hockey arena end eight year battl will compliment news sun sentinel jim g',\n",
       " 'schedul flexibl game candid ac though prefer see texa hi toni think might abl help ranger toronto thursday juli 8th sunday juli 11th ticket hard find order far enough advanc although ticket broker telephon number hand give coupl day abl get hold coupl blue jay ticket info 416 341 1111 want order credit card call 416 341 1234 let know want ticket save possibl long distanc call els fail might abl pull string get pair let know what happen drew carley toronto canada þ deluxeý 1 25 2177 þ go away shall taunt second time',\n",
       " 'allow enlighten rex see thing call tie tie worth one point know know good math bear win worth two point get two tie get one win team play two game one lost one two point team play two game tie also two point tie stand even though record differ perhap learn someth hockey post start sound like roger',\n",
       " '',\n",
       " 'actual could care less salari someth fact live america everyon entitl whatev legal obtain sandi alderson haa famili will negoti salari 35 million per year rickey care less realli get goat bullshit spout spring train well sometim may play hard might hurt often place appreci quot chronicl second week camp strong suggest go dog year ownership kiss butt ant money god sake rickey sign contract 4 year ago honor play say want steve garvey believ hate least put signatur piec paper shut mouth play hard contract',\n",
       " 'gretzki lemieux gilmour etc play role check centreman play offens role oppos defens one use defens centr would wast offens abil compar gretzki et al jarvi gainey etc compar appl orang like tell felix potvin good team would better lemieux instead sure lemieux better player differ type player team success need type player includ defens forward compar defens forward bob gainey greatest defens forward ever player talent best suit defens forward complet domin game play mayb talent player gretzki decid wast offens talent play defens could better defens forward bob gainey best defens forward ever play hockey',\n",
       " 'think omar grand slam result new fan club last week banner appear kingdom older women omar',\n",
       " 'ok buffalo fan red wing fan amaz sabr beat bruin reason grant fuhr mogilni lafontain would like hear sinc know much sabr',\n",
       " 'curious known profession sport team whose game regular broadcast fm station one awar wysp philadelphia carri eagl game respond summar list',\n",
       " 'john girash write get wjr long way away problem well known belov contractu oblig wjr tiger basebal instead wing playoff game probabl half game wing could play seri know tonight game believ game 5 6 necessay bump ron',\n",
       " 'asham call ulf samuelson fan anybodi play way belong nhl cheap shot artist histori game lot talant player bobbi clark kenni linsemen pie mckenzi chris chelio etc nobodi right dirti cheapshot coward ulf violenc hockey got curb player like women samuelson belong player like ulf main purpos injur better player leagu allow continu leagu stop player christian pro 1000 aluminum stick direct ugli head trick nice bruin get chanc meet pittsburgh near futur bet neeli day sight watch ulf turtl like coward worth almost much stane cup wimp player almost ruin career one best right winger game remov ulf samuelson lineup penguin would even notic gone eyesor game hockey rich thank extrem lucid well thought observ get back medic pleas let us know feel thank',\n",
       " 'probabl stuck mike burger point basebal deal made far advanc nhl contract wabc thing thank devil wipe 9 30 switch yanke basebal proof reason left reader bad wonder espn stuck us local team coverag altern game got nesn coverag bruin sabr boston homer aw read derek sanderson colour analyst wonder spent earli year hockey intern pravda land job everyth twist someth good say bruin involv even bill wirtz shill sc chicago pat foley dale tallon bad fair sc use take feed esn empir sport network sabr homer horribl spaci cnn highlight hear chris cuthbert voic cbc coverag hab nord seri bad get espn due respect sabr bruin mike emrick substitut devil scni team gari thorn mike origin devil tv play play announc way gld',\n",
       " 'hm think dusseldorf fan would like team join nhl includ koln well cologn anglophil make happi',\n",
       " 'could put quebec montreal game talk bout areivalri opp rivalri roland',\n",
       " 'ahl playoff score first round home team cap game play tue 4 20 rochest 6 utica 4 fredericton cape breton seri stati plural status adirondack lead cdi 3 0 provid tie w springfield 2 2 binghamton tie w baltimor 1 1 rochest lead utica 2 1 st john lead moncton 2 0 cape breton tie w fredericton 1 1',\n",
       " 'true coach matikainen readi keep spot teemu way medal game want teppo numminen kurri spot cannot left open long esa tikkanen alreadi even without player think pretti good team young hungri talent guy old player got everyth except gold yesterday practis game swe fin 6 6 show two world best hockey team prime shape finn line riihijarvi slight injur saarikoski viitakoski shine bet two team best nhl roger roger peopl think team canada lindro brind amour burk ranford recchi dineen beat finn coach news alpo suhonen ex jet jokerit verifi bori majorov ex jokerit tappara vasili tichonov ex assat san jose shark assist coach sakari pietila lulea silver team elit serien',\n",
       " 'john franco met hard use heard complet recov sure anybodi inform franco would appreci could drop line',\n",
       " 'is problem hite post flame correct error repli flame least',\n",
       " 'agre also think roy need good kick sometim horribl 4 0 loss capit last week yeeeech cup 23 year richard j rauser idea rauser sfu ca oh worri profession wni outlaw live',\n",
       " 'pali footbal basebal detroit saturday look school peopl may think footbal two game week tiger score 40 run offens carri hope pitch hold camden yard yesterday everytim look score get higher great site see tiger kick butt enjoy game camden yard go tiger go toni phillip',\n",
       " 'american studi histori french settl north america earli british lemieux probabl trace back north american heritag back lot us',\n",
       " 'well want shorter game per se would like stop wast much time game gant incid perfect exampl guy come plate hit show show umpir clear gant feel like write fan letter hirschbeck mike jone aix high end develop mjone donald aix kingston ibm com',\n",
       " 'applaud sabr make deal get fuhr specif thought would help win least one playoff seri howev think leaf fault either noth say felix win playoff seri year come anyway anybodi els find iron fuhr moog least guy name alex show',\n",
       " 'foolish thought someth fact hit wakefield kncukl ball day otto stuff wonder reggi gave pep talk instruct rest lineup also sudden came aliv two game beastmast',\n",
       " 'judgement call part scorer sac fli rbi situat brought question red sox bottom 9th score 5 1 marin base load 1 batter hit fli center fielder catch runner third tag score without throw without judgement call think one rbi batter seem better name would defens indiffer sinc realli matter whether guy third score point know think sever marin stole third second open base would allow batter hit grounder third baseman get deep hole third play home third second mayb therefor make throw first get last etc scenario realli matter guy score way 4 tie run go score guy third point batter imo get credit rbi utter fail job point get hit walk trade one run guy think',\n",
       " 'perform plate may well shoulder injuri receiv ran wall make catch cinci seri may also press littl baserun appear lankford dent made bad call send lankford sunday night game cinci everyon bad time dodger catcher good question least appear see zeil',\n",
       " 'updat goali mask poll first sinc mani peopl gave 3 best decid give 3 pts favorit 2 pts 2nd 1 3rd e mail respons one gave 3 pts pleas feel free send 2 favorit sent one also vote still welcom mask like receiv vote player nhl pleas mention team play though date result far player team pts vote 1 ed belfour chicago 8 4 andi moog boston 8 3 3 curti joseph st loui 5 2 4 brian hayward san jose 4 2 5 grant fuhr buffalo 3 1 ron hextal quebec 3 1 7 clint malarchuk buffalo 2 1 manon rheaum atlanta ihl 2 1 9 john casey minnesota 1 1 rick wamsley toronto retir 1 1 thank vote keep em come',\n",
       " 'summari cherri coach corner april 18 1993 took place first intermiss game 1 montreal quebec seri pre game comment pregam comment most aim goali goali get back star form roy hextal win seri team eposod summari episod took place rinksid hold hot dog bought concess stand ron maclean start show cartoon appear toronto sun featur pictur saw shadow proclaim look dat eh mean anoth 6 week beauti next talk hot dog hold accord hot dog quebec stadium best food arena nhl comment quebec montreal game game great flow refere paul stewart call best game nhl contrast calgari la game terribl stop go 50 minut penalti call calgari dan marouelli get ref call penalti get ref final next ron show old pictur play rochest american ahl recal win quebec arena memori cup ahl championship final ron discuss keenan becom coach ranger ranger talent team underachiev feel sorri temporari coach ron smith sever key injuri leetch patrick goali went cold critic ranger team parti adolf keenan ranger organ longer countri club ny acham go tank adolf hang yardarm thumb rate noth special episod give 5 5 10 allan sullivan allan cs ualberta ca depart comput scienc univers alberta edmonton alberta canada opinion mine mine alon amaz much accomplish one care get credit u golden bear hockey motto c drake',\n",
       " 'mani team nhl taken like russian player whole russian strategi specif detroit devellano gm murray previous gm also trade away sever player gone well team notabl memori murray craven good year philli leav also volum trade necessarili improv team qualiti trade adam oat berni federko plain stupid even federko use great player one time murray trade work signific wing advantag sour main injuri player involv troy crowder suffer back problem never realli recov put scotti bowman pat burn better coach leagu behind bench detroit team could beat anybodi',\n",
       " 'subject line say thank advanc pleas email chuck cygnus eid anl gov go cub',\n",
       " 'fine will bet bat 400 rest way point hurt rocki far hurt eventu much hurt expo cardin past coupl season happen past 3 season see come septemb outstand bet someon galarraga obp less 300 june 1',\n",
       " '',\n",
       " 'realli crap know half crap understand expens play hockey south border actual cheap hear either though equip 300 year actual play 8 year could bit state ice time consider expens cost thousand year compar basebal see hockey sport well bring fact well us major white btw origin question think hispan communtiy play hockey cheer',\n",
       " 'know fuck idea anybodi prefer alomar baerga must jay lover indian hater sorri got one wrong hate jay care one way indian object alomar better offens year last year pick admit p reliabl object sourc note rate alomar better offens player chose baerga alomar defens joke alomar might gold glover certain wors baerga defens',\n",
       " 'guy threw 240 inning 6 run lower era would save bullpen even say somebodi like frank viola 238 inning nice audit tape send basebal tonight attn ray knight espn bristol ct chanc taken look boxscor last year determin accuraci account seem recal morri get least 3 4 win last year jay came back behind decid pull morri end inning mike jone aix high end develop mjone donald aix kingston ibm com',\n",
       " 'seen anyon post honor main beat lssu 5 4 milwauke saturday night quit game main storm 2 0 lead first look like might run away main first goal came insid first thirti second game lssu came back end period cut lead 2 1 lssu came second domin play particular along board play went quick ref run hold bar type game lssu score three unansw goal lead 4 2 end second look like lssu might walk away game coach walsh main replac start goali dunham snow game michigan snow prove much aggress goali third period like second belong team behind main score three unansw goal span five minut four minut mark score jim montgomeri tournament mvp assist paul kariya last minut game bear highlight chang snow also prove differ end one minut go lssu goali pull snow duel lssu forward amaz set move snow great way end game year three championship game sold last year one month bradley center hold approxim 17 700',\n",
       " 'think murray done great job pick ciccarelli sheppard ysebaert howe coffey riendeau plus depth player without give anyth wing need top prospect three year anyon done better year took wing even make playoff year half demer stint wing ok due demer motav skill clutch grab style much talent gerald murray respons primeau although readi admit horribl pick hire draft never made sens first pick lapoint ron',\n",
       " 'last night shark broadcast commission bettman interview first intermiss made bone expans 28 perman hold satisfi current allot 26 fulli stabl mean citi look club forese futur wait one team locat fail look reloc good imo sens expand mean fail franchis mold',\n",
       " 'let confus anybodi winnipeg jet never stanley cup even come close stanley cup championship go back long way turn centuri winnipeg victoria one cup jet win think anyth irrelev argu playoff seri go today stanley cup around turn centuri let face fact canuck lead seri 3 1 canuck domin jet season seri canuck better regular season winnipeg better team think fact show vancouv better winnipeg',\n",
       " 'two year ago mark messier appear david letterman summer sign wit h ranger rememb mike gartner take slapshot camera one final bullsey screen went blank funni saw guess',\n",
       " 'cardin poor without open sabermetr flame war would like question notion sit rest player real effect long term perform sure man tire need real rest take break might construct act perhap man mental strain sit might help extent help relax would like suggest long run player slump bench probabl irrelev',\n",
       " '',\n",
       " 'could someon send pecota stat last year someth give sort feel kind player mind handl bother pecota brave pretti meaning even come first name think',\n",
       " 'tampa bay 1 1 0 2 philadelphia 3 2 1 6 first period 1 philadelphia carkner 3 unassist 1 24 2 philadelphia hawgood 9 recchi lindro pp 5 56 3 philadelphia lindro 37 recchi hawgood pp 9 52 4 tampa bay beer 12 zamun chamber pp 15 06 second period 5 tampa bay andersson 13 hamrlik lafrenier pp 1 58 6 philadelphia conroy 3 butsayev faust 12 10 7 philadelphia beranek 13 galley hawgood pp 18 53 third period 8 philadelphia recchi 51 brind amour galley pp 17 56 philadelphia 6 power play 5 4 scorer g pts beranek 1 0 1 brind amour 0 1 1 butsayev 0 1 1 carkner 1 0 1 conroy 1 0 1 faust 0 1 1 galley 0 2 2 hawgood 1 2 3 lindro 1 1 2 recchi 1 2 3 tampa bay 2 power play 7 2 scorer g pts andersson 1 0 1 beer 1 0 1 chamber 0 1 1 hamrlik 0 1 1 lafrenier 0 1 1 zamun 0 1 1 vancouv 1 0 0 1 detroit 2 2 1 5 first period 1 detroit kozlov 4 fedorov chiasson 5 20 2 detroit drake 17 ciccarelli coffey pp 7 48 3 vancouv ron 24 slegr bure pp 17 35 second period 4 detroit sheppard 30 drake hiller 6 54 5 detroit ciccarelli 38 chiasson drake pp 12 13 third period 6 detroit ysebaert 31 fedorov chevelda sh 4 59 detroit 5 power play 5 2 special goal pp 2 sh 1 total 3 scorer g pts chevelda 0 1 1 chiasson 0 2 2 ciccarelli 1 1 2 coffey 0 1 1 drake 1 2 3 fedorov 0 2 2 hiller 0 1 1 kozlov 1 0 1 sheppard 1 0 1 ysebaert 1 0 1 vancouv 1 power play 6 1 scorer g pts bure 0 1 1 ron 1 0 1 slegr 0 1 1 buffalo 1 1 0 2 boston 1 1 1 3 first period 1 buffalo audett 12 corkum wood 16 40 2 boston juneau 30 neeli oat 18 39 second period 3 buffalo errey 9 lafontain khmylev 10 51 4 boston douri 3 sweeney bourqu 17 57 third period 5 boston donato 12 unassist 17 42 boston 3 power play 4 0 scorer g pts bourqu 0 1 1 donato 1 0 1 douri 1 0 1 juneau 1 0 1 neeli 0 1 1 oat 0 1 1 sweeney 0 1 1 buffalo 2 power play 5 0 scorer g pts audett 1 0 1 corkum 0 1 1 errey 1 0 1 khmylev 0 1 1 lafontain 0 1 1 wood 0 1 1 calgari 1 1 0 1 3 san jose 0 2 0 0 2 first period 1 calgari suter 21 reichel macinni pp 17 47 second period 2 san jose zmolek 5 odger evason 3 03 3 san jose kisio 24 garpenlov gaudreau pp 7 23 4 calgari lindberg 9 macinni pp 12 43 third period score overtim 5 calgari fleuri 31 otto yawney 3 06 calgari 3 power play 8 2 scorer g pts fleuri 1 0 1 lindberg 1 0 1 macinni 0 2 2 otto 0 1 1 reichel 0 1 1 suter 1 0 1 yawney 0 1 1 san jose 2 power play 9 1 scorer g pts evason 0 1 1 garpenlov 0 1 1 gaudreau 0 1 1 kisio 1 0 1 odger 0 1 1 zmolek 1 0 1 pittsburgh 0 3 2 5 quebec 2 1 0 3 first period 1 quebec kamenski 15 huffman 6 05 2 quebec young 27 lapoint huffman 16 52 second period 3 pittsburgh mullen 29 lemieux murphi 3 54 4 pittsburgh lemieux 60 tocchet u samuelsson 5 07 5 pittsburgh lemieux 61 tocchet steven 8 12 6 quebec young 28 sundin kovalenko pp 14 52 third period 7 pittsburgh tippett 4 unassist sh 3 52 8 pittsburgh tippett 5 mceachern mullen 8 25 pittsburgh 5 power play 1 0 special goal sh 1 total 1 scorer g pts lemieux 2 1 3 mceachern 0 1 1 mullen 1 1 2 murphi 0 1 1 samuelsson u 0 1 1 steven 0 1 1 tippett 2 0 2 tocchet 0 2 2 quebec 3 power play 4 1 scorer g pts huffman 0 2 2 kamenski 1 0 1 kovalenko 0 1 1 lapoint 0 1 1 sundin 0 1 1 young 2 0 2 new jersey 0 0 0 0 toronto 0 0 1 1 first period score second period score third period 1 toronto gilmour 32 andreychuk anderson 16 22 toronto 1 power play 5 0 scorer g pts anderson 0 1 1 andreychuk 0 1 1 gilmour 1 0 1 new jersey 0 power play 3 0 score ottawa 1 0 2 3 hartford 5 1 1 7 first period 1 ottawa maciv 17 baker luongo 4 22 2 hartford kron 11 nyland gosselin 5 13 3 hartford burt 4 cassel verbeek 7 59 4 hartford cunneyworth 4 yake nyland 9 59 5 hartford sanderson 42 cassel houda 11 11 6 hartford verbeek 35 cassel zalapski pp 15 50 second period 7 hartford sanderson 43 cassel zalapski pp 18 38 third period 8 hartford kron 12 poulin burt 4 57 9 ottawa turgeon 23 lamb 8 57 10 ottawa baker 17 luongo maciv pp 16 17 hartford 7 power play 3 2 scorer g pts burt 1 1 2 cassel 0 4 4 cunneyworth 1 0 1 gosselin 0 1 1 houda 0 1 1 kron 2 0 2 nyland 0 2 2 poulin 0 1 1 sanderson 2 0 2 verbeek 1 1 2 yake 0 1 1 zalapski 0 2 2 ottawa 3 power play 7 1 scorer g pts baker 1 1 2 lamb 0 1 1 luongo 0 2 2 maciv 1 1 2 turgeon 1 0 1 winnipeg 1 3 2 6 edmonton 1 0 3 4 first period 1 winnipeg tkachuk 27 housley zhamnov pp 14 38 2 edmonton klima 31 ciger elik 16 05 second period 3 winnipeg king 8 unassist 3 54 4 winnipeg zhamnov 21 selann 10 25 5 winnipeg domi 5 selann housley 18 44 third period 6 edmonton manson 15 unassist 10 58 7 winnipeg eagl 8 numminen bautin pp 14 13 8 winnipeg zhamnov 22 ulanov selann 15 27 9 edmonton gelina 8 kravchuk ranford 16 48 10 edmonton kravchuk 10 buchberg 18 42 winnipeg 6 power play 5 2 scorer g pts bautin 0 1 1 domi 1 0 1 eagl 1 0 1 housley 0 2 2 king 1 0 1 numminen 0 1 1 selann 0 3 3 tkachuk 1 0 1 ulanov 0 1 1 zhamnov 2 1 3 edmonton 4 power play 3 0 scorer g pts buchberg 0 1 1 ciger 0 1 1 elik 0 1 1 gelina 1 0 1 klima 1 0 1 kravchuk 1 1 2 manson 1 0 1 ranford 0 1 1 chicago 0 3 0 0 3 st loui 1 2 0 0 3 first period 1 st loui shanahan 46 janney hull pp 4 09 second period 2 chicago murphi 4 chelio roenick pp 0 50 3 st loui shanahan 47 hedican janney 1 18 4 chicago noonan 16 murphi chelio pp 5 24 5 st loui bozon 6 ps 12 13 6 chicago roenick 43 sutter murphi pp 18 39 third period score overtim score st loui 3 power play 4 1 special goal pp 1 ps 1 total 2 scorer g pts bozon 1 0 1 chelio 0 1 1 hedican 0 1 1 hull 0 1 1 janney 0 2 2 murphi 0 1 1 shanahan 2 0 2 chicago 3 power play 3 3 scorer g pts chelio 0 2 2 murphi 1 2 3 noonan 1 0 1 roenick 1 1 2 sutter 0 1 1 montreal 0 1 2 3 ny island 0 2 0 2 first period score second period 1 montreal brunet 10 carbonneau daigneault 4 39 2 ny island turgeon 51 thoma kurver pp 9 14 3 ny island mullen 16 unassist 15 13 third period 4 montreal bellow 38 desjardin dipietro 3 01 5 montreal damphouss 38 desjardin bellow pp 10 11 montreal 3 power play 5 1 scorer g pts bellow 1 1 2 brunet 1 0 1 carbonneau 0 1 1 daigneault 0 1 1 damphouss 1 0 1 desjardin 0 2 2 dipietro 0 1 1 ny island 2 power play 5 1 scorer g pts kurver 0 1 1 mullen 1 0 1 thoma 0 1 1 turgeon 1 0 1 minnesota 2 1 0 3 los angel 0 0 0 0 first period 1 minnesota dahlen 33 unassist 2 34 2 minnesota courtnal 33 dahlen modano pp 9 30 second period 3 minnesota mcphee 14 sjodin hatcher pp 7 24 third period score minnesota 3 power play 11 2 scorer g pts courtnal 1 0 1 dahlen 1 1 2 hatcher 0 1 1 mcphee 1 0 1 modano 0 1 1 sjodin 0 1 1',\n",
       " 'disclaim fun computer basebal game keep track categori call stolen hit defin play made averag fielder would make averag effort use 1992 defens averag post sherri nichol thank sherri figur defens stat second basemen hit stolen redefin play kurt stillwel would made ok realiz unfair kurt probabl victim pitch staff fluke shot monster park factor let put way replac everi second baseman nl someon kurt 57 6 make abil mani extra hit would go tri correl realiti littl calcul net hit stolen base number out made compar leagu averag fielder would make method calcul net doubl play net extra base doubl tripl let final throw formula call defens contribut dcon basic repres defens contribut player add number op get dop defens onbas plus slug repres player total contribut team take serious formula dcon appear end articl short version definit term hs hit stolen extra out compar kurt stillwel nhs net hit stolen extra out compar averag fielder ndp net doubl play extra doubl play turn compar avg fielder neb net extra base extra base prevent compar avg fielder dcon defens contribut base hit prevent rate dop dcon op quick dirti measur player total contribut nation leagu name hs nhs ndp neb dcon dop alicea l 50 21 2 1 160 865 sandberg r 108 42 1 1 134 1 015 thompson r 65 20 5 1 104 852 lind j 66 8 2 1 027 571 doran b 31 1 4 0 014 705 deshield 51 1 2 1 002 755 harri l 25 4 0 1 019 602 lemk 43 1 5 5 038 573 morandini 37 9 6 0 069 580 randolph w 13 16 3 1 088 582 biggio c 34 26 4 0 091 656 stillwel k 0 43 3 1 236 336 order dop 1 015 sandberg 865 alicea 852 thompson 755 deshield 705 doran 678 nl averag 656 biggio 602 harri 582 randolph 580 morandini 573 lemk 571 lind 336 stillwel american leagu name hs nhs ndp neb dcon dop fletcher 59 18 5 1 116 811 reed j 83 17 3 1 071 708 ripken b 56 9 1 1 044 631 baerga c 67 0 10 0 029 838 blankenship l 34 2 2 1 023 757 miller k 34 4 1 1 016 725 alomar r 62 4 9 2 020 812 knoblauch c 50 13 7 3 024 718 bordick 37 4 2 1 025 704 kelli p 42 1 5 1 039 636 whitak l 40 8 1 2 041 806 reynold h 47 6 5 1 043 603 sax 56 6 9 1 052 555 sojo l 28 11 3 0 075 602 order dop 838 baerga 812 alomar 811 fletcher 806 whitak 757 blankenship 725 miller 718 knoblauch 708 reed 704 bordick 691 al averag 636 kelli 631 ripken 603 reynold 602 sojo 555 sax discuss dcon formula nhs ndp pa nhs ndp neb ab bizzar formula basic design ad op idea run prevent import run score extra out factor obp extra base remov factor slg use pa ab divisor discuss see post hit stolen first base 1992 dale j stephenson steph cs uiuc edu basebal fanat',\n",
       " 'etc hey manag far lead seattl marin win season fifteen give credit dave machman machman u washington edu david c carrol c oo big scienc hallelujah',\n",
       " 'littl someth found read villag voic note sport coverag occasion print interest featur year predict team analys 1993 season present form bob dylan lyric articl front give memor one rememb know melodi could dig interest yankess tune subterranean homesick blue howe basement mix medicin georg pavement think bout govern wade bogg trench coat bat paid say got bad back want get laid look kid somethin know columbus met tune like roll stone upon time play fine threw away dykstra prime peopl said bewar cone bound roam thought kid use laugh strawberri headin talk loud seem proud shop vinc coleman next deal philli tune highway 61 well daulton dykstra fun keep highway 61 giant tune ballad rubin hurrican carter stori magowan man st petersburg came pan someth never done sit owner box one day could tampian world bill moakler lpo 10280 rutger anim moakler remus rutger edu po box 5064 atlant anim allianc 908 932 3465 new brunswick nj 08903 chibi con 93',\n",
       " 'mayb basebal busi respons fiscal aspect game preach gloom doom alleg intellig peopl seem predict bad time lose money bankruptci alarm rate go increas degrad product produc could imagin ibm problem promot way major leagu basebal stock would plummet unthink depth far would happen gm would gm admit cut corner produc inferior product alleg labor problem think show lack confid peopl run game forget word three divis wild card done deal decid soon sinc negoti network also begin soon',\n",
       " '',\n",
       " 'year game scni game sca game espn ranger crash burn would game msg complain seem recal last year everyon complain sc coverag even rememb oriol game shown dc area instead hockey sc fail show conclus game featur game sound familiar year get twice coverag see cap game plus game espn show think great hockey back espn imho great job especi consid basebal contract work around',\n",
       " 'anyon idea get japanes leagu stat regular us matt wall cc swarthmor edu matt wall wall cc swarthmor edu hey gotta job ok',\n",
       " 'netnew upenn edu newsserv jvnc net howland reston an net usc news se ervic uci edu network ucsd edu btree terri name lindro captain next year recchi geoff',\n",
       " 'alway true fact case doug gilmour actual prais european thing scum cherri opinion canadian kid tough like real canadian ulf samuelsson cheap shot mark messier rib want ulf head doug gilmour break toma sandstrom arm say sandstrom come methink either confus bigot like latter use like cherri thought great start see true color redneck see think asshol',\n",
       " 'heard minut ago koa radio denver nolan ryan arthroscop knee miss 2 5 week rocki nie lead met gooden 4 0 7th run first inning',\n",
       " 'fine never said murray bad gm mere said best gm hockey even contend honor murray great claim wing would stanley cup probabl great gm claim poor coach claim would intellig enough hire coach push team next level success murray averag unspectacular nhl coach pretti good gm none true anyway',\n",
       " 'actual simpli relay reason call genius bw writer agre reason foolish next time say someth foolish awar respond',\n",
       " 'lake state main final pleas post',\n",
       " 'expect get top qualiti tough view makarov player would add tough nelson confus skill tough hey get mcgill hammond thing fan either point last year shark tough miss year year skill skill player keep get beat injur much good whether cheap shot let team push around 1992 93 shark simpli got push around much team knew knew could aggress check shark pay ad player season add tough team help insur next season team hesist vigor check skill player take cheap shot guarante injuri noth someth shark reduc number injuri mark say',\n",
       " 'well thank everyon enter far least 40 entri hope peopl enter deadlin 7 30 pm today sunday april 18 1993 interest fair sinc win anyway feel right actual tell everyon pick cri rig declar winner seri pick game divis semifin pittsburgh new jersey pittsburgh 5 washington ny island ny island 6 boston buffalo boston 5 quebec montreal quebec 7 chicago st loui chicago 4 detroit toronto detroit 6 vancouv winnipeg winnipeg 7 calgari los angel calgari 7 divis final patrick pittsburgh 6 adam quebec 7 norri chicago 7 smyth calgari confer final wale pittsburgh 5 campbel chicago 4 stanley cup winner pittsburgh 6 keith keller let go ranger let go quaker kkeller mail sas upenn edu ivi leagu champ',\n",
       " 'shark season came close tonight start seri post tri revisit player trade move etc went shark past season uninterest sinc word shark review subject head post kill first tri evalu player rate cours subject bias hope tri object possibl evalut player finish season shark play anoth nhl team season thus let go goaltend 1 brian hayward season 11th acquir 91 92 minnesota dispers draft grade p sad career come dim end career featur share three jen trophi patrick roy 87 88 89 would inde unfair anyth give pass grade skip letter grade simpli aw ice year save bright spot two even healthi would 3rd string goali hayward classi individu also figur shark first ever victori 3rd game season last year calgari flame retir fan rememb good guy 30 jeff hackett season 3rd acquir 91 92 n island expans draft grade c hackett deserv win team mvp honor last season simpli wast year good spot 57 save los angel almost shutout tampa bay etc hackett finish 85 6 save percentag 5 28 gaa watch status go team 1 goali bench decor end season expect earli carri team along instead appar becam frustrat earli injuri forc miss 12 game may contribut factor upon return simpli task may return next year 31 wade flaherti season 1st still elig rooki acquir 91 92 sign undraft free agent grade pretti hard evalu goaltend one game alon thus incomplet grade yet one start get calgari flame flaherti noth sharp least two period start season poor kansa citi finish strong prompt blade owner ron parker comment candid ihl mvp honor upcom ihl playoff would major challeng tri make nhl last year capabl backup artur irb throughout season turner cup playoff pick star honor along irb time show share job irb next year prospect dan ryder trevor robin scott cashman come along make next year may ever 32 artur irb season 1st acquir 91 92 minnesota dispers draft grade b may yet over critic irb year clear establish bona fide nhl goaltend perhap bona fide 1 goaltend provid littl highlight footag shark team get team first ever shut los angel king decemb 26 fearless net aggress play puck make pass remind peopl young ron hextal except cours goonism yet still need develop consist hard bad defens front shark challeng playoff spot next season irb key demonstr name star game 13 time 32 start',\n",
       " 'nesn own right bruin telecast suspect nesn go sell one telecast espn rememb espn own exclus right final entir playoff sinc espn bought sca contract less wrangl unti show devil penguin think broadcast right factor come plus way fit western game time current schedul unless nhl will make western club move game think nhl got much could shuffl deck abc exact coverag last week pit nj game 4 east chi stl central la cgi mountain west',\n",
       " 'matt problem realli abil attitud got mind want swing away rather still total sucker curv ball look 1990 get better still weak point whether good bond behind net stat maven probabl tell reason think might self fulfil propheci whether giant lineup optim know bat bond team best hitter fifth seem odd 1 2 hitter exact messr oba give much although clark overal offens forc bond seem better suit 3 spot assum cours start hit one day',\n",
       " 'jason lee ask must heard wrong arm still sore gone dl may managmenet treat day day situat doctor thought readi throw colorado arm strain throw everi day quit readi pitch full strength yet base interview gave wfan ny radio thursday 4 23',\n",
       " 'philli finish third 2 year ago philli oppon hit much better',\n",
       " 'mlb perfect will take player cuba defect first sort like situat use russian czech etc hockey player polit situat countri chang',\n",
       " 'laugh laugh equal public jay finish third due sever deplet talent think bill jame put best sparki anderson abstract 1983 million guy countri great attitud five hundr play major leagu brand basebal go take',\n",
       " 'well mayb bank 24 year old prospect matur quick would like mahom 22 year old high tout tapani erickson also young look good spring last spot jim deshai former houston mike trombley deshai look good spring believ spot gone trombley although want 3 starter unproven person believ high mahom trombley well scott leius shortstop play most 3b last year ss minor move back gagn left k c 3b split mayb pagliarulo great spring terri jorgenson good look kid languish portland 3 year sure time divid seem happi like jorgenson fear might give much time pag sorri help',\n",
       " 'usa today ftp site could someon pleas post newsgroup everyon stop post send articl sure mani peopl would like know post net rather mail hundr peopl thought thank ryan robin',\n",
       " 'help stuck comput new jersey access radio tv could someon kind post score canuck jet game thank advanc',\n",
       " 'come period get take exampl mark mcgwire walk 90 time 1993 potenti great exampl talk know let look happen mcgwire walk 75 time made 10 time hit singl 5 time hit doubl 10 time hit homer pitch mcgwire would trade 20 walk 2 homer 1 doubl 2 singl 15 out would give base get 3 time 4 guy like alex cole career 363 obp even though never bat averag 300 hit 300 227 ab 1990 hit singl home run yep right never hit homer 916 ab end 1992 afraid throw strike mike jone aix high end develop mjone donald aix kingston ibm com',\n",
       " 'could anyon recommend mail order distributor hockey equip thank advanc wayn',\n",
       " '1992 93 los angel king schedul result tv 2 preseason game 82 84 regular season playoff tv pt prime ticket 5 ktla channel 5 7 abc channel 7 playoff radio regular preseason game broadcast king radio network southern california xtra 690am flagship simi valley kwnk 670am ankorag alaska kbyr 700am el centro kamp 1430am fairbank alaska kiak 970am hemet temecula khsj 1320am lancast palmdal kavl 610am palm desert knwz 1270am paso robl kprl 1230am reno nevada kpli 1270am sacramento ksac 1240am san lui obispo kkal 1280am santa clarita kbet 1220am las vega nevada keno 1460am preseason septemb octob 18 la 3 vs van 3 vancouv 12 357 0 0 1 1 pt 20 la 5 vs pit 2 portland 6 124 1 0 1 3 pts pt 23 la 3 vs pit 3 tacoma 1 0 2 4 pts 24 la 2 vs nyr 7 san diego 8 099 1 1 2 4 pts pt 26 la 2 vs nyr 6 phoenix 8 977 1 2 2 4 pts 27 la 4 vs sj 2 sacramento 7 950 2 2 2 6 pts 30 la 2 vs van 5 forum 10 250 2 3 2 6 pts 03 la 8 vs sj 8 forum 12 005 3 3 2 8 pts total 29 36 regular season octob 06 la 5 calgari 4 ot 19 461 1 0 0 2 pts pt 08 la 3 vs detroit 5 16 005 1 1 0 2 pts pt 10 la 6 vs winnipeg 3 14 509 2 1 0 4 pts pt 13 la 2 vs san jose 1 14 320 3 1 0 6 pts pt 15 la 4 vs calgari 0 15 133 4 1 0 8 pts pt 17 la 8 vs boston 6 16 005 5 1 0 10 pts pt 20 la 2 calgari 6 19 169 5 2 0 10 pts 5 23 la 2 winnipeg 4 12 924 5 3 0 10 pts pt 24 la 5 minnesota 5 15 174 5 3 1 11 pts 5 27 la 4 ny island 3 10 259 6 3 1 13 pts pt 29 la 3 boston 8 14 448 6 4 1 13 pts pt 31 la 7 hartford 1 9 244 7 4 1 15 pts 5 oct 51 46 7 4 1 15 pts novemb 05 la 5 vs new jersey 2 14 592 8 4 1 17 pts pt 07 la 5 vs buffalo 2 16 005 9 4 1 19 pts pt 08 la 11 san jose 4 11 089 10 4 1 21 pts tv 10 la 4 winnipeg 4 12 831 10 4 2 22 pts pt 12 la 7 vs vancouv 4 15 486 11 4 2 24 pts pt 14 la 6 vs edmonton 2 16 005 12 4 2 26 pts pt 16 la 3 vancouv 6 15 896 12 5 2 26 pts pt 17 la 0 san jose 6 11 089 12 6 2 26 pts pt 19 la 4 vs chicago 1 16 005 13 6 2 28 pts pt 21 la 6 vs toronto 4 16 005 14 6 2 30 pts pt 25 la 3 edmonton 1 13 636 15 6 2 32 pts tv 27 la 5 detroit 3 19 875 16 6 2 34 pts pt 28 la 2 toronto 3 15 720 16 7 2 34 pts pt nov 61 42 9 3 1 19 pts year 112 88 decemb 01 la 6 chicago 3 16 292 17 7 2 36 pts milwauke pt 03 la 5 vs pittsburgh 3 16 005 18 7 2 38 pts pt 05 la 7 vs hartford 3 16 005 19 7 2 40 pts pt 08 la 5 vs montreal 5 12 276 19 7 3 41 pts phoenix pt 10 la 4 vs quebec 5 15 221 19 8 3 41 pts pt 12 la 6 vs st loui 3 16 005 20 8 3 43 pts pt 15 la 2 vs tampa bay 3 15 753 20 9 3 43 pts pt 18 la 5 edmonton 5 15 257 20 9 4 44 pts 5 19 la 3 calgari 5 20 214 20 10 4 44 pts pt 22 la 2 vs vancouv 6 16 005 20 11 4 44 pts pt 26 la 2 san jose 7 11 089 20 12 4 44 pts 5 29 la 2 vs philadelphia 10 16 005 20 13 4 44 pts pt 31 la 0 vancouv 4 16 150 20 14 4 44 pts pt dec 49 62 4 7 2 10 pts year 161 150 januari 02 la 5 vs montreal 5 16 005 20 14 5 45 pts pt 06 la 3 vs tampa bay 6 16 005 20 15 5 45 pts pt 08 la 3 winnipeg 6 14 036 20 16 5 45 pts 5 10 la 5 chicago 4 17 705 21 16 5 47 pts 5 12 la 3 ottawa 2 10 500 22 16 5 49 pts pt 14 la 1 new jersey 7 13 586 22 17 5 49 pts pt 16 la 2 vs winnipeg 5 16 005 22 18 5 49 pts pt 19 la 5 edmonton 4 16 686 23 18 5 51 pts pt 21 la 4 vs vancouv 5 16 005 23 19 5 51 pts pt 23 la 3 vs ny ranger 8 16 005 23 20 5 51 pts pt 26 la 7 vs san jose 1 16 005 24 20 5 53 pts pt 28 la 1 vs calgari 2 16 005 24 21 5 53 pts pt 30 la 2 vs chicago 2 16 005 24 21 6 54 pts pt jan 44 57 4 7 2 10 pts year 205 207 februari 02 la 2 quebec 3 14 843 24 22 6 54 pts pt 03 la 2 montreal 7 17 164 24 23 6 54 pts pt 09 la 3 vs edmonton 6 16 005 24 24 6 54 pts pt 11 la 6 vs detroit 6 16 005 24 24 7 55 pts pt 13 la 3 vs washington 10 16 005 24 25 7 55 pts pt 15 la 3 vs vancouv 0 16 005 25 25 7 57 pts pt 17 la 10 minnesota 5 14 911 26 25 7 59 pts pt 18 la 2 chicago 7 17 597 26 26 7 59 pts pt 20 la 3 washington 7 17 812 26 27 7 59 pts pt 22 la 5 tampa bay 2 10 425 27 27 7 61 pts pt 25 la 0 st loui 3 13 473 27 28 7 61 pts pt 27 la 2 vs toronto 5 16 005 27 29 7 61 pts pt feb 41 61 3 8 1 7 pts year 246 268 march 02 la 6 vs calgari 2 16 005 28 29 7 63 pts pt 04 la 8 vs ottawa 6 16 005 29 29 7 65 pts pt 06 la 6 vs edmonton 1 16 005 30 29 7 67 pts pt 09 la 3 ny ranger 4 18 200 30 30 7 67 pts pt 11 la 3 pittsburgh 4 16 164 30 31 7 67 pts pt 13 philadelphia postpon 1 period 1 1 due weather resch 4 1 14 buffalo postpon due weather reschedul 3 15 15 la 4 buffalo 2 13 799 31 31 7 69 pts pt 16 la 8 vs winnipeg 4 16 005 32 31 7 71 pts pt 18 la 7 vs ny island 4 16 005 33 31 7 73 pts pt 20 la 3 vs st loui 2 16 005 34 31 7 75 pts pt 24 la 2 vancouv 6 16 150 34 32 7 75 pts 5 26 la 4 edmonton 1 17 503 35 32 7 77 pts 5 28 la 3 winnipeg 3 15 566 35 32 8 78 pts pt 29 la 9 detroit 3 19 875 36 32 8 80 pts 5 31 la 5 toronto 5 15 720 36 32 9 81 pts pt mar 71 47 9 3 2 20 pts year 317 315 april 01 la 3 philadelphia 1 17 380 37 32 9 83 pts pt reschedul 03 la 0 vs minnesota 3 16 005 37 33 9 83 pts pt 06 la 3 vs calgari 3 16 005 37 33 10 84 pts pt 08 la 2 vs san jose 1 16 005 38 33 10 86 pts pt 10 la 3 san jose 2 ot 11 089 39 33 10 88 pts pt 13 la 4 vancouv 7 16 150 39 34 10 88 pts pt 15 la 6 vs vancouv 8 16 005 39 35 10 88 pts pt apr 21 25 3 3 1 7 pts year 338 340 39 35 10 88 pts 3rd smyth 11th overal playoff april 18 calgari 12 00 noon 7 21 calgari 6 30 pm pt 23 vs calgari 7 30 pm pt 25 vs calgari 12 00 noon 7 27 calgari 6 30 pm pt 29 vs calgari 7 30 pm pt may 01 calgari 6 30 pm pt time list pacif time necessari may shown abc televis prime ticket time 7 30 pm stan willi willi empir dnet hac com net contact l king',\n",
       " 'suppos foul ball machin like brett butler pretti valuabl rather watch root lower obp guy actual hit ball rather watch root team score lot run win game cours root rocki andr anyway irrat hometown reaon also root frank thoma',\n",
       " 'patrick roy reason game lost ron hextal reason quebec everybodi said would come goaltend goaltend key etc etc well key quit fit montreal dionn penalti kind cheesi call let face liter left feet throw elbow blame stewart excus avoid face fact roy allow one worst goal could possibl allow even saw whole shot dammit besid stewart even thing bit call quebec penalti ot montreal play solid game although still know clear traffic front net loss schneider hurt even normal would say team blow 2 goal lead less five let alon two minut go regul time playoff game especi need smack upsid collect head think team loss although kean abl clear zone prior first quebec goal roy paid big money play look like player industri leagu sakic shot demer start racicot next game let damn team read paper next day two mayb articl possibl think wrap around bad second goal also think scott young gotten around defend rememb first place correct gone regardless yep moog look bad mogilni goal five second left second imo neeli though holi shit player speak great player man oh man quebec skate seen team potent rush long time watch break zone especi sundin treat watch remind red armi still hate team rest game st loui win goal come powerplay penalti cost chicago dear especi detroit goe calgari undisciplin marti mcsore wave guy bench avoid fight know someth new jersey overmatch terreri heroic notwithstand mario unbeliev jagr reason show playoff hate team anyway',\n",
       " 'heard stori local sport news broadcast edmonton oiler owner peter pocklington hold press confer next week exact detail known believ concern oiler futur rumour pocklington sign tentat leas arrang copp collesium hamilton press confer pocklington may announc deal quit possibl deal may simpli way forc edmonton northland renegoti oiler leas stadium northland offer buy oiler 65 million earlier offer reject immedi pocklington',\n",
       " 'potvin pound dino happen dino pound dino get leg slash slash potvin return year um lssu hockey game um player call slash hit goali glove stick slash hit someon ankl ref know call goali get liberti player',\n",
       " 'teemu selann 3 goal keith tkachuk one luciano borsato score rare jet shorthand goal jet held beat canuck 5 4 close seri 2 1 trevor linden pavel bure two goal canuck lose caus selann came two game goal score slump score two powerplay goal one nice breakaway pass darrin shannon hard work paid tonight jet jet continu exhibit strong work effort make seri woof last year 3 1 go quiet happi solid perform',\n",
       " 'yes everyon seem agreement yanke final move right direct finish 500 year mayb even pennent race august howev would take back move 1 jim abbott trade think abbott inspir person great pitcher also could win cy young year right side yank infield good enough good trade jt snow mani rooki abl step immedi impact far angel know earli seen kid hit field talk tell go tremend player yank kept mat ask well great yank taken care remain loyal 10 year older snow bat speed back injuri shame yanke fan want see best yanke team take snow mat first yank also gave two promis propect snow abbott besid domingo jean brien taylor wickman militello sterl hitchcock load propect know abbott 26 much give believ georg forc trade believ right abbott big hit ny howev like see yanke build basebal team amus show 2 wade bogg live boston like wade lot career wind would rather see yank start develop long term solut e hensley muelin russ davi velard besid wade rang shame charli hay huh 3 spike owen see wade bogg much rather see develop dave silvestri whoever wade spike next infield go rais yanke staff era 1 2 point guy side career 4 danni tartabul yes put tremend number nice think could ever healthi year never expect 120 game max meanwhil gerald william play columbus paul neil play left field believ neil led nl outfield assist last year tartabul poor defens outfield basic get yank move right direct readi win pennent year gm level plan 1994 1995 world seri mean get younger player experi major readi year two afraid stuff wreak georg steinbrenn certain bogg deal georg look like georg plan right mix veteran young player win world seri veteran alway avail ad time like boston year develop young player first add one two veteran yanke case keep let us yanke fan hope georg dismantl terrif job stick compani done build yanke organ back one respect realli afraid trade whoever take patch hole today relief pitch exampl georg must realiz yanke rebuild process still one two year away patienc georg enjoy futur fire bucki trade kid basebal hell loyal yanke fan long time',\n",
       " 'oop came across file last year thought might enjoy thought predict made date indic larg order june 11 1992 tedward cs cornel edu know thing turn oriol red sox yanke disappear jay tiger continu essenti expect pace brewer indian crank second half ranger predict took dive surpris anybodi meanwhil predict marin drop behind angel royal clear deserv 22 33 record june white sox up game bit twin drop littl part thing expect okay blatant error predict calcul thought pretti well cavgeo yalevm ycc yale edu tue mar 31 16 36 34 1992 hm pete smith made rotat instead mercker bielecki releas end year comment bullpen jeff reardon right blauser wrong bream mitchel bit earli lonni bielecki pick sander anybodi three went right showalt still around like stick seem mattel auto trol com mattel auto trol com tue mar 31 17 04 22 1992 nope divis kept shot playoff well finish last got one right nope guess pick met win huh tsk tsk nice predict someth like got right respons okay met finish fifth got pirat expo right first half dead second half ummm sox fan go easi got predict gooden saberhagen revers least close right jefferi though know wfan critic jefferi trade close cigar predict need introduct sometim us stathead get lucki grace hit behind dawson entir season also finish 79 rbis nope slow injuri finish even reach 50 ballsi predict nonetheless ecaxron mar lerc nasa gov thu may 21 16 42 21 1992 oriol finish seven game none 20 though mussina might chanc better relief start except brewer probabl forgot right rest divis thorough mediocr yanke indian led 76 win red sox trail 73 win none horribl four five game 500 djohnson cayley uwaterloo ca david johnson date thu 6 aug 1992 15 47 30 gmt win king cogsci ucsd edu thu nov 14 14 33 45 1991 right stvjas meteor wisc edu fri sep 13 01 15 52 1991 211 ip win cy young maddux surpris think want wait long 89 game last year fifth leagu era bad start look like bad last year consist ace far year look like honest say get rid bb total last year think good far good definit wait check one panix spira cmcl2 nyu edu fri sep 13 12 38 08 1991 current plan seem use quantril long relief rubber arm unusu deliveri might decent role lyle ecn purdu edu sat sep 14 01 51 28 1991 wrong hal morri favorit tedward sun oct 20 23 52 57 1991 bell hit 34 hr last year walk 52 time five intent okay exagger might right trn strdev jhuapl edu tue mar 31 15 25 28 1992 much cal sign sign rememb correct got rather hefti contract despit weak season final jpalmer uwovax uwo ca thu sep 12 10 35 58 1991 snyder still sf acker gone major never heard think major dunno happen still around stuck minor hm rain bo look get lot pt hm',\n",
       " '',\n",
       " 'need player wear 77 nhl know one ray borqu bruin help would great appreci thanx',\n",
       " 'nice post chuck made one mistak bone right hand pitcher howev hrbek grand slam came graehm lloyd lefti',\n",
       " 'dino ciccarelli ray sheppard',\n",
       " 'npr morn interview linda mccarthi name possibl garbl offici historian cia emmi research moe berg tv documentari know noth sound good said among thing berg princip spi oss cia wwii precursor spi axi atom program physic background languag skill said war met heisenberg switzerland instruct shoot heisenberg german close us bomb research conclud two year behind shoot heard elsewher heisenberg deliber misl nazi bomb program know reliabl unfortun npr mention kind book write certain buy case wonder basebal relev berg longtim mlb backup catcher member mlb star team tour japan 1934 presum basebal prowess one american much less mlb player spoke japanes photo took tokyo trip later use plan bomb raid accord mccarthi',\n",
       " 'far know toronto pittsburgh new york nl chang uniform everi year everi year e g new york say met cursiv new york cursiv new york cap minor chang chang often last year think new york cap toronto blue jay toronto last year pittsburgh hate gray opt color like white sox hate white team versus gray team spring train uniform look much better',\n",
       " 'flyer blew 3 0 lead buffalo sabr second period kevin dineen 7th career hat trick power 7th consecut win 7 4 sabr lost 7 row alexand mogilni led comeback score 75th 76th goal season tie game 3 2nd period 4 3rd tommi soderstrom stop 41 45 shot goal improv record 20 17 6 test mogilni lafontain night roster move andr faust recal hershey shawn cronin healthi scratch line eklund lindro recchi beranek brind amour dineen lomakin butsayev conroy faust acton brown galley bowen yushkevich hawgood carkner mcgill tommi soderstrom game summari say anybodi buffalo read peopl get woman sang anthem turn volum flyer defens start game show everybodi flyer shut team late hold sabr 8 shot first period show everybodi play golf sunday gave 37 shot last two period mayb tommi told get bore back mark recchi open score fast blink miss buffalo faceoff dump tommi wrap puck around board eric 1 2 way left eric drop galley sent ahead recchi steam zone mark skate center circl pass puck leg richard smehlik skate around fuhr smehlik pull way zone stick recchi drift right drift back left slid puck back right past fuhr 1 0 flyer lead 0 18 beauti eric garri turn assist flyer kept pressur fuhr strong kept flyer damag game becam defens struggl sabr got first chanc power play terri carkner took board minor 10 26 crunch dale hawerchuk board flyer zone lafontain got score chanc terribl good one flyer smother sabr power play mogilni got post 25th consecut penalti kill flyer keith carney took hold penalti 13 31 take mark recchi give flyer power play best penalti kill team leagu allow flyer shot goal although flyer creat good score chanc lindro partial fan shot toward end period play start go end end everybodi kept miss net greg hawgood took interfer penalti 18 19 give sabr anoth power play get anyth go fan express displeasur particular ice puck shot 8 6 buffalo flyer led 6 2 one point mike emrick interview flyer presid jay snider period jay disappoint make playoff discourag consid rebuild year trade seem happi way season went ask agon trade said russ farwel trade issu ed snider far money yes agon ask coach situat would handl next year said russ call russ evalu thing end season feel 3 year away shot cup expect get playoff next year shot divis titl follow year shot final year base current level play anticip improv summer happi align call outstand happi current expans feel talent pool big enough unflux european feel must make sure exist franchis stabl seem like idea play olymp booo said definit split among owner certain would happen four year consensus sabr gave flyer second power play game brad may took trip penalti 0 51 second flyer littl troubl get start eventu hawgood took pass move throug neutral zone hand puck eklund outsid sabr blue line along right board eklund carri zone nad pass across dineen tri one timer blue line top left circl half fan sent puck trickl slot fuhr know though hawgood race flip essenti open net 2 15 mogilni breakaway slip two flyer blue line went soderstrom went backhand soderstrom flyer took bad disciplin type penalti realli hurt viacheslav butsayev took doubl minor rough high stick barnabi got skin drew one minor accord gari dornhoef took dive get video 4 22 sabr coudln get start ryan mcgill poke puck sabr carri flyer zone bunch peopl poke dineen emerg head way start 1 1 brind amour hustl ahead make 2 1 back defenseman dineen let rip top right circl make 3 0 flyer 5 40 fuhr john muckler sent dominik hasek take sabr still lot power play time took time get flyer zone final flyer boo began ring build final got soderstrom ugli goal smehlik took shot top zone miss kick hawerchuk slot hawerchuk tri backhand skate toward goal line right galley dove block mistak 1 let soderstrom handl backhand worri rebound b barnabi camp behind goal line right next net well rebound drop right next soderstrom mistak 2 galley laid watch barnabi get three hack puck final push goali even swing stick tri knock puck away goal 7 48 two streak end flyer 150 28 shutout hockey 27 straight penalti kill lindro put right back power play 8 36 high stick minor think barnabi time sabr abl get set quick get much qualiti goal sabr continu keep puck flyer end power play end thing evetu settl bad penalti mcgill allow barnabi get skin slash stick faceoff glove drop mcgill start pound crap fight gave barnabi head butt helmet meant match penalti 2 slash 5 fight 5 major 7 minut power play time sabr 14 15 barnabi got 5 flyer keep bay long could coupl good sabr chanc audett hand ledyard point ledyard sent drive knock soderstrom lafontain whack bounc puck left side net knock randi wood right soderstrom move play lafontain sinc yushkevich carkner wave puck instead pick men wood slid empti net 17 34 close flyer lead 3 2 lafontain actual tri put net half fan got break flyer got shorthand pressur sabr zone hasek strong final keith carney pass ahead hawerchuk neutral zone hawerchuk sent good backhand pass mogilni flyer blue line anoth mini breakaway mogilni elect shoot left circl thread needl get insid far post 18 56 75th season iron youth hockey tip 1st second period tommi soderstrom talk cut angl 2nd shot 19 7 sabr 3rd period pell eklund blew golden opportun get flyer lead back 2 1 acton puck drop eklund slot eklund held puck slid left circl almost angl shoot final shoot hit far post still carryov power play time incred almost goal randi wood skate around recchi hawgood untouch soderstrom soderstrom goe wood poke puck soderstrom black object hit back net red light come horn sound crowd cheer video replay booth strang reason meantim emrick dornhoef tri figur could review well turn tape stick blade went net puck emrick mention one criteria score goal puck must go net dave hannan took recchi got hold minor 2 35 flyer could get anyth go final got set 1 2 way kept perimet time ran beranek strip puck sabr offens zone along right board pass across eklund top left circl eklund saw dineen head net insid right circl pass dineen fumbl pass twice direct hasek eklund swoop chip bounc puck goali 11th 4 42 4 3 flyer sabr came right back lafontain pick puck offens left corner slid bob erri behind flyer net erri start skate drop puck back nobodi behind net mogilni flew skate around stuf soderstrom 5 hole 76th 5 24 tie game 4 hawerchuk took retaliatori rough penalti 5 55 flyer set sabr zone stay faceoff high sabr zone middl brind amour wrestl puck dineen snuck line wrist perfect shot low hasek glove side 6 44 play start go back forth hawgood took rough penalti 8 19 flyer dump puck sabr zone brind amour ledyard went rod got puck back away right board skate right faceoff dot pass leg dineen crash slot dineen wait patient lift blocker hasek 6 4 flyer lead 8 39 3rd hat trick season dineen 7th career 2nd shorthand goal game 35th season carney took trip penalti 9 02 kill rest sabr power play much action 4 4 sabr got chanc flyer result power play play went end end quit goali make big save sabr abl pull hasek time run flyer allow consist possess sabr final time run ken sutton misplay puck left corner brind amour strip away pull away found dineen side left circl dineen found acton right hasek slid puck two sabr defend acton chip back far side hasek 8th season 19 48 35th birthday score shot 18 13 buffalo ice shower plastic drink mug hand game anoth strong game tommi soderstrom test much last coupl start kevin dineen career high 6 point night unless better night earlier season think flyer longest win streak 3 year 30 goal 11 three shutout eric lindro 8th leagu 33 even strength goal despit miss 23 game injuri 4 point 4th clinch 5th place sinc ranger lose tie breaker coupl misc note forget mike keenan rumor press confer tommorrow announc head coach new york ranger next year last note mention garri galley barri ashbe award fail mention award best defenseman time trenton report preemin specialist oklahoma look tommi soderstrom medic record determin test necessari near futur paper blurb bill dineen ask whether expect back next year respons want come back feel good job year would cheer accept role scout farwel want back flyer team record watch eric lindro 41 goal 33 assist 74 point rooki record club record goal club record point eric lindro 40 1992 93 dave poulin 76 1983 84 brian propp 34 1979 80 brian propp 75 1979 80 ron flockhart 33 1981 82 eric lindro 74 1992 93 dave poulin 31 1983 84 ron flockhart 72 1981 82 bill barber 30 1972 73 pell eklund 66 1985 86 mark recchi 52 goal 69 assist 121 point club record goal club record point reggi leach 61 1975 76 mark recchi 121 1992 93 tim kerr 58 1985 86 86 87 bobbi clark 119 1975 76 tim kerr 54 1983 84 84 85 bobbi clark 116 1974 75 mark recchi 52 1992 93 bill barber 112 1975 76 rick macliesh 50 1972 73 bobbi clark 104 1972 73 bill barber 50 1975 76 rick macliesh 100 1972 73 reggi leach 50 1979 80 80 game flyer career year player point best prior season mark recchi 121 113 90 91 penguin rod brind amour 84 77 91 92 flyer garri galley 62 38 84 85 king brent fedyk 59 35 90 91 red wing',\n",
       " 'garbag start hit field well sunday game start thursday friday recal game watch tbs deion get pelt trash whole time seem announc talk chang seat bleacher made easier event transpir actual thought start sunday slugfest sinc sunday daygam crowd would littl differ refin surpris',\n",
       " 'yeah news true leaf lost wing 6 3 wish could say seen whole game husband want watch young gun ii anoth channel sometim first time tune saw leaf tie next time tune heard score 5 1 someth happen pleas woof red wing fan third favourit team make past leaf wish luck potvin well fist playoff game',\n",
       " 'ever hitter marin histori',\n",
       " 'rememb read articl reader digest mani moon ago similar incid minor leaqu game player neck cut oppon back check trip skake flew case victim mask prove hinder sinc face protect bother usual instinct reaction protect face neck quick think coach save life appli direct pressur use snow contract blood vessel rememb',\n",
       " 'read brave hitter aaa club dale j stephenson steph cs uiuc edu basebal fanat',\n",
       " 'make ten eight met astro join n l 1962',\n",
       " 'april 1 1993 particip nl leagu use standard rotisseri rule except follow catagori use posit player lowest bat averag strike out caught steal error pitcher loss blown save higest era tater allow fifth year particip blowtisseri leagu last year pennant due primarili fact terribl pitch would like lower bat averag rather high jose offerman made help lock first place error anyway someon offer andr gallaraga bud black afford give bud black still kyle abbott howev afraid andr actual well season make trade comment appreci warren usui',\n",
       " 'wow probabl reason current assist coach drew ramenda hint back thank news mikko finnish netter comment tichonov',\n",
       " 'follow giant close season newspap notesgroup etc first close person last night stick watch giant hitter struggl last year barri swing impress quick swing seem effortless even compar clark particular clark late interest see bond hit maddux well sure barri reveng brave stroke three pretti hit 1b 2b hr 5 rbi giant team lot surpris thing year addit bond good pitch hitter seem swing much better clayton defens superb mcgee seem like lead year manwar drive ball forth hope continu think need continu well june peopl realli sold real particular pitch think fresh start magowan baker etc realli wipe lot negat last year real factor help signific improv last year',\n",
       " 'brad mccrimmon captain flame trade detroit follow 1989 90 season season though countless exampl captain trade sure',\n",
       " 'good mussina better sutcliff mcdonald bullpen steinbrenn charg got talent 4th starter evetu ace higher rank general better prospect arthur rhode happen well hey oriol 4th starter militello still earli',\n",
       " 'anyon know outcom tonight jay game home run win pitcher',\n",
       " 'articl 1993apr14 175545 3528 alleg edu millit yanke org sam tell sam three l call mom ask bob vesterman yeah case even enough prompt boy genius sam pick paper see name spell anoth hint singl l come two',\n",
       " 'al weiss play second white sox earli sixti chiefli back buford good glove hit spunk remind still serv kosher hot dog new comiskey',\n",
       " 'wonder pitcher given 8 pitch enter game let serious relief pitcher normal throw bullpen minut realli need 8 pitch relief pitcher get 8 pitch enough time 1 play hit road jack 2 iron citi relief pitcher commerci 3 announc detail us exact drove previous one game 4 detail biographi person statist new guy throw 8 pitch 5 get realli cool super slo mo pictur diamond vision put said pitcher name stat',\n",
       " 'agre wholeheart view like see stickwork clear player away front person favorit move goali give offed player good whack back skate ref look make em go like ton brick caus injuri unless know fall talk hit blade foot also make player hit anyon see realli mad apt take stupid retali penalti unfortun also leav blocker posit short time shot like short side hmm mayb mail potvin method french help diagram cours sure would nice see ciccerelli great deal respect btw big guy play huge fall back time',\n",
       " 'penalti penalti refere call czech right first goal think quit silli call nazi attitud peopl throw coin ice hey approv behavior guy especi wc game see reason use word nazi connect soccer hooligan german problem rememb world cup itali big differ throw coin smash shop window fight call fan come wc see dutch english german best bruiser sport talk think soccer everi possibl sport mani german know think 200 10000 hear white policemen beat black man us think american like beat black',\n",
       " 'patient sore shoulder crash wall card give time need come around full time centerfield howev steal often year hit clean',\n",
       " 'write oh probabl ms nichol given averag game time averag run score 1983 1992 nice piec inform ms nichol know may listen kill file number indic somewher neighborhood half run less score per game game take 15 minut longer someth done done ten year ago extend game 15 minut ms nichol think pitch given increas special pitcher surpris simpli pitch though think unreason think someth done get ten minut back get coupl shorten warmup time relief pitcher come coupl still enforc exist rule state post thread relat one problem decid whether time wast seem think right think although heard one case favor give reliev warmup think need differ mound field pen know rule get chang mayb someth forese happen chang mind bet lot mind would fail forese thing els noth chang rg',\n",
       " 'thought 1 win 2 goal',\n",
       " 'team canada defeat russia 3 1 finish priliminari round unbeaten 5 0 score canadian kevin dineen flyer eric lindro also flyer paul cariya main black bear cariya put quit show world sure draft top 3 summer nhl entri draft canada defeat itali 11 2 austria 11 0 meet russian sunday canadian face finland quarter final tuesday',\n",
       " 'buffalo seem start tradit trade captain pat lafontain award captainci mike ramsey forc give ramsey penguin ramsey inherit mike foligno leaf turn inherit lindi ruff went forget ruff perreault retir guess streak start danni gare captain went detroit jim scoenfeld gerri meehan floyd smith other revers order last first bit young time sure fate schoenfeld ultim went detroit boston meehan went vancouv atlanta washington smith seem hung skate buffalo know captainci remov mani game play buffalo actual get fascin captainci buffalo sure sign trade almost unless franchis player',\n",
       " '',\n",
       " 'actual accord da inform post sherri bogg superior defens defens averag last five year compar averag 3b al 1988 1989 1990 1991 1992 bogg 643 2 659 47 550 54 653 33 634 32 hay 601 40 622 18 606 14 574 28 hay defens standout third done good job disguis put anoth way compar averag third baseman last year bogg convert 11 grounder out turn 2 doubl play prevent 11 doubl hay let 12 grounder go hit turn 6 doubl play prevent 4 doubl dale j stephenson steph cs uiuc edu basebal fanat',\n",
       " 'general question us reader extens playoff coverag canada almost imposs watch seri tv ie two seri opportun watch year wash nyi chi stl latter wrong time zone canada basic swamp coverag wonder mani seri game televis nation even local us much preced take say local news game go doubl ot email wast bandwidth pleas news feed kind slow anyway',\n",
       " 'tri think respond without involv person feel percept without stat back point howev think approach wrong way believ peopl mention deserv hall fame dave kingman feel much better player say fell deserv go would deserv imho dave kingman defin guy coupl year could hit atleast respect averag rest career think fear pitcher also think lot game mean realli met fan met part career still would back hall fame dave winfield think fear pitcher sever season hit respect averag product number opinion without stat better kingman probabl quit bit also perceiv leader mayb much peopl none less leader think made substanti contribut game basebal societi exampl charit thing done know yanke think type player kid look defin criteria hall fame think deserv consider lee smith mayb would see stat defin would deserv go like kingman darrel evan eddi murray mayb good career leader although silent one good role model stat good enough sure would believ much better kingman averag well power number good winfield think eddi much public great year jeff reardon guess kind depend number top head would take lee smith first well strong disagre guy deserv sure talk leadership guy leader instument lead team post season robin good offens number averag power ozzi okay number offens differ ozzi gave home run everi run save make incred play shortstop would shatter aaron home run mark mani great play save game mani great play motiv team ralli win game believ guy number basebal number least win basebal number guy proven star belong hall fame georg brett also belong class player steve garvey sure probabl guess could see someon make case jack morri first choic see someon might bring name kirbi puckett probabl reason say defin still time left career continu probabl turn defin nolan ryan realli doubt think heard someth 53 record mayb good know hear number number contribut game communiti great role model would say best pitcher ever pitch game probabl even top 20 would first pitcher would put hall fame accomplish hitter strikeout respect number even weaker team go realli hope get possibl vote sum 3 group belong probabl sure lean toward say belong least without see stat possibl hear reason go yes winfield yount brett mail smith puckett ryan mayb murray l smith reardon garvey morri evan defin kingman said stat around number back entir opinion base percept',\n",
       " 'love abc coverag product excel appear excel sleek modern look first time heard thorn clement thought great request leav al micheal annoy skeptic game pleasant surpris coverag particular impress close rang camera coverag work corner behind play without lose beat get back puck boy everyon rip espn hockey coverag pittsburgh thrill lang steigi unawar espn bought air time abc product advertis sale comment etc even reap made',\n",
       " 'day person mean someth exact like clement emrick hand jd pompous bull head arrog know real turn exact one complaint clement sometim talk much want listen tim mcgarver basebal game',\n",
       " 'one complaint cameramen jersey pitt seri show shot hit one occass camera zoom check along board puck slot pan back show rebound mayb mom camera peopl littl experienc',\n",
       " 'trade bad seem recal ratell middleton make pretti good centr right wing combin bruin also got brad park deal also lost vadnai somebodi els trade bruin two final one semi final cours lost montreal pleas end doubt howev keep esposito would made differ seri ranger 79 year boston matter riston riston',\n",
       " 'norman green claim lost money last three year own team bought team seem kind obvious go deal year red team start make profit gave impress will claim two year ago team need averag 8000 fan per game order pull profit season team averag 12000 fan despit increasd ticket price think team attend play clear upward trend leav dumbfound could ignor decid move even offer mani concess rude demand guarante season ticket sale cheap rent two arena town etc oh well guess bottom line green want immedi huge return dalla will wait anoth year mn dalla gave green pretti stellar deal play although feel minnesota quit reason also croni well mean minnesota without nhl team year two bad nhl',\n",
       " 'incorrect year pen 61 game free tv 6 game ppv next year 62 game free tv 22 subscript basi actual get 1 free game last year radio game good deal last year everybodi bitch baldwin break team goe way keep nucleus team togeth take money come creativ way generat revenu afford team peopl bitch everybodi want someth noth dean',\n",
       " 'expect remain best shortstop game reach seventi third birthday someth strang concept forti one year old ozzi smith might defens liabil 1996',\n",
       " 'boston 0 seattl 7 boston ab r h bi seattl ab r h bi rile 2b 3 0 0 0 felder lf 4 0 1 1 quintana rf 2 0 0 0 cotto dh 3 0 0 0 greenwel lf 3 0 0 0 sasser ph 1 0 0 0 dawson dh 3 0 0 0 griffey jr cf 4 0 0 0 vaughn 1b 3 0 0 0 buhner rf 3 1 0 0 calderon cf 3 0 0 0 boon 2b 4 2 3 2 cooper 3b 3 0 0 0 martinez 1b 3 1 1 0 john valentin ss 3 0 0 0 blower 3b 4 1 2 1 pena c 3 0 0 0 vall c 4 1 2 2 vizquel ss 4 1 2 0 total 26 0 0 0 total 34 7 11 6',\n",
       " 'live boston area 15 year talk new boston garden hockey basketbal sinc live one day last hurdl overcom next day new hurdl fan grumbl foxboro stadium whatev call year near long preliminari propos new stadium local polit prevent anyth done time fashion new ballpark lifetim',\n",
       " 'darryl strawberri moon shot fun hit high far home run actual ran round second base time land use say file flight plan laguardia bulldurham came chang homer pull go high microwav home run microwav got outta hurri game 1988 came bench flu second pitch send rocket right field line even allow bob murphi luxuri home run call stori went stay clubhous met two two davey johnson sent pinch hit came clubhous say one swing go home hit homer ran base went straight clubhous shower go home day',\n",
       " 'actual number player side 25 man roster 40 man roster etc ryan robbin penobscot hall univers main',\n",
       " 'could someon pleas post roster colleg hockey star game east west roster thank advanc',\n",
       " 'sinc someon brought sport radio howabout sportswrit anyon give opinion citi think best sport coverag term print media general question washington post better philadelphia inquier ny time howabout philadelphia daili news compar new york daili news',\n",
       " 'markus good season modo swedish elit leagu score 22 goal 17 assist 39 point 67 pim 39 game daryl point markus join pen year playoff sinc world championship start april 18th good chanc markus join pen next season modo though natur want keep superstar forsberg naslund latest news modo look person sponsor forsberg naslund order match kind money would receiv nhl actual swedish coach curt lundmark think leav two spot open addit elimin nhler mat sundin call johansson curt hope join team although late stage tournament technic seem recal leav spot open 24 hrs wc final staffan',\n",
       " 'bad bring abil hit pitch field run',\n",
       " 'frank offens defens equal import pitcher 80 defens primari role everi player offens even shortstop bigger part offens game defens game might much part offens anoth issu said think smith yount deserv hof hit pretti well addit defens',\n",
       " 'sez dave kingman use take rosh hashanna yom kippur day coincid season',\n",
       " 'tim wallach explain rabbitbal deion explain learn play game bet deion abl play well last year think odd deion play well better last year better odd oti nixon thing factor defens oti valuabl last year convinc valuabl year especi next year dale j stephenson steph cs uiuc edu basebal fanat',\n",
       " 'player pretti good player depth dynasti win stanley cup tend good second line guy would first liner weaker club nhl import club probabl sever stanley cup win team would cup depth provid player compar rick tocchet ron franci penguin good player lead lesser team franci hartford tocchet philli provid depth team current best nhl defens forward none better bob gainey mean best player even best forward canadian time excel gainey could domin game defenc need get goal domin shut opposit thus valuabl never anyon better ever',\n",
       " 'ah final found use super slo mo frame advanc scrutin soror babe heat congrat trust helluva time manipul besid convert film video kind artifact differ frame rate unless expert 3 2 pulldown laserdisc compani someth hey fair fettucin alfredo griffin guy practic pivot bat around along bodi daulton strike strang littl bit quiet plate like franco get bat hit zone level plane first time watch julio franco think anyon could hit like marvel easi make look everi time make contact solid got good power field rare caught readi pitch wonder phil plantier sever bout hemorrhoid practic swing throne sure look like bout one add list travi fryman guy plant front foot seem swing across bodi generat lot power keep think could generat even could get better pivot hip well alreadi spoken sever peopl add robbi alomar name list among other realli like dean palmer swing twist reason well pedro munoz swing thought may look like taught turn ball imho go fall love newfound power start pull ball point go see lot sinker slider low away unless adjust quick start rifl doubl left left center imho go see good number weak grounder right side infield next month',\n",
       " 'montreal canadien fan let radio station play playoff seri includ short wave radio frequenc lewisburg pa home bucknel univers definit hockey town pleas send respons malinich bucknel edu',\n",
       " 'guess hamilton would put midwest either winnipeg dalla move pacif',\n",
       " 'grew listen harri carey call cardin game realli like recal fire critic read honest announc dare point card miscu least rememb kid',\n",
       " '4 23 93 blue shutout hawk lead seri 3 0 great atmospher last night st loui arena joseph blue shutout hawk second consecut game peopl cheer blue long face time kept go entir game friend went celebr earli morn hour player game summari st loui post disptach enjoy dave lueck post dispatch staff 10 24 p friday night arena crowd 17 965 paid homag blue goali curti joseph fan began bow arm extend take lead fan held sign read god save joseph fit tribut joseph brought blue verg surpris sweep joseph record second success shutout friday blank blackhawk 3 0 game 3 norri divis semifin give blue 3 0 lead best seven seri blackhawk score joseph sinc 8 51 mark second period game 1 joseph shut blackhawk 151 minut 9 second blue record jacqu plant held previous record 146 28 set first round 1969 playoff philadelphia flyer one two seri blue sweep histori blue wrap first sweep sinc 1969 victori game 4 nation televis game begin noon sunday blue two sweep franchis histori 1969 swept philadelphia los angel en rout stanley cup final shutout friday easier wednesday game 2 joseph make 47 save time blue held shot 34 blackhawk touch joseph well touch joseph numer time shove push everi opportun tri get game joseph blue unfaz dish punish along way blue grinder bob bassen rich sutter kevin miller dave lowri wore blackhawk take visitor chicago game grinder set stage glamour boy gift playmak scorer made opportun craig janney brett hull nelson emerson score get one goal period hull assist janney first period power play goal two unwis chicago penalti checker miller set hull goal second period rooki denni felsner assist emerson score 16 44 final period blue fan jump feet celebr goal began yell sweep sweep sweep also taunt chicago goali ed belfour bell four bell four also chant na na na na hey hey good bye talk tad prematur still one game left blue roll blackhawk heel blue set tone earli friday two crunch hit first minut play rich sutter level bryan marchment brendan shanahan dump steve smith center ice chicago tri retali troy murray decis run joseph backfir refere dan marouelli gave rough penalti blue get shot goal power play surviv scare chicago kill penalti rick zombo gave puck away steve larmer joseph stop larmer shot everyth els chicago threw first period hawk ignor scout report joseph shoot high continu shoot low joseph butterfli style dead rooki bret hedican pick three consecut penalti midway period two hook one hold chicago got two shot goal mani miller blue penalti killer twice stole puck miss good score chanc belfour marouelli began call penalti blackhawk even thing caught brent sutter hook shanahan four second hedican third penalti call marchment elbow janney along board 14 58 gave blue two man advantag 1 07 later christian ruuttu slash shanahan blue work around puck ensu power play hull got like high slot hull shot hit belfour right shoulder puck bounc precari close goal line belfour dive back cover puck squirt loos janney poke net 16 53 first goal playoff blue continu relentless hit period end blackhawk lost composur joe murphi trip ron wilson two second remain period time expir smith upset blue shoot puck blue bench chris chelio made move toward joseph team left ice marouelli slap 10 minut misconduct chicago surviv blue power play loss chelio hurt return midway point period within three minut return hull increas blue lead 2 0 deflect miller crisp pass tri might blackhawk get joseph stop everyth could throw stop 12 shot second period 13 third chicago also hit goalpost twice emerson goal put game away went hard net redirect felsner pass',\n",
       " 'alway even even conceiv neat trick alway leav lot room error hope miss earlier post regard otherwis well leav individu fill say gehrig shorten capit eas reader',\n",
       " 'bosox request world std com mail list bosox world std com',\n",
       " 'saw mask draw band aid presum everi puck goali stop face head rememb even nhl see quit ahl game far funniest mask seen funni cool',\n",
       " 'tsn sportsdesk report ottawa sun report montreal send 4 player 15 million includ vin damphouss brian bellow phillidelphia philli send eric lindro ottawa ottawa give first round pick montreal true like depend whether ottawa get choos 1st overal ottawa afford lindro salari person see philli give lindro anyth give away much quebec trade away mention lindro seem huge draw philli repres success futur franchis ottawa may better take 4 player 15 montreal pick',\n",
       " 'also sprach slegg kean uc mun ca two thing 1 trade deadlin pass two week ago 2 flyer would never ever ever give lindro simpl go flyer cup 94 mike',\n",
       " 'subject captain ever trade resign stripe titl season team captain trivia would appreci ron franci captain whaler trade pittsburgh rick tochett captain flyer trade pen recent caleb let us forget new jersey devil trade captain kirk muller stephen richer chorsk',\n",
       " 'nhl result game play 4 05 93 stand patrick adam norri smyth tm w l pt tm w l pt tm w l pt tm w l pt xpit 53 21 6 112 ymon 47 27 6 100 ydet 44 28 9 97 yvan 42 28 9 93 40 31 7 87 ybos 46 26 7 99 ychi 43 25 11 97 ycal 40 29 10 90 nj 38 35 6 82 yque 44 25 10 98 ytor 42 26 11 95 yla 37 33 9 83 nyi 37 34 6 80 ybuf 38 31 10 86 stl 35 34 10 80 ywin 37 35 7 81 nyr 34 33 11 79 har 24 49 5 53 min 34 35 10 78 edm 26 45 8 60 phl 30 37 11 71 ott 9 66 4 22 tb 22 51 5 49 sj 10 68 2 22 x clinch divis titl clinch playoff berth hartford whaler 24 49 5 1 1 3 5 new york ranger 34 33 11 1 2 1 4 1st period har cunneyworth 5 janssen greig 12 21 nyr grave 34 turcott zubov 18 39 2nd period nyr kovalev 19 turcott grave 2 12 har sanderson 44 cassel pp 4 54 nyr amont 30 andersson vanbiesbrouck pp 19 13 3rd period nyr messier 25 amont andersson 2 26 har sanderson 45 cassel sh 5 23 har nyland 6 ladouceur 8 35 har verbeek 36 zalapski 17 43 powerplay opportun whaler 1 4 ranger 1 4 shot goal whaler 7 8 8 23 ranger 9 10 12 31 hartford whaler gosselin 4 7 1 31 shot 27 save new york ranger vanbiesbrouck 20 18 7 23 shot 18 save att 17 806',\n",
       " 'sig noth cocki put sig noth articl learn back fall hard way mean butt sure two point one r b c hockey second umass beat quaker hello earth respond atlant 10 8 whatev wanna call big 10 10 weak ladi lion go challeng confer pay big east show thing still post regular basi track women score review throughout tournament reason stop post yet anyon chanc come back 4 game think boston still see buffalo win 6 agre play tremend hockey right congatualt three straight buffalo could easili 2 1 boston buffalo come tough littl luck never see penalti ot side involv playoff game never never never',\n",
       " 'thought compar cullen teemu sel nne alway thought salami sort sausag dear roger abl see salami ice play hockey know sure someth quick mayb think keep talk rubbish time everybodi consid realli true take care leaf sure need least seen play latest philli game leaf player parad philli crunch 4 0 mayb need two way player score cordial hannu',\n",
       " 'everi singl piec evid find point major leagu basebal 50 offens 50 defens run score import run prevent certain pass common sens test statist evid say percent defens pitch percent field realli like know btw sherri thank da data find fascin one chapter palmer thorn hidden game titl pitch 44 basebal impli field 6 determin beat long long time sinc read one also separ offens bat baserun split probabl somewher around 49 5 0 5',\n",
       " 'proud bu alumnus like get list bu player nhl keep eye progress lot terrier graduat year hope see soon nhl somebodi could post send list appreci pleas note player graduat',\n",
       " 'game behind home plate next scout man radar gun 1991 season wind roger best fastbal top 88 90 contrast frank tanana went low 50 one lollipop process strike phil plantier five time night inki shot would gone ever seen crash light lightstand say 100 feet high roy hobb like bounc back onto field 525 footer unobstruct edg bo jackson drive oil boyd top centerfield bleacher back wall 1988 best seen person sit one glenn waugaman digit equip corpor littleton gwaugaman nac enet dec com',\n",
       " 'pay predict heed consid even predict proper matchup mayb tri forecast weather instead',\n",
       " 'updat playoff updat score stat summari e mail mmilitzo skidmor edu subject stat',\n",
       " 'would veru interest also one could someon pleas send info',\n",
       " 'everybodi pleas send predict stanley cup playoff want see peopl think win pleas send format someth compar 1 winner buffalo boston 2 winner montreal quebec 3 winner pittsburgh new york 4 winner new jersey washington 5 winner chicago minnesota st loui 6 winner toronto detroit 7 winner vancouv winnipeg 8 winner calgari los angel 9 winner adam divis 1 2 10 winner patrick divis 3 4 11 winner norri divis 5 6 12 winner smyth divis 7 8 13 winner wale confer 9 10 14 winner campbel confer 11 12 15 winner stanley cup 13 14 summar predict see biggest internet guru predict guy gal send entri richard madison rrmadiso napier uwaterloo ca ps send entri one folk know say',\n",
       " 'father huge tiger fan loyal blue jay fan endur collaps 87 heartbreak 85 stat book let throw first morri heyday 81 88 vs clemen 86 present mani cy young morri mani cy young clemen ballpark fenway averag pitcher park detroit hugh hitter paradis morri great team pitcher sort doug drabek mold morri team need well pitch game minn 91 morri snap ball throw ks otherwis tri get peopl clemen elia stat book 1992 believ clemen best lifetim record team compar pitch bad would red sox last year without say 92 philli believ clemen better pitcher power hsi great tenac morri among guttiest pitcher ever seen clemen class seaver carlton etc',\n",
       " 'play scandinavium gothenburg april 15 1993 sweden finland 6 6 1 2 3 1 2 3 1st swe 1 0 peter popov markus naslund 6 10 fin 1 1 vill siren keijo sailynoja 8 44 pp fin 1 2 juha riihijarvi timo saarikoski vesa viitakoski 13 12 pp 2nd fin 1 3 jari korpisalo kari harila rauli raitanen 6 48 swe 2 3 jan larsson mikael renberg stefan nilsson 7 25 swe 3 3 hakan ahlund thoma rundqvist 8 56 swe 4 3 roger akerstrom roger hansson 9 13 3rd swe 5 3 stefan nilsson patrik juhlin charl berglund 2 20 fin 5 4 keijo sailynoja 9 23 fin 5 5 keijo sailynoja 9 44 ps swe 6 5 mikael renberg hakan ahlund thoma rundqvist 17 16 fin 6 6 jari korpisalo 17 44 shot goal penalti attend refere sweden 8 10 10 28 5 2min 6 799 peter andersson finland 12 10 11 33 6 2min 1 10min sweden sweden open score markus naslund made drop pass finnish blue line popov pick advanc toward finnish goal shot nice hard wrist shot ketter top corner vill siren slap shot blue line power play made 1 1 juha riihijarvi score nice goal anoth power play close front goal put puck high aslin 1 2 first period finn start second period realli good pressur korpisalo made 1 3 anoth goal close rang high aslin finnish pressur sweden turn game around 1 47 mikael renberg work hard behind finnish goal pass puck jan larsson front backhand puck low 2 3 rundqvist enter finnish zone pass ahlund finnish defens let ahlund skate take shot ketter drop goal 3 3 next roger hansson behind goal sent puck back blue line roger akerstrom took slap shot ketter see puck sinc traffic front 4 3 third period start nice goal stefan shadow nilsson stefan patrik juhlin enter finnish zone patrik pass puck back stefan alon ketter made mistak 5 3 keijo sailynoja show start reduc equal lead 21 second first score 5 4 goal came alon aslin trip aslin get penalti shot sailynoja made nice penalti shot show forehand put low backhand shot swede seem head win mikael renberg score 6 5 goal late game nice power play combin renberg wait slot show want puck backhand side ahlund pass puck renberg took turnaround shot low ketter goal far side jari korpisalo plan 28 second later score game final goal make 6 6 korpisalo took slap shot narrow angl mayb aslin save decent game defens best team juggl around line bit second third period tri combin renberg rundqvist play well togeth swedish team larsson nilsson juhlin best line overal seem work wc line stillman good defens player good enough wc though hakan ahlund faell ner hjaelmen och jobba roger hansson chall berglund kenni jonsson like leav nhl pros two goal scorer jari korpisalo keijo sailynoja play well finnish team markus ketter good game seen lot better lindfor probabl finland start goali wc heard esa tikkanen join finnish team would inter rest know pros coach matikainen count wc start line sweden finland 35 peter aslin 30 markus ketter 8 kenneth kennholt 2 mikko haapakoski 14 fredrik stillman 3 vill siren 10 hakan ahlund 28 jarkko varvio 9 thoma rundqvist 40 mika nieminen 29 mikael renberg 18 keijo sailynoja 27 roger akerstrom 4 erik hamalainen 7 arto blomsten 8 kari harila 20 jan larsson 25 rauli raitanen 4 stefan nilsson 26 petri vari 5 patrik juhlin 14 jari korpisalo 3 peter popov 5 timo jutila 32 stefan larsson 44 harri laurila 11 roger hansson 24 juha riihijarvi 33 fredrik nilsson 22 timo saarikoski 24 peter ottosson 11 vesa viitakoski 6 pasi sormunen 12 jann laukkanen 19 markus naslund 29 juha ylonen 21 peter forsberg 27 timo peltomaa 18 jona bergqvist 17 marko palo play part game 22 charl berglund 15 mika alatalo 6 kenni jonsson 16 saku koivu 20 marko palo',\n",
       " 'found press releas trial lawyer public justic anoth system thought would interest campus administr athlet depart want elimin women ice hockey team women athlet tlp win sex discrimin rule brown univers order restor two women varsiti team nation desk sport writer contact lynett labing 401 421 9794 home 401 274 7507 ray marcaccio 401 831 8900 trial lawyer public justic',\n",
       " 'defenit underdog team talent come nowher contend 69 met 89 oriol prime exampl cub sorri virtual imposs win divis talent 162 game well player certain howev quit possibl win manageri talent cf blue jay 1992 david',\n",
       " 'stuff delet announc senat move ahl franchis charlottetown p e princ edward island new brunswick',\n",
       " 'blue fan get see much els around leagu except hockey night espn get blue game go school thus get see whole lot team play except hawk last night got catch glimps cap isl game occur turgeon stud skate move quick brilliant ny fan proud p game cap isl',\n",
       " 'discuss real fan one respect team matter ow bad bullshit anyon would follow pen pirat part earli eighti devot basi loser ok follow concern home team give respect even clear manag player suck requir true fan true fan would follow team troubl time extent could discuss improv team visit pittsburgh refus go pirat game sinc think manag given pittsburgh team could much better even sign barri bond lert say pen start team oiler done year whaler done recent year would hard press show much enthusiasm team still follow bitch wast money mediocr team',\n",
       " 'hate burden bad news think time philli usual play either 7 05 p 7 35 p eastern time weekday sunday time usual 1 35 p eastern time bois idaho idaho part mountain time zone part pacif time zone time given mountain time zone start pleas check map case wrong certain bois mountain time zone thank listen',\n",
       " 'hawk norri div seal fate bad luck win norri hawk sweep blue dream lose 6 realiti predict 6 game blue belfour go knee 7000 time spend rest time look behind self butcher pound roenick warthawk one tough enough prevent',\n",
       " 'full 1993 calder cup playoff schedul result home team cap necesari first round springfield indian vs provid bruin gm 1 springfield 3 provid 2 gm 2 springfield 5 provid 4 gm 3 provid 3 springfield 2 gm 4 provid 9 springfield 0 gm 5 springfield 4 provid 2 gm 6 4 24 provid springfield gm 7 4 27 springfield provid cd island vs adirondack red wing gm 1 adirondack 6 cdi 2 gm 2 adirondack 5 cdi 3 gm 3 adirondack 3 cdi 0 gm 4 adirondack 3 cdi 1 adirondack win seri 4 0 baltimor skipjack binghamton ranger gm 1 baltimor 4 binghamton 3 gm 2 binghamton 6 baltimor 2 gm 3 binghamton 8 baltimor 3 gm 4 4 24 binghamton baltimor gm 5 4 26 baltimor binghamton gm 6 4 28 binghmaton baltimor gm 7 4 30 baltimor binghamton utica devil vs rochest american gm 1 utica 3 rochest 2 ot gm 2 rochest 9 utica 3 gm 3 rochest 6 utica 4 gm 4 rochest 4 utica 3 ot gm 5 4 24 utica rochest gm 6 4 26 rochest utica gm 7 4 28 utica rochest moncton hawk vs st john mapl leaf gm 1 st john 4 moncton 2 halifax gm 2 st john 3 moncton 2 halifax gm 3 st john 6 moncton 5 gm 4 moncton 5 st john 4 ot gm 5 4 26 moncton vs st john halifax gm 6 4 28 st john moncton gm 7 4 30 moncton vs st john halifax cape breton oiler vs fredericton canadien gm 1 fredericton 4 cape breton 3 2ot gm 2 cape breton 5 fredericton 2 gm 3 cape breton 3 fredericton 0 gm 4 cape breton 6 fredericton 5 ot gm 5 4 24 cape breton fredericton gm 6 4 26 fredericton cape breton gm 7 4 28 cape breton fredericton note seri ap report cb seri 4 1 origin schedul game 5 suppos tonight oiler 3 1',\n",
       " 'promis would give name panther presid huizenga announc team name announc bill torrey name first presid panther littl bio sun sentinel torrey architect four consecut stanley cup champion persid general manag new york island throughout 27 year nhl bill torrey bow tie becom much signatur andr agassi hair panther introduc uniform insignia ticket price inform earli next month meantim huizenga leav day day oper hand torrey bob clark vp gm florida panther chosen name south florida nhl team focus attent endang speci 30 50 florida panther everglad nation park big cypress nation preserv part southwestern florida panther quickest strike cat torrey said hope way play ice bio torrey huizenga first man hire expans island 1972 one respons guid island four consecut stanley cup championship first eight season 14 consecut win season execut vice presid california golden seal torrey watch seal go play off 1968 second nhl season guess complet person hat trick said torrey 58 nativ montreal resid bear lake countri club palm beach jim g account gorycki sol cse fau edu jimg cybernet cse fau edu repeat stress repeat stress repeat stress repeat stress repeat adrian belew indiciplin',\n",
       " 'nolan ryan hurt right knee 4th inning ranger oriol game last night arthoscop surgeri best keep dl two five week almost convinc ranger rotat would stay healthi year',\n",
       " 'deal c h noth yet ot want know want know roger need keith keller let go ranger let go quaker kkeller mail sas upenn edu ivi leagu champ',\n",
       " 'um sure intend compar 93 red 29 philidelphia yanke finish 2nd team good 26 28 yanke yanke age peak year ruth gehrig play everi posit simultan imo given various age brave red season brave closer peak red slight pass peak also go compar brave yanke appropri comparison 93 brave might 23 yanke fall short two year row excit world seri team win seri year despit heroic old fart team casey stengel dave winfield eric roush fierkelab bchm biochem duke edu marxist groucho sort grafitti pari 1968 tanstaafl although internet come close',\n",
       " 'sure basher pen fan pretti confus lack kind post recent pen massacr devil actual bit puzzl bit reliev howev go put end non pittsburgh relief bit prais pen man kill devil wors thought jagr show much better regular season stat also lot fo fun watch playoff bowman let jagr lot fun next coupl game sinc pen go beat pulp jersey anyway disappoint see island lose final regular season game pen rule',\n",
       " 'anyon realli believ cap beat pen kid pen may loos one game playoff',\n",
       " 'robert play last night game shark got goal 38th assist definit bolster calgari chanc playoff rahim hirji',\n",
       " 'let care player perform complet random clutch clutch would still expect player good clutch everi year good everi year two year worth data 1 4 player good year 1 4 bad year 1 2 would one good one bad year 96 player 5 year 84 88 flip coin expect 3 player good 5 year 3 bad everi year actual get good year 0 1 2 3 4 5 clutch perform 4 10 37 24 18 3 coin flip random 3 15 30 30 15 3 essenti distribut clutch perform number year good perform would get process lead deviat non clutch perform complet random anyth clutch hit least definit predict capabl expect see number player end much larger predict flip coin limit player lot averag clutch situat say 1 standard deviat mean one year random explan still look good four year 84 87 look data elia 79 29 player minimum 25 50 bat clutch situat 1 sigma mean two differ year 79 29 player 38 14 chang sign two year word great clutch hitter one year realli horribl year random process expect number 39 5 14 5 everyth measur clutch hit period year could use predict abil propos definit look like random process caveat may someth relat platoon advantag could drag data e g john lowenstein probabl never clutch ab left hand pitcher might well blowout would bias sinc clutch ab would gear platoon advantag subject glanc casual lot peopl put lot effort studi everi one except elia studi unabl find anyth would allow predict someon clutch situat better flip coin self serv plug follow flaw elia studi discuss paper forth come sabr book the perfect game taylor publish author suppos get slice advanc go bug local bookstor mayb get enough take wife dinner harold',\n",
       " 'final object sourc alomar great player baerga nice see object sourc cite rather dad bigger dad post',\n",
       " 'best one saw last year willi mcgee matthew think philli fierc line drive still rise hit second deck facad vet willi mcgee one homerun last year',\n",
       " '',\n",
       " 'umpir requir call time player ask time extrem case like dust pitcher hitter eye umpir call time batter 20 second get situat box receiv pitch put giant clock size clock matter count 20 second pitch minut warm up think umpir tell hitter go hell step get sign whatev instruct pitcher pitch goe pitcher ump tell pitch feint within 20 second ball call way ryan robbin penobscot hall univers main',\n",
       " 'wetteland dl effect march 26 someth like',\n",
       " 'accord defens averag stat post sherri baerga highest percentag dps turn leagu alomar worst howev alomar higher defens averag would better use alomar opportun 469 groundbal 73 possibl doubl play alomar 332 groundout turn 18 dps baerga would da dp 328 groundout 35 dps use baerga opportunit 545 groundbal 99 possibl doubl play alomar would da dp 386 groundout 25 dps baerga 381 groundout 47 dps baerga look better though possibl dp would lower differ ss baerga consist turn twice mani doubl play howev alomar establish high level defens baerga would bet alomar better next year last year baerga good overal dale j stephenson steph cs uiuc edu grad student larg',\n",
       " 'also alomar got far greater boost home park baerga six seven home run hmm want pick second baseman play toronto take alomar anywher els probabl take baerga mike',\n",
       " 'would want use rbi rbi attempt measur combin clutch hit power hit believ clutch hit look guy hit risp want see good slugger look slug averag term evalu player rbi total better noth use mani better stat',\n",
       " 'better e mail address mr luri afraid get short version work case winfield yes career ba mere 285 beat sixth year major top sinc 1988 peak earli 80s includ rather impress season also scatter great perform like 1988 1992 definit smooth career curv',\n",
       " 'morgan guzman era 1 run higher last year cub idiot pitch harkey much hibbard castillo good think stud pitcher',\n",
       " 'recent demis chicago blawkhawk much delight notic 8 game playoff lose streak 4 pen last year 4 blue wonder nhl record consecut loss even one pretti sure hawk least 9 game lose streak sinc lost seri sinc last championship whenev basic need someth els rag hawk fan friend mike insomniac',\n",
       " 'kelli kisio captain ranger left san jose ali',\n",
       " 'player come young alway good young later damn afraid would say well perhap brave one els worth play year would lopez other worth play least opinion happen agre believ newbi take word alomar fine defens catcher statement solid reason bring tender age long feel also hit bit lopez consensus defens prowess imho enough give dread season sorri new know nichol law believ catcher era interest pitcher era differ catcher info word know logic behind differ decis would make must financi presum feel way franchis atlanta well make organiz sens one hard fault decis mean pleas tell run busi especi success sure could right could also smoke illeg substanc hey joke get offend pleas well cite anyon ethic rectitud know mean make organiz sens basebal busi solid busi reason keep lopez farm brave happen believ basebal decis armchair may disage think lot evid suggest decis made predict among larg guffaw sever start spring train think normal decis made certain revers start lopez big releas one catcher sure may conserv may also logic know ethic seem like pretti good common sens beastmast',\n",
       " '',\n",
       " 'much watch follow hockey pen bruin divis next season give neeley plenti opportun whine ulf',\n",
       " '',\n",
       " 'espn must poor market peopl concern featur player e mario featur good competit hockey heard market east coast henc would prefer wale stuff also expect canadian team espn',\n",
       " '3 soderstrom roussel hell would flyer want pick older slump roy byw could come group player trade team',\n",
       " 'actual base nhl histori 7 game statstic odd win one straight game 50 50 two straight game 25 three straight game 12 5 4 straight game 6 25 odd penguin win 14 straight game playoff 0 0061 cours includ weight averag pen beat devil 3 straight weaker team along beat ranger 3 straight much stronger team made act balanc right boston odd win probabl closer 10 weight averag sinc buffalo record good boston stronger team enough qba probabl though goe prove anyth possibl integr debbi gibson moog get 5 perform give blue 4 start fuhr tough buffalo caught hot goaltend time mean buffalo 3 win 7 loss last 10 frustrat lose gotta say someth actual win lose play game competit magnifi level 99 9 peopl care win lose think buffalo win 6 like boston get blown away lost 2 ot game differ bounc could easili 2 1 good point chicago deep troubl tonight hawk bad past histori win divis lose earli finish 1st okay',\n",
       " 'someth els consid alomar h r split 500 363 slg 444 369 obp baerga 486 424 392 318 pretti clear alomar got huge boost home park say could make good equal right p rate baerga higher actual mike',\n",
       " 'fact complet total dickhead least 2 newsgroup one rec sport hockey sinc hockey season almost back dickhead r bb',\n",
       " 'actual pretti worthless want evalu player stat rbis run score ban confus victim mediot brainwash like uh explain use obp slg evalu player precis team score run win game tradit basebal stat gotten way far away method enabl fan see contribut run score obp slg run creat linear weight etc come simplifi matter easili measur player offens contribut team run score thank make case nice day',\n",
       " 'write fact statement rebutt earlier post made cull strong rebutt statement pleas slander shame game big deal employe leav workplac matter say boss compani puhleas first ross porter second realli tire see kind respons indic parrot media person say write brain choos character someth certain fashion believ accur unnam mediot made character brand darryl respons petul never heard respons darryl call name refer primadonna someon els conclud hate hate think primadonna disagre fine stop put word mouth beastmast',\n",
       " 'yes could look prefer post question net read somewher long forgotten articl handsign use major leagu ump origin use help deaf ball player name dummi urban myth true got ta know',\n",
       " 'gee think winnipeg would top list 8 regular european well jet fan sometim wish bure would get knock silli noth serious enough keep game case owner littl give general manag one order come draft find best player team win stanley cup whether player kindersley saskatchewan chelyabinsk russia gm believ better player gm draft get call nhl leagu refer canadian player belong belong owner owner want canadian content rule might enforc canada enough doubt would enforc us cfl sorri footbal refer even tri push import ratio rule sacromento goldmin increas competit elit posit case would make player better anyway oh yeah mani european play lower level profession hockey north america play ahl ihl nhl team primari farm club hear mani european play chl echl secondari farm team ihl ie jet russian player moncton believ european ft wayn team plenti posit hockey player north america favour nhl leagu premier player world grown european play team player among best world hedberg nilsson sjoberg sel nne zhamnov olausson come way',\n",
       " 'mean would necessarili help improv specif defici meant bond bat behind give william possibl unfound confid might translat hit product right william biggest problem physic mental less like make differ',\n",
       " 'defenit underdog team talent come nowher contend 69 met 89 oriol prime exampl cub root cub feel sorri basic dog pirat today great exampl underdog rocki marlin compet underdog north star trip stanley cup final good exampl underdog journey cub good team year play weak divis much less america team',\n",
       " 'clemen go normal four day rest last pitch saturday hesketh pitch one inning yesterday afternoon first outing sinc abort 1 1 3 inning start 6 day plenti rest go expect turn saturday 5th starter good thing cours like see well manag four man rotat team glenn waugaman digit equip corpor littleton gwaugaman nac enet dec com',\n",
       " 'sinc everyon els seem run wild predict decid add fuel fire might seem bit normal albeit small surpris american leagu east w l gb 1 new york yanke 93 69 2 baltimor oriol 90 72 3 3 toronto blue jay 86 76 7 4 cleveland indian 84 78 9 5 boston red sox 77 85 16 6 milwauke brewer 74 88 19 7 detroit tiger 73 89 20 american leagu west w l gb 1 minnesota twin 94 68 2 kansa citi royal 92 70 2 3 texa ranger 85 77 9 4 chicago white sox 77 85 17 5 oakland athlet 74 88 20 6 seattl marin 70 92 24 7 california angel 65 97 29 al mvp kirbi puckett al cy young kevin appier al rooki year tim salmon al manag year buck showalt al comeback player year ozzi guillen nation leagu east w l gb 1 st loui cardin 91 71 2 philadelphia philli 89 73 2 3 montreal expo 88 74 3 4 new york met 84 78 7 5 chicago cub 79 83 12 6 pittsburgh pirat 73 89 18 7 florida marlin 54 108 37 nation leagu west w l gb 1 atlanta brave 96 66 2 cincinnati red 94 68 2 3 houston astro 89 73 7 4 los angel dodger 82 80 14 5 san francisco giant 81 81 15 6 san diego padr 75 87 21 7 colorado rocki 59 103 37 nl mvp barri larkin nl cy young john smoltz nl rooki year wil cordero nl manag year joe torr nl comeback player year eric davi nl champion st loui cardin al champion minnesota twin world champion st loui cardin st loui pick heart say brain say win divis lose brave nlcs brave win seri minnesota stick card way',\n",
       " 'newsgroup rec sport basebal harri talk incid autobiographi holi cow unfortun clarifi sinc 1 read book coupl year ago 2 book anyway pretti interest book harri cub fan',\n",
       " 'vacat last week see news could somebodi fill st loui end mark whiten trade give arocha allen watson dmitri young dal make decent deal',\n",
       " 'opi offens product index al player least 10 bat earli season high number last year leader frank thoma 0 682 team denot first charact name player team preceed name equat use found end post comment suggest welcom kevin leagu opi 0 448 leagu ba 0 268 leagu slg 0 405 leagu oba 0 341 rank player opi ba slg oba 1 tor carter 2 142 0 583 1 417 0 615 2 cle baerga 1 432 0 520 1 040 0 538 3 det phillip 1 334 0 565 0 609 0 655 4 oak mcgwire 1 147 0 364 0 636 0 632 5 tor white 1 065 0 500 0 650 0 545 6 bal anderson 0 951 0 423 0 692 0 500 7 nyy owen 0 934 0 500 0 577 0 567 8 oak rhenderson 0 911 0 391 0 565 0 533 9 mil thon 0 804 0 476 0 619 0 476 10 oak brown 0 800 0 476 0 476 0 522 11 tex palmer 0 781 0 333 0 875 0 333 11 det gibson 0 781 0 312 0 562 0 500 13 cle howard 0 755 0 455 0 727 0 455 14 nyy tartabul 0 742 0 296 0 667 0 424 15 tex rodriguez 0 736 0 429 0 500 0 529 15 tex gonzalez 0 736 0 261 0 913 0 292 17 bos zupcic 0 728 0 400 0 500 0 455 18 sea felder 0 723 0 357 0 429 0 471 19 oak blankenship 0 722 0 333 0 333 0 524 20 min puckett 0 717 0 280 0 720 0 379 21 nyy oneil 0 710 0 435 0 609 0 458 22 cle bell 0 703 0 348 0 696 0 375 23 sea buhner 0 699 0 294 0 471 0 478 24 mil hamilton 0 682 0 458 0 458 0 500 25 det whitak 0 680 0 312 0 500 0 421 26 det fielder 0 666 0 273 0 591 0 407 27 tor spragu 0 649 0 300 0 750 0 300 28 whi cora 0 646 0 350 0 500 0 458 29 whi rain 0 641 0 250 0 750 0 308 30 nyy kelli 0 625 0 348 0 565 0 375 31 bos quintana 0 617 0 455 0 455 0 455 32 sea tmartinez 0 612 0 211 0 632 0 348 32 cal gonzal 0 612 0 250 0 250 0 478 34 whi burk 0 609 0 348 0 565 0 375 35 cal snow 0 602 0 368 0 526 0 400 36 whi karkovic 0 598 0 167 0 417 0 412 37 cleveland 0 595 0 340 0 549 0 377 38 cle sorrento 0 594 0 273 0 727 0 273 39 sea amar 0 587 0 368 0 579 0 429 39 bos cooper 0 587 0 375 0 458 0 423 41 min winfield 0 578 0 292 0 667 0 292 42 cal curti 0 571 0 333 0 381 0 417 43 bos mvaughn 0 566 0 316 0 526 0 350 44 oak steinbach 0 556 0 333 0 542 0 385 45 oakland 0 555 0 298 0 439 0 406 46 nyy maa 0 547 0 333 0 389 0 429 47 kan joyner 0 546 0 300 0 400 0 417 48 min knoblauch 0 535 0 304 0 348 0 448 49 bos greenwel 0 534 0 261 0 478 0 370 50 oak brosius 0 532 0 273 0 545 0 333 51 tor olerud 0 530 0 333 0 400 0 412 52 bal merced 0 529 0 286 0 429 0 412 53 nyyanke 0 527 0 321 0 468 0 377 54 bal hoil 0 525 0 263 0 526 0 333 55 mil kmak 0 523 0 286 0 286 0 412 56 oak dhenderson 0 517 0 231 0 462 0 412 57 cle lofton 0 515 0 346 0 385 0 370 58 min larkin 0 514 0 357 0 500 0 400 59 bos dawson 0 504 0 333 0 458 0 360 60 cle camartinez 0 503 0 333 0 389 0 400 61 det gladden 0 498 0 312 0 500 0 312 62 cal polonia 0 494 0 292 0 500 0 320 63 california 0 487 0 295 0 404 0 364 64 detroit 0 484 0 260 0 410 0 357 65 det tettleton 0 475 0 211 0 421 0 348 66 cal disarcina 0 473 0 304 0 478 0 304 67 cal easley 0 472 0 304 0 435 0 333 68 bal bain 0 470 0 300 0 400 0 364 69 tex franco 0 469 0 300 0 350 0 391 70 whi ljohnson 0 464 0 280 0 400 0 333 71 sea vizquel 0 463 0 222 0 222 0 417 72 nyy bwilliam 0 461 0 294 0 471 0 314 73 mil gvaughn 0 460 0 222 0 389 0 391 74 min hrbek 0 458 0 240 0 360 0 367 75 bal cripken 0 451 0 333 0 407 0 379 75 seattl 0 451 0 237 0 367 0 361 77 cal salmon 0 448 0 267 0 267 0 450 78 kan mcreynold 0 447 0 182 0 500 0 280 79 toronto 0 443 0 261 0 430 0 318 79 texa 0 443 0 237 0 489 0 289 81 min pagliarulo 0 439 0 286 0 429 0 333 82 whitesox 0 432 0 243 0 378 0 336 83 kan hiatt 0 431 0 278 0 500 0 316 84 whi guillen 0 426 0 263 0 263 0 364 85 whi thoma 0 419 0 259 0 333 0 355 86 kan mcrae 0 414 0 296 0 333 0 345 87 boston 0 411 0 270 0 365 0 336 88 cle hill 0 410 0 300 0 500 0 300 89 nyy mat 0 400 0 324 0 353 0 343 90 baltimor 0 394 0 251 0 361 0 315 91 bal gomez 0 382 0 316 0 316 0 350 91 minnesota 0 382 0 237 0 379 0 298 93 whi fisk 0 381 0 273 0 545 0 273 94 cle jefferson 0 379 0 263 0 316 0 333 95 oak neel 0 370 0 188 0 500 0 188 96 cal cdavi 0 369 0 211 0 421 0 250 97 bos fletcher 0 364 0 217 0 391 0 280 98 milwauke 0 361 0 257 0 293 0 333 99 det livingston 0 360 0 250 0 438 0 294 100 tor ralomar 0 354 0 263 0 316 0 333 101 kansasc 0 343 0 236 0 327 0 291 102 oak bordick 0 339 0 200 0 250 0 304 103 tex canseco 0 337 0 190 0 381 0 261 104 sea vall 0 336 0 250 0 312 0 294 105 bal devereaux 0 329 0 207 0 379 0 233 106 kan lind 0 323 0 188 0 438 0 188 107 mil surhoff 0 312 0 227 0 273 0 292 107 kan brett 0 312 0 259 0 296 0 286 109 whi bell 0 310 0 207 0 310 0 258 110 cle salomar 0 306 0 200 0 200 0 304 111 mil jaha 0 304 0 267 0 267 0 353 111 det fryman 0 304 0 185 0 296 0 214 113 nyy bogg 0 296 0 200 0 233 0 294 114 tex bripken 0 290 0 250 0 333 0 308 115 min mack 0 289 0 233 0 333 0 258 116 min harper 0 288 0 280 0 280 0 280 117 cle fermin 0 284 0 200 0 200 0 304 118 bos rivera 0 276 0 118 0 176 0 286 119 mil spier 0 275 0 231 0 231 0 286 120 mil yount 0 268 0 208 0 208 0 269 121 tor schofield 0 265 0 133 0 267 0 235 121 tex huls 0 265 0 154 0 308 0 214 123 sea griffey 0 261 0 105 0 263 0 261 124 sea obrien 0 259 0 100 0 100 0 308 124 kan macfarlan 0 259 0 273 0 273 0 333 126 oak sierra 0 256 0 200 0 240 0 231 127 kan jose 0 254 0 167 0 167 0 286 128 bos hatcher 0 252 0 188 0 188 0 278 129 sea blower 0 251 0 200 0 200 0 273 130 whi ventura 0 247 0 167 0 167 0 310 130 tex palmeiro 0 247 0 130 0 261 0 167 132 bal reynold 0 227 0 118 0 118 0 250 133 kan mayn 0 222 0 231 0 231 0 231 133 cal myer 0 222 0 231 0 231 0 231 135 nyy noke 0 219 0 150 0 300 0 150 136 bos calderon 0 209 0 167 0 167 0 286 137 bos pena 0 207 0 267 0 267 0 267 138 tor molitor 0 194 0 150 0 200 0 190 139 det deer 0 182 0 125 0 167 0 192 140 det cuyler 0 179 0 077 0 154 0 143 141 tor border 0 159 0 111 0 167 0 158 142 whi grebeck 0 141 0 100 0 100 0 182 143 bal gdavi 0 137 0 111 0 148 0 143 144 tex dascenzo 0 128 0 091 0 182 0 091 145 min leius 0 115 0 083 0 083 0 154 145 mil reimer 0 115 0 083 0 083 0 154 147 tor djackson 0 114 0 133 0 133 0 133 148 tex gill 0 070 0 059 0 059 0 158 149 kan gagn 0 042 0 095 0 095 0 095 0 74 1b 1 28 2b 1 64 3b 2 25 hr 0 53 bb 0 34 sb 2 cs opi ab h ba h ab slg h 2b 2 3b 3 hr ab oba h bb ab bb',\n",
       " 'done',\n",
       " 'never seen game one player commit 5 penalti someth like would requir attent refere creat score opportun might one see relationship free throw award certain number foul obvious easier score basketbal opportun basketbal team score 100 point least fifti chanc made averag number shot taken team hockey game total guess probabl around 40 team lucki capit mayb 5 good idea concern penalti think player award penalti shot chanc score interf also later post talk bore nba game attend play stop often penalti shot rule take time hockey game',\n",
       " 'meaningless compar one player plus minus statist anoth player context role play time player involv compar jagr franci plus minus ridicul absurd gerald thank put perspect',\n",
       " 'plate may well big differ swing bat well red plate uuuggghhhh red fan verg nervous breakdown mike prognosi kevin mitchel 2 3 day matter day read gari burbank told tell strong surviv weak disappear intend disappear jimmi hoffa mtissand magnus ac ohio state edu',\n",
       " 'believ sh like get attent group playoff ali blabber moron least could wait till end playoff start dumb letter campaign',\n",
       " 'beat penguin crash team plane',\n",
       " 'bori majorov made 1 1 year deal tappara',\n",
       " 'whoa forget coupl guy name gant justic lead probabl steal 40 might hit 300 never hit 20 homer think went 2 4 one said right anyon els like deon think hype 300 season last year good convinc remind sorri year 1987 tim wallach hit 30 homer 127 rbi never even came close happen cours mayb prefer guy go busi play attent ho doug robert larri walker god delino deshield think',\n",
       " '',\n",
       " 'inform lankford injur think shoulder rib cage could use pinch hitter believ whiten good aquisit card much offens capabl awesom defens sinc cardnial actual thought offens instead defens forgot st loui gave much far gilkey concern leftfield brian jordan beat expect see gilkey jordan platoon lf agre one soon larkin threw ball knew lankford dead bird could dent known larkin would make perfect throw strong believ torr one best manag basebal forget overachiev card 91 close game went last place second place although oveshadow brave twin last first climb divis titl bare lost pennant race brave atlanta ever even consid fire never understand torr control cardin head right direct one thing one game make season yes lost red second best pitch staff nation leagu first east pretti good offens redbird win lot lose mayb year go way charl enthusiast cardnial fan º charl rosen º thirti four thirteen º º univers alabama º nation champ roll tide º º tuscaloosa al º need say º',\n",
       " 'cours care conclus draw huh 20 30 worst decad great pitch grove vanc dean whole lot els best around hitter stat wise ruth gehrig foxx greenberg hornsbi cobb etc play 40 stat wise 60 graveyard hitter know one consid great sheffield also better shoe time pitch run comparison lot thing take account well compar compar player standard era keep mind era era differ without throw hand despair shown us un reason mantl sheffield comparison',\n",
       " 'list bring mind possibl worst trade sinc babe nono nannett e milt pappa frank robinson think 1965 robinson proceed win tripl crown 1966 may beaten yaz 67 injur slide second collid mighti al wei chisox',\n",
       " 'four five game finn play goali chosen best player oppos team fifth finnish goali ketter elect best finn goali good day game finnish player lousi scorer anyway quit goal score game general except cours canada vs itali look like goali get good due equip get bigger cover glove e g seem much bigger year ago anybodi know rule goali equip chang way mikko wihervaara',\n",
       " 'encourag runner stretch lead would probabl also result ina greater number pickoff think would workabl rule would probabl best experi anoth leagu tri big',\n",
       " 'agre home run clemen alway memor kinda like eclips hurrican happen often',\n",
       " 'wake smell norri rick zombo trade blue vinc riendo sp last season',\n",
       " 'littl write ranger last see mike went penalti reason island test hard',\n",
       " 'believ two 15 day 60 day rememb 30 day rather 21 day anyway gone period length minimum maximum keep guy 15 day long want still certifi injur player must period evalu determin still injur thus cannot park player dl mayb option wish expos waiver get someon qualifi 60 day reduc frequenc evalu longer believ limit number player place dl often choos juggl injur player list king sparki banaian tax new tax kbanaian pitzer claremont edu old tax tax dept econom pitzer colleg enough rep alan key latest 1993 gdp forecast 2 4 pleas run alan',\n",
       " 'articl jewish major leaguer recent issu elysian field use minnesota review basebal recal amaz amount research long list player larg bibliographi',\n",
       " 'whole lot complet ignor stuff pitt give guy drug test ridalin whale',\n",
       " '',\n",
       " 'ok tri lukko finland look color mask ex jypht finland germani excel defenseman hifk finland tappara finland hpk finland jokerit finland hpk finland jypht finland new contract jypht own player right czech kadlec dolez anymor good hockey player big surpris hlinka select dolez dole bad season jypht make new contract czech jiri jonak got fire also',\n",
       " 'took three day get us tri anyway natur seen answer safe correct call infield fli batter fair runner may advanc risk gotta tag caught etc forc pop caught regardless whether ss tag 3b 2b clear got runner see rule 6 05 l approv rule case umpir decid whatev reason infield fli rule appli sound like bad call point batter forc situat creat therefor runner unless rule 6 05 l ball dead batter safe guess runner would advanc unmolest realli tell 6 05 l ball dead situat pertin rule 2 00 definit infield fli infield fli call runner may advanc risk infield fli rule infield intent drop fair ball ball remain play despit provis rule 6 05 l infield fli rule take preced 6 05 l batter infield intent drop fair fli ball line drive first first second first thrid first second third base occupi two ball dead runner runner shall return origin base base approv rule situat batter infield permit ball drop untouch ground except infield fli rule appli',\n",
       " 'ask cherri deni roger maynard deni knowledg usenet',\n",
       " 'believ acker got ring wife marri know guy keep bicker morri stat show mediocr pitcher best year anoth case happen win 21 game saw mani game last year pitch good game crap clutch pitcher nonsens constant give go ahead run 6 8th inning clutch inning jay would somehow scrape win anoth major factor 21 win cito dont realiz bullpen gaston would leav morri ever therefor give mani chanc win game believ major reason 21 game last year barri walker bnr ottawa canada',\n",
       " 'regular season 1992 93 davi tabletop basebal leagu come end help us next year leagu would appreci would take coupl minut vote leagu mvp cy winner award player stand inflat salari next year leagu pleas vote 5 categori order exampl 1 barri bond 2 frank thoma 3 biff pocoroba 4 shooti babitt 5 lip lundi pleas vote pitcher mvp vote leagu team leagu get one candid mvp one cy defens posit list applic along abbrevi perform e excel v good averag p poor b poor thank pleas repli april 10 record season 144 game long thank help mvp candid name g ab h 2b 3b hr r rbi bb k sb cs ibb ba obp slg def griffey 124 338 99 27 0 16 44 64 39 50 0 0 16 293 362 515 8 p emartinez 139 562 176 55 3 14 85 87 44 77 14 5 6 313 359 496 5 sandberg 137 559 163 35 6 20 100 102 64 67 4 1 2 292 360 483 4 v ventura 144 562 161 32 0 9 83 59 80 61 0 1 3 286 374 391 5 e mcgriff 148 533 150 25 1 33 89 98 102 132 0 3 20 281 398 518 3 p mcgwire 138 487 134 31 1 34 108 104 128 100 0 3 38 275 425 552 3 e ralomar 127 515 159 23 8 5 85 34 70 67 54 11 1 309 389 414 4 p dykstra 144 582 157 27 1 3 94 60 65 67 89 20 3 270 339 335 8 butler 137 534 158 13 13 1 82 50 83 69 13 19 0 296 386 375 8 b deer 119 425 103 26 1 33 66 75 44 141 1 3 2 242 311 541 9 v bond 145 465 143 39 4 33 128 101 187 62 23 5 68 308 502 622 7 e hrbek 129 423 112 21 0 12 62 52 80 77 1 0 2 265 380 400 3 p jgonzalez 135 543 121 17 1 38 59 85 28 146 0 0 2 223 259 468 8 b player miss time due injuri other sat end avoid possibl injuri better player list team get one one candid player play 144 game due trade team game left time span pitcher name era g w l ip h bb k hr gs cg sho wp dmartinez 3 01 30 15 8 0 209 1 173 76 124 12 30 2 0 2 dibbl 0 80 37 0 2 25 33 2 21 8 46 1 0 0 0 0 rijo 3 40 26 13 7 0 177 1 175 56 133 12 26 5 1 5 mussina 2 92 29 15 7 0 206 2 167 46 119 15 29 3 1 2 bene 3 24 28 14 9 0 194 1 172 53 127 13 28 4 1 1 khill 2 93 27 16 7 0 196 2 144 64 166 20 26 8 3 1 smoltz 3 62 28 11 11 0 186 1 177 66 158 9 28 6 1 7 cone 3 46 28 14 7 0 197 2 152 103 193 10 28 7 1 5 drabek 2 79 29 13 10 0 206 2 166 55 131 16 29 4 0 2 tewksburi 3 28 25 12 8 0 172 2 168 36 64 8 25 4 2 1 clemen 2 94 31 16 11 0 223 1 198 71 178 13 31 17 2 1 tomlin 2 48 28 12 5 0 196 0 172 42 97 8 27 1 0 2 farr 0 81 38 4 1 17 55 1 28 25 38 1 0 0 0 0 curt schill threw perfect game year ken hill threw hitter rob dibbl pitch 32 scoreless inning start year choke last two game cost perot giant suck sound playoff spot want stat player avail request pleas take time repli thank gari huckabay kevin kerr al feldstein mid 90 live argument anyth love huge exist parallel sig someon quot 100 line add univers 3 4 new one consecut post',\n",
       " 'stuff upat inning score delet exact time see messag even result game necessari thank mr hernandez post daili stand result everi day suppos take compliment put wonder meant entir 100 compliment servic entir basebal world usenet especi east coast get final score west coast game newspap late tv newscast help fan countri either receiv week score updat week also mani request kind servic previous avail bbs pay news servic way mine free charg copyright restrict tri critic servic fact tri encourag other use person use sure other point post need individu duplic ad hoc fashion alreadi organ want send updat score set privat mail list use rememb post final score updat stand day rec sport basebal newsgroup everyth done privat e mail current 986 peopl mail list branch mail list avail mani other list grow averag 35 peopl day one person great idea 100 keep good work joseph',\n",
       " 'compar cullen salami would say valid winnipeg lousi defens team hell salami stand around team bluelin puck end excus jet play 500 hockey let check yes bare allow goal score sound aw lot like salami sound like would well better play solid two way game friend finland claim capabl chal leng leagu lead goal would bi plane might challeng first howev let see compar timo anderson cullen next mike foligno finnish friend watch play claim play solid two way game would say style contribut would conduc win think believ compar foligno honest read far would help use littl discrimin think contribut would high valu could see tri mere argument cordial alway rm',\n",
       " '',\n",
       " 'current vote favorit goali mask 3pts 1st 2pts 2nd 1pt 3rd player team pts vote 1 ed belfour chicago 31 14 2 andi moog boston 30 13 3 curti joseph st loui 26 11 brian hayward san jose 26 10 5 ron hextal quebec 16 8 6 gerri cheever boston retir 11 6 7 john vanbeisbrouck ny ranger 10 4 grant fuhr buffalo 10 4 9 mike richter ny ranger 6 3 10 manon rheaum atlanta ihl 5 2 11 beaupr washington 4 2 ken dryden montreal retir 4 2 other receiv less 4pts mike vernon cal clint malarchuk buf sd ihl tommi soderstrom phil ray leblanc usa artus irb sj tim chevelda det sean burk nj rick wamsley tor ret jon casey minn bob essensa win glenn heali nyi toy espo gill gratton rod stauber la gump worsley pat jablonski tb grant fuhr tor felix potvin tor stephan beauregard win mark fitzpatrick nyi chico resch nyi someon pleas tell team play ed thank',\n",
       " 'usual one two team chang logo minor uniform chang per season past season incred thought new old red uniform rememb see pete rose rooki card unless miss guess wear exact dud met doc perform today reinsert met patch shoulder chang met insgnia front jersey knowledg first time chang sinc 1962 remind littl dodger logo mani team opt return previous style uniform least uniform look tradit philli red expo white sox padr etc bright color alter gray trend also seen newer basebal field resembl park earli year oppos cooki cutter saucer stadium construcrt throughout sixti salari reach unbeliev high one comission offic inter leagu play horizon nice see basebal least look like meant',\n",
       " 'last steve novak sinc read entir origin post hite mr fischer actual restrain let mr hite hope never make similar tini mistak',\n",
       " 'dave lueck post dispatch staff 9 11 thursday night scoreboard watcher arena began cheer cheer quick turn roar final sellout crowd 17 816 rose one rock old barn 5700 oakland avenu salut playoff bound blue scoreboard flash news detroit red wing 5 star 3 north star loss blue offici clinch fourth place final playoff spot norri divis good thing blue quit play held 5 1 lead tampa bay detroit minnesota final appear 3 minut 52 remain second period prompt went sleep bare held 6 5 victori near slip away buzzer tampa bob beer tip pass shawn chamber offici supervisor john amico video goal judg rich schweigler rule shot gone net time expir glad see go end blue coach bob berri said goal count upset blue disappear final 24 minut hold victori make playoff temper berri anger pretti end said play 36 37 great minut good play year slip away end still blue prompt anoth ovat crowd game end despit shoddi effort third period turmoil season blue still made playoff meet chicago blackhawk best seven norri divis semifin begin noon sunday chicago stadium blue finish regular season record 37 36 11 85 point fourth consecut plus 500 season minnesota finish three point behind fifth place record 36 38 10 82 point tampa bay play spoiler last week tie blue 2 2 tampa end first season record 23 54 7 53 point poor finish cast unnecessari shadow joyous blue locker room instead mood one relief disappoint shame let said kevin miller one three blue score two goal brendan shanahan bob bassen other need letdown kept work would end 6 2 everyon would happi instead lot player happi make playoff matter said brett hull scoreless minus 3 night got 4 0 realli tough play player problem score announc line quit said rich sutter play bassen miller still game play allow five goal like right disappoint see go bassen almost frantic bench blue effort somehow miss announc minnesota loss know final said kind look around bench realiz final reason playoff great littl disappoint play like end letdown precis reason berri instruct scoreboard oper keep minnesota detroit score board score show 0 0 first pop detroit lead 4 2 third period blue alreadi led 4 0 time told want see score want know score berri said felt win game approach took minnesota took lead berri fear pressur win might bother blue detroit led worri blue might quit announc blue play splendid shanahan got crowd go 10 44 first period score 50th season miller bassen took charg late period team play four four miller broke left wing deke defenseman roman hamrlik beat former blue goali pat jablonski rebound shot 21 6 second remain period 10 5 second later bassen rifl long slap shot past jablonski defenseman rick zombo intercept tampa pass neutral zone bassen made 4 0 14 second second period score rebound bret hedican shot goal gave first two goal game season remind special friend last year bassen befriend young oliv mulvihil die rare form cancer age 6 feb 23 think buddi oliv bassen said heaven know watch know happi miller increas blue lead 5 0 break away goal set zombo 11 09 steve maltai broke curti joseph shutout 18 second later make 5 1 less minut north star final announc tim bergland score cut lead 5 2 shanahan score 51st convert pass nelson emerson 21 3 second remain second period lightn adam creighton score 40 second third period prompt berri rest overwork joseph guy hebert allow goal shawn chamber danton cole span 1 21 midway third period goal chamber cole made shanahan second goal stand winner shanahan said game',\n",
       " 'fleuri enforc agit sure fleuri never never fight seem say wood closest fleuri ever came fight game two year ago los angel scrum mcsorley pinch fleuri head arm fleuri drop glove gave mcsorley weak shot side head mcsore know good thing saw one pop fleuri one right eye end fight fleuri got ten stitch troubl player ever see theo fight cliff ron even give two inch 10 15 pound',\n",
       " 'heard stori local sport news broadcast edmonton oiler owner peter pocklington hold press confer next week exact detail known believ concern oiler futur rumour pocklington sign tentat leas arrang copp collesium hamilton press confer pocklington may announc deal quit possibl deal may simpli way forc edmonton northland renegoti oiler leas stadium northland offer buy oiler 65 million earlier offer reject immedi pocklington opinion divid edmonton fair support oiler even though small market team mani sellout 80s even problem team year still brought fan mani team larger citi hand team move place deserv hamilton cours would affect grand realign scheme bettman follow provinci govern ask opposit block deal pocklington offer hamilton govern said pock go nowher believ govern pocklington want tori leader 9 year ago',\n",
       " 'viola play nl met possibl defeat lost everi team ditto tanana mention previous post rememb seaver manag get win white sox brief sojourn boston say pitcher defeat everi team either mike torrez bounc around enough long enough period time koosman mention would also guess one two manag beat everi team manag lose everi team tom',\n",
       " 'curti joseph ray leblanc made big move poll recent hextal shown strong movement well kirk mclean tom barrasso see ad list recent keep send vote current vote favorit goali mask 3pts 1st 2pts 2nd 1pt 3rd player team pts vote 1 ed belfour chicago 32 15 curti joseph st loui 32 13 3 andi moog boston 30 13 4 brian hayward san jose 26 10 5 ron hextal quebec 16 8 6 grant fuhr buffalo 12 5 7 gerri cheever boston retir 11 6 8 john vanbeisbrouck ny ranger 10 4 9 ray leblanc usa olymp 7 3 10 mike richter ny ranger 6 3 11 manon rheaum atlanta ihl 5 2 12 beaupr washington 4 2 ken dryden montreal retir 4 2 other receiv less 4pts mike vernon cal clint malarchuk buf sd ihl tommi soderstrom phil tom barrasso pit artus irb sj tim chevelda det sean burk nj rick wamsley tor ret jon casey minn bob essensa win glenn heali nyi toni espo chi gill gratton bos rod stauber la gump worsley mtl nyr pat jablonski tb grant fuhr tor felix potvin tor stephan beauregard win mark fitzpatrick nyi chico resch nyi kirk mclean van',\n",
       " 'comment delet bandwidth god know need ok roger question say run expans team team moment draft come go pick guy ws ring guy could contribut team say red dumb enough protect larkin jay protect alfredo would pick believ get involv john',\n",
       " '1992 93 los angel king note game report king 6 calgari flame 3 04 18 93 third place king open 1993 stanley cup playoff calgari second place flame came impress 6 3 victori front non sellout crowd 18 605 saddledom calgari symth divis playoff hockey team seem bit tens open period though king score open face king got flow game much earlier flame play stand team defens took flame 9 45 first period record first shot goal king rank 16th 16 playoff team penalti kill shut flame flame went 0 8 power play could record 8 shot goal 8 opportun king problem power play yet manag score 2 goal 10 tri king forward back check defens stood flame blue line allow king take took home ice advantag away flame rob blake miss game due lower back contus ex pect lineup wednesday wayn gretzki suffer charli hors right leg took shift second period retir dress room rest game interview radio morn state fine would lineup wednesday 1st period 1 0 king got thing start right open face gretzki draw puck go sydor cross center ice slap puck flame zone behind net puck carri around far side robitaill wack rebound bounc sandstrom put puck behind flame net gretzki pick gretzki set offic move near side pass near circl sydor move sydor got puck face dot hash mark shot pass beat vernon low leg millen fleuri went 4 57 skrudland went 12 25 king fail convert carson went 14 53 flame fail convert dahlquist went 18 34 dahl went 19 30 give king 30 second 5on3 fail convert king record 2 goal post period 2nd period king open 5on3 carri 1st period fail convert 6 second left 5on4 vernon put bounc puck stand receiv delay game 1 1 calgari even score ensu king power play kurri puck neutral zone tri put puck flame zone hit stick fleuri bounc suter flame blue line suter skate near wing king zone fake shot circl skate around kurri cut thorugh creas got hrudey go put puck behind hrudey stick side short hander 2 1 king reclaim lead 25 second later power play shuchuk far circl pass sydor top slot head net sydor shot hit shuchuk back drop low slot 2 king shuchuk granato check 3 flame carson came far corner pick loos puck snap wrist shot leg vernon 5 feet creas 3 1 king widen lead 24 second later rychel check puck flame blue line taylor pick puck sent pass cross slot huddi huddi shot pass near face dot beat dive vernon glove side 4 1 2 59 later king 3 goal lead mcsorley took shot form near point hit flame deflect toward board marti got rebound skate bottom circl sent pass low slot hit dahlquist leg deflect past stick vernon skrudland went 10 53 king could convert sydor went 12 35 watter went 14 40 give flame 5 second 5 3 fail convert mcsorley went 17 19 flame 3 consecut power play flame kill suter went high stick 17 31 sandstrom went 18 03 close period king hit 3 goal post period 3rd period king use phrase initi retali evid 3rd period king continu pound bodi flame continu take bad penalti take game 5 1 king extend lead 4 goal 1 06 mark king shot puck near corner flame zone vernon went behind net cut puck could control donnelli behind wack puck send low slot vernon slid back creas granato got shot hit flame bounc left net millen fire rebound behind vernon sydor went 1 24 nieuwendyk went 3 22 team skate 4 4 5 2 otto skate far side step around mcsorley cut net pass dahlquist low slot dahlquist cut top creas put puck dive hrudey carson rychel came 2 1 carson pass across rychel fleuri trip rychel call puck got shovel far corner fleuri knock rychel check behind board draw 5 minut major game misconduct 6 08 mark unfortun king squander 5 minut power play granato 6 44 watter 8 19 took penalti 5 3 flame close within 2 8 47 mark macinni near point pass yawney far point took stride toward net wound drove shot near post glove hrudey play start anoth faceoff king lost timeout la 6 3 macinni took penalti 9 56 king convert power play seal victori sandstrom skate far wing flame zone cut toward back net cross goal line pass puck low slot far side carson shot pass beat vernon ice stick side 16 17 mark skrudland went slash stern went crazi went shuchuk stern wound doubl minor rough singl minor cross check 10 minut misconduct took flame right game plus side king part play disciplin hockey let calgari retali king play good team defens excel penalti kill minus side king lost almost everi face must improv flame sure get power play back track note king recal guy levequ brandi semchuk jim thomson phoenix wayn gretzki 1st period assist 307th career playoff point king enter game 24th leagu shot per game give oppos team averag 34 4 shot per game flame goaltend mike vernon enter game 3 9 1 record afternoon game flame enter game 34 success rate power play last 9 game team 3 3 1 regular season playoff campbel confer smyth divis la 6 cal 3 la lead 1 0 win van norri divis stl 4 chi 3 stl lead 1 0 tor det wale confer adam divis buf 5 bos 4 ot buf lead 1 0 mon 2 que 3 ot que lead 1 0 patrick divis nj 3 pit 6 pit lead 1 0 nyi 1 3 lead 1 0 record vs smyth norri patrck adam overal home 0 0 0 0 0 0 0 0 0 0 0 0 0 0 0 road 1 0 0 0 0 0 0 0 0 0 0 0 1 0 0 total 1 0 0 0 0 0 0 0 0 0 0 0 1 0 0 box score calgari 0 1 2 3 los angel 1 3 2 6 1st period la sydor 1 gretzki sandstrom 0 16 la millen high stick 4 57 cal fleuri high stick 4 57 cal skrudland interfer 12 25 la carson trip 14 53 cal dahlquist hold stick 18 34 cal dahl rough 19 30 2nd period cal verson delay game serv ashton 1 34 cal suter 1 fleuri 2 48 sh la carson 1 shuchuk sydor 3 13 pp la huddi 1 taylor rychel 3 37 la mcsorley 1 unassist 6 36 cal skrudland elbow 10 53 la sydor trip 12 35 la watter hook 14 40 la mcsorley hold 17 19 cal suter high stick 17 31 la sandstrom hook 18 03 3rd period la millen 1 granato donnelli 1 06 la sydor hook 1 24 cal nieuwendyk trip 3 22 cal dahlquist 1 otto 4 23 cal fleuri major board game misconduct 6 08 la granato trip 6 44 la watter interfer 8 19 cal yawney 1 macinni reichel 8 47 cal macinni rough 9 56 la carson 2 sandstrom robitaill 10 32 pp la hardi hold 11 38 cal skrudland slash 16 17 cal stern doubl rough cross check 10 min misconduct 16 17 overtim none shot los angel 8 9 14 31 calgari 5 8 11 24 power play convers 2 10 year 2 10 20 00 0 8 year 8 8 100 00 goali los angel hrudey 1 0 0 calgari vernon 0 1 0 attend 18 605 scratch rob blake back contus guy levequ number lonni loach number marc potvin number brandi semchuk number robb stauber number brent thompson number jim thomson number line forward robitaill gretzki sandstrom donnelli millen kurri rychel conach taylor granato carson shuchuk line defens huddi sydor watter zhitnik hardi mcsorley denot start lineup next game wednesday april 21 calgari flame 6 30pm pacif time prime ticket stan willi willi empir dnet hac com net contact l king',\n",
       " 'quot cire trehguad subject captain ever trade resign stripe titl season team captain trivia would appreci cyt cyt ron franci captain whaler trade cyt pittsburgh cyt rick tochett captain flyer trade pen cyt recent cyt caleb cyt let us forget new jersey devil trade cyt captain kirk muller stephen richer chorsk cyt man hate trade well team captain trade first year nhl edmonton oiler trade captain ron chiperfield quebec nordiqu right trade deadlin goaltend ron low second year exist edmonton oiler right trade deadlin trade captain time b j mcdonald vancouv canuck along right winger ken berri garri larivier right lar gunner petterson captain trivia next edmonton captain lee fogilin later trade buffalo sabr wayn gretzki trade l came kevin low year trade n ranger everi captain edmonton oiler trade present captain craig mctavish wait see well talk later steve',\n",
       " 'mighti one get mightier tps finnish champion 1992 3 get still stronger heard news accord tps acquir next finnish hockey superstar jere lehtinen kiekko espoo also rumour erik kakko reipa marko jantunen kalpa trade tps player current finnish olymp team think jantunen draft nhl btw juha yl nen centr hpk draft jet last year reach top level among finnish centr good playoff game tps hannu',\n",
       " 'someth crosspost ahl mail list discuss chris lerch subject springfield 1st round upset provid bruin came chris basic rais possibl ahl hierarchi bias favor indian note offic leagu spring mani ex indian work ahl furthermor also inform back year ago cup final roch spring amerk charg favorit offic littl question thing liket ahl presid staff attend game springfield brass includ sit box game springfield accord rochest media open cheer springfield certain someth quit serious true know anyth whine part amerk pull sort crap wing true somth serious rais question presid jack butterfield leadership btw post permiss chris',\n",
       " 'want let peopl e mail possibl cardin mail list abl get ok host list someon els mani thank bob netherton help info',\n",
       " 'ya know kind funni caus seen kariya campus shark hat pat elli p go bruin go umain black bear 42 1 2 number 1 hockey east regular season champion hockey east tournament champion paul kariya hobey baker award winner ncaa div 1 hockey tournament champion',\n",
       " 'polish jewish mutual exclus',\n",
       " 'expect buffoon said pen draft kirk muller instead mario lemieux perhap upon time cherri insight game hockey realli degener parodi',\n",
       " 'black hispan man better serious read realli realli doubt meant say mike',\n",
       " 'phenomenon known around work readi fire aim astound number time peopl post strong opinion thing understand public admit understand fact plausibl argument save ration stat win record two way reliev get save must finish game either 1 enter game tie run base bat deck 2 pitch least three inning effect pitcher may get win save game argument win dumb stat save support claim save begin post mike jone aix high end develop mjone donald aix kingston ibm com',\n",
       " 'linar defect point mlb requir player defect first surpris long pool talent access team mlb let team sign seem perfect reason except mlb allow ever said',\n",
       " 'buy think thing color larg degre preconceiv notion player involv tri exercis xxx pitch today team score 4 first inning 3 fourth xxx give 0 1st 4th fifth give 3 run 6th give 2 score 7 5 xxx team still top contend xxx jack morri assess would gutti veteran pitch well win xxx mike trmbley assess would inexperienc rooki know pitch need season send aaa spice rack',\n",
       " 'depend get old veteran cheap perform higher level young talent talent develop minor give fan familiar name cheer veteran gone year two right open question import expans club expans draft regular draft one think dale j stephenson steph cs uiuc edu basebal fanat',\n",
       " 'cours expect umpir show player get wrong understand natur game believ littl ego ectomi umpir would make game much better ted social nag bodi bag make dead drag drag drag saigon kick bodi bag lizard',\n",
       " 'well maddux look excel brave shutout cub 1 0 justic drove run rbi singl first get readi monster year hit ball opposit field lot power go natur power right field good bat eye stay healthi back full strength year get 100 rbi close 30 hr anoth note marlin got good start beat dodger believ score 6 3 sure wish rocki well year hell think would funni watch dodger hit cellar year',\n",
       " 'said letter address bettman post though pretti much content entir differ entiti address put letter mail doubt say figur want let peopl see sinc topic interest lot folk entir differ purpos send letter bettman unfortun largest comput network world phrase definit internet group whole claim repres busi whether larg larg compar say number folk r h send letter thank chang name least point curios thought look offici definit larg dictionari read larg 1 usual power capac scope 2 exceed thing like kind quantiti size idea mani letter bettman may gotten issu mani peopl may sign 65 peopl may therebi valid definit 2 would also wager geograph rang signatur quit larg would give larg scope would impress unless larg cours assum actual agre write simpli tri pain whole issu hear speak person know whether agre letter mix emot like name think make difficult learn game might shred valid chang',\n",
       " 'last night boston red sox win 11 game 14 game beat seattl 5 2 roger clemson pitch domin walk least 6 man first 6 inn valetin greenwel hit homerun red sox prevail',\n",
       " 'appreci paul coffey detroit redw',\n",
       " 'neither overal figur far radio explod tune 660',\n",
       " 'anyon notic word basebal print pictur joe robbi stadium open day season preview section usa today reason given also notic someth look nolan ryan timelin preview 8 22 89 rickey henderson becam nolan 5000th strikeout 6 11 90 pitch 6th hitter oakland believ last game made rickey henderson 5 1 91 nolan pitch 7th hitter day certain someon stole 939th base overshadow seem nolan lot public rickey expens imo rickey deserv seem net agre seen late great player imo nolan outclass rickey play import attitud thought',\n",
       " 'forgot mention stat game 4 20',\n",
       " 'ok join fun give playoff predict 1st round pitt vs nyi pitt 4 wash vs njd wash 6 bos vs buf bos 5 que vs mon mon 7 chi vs stl chi 4 det vs tor det 6 van vs win win 6 cal vs la cal 5 2nd round pitt vs wash pitt 4 bos vs mon bos 6 chi vs det chi 7 win vs cal cal 5 3rd round pitt vs bos pitt 5 chi vs cal chi 5 final pitt vs chi pitt 5',\n",
       " 'isl anoth defenseman insert line besid pilon last night stupid penalti put isl hole remaind regul 2 minut overtim even though isl near surviv pilon blunder regul inopportun time 5 minut major penalti instead confront cote came across bluelin pilon back swipe cote nose stick al arbour serious think pilon guy game line heard scott lachanc till later seri must someon els bring back bammer dave langevin let go island john scialdon scialdon nssdca gsfc nasa gov',\n",
       " 'send shift key',\n",
       " 'cs1442aq news uta edu cs1442aq quoth bad realli hope nolan could end career great year suppos still hope',\n",
       " 'mike schmidt 500th mileston also 9th inning game winner john',\n",
       " 'yes yes see sabr fan final take sabr sweater moth ball proud wear 9 year playoff frustrat 3 game nil guess pretti good bet team come back 0 3 deficit sinc 1975 could year throw moth ball yet',\n",
       " 'lot debat virtu bryan murray vs pat quinn gm delet randi graca seem think murray best gm leagu think quinn one sever better quinn took vancouv sever year ago last year regularili miss playoff recal miss playoff year hire probabl quinn improv team non playoff calibr serious contend murray took detroit 500 team contend win norri divis possibl even stanley cup contend quinn improv team murray sinc take gm quinn one exampl better gm murray',\n",
       " 'know anyon post messag like yet get realli sick espn show last minut hockey game score tie cut say sorri show show basebal tonight even game friggin highlight show gee sure would nice see isl cap overtim live pittsburgh yes pen fan hockey get lot coverag imagin cap fan resid texa must feel',\n",
       " 'oh yeah come dino could never take cap patrick divis choke 3 game 1 last year got swept away second round two year ago rare ever make divis island still pull vancouv winnipeg number realli matter king alway seem go least 6 7 never play four five game serious differ battl pull take calgari pull 7',\n",
       " 'happen big fan jayson stark basebal writer philadelphia inquir everi tuesday write week review column write unusu situat occur week unusu stat section call kiner week stupid line met brodcast ralph kiner everi year lgtgah contest stand last guy get hit also write basebal america column sort highlight week review check column sometim might make laugh rob koffler',\n",
       " 'lindro trade like ottawa would stupid enough get lindro think quebec trade lindro would go person strike mayb talk ottawa mgmt arrang trade xenophob thank nobodi agre public mayb look basebal suppos american pasttim sp look damn latin american play deport american add sarcasm tast roger wow agre hope sign thing come becom rant lunat talk noth leaf best campbel ranger told someon noth happen patrick would surpris anymor lie hell team go washington earn shutout come back home lose piti hartford absolut pinnacl mediocr stand read goali blame time beezer play pretti poor smith talk call corey hirsch binghamton everybodi point finger definit team want prove washington noth happen patrick surpris yeah right keith keller let go ranger let go quaker kkeller mail sas upenn edu ivi leagu champ',\n",
       " 'judg way red pitcher perform thus far appear zone squeez size grape 1 2',\n",
       " 'bring back harri neal least witti',\n",
       " 'mean offend anyth quot stanki subject rememb one time last year interview espn interview rememb ask stanki jewish interview jewish want see jewish ballplay stanki repli polish jewish mayb pc thing stanki say mayb littl naiv post think devot subject find actual jewish ballplay jewish one ever knew koufax greenberg blomberg',\n",
       " 'wrote excel report understand unreli sourc canseco consid expend refus accept coach bat stanc brain trust came believ back problem exacerb caus wide open stanc close quick swing lot torqu paraphras rememb event canseco took road alon would decid stanc began believ would either reinjur begin lose abil hit averag power appar sound like larussa also object repeat someth heard possibl caus effect revers beastmast',\n",
       " 'read report possibl nhl move milwauke milwauke nhl team thought pass along stori heard recent second hand know true reason doubt either bradley center milwauke home milwauke admir minor leaug hockey team owner admir sorri rememb name either own least shell major fund build bradley center suppos approach nhl expans franchis turn thought franchis fee 50 million high like said know whether stori true rumor true look nhl team milwauke anytim soon admir go forc build see nhl club minor leagu club build especi sinc nba milwauke buck play well',\n",
       " 'origin poster want know big cat look also saturday game montreal apr 17 rocki 9 1 paid much attent gallarraga sinc left expo stanc seem much differ stand erect open left foot point 3rd base wonder recent chang stanc andr one glare weak hitter could alway fool curv ball low away inde new stanc mayb fool easili patienc denni martinez definit good stuff groov pitch andr hard fault drill andr general start hot cold take may pitcher confid curv ball low away',\n",
       " 'would like make everyon awar win nl west atlanta brave lead wire wire game 4 14 93 houston astro percentag point ahead unbeat brave go astro',\n",
       " 'bleagh terrif trade snow certain better mat futur defens opinion abbott one truli great pitcher game today sure one think good pre 1992 bogg kick hay meulen whoever ass 1992 bogg still shabbi bad though yanke expect pre 1992 bogg probabl get 1992 bogg howev still play bogg hay bam bam full agreement much better velard silvestri lock better howev enjoy fact spike nicknam help yanke strong disagre much much rather hundr game tartabul sixti game dion jame 162 game jame',\n",
       " 'hi guy happen 1 potvin let six goal 2 wendel andreychuk woke 3 home ice lot yell garden gave leaf emot edg 4 ref call especi last night tend favour leaf coupl comment 1 gilmour guy one three star mean lead team someon post playoff point total someth like fifth sixth place plus walk away molson cup given accumul point three star select regular season 2 offici heard gripe end one emot high seri rivalri one stronger one know agre offici last night pro leaf general except whoever miss slash gilmour hand 3 general still think detroit one better chanc vs pittsburgh though think leaf would better blue well made divis problem like team though support leaf underdog principl way gilmour tire lot like bob probert play aggress hockey way sort expert claim like watch good matchup',\n",
       " 'selk candid forward main purpos shift prevent goal score score lemieux gilmour play number one purpos score defenc secondari especi consid line play probabl defens one selk candid someon post someth assumpt lost translat month ago whoever pleas repost gainey best defens forward ever stand assess good player belong hall fame ever watch play never made technic error babbl delet pundit gilmour good st loui best two way player game overhyp gilmour net month good forward hard best nhl',\n",
       " 'astut observ straw bullpen lefti stanton mercker strong wohler learn new pitch bullpen fine probabl superior also fals gant nixon justic hunter blauser present decent enough offens everyon slump except blauser pendleton btw stori brian hunter dog hous',\n",
       " 'come boston hell seven win row choke much rather see bruin wale confer final vs pitt buffalo quebec would interest buffalo quebec put good fight much enjoy 7 0 past bruin devil feel terrerri sp',\n",
       " '',\n",
       " 'everyon read alreadi sent predict pleas correct patrick divis would like midnight monday time may need correct game 3 pittsburgh vs new jersey 4 new york island vs washington 10 patrick divis winner 13 wale confer winner 15 stanley cup winner pleas forward correct richard madison rrmadiso napier uwaterloo ca',\n",
       " 'one comment call classic playoff year yet includ chicago detroit seri c mon boston fan even realiz chicago detroit game excit game watch',\n",
       " 'walt weiss tripl bare insid right field line corner drive santiago conin first two rbis third came later weiss knock',\n",
       " 'well look like doug trump tim beat net defens analys tim gotten ahead way littl differ cours use equival averag work mani run player worth calcul rate perform field equival averag total perform field equival run compar averag player replac player posit adjust come built system al 1992 averag ss 32 9 run replac rar cf 31 6 2b 28 8 3b 26 3 lf 26 0 rf 24 6 1b 16 9 may quibbl exact number order look substanti right equival averag alway set leagu averag 235 decid hit replac level batter eqa 180 name replac level hitter often billi ripken decid let replac level fielder distanc 235 180 opposit direct set make eqa 280 yes add run proport eqa squar differ 180 squar 235 squar equal differ 279 squar round simplic replac field team would randi milligan first 282 willi randolph 269 second leo gomez 279 third walt weiss 269 short kevin bass 271 left hojo 257 center eric anthoni 277 right ugh total number rar player sum bat field rar rate total rar rar per number bat out like 400 averag player total rar 55 30 bat 25 field total rar bat field 1 bond 152 124 28 ventura 124 66 58 2 sandberg 143 88 55 thoma 122 110 12 3 van slyke 122 91 31 anderson 109 75 34 4 grace 114 70 44 rain 100 68 32 5 lankford 111 76 35 puckett 98 76 22 6 pendleton 108 71 37 alomar 98 75 23 7 finley 104 70 34 martinez e 97 81 16 8 bagwel 101 73 28 mack 93 70 23 9 butler 96 74 22 mcgwire 93 79 14 10 sheffield 96 85 11 griffey 92 70 22 11 larkin 96 65 31 devereaux 89 56 34 12 grissom 95 57 38 henderson 88 66 23 13 walker 94 61 33 listach 87 50 37 14 justic 92 52 40 lofton 85 46 39 15 w clark 91 73 18 baerga 83 55 28 16 kruk 82 78 4 white 79 39 40 17 smith 80 46 34 palmeiro 76 54 22 18 gwynn 80 47 33 sierra 76 52 24 19 hollin 80 68 12 carter 73 57 17 20 j bell 79 42 37 gonzalez 73 60 13 notabl entri per 400 bat rate nl top 7 bond 177 lf sandberg 130 2b van slyke 114 cf grace 107 1b larkin 102 ss justic 99 rf sheffield 99 3b one posit measur mcgriff despit 85 bat rar fifth leagu finish top 20 due 13 field last posit galarraga 39 stillwel 10 hansen 30 belliard 30 blauser gad 69 3rd leagu may 43 dascenzo 34 anthoni 38 al much malign rickey henderson worth 120 second frank thoma 124 ventura edg edgar third 116 111 grebeck rate potent 102 griffey edg puckett top cf 93 90 listach nudg lofton among rooki 82 80 alomar clear outpoint baerga 97 73 last posit segui 10 sojo 29 palmer 22 lewi 31 polonia 40 cuyler 26 v hay 39',\n",
       " 'posit clint malarchuk happen sinc assign san diego gull season believ uwe krupp blue player though uwe skate beleiv cut clint sinc trade isl lafontain deal ever time know',\n",
       " 'briefli sinc sleep mle work pretti well aa nd aaa player player 22 younger tend explos number whether mmle next 2 year player 26 older level general inflat mle reliabl major leagu stat player',\n",
       " 'howev batter use go stroll bad call degre everyon told new emphasi speed game rule hirschbeck invok book long time nobodi includ hirschbeck ever said perhap color partisanship brave percept hirschbeck view gant head long walk accord instruct concern speed game direct batter box point base rulebook umpir instruct unreason request brave alreadi upset gant done instruct rememb name umpir',\n",
       " 'abc coverag king flame game suppos way shown bc cbc overrid abc coverag flip abc comment commerci even question real abc coverag cbc black abc coverag comment cbc great chanc doubl header toronto detroit vancouv winnipeg today said east get leaf west get vancouv game thought would show',\n",
       " 'pat burn throw towel wing domin everi aspect game tri mix line dead end murray mani combin counter predict wing 5',\n",
       " 'kill beav well dunnow eddi might get troubl gun beav shoot beav well ok eddi blam blam',\n",
       " 'well chang score playoff pool unfortun time right certain post new score rule tomorrow matter enter anyway good keith keller let go ranger let go quaker kkeller mail sas upenn edu ivi leagu champ',\n",
       " 'angel home open brewer today 33 000 anaheim stadium 3 1 3 hitter mark langston j snow gari discarcina hit home run angel',\n",
       " 'philadelphia inquir day ago report two 2 plan new philli stadium alreadi mention 30th street station propos locat near broad street race street think rememb exact detail stadium would build practic downtown small lot could use accord paper 30th street plan run troubl amtrak want rerout line order accomod stadium opinion yet let everyon know realli two option discuss right neither plan put effect soon howev nobodi want pay keith keller let go ranger let go quaker kkeller mail sas upenn edu ivi leagu champ',\n",
       " 'final 1992 93 american hockey leagu stand northern divis w l pts gf ga lyf provid bruin 46 32 2 94 384 348 56 adirondack red wing 36 35 9 81 331 308 84 capit district isl 34 34 12 80 280 285 75 springfield indian 25 41 14 64 282 336 94 new senat 22 47 11 55 262 343 southern divis w l pts gf ga lyf binghamton ranger 57 13 10 124 392 246 91 rochest american 40 33 7 87 348 332 86 utica devil 33 36 11 77 325 354 74 baltimor skipjack 28 40 12 68 318 353 66 hershey bear 27 41 12 66 316 339 83 hamilton canuck 29 45 6 64 284 327 atlant divis w l pts gf ga lyf st john mapl leaf 41 26 13 95 351 308 90 fredericton canadien 38 31 11 87 314 278 96 cape breton oiler 36 32 12 84 356 336 82 moncton hawk 31 33 16 78 292 306 74 halifax citadel 33 37 10 76 312 348 67 last year point total leagu record total',\n",
       " 'would chosen alex zhitnik biggest supris expect would becom great defenseman think anyon knew go impress rooki year speed skate abil puck control except one watch king kris kris fs2 assist uci edu go king',\n",
       " 'sorri everyon wast space matt day post mail list playoff stat lost address pleas put list thank',\n",
       " 'frank mich even show least parent move idaho thing get coverag footbal basketbal basebal',\n",
       " 'anyon scoop scot erickson long go',\n",
       " 'love abc coverag product excel appear excel sleek modern look first time heard thorn clement thought great request leav al micheal annoy hope lead regular season contract guess would rough week game feb april playoff envi canadian tsn cbc mayb get dish pick canadian tv much thing btw',\n",
       " 'must kid right lose steven blue got shanahan kept joseph trade oat janney hawk fan got respect hapless name 8 let see score game win overtim goal 4th game',\n",
       " 'devallano went earlier extens russian strategi anyon els first gm wast high draft choic young russian devallano would still gm succomb demer plead make oat federko et al trade deal seal fate murray made decent trade doubt due stupid cheap team brillianc part washington cheap pay ciccarelli essenti gave away carson realli big anchor team abl sucker rooki gm give paul coffey deadweight detroit still fail year one defenseman short wast opportun manson avail unabl pull trigger judgement enough got yzerman mani year prime',\n",
       " 'ny island 1 1 2 0 1 5 washington 0 2 2 0 0 4 first period 1 ny island turgeon 1 king thoma 13 14 second period 2 washington hunter 3 johansson miller 6 33 3 ny island turgeon 2 thoma vask 12 36 4 washington hunter 4 johansson carpent pp 16 51 third period 5 ny island hogu 1 unassist 3 31 6 washington khristich 2 cavallini bondra 7 16 7 ny island ferraro 2 flatley hogu 14 50 8 washington hunter 5 johansson khristich pp 19 57 first overtim score second overtim 9 ny island mullen 1 ferraro flatley 14 50 ny island 5 power play 5 0 scorer g pts ferraro 1 1 2 flatley 0 2 2 hogu 1 1 2 king 0 1 1 mullen 1 0 1 thoma 0 2 2 turgeon 2 0 2 vask 0 1 1 washington 4 power play 5 2 scorer g pts bondra 0 1 1 carpent 0 1 1 cavallini 0 1 1 hunter 3 0 3 johansson 0 3 3 khristich 1 1 2 miller 0 1 1 montreal 0 0 1 1 quebec 3 0 1 4 first period 1 quebec leschyshyn 1 kamenski sakic pp 4 19 2 quebec young 2 lapoint 11 41 3 quebec young 3 lapoint duchesn 13 56 second period score third period 4 montreal bellow 2 odelein 11 05 5 quebec lapoint 1 ricci en 19 23 quebec 4 power play 2 1 special goal pp 1 en 1 total 2 scorer g pts duchesn 0 1 1 kamenski 0 1 1 lapoint 1 2 3 leschyshyn 1 0 1 ricci 0 1 1 sakic 0 1 1 young 2 0 2 montreal 1 power play 1 0 scorer g pts bellow 1 0 1 odelein 0 1 1 new jersey 0 0 0 0 pittsburgh 2 4 1 7 first period 1 pittsburgh mceachern 1 franci taglianetti 15 09 2 pittsburgh lemieux 3 samuelsson barrasso sh 17 41 second period 3 pittsburgh tocchet 2 steven samuelsson 3 48 4 pittsburgh jagr 2 franci ramsey 12 39 5 pittsburgh steven 1 franci murphi pp 15 43 6 pittsburgh mceachern 2 daniel mullen 16 56 third period 7 pittsburgh mullen 1 franci barrasso 17 42 pittsburgh 7 power play 4 1 special goal pp 1 sh 1 total 2 scorer g pts barrasso 0 2 2 daniel 0 1 1 franci 0 4 4 jagr 1 0 1 lemieux 1 0 1 mceachern 2 0 2 mullen 1 1 2 murphi 0 1 1 ramsey 0 1 1 samuelsson 0 2 2 steven 1 1 2 taglianetti 0 1 1 tocchet 1 0 1 new jersey 0 power play 5 0 score buffalo 2 1 1 4 boston 0 0 0 0 first period 1 buffalo presley 1 unassist sh 4 27 2 buffalo wood 1 moller sweeney pp 8 07 second period 3 buffalo mogilni 3 lafontain 5 03 third period 4 buffalo hawerchuk 1 carney smehlik pp 14 48 buffalo 4 power play 4 2 special goal pp 2 sh 1 total 3 scorer g pts carney 0 1 1 hawerchuk 1 0 1 lafontain 0 1 1 mogilni 1 0 1 moller 0 1 1 presley 1 0 1 smehlik 0 1 1 sweeney 0 1 1 wood 1 0 1 boston 0 power play 5 0 score',\n",
       " 'thaaammi thotha one realli sorri hear cub sent heathcliff slocumb minor',\n",
       " 'reason umpir would recogn ron gant disturb call reason umpir would realiz 1 run game progress two out ninth ron gant tri regain composur normal basebal player would done would get heat argument umpir sinc argu ball strike would eject game ron gant tri avoid conflict penal show restraint incident reason home plate umpir would resist seek appeal first base umpir gant request home plate umpir appeal first first base umpir could wrung strike gant would upset call ball catcher request appeal like home plate umpir would ask help final entir game pretti much mockeri call effort speed game game play quick 2 hour stuff happen ninth delay entir game result action umpir deion clean garbag field',\n",
       " 'total p vancouv winnipeg great west coast hockey fast pace load talent seen far hard entertain except odd shift everi cours miss calgari la pitt jersey amen cheaper phone call must better system one ring adam linden score two ring bure rush ice score etc etc',\n",
       " 'much crap delet dead wrong last time check jim fregosi still manag philli quit fine job thank best record basebal 8 1 predict 1993 jim fregosi win manag year nl',\n",
       " 'inner calm boredom spoil arena quiet church mani night year mani us take win grant seem forev sinc team lost forgotten like feel real excit surpris victori least last night excit pen wrap game half like previous two game sure nj rose play better penguin start play somewhat probabl somewher new jersey seem much aggress last night pen end much swarm around least kept element suspens game question billington help make interest also claud lemieux help caus though eject earli game go start devil goal final game sunday sorri help',\n",
       " 'david',\n",
       " 'hey man spent past season learn skate play coupl session mock hockey readi invest hockey equip particular sinc take summer hockey lesson howev complet profound ignor come hockey equip check local store look catalog hope solicit opinion suggest actual plunk money play footbal high school colleg least equip basi comparison exampl advantag disadvantag differ kind shoulder pad pant girdl notori bad unsaf brand style etc suggest comment would great appreci',\n",
       " 'bruin never come back win fall behind 2 0 entir 68 year histori mean much sinc statist most base 5 game playoff format yes look dark b disappoint still think problem mental need save blue came perhap offer someth mental ralli around think get start game three hope go blue team ralli around mayb moog',\n",
       " 'along mario lemieux must anoth planet differ lemieux come one geo washington abe lincoln mani great men women world wherea come one david koresh yeah mario good draw penalti tri someth claim play give team advantag rememb lemieux get dive penalti year wherea mani other final mario never complain hit know part game get back dish even bigger hit guy score goal set compass man gone much life',\n",
       " 'correct note post today updat read cours last saturday april 17th peopl request score receiv friday 23rd thank joe hernandez joseph hernandez ram laker jtchern ocf berkeley edu king dodger raider jtcent soda berkeley edu angel clipper',\n",
       " 'imho clement although pleasant person aggrav pleasant opinion terribl analyst almost alway wrong prototyp exampl new jersey first goal last sunday grew dick irvin color besid danni gallivan knew irvin dick irvin friend mine bill clement dick irvin long team involv includ us nation team new york ranger take john davidson bill clement day',\n",
       " 'franci got 101 89 90 last full season hartford',\n",
       " 'yep though reason relat quiet simpl last year woof went 3 1 canuck look got domi got toss 2nd high stick major play kris king stu barn line arguabl best first two game definit good thing everi littl cheer help evan good thing net need voic oper one sunday night get home hope white nois come one thing say though vancouv keep steve armitag john garrett broadcast team two bad especi spoil wittman least four five time steve call barn selann whoop',\n",
       " 'run complet time got get prophesi predict l qualif one wors finish last year predict contest al east 1993 1 baltimor oriol oriol well ponder long hard came blue jay go wrong direct bring pick yanke milwauke fluke indian readi contend red sox bad last year get better detroit pitch new definit replac level realli think oriol win matter fact see team american leagu win either divis paper possibl except yanke hate bodi win pick oriol realli think bradi anderson go repeat base oriol predict expect big year cal ripken glenn davi glenn davi insan yes without ado strong point hoil ripken year olson get rid billi ripken weak point segui may start valenzuela origin 30 someth may fifth starter oat put best hitter bottom lineup anybodi els think might calcul maneuv minim effect slump ripken move ripken 3 spot move rest line would good sign glenn davi win comeback player year would bad sign tight pennant race team trade pecota obpredict streak continu harold reynold lead team caught steal 2 new york yanke strong point abbot key perez could best pitch american leagu bogg improv hay weak point mat still consid best hitter steinbrenn factor yanke lost met wholesal chang far behind never count rooki pitcher e wickman millitello win divis would good sign bogg hit 300 would bad sign howe get arrest obpredict mat top 700 op 3 toronto blue jay strong point manag will make big deal manag eeri power convinc team prospect suspect olerud guzman alomar weak point jackson bell trade shaken faith gillick lose stewart may hurt rotat realli bad sign one outfield get base pitch thin behind guzman ward would good sign jack morri consid cy young contend august would bad sign club make major deal august obpredict morri post better era whip total last year lose record 4 milwauke brewer strong point pitch staff except last year weak point molitor gone surhoff third eldr keep would good sign listach eldr play like last year would bad sign bone play like last year obpredict surhoff finish year third 5 cleveland indian strong point baerga bell nagi weak point pitch staff thin lose olin realli hurt start felix fermin would good sign bielecki era consist atlanta start would bad sign ted power bullpen ace obpredict alomar back dl star break 6 boston red sox strong point clemen viola clemen detroit clemen weak point incompet gm basebal key free agent sign andr dawson burk gone hatcher center would good sign rainout clemen start would bad sign clemen dl obpredict russel make sox fan forget reardon interpret 7 detroit tiger strong point tettleton phillip whitak weak point fielder keep declin shortstop year worst rotat basebal entir replac necessarili better year could ugli would good sign cecil fielder deserv mvp would bad sign cecil fielder whine deserv mvp obpredict cecil lead leagu rbis one divis go dale j stephenson steph cs uiuc edu basebal fanat',\n",
       " 'sabr 2 0 bruin sabr farm team rochest amerk way calder cup urp kind hockey coverag get penguin devil everi day crap everyon els get wors sportschannel coverag island appear block sinc got cba basketbal last night believ assum sabr demand sc blackout espn sinc unbeliev usual consid part island territori msg coverag ranger black despit solid seven hour plus long island anyon know grc besid put satellit dish ass screw recept channel 8 10 13 empir demand fortun game game fox37 whatev number buffalo anyon phone complain besid georg',\n",
       " 'apolog typo meant wing 5 power play first period leaf none well point ref bias call lot penalti work benefit wing ref call whole bunch penalti one team call bunch make take lot away could great game',\n",
       " 'say least 2 year even condit guru told jose carri much weight lose would help back although one second believ jose use steroid back problem similar problem alot steroid user experi simpli carri much weight frame see jeff bregel ex 49er textbook exampl imho jose big frame imagin estim bat speed pretti obvious jose miss fastbal use hit like due back know even open stanc first came problem might pre back problem quick enough cover defici stanc caus lost enough bat speed stanc hurt old say hot trigger mechan cold hitch biggest problem imho never found stanc comfort month chang stanc much lose track strike zone wednesday night game clear mad strike call corner look pretti good think longer know strike zone realli chang stanc much also bit concern got palmer gonzalez hit homerun becom competit swing even harder screw even wors larussa alway said canseco famous bat practic homer show harm good encourag bad hit habit',\n",
       " 'believ phone book current inform includ area code edmonton alberta would hostil toward other ask simpl question would rather appear stupid open moutha nd remov doubt mark twain assult someon get 5 year hockey 5 minut great sport',\n",
       " 'wow guy seem prove someth old team boston sweeney ask well cours bob sweeney one boston let buffalo get hold still 2 sweeney make thing slight confus game winner ot game 1 anoth big goal second fuhr made 3 point blank save grant 5 ring put buffalo ahead 3rd yes neeli counter minut later cours buffalo go ahead tie shut anoth great score opportun think boston would notch first win seri well sabr made end seri yet certain feel got boston right want actual got posit neither buffalo boston felt would come one astronom game fuhr heroic rest team team sport afteral think borqu neeli jouneau sp compani gonna swing new stick weather perfect golf season real soon gonna waiger anyth seen realli strang thing happen pro colleg hockey talk golf hockey swing golf swing basebal swing hawerchuck use last shot game khmylev deflect big one whole ot 1 minut tesiment buffalo abil realli persist grind end someth necessarili regular season sabr push hard forc borqu blatent take bodger open second normal like penalti call ultra critic point blatent final sabr faceoff hot dept rest game lafontain scoop puck 3 time hawerchuck took shot quit boomer blue stop one took step get rebound slap without set realiz went announc start scream score score best see lafontain jump skate littl bit jump skate brad may jump',\n",
       " '210493 itali sweden 2 6 0 1 1 2 1 3 w l canada 2 2 0 0 6 1 4 sweden 3 2 0 1 8 6 4 russia 2 1 1 0 6 4 3 itali 3 1 1 1 5 8 3',\n",
       " 'brook robinson defens liabil ted william weak hitter even great player declin age',\n",
       " 'anoth post game interview larussa claim sparki best manag baseb explain part histori sparki soften blow lose go tiger tim timothi law snyder depart comput scienc reiss 225 georgetown univers washington dc 20057',\n",
       " 'greet steve summer chief 48 hour last night shmooz sport unfortun miss saw pleas provid synopsi thanx czar mainfram comput jbe5 musicb mcgill ca mcgill univers sexi cobol hab look good let go expo peter peter pumkin eater knew chick meet saw brother one fine day suck cock gay andrew dice clay',\n",
       " 'repost without permiss rec music dylan',\n",
       " '12 manag big big zero sauer yet make forc agreement favor revenu share meant argument instead agreement also think add cooupl ted posit achiev smiley trade good pirat think ted could gotten someon better neagl cum seem pretti good cole trade excel simmon botch year draft seem gone well pirat lost 2 high pick bond fiasco',\n",
       " 'mani player intern class averag nhl team 6 10 top player play smaller rink qualiti european hockey realli poor recent year north american usual good farm player player got place finnish leagu elitserien ship back',\n",
       " 'list jewish ballplay includ levi samuel meyerl son jacob margaret meyerl although sound like jewish name meyerl surviv relat say jewish accord nineteenth centuri star publish sabr 1989 incident long levi 6 foot 1 bat 492 first season nation associ first pro leagu needless say top yet cours na consid major leagu officialdom five season meyerl hit 368 na also play first three season nl hit 329 phil brown aka pb6755 csc albani edu',\n",
       " 'today usa today 4 23 john wetteland come dl tonight possibl pitch seri weekend forget play derek lilliquist probabl go main closer kind bullpen committe also',\n",
       " 'hirschbeck job help gant difficulti gant gather concentr whatev reason make meat batter box umpir job maintain flow play gant entitl time regath faculti anyon els absolut think accur say gant foolish disput strike call ampl reason timeout game would last nine fifteen week jack morri dave whiner stieb pitch disput strike call suffici time suck get back box never badmouth blue go chang mind go come across pinhead help borderlin call ftr never speak umpir know person glanc react call result think get fair share borderlin call plate rep good eye actual lot negat connot go rep includ copious question masculin parti affili sexual prefer irrelev wast time 1 job 2 set preced cut slack easili extend 3 hour game kind like phantom dp gant hurt brave disrupt game bias expos sit defend umpir sf giant like phylli schlafli defend gari segura jack kevorkian swedish abort team believ terri said magic word truli quick way get toss ballgam primer email good way get toss game 1 ask ken kaiser got money back nutri system 2 kiss rich garcia lip say hi honey home 3 goos eric gregg 4 ask bruce froem parent children live 5 get nake sourc greg spira book diamond ettiquett told peter gammon 1991 collier press',\n",
       " '1993 1994 nhl hockey pool deni papp chris stoochnoff rule pick 17 player 3 lw 3 c 3 rw 3 ld 3 rd 2 goali may pick 17 player team point player follow 1 point per goal 1 point per assist 1 point per 10 pim point goali follow 2 point per win 1 point per tie 1 point per assist 1 point per 5 pim 2 point per shutout 100 point per goal entri entri sent mail ascii text file chris stoochnoff deni papp hard wire bbs 434 7996 due date entri first day regular season play entri accept unless slight late case small penalti appli team internet user send email dpapp muskwa uc ualberta ca prize prize yet consid could rang noth free time hard wire bbs even someth els suggest pleas feel free put two cent worth one idea get whoever will submit equal amount money go prize money prize money go top team submit prize pool list peopl submit money post well didnt done way cost cost absolut noth absolut fee pool note question pleas feel free send deni papp chris stoochnoff player posit ie brett hull right wing decid year book use know certain player posit complet sure posit play ask tell great time call hard wire bbs 403 434 7996 locat pool stand display internet user',\n",
       " 'littl worri pitch thing 6 08 scarri even first 16 game season mesa sp seem settl pitch well red sox rocket match got chanc watch play california wednesday pitch well also dam broke wickand came prompt 6 1 3 run homer snow heard guy espn say 7 tribe top 10 prospect pitcher anyon like post guy tribe espn tonight oakland',\n",
       " 'okay curious expectin commission fli stand pitcher mound yell fan sit',\n",
       " 'cosper seq uncwil edu kit cosper quoth comment made one brave announc attribut anonym player friday night game sorri tie want see umpir sum sure like ron gant complet line hirschbeck would eject order ron gant everi singl last brave came onto field possibl bobbi cox depend languag use sinc cox brave rung suspect would thrown simpli cannot show umpir like ron gant disrespect home plate umpir digniti game',\n",
       " 'detroit go beat toronto 6 less grant gilmour get hart trophi lemieux look gilmour toronto think toronto come mind gilmour andreychuk potvin ah mentio n gilmour think nhl come mind gilmour gretzki mario ah mention mario said gretzki realli follow along said gilmour true maynard even think select hart deserv serious discuss group brainer',\n",
       " 'recent heard red sox wrol spanish speak radio station thought unreal red sox spanish anyway want find widespread ny nativ know scmet spanish yankm wuold think la sd texa fla spanish spanish speak network local brave day game broadcast spanish station call la favorita station daytim liscenc',\n",
       " 'interest save badnwidth heat time year viz earli flurri retard comment come certain state whose name start p end tell us someth alreadi know georg',\n",
       " 'wonder star trek tng fan newsgroup knew possibl relationship bruin player douri moog klingon name dura worf son moog suppos coincid curious',\n",
       " 'duh make joke long leaf would last playoff know hit cours season sheesh peopl quick complain',\n",
       " 'recal kieth hernandez auto biographi rusti devout roman cathol kieth rusti would carpool shea everyday sunday rusti would go mass sc',\n",
       " 'heard last night paul kuryia play canadian world hockey team year local radio station friend familti call congratul invit meek paul told host think want yet morn heard destin play line lindro recci unsur one play well arena could go 1 2 draft',\n",
       " '',\n",
       " 'think dean got hit pitch ball night got pinch hit play baltimor tonight what hurt pleas tell evident got hit elbow fernando pitch arm swell elbow wrist someth like took x ray arm noth damag miss last game oriol suppos readi next game hope help',\n",
       " 'stanley cup playoff stat game play sunday april 25 1993 top 20 point scorer rnk pts g pg sg gw en pim cti tm ps player 1 9 0 9 0 0 0 0 4 bos c 12 adam oat 2 8 5 3 4 0 2 0 0 usa stl rw 16 brett hull 3 7 6 1 2 0 0 0 6 rus buf rw 89 alexand mogilni 3 7 4 3 1 1 0 0 4 pit c 66 mario lemieux 3 7 3 4 2 1 0 0 19 cal rw 14 theoren fleuri 3 7 2 5 1 0 0 0 12 tor c 93 doug gilmour 3 7 1 6 0 0 0 0 0 det 77 paul coffey 3 7 1 6 0 0 0 0 0 usa buf c 16 pat lafontain 9 6 4 2 0 0 2 0 4 nyi c 20 ray ferraro 9 6 3 3 0 0 1 0 2 rus van rw 10 pavel bure 9 6 3 3 1 0 1 0 0 rus buf lw 13 yuri khmylev 9 6 3 3 1 0 1 0 6 van rw 16 trevor linden 9 6 2 4 1 0 0 0 2 buf c 10 dale hawerchuk 9 6 2 4 1 0 2 0 0 usa stl c 15 craig janney 9 6 2 4 2 0 0 0 6 bos c 49 joe juneau 9 6 2 4 0 0 0 1 6 cal c 25 joe nieuwendyk 9 6 1 5 0 0 0 0 4 stl 21 jeff brown 9 6 1 5 0 0 1 0 4 pit c 10 ron franci top 10 goal scorer rnk pts g pg sg gw en pim cti tm ps player 1 7 6 1 2 0 0 0 6 rus buf rw 89 alexand mogilni 2 8 5 3 4 0 2 0 0 usa stl rw 16 brett hull 2 5 5 0 3 0 1 0 14 c 32 dale hunter 4 7 4 3 1 1 0 0 4 pit c 66 mario lemieux 4 6 4 2 0 0 2 0 4 nyi c 20 ray ferraro 4 5 4 1 0 0 1 0 6 tor lw 14 dave andreychuk 4 5 4 1 1 0 0 0 4 bos rw 8 cam neeli 4 4 4 0 2 0 0 0 2 usa la c 12 jimmi carson 4 4 4 0 0 0 2 0 0 usa que rw 48 scott young top 10 assist scorer rnk pts g pg sg gw en pim cti tm ps player 1 9 0 9 0 0 0 0 4 bos c 12 adam oat 2 7 1 6 0 0 0 0 0 det 77 paul coffey 2 7 1 6 0 0 0 0 0 usa buf c 16 pat lafontain 4 7 2 5 1 0 0 0 12 tor c 93 doug gilmour 4 6 1 5 0 0 0 0 4 stl 21 jeff brown 4 6 1 5 0 0 1 0 4 pit c 10 ron franci 4 5 0 5 0 0 0 0 0 usa win 6 phil housley 4 5 0 5 0 0 0 0 4 swe 6 call johansson 4 5 0 5 0 0 0 0 8 cal 2 al macinni top 10 power play goal scorer rnk pts g pg sg gw en pim cti tm ps player 1 8 5 3 4 0 2 0 0 usa stl rw 16 brett hull 2 5 5 0 3 0 1 0 14 c 32 dale hunter 3 7 3 4 2 1 0 0 19 cal rw 14 theoren fleuri 3 7 6 1 2 0 0 0 6 rus buf rw 89 alexand mogilni 3 6 2 4 2 0 0 0 6 bos c 49 joe juneau 3 5 2 3 2 0 0 0 6 stl lw 19 brendan shanahan 3 4 4 0 2 0 0 0 2 usa la c 12 jimmi carson 3 4 2 2 2 0 0 0 2 tch cal c 26 robert reichel 3 4 3 1 2 0 1 0 2 fin win rw 13 teemu selann 3 3 2 1 2 0 1 0 6 mon lw 25 vincent damphouss short hand goal scorer rnk pts g pg sg gw en pim cti tm ps player 1 7 3 4 2 1 0 0 19 cal rw 14 theoren fleuri 1 7 4 3 1 1 0 0 4 pit c 66 mario lemieux 1 4 3 1 0 1 1 0 4 usa cal c 29 joel otto 1 4 2 2 0 1 0 0 6 usa cal 20 gari suter 1 3 2 1 1 1 0 0 23 rus det c 91 sergei fedorov 1 2 1 1 0 1 0 0 10 bos c 19 dave poulin 1 1 1 0 0 1 0 0 4 win c 38 luciano borsato 1 1 1 0 0 1 0 0 2 det lw 11 shawn burr 1 1 1 0 0 1 0 0 2 stl lw 10 dave lowri 1 1 1 0 0 1 1 0 0 usa buf rw 18 wayn presley top 10 game win goal scorer rnk pts g pg sg gw en pim cti tm ps player 1 8 5 3 4 0 2 0 0 usa stl rw 16 brett hull 1 6 4 2 0 0 2 0 4 nyi c 20 ray ferraro 1 6 2 4 1 0 2 0 0 usa stl c 15 craig janney 1 4 4 0 0 0 2 0 0 usa que rw 48 scott young 5 6 3 3 0 0 1 0 2 rus van rw 10 pavel bure 5 6 1 5 0 0 1 0 4 pit c 10 ron franci 5 6 3 3 1 0 1 0 0 rus buf lw 13 yuri khmylev 5 6 3 3 1 0 1 0 6 van rw 16 trevor linden 5 5 4 1 0 0 1 0 6 tor lw 14 dave andreychuk 5 5 5 0 3 0 1 0 14 c 32 dale hunter top 5 point score defensemen rnk pts g pg sg gw en pim cti tm ps player 3 7 1 6 0 0 0 0 0 det 77 paul coffey 9 6 1 5 0 0 0 0 4 stl 21 jeff brown 19 5 0 5 0 0 0 0 0 usa win 6 phil housley 19 5 0 5 0 0 0 0 4 swe 6 call johansson 19 5 0 5 0 0 0 0 8 cal 2 al macinni top 4 rooki point scorer rnk pts g pg sg gw en pim cti tm ps player 9 6 2 4 2 0 0 0 6 bos c 49 joe juneau 33 4 3 1 0 0 1 0 8 usa pit c 15 shawn mceachern 33 4 3 1 2 0 1 0 2 fin win rw 13 teemu selann 33 4 0 4 0 0 0 0 2 tch buf 42 richard smehlik top 5 penalti minut leader rnk pts g pg sg gw en pim cti tm ps player 1 1 0 1 0 0 0 0 26 det lw 55 keith primeau 2 3 2 1 1 1 0 0 23 rus det c 91 sergei fedorov 3 0 0 0 0 0 0 0 22 nyi 47 richard pilon 4 2 1 1 0 0 0 0 21 tor rw 12 rob pearson 4 1 1 0 0 0 0 0 21 win rw 20 tie domi',\n",
       " 'main 5 lssu 4',\n",
       " 'play horribl defens baylor said wednesday game want shake lineup littl bichett rough time defens jerald clark hit true word went thursday game gerald young right daryl boston hot bat left baylor care say though necessarili mean chang perman want give two shot clark bichett play well defens bichett look like right field mile high stadium bitch play visit outfield problem although bobbi bonilla made great catch crash wall rob daryl boston extra base hit thursday game',\n",
       " 'cub suck cub suck cub suck cub suck cub suck cub suck cub suck cub suck cub suck cub suck cub suck cub suck cub suck cub scuk cub suck cub suck cub suck cub cuck cub suck cub suck cub suck cub suck cub suck cub suck cub suck cub suck cub suck cub suck cub suck cub suck cub suck cub suck cub suck cub suck cub suck oh yeah aqlso ad harri drunken idiot shoulda stay st loui heart also ad fair weather fan like togeth guess reason harri cub fan bud man note never realli left st loui jim walker',\n",
       " 'regular season intens mani team forward continu go park front oppos team net inadequaci leaf defens regard thus matter howev playoff differ stori everi good team go player go becom pot plant front potvin leaf relat unphys defens core final expos weak inept hard work go long way regular season almost 100 point leaf deserv credit playoff talent matter everyon begin work hard',\n",
       " 'monday april 12 1993 kamloop 4 spokan 1 kamloop win 3 0 western final matchup kamloop portland tuesday april 13 1993 game necessari wednesday april 14 1993 game necessari thursday april 15 1993 game schedul friday april 16 1993 regina 2 swift current 7 seri 0 1 kamloop 3 portland 6 seri 0 1 saturday april 17 1993 kamloop 4 portland 8 seri 0 2 sunday april 18 1993 swift current 5 regina 2 seri 2 0 whl playoff score leader april 18 1993 player gp g pts jami black tacoma 7 7 15 22 andi schneider swift current 8 7 13 20 valeri bure spokan 9 6 11 17 allan egeland tacoma 7 9 7 16 dean mcammond swift current 8 9 6 15 jason krywulak swift current 8 6 9 15 cam danyluk medicin hat 10 9 5 14 todd holt swift current 8 5 9 14 tyler wright swift current 8 5 9 14 mike mather kamloop 10 5 9 14 jeff friesen regina 11 5 9 14 rick girard swift current 8 3 11 14 whl playoff lead goaltend april 18 1993 minimum 60 minut player mp ga gaa scott langkow portland 295 12 0 2 44 milan hnilicka swift current 497 21 1 2 54 trevor robin brandon 258 11 0 2 56 steve passmor kamloop 341 16 1 2 82 mark dawkin red deer 269 13 0 2 90',\n",
       " 'would like park action gif jpeg basebal',\n",
       " 'depend judgment umpir batter made attempt avoid get hit batter award first base ball umpir rule tri get way award first hit batsman ryan robbin penobscot hall univers main',\n",
       " 'pleas count also tell excit island beat ranger overtim last friday',\n",
       " '',\n",
       " 'derian hatcher game misconduct penalti rescind nhl allow minnesota defenseman play north star last two regular season game hatcher given penalti fight end loss st loui sunday april 11 leagu rescind game misconduct penalti shane churla receiv star recal center cal mcgowan top minor leagu club kalamazoo mich replac churla courtesi washington time line servic need help anyon tape tuesday chicago minnesota game pleas contact term favor also anyon tape tonight minnesota detroit game pleas contact could quit import make worth troubl thank',\n",
       " 'sherri nichol write young bordello strong possibl buc absolut catch prospect minor point least nobodi readi serious aaa major duti main reason might stay princ could age especi spanki creep toward mid 30s someth thing consid though lot comfort spanki behind plate princ decent backup backstop look work',\n",
       " 'sinc roger canadian probabl know noth basebal gonna tri explain term hockey accord logic say sinc 1988 bob errey better wayn gretzki hey errey contribut 2 cup good old wayn noth think king trade gretzki errey think roger',\n",
       " 'great book call also serv ballplay wwii info berg also info pete gray one arm outfield player era draft mani player war exempt draft medic reason interest stori book well written would suggest read anyon interest basebal rob koffler',\n",
       " 'buy roy reason game tie would case dionn kept cool hextal gave 2 question goal dionn bellow shot misplay hextal gaff earli game one seem care roy stood head first 15 minut game nord rush end end kamenski mini break tie goal first shot young ot excel chanc stop roy roy outplay hextal game roy becom villain hextal hero roy team make full use opportun hextal hand lot lucki bounc play well haller shot post ot rebound bounc bellow stick brunet breakaway 3 chanc leclair opportun finish montreal cost hextal particular brilliant play sure excus 1 goal time stank explos team like quebec gave 1 opportun mani powerplay total unnecessari disagre roy play well screen whole night defens 1st time season play remark keep sakic nolan sundin slot night certain team loss leclair miss opportun bellow brunet dionn took bad penalti damphouss lebeau silent carbonneau savard step behind night roy gave bad goal roy mean singl loss hextal dionn goal pleas roy paid big money valu compar goali still top 5 consid defens lack one play front season montreal media quickest heap prais hurl derogatori comment hab better uninform fan read paper play 58 minut burnsian hockey shut quebec need tonight rest seri extra 2 red light face quebec rubbish guarante way end seri 4 0 would taught lesson fan media racicot perhap certain rest team mean goal never gone never ot agre goal great piec work young roy near far post cover young flip puck roy arm wrap around net bad goal',\n",
       " 'respons debat better season jagr franci think jagr probabl better point per minut ice time stat exist proper analyz substanci better use statist player ice team score lot goal allow goal must someth right especi use compar teammat play team rough similar rate equal good player adjust vari degre success compar player differ team agre would nice nhl keep statist use one suggest total ice time would use miss stat jagr vs franci argument somehow measur qualiti ice time suggest would useless would better stat evalu coach ie player given qualiti ice time actual talent one good player could given low amount qualiti ice time team depth stupid coach recogn talent bad player could given lot qualiti ice time lack team depth stupid coach think effect player stat would much flaw almost conclus could drawn regard player talent use stat quit use evalu player talent one display ignor unwilling see ice goal score allow posit thing evalu',\n",
       " '',\n",
       " 'look sourc american leagu basebal stat individu player format print newspap ie want provid list player get back nice print report 35 week anyon know statist avail idea cost',\n",
       " 'tend agre player hurt earli play big leagu brave organ fertil ground test hypothesi littl talent roster time steve averi exampl rush major fare poor initi campaign subsequ pitch affect 5 era rooki year bill jame point relat unusu struggl rebound bob horner also rush major arizona state direct good number immedi certain age peopl like pete smith craig mcmurti derek lilliquist brave pitch staff bad came might rush lilliquist smith struggl hurt ps dl may overhyp seem recal cm pitch well initi though stat handi',\n",
       " 'minor point shea stadium design multi purpos stadium jet mind tennant new york footbal giant move yanke stadium polo ground 1958 problem stadium manag citi yanke stadium 1972 idea get giant move shea deal work giant yanke new afl franchis new york titan approach citi use new stadium titan play down stadium cosmos play soccer 70s shea stadium tie world fair anyway citi thought would novel idea promot new franchis world fair like met deal work impress murph say mean regular goer shea bad place sinc clean renov place rememb 30th year',\n",
       " 'season 92 93 play ehc freiburg germani benni',\n",
       " 'nj subject captain ever trade nj resign stripe titl season nj team captain trivia would appreci mike foligno captain buffalo sabr trade toronto',\n",
       " 'anyon nhl stand march 28th need immedi project pleas post email thank',\n",
       " 'okay think agre singl hitter take strike two tri get base way power impati guy excus power patient guy right thing impati power guy could leav big cat would guy better slug percentag took pitch perhap doubt tell joe carter go take pitch draw walk also hit mani frozen rope bleacher like hold back pitch use drive patient power guy joe morgan small strike zone rickey henderson strike zone size hitler heart get walk base small zone look 5 guy thoma bond mcgwire ruth william wow lot pitcher would rather nibbl corner mayb walk guy throw clear strike pitcher would better opinion come good fastbal strike first pitch pitcher would rather nibbl go 2 0 3 1 get hurt',\n",
       " 'realli much inform realli know tell percentag player reach exceed mle rooki season talk 1993 know purpos mayb offerman spent 1992 get acclim dodger team paid big price season perhap reap benefit road realli think would done compet pennant stat head amaz put credenc spring train notic got 10 hit go tell make differ wait minut miss someth first forget keith mitchel say kid move aa aaa improv would better make direct leap major player well aa improv aaa sign mayb belong big keith mitchel recal stat book handi surpris jump aa atlanta 1991 well return minor well career jeopardi fit point good mle aa move right big club one step away trade move basebal duh well cast lot certain may understand better good lopez may overvalu experi neither one us run basebal team beastmast',\n",
       " 'know finish laugh thought would great final two canadian team lot tradit cherri nonsens behind nail biter finish cours would prefer vancouv montreal final vancouv score final goal piti neither happen',\n",
       " 'final stade usenet hockey draft congratul year winner dave wessel victoria b c parlay initi 1000 point 1575 9 point thank 262 team enter biggest usenet hockey draft ever hope hear septemb 7th annual draft pleasur run draft hope fun andrew usenet hockey draft stand week 28 posn team total pts cash last posn 1 dave wessel 1575 9 1574 1 9 1 2 gill carmel 1539 0 1538 1 0 3 bob hill 1539 0 1515 24 0 2 4 seppo kemppainen 1515 2 1468 47 2 4 5 awesom oiler 1513 0 1458 68 6 5 6 hillsid raider 1503 0 1496 7 0 6 7 mak knife paranjap 1500 0 1469 31 0 7 8 jan stein 1492 3 1457 35 3 8 9 year model 1488 6 1471 17 6 9 10 tapio repo 1486 6 1467 19 6 10 11 ranger destini 1486 0 1444 42 0 10 12 underachiev 1459 1 1449 10 1 13 13 frank big fish 1457 0 1435 22 0 12 14 go flame 1448 3 1408 40 3 15 15 thin ice 1444 3 1412 32 3 14 16 mopar muscl men 1441 7 1438 3 7 17 17 littlest giant 1439 6 1404 35 6 16 18 lindro loser 1427 7 1426 1 7 18 19 die penguin bandwaggon 1412 2 1392 20 2 19 20 samuel lau calgari alberta 1401 9 1397 4 9 20 21 boomer boy 1374 2 1374 0 2 21 22 delawar wombat 1372 3 1371 1 3 23 23 general account offic 1365 9 1345 20 9 22 24 migod menschen 1365 6 1334 31 6 24 25 wellsi butthead dec nh 1363 6 1311 52 6 25 26 fife flyer 1356 4 1325 31 4 27 27 rocki mountain high 1352 8 1351 1 8 26 28 dave snell 1346 0 1321 25 0 29 29 fluid glacial 1341 0 1323 18 0 30 30 gerald olchowi 1337 7 1304 33 7 28 31 gaoler 1317 2 1306 11 2 31 32 smeghead 1316 3 1316 0 3 32 33 neural netter 1309 3 1298 11 3 35 34 young skateless 1307 9 1265 42 9 33 35 sam dog 1297 6 1286 11 6 34 36 artic storm 1293 3 1254 39 3 37 37 youngbuc 1293 0 1238 101 7 36 38 soft swede 1284 9 1238 46 9 38 39 simmonac 1280 8 1260 20 8 46 40 milton keyn king 1271 8 1269 2 8 40 41 jeff horvath 1266 6 1261 5 6 39 42 legion hoth 1265 8 1250 15 8 45 43 le fleur de lys 1264 3 1239 25 3 43 44 yan man loke 1263 7 1263 0 7 44 45 kuehn crusher 1258 1 1213 45 1 41 46 hamster hoboken 1254 7 1246 8 7 41 47 streak 1249 8 1195 54 8 49 48 brian bergman 1249 3 1226 23 3 50 49 finnish forc 1248 5 1226 22 5 47 50 grant marven 1239 9 1237 2 9 53 51 ice legion 1239 8 1211 28 8 48 52 goalding 1237 0 1215 22 0 51 53 c overachiev 1231 9 1229 2 9 52 54 randi coulman 1226 2 1221 5 2 62 55 bozrah bruin 1225 2 1180 45 2 54 56 skriko wolv 1223 4 1218 5 4 57 57 buffalo soldier 1223 0 1168 62 1 59 58 houdini magician 1221 3 1203 18 3 56 59 steven mark dream team 1219 1 1216 3 1 64 60 real bad toe jam 1216 9 1168 48 9 55 61 rec sport hockey choic 1216 3 1215 1 3 58 62 bemybabi 1216 2 1162 54 2 60 63 lamp lighter 1213 9 1208 5 9 63 64 lipp 1212 9 1199 13 9 61 65 phil kev karma dude 1205 8 1205 0 8 69 66 doug bowl 1203 0 1183 20 0 72 67 bloom counti star 1202 3 1198 4 3 67 68 tom 1202 1 1189 13 1 66 69 indianapoli benni 1197 8 1177 20 8 65 70 bruin 1196 1 1196 0 1 68 71 smithw 1195 0 1174 21 0 70 72 aik exil 1188 5 1154 34 5 77 73 iowa hockey 1188 3 1172 16 3 71 74 frank worthless 1186 3 1180 6 3 76 75 great pumpkin 1183 4 1129 54 4 73 76 non 1182 4 1166 16 4 74 77 shoot seamen 1180 1 1180 0 1 75 78 invis inc 1178 1 1177 1 1 78 79 brad gibson 1174 2 1147 27 2 79 80 cougarmania 1170 8 1146 24 8 80 81 john zupanc 1170 1 1143 27 1 84 82 david wong 1166 0 1111 66 1 83 83 garryola 1165 7 1156 9 7 85 84 gari bergman fan club 1163 1 1158 5 1 86 staffan axelsson 1163 1 1148 15 1 87 86 kortelaisen kovat 1158 0 1103 164 1 81 87 chocol rocket 1154 5 1152 2 5 90 88 plp fool 1153 1 1153 0 1 82 89 kamuck 1152 0 1097 76 1 97 90 chubbi checker 1150 3 1134 16 3 88 kodiak 1150 3 1149 1 3 93 92 derril dastard dozen 1150 1 1128 22 1 89 93 ken decruyenaer 1147 0 1142 5 0 91 94 fisher dirtbag 1146 7 1146 0 7 92 95 neil younger 1145 2 1131 14 2 106 96 bsc oranienburg 1144 1 1137 7 1 96 97 namer 1138 0 1083 58 2 94 98 arsenal mapl leaf 1137 8 1134 3 8 98 99 campi machin 1137 0 1082 65 3 95 100 mombasa mosquito 1131 1 1125 6 1 100 101 bjoern leaguen 1130 0 1127 3 0 103 102 elli island 1123 6 1116 7 6 99 103 zachman winger 1122 8 1073 49 8 101 104 king suke 1120 1 1120 0 1 108 105 larri 1116 8 1105 11 8 109 106 votenooct26 1115 8 1084 31 8 111 107 bloodgam 1115 1 1073 42 1 112 het schot hard 1115 1 1097 18 1 110 109 hurrican andrew 1114 6 1107 7 6 107 110 dirti white sock 1114 4 1071 43 4 104 111 wormtown woosbag 1114 0 1059 72 6 105 112 bruce rent mule 1111 9 1100 11 9 112 113 oklahoma stormchas 1111 3 1083 28 3 116 114 teem kanada 1111 0 1095 16 0 114 115 edelweiss 1110 9 1108 2 9 102 116 frank folli 1110 2 1086 24 2 115 117 pond slime 1109 7 1109 0 7 118 118 spud 1108 6 1096 12 6 117 119 psv dartmouth 1097 1 1090 7 1 119 120 kokudo keikaku bunni 1096 3 1056 40 3 124 121 blue talon 1095 3 1082 13 3 121 122 stanford ice hawk 1094 2 1066 28 2 122 123 timo ojala 1088 3 1088 0 3 125 124 mark sander 1088 1 1077 11 1 120 125 aye carumba 1087 9 1084 3 9 123 126 dirti rotten pucker 1087 2 1086 1 2 128 127 gari team 1087 1 1070 17 1 133 128 cluster buster 1084 6 1077 7 6 127 129 haral 1083 3 1076 7 3 126 130 apricot fuzzfac 1081 3 1058 23 3 129 131 gari bill pen dynasti 1078 6 1059 19 6 132 132 seattl pftb 1077 9 1055 22 9 135 133 nesbitt 1077 1 1076 1 1 131 134 lost poot 1076 7 1070 6 7 130 135 le group mi 1076 2 1046 30 2 137 136 arctic circl 1075 6 1038 37 6 134 137 late night david letterman 1074 0 1074 0 0 136 138 wembley lostweekend 1071 3 1071 0 3 145 139 wild heart son 1068 9 1064 4 9 143 140 dree hobb 1066 4 1053 13 4 149 141 closet boy boy 1066 0 1018 48 0 142 142 scott glenn 1065 2 1055 10 2 139 143 go bruin 1064 2 1058 6 2 138 144 andi f wong 1063 5 1042 21 5 145 book em danno bushbabi 1063 5 1053 10 5 148 146 mckee rock rocker 1062 1 1057 5 1 147 147 boutch 92 93 1062 0 1042 20 0 144 148 team gold 1060 7 1044 16 7 141 149 goddess ferment 1056 2 1026 30 2 151 150 convex star 1055 6 1050 5 6 153 151 fli kiwi 1055 1 1046 9 1 140 152 einstein rock band 1054 0 1054 0 0 154 153 dr joel fleishman 1053 7 1050 3 7 165 154 tim roger 1053 1 1045 8 1 152 155 team 1053 0 998 174 8 159 156 tap 1052 5 1052 0 5 156 157 sundog 1052 4 1052 0 4 166 158 butter waffl 1052 0 1006 46 0 157 159 go hab go 1051 0 1043 8 0 150 160 princeton canuck 1050 0 995 124 2 155 161 hubert hockey homeboy 1049 6 1049 0 6 157 162 satan choic 1047 5 1033 14 5 164 163 bob blue 1046 8 1000 46 8 160 164 les nordiqu 1045 0 990 60 4 162 165 pierr mailhot 1044 6 1042 2 6 167 166 furley furi 1041 6 1038 3 6 161 167 slap shot marco 1039 8 988 51 8 168 168 hunter collector 1038 4 996 42 4 162 169 dreamer 1038 0 983 63 7 173 170 san jose mahi mahi 1036 8 1005 31 8 169 171 jeff nimeroff 1034 8 986 48 8 171 172 east citi joker 1034 0 979 69 1 174 173 leaf rule 1033 8 1008 25 8 170 174 dars bill 1033 7 999 34 7 178 175 flower 1033 0 978 113 6 177 176 daryl turner 1030 4 1028 2 4 175 177 lana inc 1030 3 1003 27 3 180 178 ride pine 1028 7 1008 20 7 176 179 spinal tap 1027 4 986 41 4 181 180 stimpi adg zeta 1027 0 1006 21 0 172 181 chappel chump 1024 0 1000 24 0 179 182 big bad bruin 1023 5 1005 18 5 184 183 enforc 1022 1 994 28 1 183 184 mike mac cormack sydney ns 1022 0 967 107 2 186 jimpark 1022 0 967 179 0 182 186 bulldog 1020 4 997 23 4 187 187 yellow plagu 1019 2 1005 14 2 195 188 jeff bachovchin 1018 7 972 46 7 184 189 absolut lehigh 1017 9 1009 8 9 189 190 voyageur 1015 7 1013 2 7 188 191 republican dirti trickster 1010 0 955 66 0 190 192 ninja turtl 1009 3 1008 1 3 196 193 dr 1009 1 992 17 1 192 194 henri bar b q 1008 7 1008 0 7 191 195 bunch misfit 1007 8 984 23 8 193 196 robyn team 1007 0 977 30 0 194 197 cobra killer 1006 7 975 31 7 202 198 cherri bomber 1005 2 1004 1 2 203 199 kuta papercut 1003 5 985 18 5 200 200 great expect 998 3 996 2 3 201 acadien 998 3 980 18 3 198 202 darman dragon 994 3 966 28 3 199 203 team melvill 993 9 947 46 9 197 204 killer ape 990 3 966 24 3 205 205 kaufbeuren icebreak 988 6 951 37 6 206 206 jayson kinki puck 987 9 961 26 9 204 207 roger smith 987 6 948 39 6 208 208 firebird 980 9 977 3 9 209 209 ikea wholesal 980 7 979 1 7 211 210 umpir 4 life 980 1 969 11 1 207 211 1st week hurt 980 0 925 55 9 210 212 outlaw 975 0 920 164 9 212 213 400 hurrican 973 1 941 32 1 223 214 frack attack 972 3 945 27 3 219 215 believ dont 970 1 949 21 1 215 216 todd turkey 967 9 966 1 9 219 217 thunder herd 966 0 911 163 6 214 218 knee injuri 965 4 955 10 4 217 219 200 club 962 8 956 6 8 213 220 fred mckim 962 0 907 93 0 222 221 crazi euro 961 9 944 17 9 218 222 creep death 959 3 938 21 3 216 223 ryan renegad 956 9 906 50 9 221 224 pig vomit 953 3 952 1 3 224 225 ice stryker 952 0 897 105 4 225 dayton bomber 952 0 952 0 0 228 227 cdn stuck alabama 951 3 941 10 3 227 228 fight geordi 950 0 895 141 6 226 229 cafal crew 947 3 909 38 3 229 230 ship way 942 7 934 8 7 235 231 zipper head 941 9 908 33 9 232 232 chris death 941 0 886 83 6 230 233 banko beer ranger 940 2 936 4 2 232 234 swillbelli 939 7 921 18 7 231 235 oz 934 0 899 35 0 237 236 laubster ii 931 0 876 201 6 236 237 ninja bunni 928 9 884 44 9 239 238 great scott 928 0 873 73 3 240 239 joliet inmat 927 8 882 45 8 238 240 ny flame 923 8 916 7 8 234 241 sandi sabr 917 7 913 4 7 243 242 widefield white wolv 910 9 874 36 9 241 243 florida tech burgh team 909 3 860 49 3 246 244 ice hole 908 7 906 2 7 242 245 south carolina tiger paw 903 0 848 78 4 245 dave team 903 0 871 32 0 244 247 mudvill king 900 6 873 27 6 250 248 redlin 898 9 883 15 9 252 249 roadrunn 898 5 880 18 5 249 250 xtc 898 2 890 8 2 248 251 leo blue chip 894 4 884 10 4 247 252 new jersey rob 891 7 891 0 7 251 253 pat phillip 891 1 881 10 1 253 254 stewart clamen 869 6 868 1 6 254 255 demon spawn 868 0 843 25 0 255 256 sunnyval storm 815 2 815 0 2 256 257 allez les blue 803 0 748 476 9 257 258 sale hockey club 785 0 762 23 0 258 259 pete pick 783 0 728 168 5 259 260 rinaco 780 0 725 114 0 260 261 brenz reveng 705 0 701 4 0 261 262 dinamo riga 658 0 603 571 6 262 andrew scott andrew idacom hp com hp idacom telecom oper 403 462 0666 ext 253',\n",
       " 'think nhlpa 93 best video game avail cours mani thing could done better realli appreci name player real one matter lack logo still play sinc novemb lead differ team final make scorer team compet top score yesterday titl use toronto hartford 4 game two play playoff 7 game fashion 5 minut period best scorer shooter gilmour 116 shot rememb well iskand ayari',\n",
       " 'manni mota billi hatcher herm winningham lonni smith light hit horror field gari redus dion jame daryl boston vinc coleman yeah final start decent obp cecil espi willi wilson gari petti milt thompson gari varsho ok admit take quick brows major leagu handbook first 7 8 oh time light hit black outfield lou brock look curt flood cesar geronimo cesar cedeno likewis list oh predict milt cuyler mike jone aix high end develop mjone donald aix kingston ibm com',\n",
       " 'yahooooooooo hab tie sucker 2 team head quebec citi play game 5 btw final score hab 3 nord 2 score might bit mislead hab domin game 5 00 mark first score 8 2 miracul save ron hextal bastard reason score close hab win goal score benoit brunet 1 07 3rd roy ok game made first save one way anoth defens clear rebound espn radio report bruin lost 6 5 ot yahooooooooooo sucker got deserv life great final would go well nick take town crier hat',\n",
       " 'littl someth found read villag voic note sport coverag occasion print interest featur year predict team analys 1993 season present form bob dylan lyric articl front give memor one rememb know melodi could dig interest yankess tune subterranean homesick blue howe basement mix medicin georg pavement think bout govern wade bogg trench coat bat paid say got bad back want get laid look kid somethin know columbus met tune like roll stone upon time play fine threw away dykstra prime peopl said bewar cone bound roam thought kid use laugh strawberri headin talk loud seem proud shop vinc coleman next deal philli tune highway 61 well daulton dykstra fun keep highway 61 giant tune ballad rubin hurrican carter',\n",
       " 'ditto allow peopl like continu shame peopl say cheap shot draw penalti fake ing part game say bullsh ever tri like yzerman would deal probert ulf even retaliatori way one could justifi fool',\n",
       " 'believ 4 1 rod brind amour score 19 59 third',\n",
       " 'speak roger ilk whatev happen good ol gln kill file sinc last year playoff move new news reader kill file find gone must admit howev unlik gln roger seem know someth game long subject touch leaf',\n",
       " 'still need pitch staff hold oppos team one run',\n",
       " 'hello hockey fan bonjour tout le mond well salt lake citi past sunday local abc station decid televis hockey game la directr de programm est la tete de merd anyway satellit dish friend hockey invit watch game come sunday 25 apr find correct game time calgari la game time show everyth 11 00 mdt 5 00 pm mdt even sure game go play come sunday abc muck schedul think abl pull three game 11 00 2 00 pm 5 30 pm mdt dish sure anybodi schedul plea emial see telent get rec sport hockey sometim difficult get link thank advanc merci avanc p anglai ou francai accord roland behunin behunin oodis01 af mil behunin oodis01 hill af mil',\n",
       " 'actual alomar two time gold glover 91 92',\n",
       " 'alway possibl case think blatant discrimin go clear selig allow opposit use pre 1920 basebal dodger almost impress also got intent walk stretch farm anim beyond natur length paula koufax cv hp com paul andresen hewlett packard 503 750 3511',\n",
       " 'would clint malarchuck specul time injuri serious play end rink time play end ambul park never would surviv ditto play anyth leagu ambul standbi seen video tape incid amaz much blood liter spurt ice clint grab neck watch puddl horror amaz enough made full recoveri play nhl get year time incid anyway play long afterward peopl specul get back togeth incid think bunch person problem dog afterward eventu get back form play anoth year believ retir anyon els carol boudreau 44 k x termin boudreau athena mit edu go flame rock king',\n",
       " '950k',\n",
       " 'far simmon look like total idiot 1 zane smith learn switchpitch return dl would rather zane smith pitch right hand moeller pitch 2 sure simmon readi say told otto impress win last week otto latest debacl restor simmon reput look like back 92 form al highest era among starter four sake ted sake hope pitch 3 5 era rest season yeah right 3 tomlin merc bit disappoint still decent consid consider amount talent matur shown first season seem actual gotten littl bit wors tomlin almost unhitt rooki year lefti batter merc good oba rooki year show lot concentr plate rooki year 4 walk well seem lose end tonight still think walk desrv contract 5 leyland accept part blame lavallier situat understand manag fear lose tom princ waiver even use aright hander like slaught smart platoon also blame leyland case sinc hcurrent convinc lavallier give way much time last year regular season playoff slaught play 7 game good averag right hand pitch leyland simmon forse last year attempt trade lavallier last year fool could tell lavallier fit last year 6 denni moeller scari 7 candeleria well go high era end season mayb 3 4 rang 1 million plus come customari home run give stage patterson goe week patterson serv pirat well year far seem pitch well ranger think pirat spent money patterson stead 8 rooki batter well young surpris bit instant impact excel perform much surpris think thank doughti 9 rooki pitcher wors expect especi cook 10 slaught come given contract extens last year valu increas immens 11 lonni smith well eric davi sign compar amount let see eric hit better run better field better didnt pirat go eric davi injur davi better healthi lonni smith even lonnni smith get big hit year asset look terribl base field 12 manag big big zero sauer yet make forc agreement favor revenu share seem concern pleas idiot danforth prepar team move tampa bay 13 alex cole fiasco pirat infield cf posit look good rf lf would look good could gotten cole replac two four outfield eric davi van slyke cole would made respect outfield even without eric davi thye pirat would respect outfield cole svan slyke merc think hit left hand left stead switch hit simmon option outfield iron biggest accomplish simmon tenur get alex cole realli cheap bad 14 compensatori draft pick bond forget pirat rant rave get pick issu still appeal doesnt convinc anyon simmon sauer idiot noth els final note tim wakefield aw last 2 start count pitch like last year rest season also pirat content toward rthe end season miss redus clutch hit speed peak second half last 2 season',\n",
       " 'take look stand real easi get focuss minutina forget giant happen first place work screw chang thing think ought differ folk like argu theoret detail prefer watch team win giant slip third talk arrang bat order think stupid focus wrong simpl fact work major follow al comment major nl choic 1b leagu team clark hit third fantasi team grace murray never abl get clark take three without hesit real life think clark william even close much prefer defens headcas matt good solid swing real punch drop 230 wander cleanup accord latest basebal week hit 275 last week hit 296 exact chop liver most though giant win frank long continu rather silli second guess strategi evid folk would rather right first',\n",
       " 'first congratul blue victori think must realiz primari reason blue abl win curti joseph goalkeep get hot littl oppos team joseph given entir citi st loui otherwis would probabl game 6 schedul game sunday blue caught break without doubt one refere constant watch blackhawk look reason give penalti second blue first goal result puck hit linesman blackhawk attempt clear linesman shot brett redirect anyth hull redirect anoth st loui goal belfour trip behind went make save someon belong creas mean st loui player final overtim goal caus someon kept belfour get back creas goali way stop shot congratul st loui beat hawk shame see bryan murray final advanc campbel confer final joseph abl stop power red wing attack',\n",
       " 'accord quotat chairman cherri play springfield anoth player pay fine player paid want call player teacher pet player repli ah sour grape',\n",
       " 'team believ cub best record ever basebal sometim way far back 110 someth',\n",
       " '',\n",
       " 'might want clarifi 11 game win streak pen streak playoff streak tie chicago blackhawk 11 row met pen final last year 18 game unbeaten far regular season unbeaten streak hey take person flyer fan two row stretch healthi lindro recchi brind amour tommi soderstrom next year way sinc flyer need defenseman kind trade would anybodi suggest exist flyer roster sinc scuttlebutt terri carkner next year apart piec notebook paper would better defens',\n",
       " 'curious whenev person put 15 day 30 day 60 day person list longer specif time seen person 15 day mayb 4 month last year rememb need littl clarif disabl list specif scotyy',\n",
       " 'bad similar situat slowpitch softbal base load weakest hitter plate hit line drive third baseman head hook hook final land ten feet foul ground almost hit fenc side field umpir call fair ball coach third yell evrybodi move base ump posit still fair pass third base team immedi protest never know certain go argu sinc everi bodi manag advanc one base safe also time bat ball ricochet runner second base leg field ss step second forc runner first throw first time umpir call tripl play protest remov game anyway',\n",
       " 'nhl alltim leader goal point end 1992 3 season much thank joseph achkar carl note activ player player score least one point past season point leader follow goal leader find mistak pleas send email time nhl lead goal scorer denot activ player 1 gordi howe det hfd 801 2 wayn gretzki edm la 765 3 marcel dionn det la nyr 731 4 phil esposito chi bos nyr 717 5 bobbi hull chi wpg hfd 610 6 mike gartner wsh min nyr 583 7 mike bossi nyi 573 8 guy lafleur mtl nyr que 560 9 johnni bucyk det bos 556 10 mauric richard mtl 544 11 stan mikita chi 541 12 frank mahovlich tor det mtl 533 13 michel goulet que chi 532 14 jari kurri edm la 524 15 bryan trottier nyi pit 520 16 gilbert perreault buf 512 17 jean beliveau mtl 507 18 lanni mcdonald tor col cgi 500 19 jean ratell nyr bos 491 20 norm ullman det tor 490 21 dino ciccarelli min wsh det 485 22 darryl sittler tor phi det 484 23 mario lemieux pit 477 24 glenn anderson edm tor 459 25 alex delvecchio det 456 26 mark messier edm nyr 452 27 dale hawerchuk wpg buf 449 28 rick middleton nyr bos 448 29 steve yzerman det 445 30 peter stastni que nj 444 31 rick vaiv van tor chi buf 441 32 joe mullen stl cgi pit 433 33 yvan cournoy mtl 428 34 dave taylor la 427 35 steve shutt mtl la 424 36 deni savard chi mtl 423 37 bill barber phi 420 38 brian propp phi bos min 413 39 gari unger tor det stl atl la edm 413 40 rod gilbert nyr 406 41 steve larmer chi 406 42 john ogrodnick det que nyr 402 activ player berni nichol la nyr edm nj 397 pat lafontain nyi buf 386 brian bellow min mtl 382 dave andreychuk buf tor 373 tim kerr phi nyr hfd 370 bobbi smith min mtl 357 brett hull cgi stl 356 luc robitaill la 353 mike foligno det buf tor 351 dave christian wpg wsh bos stl chi 340 paul coffey edm pit la det 330 brent sutter nyi chi 325 pat verbeek nj hfd 318 ron franci hfd pit 311 cam neeli van bos 292 ray bourqu bos 291 bob carpent wsh nyr la bos tor 285 brent ashton van col nj min que det wpg bos cgi 284 doug gilmour stl cgi tor 277 rick tocchet phi pit 277 kevin dineen hfd phi 275 toma sandstrom nyr la 273 dale hunter que wsh 269 ryan walter wsh mtl van 264 brian mullen wpg nyr sj nyi 260 ed olczyk chi tor wpg nyr 260 kirk muller nj mtl 258 joe nieuwendyk cgi 257 jimmi carson la edm det 254 time nhl score leader denot activ player 1 wayn gretzki edm la 765 1563 2328 2 gordi howe det hfd 801 1049 1850 3 marcel dionn det la nyr 731 1040 1771 4 phil esposito chi bos nyr 717 873 1590 5 stan mikita chi 541 926 1467 6 bryan trottier nyi pit 520 890 1410 7 johnni bucyk det bos 556 813 1369 8 guy lafleur mtl nyr que 560 793 1353 9 gilbert perreault buf 512 814 1326 10 alex delvecchio det 456 825 1281 11 jean ratell nyr bos 491 776 1267 12 mark messier edm nyr 452 780 1232 13 norm ullman det tor 490 739 1229 14 peter stastni que nj 444 777 1221 15 jean beliveau mtl 507 712 1219 16 dale hawerchuk wpg buf 449 763 1212 17 bobbi clark phi 358 852 1210 18 paul coffey edm pit la det 330 871 1201 19 deni savard chi mtl 423 769 1192 20 jari kurri edm la 524 666 1190 21 mario lemieux pit 477 697 1174 22 bobbi hull chi wpg hfd 610 560 1170 23 berni federko stl 369 761 1130 24 mike bossi nyi 573 553 1126 25 michel goulet que chi 532 590 1122 26 darryl sittler tor phi det 484 637 1121 27 mike gartner wsh min nyr 583 524 1107 28 frank mahovlich tor det mtl 533 570 1103 29 ray bourqu bos 291 806 1099 30 dave taylor la 427 635 1062 31 deni potvin nyi 310 742 1052 32 henri richard mtl 358 688 1046 33 steve yzerman det 445 595 1040 34 bobbi smith min mtl 357 679 1036 35 rod gilbert nyr 406 615 1021 36 glenn anderson edm tor 459 559 1018 37 lanni mcdonald tor col cgi 500 506 1006 38 rick middleton nyr bos 448 540 988 39 dave keon tor hfd 396 590 986 40 ron franci hfd pit 311 675 986 41 berni nichol la nyr edm nj 397 580 977 42 brian propp phi bos min 413 561 974 43 andi bathgat nyr tor det pit 349 624 973 44 mauric richard mtl 544 421 965 45 larri robinson mtl la 208 750 958 46 dino ciccarelli min wsh det 485 472 957 47 steve larmer chi 406 517 923 48 joe mullen stl cgi pit 433 486 919 49 bobbi orr bos chi 270 645 915 50 brad park nyr bos det 213 683 896 51 butch gore la nyi bos 375 513 888 52 bill barber phi 420 463 883 53 denni maruk cal cle wsh min 356 521 877 54 ivan boldirev bos cal chi atl van det 361 505 866 55 yvan cournoy mtl 428 435 863 56 dean prentic nyr bos det pit min 391 469 860 57 ted lindsay det chi 379 472 851 58 tom lysiak atl chi 292 551 843 59 dale hunter que wsh 269 570 839 60 john tonelli nyi cgi la chi que 325 511 836 61 jacqu lemair mtl 366 469 835 62 larri murphi la wsh min pit 203 631 834 63 john ogrodnick det que nyr 402 425 827 64 doug wilson chi sj 237 590 827 65 doug gilmour stl cgi tor 277 548 825 66 red kelli det tor 281 542 823 67 pierr larouch pit mtl hfd nyr 395 427 822 68 berni geoffrion mtl nyr 393 429 822 69 steve shutt mtl la 424 393 817 70 phil housley buf wpg 242 575 817 71 wilf paiment kc col tor que nyr buf pit 356 458 814 72 peter mcnab buf bos van nj 363 450 813 73 brian bellow min mtl 382 428 810 74 dave andreychuk buf tor 373 436 809 75 pit martin det bos chi van 324 485 809 76 pat lafontain nyi buf 386 421 807 77 ken linesman phi edm bos 256 551 807 78 gari unger tor det stl atl la edm 413 391 804 79 ken hodg sr chi bos nyr 328 472 800 80 neal broten min 249 547 796 81 wayn cashman bos 277 516 793 82 rick vaiv van tor chi buf 441 347 788 83 borj salm tor det 150 637 787 84 jean pronovost pit atl wsh 391 383 774 85 peter mahovlich det mtl pit 288 485 773 86 dave christian wpg wsh bos stl chi 340 430 770 87 rick keho tor pit 371 396 767 88 rick macleish phi hfd pit det 349 410 759 89 thoma steen wpg 240 511 751 activ player al macinni cgi 185 555 740 luc robitaill la 353 371 724 mike foligno det buf tor 351 367 718 brent sutter nyi chi 325 389 714 mark howe hfd phi det 192 520 712 kirk muller nj mtl 258 433 691 tim kerr phi nyr hfd 370 304 674 adam oat det stl bos 167 490 657 randi carlyl tor pit wpg 148 499 647 ryan walter wsh mtl van 264 382 646 pat verbeek nj hfd 318 313 631 brent ashton van col nj min que det wpg bos cgi 284 345 629 bob carpent wsh nyr la bos tor 285 337 622 brian mullen wpg nyr sj nyi 260 362 622 ed olczyk chi tor wpg nyr 260 358 618 kelli kisio det nyr sj 215 402 617 brett hull cgi stl 356 247 603 rick tocchet phi pit 277 324 601 dan quinn cgi pit van stl phi min 232 367 599 scott steven wsh stl nj 132 462 594 toma sandstrom nyr la 273 320 593 tom fergus bos tor van 235 346 581 dave babych wpg hfd van 120 460 580 mike ridley nyr wsh 230 348 578 lauri boschman tor edm wpg nj ott 225 350 575 keith acton mtl min edm phi 224 350 574 murray craven det phi hfd 205 365 570 kevin dineen hfd phi 275 290 565 rob ramag col stl cgi tor min tb 139 423 562 mike krushelnyski bos edm la tor 234 319 553 gari suter cgi 124 428 552 pierr turgeon buf nyi 218 324 542 troy murray chi wpg 217 324 541 cam neeli van bos 292 241 533 geoff courtnal bos edm wsh stl van 246 274 520 vincent damphouss tor edm mtl 195 320 515 jimmi carson la edm det 254 259 513 peter zezel phi stl wsh tor 182 328 510 guy carbonneau mtl 207 302 509 mark osborn det nyr tor wpg 202 301 503 chris chelio mtl chi 108 394 502 dave poulin phi bos 195 301 496 ray ferraro hfd nyi 230 263 493 russ courtnal tor mtl min 208 284 492 joe nieuwendyk cgi 257 234 491 john maclean nj 241 248 489',\n",
       " '1993 world championship germani group stand munich group b stand dortmund gp w l gf ga p gp w l gf ga p canada 5 5 0 0 31 4 27 10 czech republ 5 4 1 0 17 4 13 9 sweden 5 3 0 2 17 14 3 6 germani 5 4 0 1 20 12 8 8 russia 5 2 1 2 15 12 3 5 usa 5 2 2 1 14 10 4 6 switzerland 5 2 0 3 11 14 3 4 finland 5 2 1 2 7 7 0 5 itali 4 1 1 2 7 19 12 3 norway 4 0 0 4 1 13 12 0 austria 4 0 0 4 3 21 18 0 franc 4 0 0 4 6 19 13 0 april 18 itali russia 2 2 norway germani 0 6 sweden austria 1 0 usa czech republ 1 1 april 19 canada switzerland 2 0 russia austria 4 2 finland franc 2 0 april 20 sweden canada 1 4 czech republ germani 5 0 switzerland itali 0 1 finland usa 1 1 april 21 germani franc 5 3 itali sweden 2 6 czech republ norway 2 0 april 22 switzerland russia 0 6 usa franc 6 1 austria canada 0 11 norway finland 0 2 april 23 switzerland austria 5 1 germani finland 3 1 april 24 russia sweden 2 5 czech republ franc 6 2 canada itali 11 2 usa norway 3 1 april 25 sweden switzerland 4 6 finland czech republ 1 3 russia canada 1 3 germani usa 6 3 april 26 austria itali franc norway 20 00 playoff april 27 quarterfin sweden usa 15 30 russia germani 20 00 april 28 quarterfin canada finland 15 30 itali switzerland czech republ 20 00 april 29 releg 5 b 6 15 30 6 b 5 20 00 april 30 semifin 1 b 4 3 b 2 15 30 4 b 1 2 b 3 20 00 may 1 releg 14 30 bronz medal game 19 00 may 2 final 15 00',\n",
       " 'mlb stand score satruday april 17th 1993 includ yesterday game nation west lost pct gb last 10 streak home road san francisco giant 07 04 636 6 4 2 04 01 03 03 houston astro 06 04 600 0 5 6 4 1 01 03 05 01 atlanta brave 06 06 500 1 5 5 5 lost 3 04 03 03 02 los angel dodger 04 07 364 3 0 4 6 1 01 03 03 04 colorado rocki 03 06 333 3 0 3 6 lost 1 03 03 00 03 san diego padr 03 07 300 3 5 3 7 1 01 04 02 03 cincinnati red 02 08 200 4 5 2 8 lost 4 01 03 01 05 nation east philadelphia philli 08 02 800 8 2 lost 1 05 01 03 01 pittsburgh pirat 07 03 700 1 0 7 3 lost 1 03 02 04 01 st loui cardin 07 03 700 1 0 7 3 lost 1 04 02 03 01 new york met 05 04 556 2 5 5 4 1 02 03 03 01 chicago cub 05 05 500 3 0 5 5 2 02 02 03 03 montreal expo 05 05 500 3 0 5 5 2 02 02 03 03 florida marlin 03 07 300 5 0 3 7 lost 1 02 04 01 03 american west lost pct gb last 10 streak home road texa ranger 06 03 667 6 3 lost 2 04 02 02 01 california angel 05 03 625 0 5 5 3 lost 1 03 02 02 01 chicago white sox 05 04 556 1 0 5 4 2 02 03 03 01 minnesota twin 05 04 556 1 0 5 4 1 02 02 03 02 oakland athlet 04 04 500 1 5 4 4 lost 2 04 02 00 02 seattl marin 04 05 444 2 0 4 5 lost 2 03 02 01 03 kansa citi royal 02 08 200 4 5 2 8 lost 1 01 05 01 03 american east boston red sox 07 03 700 7 3 lost 1 03 01 04 02 new york yanke 06 04 600 1 0 6 4 1 03 01 03 03 detroit tiger 05 04 556 1 5 5 4 3 03 00 02 04 toronto blue jay 05 04 556 1 5 5 4 lost 1 04 02 01 02 cleveland indian 04 06 400 3 0 4 6 1 03 01 01 05 baltimor oriol 03 06 333 3 5 3 6 2 01 02 02 04 milwauke brewer 02 05 286 3 5 2 5 lost 4 00 02 02 03 yesterday score idl team list alphabet order nation leagu american leagu new york met 3 chicago white sox 9 cincinnati red 1 boston red sox 4 florida marlin 3 california angel 1 houston astro 9 baltimor oriol 4 philadelphia philli 1 kansa citi royal 3 chicago cub 3 minnesota twin 4 10 colorado rocki 2 seattl marin 0 montreal expo 3 detroit tiger 5 pittsburgh pirat 4 toronto blue jay 1 los angel dodger 7 cleveland indian 13 atlanta brave 0 texa ranger 3 san francisco giant 1 new york yanke 5 st loui cardin 1 oakland athlet ppd san diego padr 5 milwauke brewer rain joseph hernandez ram laker jtchern ocf berkeley edu king dodger raider jtcent soda berkeley edu angel clipper',\n",
       " 'realli think key point saw incid basebal tonight sunday believ far away plate gant went casual lean bat blame umpir tell pitcher pitch worst part whole incid brave come onto field go attack umpir peopl cox mayb coach player agre person post cox suspend control team',\n",
       " 'long stand good luck redw tradit throw octopus ice stanley cup game say date back 52 olympia wing becam 1st team think sweep cup 8 game lot hardet throw one joe loui seat old olympia balconi though',\n",
       " '',\n",
       " 'side note squid octopi made way ice buffalo still understand buffalo mayb lucki btw shovel ice use shovel use scoop snow zamboni leav leav ice although blue give technic direct remov motion stick',\n",
       " 'quot cire trehguad cyt hey iowa mind espn show pitt njd game cyt least get see devil even gettin ass cyt kick perhap score even win game two cyt go devil sorri tell think devil win game pittsburg penguin mani score threat shut one anoth kill bad must conclud penguin win third stanley cup row hope someon beat cannot see happen e v e',\n",
       " 'time realli want sox sign either littl worri viola elbow sure rememb shout relief week rumor morri come red sox end viola instead even happier viola seem rebound nice long viola sign three year general agre polici avoid long term contract pitcher think enforc rather strict day premier pitcher sign three four year deal leav jay morri stewart jay want compet top free agent pitcher accept greater risk idea option year deal morri automat activ claus buyout amount f',\n",
       " 'curios happen week al nl game score report use enjoy read throughout summer last two year inquisit joel',\n",
       " 'hem two word russel davi play cavern albani aa last year 375 410 385 alley center davi went 285 355 483 22 homer small park road eastern leagu either 23 mle 258 308 416 17 hr field statist see number time last year say brook robinson neither howard johnson unless think win pennant year seem possibl need bogg think make sort mistak davi boston made bogg leav minor two three year shown good hitter hrm still roster 16 ab first two week never figur suspect hit enough especi vs lefti reason shortstop one rumor run around spring train want convert silvestri catcher bodi type wrong shortstop think somebodi divis play baltimor dozen time year would know better mike jone aix high end develop mjone donald aix kingston ibm com',\n",
       " 'roger maynard share view mass bob gainey life general bryan trottier deni potvin vicious board behind trottier given major roger hell gainey skill hockey player probert smash gilmour head board next week diminish assess gilmour skill would take fuhr sanderson latter think gainey would honour know includ list also think relat naiv view win hockey game plugger integr part team selk design acknowledg contribut think peopl understand nobel prize settl congeni alway jd jame david david student busi uwo ca',\n",
       " 'hand hard press think real mistak fereirra made imagin inde benefit hindsight let say view shark upper manag attempt trade kisio major factor decis fire feirerra inclin take exact opposit view kept obvious luckiest man hockey wonder sacrific made muse fax job guess fun gak',\n",
       " 'need box score april 15 game believ score 5 4 anyon provid would appreci',\n",
       " 'understand dead sing na giant home open mon 4 12 giant open today st loui luigi',\n",
       " 'could jayson stark write week press syndic also basebal america stark done sort thing never serious usual state sort project useless top column think one season manag project thrown 60 game hitter could expect plunk 150 time stark realli funni stuff week basebal review good collect strang thing happen previous week also regular print kiner',\n",
       " 'okay bite obp lower bat averag sac fli someth',\n",
       " 'nhl result game play 4 15 93 stand patrick adam norri smyth tm w l pt tm w l pt tm w l pt tm w l pt xpit 56 21 7 119 xbos 51 26 7 109 xchi 47 25 12 106 xvan 46 29 9 101 ywas 42 34 7 91 yque 47 27 10 104 ydet 47 28 9 103 ycal 43 30 11 97 ynj 40 36 7 87 ymon 48 30 6 102 ytor 44 29 11 99 yla 39 35 10 88 ynyi 39 37 7 85 ybuf 38 36 10 86 ystl 37 36 11 85 ywin 40 37 7 87 phl 35 37 11 81 har 26 51 6 58 min 36 38 10 82 edm 26 50 8 60 nyr 34 38 11 79 ott 10 70 4 24 tb 23 54 7 53 sj 11 71 2 24 x clinch divis titl clinch playoff berth minnesota north star 36 38 10 1 1 1 3 detroit red wing 47 28 9 0 2 3 5 1st period min mcphee 18 ludwig 1 23 2nd period min dahlen 34 courtnal gagner pp 0 31 det drake 18 howe ogrodnick 9 14 det ysebaert 34 lidstrom howe pp 17 37 3rd period det ciccarelli 41 coffey chiasson pp 0 32 det kennedi 19 burr probert 3 42 det yzerman 58 ciccarelli gallant 6 17 min dahlen 35 courtnal gagner 19 11 powerplay opportun north star 1 2 red wing 2 4 shot goal north star 10 9 11 30 red wing 6 15 8 29 minnesota north star casey 26 26 5 29 shot 24 save detroit red wing chevelda 34 24 7 30 shot 27 save att 19 749 philadelphia flyer 35 37 11 1 2 4 7 buffalo sabr 38 36 10 0 3 1 4 1st period phl recchi 52 galley lindro 0 18 2nd period phl hawgood 11 dineen eklund pp 2 15 phl dineen 33 mcgill sh 5 40 buf barnabi 1 hawerchuk smehlik pp 7 48 buf wood 18 lafontain ledyard pp 17 34 buf mogilni 75 hawerchuk carney pp 18 56 3rd period phl eklund 11 dineen beranek 4 42 buf mogilni 76 errey lafontain 5 24 phl dineen 34 brind amour pp 6 44 phl dineen 35 brind amour galley sh 8 39 phl acton 8 dineen brind amour 19 48 powerplay opportun flyer 2 5 sabr 3 10 shot goal flyer 6 7 13 26 sabr 8 19 18 45 philadelphia flyer soderstrom 20 17 6 45 shot 41 save buffalo sabr fuhr 10 shot 7 save hasek 11 10 4 5 40 second 16 shot 12 save att 15 042 edmonton oiler 26 50 8 0 0 0 0 winnipeg jet 40 37 7 1 2 0 3 1st period win shannon 20 steen davydov pp 2 08 2nd period win selann 76 olausson 5 25 win zhamnov 25 selann 19 42 3rd period none powerplay opportun oiler 0 3 jet 1 6 shot goal oiler 7 8 16 31 jet 10 16 16 42 edmonton oiler ranford 17 38 6 42 shot 39 save winnipeg jet essensa 33 26 6 31 shot 31 save att 12 229 toronto mapl leaf 44 29 11 1 1 0 2 chicago blackhawk 47 25 12 0 2 1 3 1st period tor baumgartn 1 18 40 2nd period chi roenick 50 murphi chelio 1 29 tor andreychuk 55 mironov lefebvr 13 22 chi murphi 7 roenick chelio pp 19 05 3rd period chi matteau 15 10 51 powerplay opportun mapl leaf 1 3 blackhawk 1 7 shot goal mapl leaf 14 4 8 26 blackhawk 10 13 13 36 toronto mapl leaf potvin 25 15 7 36 shot 33 save chicago blackhawk belfour 41 18 11 26 shot 24 save att 17 856 tampa bay lightn 23 54 7 0 2 3 5 st loui blue 37 36 11 3 3 0 6 1st period stl shanahan 50 brown felsner 10 44 stl miller 23 bassen brown 19 38 stl bassen 8 zombo 19 48 2nd period stl bassen 9 hedican miller 0 14 stl miller 24 zombo hedican 11 09 tbl maltai 7 hamrlik 11 27 tbl bergland 3 harvey gilhen 17 16 tbl shanahan 51 emerson 19 38 3rd period tbl creighton 19 bergland bergevin 0 40 tbl chamber 10 zamun cole 10 37 tbl cole 12 beer bradley 11 58 powerplay opportun lightn 0 3 blue 0 4 shot goal lightn 5 12 14 31 blue 11 11 4 26 tampa bay lightn jablonski 8 24 4 22 shot 16 save bergeron 0 00 third 4 shot 4 save st loui blue joseph 29 28 9 18 shot 15 save hebert 19 20 third 13 shot 11 save att 17 816 san jose shark 11 71 2 0 1 2 3 calgari flame 43 30 11 0 4 3 7 1st period none 2nd period sjs garpenlov 22 odger gaudreau pp 3 37 cal nieuwendyk 38 macinni suter pp 5 26 cal ranheim 21 otto suter 10 43 cal yawney 1 nieuwendyk robert 11 26 cal berub 4 paslawski skrudland 13 45 3rd period sjs wood 1 odger kisio 8 00 cal reichel 40 9 26 cal robert 38 musil paslawski pp 12 27 sjs kisio 26 13 10 cal paslawski 18 ashton stern 16 16 powerplay opportun shark 1 3 flame 2 4 shot goal shark 5 11 9 25 flame 11 14 7 32 san jose shark irb 7 25 0 32 shot 25 save calgari flame vernon 29 26 9 25 shot 22 save att 19 532 vancouv canuck 46 29 9 1 2 5 8 los angel king 39 35 10 2 3 1 6 1st period lak robitaill 63 gretzki sandstrom 1 39 van babych 3 craven nedv pp 9 43 lak sandstrom 25 gretzki robitaill 10 06 2nd period van linden 32 ron courtnal pp 0 54 van ward 22 hunter nedv 1 24 lak gretzki 16 sandstrom robitaill 6 57 lak zhitnik 12 kurri robitaill pp 14 02 lak millen 23 hardi pp 16 57 3rd period van ron 27 dirk 5 28 van ron 28 courtnal linden pp 11 15 van linden 33 courtnal ron 11 27 lak donnelli 29 millen granato pp 14 35 van courtnal 31 ron ratushni 14 54 van ron 29 linden diduck en 18 47 powerplay opportun canuck 3 6 king 3 10 shot goal canuck 8 6 16 30 king 10 21 10 41 vanocuv canuck whitmor 18 8 4 41 shot 35 save los angel king stauber 23 shot 17 save hrudey 17 21 6 11 27 third 6 shot 5 save att 16 005',\n",
       " 'powerplay bad montreal thank stewart call penalti possibl quebec powerplay lethal advantag penalti fill game clean superior powerplay montreal realli lost game game 2 patrick roy well way anoth one trademark aw playoff man truli overr quebec score six goal roy four perhap five quit stoppabl',\n",
       " 'mlb stand score friday april 23rd 1993 includ yesterday game nation west lost pct gb last 10 streak home road san francisco giant 10 06 625 7 3 1 05 02 05 04 houston astro 08 06 571 1 0 7 3 1 02 04 06 02 atlanta brave 09 08 529 1 5 4 6 lost 1 04 03 05 05 san diego padr 06 08 429 3 0 5 5 1 03 04 03 04 los angel dodger 06 10 375 4 0 3 7 lost 3 03 03 03 07 colorado rocki 05 09 357 4 0 3 7 lost 1 03 03 02 06 cincinnati red 05 10 333 4 5 4 6 lost 1 02 04 03 06 nation east philadelphia philli 10 04 714 7 3 lost 1 06 02 04 02 montreal expo 09 06 600 1 5 7 3 4 06 03 03 03 st loui cardin 09 06 600 1 5 6 4 1 06 03 03 03 pittsburgh pirat 08 07 533 2 5 5 5 1 04 04 04 03 chicago cub 07 07 500 3 0 5 5 lost 1 04 04 03 03 new york met 07 07 500 3 0 5 5 lost 1 03 05 04 02 florida marlin 05 10 333 5 5 3 7 1 03 06 02 04 american west lost pct gb last 10 streak home road california angel 09 04 692 7 3 3 06 02 03 02 texa ranger 08 05 615 1 0 5 5 lost 2 04 02 04 03 minnesota twin 08 06 571 1 5 6 4 1 05 04 03 02 chicago white sox 07 07 500 2 5 5 5 2 02 03 05 04 seattl marin 07 08 467 3 0 4 6 2 05 03 02 05 oakland athlet 05 08 385 4 0 3 7 lost 2 05 04 00 04 kansa citi royal 05 10 333 5 0 5 5 lost 1 03 06 02 04 american east boston red sox 11 05 688 7 3 lost 2 06 01 05 04 detroit tiger 09 05 643 1 0 8 2 2 07 01 02 04 new york yanke 08 07 533 2 5 5 5 2 03 03 05 04 toronto blue jay 08 07 533 2 5 5 5 1 04 02 04 05 milwauke brewer 05 07 417 4 0 4 6 lost 1 02 02 03 05 cleveland indian 05 11 313 6 0 2 8 lost 4 04 03 01 08 baltimor oriol 04 09 308 5 5 4 6 lost 2 02 05 02 04 yesterday score idl team list alphabet order nation leagu american leagu san diego padr 2 boston red sox 0 philadelphia philli 1 seattl marin 7 los angel dodger 1 chicago white sox 3 montreal expo 3 baltimor oriol 2 cincinnati red 4 milwauke brewer 4 pittsburgh pirat 5 minnesota twin 5 atlanta brave 3 toronto blue jay 6 florida marlin 4 kansa citi royal 3 colorado rocki 2 cleveland indian 0 st loui cardin 5 california angel 8 san francisco giant 13 new york yanke 5 new york met 4 oakland athlet 1 chicago cub idl detroit tiger idl houston astro idl texa ranger idl joseph hernandez ram laker jtchern ocf berkeley edu king dodger raider jtcent soda berkeley edu angel clipper',\n",
       " 'watch penguin devil game last night saw slash barrasso took neck brought mind goaltend jugular vein cut skate think sabr posit anyon rememb know name happen sinc player whose skate cut goali name info ever happen hockey game thank',\n",
       " 'believ howe era 80 improv',\n",
       " 'true rumor fact big three way deal eric lindro go ottawa senat senat get 15mill montreal montreal get alexand daigl first round pick senat philli get damphouss bellow patrick roy draft pick',\n",
       " 'goali refer clint malarchuk time play sabr team immedi prior washington capit recov continu play know present whereabout',\n",
       " 'hockey tipset v ren 1993 vinnar av hockey tipset 1993 per bengtson gratti slutst llning 1 per bengtson 15 2 lar andersson 13 3 ander engwal 11 4 staffan axelsson 10 patrik sander 10 6 hannu l hietanen 9 ingvar khan 9 8 noran cs tut fi 8 jan stein 8 roger wennstr 8 11 lar thore aarhus 7 fredrik nissen 7 marek repinski 7 lar wiklund 7 15 lennart hedenstr 6 vinnar och lycklig gare av en fbk mugg r allt per bengtson kometen som ledd hockeytipset 92 vid halvtid men som sedan fick ge vika f r ander engwal slutspurten de tre f rsta lyckad pricka den viktiga fr ga 1 4 sm guld till bryn kansk var det v l sv rt att tippa slutspelet ock men man ser att om den j mna finalen mellan lule och bryn ist llet hade slutat till lule f rdel hade det varit samma vinnar alla fall h r f ljer de korrekta svaren siffran inom parent anger hur nga som hade tippat detta anger per bengtson vinnand rad 1 elitserien 1 1 tippa den slutgiltiga tabellen 1 v ster 7 2 bryn 2 3 malm 4 4 f rjestad 5 5 modo 6 6 lule 6 7 leksand 2 8 djurg rden 2 9 hv 71 11 10 r gle 12 1 2 vilka 4 av de 8 kvartsfinalisterna g r vidar till semifin djurg rden 4 lule 9 bryn 6 malm 13 1 3 vilka 2 lag ts final lule 5 bryn 4 1 4 vilka blir svenska stare 92 93 3p bryn 4 2 allsvenskan 1 v stra fr lunda 11 2 hudding 3 3 bj rkl ven 5 4 aik 5 9 team g vle 1 10 boden 0',\n",
       " 'shark appear lean toward pick rob niedermay center brother scott defenseman pick nj coupl year ago brought physic tryout week ago read niedermay best skater draft play offens defens afraid physic play defens shark look pretti good term defens prospect rathj sykora ragnarsson center kisio et al get old small player shark just see pick yet anoth small player like kariya get bash oppposit get separ shoulder',\n",
       " 'yup lot foreign born player canadian nation soccer team brit give someth back end record former ny ranger coach ted darth sator recent led lion milan jari kurri former team nicknam chang devil lion second straight italian championship made european final four last autumn lose swedish champ malmo semi accomplish feat use fifteen canadian born player mamma mia marcu',\n",
       " 'expans creat job nhl team afford import role player europ pick star continu build team around local player love see european nhl divis see happen time simpli enough fan interest moment sever crucial market like germani itali franc sweden finland probabl afford shell 20 30 ticket way american canadian fan call minnesota north star effect scandinavian love hockey prefer watch local inexpens hockey nhl nation hockey leagu love idea though pan european tv channel eurosport could bring million american network like never pay',\n",
       " 'exact would ferreira accomplish three head gm ship taken lot heat nobodi explain thing would differ ferreira still would ferreira made trade would trade would made fewer trade trade',\n",
       " 'someon ask roster colleg hockey senior star shrine game held orono main earlier month west derek plant minn duluth west mvp game greg johnson n dakota bryan smolinski mich st fred knipscheer st cloud state chris campbel wisconsin superior glenn lang uw superior chris bergeron miami joe cook miami jami erb bemidiji brett harkin bowl green david robert michigan todd trettier uw steven point john young mich tech brett hauer minn duluth pat neaton michigan barri richter wisconsin mike smith lssu chris valicev st mari shaun gravistin ak anchorag goali tom newman minnesota bryan schoen denver ron mason mich st coach steve nelson uw superior jim knapp minn duluth east jack duffi yale chris foy n eastern scott meehan mass lowel aaron miller vermont kevin sullivan bu chris potter connecticut ray alcindor middleburi greg carvel st lawrenc bob cowan provid steve dubinksi clarkson dan gravell merrimack ryan hugh cornel mark kauffman yale matt mallgrav harvard chris mcgee babson scott mcnair rit jim montgomeri main david sacco bu chris rogl clarkson goali east mvp game garth snow main grant wood hamilton brian duroch brown coach shawn walsh main bruce marshall connecticut origin roster may chang actual game guy abl particip whatev',\n",
       " 'ulf pgh fan piss whole adam grave ulf samuesson debat ulf play hard hit hockey noth wrong grave way win game intent hurt someon bite thought institut kind new rule season stop crap like offici still stink high heaven imho could get rid exist ref institut new system one ref ice keep eye troubl maker lot thing would stop game would rule finness player mario selann bure messier et al',\n",
       " 'stankiewicz stankowitz jewish polish way correct pronunci accord stanki ston kev itch sportscast get wrong jewish ballplay think ron blomberg best known first dh appear major leagu ballgam',\n",
       " 'giant alway hit maddux well interest maddux pitch around bond get clayton last night threw 2 straight fastbal plate bond 1st last night got away first one bond hit second one park 3rd clark third base one maddux intent walk bond bond drop singl left center brave announc point mcgee leadoff hitter score run yet alway hit around 300 concern base percentag key lineup matt william stay hot bond hit runner base pitch get set back bud black place dl burba done superb job fill far look like differ pitcher last year howev swift terribl start burba move rotat mike jackson right hand reliev asid rod beck get lot action also hope dusti manag bullpen better roger craig especi beck concern beck use 3 straight day earlier week far good',\n",
       " 'funni mention exact case go make grant star like mario draw fan even team suck short term still think attend increas last unless team win competit improv butt kick one pittsburgh still get better peopl continu support sudden drop say 50 point knee surgeri peopl jump bandwagon ok number came nhl guid record book give credit mario sinc deserv point mario expect thing come e win team creat next great hockey superstar anybodi jump say nit pick minc word go back read thread start might help think would go fan mind sudden found interest mario pen gee mario lemieux amaz go watch play gee got kick ass guy side go watch play think latter think accur ticket sell peopl go game think thread alreadi discuss season ticket holder la alway use ticket effect king initi success follow gretzki arriv 68 91 point sourc correspond attend jump effect drop attend even though ticket sale may chang much whether king winner debat claim sinc gretzki arriv least competit also claim mcnall made stupid move tri reassembl oiler dynasti anoth stori includ like mcnall anyway mcnall heavi market around gretzki undoubt also respons attend merchandis sale etc said king littl tailspin past coupl year empti seat forum even ticket sold short term imo although think inevit team improv player lemieux gretzki simpli make peopl around better well least full agreement say roger ever valid point resist yes wors last year think type reason appli new pittsburgh fan appli extra peopl show winnipeg game difficult predict think jet miss playoff next season year maintain attend level serious doubt case expect improv team would gone without selann',\n",
       " 'detroit octopus symbol old day leagu era origin 6 four team made playoff win cup team win two seven game seri word took 8 playoff win win cup octopus 8 leg becom common detroit symbol everi year around playoff time peopl start sneak octopus octopi joe loui arena throw onto ice',\n",
       " 'seem classic mitchel move drop fli ball injur hamstr play heard anyth serious leg paul bitter mitchel perform seattl nah stretch farm anim beyond natur length paula koufax cv hp com paul andresen hewlett packard 503 750 3511',\n",
       " 'red sox first place eight game season alreadi two win clemen viola clemen start tonight three day rest sox go four man rotat hesketh use relief last night hm',\n",
       " 'sheesh rumor mill strike let assum true question would montreal give san jose shark got first pick took daigl',\n",
       " 'bring interest point anyon els catch espn piec prospect relationship age career length mvps hall fame member part preseason special basic look player amass 1000 plate appear ab time 24 notic interest thing starter found player compris major mvps histori game also found player repres major player hall fame kicker though actual number crunch found player career last much longer career player group also found player produc greater level perform produc twice raw total hrs etc player first group outhit second someth like 282 260 raw ba blew away second group categori hrs 2bs rbis etc impress thing seen espn recent memori guess ray knight make rebutt tonight',\n",
       " 'interest note absolut recollect team pick player 2 week start season never touch roster got wrap money pool decid get involv usenet pool sorri andrew btw thing rememb team joe sacco mayb john maclean mayb franci kevin steven well curious check final stand today r h find amaz absolut input initi team still manag finsh 79th sure impli finish ciao brad gibson brad k gibson internet gibson geop ubc ca dept geophys astronomi 129 2219 main mall phone 604 822 6722 univers british columbia fax 604 822 6047 vancouv british columbia canada v6t 1z4',\n",
       " 'mvp biggest biggest supris disappoint los angel king robitaill donnelli hrudey would chosen alex zhitnik biggest supris expect would becom great defenseman think anyon knew go impress rooki year speed skate abil puck control except one watch king agre marti mcsore warren rychel run close second third surpris peopl note knickl biggest surpris even though person realli rate well biggest disappoint carson though realli unfair sinc much expect second biggest disappoint melros adolesc handl goaltend problem put hrudey bench month stupid contribut team come slump mvp sure robitaill',\n",
       " 'problem nihilist approach roger take sens game line reason guy hit doubl play one base load point say bad thing team anyway specul might happen thing gone otherwis doubl play mere event happen cours game eventu lost unknown reason specul involv construct fantasi would happen roger ever worri next pencil drop fall ceil instead will consid empir evid team go post season win game anybodi els divis make post season win seri agre win divis use intermedi goal ring collect must agre win game use intermedi goal toward win divis disagr come consid win game viewpoint express win game happen reason cannot analyz mani us think thing like base runner good out bad therefor walk better doubl play base load think thing like team game perhap doubl play caus mysteri team dynam caus team win today result becom imposs say anyth individu player perhap atlanta would seri play left field perhap way knowledg person would help team complet lack skill would hurt therefor could extrem valuabl player dave winfield anyth jay victori probabl know replac andr galarraga perhap jay would perhap would lost perhap would defect alpha centauri bear mind fli saucer would land mid season winfield dhing toronto babe ruth good player play ws win team anyth success general accept erni bank good basebal player jarvi brown dan schatzed seem anybodi would deni need provid proof observ thing basebal year empir look rulebook necessari score run one oppon win game would seem import score run prevent one oppon score run score team bat inning end third would seem make out bad hit home run good player tendenc hit pitch certain level usual somewhat consist year year use statist predict winner make flat predict barri bond higher obp slg gene larkin year brave finish ahead rocki stand tiger score run royal also give would astonish turn fals suspect would matter fact pretti sure predict divis winner year given 3 4 guess per divis certain better random chanc almost statist signific admit rocki marin unlik meet world seri must admit sort way measur likelihood howev fuzzi real life person rob servic station two peopl use 38 automat pistol get 42 convict sentenc three year person b similar crimin record rob servic station two peopl use 38 revolv get 42 convict sinc use two differ type handgun comparison total meaningless say drop pencil see graviti still work cat alway test trust pay graviti bill time never drop pencil exact time centuri previous evid meaningless would surpris flew window instead hit desk',\n",
       " 'discuss mark singer david tate valentin weigh side dave various time opinion fwiw mark age matter abil would rather untri rooki great minor leagu number veteran proven averag best care 15 play better want sandi alomar decent minor leagu number grossli inflat pcl general las vega particular project averag major leagu hitter good catcher admit santiago number would probabl come sandi leagu data mid 80s check said agre send lopez richmond least start season box show one minor leagu season hit well two hit poor want see 92 lopez real olson berryhil complet mediocr catcher especi nl catcher essenti averag hitter equival averag around 220 hit well prior level would say belong brave reason chanc lopez last year much fluke alomar 90 santiago 87 one year level age satisfi standard evid javier lopez 1971 1990 bur 428 101 10 1 9 5 0 1 179 33 236 245 327 1991 dur 389 84 8 1 9 14 7 2 175 29 216 243 311 1992 grn 445 135 22 2 14 22 7 2 271 71 303 336 456 1992 atl 16 6 2 0 0 0 0 0 306 3 375 375 500 maj 16 6 2 0 0 0 0 0 306 3 375 375 500 min 1262 320 40 4 32 41 14 5 213 133 254 277 368 tot 1278 326 42 4 32 41 14 5 214 136 255 278 369 maj 650 244 81 0 0 0 0 0 min 630 160 20 2 16 20 7 2 tot 630 161 21 2 16 20 7 2 similar note understand peopl support neon deion grant thought behavior mccarver last year complet bush last year first time ever got 300 ab one place line hard read combin 720 op minor leagu play speed valuabl op alon indic still young age 24 monster year 868 op total major minor eqa 249 major leagu averag averag cf 240 nl last year shown least potenti go 290s would make one 15 best hitter leagu two full season reach prime season 27 consid legitim prospect simpl side show attract deion sander 1968 1988 fla 21 8 2 0 0 1 1 0 325 4 381 409 476 1988 int 20 3 1 0 0 1 1 1 086 0 150 190 200 1989 ea 123 35 1 2 2 9 15 4 257 19 285 333 374 1989 nyy 47 11 1 0 2 3 1 0 222 6 234 280 383 1989 int 263 70 11 4 6 18 15 6 246 37 266 313 407 1990 nyy 133 21 2 2 3 13 8 2 161 9 158 233 271 1990 int 85 26 7 1 1 14 8 1 312 18 306 404 447 1991 atl 110 20 2 1 4 12 10 3 201 12 182 262 327 1991 ric 129 30 5 2 4 7 11 3 230 17 233 272 395 1992 atl 306 92 10 12 11 22 24 9 295 60 301 348 520 maj 596 144 15 15 20 50 43 14 245 87 242 300 418 min 641 172 27 9 13 50 51 15 252 96 268 321 399 tot 1237 316 42 24 33 100 94 29 249 182 255 311 408 maj 600 145 15 15 20 50 43 14 min 603 162 25 8 12 47 48 14 tot 601 154 20 12 16 49 46 14',\n",
       " 'impress object find conclus evid puck did cross line replay saw show fair conclus puck not cross goal line time anyway somebodi screw',\n",
       " 'march 21 1993 roger maynard wrote repli articl graham hudson 1993mar21 223936 6192 ramsey cs laurentian ca anybodi would like check went anoth articl say paraphras howev articl 1993apr12 013939 23016 ramsey cs laurentian ca roger exact playoff hockey conveni phrase use certain circumst',\n",
       " 'look like bob errey ring realli sparkl locker room everyon els want one correct wrong though net e mail need 100 rl e mail boston 2 0 vs buffalo last year boston lost 1 2 home 3 4 buffalo whoever win game 3 advanc simpl',\n",
       " 'philli two game back back extra inning last night game hard fought game chicago blow two game show differ philli team past season tend alway short end 1 run game know mani time saw lose 1 run abl win might contend team 3 0 far extra inning cours 10 3',\n",
       " 'opinion stupidest thing hidden game argument 1 defens run allow 50 game 2 unearn run amount 12 run allow earn run 88 3 sinc unearn run result field pitch earn run product pitch field field 12 defens pitch 88 defens 4 caombin 1 pitch 44 game field 6 pete usual sharper feel field 25 33 defens rang call 30 70 field pitch give baserun littl credit mayb 45 5 even 40 10 give team roberto alomar team john olerud ident bat stat unreason even let roberto steal singl base score lot olerud go first third often offens gordon',\n",
       " 'tonight boston buffalo sabr blank boston bruin 4 0 tonight boston look like boston hang season buffalo home record awesom great buffalo fan might get see reveng last year delarocq eo ncsu edu 1988 1989 1990 1991 afc east divis champion 1991 1992 1993 afc confer champion squish fish monday night footbal novemb 16 1992 squish trash talk fish afc championship januari 17 1992',\n",
       " 'ladi gentlemen boy girl lend ear moment nation legu eastern divis champion philadelphia philli one hundr ten percent guarante chamberlain hollin dykstra incaviglia jackson william daulton green kruk mulholland rivera thompson duncan',\n",
       " '',\n",
       " '',\n",
       " 'david well land team yet think tiger anem pitch would grab guy pronto',\n",
       " 'two conflict report pitcher either jay farm system brave name bill taylor pick jay offer back brave abl send syracus chief',\n",
       " 'line favorit team sweep dodger one least favorit la sweet also met least favorit team loss rocki made great day great start weekend cardin espn tonight big lee smith great start cardin seem hit clutch even though game lot hit mani run hope coach stress situat hit spring train runner lob lower year probabl due high strikeout number jose lankford zeil year know fuss filli media filli fan r b forget right behind stand give wild thing week two start blow game see first believ cardin pitch staff complet filli staff make differ side note year ago 5 6 comment made basebal player manag dodger defens ask hit ball dodger repli fair rememb said section sport illustr would like know said issu go redbird',\n",
       " 'go ninth 3 run lead 2 run score runner first second rd throw drive waaaaaayyyyyyy back puckett wall leap caught ball catch kirbi twin win rd get save line 1 ip 2 walk 2 hit one rob home run',\n",
       " 'tonight see toronto mapl leaf guess come hit bud grind detroit ground walk away home ice advantag remaind seri given shift toronto last long keep mind predicit wendal get game howev otherwis probert domin physic front',\n",
       " 'k peopl tie meant lead 2 1 shoot must jpc',\n",
       " 'kid around might listen',\n",
       " 'erickson go 15 day dl pull muscl left side near rib cage 4 18 93 news twin bring kevin hansen mn twin famili studi univers minnesota 612 626 7224 khansen staff tc umn edu contact univers minnesota women basketbal',\n",
       " 'watch pengiun year mani team possibl realli notic increas tom barasso cheap shot year notic corrspond increas goaltend also notic usual get away exampl last night notic elbow scott steven head basic start whole shove match got steven scott tocchet 2 minut minor also kick john mclean cours call kick automat match penalti 10 game suspens think glenn anderson got one year ago kick gaetan duchesn chest doubt mind barasso dirtiest golatend sinc hextal also good tocchet head butt automat susppens goe along non kick match penalti rememb anymor',\n",
       " 'test flame pleas',\n",
       " 'list publish everi week basebal week brian curran mead data central brian meaddata com',\n",
       " 'agre lemieux deserv hart far brainer hart trophi goe player valuabl team best player leagu arguement realli worthless pen without mario still damn good hockey team leaf without gilmour would fight tampa bay 3rd pick like said mario deserv imho close race gilmour victori would surpris dislik doug gilmour passion must conced extrem valuabl leaf',\n",
       " 'life simpl savard play three last four game still play like crap montreal problem run deeper savard mouton unfortun hope get act togeth playoff line game come pittsburgh said one like use playoff let hope forget nice weather play hockey',\n",
       " 'doug robert ken hill nl mvp let go spos',\n",
       " 'mayb child 80 realli like marlin uniform helmet shine nice sun enough make fan',\n",
       " 'find volum stuff rec sport basebal overwhelm ca 200 post day effect backlog build mani post get dump system could probabl fix time read event guess mine common problem idea would help 1 person general post one articl day 2 limit extent previous post reproduc post 3 post mindless woof anti woof e g jay best jay suck 4 respond mindless post e g jack morri better pitcher frank viola world seri know use n key get post bump interest post disk 5 use goddamn shift key etc make post easier read',\n",
       " 'well problem get pretti annoy swing non strike make out especi ball four 3 2 count dave',\n",
       " 'hey guy jack morri fella joke tri lighten ya season start everyon apoplect stathead tri justifi morri moment rememb talk small sampl size helluva long way go sit back enjoy ride',\n",
       " 'ekdfc ttacs1 ttu edu david coon rule say basebal game two team nine player let keep way niepornt phoenix princeton edu david marc niepor rule say pretti dumb argument realli littl mind boggl 1993 rule book yet david would pleas post new word rule 1 01 mightili curious much thank',\n",
       " 'speak paddock slag sandlak sandlak put mind physic presenc wake might real mistak sandbag injuri anyway perhap paddock meant say momesso cheap short artist would make sens',\n",
       " 'post logo nl east team alt binari pictur misc hope finish seri next week nl west darren',\n",
       " 'may post way earli eat word mid season c mon philli prove anyth yet atlanta similar phil 2 year ago suck start good year get respect actual divis phil least good year good 2 week get respect either btw atlanta 188 ba actual compliment good brave realli record 6 3 imagin phil record bat 188 hahahaha atlanta hit improv dramat brave fan defend good team orin bradley u',\n",
       " 'notic year lot high score game least nl believ one reason expans team thought',\n",
       " 'ok know look pretti desper bboard think post 3 4 messag alreadi issu nhl telecat last week hey pretti desper interest sportsbar multipl screen thast watch game one silent screen hockey orient bar area patrick divis adam divis fan satellit dish mind pay admiss fee necessari',\n",
       " 'loser like us fuck moron never heard western busi school univers western ontario matter pull head asshol smell someth shit look map see uwo back hockey north star move past year shit real team like toronto would never move andrew',\n",
       " 'someon minor leagu mail list probabl time type whole thing mind look specif date rang individu game limit besid stuff easi find basebal america put book call directori 10 us everi team data schedul type whole scheudl spend lot time infring copyright folk interest minor check minor leagu list see signatur folk track team schedul chec ba directori order 800 845 2726 find indispen',\n",
       " 'hello paper censorship music would appreci took time particip survey pleas answer question ask simpli mean room explain answer chose last question comment question suggest thank advanc pleas e mail address end male femal ii age iii major occup iv type music listen check appli hard rock b metal c altern blue e rap f jazz g soft rock h easi listen countri j classic k hard core l danc new age n other miss 1 think record objection offens lyric label yes 2 think certain record ban minor 18 year age yes 3 think certain record ban period yes 4 yes decid parent b govern c music industri other feel free add comment 5 think less done control record sale think present label system enough 6 definit censorship also feel free add comment suggest question explan pleas e mail mtt kepler unh edu hit r repli thank matthew thompson disclaim respons use paper anoynam sp unless person specifi name use sig close repair',\n",
       " 'ticket tb giant wonder anybodi familiar stadium could tell section 15 lower level locat pleas e mail respons thank rich',\n",
       " 'watch detroit minnesota game last night thought saw octopus ice ysebaert score tie game two give custom throw octopus ice detroit respons dain bramag',\n",
       " 'bill jame say sound like suggest bill jame someth overhyp kid death au contrair fair critic roy campaign note world catcher hitter call basic averag everyon els media predict next johnni bench roy campanella report like hernandez lot piazza catch ball gotta play imho much better hitter although hernandez bad hitter right sound like piazza catch time hernandez candiotti caddi sinc catch knuckler long play abil dodger could good catch tandem think overr defens see nichol law catcher defens someth difficult prove disprov viewpoint mine tangibl thing look oppon sb cloud well pitcher hold runner catcher era possibl subject way mani bias play team much need anoth big bat disagre chink brave armor weak offens sever posit cf c 2b ss belliard play 1b unless bream hunter form anoth super platoon weak defens blauser play like see brave give least one mel niev javi lopez chipper jone shot much like talent rich jay recent year conserv stick say wrong conserv',\n",
       " 'hey agre platoon advantag sabo vs samuel player reput excel fastbal hitter reput fool often slow curv chang up sabo power littl bit better bat eye samuel note agress free swinger sabo homerun power player start game hit 200 may game consider might prompt perez want reserv samuel use later game line samuel never get given see lot suggest pinch hit see anyth suggest pinch hit cours clutch hit inform useless',\n",
       " 'dear anybodi rochest ny peopl look ranger penguin playoff game say joke heard hey what oh even ahl nhl think e get red wing oriol aaa stat updat al nl stat specif im look red sox stat far id like could handl greenwel vaughn anybodi pleas help',\n",
       " 'general agre howev 1 last night espn cut away basebal tonit look like sportscent tailor basebal cut away 7 40 pacif quit contract 2 espn deliv transist plan let sportschannel pick slack nonetheless ultim fault us american public regular season basebal preced playoff hockey u support team support game somebodi r h excel idea write chrysler thank support hockey ad would consid product equal excel idea watch basebal 10 minut know ask lot spew bag write advertis write letter complain support basebal displeasur consid buy product',\n",
       " 'tuesday isl cap game go overtim espn tom mee say oblig bring basebal hate say last year coverag playoff sport channel america colorado vast superior espn give us year',\n",
       " 'sinc born late pleistocen rememb 1964 year dodger sever game first think finish sixth leagu kind odd world seri previous year follow year warren usui',\n",
       " 'kill speak die hard read die hard laugh toronto cup final first anyon planet heard team detroit al morgani howev spell idiot name must chicago espn said even close chicago definat win norri divis playoff team close everyon pick chicago get say easi choic god chicago 1 4 1 wing divis point two follow close toronto also good team leaf beat detroit doubt even go get chicago even amaz get past hawk would probabl face vancouv lose hab reach final forget even devot wing fan watch penguin easili three peat cup winner lemieux jagr tocchet steven barrasso done deal sorri detroit wait til next year hey paul pick everyon right opinnion leaf final yeah make walk toronto get ticket 700 mile walk ryan',\n",
       " 'chang name steeler someth signific deposit oil around hamilton caus tire fire year back',\n",
       " 'sorri sherri agre particular incid cut number chain rattl exampl rampant hargrov differ 1 sinc time immemori batter complain call pitcher catcher usual noth happen unless leagu notifi team year allow complaint hirschbeck act expect 2 gant hirschbeck face gant said someth call step box turn away hirschbeck hitter alibet littl consequ decent eye whenev receiv short end stick question call want moment two box reason rethink strike zone base experi last pitch realli angri ump rather turn away catch breath turn say someth might get toss especi key moment game gant turn away hirschbeck immedi motion gant step box imo point time hirschbeck determin show gant exact charg game gant dawdl chanc dawdl hirschbeck simpli exercis power play gant resist mani us might thought unreason request hirschbeck call pitch point cox came field pitch thrown mani brave left dugout cox toss protect player pleasant surpris gant kept cool enough stay game small sampl size base saw game mark hirschbeck hair trigger temper need play god field good qualiti umpir keep eye open futur appear hirschbeck futur order improv sampl size imo game rememb name umpir bad game umpir',\n",
       " 'john smoltz tom glavin german jiminez dale murphi bruce sutter pete smith rick mahler jim acker jim break morrison ron gant andr thoma gerald perri ozzi aeneid virgil lonni smith jerri royster far note brave fun n hand ask hand ii like brave much cub name ron santo erni bank kessing 1969 favorit cubbi season right watch enough brave game know great deal player like mani player cub game get see live new york met put sleep face watch guy like rick sutcliff lui salazar put edg chair u actual notic lot anti toronto sentiment state part post seri arrog thank part upsid flag dork post part roberto alomar excit swiss chees part live baltimor winter becom fond fan especi call rex barney radio show side hate rival sorri met spell',\n",
       " '',\n",
       " 'learn know 3 million dollar lot money know rickey henderson career basebal know basebal make near money understand athlet play sport live million dollar say paid enough nobodi sign ask price one hurt still win without remeb mani athlet noth athlet abil noth get paid much hard work citizen complain enough pay',\n",
       " 'anyon player stat game play april 22 1993',\n",
       " 'think compromis would work name honour personag confer name use geograph refer division name although still think move draw fan game imo cosmet chang bettman owner hope effect say much mental anybodi work either surpris agre total point system fine everybodi time play number game sinc almost never case win percentag way go particular care american thing either work',\n",
       " 'thar fight word hard forc geez miss playoff 15 year even make final four 3 time last five year everyon think doomsvill fedorov primeau kozlov lidstrom silling konstantinov drake kennedi racin chevelda alreadi pipelin due devellano murray inherit guy addit yzerman probert carson chiasson etc quinn far less murray took detroit time take advantag devellano good draft devellano given demer request make oat trade might still gm',\n",
       " 'would help obp higher bat averag yes april 12 usa today list le grand chapeau 422 bat averag 413 obp 19 45 hit 0 zip nil nada walk reason lot us galarraga long histori show nowher near real level abil except draw walk hit 400 say even 250 ab convinc real chang abil obp avg amaz make bet would uniqu feat histori game 45 ab prove look fluke player point season player avg ab blauser 367 49 grace 391 48 milligan 400 35 conin 375 40 lans 400 50 slaught 406 32 guy realli good well word signific galarraga averag 45 ab level hit worth 020 one hit call error one taken away good defens play 380 rang goe 0 4 next game way 388 one game come back june let talk histori greg andr histori walk much swing bad pitch averag good 45 ab mean aw lot compar histori coupl thousand especi ampl evid 0 bb 1992 basic hit approach chang yeah might sudden turn 400 hitter never walk bet rent money mike jone aix high end develop mjone donald aix kingston ibm com',\n",
       " 'put name bottom simpli append standard disclaim opinion express petit way claim repres view either rec sport hockey internet whole sure seen disclaim append post mani work compani post net disclaim clever though may reason',\n",
       " 'well tentat rule anyway cours sinc season entir tentat entri form care real hockey season start deal email prefer post predict number game think seri go round weight stanley cup final import earli round still import score pick 1st round winner way game 2 point pick 1st round winner within one game 3 point pick 1st round winner pick game 5 point pick 2nd round winner way game 3 point pick 2nd round winner within one game 4 point pick 2nd round winner pick game 6 point pick confer champ way game 5 point pick confer champ within one game 6 point pick confer champ pick game 9 point pick stanley cup champ way game 8 point pick stanley cup champ within one game 10 point pick stanley cup champ pick game 14 point pick loser 7 seri goe 7 2 point pick loser 7 seri decid game 7 ot 4 point last two sympathi point probabl happen anyway obvious pick stanley cup champion import test see format fair probabl lazi modifi score probabl like entri form well post get long see next post keith keller let go ranger let go quaker kkeller mail sas upenn edu ivi leagu champ',\n",
       " '1b career mat',\n",
       " 'tom barrasso wore great mask one time last season unveil game boston black pgh citi scene golden triangl pgh downtown area 3 river meet grace top along steel mill one side civic arena think back helmet old pen logo realli fat littl penguin blue scarf current time pen logo space new current logo tommi design mask mother artist paint wear mask pen got thump bruin next game tommi back old paint job great mask done goali superstit',\n",
       " 'tuesday rain chicago espn provid bonus hockey coverag seem though fan tick ny wash ot replac angel game peopl must realiz basebal fan instead hockey fan u basebal game schedul air advertis money paid skip basebal game peopl chill enjoy whatev coverag get',\n",
       " 'hey folk saw giant play ball stick saturday april 17 game pendelton broke scoreless tie ninth two two run homer right win game fan threw give away fotobal onto field respons homer bad huh well stick still cold saturday game end 5 45pm cold imagin night game april stick wind kick littl got idea game pile hot dog wrapper cup trash field lot time propos kid clean corp compos main 10 12 year old kid would love noth better run field fifth inning guy toro smooth infield grab trash might glamor age probabl would given anyth field ballplay everybodi win whaddaya think',\n",
       " 'like echo sentiment worst coverag ever rememb see cbc soon game end count 30 time sign air post game interview updat late score nothin tsn realli put cbc shame hope later round coverag improv mean realli want see cbc primetim news instead hockey 02 darren',\n",
       " 'matt noke 2 run singl ron darl hit watch game yesterday flash someth regard boss talk mark connor bullpen coach said someth like mark connor fault bullpen horribl go georg stick non basebal nose basebal busi shut georg spend money get player leav buck coach player alon',\n",
       " 'doubt henderson would clear waiver would instant sign major leagu minimum oakland pick remain 3 million tab gms valu field perform',\n",
       " 'kid stuck toronto skydom idea 7th inning stretch blue jay song everyon get yell okay okay blue jay blue jay let play ball wow genius take compos one outshin old classic women field lead crowd',\n",
       " 'one reason wha abandon blue puck fact crumbl quick play blue dye use somehow affect vulcan rubber puck decreas cohes',\n",
       " 'fat ladi hit first note okay 3 0 deficit b chanc comeback less 1 base 7 game playoff format got start headlin boston local tv sportscat said sutter blue harri sinden appear outsid b dress room game 3 pathet site said someth realli retard cover sutter behind game win lose harri check schedul team playoff go long summer vacat sunday morn harri buttkiss milburi never admit screw major way brought one dumbest peopl busi brian sutter sutter playoff record head coach st loui speak blue realli chanc advanc second round year',\n",
       " 'unit state tv schedul april 18 devil island pittsburgh 1 est abc eastern time zone april 18 st loui chicago 12 cdt abc cent mou time zone april 18 los angel calgari 12 pdt abc pacif time zone april 20 devil island pittsburgh 7 30 espn april 22 tba 7 30 espn april 24 tba 7 30 espn somebodi would send cbc tsn schedul post well',\n",
       " 'ok sorri realis sarcast sort thing tell mike lupica daili news usual say pretti funni thing shoot lip column',\n",
       " 'archiv name hockey faq rec sport hockey answer frequent ask question news content 0 new info 1 nhl 2 nhl minor leagu 3 colleg hockey north america 4 leagu e g europ canada cup tournament 5 e mail file 6 usenet hockey pool 7 come date 8 answer frequent ask question 9 miscellan send comment suggest critic regard faq list via e mail hamlet u washington edu 0 new info section describ addit sinc last post decid anyth worth read paragraph contain new inform preced two asterisk 1 new anaheim contact winnipeg keep affili moncton 2 new milwauke contact ihl broadcast year name rheaum start cyclon san diego set record 3 ticket info includ 1994 ncaa divis championship 4 world championship pool b result list sweden hockey game final stand list swedish elit leagu final stand list new olypm hockey mail list 5 new montreal mail list address 6 7 8 9 1 nhl nation hockey leagu detail inform concern team particular get ticket merchandis watch game town send e mail net contact team first last team div season cup cup net contact anaheim mighti duck 93 94 kris myer kris fs2 assist uci edu boston bruin 24 25 5 71 72 buffalo sabr 70 71 0 jeff horvath jhorvath macc wisc edu calgari flame 80 81 1 88 89 caldwell8102 mtroyal ab ca chicago blackhawk n 26 27 3 60 61 john scholvin scholvin casbah acn nwu edu detroit red wing n 33 34 7 54 55 sglenn cmsa gmr com edmonton oiler 79 80 5 89 90 andrew scott andrew idacom hp com hartford whaler 79 80 0 matthew olsen dmolsen athena mit edu los angel king 67 68 0 stan willi willi empir dnet hac com minnesota north star n 67 68 0 mitch mcgowan hamlet u washington edu montreal canadien 17 18 22 85 86 new jersey devil p 82 83 0 new york island p 72 73 4 82 83 mark anania ananim rpi edu new york ranger p 26 27 3 39 40 paul romano romano monolith bellcor com ottawa senat 92 93 0 scott simpson simpson bnr ca philadelphia flyer p 67 68 2 74 75 pete clark seth hos1cad att com pittsburgh penguin p 67 68 2 91 92 lori iannamico lli cs cmu edu thoma sullivan tms cs cmu edu quebec nordiqu 79 80 0 st loui blue n 67 68 0 joseph achkar jca2 cec1 wustl edu san jose shark 91 92 0 nelson lu claudius leland stanford edu south florida 93 94 tampa bay lightn n 92 93 0 tom wilson wilson eola cs ucf edu toronto mapl leaf n 26 27 11 66 67 darryl gambl darryl cs yorku ca vancouv canuck 70 71 0 alan chim chim sfu ca washington capit p 74 75 0 david lu david eng umd edu winnipeg jet 79 80 0 umturne4 ccu umanitoba ca adam n norri p patrick smyth calgari former atlanta flame 72 73 79 80 detroit former detroit cougar 26 27 29 30 detroit falcon 30 31 32 33 edmonton former alberta oiler wha 72 73 edmonton oiler wha 72 73 78 79 hartford former new england whaler wha 72 73 78 79 minnesota cleveland baron merg minnesota 1978 79 season new jersey former kansa citi scout 74 75 75 76 colorado rocki 76 77 81 82 quebec former quebec nordiqu wha 72 73 78 79 toronto former toronto arena 17 18 18 19 toronto st patrick 19 20 25 26 winnipeg former winnipeg jet wha 72 73 78 79 team mail list see section 5 address boston buffalo los angel montreal philadelphia pittsburgh st loui san jose tampa bay vancouv washington schedul 1992 1993 schedul nhl april sun mon tue wed thu fri sat 1 2 3 min cal mon buf bos det chi nyi nyr cal sj har pit chi stl que ott van det tor phi win edm win sj ott har van tb min la mon nyi nj tor tb phi pit que 4 5 6 7 8 9 10 bos buf har nyr bos que edm van que bos van cal bos mon cal sj buf min har ott chi nyi pit nyr buf det stl chi cal la mon pit det tb chi tb pit nj edm sj nyr nj sj la har que nyr nyi phi la sj van ott phi win tor win stl min stl tb nj ott nyi nyr pit phi tor 11 12 13 14 15 16 17 ott bos mon mon buf bos ott phi buf que buf nyr phi cal edm nyi har sj cal cal van chi min pit nj tor chi tb chi la van nyr min det win edm ott que edm win tor har stl tor har nyi min stl tb win van la nyi nj nj pit tb stl season begin 10 6 end 4 15 playoff begin 4 18 end 6 14 24 nhl regular season game play non nhl citi 92 93 season citi milwauke 2 sacramento 2 cleveland 2 indianapoli phoenix miami oklahoma citi dalla atlanta cincinnati provid peoria hamilton 4 saskatoon 4 halifax chart show number game team 84 game n n n p p w b b h q c c e l v w j h u u h e b j r f r n e n l r l n n nj 7 7 7 9 7 4 4 4 3 4 4 2 2 2 2 2 2 2 2 2 2 2 2 nyi 7 7 9 7 7 4 3 4 4 3 3 2 2 2 3 2 2 2 3 2 2 2 2 nyr 7 7 7 7 9 3 4 3 4 3 4 2 2 2 2 3 2 2 2 2 3 2 2 phi 7 9 7 7 7 4 3 3 4 3 4 2 3 2 2 2 2 3 2 2 2 2 2 pit 9 7 7 7 7 5 4 3 3 4 3 2 2 2 2 2 2 2 3 2 2 2 2 7 7 9 7 7 3 4 4 3 4 3 3 3 2 2 2 2 2 2 2 2 2 2 bos 4 4 3 4 5 3 7 7 9 7 7 2 2 2 2 2 2 2 2 2 2 2 2 buf 4 3 4 3 4 4 7 9 7 7 7 2 2 2 2 2 2 2 2 2 2 3 2 har 4 4 3 3 3 4 7 9 7 7 7 2 2 2 3 2 2 2 2 2 2 2 3 mon 3 4 4 4 3 3 9 7 7 7 7 2 2 2 2 2 2 2 2 3 3 2 2 ott 4 3 3 3 4 4 7 7 7 7 9 2 2 2 2 2 3 2 2 2 2 2 3 que 4 3 4 4 3 3 7 7 7 7 9 2 2 2 2 3 3 2 2 2 2 2 2 chi 2 2 2 2 2 3 2 2 2 2 2 2 9 7 7 7 7 3 4 5 3 4 3 det 2 2 2 3 2 3 2 2 2 2 2 2 9 7 7 7 7 4 3 4 4 3 3 min 2 2 2 2 2 2 2 2 2 2 2 2 7 7 9 7 7 4 4 3 3 5 4 stl 2 3 2 2 2 2 2 2 3 2 2 2 7 7 9 7 7 4 3 3 3 4 4 tb 2 2 3 2 2 2 2 2 2 2 2 3 7 7 7 7 9 3 4 3 4 3 4 tor 2 2 2 2 2 2 2 2 2 2 3 3 7 7 7 7 9 4 3 4 4 3 3 cal 2 2 2 3 2 2 2 2 2 2 2 2 3 4 4 4 3 4 7 7 9 7 7 edm 2 3 2 2 3 2 2 2 2 2 2 2 4 3 4 3 4 3 7 7 7 7 9 la 2 2 2 2 2 2 2 2 2 3 2 2 5 4 3 3 3 4 7 7 7 9 7 sj 2 2 3 2 2 2 2 2 2 3 2 2 3 4 3 3 4 4 9 7 7 7 7 van 2 2 2 2 2 2 2 3 2 2 2 2 4 3 5 4 3 3 7 7 9 7 7 win 2 2 2 2 2 2 2 2 3 2 3 2 3 3 4 4 4 3 7 9 7 7 7 valeri hammerl hammerl acsu buffalo edu post year version nhl c schedul program nhl game exampl user find game play certain date find next ten game play team x copi obtain e mail hammerl acsu buffalo edu follow neutral site schedul tue 10 13 calgari vs minnesota saskatoon tue 10 20 ottawa vs toronto hamilton tue 11 03 chicago vs washington indianapoli tue 11 17 toronto vs quebec hamilton wed 11 18 buffalo vs new jersey hamilton tue 12 01 los angel vs chicago milwauke tue 12 08 montreal vs los angel phoenix wed 12 09 tampa bay vs new york ranger miami sun 12 13 edmonton vs new york island oklahoma citi tue 12 15 new york island vs st loui dalla mon 01 04 san jose vs montreal sacramento mon 01 18 hartford vs winnipeg saskatoon mon 02 08 boston vs pittsburgh atlanta mon 02 08 st loui vs hartford peoria tue 02 16 philadelphia vs calgari cincinnati sat 02 20 quebec vs tampa bay halifax mon 02 22 new york ranger vs san jose sacramento mon 02 22 detroit vs philadelphia cleveland tue 02 23 winnipeg vs ottawa saskatoon mon 03 01 vancouv vs buffalo hamilton thu 03 11 minnesota vs vancouv saskatoon tue 03 16 washington vs detroit milwauke tue 03 16 new jersey vs boston provid sun 03 21 pittsburgh vs edmonton cleveland locat subject chang nhl playoff schedul wale confer divis semifin april 18 20 22 24 26 28 30 campbel confer divis semifin april 19 21 23 25 27 29 may 1 wale confer divis final may 2 4 6 8 10 12 14 campbel confer divis final may 3 5 7 9 11 13 15 wale confer final may 16 18 20 22 24 26 28 campbel confer final may 17 19 21 23 25 27 29 stanley cup final june 1 3 5 7 9 11 14 neccessari news score spike bryan k strous bks cbnewsh cb att com post weekday news box score sunday thursday john p curcio jpc philab philip com post weekend news box score maintain e mail list faster deliveri net contact post team news see hear read notabl team news transact announc note inform cull press releas post updat month inform current discuss continu import interest list two post boston bruin boston legisl develop propos new boston garden final agre deal put 19 000 seat 160 million project back track finish septemb 1995 right wing daniel maroi sidelin indefinit follow surgeri repair herniat disc back sent defenseman glen murray provid american hockey leagu buffalo sabr 1 800 333 puck 1 800 333 7825 acquir left winger bob errey pittsburgh defenseman mike ramsey veteran buffalo sabr broadcast ted darl induct club hall fame sunday april 11 darl join expans sabr 1970 team play play announc televis radio ill forc booth last season recal forward viktor gordiouk doug macdonald rochest american hockey leagu calgari flame acquir veteran right wing greg paslawski philadelphia futur consider recal center todd harkin left winger toma forslund salt lake citi intern hockey leagu chicago blackhawk 175 million privat financ unit center schedul open august 1994 home nba chicago bull nhl chicago blackhawk stadium own entiti control two team owner appar still made decis whether old chicago stadium raze park space new facil locat direct across street open suspend defenseman craig muni indefinit fail report follow trade edmonton detroit red wing acquir defenseman steve konroyd hartford sixth round draft pick annnounc sign right wing joe frederick 13th pick 1989 nation hockey leagu entri draft two contrit hockey fan return stolen michigan sport hall fame plaqu honor detroit red wing great gordi howe bronz plaqu stolen four year ago cobo hall detroit site michigan hall fame edmonton oiler sent forward esa tikkanen new york ranger center doug weight trade defenseman craig muni chicago forward mike hudson nhl commission gari bettman said edmonton oiler leas northland coliseum must improv team surviv citi edmonton northland non profit agenc set citi administ exhibit facil includ coliseum oiler owner peter pocklington call leas northland horrend threaten move team get better deal make money park concess build advertis 17 313 seat coliseum also lucrat privat box produc signific revenu owner announc center kevin todd need surgeri miss remaind season separ shoulder hartford whaler sent defenseman steve konroyd detroit sixth round draft pick acquir left winger robert kron third round draft pick vancouv left winger murray craven fifth round draft pick state connecticut begin negoti buy civic center citi effort keep financi struggl hartford whaler franchis citi los angel king sent center john mcintyr new york ranger defenseman mark hardi ottawa fifth round 1993 draft pick minnesota north star 1 800 800 0435 call u 1 800 800 0458 call canada dalla citi council approv agreement minnesota north star bring nhl club reunion arena next season defenseman mark tinordi captain north star sidelin rest season includ postseason game north star might play broken collarbon acquir defenseman mark osiecki winnipeg ninth 10th round draft pick 1993 ad defenseman travi richard univers minnesota former employe file sexual harass suit minnesota north star owner norman green karen kari dziedzic green former execut assist claim green often instruct wear cosmet describ outfit hot sexi slap hand eat humili grab hand rub client hair minnesota north star move dalla season announc near 11 000 season ticket reserv made new home reunion arena capac 16 800 met center commiss told minnesota north star want club key return midnight last home game club move dalla next season club must pay unpaid interest 4 492 80 team late rent payment 1992 made earlier month instruct take properti scoreboard zamboni ice surfac machin derian hatcher game misconduct penalti rescind nhl allow minnesota defenseman play north star last two regular season game hatcher given penalti fight end loss st loui sunday april 11 leagu rescind game misconduct penalti shane churla receiv star recal center cal mcgowan top minor leagu club kalamazoo mich replac churla montreal canadien acquir defenseman rob ramag tampa bay minor leagu defensemen eric charron alain cote futur consider new jersey devil berni nichol public apolog critic refere deni morel devil 5 2 loss buffalo sabr nichol eject morel third man fight late second period game afterward nichol call morel homer embarrass refere associ new york island trade right wing daniel maroi boston condit draft choic new york ranger obtain forward esa tikkanen edmonton center doug weight acquir left winger mike hartman tampa bay acquir center john mcintyr los angel defenseman mark hardi ottawa fifth round 1993 draft pick defenseman brian leetch undergo addit surgeri right ankl broke non skate fall expect play season leetch suffer broken ankl march 19 follow victori san jose team said slip ici patch pavement get taxi cab front apart announc defenseman jame patrick requir surgeri herniat disc back play season return goaltend corey hirsch binghamton american hockey leagu ottawa senat ottawa senat receiv go ahead build 18 500 seat palladium propos locat nearbi kanata ont project cost c 150 million construct postpon 1995 96 season one year behind schedul ottawa senat lost 37th consecut nhl road game tie 1974 75 washington capit road loss row assign left wing martin st amour new american hockey leagu philadelphia flyer open date spectrum ii push back fall 1995 formal groundbreak postpon indefinit trade veteran right wing greg paslawski calgari flame futur consider pittsburgh penguin trade left winger bob errey buffalo defenseman mike ramsey reacquir defenseman peter taglianetti tampa bay lightn third round 1993 draft choic revolutionari comic san diego agre destroy avail copi mario lemieux comic book settlement pittsburgh penguin trademark infring lawsuit penguin su februari charg sport star mario lemieux comic infring team logo uniform regist trademark quebec nordiqu 1 800 463 3333 st loui blue st loui blue center ron sutter miss rest season result separ right shoulder san jose shark san jose shark announc ticket price increas 30 1993 94 season move cow palac new 155 million arena san jose recal defenseman tom pederson kansa citi intern hockey leagu reach agreement principl left wing alexand cherbayev tampa bay lightn 1 800 881 2639 least two investor group pois build sport arena downtown tampa delay plagu compani hold leas tampa bay lightn bow tampa coliseum inc leas nation hockey leagu team develop entertain sport arena next tampa stadium unabl rais enough money project sent left winger mike hartman new york ranger center randi gilhen sent defenseman peter taglianetti pittsburgh third round 1993 draft choic sent defenseman rob ramag montreal canadien minor leagu defensemen eric charron alain cote futur consider manon rheaum first start appear goal atlanta knight impress enough coach say chanc backup goali anoth minor leagu team next season rheaum first femal play profession hockey stop 25 shot gave six goal cincinnati cyclon saturday night april 10 game coach gene ubriaco said rheaum perform well enough compet 2 goali spot louisvill icehawk east coast hockey leagu next season knight icehawk minor leagu club tampa bay lightn first season come close rumor swirl tampa bay lightn might becom atlanta lightn minnesota lightn rumor accord lightn general manag phil esposito espn report sunday april 11 lightn play 10 400 seat expo hall explor opportun move either atlanta minneapoli esposito said truth report disappoint espn irrespons comment esposito said substanc rumor rumor swirl past two year regard move tampa bay present discuss plan build new arena toronto mapl leaf defenseman matt martin help main win 1993 ncaa hockey championship gave final year elig sign contract toronto mapl leaf vancouv canuck vancouv canuck clear last hurdl effort build new stadium vancouv council given green light 100 million dollar complex seat 20 thousand peopl adjoin offic tower built viaduct near b c place vancouv site prepar begin summer complet date fall 1995 trade left winger robert kron third round draft pick hartford left winger murray craven fifth round draft pick obtain defenseman dan ratushni winnipeg ninth round draft pick sign right wing brian loney multi year contract assign hamilton american hockey leagu ahl washington capit 301 808 cap trade goaltend jim hrivnak futur consider winnipeg goaltend rick tabaracci winnipeg jet winnipeg jet allow econom assist order keep smyth divis result expans sent defenseman mark osiecki minnesota ninth 10th round draft pick 1993 sent goaltend rick tabaracci washington jim hrivnak futur consider sent defenseman dan ratushni vancouv ninth round draft pick winnipeg teemu selann broke nhl rooki point record jet rooki tie record 109 point set peter stastni quebec 1980 81 goal 66th season move ahead assist 5 4 loss toronto fort wayn komet said told winnipeg jet keep minor leagu affili moncton american hockey leagu report jet would move player moncton fort wayn next season expans news nation hockey leagu announc expans anaheim south florida franchis join leagu 1993 1994 season disney nation hockey leagu offici announc monday march 1 mighti duck anaheim disney expans team take ice next fall michael eisner chairman chief execut offic walt disney co said mighti duck play pond new anaheim sport arena near disney flagship theme park arena construct complet june pond seat 17 350 team still must meet leagu requir sell least 10 000 season ticket final grant nhl membership anaheim name jack ferreira general manag pierr gauthier assist general manag veteran nhl scout al godfrey hire midwest region scout anaheim mighti duck philadelphia flyer senior vice presid bobbi clark name monday march 1 post general manag miami nhl expans team franchis owner h wayn huizenga made announc miami arena three month award franchis huizenga said plan team ice time begin nhl season octob realign eastern confer atlant divis washington capit new jersey devil new york island new york ranger philadelphia flyer south florida tampa bay lightn northeast divis boston bruin buffalo sabr hartford whaler montreal canadien ottawa senat pittsburgh penguin quebec nordiqu western confer central divis chicago blackhawk dalla star detroit red wing st loui blue toronto mapl leaf winnipeg jet pacif divis anaheim mighti duck calgari flame edmonton oiler los angel king san jose shark vancouv canuck schedul eastern confer team play five game six division oppon 30 four game seven team confer divis 28 two game 12 western confer member 24 western confer team play six game five division oppon 30 four game six team confer divis 24 two game 14 eastern confer club 28 playoff system confer base 1 team meet 8 team first round 2 vs 7 3 vs 6 4 vs 5 matchup base overal point four divis champion place first second place seed confer assur home ice first two playoff round seri best seven 2 2 1 1 1 rotat except matchup central pacif team seri rotat 2 3 2 reduc travel case team regular season point choos whether start seri home away draft news term new expans draft held june 24 exist club allow protect one goaltend five defensemen nine forward recent expans draft allow team protect two goali make distinct forward defensemen first year pros exempt draft two year exempt team last season san jose tampa bay ottawa still allow exempt second year pros 24 team lose two player maximum loss one goaltend maximum loss one defenseman one except team lose goaltend longer lose defenseman end first phase draft two new franchis three goaltend eight defensemen 13 forward total 24 player second phase conduct san jose tampa bay ottawa select two player roster two new team ottawa tampa bay san jose guarante prioriti draft select 1993 draft long three worst record anaheim miami choos lower fourth fifth expans franchis move draft either san jose tampa bay ottawa finish bottom three posit two new team pick first second 1994 entri draft regardless finish 1993 94 either two new team play next season would prioriti draft posit 1994 owner announc 1994 draft hartford 1995 draft winnipeg 1994 draft schedul boston delay construct new arena requir draft move leagu news disput nhl owner player resolv differ salari arbitr procedur clear way 40 hear nhlpa execut director bob goodenow disclos issu resolv prior stick point manner statist use arbitr hear olymp nhl announc februari 26 1993 make profession player avail compet 1994 winter olymp leagu leadership los angel king owner bruce mcnall succeed blackhawk owner bill wirtz chairman nhl power board governor appoint join mcnall execut committe ron corey montreal canadien mike ilitch detroit red wing peter pocklington edmonton oiler ed snider philadelphia flyer gari bettman vice presid general counsel nation basketbal associ name commission nation hockey leagu friday decemb 11 1992 miscellan henri richard berni parent billi smith name special ambassador stanley cup centenni season long celebr nhl championship trophi trio appear leagu wide function star game stanley cup playoff nation hockey leagu name john n turner former prime minist canada serv board director hockey hall fame museum nomin scotti morrison david taylor larri bertuzzi robert g bundi walter bush murray costello jim gregori lesli kaplan lawrenc g meyer alan tonk serv board take offic march 30 nhl presid gil stein one four individu elect hockey hall fame builder categori other buffalo sabr chairman board presid seymour knox iii vancouv canuck chairman frank griffith veteran canadian hockey execut fred page former nhl linesman john amico select hall fame refere linesman categori nhl tv game carri tsn cbc canada espn u check local list nation hockey leagu struck condit five year deal espn televis profession hockey 1996 97 season seri agreement grant espn exclus nation coverag nhl start 1992 93 season cabl network option extend term domest agreement four year deal also grant espn exclus intern televis distribut exclud canada next five year leagu new tv contract call espn televis 25 regular season game domest audienc come season 37 playoff game includ entir stanley cup final major espn regular season game televis friday night nhl commission gari bettman announc wednesday march 3 abc sport televis five stanley cup playoff game start next month abc carri playoff game network arrang espn u rightshold nhl game espn provid product game abc own espn april 18 wale confer game 1 quarterfin april 25 campbel confer game 4 quarterfin may 2 wale confer game 1 semifin may 9 campbel confer game 4 semifin may 16 wale confer game 1 final award winner star team hall fame inducte draft pick 91 92 award winner hart trophi mvp mark messier nyr vezina trophi best goali patrick roy mon norri trophi best defenseman brian leetch nyr calder trophi best rooki pavel bure van selk trophi best defens forward guy carbonneau mon ladi byng trophi sportsmanship wayn gretzki la jack adam award best coach pat quinn van bill masterton memori trophi persever mark fitzpatrick nyi king clanci trophi contribut communiti ray bourqu bos jen trophi lowest team gaa patrick roy mon art ross trophi score point mario lemieux pit hall famer player frank boucher red dutton execut bruce mcnall gil stein thursday name 1993 winner lester patrick award outstand servic hockey unit state award select year committe repres wide cross section hockey communiti 91 92 1st star team patrick roy g mon ray bourqu bos brian leetch nyr mark messier c nyr brett hull rw stl kevin steven lw pit 92 93 star game starter vote fan wale confer mario lemieux c pittsburgh jaromir jagr w pittsburgh kevin steven w pittsburgh ray bourqu boston brian leetch ranger patrick roy g montreal campbel confer steve yzerman c detroit brett hull w st loui pavel bure w vancouv chris chelio chicago paul coffey los angel ed belfour g chicago 91 92 rooki team gilbert dionn lw mon toni amont rw nyr kevin todd c nj vladimir konstantinov det nickla lidstrom det dominik hasek g chi 1992 hall fame inducte marcel dionn bob gainey lanni mcdonald woodi dumart first round 1992 entri draft player pos team 1 roman hamrlik tb 2 alexei yashin c ott 3 mike rathj sj 4 todd warrin lw que 5 darius kaspara nyi 6 cori stillman c cal 7 ryan sittler lw phi 8 brandon converi c tor 9 robert petrovicki c har 10 andrei nazarov lw sj 11 david cooper buf 12 sergei krivokrasov lw chi 13 joe hulbig lw edm 14 sergei gonchar 15 jason bowen lw phi 16 dmitri kvartalnov lw bos 17 sergei bautin win 18 jason smith nj 19 martin straka c pit 20 david wilki mon 21 libor polasek c van 22 curti bowen lw det 23 grant marshal rw tor 24 peter ferraro c nyr new nhl rule game eject instig fight helmet option grab oppon stick defens move penalti dive draw penalti penalti coincident minor team full strength result 4 vs 4 play high stick waist new cba ratifi nhlpa 4 11 92 term septemb 16 1991 septemb 15 1993 licens endors player exclus right individu person includ like salari arbitr new rule negoti 8 salari arbitr joint agre upon free agenc compens scale reduc player age 30 group iii free agent age reduc 30 31 player complet 10 profession season minor nhl last year contract earn averag nhl salari elect career becom unrestrict free agent end contract salari award player playoff fund increas 7 5m 1991 92 9m 92 93 new minimum salari 100 000 insur 200 000 disabl coverag dental broad base medic improv 100 increas life insur player coverag wive pension improv pension contribut 8000 12500 per player per year depend player number nhl game agreement languag guarante continu secur plan negoti 1986 regular season increas 80 84 game 92 93 2 game play neutral site arrang revenu share roster kept 18 skater 2 goaltend 92 93 entri draft reduc 11 round 12 supplement draft one select non playoff team joint studi group examin financi state nhl issu report assist prepar 1993 negoti nhl free agenc categori effect 9 15 93 group player age 24 player choic player equal draft pick compens compens old club right match offer new club equal old club right match offer equal consist player draft pick cash must agre upon two club submit arbitr group ii player age 25 29 player choic player equal draft pick compens equal old club right match offer least 351 000 compens schedul one first round pick player sign 350 000 500 000 year two first round pick player sign 500 000 1 million year extra first round pick addit 1m 1m year group iii player age 30 old club get compens right match offer receiv right match old club must make qualifi offer 15 player salari prior season group iv player consid defect free agent group v player 10 year experi whose salari nhl averag choos free agent without compens career 2 nhl minor leagu nhl minor leagu intern hockey leagu american hockey leagu east coast hockey leagu inform central hockey leagu american hockey associ found section 4 ihl contact ihl rob springal rgs7077 ultb isc rit edu atlanta knight scott clarkson gt3394c prism gatech edu cincinnati cyclon joseph comb jgcomb uceng uc edu cleveland lumberjack rob gasser csrag uoft02 utoledo edu ft wayn komet rob gasser csrag uoft02 utoledo edu milwauke admir jason hanson jason studsi mscs mu edu salt lake golden eagl roland behunin behunin logdis1 oo aflc af mil intern hockey leagu grant franchis las vega group head henri stickney 1993 1994 season intern hockey leagu name bob chase voic fort wayn komet leagu broadcast year ihl also said annual award effect next year name chase honor also honor ihl jim loria kansa citi blade market director year shelli gartner phoenix roadrunn merchandis manag year steve doherti kalamazoo wing public relat director year atlanta knight intern hockey leagu announc thursday april 8 manon rheaum start goaltend home game saturday night april 10 cincinnati cyclon rheaum becom first femal start regular season profession hockey game fort wayn announc winger scott gruhl retir end intern hockey leagu season gruhl join muskegon furi coloni leagu fort wayn komet said told winnipeg jet keep minor leagu affili moncton american hockey leagu report jet would move player moncton fort wayn next season san diego gull intern hockey leagu set record 61st victori 5 1 salt lake golden eagl gull 61 11 8 becam first team profession hockey win mani game season 1976 77 montreal canadien 60 game ihl 1992 turner cup kansa citi blade defeat muskegon lumberjack 4 game 0 ahl contact ahl rob springal rgs7077 ultb isc rit edu bri farenel farenebt craft camp clarkson edu mark anania ananim rpi edu see section 5 newslett inform atlant divis cape breton fredericton halifax moncton st john northern divis adirondack capit district provid new springfield southern divis baltimor binghamton hershey rochest utica hamilton new senat sold peter shipman ottawa senat nhl organ canadian nhl team american ahl affili made clear intend move team somewher canadian atlant provinc sale move yet approv ahl head offic expect pass easili general meet may baltimor skipjack washington capit american hockey leagu affliat skate next season portland pirat calgari flame base farm team ahl st john new brunswick next season team call st john blue flame fort wayn komet ihl said told winnipeg nhl jet keep minor leagu affili moncton american hockey leagu report jet would move player moncton fort wayn next season ahl 1992 calder cup adirondack red wing beat st john mapl leaf 4 game 3 home ice curs held true game final visit team john anderson new 1992 winner les cunningham plaqu ahl mvp echl contact echl toledo storm rob gasser csrag uoft02 utoledo edu toledo storm hockey team ask seagat convent center consid becom host site begin 1994 95 season storm play last two season toledo sport arena said ask 55 date downtown facil storm also talk backer propos ice complex suburban sylvania becom primari tenant echl 1992 riley cup hampton road beat louisvill 4 game 0 see section 5 newslett inform minor leagu affili nhl team bos provid bruin ahl johnstown chief echl buf rochest american ahl eri panther echl cal salt lake golden eagl ihl roanok valley rebel echl chi indianapoli ice ihl columbus chill echl st thoma col hl det adirondack red wing ahl toledo storm echl edm cape breton oiler ahl winston salem thunderbird echl har springfield indian ahl louisvill icehawk echl la phoenix roadrunn ihl raleigh icecap echl min kalamazoo wing ihl dayton bomber echl mon fredericton canadien ahl winston salem thunderbird echl flint col hl nj utica devil ahl birmingham bull echl nyi capit district island ahl richmond renegad echl nyr binghamton ranger ahl ott new senat ahl thunder bay col hl phi hershey bear ahl pit cleveland lumberjack ihl knoxvill cheroke echl que halifax citadel ahl greensboro monarch echl sj kansa citi blade ihl nashvill knight echl stl peoria rivermen ihl dayton bomber echl flint col hl tb atlanta knight ihl tor st john mapl leaf ahl raleigh icecap echl brantford col hl van columbus chill echl hamilton canuck ahl baltimor skipjack ahl hampton road admir echl win moncton hawk ahl thunder bay col hl ind cincinnati cyclon ihl fort wayn komet ihl michigan falcon coloni hl milwauke admir ihl san diego gull ihl st thoma coloni hl 3 colleg hockey contact ncaa mike machnik nin15b34 merrimack edu wisconsin badger jeff horvath horvath cs wisc edu ccha bowl green state keith inston inston euclid bgsu edu ecac clarkson bri farenel farenebt craft camp clarkson edu e mail list wayn smith wts main main edu maintain 2 list one discuss hockey l one news hockey send e mail listserv main main edu bodi subscrib hockey l name favorit team subscrib hockey name read list contain news hockey l date divis stand score obtain archiv colleg hockey mail list send messag server listserv main main edu bodi contain command either ftp site andi bgsu edu directori pub hockey contain ccha press releas score stand roster sub directori archiv archiv divis colleg hockey mail list sinc 1989 also archiv divis iii list sinc may 1992 avail ncaa hockey championship semi final main 4 michigan 3 ot lake superior state 6 boston univers 1 final main 5 lake superior state 4 freshman paul kariya name winner 1992 93 hobey baker award colleg hockey top player ncaa divis hockey championship held st paul civic center st paul minnesota march 31 april 2 1994 prioriti seat call univers minnesota ticket offic 612 624 8080 8 00 5 00 p monday friday send postcard univers minnesota ticket offic 1994 ncaa hockey championship 516 15th avenu se minneapoli mn 55455 ncaa divis team ccha central collegi hockey associ bowl green ferri state illinoi chicago lake superior miami michigan michigan state ohio state western michigan notr dame kent state alaska fairbank affili member ccha playoff structur top 6 host bottom 6 1 vs 12 2 vs 11 etc two three weekend seri six winner advanc joe loui arena singl elimin rest way top 2 remain seed get bye 3 play 6 4 play 5 first night second night 4 remain team battl leav two play championship third night alaska fairbank affili member seed 7 12 leagu offic ecac eastern colleg athlet confer men brown clarkson colgat cornel dartmouth harvard princeton rpi st lawrenc union vermont yale ecac eastern colleg athlet confer women brown colbi cornel dartmouth harvard new hampshir northeastern princeton provid rochest institut technolog st lawrenc yale eastern collegi athlet confer unveil nation first intercollegi women ice hockey leagu announc 12 team begin play 1993 94 season top eight finish ecac women ice hockey leagu qualifi post season tournament leagu replac inform 15 team confer nine divis six divis iii school held respect divis tournament end regular season ecac said would discontinu divis iii women tournament 1992 93 season hockey east boston colleg boston univers umass lowel main merrimack new hampshir northeastern provid wcha western collegi hockey associ colorado colleg denver michigan tech minnesota minnesota duluth north dakota northern michigan st cloud wisconsin alaska anchorag join wcha full fledg member 93 94 independ air forc alabama huntsvill alaska anchorag alaska fairbank armi canadian intercollegi athlet union ciau championship finalist team divis univers alberta golden bear west univers guelph gryphon ontario west univers toronto varsiti blue ontario east univers acadia axemen east semi final acadia 9 alberta 4 toronto 3 guelph 2 final acadia 12 toronto 1 4 hockey leagu 1992 world championship czechoslovakia sweden defeat finland 5 2 gold medal match czechoslovakia defeat switzerland 5 2 bronz medal match final stand round robin group w l gf ga pts group b w l gf ga pts finland 5 0 0 32 8 10 russia 4 1 0 23 10 9 germani 4 0 1 30 14 8 czech 4 0 1 18 7 8 usa 2 1 2 14 15 5 switz 2 2 1 12 11 6 sweden 1 2 2 14 12 4 canada 2 1 2 15 18 5 itali 1 1 3 10 18 3 norway 1 0 4 8 16 2 poland 0 0 5 8 41 0 franc 0 0 5 8 22 0 austria replac poland pool 1993 wc germani 1993 world championship pool schedul run apr 18 may 2 munich germani 1993 world championship pool b eindhoven netherland g w l pts gf ga 1 great britain 7 7 0 0 14 50 13 2 poland 7 6 1 0 12 71 12 3 netherland 7 5 2 0 10 47 20 4 denmark 7 4 3 0 8 38 24 5 japan 7 3 4 0 6 34 31 6 romania 7 2 5 0 4 20 44 7 china 7 1 6 0 2 12 79 8 bulgaria 7 0 7 0 0 9 58 great britain advanc pool bulgaria releg pool c 1992 olymp game e mail list charli slavin slavin main main edu maintain olympuck olymp hockey discuss list send e mail listserv main main edu bodi subscrib olympuck yournam favorit countri ie cis gold canada silver czechoslovakia bronz defeat usa yale hockey coach tim taylor name coach 94 us olymp team dani dube uqtr patriot ciau tom renney kamloop blazer whl co coach canada nation program 1998 nagano winter olymp organ committe said approv addit women ice hockey curl list offici medal event game decis came organ committe meet follow accord reach nagano committe ioc coordin committe decis formal ratifi execut board meet intern olymp committe ioc session result number total event nagano increas 64 seven sport 1991 canada cup team canada defeat team usa 2 game 0 1992 izvestia hockey tournament final russia ii czechoslovakia 2 1 game 3rd 4th place russia sweden 4 1 game 5th 6th place finland switzerland 3 1 game 7th 8th place canada germani 6 1 final stand 25th izvestia cup 1 russia ii russian olymp team 2 czechoslovakia 3 russia 4 sweden 5 finland 6 switzerland 7 canada 8 germani 1992 germani cup russia defeat team canada 6 3 win 170 000 four team germani cup third time russian team coach first time legendari bori michailov assur 67 000 winner check 3 1 win czechoslovakia former soviet union commonwealth independ state captur tournament 1988 1991 viktor tikhonov 1992 spengler cup canada fabian joseph score second goal game 3 47 overtim beat farjestad sweden 6 5 final spengler cup davo switzerland canadian overcam two goal deficit final two minut regul went earn second overtim victori within 15 hour final team canada farjestad sweden 6 5 1 1 2 2 2 2 1 0 ot 1992 european cup final duesseldorf decemb 30 1992 bronz jokerit helsinki lion milano 4 2 gold malmo dynamo moscow 4 3 shootout third success european championship swedish team 1990 1991 champion djurgaarden stockholm 1993 sweden hockey game final stand gp w l gf ga p 1 sweden 3 2 0 1 13 8 5 4 2 czech republ 3 2 0 1 16 11 5 4 3 russia 3 1 1 1 9 11 2 3 4 canada 3 0 1 2 13 21 8 1 sweden win due head head result vs czech republ junior leagu contact whl randi coulman coulman skdad usask ca mitch mcgowan hamlet u washington edu site 75th memori cup tournament yet chosen stage ontario exact locat determin next spring march 93 two regular season divis champion ontario hockey leagu meet best seven seri start playoff season winner seri earn right host memori cup tradit held may eventu ohl champion also particip tourney leagu champ also happen club host memori cup leagu finalist advanc well charl poulin mon draft st hyacinth qmjhl 92 canadian hockey leagu player year 1992 memori cup seattl round robin stand w l gf ga sault ste mari greyhound ohl 3 0 14 8 kamloop blazer whl 2 1 10 7 seattl thunderbird whl host 1 2 9 10 verdun colleg francai qmjhl 0 3 5 13 semifin kamloop 8 seattl 3 final kamloop 5 sault ste mari 4 central hockey leagu contact marc foster mfoster metgem gcn uoknor edu mfoster alliant backbon uoknor edu ted wollnik twollnik rdxsun11 aud alcatel com see section 5 newslett inform chl fort worth fire wichita thunder dalla freez tulsa oiler memphi river king oklahoma citi blazer six non affili team play 60 game schedul extend earli novemb mid march team own leagu local interest control day day oper team 100 000 salari cap 17 total player 16 dress unlik echl player limit three year leagu western divis may ad central hockey leagu 93 94 season plan chl presid ray miron materi miron confirm el paso amarillo tuscon albuquerqu citi consider western divis would play interlock game eastern divis meanwhil san antonio houston close confirm leagu newest member major leagu hockey new hockey leagu franchis throughout unit state canada begin play fallof 1993 offici announc wednesday februari 10 major leagu hockey found roy boe former presid new york island nation hockey leagu new york new jersey net american nation basketbal associ accord boe leagu debut six eight team play schedul approxim 80 game franchis applic receiv group chicago cleveland dalla denver detroit houston minneapoli st paul phoenix san francisco saskatoon toronto worcest mass boe said although leagu raid exist leagu stock roster boe said seek world finest hockey player boe said leagu play intern flair discuss implement rule reminisc iihf remov red line move goal net forward elimin tie game said boe mlh offic oper stamford conn british premier divis contact neil mcglynn nmcglynn axion bt co uk na nmcglynn uk co bt axion europ steve salvini steve cs hw ac uk contact steve gb usenet draft e mail list send e mail uk hockey request cee hw ac uk subscrib durham wasp defeat nottingham panther 7 6 92 british championship game finnish elit leagu sm liiga contact juha koivisto kimmo kauranen hockey tac fi vesa j pyyluoma veikko vipunen hut fi final stand 91 92 1 jokerit helsinki 2 jyp ht jyvaskyla 3 hifk helsinki 4 assat pori 5 tps turku 6 lukko rauma 7 kalpa kuopio 8 hpk hameenlinna 9 ilv tamper 10 reipa lahti 11 tappara tamper 12 jokp joensuu jokp drop kiekko espoo espoo qualifi sm liiga individu stat leader 91 92 point makela mikko tps 25 45 70 playoff 2 3 5 score selann teemu jokerit 39 23 62 playoff 10 7 17 star 91 92 briza petr lukko virta hannu tps laurila harri jyp ht makela mikko tps janecki otakar jokerit selann teemu jokerit german hockey leagu contact andrea stockmeier stocki cs tu berlin de stocki tub uucp duesseldorf eishockey gemeinschaft defeat sb rosenheim 92 german final swedish elit leagu elitserien contact staffan axelsson etxonss ufsa ericsson se 1992 93 regular season final stand 1 vastera 2 bryna 3 malmo 4 farjestad 5 modo 6 lulea 7 leksand 8 djurgarden 9 hv 71 10 rogl 11 frolunda 12 aik bryna defeat lulea 3 game 2 1993 swedish hockey championship swiss first divis kloten becam 1992 93 champion swiss leagu national beat fribourg gotteron 4 2 sweep final seri 3 0 1992 women world championship finland 1 canada 2 usa 3 finland 4 sweden 5 china 6 norway 7 denmark 8 switzerland 1993 world junior hockey championship sweden final stand gp w l gf ga p 1 canada 7 6 0 1 37 17 20 12 2 sweden 7 6 0 1 53 15 38 12 3 czechoslovakia 7 4 1 2 38 27 11 9 4 usa 7 4 0 3 32 23 9 8 5 finland 7 3 1 3 31 20 11 7 6 russia 7 2 2 3 26 20 6 6 7 germani 7 1 0 6 16 37 21 2 8 japan 7 0 0 7 9 83 74 0 canada win gold due head head result vs sweden 5 info avail via e mail request item via e mail pleas includ prefer address bodi messag sometim repli address good thing go ftp site wuarchiv wustl edu 128 252 135 4 directori doc misc sport nhl new hockey file get readm file inform content e mail list list topic freq subscrib boston bruin bruin request cs usask ca list address bruin cs usask ca buffalo sabr sabr request potter csh rit edu list address sabr potter csh rit edu los angel king king request cs stanford edu list address king cs stanford edu montreal canadien hab request janus sdsu edu list address hab janus sdsu edu philadelphia flyer seth hos1cad att com pittsburgh penguin gp2f andrew cmu edu list address gp2f andrew cmu edu st loui blue jca2 cec1 wustl edu san jose shark shark request medraut appl com list address shark medraut appl com tampa bay lightn wilson cs ucf edu vancouv canuck boey sfu ca list address vancouv canuck sfu ca washington capit david eng umd edu list address cap monster umd edu nhl boxscor f bks cbnewsh cb att com nhl boxscor jpc philab philip com nhl goali stat coulman cs usask ca nhl score n wilson cs ucf edu nhl team stat w wilson cs ucf edu ahl newslett ahl news request hamlet cmu edu list address ahl news hamlet cmu edu echl newslett echl news request andrew cmu edu list address echl news andrew cmu edu us colleg hockey see section 3 ncaa divis iii hockey hockey3 request hoovill mitr org list address hockey3 request mitr org chl newslett mfoster geohub gcn uoknor edu british leagu uk hockey request uk ac hw cs olymp hockey see section 4 freq f monday friday saturday sunday daili n night w week someth interest make avail request use keyword bodi subject also specifi team date etc applic avail eric rickin ab870 cleveland freenet edu keyword descript ahladdr ahl team address canjunior canada junior team nhltv tv station team nhlradio radio station team usjunior us junior team xxxxdraft xxxx xxxx 1989 1992 nhl entri draft 1991exp 1991 nhl expans dispers draft avail rob springal rgs7077 ultb isc rit edu keyword descript ahl date info ahl ihl date info ihl nhl c c program print 91 92 nhl schedul specifi day avail stan willi willi empir dnet hac com keyword descript attend 91 92 nhl team home attend report quarter pslogo nhl team logo postscript avail david anthoni wyatt wyatt ccu umanitoba ca keyword descript alllist time list profession hockey franchis avail roland behunin behunin logdis1 oo aflc af mil keyword descript satinfo satellit info nhl team avail mike machnik nin15b34 merrimack edu keyword descript div1sch 92 93 ncaa divis score mike also provid schedul 46 divis team peopl ask e mail detail avail bill clare clare kodak com keyword descript retir list retir number nhl player avail staffan axelsson etxonss ufsa ericsson se keyword descript wcmedal world championship medalist 1920 1992 wcstand world championship time stand pool 1920 1992 wcalstar world championship star team 1961 1992 wcrostxx world championship gold win team roster 1958 1992 specifi xx 58 92 wjhc histori medal given world junior hockey championship wjhcstat team player stat world junior hockey championship avail paul brownlow paul data io com keyword descript chlpoy past canadian hockey leagu player year memcup past memori cup winner avail wilson cs ucf edu use statsmail send e mail wilson cs ucf edu subject statsmail bodi contain word help receiv list allow command thing avail nhl team leagu schedul calendar plethora team statist score game assort hockey file season 1988 1992 avail new materi ad 1 19 93 avail mitch mcgowan hamlet u washington edu keyword descript roster 1993 nhl star game roster nhllead 1991 92 nhl leader score goal assist power play goal short hand goal game win goal shot goal averag victori save percentag shutout zamboni alan thick book zamboni open 1991 nhl award broadcast avail matt militzok mmilitzo skidmor edu keyword descript stat date nhl statist avail harri peltz hbpeltz mailbox syr edu keyword descript score compil nhl score current month compress uuencod format date also specifi specif box score tri request mani one time max 5 box score three day avail richard stueven gak wrs com keyword descript direct current nhl directori file avail michael burger mmb lamar colost edu keyword descript tvinfo tv radio station team along network inform date divis stand score obtain archiv colleg hockey mail list send messag server listserv main main edu bodi contain command either get 9293conf stand divis confer stand get 9293comp schedul full season list divis score schedul 1000 line long stand file 50 line file updat less week around monday contact mike machnik nin15b34 merrimack edu question 6 usenet hockey pool send e mail andrew idacom hp com 7 come date apr 18 may 2 1993 world championship pool munich germani jun 26 nhl entri draft quebec citi quebec feb 12 feb 27 1994 xvii olymp winter game lillehamm norway 8 answer frequent ask question q montreal canadien call hab team 40 50 made peopl live around montreal henc call les habit nativ montreal shorten hab q montreal canadien logo larg c h within 1914 15 canadien logo consist c within signifi club athletiqu canadien cac next year cac longer exist chang signifi club de hockey q inform hockey public hockey news prefer north american hockey fan week journal date info phone 800 268 7793 canada us phone fax 0483 776141 uk rest europ q 5 minut power play count penalti kill stat nhl x goal score team get credit x goal x 1 chanc q comput nhl first appli skater except power play goal goal score skater ice score team given skater ice team given short hand goal count q five hole space goali pad five major score zone 1 upper left corner goal 2 upper right 3 lower left 4 lower right 5 five hole q mean throw octopus ice tradit began detroit 1950 two best seven seri requir win stanley cup everi time detroit game octopus one less arm thrown ice q first woman play nhl game manon rheaum 20 year old goaltend becam first woman ever play nhl game septemb 23 1992 start net expans tampa bay lightn exhibit st loui blue rheaum play first period 8 223 10 400 seat expo hall florida state fairground allow two goal nine shot left score tie 2 2 although lightn ultim lost game 6 4 q richest contract nhl histori mario lemieux superstar center pittsburgh penguin sign richest contract nhl histori seven year deal believ worth 42 million lemieux earn 6 million 7 million year near twice much player leagu q new commission nhl gari bettman vice presid general counsel nation basketbal associ name commission nation hockey leagu friday decemb 11 1992 bettman join nba 1981 assist general counsel becam leagu chief legal offic septemb 1984 new york resid bettman graduat cornel univers 1974 new york univers school law 1977 q mani profession hockey leagu north america six nation american intern east coast central coloni hockey leagu 9 miscellan field hockey discuss go newsgroup rec sport hockey field skate discuss go newsgroup rec skate site get anoth hockey group call clari sport hockey c h consist upi feed upi news articl relat hockey includ game result summari score stand etc much inform nhl team news section come newsgroup rec sport hockey frequent ask question post post semi month usual 1st 15th month hockey season file origin creat tom wilson post 1991 92 season taken mitch mcgowan 1992 93 season pleas make correct via e mail indic r h faq subject line feel free start discuss previous mention topic use appropri subject line mitch mcgowan hamlet u washington edu',\n",
       " 'dude nut wfan second none jodi mac exit quit loss think frederick fan much one pretti skew',\n",
       " 'head indic imposs fathom barri bat 4th giant behind clark barri awesom consist hitter definit best nation leagu imho william streaki hitter realli clutch hitter bat 4th ahead bond simpli injustic giant fan giant',\n",
       " '85 000 new york cleveland game late 40',\n",
       " 'finn best last night play norway world champ two period score still 0 0 game quit much similar first game finland play franc norwegian goali good bit lucki third period juha riihij rvi score 1 0 rebound time around 5 min second goal score kari harila shot straight faceoff behind nowwegian goali saku koivu 18 year old center got first point tournament saku koivu play well througout game award best player game prize despit fact quit small size handl puck well fast skater think hear guy futur',\n",
       " 'face philli team got 8 1 start honest think citi houston love new owner brought basebal back houston key acquisit player houston area want play astro think mani peopl fear mclane meddl team alreadi admit know whole lot basebal mclane businessman like excus make valid point injuri excus club look depth bench season canadel play 7 posit bass jame solid outfield hit well urib nice well pitch staff 6 legitim starter deal young houston team injuri play big role threat bullpen jonesi goe may troubl type starter season less pressur pen',\n",
       " 'owner whine basebal popular among larg enough portion popul suggest various remedi shorten game tri convinc us smoke embak emdominatebysheerintimid accur descript essenti laid back game forget lame idea new excit two point plan generat interest basebal among mass point one sex point two violenc let face sex violenc thing sell america implement game sex cheerlead cheerlead cheerlead danc top dugout bring hot dog ump seventh inning stretch run stand south bend white sox actual violenc basebal player utter wuss boy pitcher bean batter bench empti call bench clear brawl everybodi stand look stand stand stand look look look ho hum bullpen come run reach fight stand anybodi come bench throw least one punch suspend fine bullpen fight outfield wast time energi run infield footbal sex violenc basketbal sex violenc hockey violenc basebal da pastim da nayshun yawn',\n",
       " 'minnesota definit deserv nhl franchis see minnesota whaler pretti soon fear minnesota fan norm green cept team color sorri bad pun differ two year make minnesota finish 29 37 14 1992 made final finish better record 38 38 10 thi year move dalla everi team playoff win record final time nhl',\n",
       " 'exact point watch game close see lot goon go ulf one main reason less physic player pgh left alon ulf play rough hockey player put rush mario jagr want say anyon penguin cheap shot goon say jen caufield tslander good defenseman favorit player beat pen even take dive like gartner tri cheap penalti hey fine player someth stupid penal includ ulf mario like see happen anyon els matter pointless say one person cheap shot goon see everyon take cheap shot especi resomeon shadow much ulf',\n",
       " 'detroit disciplin team lot european detroit would make game fast toronto would slow game mean draw penalti last resort anyway toronto good team soon get good player toronto averag team detroit ballard screw toronto owner everyon know go take time toronto becom real forc expect gilmour burnt next year pull whole team forev',\n",
       " 'hi accord alway question newspap silver dollar mint canada back commemor anniversari stanley cup know full well coin use everi day canada easili fish pocket chang right fact question sinc loon dollar coin know legal tender commemor coin monetari exchang valu sort thing hockey buff coin collector might covet chanc circul uncircul coin current cost potenti valu curious one know take soc cultur canada rec collect whatev thank',\n",
       " 'kind happi grass smoke mayb share first lou gehrig greatest first baseman ever jimmi foxx clear next best first baseman ever could greatest first baseman yanke modern era put best histori basebal quit humor silli total line',\n",
       " 'score stat swedish nhl player april 5 mat sundin watch point season 131 kent nilsson calgari flame 1980 81 49 82 110 mat naslund montreal canadien 1985 86 43 67 109 mat sundin quebec nordiqu 1992 93 43 66 106 hakan loob calgari flame 1987 88 50 56 104 kent nilsson calgari flame 1982 83 46 58 99 kent nilsson calgari flame 1984 85 37 62 goal season 50 hakan loob calgari flame 1987 88 49 kent nilsson calgari flame 1980 81 46 kent nilsson calgari flame 1982 83 45 toma sandstrom la king 1990 91 43 mat naslund montreal canadien 1985 86 43 mat sundin quebec nordiqu 1992 93 assist season 82 kent nilsson calgari flame 1980 81 67 mat naslund montreal canadien 1985 86 66 borj salm toronto mapl leaf 1976 77 66 mat sundin quebec nordiqu 1992 93 62 kent nilsson calgari flame 1984 85 61 borj salm toronto mapl leaf 1977 78 61 thoma steen winnipeg jet 1988 89 ulf samuelsson watch penalti minut season 243 ulf samuelsson pittsburgh penguin 1992 93 3 25 211 ulf samuelsson pittsburgh penguin 1990 91 206 ulf samuelsson pittsburgh penguin 1991 92 184 kjell samuelsson philadelphia flyer 1988 89 181 ulf samuelsson hartford whaler 1988 89 174 ulf samuelsson hartford whaler 1985 86 170 borj salm toronto mapl leaf 1980 81 rl rk name team j ps ht wt born g pts pl comment 1 mat sundin que 13 c 6 2 189 2 13 71 43 66 109 7 2 ulf dahlen min 22 rw 6 2 195 1 12 67 33 38 71 5 3 thoma steen win 25 c 5 10 195 6 8 60 21 43 64 5 4 johan garpenlov sjs 10 lw 5 11 185 3 21 68 21 40 61 5 5 fredrik olausson win 4 6 2 200 10 5 66 13 38 51 4 6 toma sandstrom lak 7 lw 6 2 207 9 4 64 22 24 46 2 7 per erik eklund phi 9 lw 5 10 175 3 22 63 8 34 42 injur 8 call johansson 6 5 11 205 2 14 67 6 35 41 1 9 nickla lidstrom det 5 6 2 180 4 28 70 7 33 40 2 10 tommi sjodin min 33 5 11 190 8 13 65 7 29 36 11 ulf samuelsson pit 5 6 1 195 3 26 64 2 24 26 1 12 mikael andersson tbl 34 lw 5 11 185 5 10 66 13 11 24 1 13 michael nyland hfd 36 lw 5 11 176 10 3 72 5 16 21 2 14 roger johansson cgi 34 6 1 185 4 7 67 4 15 19 1 15 jan erixon nyr 20 lw 6 0 196 7 8 62 5 10 15 16 peter andersson nyr 25 6 0 187 8 29 65 4 7 11 1 17 kjell samuelsson pit 28 6 6 235 10 18 58 3 6 9 2 18 tommi albelin njd 6 6 1 190 5 21 64 1 5 6 19 per djoo nyr 44 5 11 176 5 11 68 1 1 2 binghampton 20 nicla andersson que 46 lw 5 8 169 5 20 71 0 1 1 halifax 21 thoma forslund cgi 27 lw 6 0 185 11 24 68 0 1 1 salt lake 22 patrik carnback mon 20 lw 6 0 189 2 1 68 0 0 0 injur 23 patrik kjellberg mon 27 lw 6 2 196 6 17 69 0 0 0 fredericton rl rank last week rk rank j jersey number ps posit born mm dd yy g goal assist pts point pl point score sinc last post list goali stat name team j ps ht wt born tommi soderstrom phi 30 g 5 9 163 7 17 69 l mm dd vs res r w l sh sv gp mp ga gaa sog sv sv 12 17 pit 4 5 l 0 1 0 27 22 1 62 5 4 84 27 22 0 815 12 19 chi 3 1 w 1 1 0 28 27 2 122 6 2 95 55 49 0 891 12 20 tbl 1 4 l 1 2 0 31 27 3 182 10 3 30 86 76 0 884 12 23 pit 0 4 l 1 3 0 26 22 4 242 14 3 47 112 98 0 875 12 26 5 5 1 3 1 41 36 5 307 19 3 71 153 134 0 876 12 29 lak 10 2 w 2 3 1 43 41 6 367 21 3 43 196 175 0 893 12 30 sjs 6 2 w 3 3 1 35 33 7 427 23 3 23 231 208 0 900 1 2 cgi 3 7 l 3 4 1 32 26 8 486 29 3 58 263 234 0 890 1 3 edm 2 2 3 4 2 33 31 9 551 31 3 38 296 265 0 895 1 7 8 2 w 4 4 2 33 31 10 611 33 3 24 329 296 0 900 1 9 nyr 4 3 w 5 4 2 26 23 11 671 36 3 22 355 319 0 899 1 10 edm 4 0 w 6 4 2 29 29 12 731 36 2 95 384 348 0 906 1 1 14 cgi 4 4 6 4 3 27 23 13 796 40 3 02 411 371 0 903 1 16 bos 5 4 w 7 4 3 37 33 14 856 44 3 08 448 404 0 902 1 17 det 4 7 l 7 5 3 36 29 15 916 51 3 34 484 433 0 895 1 21 bos 4 5 l 7 6 3 32 27 16 976 56 3 44 516 460 0 891 1 23 nyi 4 8 l 7 7 3 31 23 17 1036 64 3 71 547 483 0 883 1 1 24 hfd 5 4 w 8 7 3 25 21 18 1098 68 3 72 572 504 0 881 1 30 pit 2 4 l 8 8 3 35 32 19 1157 71 3 68 607 536 0 883 2 3 nyr 2 2 8 8 4 38 36 20 1222 73 3 58 645 572 0 887 2 9 ott 8 1 w 9 8 4 28 27 21 1282 74 3 46 673 599 0 890 2 11 mtl 0 0 9 8 5 23 23 22 1347 74 3 30 696 622 0 894 2 2 13 njd 4 6 l 9 9 5 32 26 23 1407 80 3 41 728 648 0 890 2 14 njd 2 5 l 9 10 5 26 21 24 1467 85 3 48 754 669 0 887 2 16 cgi 4 4 9 10 6 29 29 25 1512 85 3 37 783 698 0 891 2 18 van 3 2 w 10 10 6 30 28 26 1572 87 3 32 813 726 0 893 2 20 min 2 5 l 10 11 6 33 28 27 1632 92 3 38 846 754 0 891 2 22 det 5 5 10 11 6 15 12 28 1653 95 3 45 861 766 0 890 3 2 pit 5 4 w 11 11 6 22 21 29 1689 96 3 41 883 787 0 891 3 5 3 0 w 12 11 6 36 36 30 1749 96 3 29 919 823 0 896 3 3 7 njd 4 7 l 12 12 6 41 35 31 1808 102 3 38 960 858 0 894 3 9 nyi 2 4 l 12 13 6 24 21 32 1867 105 3 37 984 879 0 893 3 11 6 4 w 13 13 6 28 24 33 1927 109 3 39 1012 903 0 892 3 16 min 4 3 w 14 13 6 34 31 34 1987 112 3 38 1046 934 0 893 3 20 pit 3 9 l 14 14 6 27 20 35 2027 119 3 52 1073 954 0 889 3 21 njd 2 3 l 14 15 6 27 24 36 2086 122 3 51 1100 978 0 889 3 24 nyr 5 4 w 15 15 6 45 41 37 2146 126 3 52 1145 1019 0 890 2 3 27 que 3 8 l 15 16 6 25 19 38 2186 132 3 62 1170 1038 0 887 4 1 lak 1 3 l 15 17 6 26 23 39 2246 135 3 61 1196 1061 0 887 4 4 tor 4 0 w 16 17 6 26 26 40 2306 135 3 51 1222 1087 0 890 4 res result sh shot sv save gp game play mp minut play ga goal gaa goal averag sog shot goal sv save sv save percentag shutout assist staffan',\n",
       " 'ugliest swing sure think ugliset stanc jolio franco ranger wonder bat come around time hit ball look bad hey get job done',\n",
       " 'yes colin agre put puck net way smith mind definit fault common play play puck way smith luckili scrimmag',\n",
       " 'today april 17 jack morri lost first three start howev jay well without injur dave stuart credit rest pitch staff',\n",
       " 'believ devil island got 87 point say exampl anoth team record 20 37 47 20 2 47 1 37 0 87 point total island devil record 40 37 7 simpl arithmet involv calculus',\n",
       " 'well majesti pictur cherri start first post game interview barrasso tommi give littl look like somebodi crap shoe proceed give tonsilectomi sher wood could put pay per view hope good laugh',\n",
       " 'less 40 peopl 617 267 1700 40 617 262 1915',\n",
       " 'good luck tri',\n",
       " 'watch final inning bosio hitter sever peopl work vizquel made barehand grab chopper middl someon remark field glove time throw rile yet throw beat rile two step wonder mani other watch final think vizquel choic make play bare hand morn paper radio vizquel quot say could field ball glove still easili thrown rile barehand instead make final play memor seem litl cocki made work entitl guess still kind stupid move imo sing differ tune boot next guy hit bloop singl stranger thing happen hey use big dave stieb fan unfortun thing unearn hit cheer',\n",
       " 'well long folk share esteem wisdom li l karnak sez al west al east nl west nl east 1 chicago 1 toronto 1 atlanta 1 st loui 2 texa 2 new york 2 cincinnati 2 montreal 3 minnesota 3 baltimor 3 houston 3 new york 4 oakland 4 boston 4 los angel 4 philadelphia 5 seattl 5 detroit 5 san diego 5 pittsburgh 6 kansa citi 6 milwauke 6 san fran 6 chicago 7 california 7 cleveland 7 colorado 7 florida detail follow later pick apart like also anyon still take entri predict pool contest could snag mine add list thank glad open day make littl bit gloom doom weather pattern lundi',\n",
       " 'actual think becom evid determin flaunt ignor cost jagr better season franci suggest otherwis insult modicum hockey knowledg save almost maniac devot almighti plus minus mislead hockey stat avail nhl publish use quantifi statist includ ice time per game measur qualiti e player put key situat like protect lead late game match team top one two line short hand etc would much rather see disappear altogeth instead dubious merit trumpet littl understand implic brad brad k gibson internet gibson geop ubc ca dept geophys astronomi 129 2219 main mall phone 604 822 6722 univers british columbia fax 604 822 6047 vancouv british columbia canada v6t 1z4',\n",
       " 'anna matya yeah also second team score play 35 minut game play power play kill penalti best defenseman leagu take whole team chelios could way one got penalti other could kill',\n",
       " 'mention lankford hurt two night run outfield wall reason avail pinch anyth rib problem could run hit torr white rat give credit pretti darn good manag except felix fiasco sure brainchild bil',\n",
       " 'news report toronto say ranger insist kovalev zubov andersson play binghampton calder cup playoff rather return play home countri world championship shame ranger anoth black eye nhl europ',\n",
       " 'major problem analysi ignor age even morri perform well clemen right like season nobodi would trade clemen morri straight clemen career left',\n",
       " 'ron bloomberg former yanke got first base hit design hitter jewish',\n",
       " 'gee never knew valentin made comment viola sign boston gonna bring world seri titl boston think valentin ever said boston win year boy talk sensit insecur toronto fan case think viola would made better sign viola younger left hand mani left hand starter toronto',\n",
       " 'hmm thought francesca predict alway hover 500 especi nfl count colleg footbal bowl day nice analyst explain past tens map play team might predict futur look good whne compar russo',\n",
       " 'know answer hrivnak choic obvious',\n",
       " 'came use final regular season stat 92 93 find april 22 1993 edit usa today tri see come 1 adam oat c bruin 145 pts 2 teemu selann rw jet 136 pts 3 alexand mogilni rw sabr 131 pts 4 pavel bure rw canuck 116 pts 5 vincent damphouss lw canadian 106 pts 6 dave andreychuk lw mapleleaf 104 pts 7 phil housley rd jet 103 pts 8 paul coffey rd redw 94 pts 9 sergei fedorov c redw 94 pts 10 andi moog g bruin 86 pts 11 al infrat rd capiti 82 pts 12 patrick roy g canadian 76 pts 13 al macinni ld flame 60 pts 14 denni savard c canadian 59 pts 15 call johansson ld capit 50 pts 16 yuri khmylev lw sabr 41 pts 17 richard smehlik ld sabr 36 pts total point 1519 pts',\n",
       " 'whatev say think 12 game season go wait bit call name expect dave otto realli bad pitcher idea simmon ever want hand expect releas otto turn thing around pretti fast btw otto game score 0 ip stinker 22 point problem method sinc otto perform infinit bad excruci prolong think merc rooki year bit flukey will give bat tomlin start act gloomi walk time bomb stuff whatsoev leagu final realiz pretti fast doughti guy sign steve buechel move threaten buri kevin young minor meanwhil sure whether doughti simmon sign martin six year free agent 1992 season twice rotat given yike age least basebal term use half life 34 year old injuri prone catcher much longer year want dodger felt someth prove disastr 1992 think chanc buc sign certain last year hey skate smith packag deal anybodi acquir lonni defens base run particular stage real weirdo goal team ownership see sauer get zero make boss happi know said revenu share comment annoy sinc leyland seem push retain jeff king probabl unavoid meanwhil think bigger accomplish simmon tenur get valu john smiley trade real prospect veteran stretch last year draft well 1992 let rooki show someth 1993 foley smith candelaria acquir replac part mean even fail done serious damag buc futur mean buc lost initi arbitr case never heard outcom final verdict sure idiot case know blame might doug danforth fact serious suspect doug danforth shown willing call shot exact moment gun point feet btw wonder whether latest post get site somebodi known imperson e e cum see would drop short note',\n",
       " 'well wing fan think first thing get oppon line combin correct tri match anyon yzerman fedorov probert line except mayb powerplay three player usual play three differ line would mean toronto check line would pull tripl shift wing line usual look like gallant yzerman ciccarelli kozlov fedorov drake kennedi burr probert ysebaert primeau sheppard oh way start pray',\n",
       " 'realli mind length game either want speed game sensibl way fine howev object assert basebal peopl whitey herzog buck rodger heard say game long hitter take mani pitch strike zone need expand',\n",
       " 'ok met good exampl 90 red realli think anyon expect sweep know peopl even think win game let alon win seri prove wrong though year ignor record rocki start noth colorado shall rise hunt red octob continu due respect wlw bye',\n",
       " 'begin lambast cherri let first say sort cherri fan admit stuff say taken light less harmless saturday howev cross line good tast best gee tremend amount profession cbc look bad look foolish let get away nonsens make fun name bad enough make asinin blanket statement european player resort make fun name sound like idiot much like last week said teemu would never make rock em sock em video drop glove well said even though around leagu quit time still know w r confer divis name hello mcfli name around coupl decad also invit audienc name team wale quick quick follow ah know know sorri wrong one absolut hilari argument basketbal basebal brawl fair good unfortun neglect mention fine level nba case serious money oh well never one object question gretzki',\n",
       " 'get suck assum serious guess surpris hear us guy think would guess tini fraction 1 folk read post agre kind doubt even agre go go point one time mani anyth basebal repli brought pam postema aaa umpir su su basebal ground sex discrimin promot major never seen ump game first hand experi abil umpir seen talk show point seem call ball strike well umpir know rulebook better seem miss point see role umpir game well promot either umpir primari role noth call baserunn safe hell joe lundi could primari function maintain order game keep game move keep player tri kill umpir extrem tough peopl disqualifi us men women ms postema think deserv major leagu umpir command rulebook think disqualifi well umpir need command game command rulebook secondari',\n",
       " 'well detroit get see hear cherri quit regular detroit area pick hockey night canada cbc ch 9 windsor see cherri coach corner period also get see cherri grapevin game grapevin hockey talk show talk player coach els hockey actual pretti good show annoy coach corner think got nicknam grape sure use coach boston bruin know exact could someon fill info local radio station detroit wllz talk everi tuesday morn person fill donni realli piss sometim detroit toronto game monday night cbc gave high prais doug gilmour say two way player design goal scorer probabl best player game fine agre gilmour good two way player said exact thing yzerman month ago local radio talk show give seem like set speech chang goe citi citi cherri think insert star player name citi best two way player leagu today time rememb exact said basic chang opinion match audienc talk someon net said someth critic mario lemieux time come broadcast cup playoff civic center yes think pen make wale confer apolog left right remark lemieux opinion ass chang opinion differ citi sorri answer question better get chest',\n",
       " 'might take beat brave year',\n",
       " 'know game schedul espn sometim show classic game previous season fill time slot',\n",
       " 'understand matt william demonstr throughout career wait good pitch hit take walk rather swing oppos pitcher would groov fastbal william hit well know william swing miss least hit well low away curv',\n",
       " 'hi got tire wait mail list go make one send complet e mail address messag send confirm yanke mail list address john',\n",
       " 'hank greenberg sid gordon ron blomberg',\n",
       " 'probabl everyon everyon cabl watch everi brave game team game broadcast nationwid like local team local team brave kind becom local team watch everi day outta like vladimir alan',\n",
       " 'useless ingnor putout bias yet anoth way rang thing make good firstbaseman abil field sort ball thrown dig dirt stretch other forth import thus putout provid inform mayb need comparis mani ball thrown area first baseman vs mani actual got',\n",
       " 'new buffalo one second sinc sabr recal price tag 700 paint job mask total price almost 1500 ouch',\n",
       " 'look might see select particular word discov line express permiss liberti probabl possibl also said someth polit altern may presenc probabl possibl certain use partial explain word select say extent purpos yes might fact ask specif next question would mail list appropri get mail list sure get mail list team enthus seem r basebal appropri place look inform team one necessarili follow day day intend flamag rather attempt answer pose post question',\n",
       " 'obvious ultim team choic nhl would obvious prefer annoy european hockey feder nhl right cannot forc nhl team free player whaler probabl way annoy farm team affili',\n",
       " 'upi clarinet relay scoop toronto sun star like star iron mike keenan come agreement new york ranger next season interest come day time sport editori ranger need pat riley care happen next season gld',\n",
       " 'show meaningless relat basebal game overtim game tie less 3 second left clock gimm break espn get brilliant decis',\n",
       " 'subject captain ever trade resign stripe titl season team captain trivia would appreci luc robitaill captain king first third season great one came back disc injuri kind awkward melros appoint anoint tgo captain immedi upon return score goal someth like 10 game think luc remain captain season',\n",
       " 'vielen dank desper fan',\n",
       " 'definit correct william absolut sandwich clark bond must mean must get fastbal hit otherwis becom littl sixto lezcano disguis would suggest perhap bat bond william clark 3 4 5 reason feel bond potenti basest abil wast stuck behind two slow runner think chanc get 20 30 extra stolen base bond 3 spot would offset drop run product clark 5 spot',\n",
       " 'call penguin 6 way thing stand radio game hour devil wabc 770 nice soni watchman need paranoid robbi judg geograph coordin jet nordiqu final 7 gld',\n",
       " 'come back ten year look career juan gonzalez vs mark mcguir tell us bogus juander one 1992 hr titl say 2003 juan prepar hof accept speech voter say mark mcwho',\n",
       " 'point realli thought written pro sdcn anti mediot poster bless certain talent sarcasm bite remark somebodi like instanc lurid overstat obvious intend humili origin poster scale lift eye look like robert realli serious oh well compar perform 1992 philli 1987 edit outstand run produc everi posit except ss yet finish frustrat sub 500 level 1987 folk ever amount anyth neither 1992 squad imho parallel previous year team year edit style 1993 brave 1971 oriol greg mockingbird franklin interraci mix encompass lot lot f67709907 ccit arizona edu mingl g7 race robohen',\n",
       " 'find conceiv also cannot conceiv possibl hypothet team morri would help clemen given premis yes alon abil conceiv premis',\n",
       " 'cap fan resid atlanta dont even tell f cking playoff score news',\n",
       " 'ottwawa senat fire mel bridgman 1 00 pm today randi sexton gonna replac',\n",
       " 'recent problem indian pitch staff heard numer name thrown around could solv problem one name heard mike soper rp far know soper pretti good minor leagu stat give kid chanc anyon know anyth guy',\n",
       " 'know think phil plantier ugliest stanc look like sit toilet',\n",
       " 'know trendi nowaday dump morri let give credit credit due doubt blue jay would al east without morri last year team went 13 15 month august starter shell milwauke make charg morri went 5 1 pretti good era rememb exact also let underestim import 240 inning save bullpen everi fifth day help us win al east forget pennent world seri run support high 5 98 run stottlemy 5 90 run 12 game rememb morri win inordin number 6 5 8 6 ballgam credit pitch good need 6 1 ballgam put cruis control threw ball let batter get themselev hate express inexperienc pitcher would wear tri make perfect pitch keep era morri veteran pitcher know win thing realli matter basebal save abl reach back littl extra hate game line yes morri crap big time year let chang histori suit present btw think put bullpen would embarrass veteran pitcher cito would never era 17 much embarrass ditto',\n",
       " 'brian hurt hand think start saturday game taken far earli popul dog hous although bedrock seen milkbon',\n",
       " 'meaningless compar one player plus minus statist anoth player context role play time player involv compar jagr franci plus minus ridicul absurd',\n",
       " 'hear ya brother let tri week april 18th today finish read post regard cleveland indian boat tragedi needless say want read partial linescor game play 3 week ago charl mention exclud quot join mail list want woof consid enter 4th inning score woof thank plug read rest post spring train jim savoy univers lethbridg savoy hg uleth ca',\n",
       " 'pierr purpos tie breaker count first three game citi therefor quebec cannot possibl ahead montreal 4 3 probabl one game count remain boston quebec mean boston probabl alreadi',\n",
       " 'much text delet plus minus mislead hockey stat avail necessarili mislead right definit need taken proper perspect shine exampl look penguin individu find minus make common sens sinc lose mani game nhl publish use quantifi statist includ ice time per game measur qualiti e player put key situat like protect lead late game match team top one two line short hand etc would much rather see disappear altogeth instead dubious merit trumpet littl understand implic unfortun need keep ridicul number stat realli come statist realli show player valu let enjoy game overanalyz like excus',\n",
       " 'name pos ab h 2b 3b hr rbi rs sb e avg galarraga 1b 54 23 6 2 15 6 1 426 sheaffer c 3 1 333 boston 28 9 3 8 321 cole cf 43 13 1 1 2 13 8 302 hay 3b 46 13 2 3 11 7 2 3 283 bichett rf 39 10 1 3 10 8 1 256 e young 2b 51 13 2 1 1 7 12 9 3 255 tatum 3b 8 2 1 250 murphi 8 2 2 250 clark lf 37 9 3 1 1 3 3 1 243 girardi c 45 10 2 1 3 3 1 222 castilla ss 7 1 1 143 benavid ss 35 5 1 5 3 4 143 pitcher p 24 1 1 042 g young 3 2 1 000 total 431 112 19 4 10 61 66 21 14 260 name l r gs cg ip h r er k bb era w l aldr l 6 4 3 1 3 8 1 50 0 0 0 ashbi r 2 0 11 12 3 3 5 9 2 45 0 0 0 wayn l 3 7 4 1 1 3 2 2 45 0 1 0 neid r 4 1 29 27 11 10 15 10 3 10 3 1 0 parrett r 10 8 4 4 12 7 3 60 0 0 0 smith r 3 0 16 3 22 8 8 3 5 4 41 1 2 0 blair r 8 9 6 4 5 3 4 50 0 0 0 ruffin l 2 0 9 3 15 7 5 7 6 4 82 1 1 0 henri l 2 0 12 7 14 9 8 5 5 5 68 0 2 0 reed r 3 7 8 7 7 2 3 17 18 0 0 0 holm r 2 3 8 10 9 3 4 34 71 0 1 0',\n",
       " 'tri get copi offici rule basebal someon sent isbn number sinc lost anyon give inform tell find book none local bookstor',\n",
       " 'baltimor baseblaz hell come oriol base steal team except anderson besid would never call anyth baltimor oriol ballpark ortholog spell error correct baltimor oriol place bet thought bird oriol bird name lord baltimor maryland found call baltimor oriol post joke care non fan think us still wonder baseblaz came san diego padr name need chang padr use father ie priest father ie parent',\n",
       " 'thought sandi koufax',\n",
       " 'person clay post yes unfortun show lopez good exampl niev would sinc last year number line previous year access point remain though know guy minor leagu histori good know major leagu histori know read mle project equival well hit last year major leagu term rate essenc alreadi reach would guess bob clay essenti half player surpass previous mles rooki season mayb half sinc player young improv offerman may differ 4th 5th place last place sure anyon better suppos might gut farm system acquir jay bell spike owen somebodi realli content read wrote less amaz nowher claim put credenc spring train quit contrari said lopez done anyth even bozo put credenc spring train could interpret failur think spring train number meaningless mean bobbi cox case rule one possibl explan send lopez keith mitchel well aa aaa major season poor year aaa',\n",
       " 'cjkuo symantec com jimmi kuo quoth well either way red play man 3 day',\n",
       " 'word roussel shut shark soderstrom shut penguin immateri coach decis come joe think say play signific play irrelev low gaa good team better low gaa bad team context compar two goaltend low gaa better higher gaa low gaa good team much much better higher gaa bad team context compar two goaltend yes absolut context compar two goaltend cours end season 2 point 2 point matter get score sheet shutout shutout coach decid two goali gm look make trade got look deeper stat sheet see second toronto game first one defens masterpiec noth game judg tommi soderstrom test roussel ranger game two real score chanc one made great play save mistak player judg roussel game alon littl go look 0 0 tie hab saw goali stand head get shutout 1 goali action roussel game like sure flyer manag never say bad thing roussel say much good side either seen least two interview everi time farwel ask happi two good goaltend tommi tommi oh yeah dom play well flyer nhl hall fame kinda dull realli hand team pictur everybodi walk pizza hut pictur sold program mid season name like ben kasper most random seat locat given certain autograph team photo like method sinc seen guard help peopl get thing like lindro pictur sure got hand autograph pictur hold em buddi',\n",
       " 'hindsight 20 20 nobodi expect kisio 2nd best career year mean impli gund offer enough gund offer right late season 2m offer novemb let sather buy replac murphi season make playoff year 2m march help sather immedi object help long term object prospect draft pick way shark howev get back game kisio trade chicago last year shark go 0 octob mayb gund panick sooner novemb anoth twist chicago would kisio season never go murphi first place kelli best season bigger guy chicago gund competit ferriera sather keenan look like genius broken fax machin ferriera keenan mayb kingston mayb even green lose job kind make shiver bottomlin everi black scenario concoct kisio leav concoct equal bright one serious let ferierra go fire kingston last two basic mean shark start term timet captur cup state frequent 5 6 expans team gm incept cup season broadcast home game away game broadcast road pacif mountain time game jack ticket price 27 38 two year go pay 120 buck 3 seat probabl next virtual 107 folk tell prioriti let sell prioriti order get free jacket forc order ticket next season get select section let park new arena pay privileg park lot sometim full got 2 straight year loyal ticket holder sinc day 1 liter spring 90 team announc get loyalti return wirtz treat fan far better comparison pocklington cheap tix best owner know one suppos make negat comment signatur us oiler fan deserv stay edmonton part never wish king leav metro la much fun watch shark beat',\n",
       " 'move probert back defens see park ass front potvin night somebodi go disciplin probert leaf want win seri perhap fresh clark hit ice end long probert shift straigten',\n",
       " 'quot logistician tl need player wear 77 nhl know tl one ray borqu bruin help would great tl appreci tl thanx hi logistician paul coffey wear 77 detroit red wing one besid borqu think hope help steve',\n",
       " 'believ ny ranger would forc player go binghamtom play ahl playoff instead let repres countri world championship anderrson zubov wait nhl make decis kovalev given gone minor ranger disgrac ps report neil smith much hire mike keenan long smith ny',\n",
       " 'curious roger sinc vast knowledg game leagu come made live must lot demand expertis field sure great help say leaf assist coach scout mayb tri career report tv comment might wrong cours alreadi',\n",
       " 'gee lost st loui twice year mayb eye check 8 go blue rodney dangerfield team get respect except chicago mabe',\n",
       " '',\n",
       " 'woop rec sport hockey rec sport golf hope check newsgroup header next time post steve',\n",
       " '',\n",
       " 'think bad one year three new york team playoff cableco oper scni share channel bet someon forgot throw switch 6pm know talk nice nhl back american network tv face problem star game local preemption zero promot okay watch much tv foam right leagu made sure solid cabl go network year one new espn contract satur coverag sca game shown complet like quebec montreal sabr bruin overtim miss around gld',\n",
       " 'accord reason principl justic stand intim geograph psycholog relat leagu give one privileg right play',\n",
       " 'believ rusti staub also jewish ball player also mordaci brown back earli 20th centuri pitcher whose nicknam 3 finger brown obvious reason 3 finger 0 2 maind25 daniel patrick staub cathol school kid nawlin mordecai brown farm kid probabl protest somewher midwest lost finger farm machineri accid jim palmer jewish mr jockey short adopt parent also absolut certain carew actual convert wife children certain jewish',\n",
       " '',\n",
       " 'expans team pretti sure would go ring long salari age high would want fan abl identifi player would like championship attitud clubhous larkin griffin salari asid would consid player likeliest contribut ws victori past perform age attitud would integr decis certain haul copi gillet pick larkin mani other would unlik mani other post group hard consid quali fie make kind decis never abl believ tell truth like bang head stone wall',\n",
       " 'wip real home eagl merril rees bird fm radio joke classic rock station what sport world come',\n",
       " 'press releas white hous remark presid clinton ncaa divis champion hockey team april 19 q follow nation desk contact white hous offic press secretari 202 456 2100 washington april 19 follow transcript remark presid clinton univers main black bear ncaa divis hockey champion rose garden 9 58 edt presid good morn ladi gentlemen honor welcom univers main black bear winner ncaa divis hockey nation championship rose garden white hous understand senat mitchel first team univers main everi win nation championship glad inspir team pull togeth win championship entir state pull togeth cheer onto victori come state also relat small size also fill pride tradit communiti understand peopl main must feel black bear state peopl still talk time orang bowl number one rank footbal team back 1978 sure 15 year peopl main proud team today know state footbal slight popular sport hockey lot ice laughter spend three month get bang around town understand littl hockey came hockey tough game hard hit sport one virtu though penalti delay game wish rule senat laughter govern hockey leadership import unit state senat team great captain major leader senior senat main georg mitchel junior senat cohen look young imagin laughter actual bitter senat cohen look much younger hockey team captain jim montgomeri done great job score win goal late championship game lead come behind victori someth els know littl bit sport bring best individu team communiti share pride senat mitchel senat cohen congressman andrew peopl main must feel black bear shown us play team bring best one anoth come behind think import ask young peopl around america achiev outstand thing work togeth come white hous recogn appreci countri rememb kind valu kind virtu need ingrain us live anoth role model glad today applaus presid present team jersey applaus presid great love beauti applaus presid present autograph stick presid thank great applaus q mr presid author move waco morn sir presid awar think attorney general made decis think refer question fbi q instruct execut presid made tactic decis judgment fbi q raid presid want refer talk attorney general fbi knew go done decis entir tactic decis q senat mitchel talk morn q chanc stimulus packag presid senat mitchel ought pay quarter laughter laughter senat mitchel pay quarter presid readi laughter senat mitchel worth quarter day q chanc bill sir presid talk go happen week senat meet go rest week five minut talk agre get back togeth later around noon talk q senat dole said weekend compromis compromis presid well know look senat dole lot republican senat vote kind thing ronald reagan 1983 research indic major time vote total 28 emerg spend measur total 100 billion reagan bush presid administr mani purpos near worthi put american peopl back work want go back revisit everi one look research posit take credibl tough five year deficit reduct plan cost cover time peopl say got paid much histori base posit got 12 year vote stimulus measur kind littl put american peopl back work think got chanc work hope see happen today tomorrow feel pretti good press thank end 10 10 edt 30',\n",
       " 'littl supplement basic mike info sundday open abc announc crew devil isl pittsburgh gari thorn play play bill clement color al morganti roam hall outsid dress room telecast primarili seen east coast st loui chicago mike emrick play play jim schoendfeld color tom mee roam hall telecast primarili seen midwest part south la calgari al believ mircal michael play play john davidson color mark jone roam report telecast seen western usa montreal naitiv jon saunder host studio abc close person mario saturday wide world sport 4 30edt sunday first nhl playoff regular network telecast 13 year count silli star game nbc last year sunday game abc use 8 mike 2 behind goal super super slo mo close up player face face off espn abc abl use new favorit toy ice level shot pittsburgh mani seat would remov employ case blowout progress pittsburgh abc switch chicago game come back pittsburgh game updat game get closer ha abc expect huge rate hockey standard sinc 3 top us tv market involv ny metro area ny island nj devil chicago blackhawk la king stay tune thank mike',\n",
       " 'hi gang like subscrib white sox mail list one exist someon pleas e mail address thank alot john',\n",
       " 'watch final inning bosio hitter sever peopl work vizquel made barehand grab chopper middl someon remark field glove time throw rile yet throw beat rile two step wonder mani other watch final think vizquel choic make play bare hand anybodi think vizquel wrong field ball barehand fail field clean would error hit judg bosio grimac ball bounc past must thought would go hit whether vizquel right wrong certain made one hell play phil brown aka pb6755 csc albani edu',\n",
       " 'dunno miller mean scott erickson current reign twin least consist good player pull muscl neighborhood rib cage made essenti imposs pitch temporarili expect back mound sunday',\n",
       " ...]"
      ]
     },
     "execution_count": 30,
     "metadata": {},
     "output_type": "execute_result"
    }
   ],
   "source": [
    "data_tok_lc_nosw_nopunct_norm_stem"
   ]
  },
  {
   "cell_type": "markdown",
   "metadata": {
    "deletable": false,
    "editable": false,
    "nbgrader": {
     "grade": false,
     "grade_id": "cell-2bfe5aed6ebdbb26",
     "locked": true,
     "schema_version": 3,
     "solution": false
    }
   },
   "source": [
    "#### Q2.f)\n",
    "\n",
    "Finally, join everything in a function, that applies the steps in the following order:\n",
    "* Tokenization\n",
    "* Lowercasing\n",
    "* Filtering stopwords\n",
    "* Filtering punctuation\n",
    "* Normalizing whitespace\n",
    "* Stemming\n",
    "\n",
    "Make use of the functions you designed above when filling the transformer below.\n"
   ]
  },
  {
   "cell_type": "code",
   "execution_count": 31,
   "metadata": {
    "deletable": false,
    "nbgrader": {
     "grade": false,
     "grade_id": "cell-ea5b2305431c20dd",
     "locked": false,
     "schema_version": 3,
     "solution": true
    }
   },
   "outputs": [],
   "source": [
    "# Custom transformer to implement sentence cleaning\n",
    "class TextCleanerTransformer(TransformerMixin):\n",
    "    def __init__(self, tokenizer, lower=True, remove_punct=True, stopwords=[], stemmer=None):\n",
    "        self.tokenizer = tokenizer\n",
    "        self.stemmer = stemmer\n",
    "        self.lower = lower\n",
    "        self.remove_punct = remove_punct\n",
    "        self.stopwords = stopwords\n",
    "    \n",
    "\n",
    "    def clean_sentences(self, data):\n",
    "                \n",
    "        # Tokenize sentence so it each sentence contains spaced words or tokens\n",
    "        sentences_preprocessed= apply_tokenizer(data,self.tokenizer)\n",
    "        \n",
    "        if self.lower:\n",
    "            sentences_preprocessed=apply_lowercase(sentences_preprocessed)\n",
    "            \n",
    "            \n",
    "        if self.stopwords:\n",
    "            sentences_preprocessed=apply_filter_stopwords(sentences_preprocessed,self.stopwords)\n",
    "            \n",
    "            \n",
    "        # Remove punctuation\n",
    "        if self.remove_punct:\n",
    "            sentences_preprocessed =apply_filter_punct(sentences_preprocessed)\n",
    "            \n",
    "        \n",
    "        # Normalize whitespace\n",
    "        sentences_preprocessed= normalize_whitespace(sentences_preprocessed)\n",
    "        \n",
    "        \n",
    "        # Stem words\n",
    "        if self.stemmer:\n",
    "            sentences_preprocessed = apply_stemmer(sentences_preprocessed, self.stemmer)\n",
    "           \n",
    "       \n",
    "            \n",
    "        return sentences_preprocessed\n"
   ]
  },
  {
   "cell_type": "code",
   "execution_count": 32,
   "metadata": {},
   "outputs": [],
   "source": [
    "text_cleaner = TextCleanerTransformer(\n",
    "    WordPunctTokenizer(),\n",
    "    lower=True, \n",
    "    remove_punct=True, \n",
    "    stopwords=stopwords.words('english'),\n",
    "    stemmer=SnowballStemmer(\"english\"),\n",
    ")\n",
    "\n",
    "X_train_pre = text_cleaner.clean_sentences(X_train)"
   ]
  },
  {
   "cell_type": "code",
   "execution_count": 33,
   "metadata": {},
   "outputs": [
    {
     "data": {
      "text/plain": [
       "'mcgwire carter see justif bond thoma tend higher bat averag major differ see mcgwire carter carter draw walk pitcher afraid throw strike carter'"
      ]
     },
     "execution_count": 33,
     "metadata": {},
     "output_type": "execute_result"
    }
   ],
   "source": [
    "X_train_pre[1234]"
   ]
  },
  {
   "cell_type": "code",
   "execution_count": 34,
   "metadata": {
    "deletable": false,
    "editable": false,
    "nbgrader": {
     "grade": false,
     "grade_id": "cell-0a4c1aa16cea2ffb",
     "locked": true,
     "schema_version": 3,
     "solution": false,
     "task": false
    }
   },
   "outputs": [],
   "source": [
    "text_cleaner = TextCleanerTransformer(\n",
    "    WordPunctTokenizer(),\n",
    "    lower=True, \n",
    "    remove_punct=True, \n",
    "    stopwords=stopwords.words('english'),\n",
    "    stemmer=SnowballStemmer(\"english\"),\n",
    ")\n",
    "\n",
    "X_train_pre = text_cleaner.clean_sentences(X_train)"
   ]
  },
  {
   "cell_type": "code",
   "execution_count": 35,
   "metadata": {
    "deletable": false,
    "editable": false,
    "nbgrader": {
     "grade": true,
     "grade_id": "cell-4a87d0c9b1f20f7e",
     "locked": true,
     "points": 1,
     "schema_version": 3,
     "solution": false
    }
   },
   "outputs": [],
   "source": [
    "assert len(X_train_pre) == 1594\n",
    "assert len([w for s in X_train_pre for w in s.split(\" \")]) == 174486\n",
    "assert X_train_pre[1234] == (\"mcgwire carter see justif bond thoma tend higher bat averag major differ \"\n",
    "    \"see mcgwire carter carter draw walk pitcher afraid throw strike carter\")\n",
    "assert X_train_pre[567] == (\"best one saw last year willi mcgee matthew think philli fierc line \"\n",
    "    \"drive still rise hit second deck facad vet willi mcgee one homerun last year\")"
   ]
  },
  {
   "cell_type": "markdown",
   "metadata": {
    "deletable": false,
    "editable": false,
    "nbgrader": {
     "grade": false,
     "grade_id": "cell-f48abbdab8acc3d1",
     "locked": true,
     "schema_version": 3,
     "solution": false
    }
   },
   "source": [
    "## Q3. Text classification\n",
    "\n",
    "We will now use what we've learned to try to classify the topic of these articles as baseball or hockey. Let's first load the preprocessed data (slightly different from the answer to Q2) and double-check the balance of the classes:"
   ]
  },
  {
   "cell_type": "code",
   "execution_count": 36,
   "metadata": {
    "deletable": false,
    "editable": false,
    "nbgrader": {
     "grade": false,
     "grade_id": "cell-6cfef332c9bd3d0f",
     "locked": true,
     "schema_version": 3,
     "solution": false,
     "task": false
    }
   },
   "outputs": [],
   "source": [
    "def load_dataset(file_name):\n",
    "    \"\"\"\n",
    "    Loads a tsv file with the label in the first column and the text in the second column.\n",
    "    Returns two lists, one containing only the text and one containing the labels\n",
    "    \n",
    "    Args:\n",
    "    file_name: path to input file\n",
    "    \"\"\"\n",
    "    labels = []\n",
    "    texts = []\n",
    "    with open(file_name, 'r', encoding='utf-8') as f:\n",
    "        for line in f:\n",
    "            label, text = line.strip().split(\"\\t\")\n",
    "            labels.append(int(label))\n",
    "            texts.append(text)\n",
    "    return texts, labels"
   ]
  },
  {
   "cell_type": "code",
   "execution_count": 37,
   "metadata": {
    "deletable": false,
    "editable": false,
    "nbgrader": {
     "grade": false,
     "grade_id": "cell-99de6cc5a4a3ff52",
     "locked": true,
     "schema_version": 3,
     "solution": false,
     "task": false
    }
   },
   "outputs": [],
   "source": [
    "X_train_pre, y_train = load_dataset('data/sports_train_preprocessed.tsv')\n",
    "X_dev_pre, y_dev = load_dataset('data/sports_dev_preprocessed.tsv')\n",
    "X_test_pre, y_test = load_dataset('data/sports_test_preprocessed.tsv')"
   ]
  },
  {
   "cell_type": "code",
   "execution_count": 38,
   "metadata": {
    "deletable": false,
    "editable": false,
    "nbgrader": {
     "grade": false,
     "grade_id": "cell-dfca3c5348fd2262",
     "locked": true,
     "schema_version": 3,
     "solution": false,
     "task": false
    }
   },
   "outputs": [
    {
     "name": "stdout",
     "output_type": "stream",
     "text": [
      "Size of dataset: 1535\n",
      "Distribution of classes: {0: 758, 1: 777}\n"
     ]
    }
   ],
   "source": [
    "get_data_stats(X_train_pre, y_train)"
   ]
  },
  {
   "cell_type": "code",
   "execution_count": 39,
   "metadata": {
    "deletable": false,
    "editable": false,
    "nbgrader": {
     "grade": false,
     "grade_id": "cell-aaf6fbf5dbc51f95",
     "locked": true,
     "schema_version": 3,
     "solution": false,
     "task": false
    }
   },
   "outputs": [
    {
     "name": "stdout",
     "output_type": "stream",
     "text": [
      "Size of dataset: 196\n",
      "Distribution of classes: {0: 92, 1: 104}\n"
     ]
    }
   ],
   "source": [
    "get_data_stats(X_dev_pre, y_dev)"
   ]
  },
  {
   "cell_type": "markdown",
   "metadata": {
    "deletable": false,
    "editable": false,
    "nbgrader": {
     "grade": false,
     "grade_id": "cell-7e5147de37fa0351",
     "locked": true,
     "schema_version": 3,
     "solution": false,
     "task": false
    }
   },
   "source": [
    "So, we should be aiming for much better than 53% accuracy, which is what we would get if we naively predicted `1` (hockey) for everything."
   ]
  },
  {
   "cell_type": "markdown",
   "metadata": {
    "deletable": false,
    "editable": false,
    "nbgrader": {
     "grade": false,
     "grade_id": "cell-a844631e7326ff6d",
     "locked": true,
     "schema_version": 3,
     "solution": false,
     "task": false
    }
   },
   "source": [
    "#### Q3.a)\n",
    "\n",
    "First, we'll look at the top X ngrams in each category to see if anything is interesting. Write a function that returns the most common n-grams and their count for a specific label in our dataset.\n"
   ]
  },
  {
   "cell_type": "code",
   "execution_count": 53,
   "metadata": {},
   "outputs": [
    {
     "name": "stdout",
     "output_type": "stream",
     "text": [
      "758\n"
     ]
    }
   ],
   "source": [
    "i=0\n",
    "for s in y_train :\n",
    "    if s == 0:\n",
    "        i+=1\n",
    "print(i)"
   ]
  },
  {
   "cell_type": "code",
   "execution_count": 88,
   "metadata": {
    "deletable": false,
    "nbgrader": {
     "grade": false,
     "grade_id": "cell-36567f8f392a4836",
     "locked": false,
     "schema_version": 3,
     "solution": true,
     "task": false
    }
   },
   "outputs": [],
   "source": [
    "import collections\n",
    "\n",
    "def top_ngrams_for_category(text, labels, filter_label, top_n=10, ngram_size=1):\n",
    "    \"\"\"\n",
    "    Filters the data to the desired label, constructs a counter of ngrams\n",
    "    Returns the top n ngrams\n",
    "    \n",
    "    Args:\n",
    "    text: list of text strings to get ngrams from\n",
    "    labels: categories corresponding to text\n",
    "    filter_label: the label to filter the data on before getting ngrams\n",
    "    top_n: top n ngrams to return\n",
    "    ngram_size: the \"n\" in ngram (e.g. if ngram_size=2, return only bigrams)\n",
    "    \"\"\"\n",
    "    # First, filter text to desired category\n",
    "    text_filtered = [t for i, t in enumerate(text) if labels[i] == filter_label]\n",
    "    \n",
    "    # Create list of ngrams\n",
    "    ngram_list = []\n",
    "    for t in text_filtered:\n",
    "        ngrams = [tuple(t.split()[i:i+ngram_size]) for i in range(len(t.split()) - ngram_size + 1)]\n",
    "        ngram_list.extend(ngrams)\n",
    "\n",
    "    # Count occurances of each ngram\n",
    "    ngram_counter = collections.Counter(ngram_list)\n",
    "    \n",
    "    # return top_n most common ngrams\n",
    "    return ngram_counter.most_common(top_n)\n"
   ]
  },
  {
   "cell_type": "code",
   "execution_count": null,
   "metadata": {
    "deletable": false,
    "editable": false,
    "nbgrader": {
     "grade": true,
     "grade_id": "cell-cca0190cfba4ad83",
     "locked": true,
     "points": 2,
     "schema_version": 3,
     "solution": false,
     "task": false
    }
   },
   "outputs": [],
   "source": [
    "top_10_unigrams_baseball = top_ngrams_for_category(X_train_pre, y_train, 0, top_n=10, ngram_size=1)\n",
    "assert top_10_unigrams_baseball == [(('0',), 1899),\n",
    "                                     (('1',), 718),\n",
    "                                     (('game',), 561),\n",
    "                                     (('year',), 505),\n",
    "                                     (('2',), 481),\n",
    "                                     (('3',), 453),\n",
    "                                     (('5',), 408),\n",
    "                                     (('would',), 383),\n",
    "                                     (('4',), 342),\n",
    "                                     (('one',), 311)]\n",
    "top_7_bigrams_baseball = top_ngrams_for_category(X_train_pre, y_train, 0, top_n=7, ngram_size=2)\n",
    "assert top_7_bigrams_baseball == [(('0', '0'), 240),\n",
    "                                 (('last', 'year'), 118),\n",
    "                                 (('1', '0'), 94),\n",
    "                                 (('0', '1'), 72),\n",
    "                                 (('new', 'york'), 66),\n",
    "                                 (('00', '00'), 66),\n",
    "                                 (('1', '2'), 61)]\n",
    "top_10_unigrams_hockey = top_ngrams_for_category(X_train_pre, y_train, 1, top_n=10, ngram_size=1)\n",
    "assert top_10_unigrams_hockey == [(('0',), 5104),\n",
    "                                     (('1',), 3657),\n",
    "                                     (('2',), 2571),\n",
    "                                     (('3',), 1804),\n",
    "                                     (('4',), 1569),\n",
    "                                     (('6',), 1159),\n",
    "                                     (('5',), 1135),\n",
    "                                     (('7',), 989),\n",
    "                                     (('game',), 972),\n",
    "                                     (('team',), 743)]\n",
    "top_5_trigrams_hockey = top_ngrams_for_category(X_train_pre, y_train, 1, top_n=5, ngram_size=3)\n",
    "assert top_5_trigrams_hockey == [(('0', '0', '0'), 691),\n",
    "                                 (('0', '1', '1'), 422),\n",
    "                                 (('1', '0', '1'), 303),\n",
    "                                 (('1', '0', '0'), 184),\n",
    "                                 (('1', '1', '0'), 171)]"
   ]
  },
  {
   "cell_type": "markdown",
   "metadata": {
    "deletable": false,
    "editable": false,
    "nbgrader": {
     "grade": false,
     "grade_id": "cell-05f81b8870270b19",
     "locked": true,
     "schema_version": 3,
     "solution": false,
     "task": false
    }
   },
   "source": [
    "Looking at the top ngrams for each category, it doesn't seem like a BoW model will be very interesting, but let's try anyway."
   ]
  },
  {
   "cell_type": "markdown",
   "metadata": {
    "deletable": false,
    "editable": false,
    "nbgrader": {
     "grade": false,
     "grade_id": "cell-1a096ee6776427b8",
     "locked": true,
     "schema_version": 3,
     "solution": false,
     "task": false
    }
   },
   "source": [
    "#### Q3.b)\n",
    "To begin, let's streamline our pipeline in a nice function. We'll use sklearn's `CountVectorizer` instead of the function we wrote. We'll also use the `MultinomialNB` classifier to make predictions on the dev set."
   ]
  },
  {
   "cell_type": "code",
   "execution_count": null,
   "metadata": {
    "deletable": false,
    "nbgrader": {
     "grade": false,
     "grade_id": "cell-af90809e6c74e780",
     "locked": false,
     "schema_version": 3,
     "solution": true,
     "task": false
    }
   },
   "outputs": [],
   "source": [
    "def train_and_validate(X_train, X_dev, y_train, y_dev, ngram_range=(1,1), max_features=None):\n",
    "    \"\"\"\n",
    "    Train a model using sklearn's Pipeline and return it along with the predictions and the\n",
    "    current accuracy in the validation set. Print the classification report as well.\n",
    "    Assume the documents are already preprocessed\n",
    "    \n",
    "    Args:\n",
    "    X_train - preprocessed articles in training data\n",
    "    X_dev - preprocessed articles in dev data\n",
    "    y_train - labels of training data\n",
    "    y_dev - labels of dev data\n",
    "    ngram_range - ngram range to use in CountVectorizer (tuple)\n",
    "    max_features - max number of features to use in CountVectorizer (int)\n",
    "    \"\"\"\n",
    "    \n",
    "    # Build the pipeline containing the countvectorizer and the multinomial NB classifier\n",
    "    # text_clf = Pipeline(...)\n",
    "    \n",
    "    # Train the classifier\n",
    "    # (...)\n",
    "\n",
    "    # y_dev_pred = (...)\n",
    "    \n",
    "    # acc = (...)\n",
    "    \n",
    "    # YOUR CODE HERE\n",
    "    raise NotImplementedError()\n",
    "    \n",
    "    # print the classification report\n",
    "    print(classification_report(y_dev, y_dev_pred))\n",
    "\n",
    "    # return text_clf, y_dev_pred, acc\n",
    "    # YOUR CODE HERE\n",
    "    raise NotImplementedError()"
   ]
  },
  {
   "cell_type": "code",
   "execution_count": null,
   "metadata": {
    "deletable": false,
    "editable": false,
    "nbgrader": {
     "grade": true,
     "grade_id": "cell-97ba1cceed5a53f9",
     "locked": true,
     "points": 2,
     "schema_version": 3,
     "solution": false,
     "task": false
    }
   },
   "outputs": [],
   "source": [
    "clf, y_dev_pred, acc = train_and_validate(X_train_pre, X_dev_pre, y_train, y_dev)\n",
    "\n",
    "# check same as before\n",
    "assert_allclose(clf['clf'].intercept_, np.array([-0.68084531]), rtol=1e-3)\n",
    "assert ' '.join(str(i) for i in y_dev_pred[:20]) == \"0 1 0 0 1 1 0 0 1 1 0 1 1 1 0 0 0 0 0 0\"\n",
    "assert hashlib.sha256(' '.join(str(i) for i in y_dev_pred).encode()).hexdigest() == \\\n",
    "    \"5e67c5da0e5fc28a5d834ee9f12b93bc7c20bd26347fc9f02a36d50bc000b573\"\n",
    "assert_allclose(acc, 0.91, rtol=1e-2)"
   ]
  },
  {
   "cell_type": "code",
   "execution_count": null,
   "metadata": {
    "deletable": false,
    "editable": false,
    "nbgrader": {
     "grade": false,
     "grade_id": "cell-d7678b7610a7200f",
     "locked": true,
     "schema_version": 3,
     "solution": false,
     "task": false
    }
   },
   "outputs": [],
   "source": [
    "# we should also look at some misclassified examples\n",
    "for text, pred, true in zip(X_dev_pre[:50], y_dev_pred[:50], y_dev[:50]):\n",
    "    if pred != true:\n",
    "        print(f\"Sentence: {text}\")\n",
    "        print(f\"Predicted: {pred}, Actual: {true}\\n\")"
   ]
  },
  {
   "cell_type": "markdown",
   "metadata": {
    "deletable": false,
    "editable": false,
    "nbgrader": {
     "grade": false,
     "grade_id": "cell-6c7cbbc0c3275557",
     "locked": true,
     "schema_version": 3,
     "solution": false,
     "task": false
    }
   },
   "source": [
    "So just with the simplest BoW model we already get an accuracy of 0.91! But let's see if we can do even better... In the misclassified examples, the last one even contains the word \"hockey\" but was misclassified. And slightly tricker, but the first example contains the team name \"Anaheim Ducks,\" which is an NHL team. We should be able to get those right."
   ]
  },
  {
   "cell_type": "markdown",
   "metadata": {
    "deletable": false,
    "editable": false,
    "nbgrader": {
     "grade": false,
     "grade_id": "cell-a4fd66e62c165a4c",
     "locked": true,
     "schema_version": 3,
     "solution": false,
     "task": false
    }
   },
   "source": [
    "#### Q3.c)\n",
    "Run the pipeline for different ngram ranges and/or with different values for max_features, until you get an accuracy of at least 94%."
   ]
  },
  {
   "cell_type": "code",
   "execution_count": null,
   "metadata": {
    "deletable": false,
    "nbgrader": {
     "grade": false,
     "grade_id": "cell-e75ac8652cc7e741",
     "locked": false,
     "schema_version": 3,
     "solution": true,
     "task": false
    }
   },
   "outputs": [],
   "source": [
    "# clf,y_dev_pred, acc = train_and_validate(...)\n",
    "# YOUR CODE HERE\n",
    "raise NotImplementedError()"
   ]
  },
  {
   "cell_type": "code",
   "execution_count": null,
   "metadata": {
    "deletable": false,
    "editable": false,
    "nbgrader": {
     "grade": true,
     "grade_id": "cell-722d1b4ff466bdd7",
     "locked": true,
     "points": 1,
     "schema_version": 3,
     "solution": false,
     "task": false
    }
   },
   "outputs": [],
   "source": [
    "assert(acc >= 0.94)"
   ]
  },
  {
   "cell_type": "markdown",
   "metadata": {},
   "source": [
    "Now evaluate your model on the test set!"
   ]
  },
  {
   "cell_type": "code",
   "execution_count": null,
   "metadata": {},
   "outputs": [],
   "source": [
    "X_test_vec = clf['vect'].transform(X_test_pre)\n",
    "y_test_pred = clf['clf'].predict(X_test_vec)\n",
    "print(classification_report(y_test, y_test_pred))"
   ]
  },
  {
   "cell_type": "code",
   "execution_count": null,
   "metadata": {
    "deletable": false,
    "editable": false,
    "nbgrader": {
     "grade": false,
     "grade_id": "cell-af52f1de74f79623",
     "locked": true,
     "schema_version": 3,
     "solution": false,
     "task": false
    }
   },
   "outputs": [],
   "source": [
    "# look at some misclassified examples again\n",
    "for text, pred, true in zip(X_dev_pre[:50], y_dev_pred[:50], y_dev[:50]):\n",
    "    if pred != true:\n",
    "        print(f\"Sentence: {text}\")\n",
    "        print(f\"Predicted: {pred}, Actual: {true}\\n\")"
   ]
  },
  {
   "cell_type": "markdown",
   "metadata": {
    "deletable": false,
    "editable": false,
    "nbgrader": {
     "grade": false,
     "grade_id": "cell-711b6cc0145d445c",
     "locked": true,
     "schema_version": 3,
     "solution": false,
     "task": false
    }
   },
   "source": [
    "Depending on your chosen hyperparameters, the 2 examples we missed earlier that we should have gotten should be correct now! But let's see if we can get even better performance now by using the relative importance of ngrams with TF-IDF."
   ]
  },
  {
   "cell_type": "markdown",
   "metadata": {
    "deletable": false,
    "editable": false,
    "nbgrader": {
     "grade": false,
     "grade_id": "cell-28921443e50007c5",
     "locked": true,
     "schema_version": 3,
     "solution": false,
     "task": false
    }
   },
   "source": [
    "## Q4. TF-IDF\n",
    "\n",
    "Similarly to how we found the top ngrams before we started working with BoW, we will now find the most important unigrams, inverse weighted by document frequency.\n",
    "\n",
    "**Note**: Throughout this exercise, we'll use this term - **most important** - to refer to the unigrams of highest weight, in particular within each class, since these will be transfered into vectors used for training. It is not 100% true these features will necessarily be \"the most importnant\", but in general they will usually be relevant, especially if your dataset is well processed, so we'll use this expression as a proxy.\n",
    "\n",
    "#### Q4.a)\n",
    "\n",
    "First, implement TF-IDF on a dataframe representing a Bag of Words model of the data. Here is a reminder of the TF-IDF formula:\n",
    "\n",
    "$$ tfidf _{t, d} =(log{(1 + tf_{t,d})})*(log{(1 + \\frac{N}{df_{t}})})  $$\n"
   ]
  },
  {
   "cell_type": "code",
   "execution_count": null,
   "metadata": {
    "deletable": false,
    "editable": false,
    "nbgrader": {
     "grade": false,
     "grade_id": "cell-5b15b82e46b905ea",
     "locked": true,
     "schema_version": 3,
     "solution": false,
     "task": false
    }
   },
   "outputs": [],
   "source": [
    "# We'll start you off with the BoW representation, in pandas dataframe format\n",
    "vec = CountVectorizer()\n",
    "BoW_train = vec.fit_transform(X_train_pre)\n",
    "BoW_train_df = pd.DataFrame(BoW_train.todense())"
   ]
  },
  {
   "cell_type": "code",
   "execution_count": null,
   "metadata": {
    "deletable": false,
    "nbgrader": {
     "grade": false,
     "grade_id": "cell-0b915bab713aba13",
     "locked": false,
     "schema_version": 3,
     "solution": true,
     "task": false
    }
   },
   "outputs": [],
   "source": [
    "def tfidf(BoW_df):\n",
    "    \"\"\"\n",
    "    Returns pandas dataframe of a tfidf representation from a BoW representation dataframe.\n",
    "\n",
    "    Args:\n",
    "    BoW_df - dataframe with document word counts (Bag of Words)\n",
    "    \"\"\"\n",
    "    # remember that the BoW representation is raw counts, it is not normalized by the length of each text\n",
    "    # first transform the df into term frequencies, where the counts are normalized\n",
    "    # also double check the formula above for additional transformations applied to the tf expression\n",
    "    # use np.log(x) for natural base log\n",
    "    # tf = (...)\n",
    "    # YOUR CODE HERE\n",
    "    raise NotImplementedError()\n",
    "\n",
    "    # now we need a function that computes the idf side of the expression\n",
    "    # it operates over a column (a word in the vocab), where the column contains each doc's count of that word\n",
    "    # def _idf(column):\n",
    "    #   return (...)\n",
    "    # YOUR CODE HERE\n",
    "    raise NotImplementedError()\n",
    "\n",
    "    # now weight the term frequencies by the idfs\n",
    "    # tf_idf = (...)\n",
    "    # YOUR CODE HERE\n",
    "    raise NotImplementedError()\n",
    "\n",
    "    return tf_idf"
   ]
  },
  {
   "cell_type": "code",
   "execution_count": null,
   "metadata": {
    "deletable": false,
    "editable": false,
    "nbgrader": {
     "grade": true,
     "grade_id": "cell-86090d8867691e1a",
     "locked": true,
     "points": 2,
     "schema_version": 3,
     "solution": false,
     "task": false
    }
   },
   "outputs": [],
   "source": [
    "tfidf_df = tfidf(BoW_train_df)\n",
    "assert math.isclose(tfidf_df[12609][2], 0.0587996, abs_tol=0.0001)\n",
    "assert math.isclose(tfidf_df[0][1531], 0.0174387, abs_tol=0.0001)\n",
    "assert math.isclose(tfidf_df[8][6], 0.0092900, abs_tol=0.0001)"
   ]
  },
  {
   "cell_type": "markdown",
   "metadata": {
    "deletable": false,
    "editable": false,
    "nbgrader": {
     "grade": false,
     "grade_id": "cell-5794b50d39898cfc",
     "locked": true,
     "schema_version": 3,
     "solution": false,
     "task": false
    }
   },
   "source": [
    "### Q4.b)\n",
    "\n",
    "Now that we have our TF-IDF representation, we can proceed with getting the most important words per category. \n",
    "\n",
    "Let's write a small helper function first to get the vocabulary in the right format."
   ]
  },
  {
   "cell_type": "code",
   "execution_count": null,
   "metadata": {
    "deletable": false,
    "editable": false,
    "nbgrader": {
     "grade": false,
     "grade_id": "cell-8143a657d8b668d4",
     "locked": true,
     "schema_version": 3,
     "solution": false,
     "task": false
    }
   },
   "outputs": [],
   "source": [
    "# get the vocab from CountVectorizer, which is of the format {\"word\": idx, ...}\n",
    "vocab_word_2_idx = vec.vocabulary_"
   ]
  },
  {
   "cell_type": "code",
   "execution_count": null,
   "metadata": {
    "deletable": false,
    "nbgrader": {
     "grade": false,
     "grade_id": "cell-4cf0289cdb72e49a",
     "locked": false,
     "schema_version": 3,
     "solution": true,
     "task": false
    }
   },
   "outputs": [],
   "source": [
    "# write a function to convert this vocab to the format {idx: \"word\", ...}\n",
    "\n",
    "def reverse_vocab(vocab_word_to_index):\n",
    "    \"\"\"\n",
    "    Converts a vocabulary dictionary with words as keys and indices as values to a \n",
    "        new dictionary with indices as keys and words as values\n",
    "    \n",
    "    Args:\n",
    "    vocab_word_to_index: vocabulary dict of the format {\"word\": 0, \"hello\": 1, ...}\n",
    "    \"\"\"\n",
    "    # YOUR CODE HERE\n",
    "    raise NotImplementedError()"
   ]
  },
  {
   "cell_type": "code",
   "execution_count": null,
   "metadata": {
    "deletable": false,
    "editable": false,
    "nbgrader": {
     "grade": true,
     "grade_id": "cell-2c86ba6062add631",
     "locked": true,
     "points": 1,
     "schema_version": 3,
     "solution": false,
     "task": false
    }
   },
   "outputs": [],
   "source": [
    "vocab_idx_2_word = reverse_vocab(vocab_word_2_idx)\n",
    "assert len(vocab_idx_2_word) == 12613\n",
    "assert vocab_idx_2_word[11714] == \"two\"\n",
    "assert vocab_idx_2_word[2847] == \"boston\"\n",
    "assert vocab_idx_2_word[8762] == \"palmer\""
   ]
  },
  {
   "cell_type": "markdown",
   "metadata": {
    "deletable": false,
    "editable": false,
    "nbgrader": {
     "grade": false,
     "grade_id": "cell-c9d199071250b72d",
     "locked": true,
     "schema_version": 3,
     "solution": false,
     "task": false
    }
   },
   "source": [
    "### Q4.c)\n",
    "\n",
    "Finally, write a function to return the list of N most important words in a single category according to TF-IDF."
   ]
  },
  {
   "cell_type": "code",
   "execution_count": null,
   "metadata": {
    "deletable": false,
    "nbgrader": {
     "grade": false,
     "grade_id": "cell-00f14b79ff68d32e",
     "locked": false,
     "schema_version": 3,
     "solution": true,
     "task": false
    }
   },
   "outputs": [],
   "source": [
    "def top_tfidf_words_for_category(tfidf_df, labels, filter_label, vocabulary, top_n=10):\n",
    "    \"\"\"\n",
    "    Returns the top n most important words for the given label, with the given vocabulary\n",
    "    and corresponding tfidf representation of some text data\n",
    "    \n",
    "    Args:\n",
    "    tfidf_df: a dataframe of the tfidf representation of some text (columns=words, rows=documents)\n",
    "    labels: categories corresponding to documents in tfidf_df\n",
    "    filter_label: the label to filter the data on before getting top n words\n",
    "    vocabulary: a dict of the format {idx: \"word\", ...}\n",
    "    top_n: top n words to return\n",
    "    \"\"\"\n",
    "    # First, filter tfidf to desired category\n",
    "    # tfidf_filt = ...\n",
    "    # YOUR CODE HERE\n",
    "    raise NotImplementedError()\n",
    "    \n",
    "    # Get the top n words of the current label, according to tfidf\n",
    "    # There are several ways to do this, but here are some hints\n",
    "    # 1) Sum the filtered df to get the total value per word\n",
    "    # 2) Sort\n",
    "    # 3) Replace indices with words and return the top_n\n",
    "    # YOUR CODE HERE\n",
    "    raise NotImplementedError()"
   ]
  },
  {
   "cell_type": "code",
   "execution_count": null,
   "metadata": {
    "deletable": false,
    "editable": false,
    "nbgrader": {
     "grade": true,
     "grade_id": "cell-3b51198b450763c2",
     "locked": true,
     "points": 2,
     "schema_version": 3,
     "solution": false,
     "task": false
    }
   },
   "outputs": [],
   "source": [
    "top_15_hockey = top_tfidf_words_for_category(tfidf_df, y_train, 1, vocab_idx_2_word, top_n=15)\n",
    "assert top_15_hockey == ['game',\n",
    "     'team',\n",
    "     'hockey',\n",
    "     'play',\n",
    "     'would',\n",
    "     'player',\n",
    "     'playoff',\n",
    "     'go',\n",
    "     'one',\n",
    "     'year',\n",
    "     'nhl',\n",
    "     'get',\n",
    "     'espn',\n",
    "     'like',\n",
    "     'goal']\n",
    "top_20_baseball = top_tfidf_words_for_category(tfidf_df, y_train, 0, vocab_idx_2_word, top_n=20)\n",
    "assert top_20_baseball == ['game',\n",
    "     'year',\n",
    "     'basebal',\n",
    "     'pitch',\n",
    "     'hit',\n",
    "     'run',\n",
    "     'would',\n",
    "     'think',\n",
    "     'pitcher',\n",
    "     'one',\n",
    "     'know',\n",
    "     'cub',\n",
    "     'day',\n",
    "     'like',\n",
    "     'first',\n",
    "     'time',\n",
    "     'anyon',\n",
    "     'go',\n",
    "     'team',\n",
    "     'get']"
   ]
  },
  {
   "cell_type": "markdown",
   "metadata": {
    "deletable": false,
    "editable": false,
    "nbgrader": {
     "grade": false,
     "grade_id": "cell-3a8bfb9ad7d5ec44",
     "locked": true,
     "schema_version": 3,
     "solution": false,
     "task": false
    }
   },
   "source": [
    "As you can see, these top words per category make a lot more sense than the ones from just BoW. Maybe this will help us make better predictions!"
   ]
  },
  {
   "cell_type": "markdown",
   "metadata": {
    "deletable": false,
    "editable": false,
    "nbgrader": {
     "grade": false,
     "grade_id": "cell-d2672054e4024a51",
     "locked": true,
     "schema_version": 3,
     "solution": false,
     "task": false
    }
   },
   "source": [
    "### Q4.d)\n",
    "\n",
    "Now, we will put everything together. Rewrite the train_and_validate function from Q3.b but using sklearn's `TfIdfTransformer`. Also, add kwargs for CountVectorizer's `max_df` and `min_df`."
   ]
  },
  {
   "cell_type": "code",
   "execution_count": null,
   "metadata": {
    "deletable": false,
    "nbgrader": {
     "grade": false,
     "grade_id": "cell-02453bb681cd33b8",
     "locked": false,
     "schema_version": 3,
     "solution": true,
     "task": false
    }
   },
   "outputs": [],
   "source": [
    "def train_and_validate_with_tfidf(X_train, X_dev, y_train, y_dev, ngram_range=(1,1),\n",
    "                                  max_features=None, max_df=1.0, min_df=1):\n",
    "    \"\"\"\n",
    "    Train a model using sklearn's Pipeline and return it along with the predictions and the\n",
    "    current accuracy in the validation set. Print the classification report as well.\n",
    "    Assume the documents are already preprocessed\n",
    "    \n",
    "    Args:\n",
    "    X_train - preprocessed articles in training data\n",
    "    X_dev - preprocessed articles in dev data\n",
    "    y_train - labels of training data\n",
    "    y_dev - labels of dev data\n",
    "    ngram_range - ngram range to use in CountVectorizer (tuple)\n",
    "    max_features - max number of features to use in CountVectorizer (int)\n",
    "    max_df = max_df for CountVectorizer (int or float)\n",
    "    min_df = min_df for CountVectorizer (int or float)\n",
    "    \"\"\"\n",
    "    \n",
    "    # Build a pipeline containing the countvectorizer, tfidftransformer and the multinomial NB classifier\n",
    "    # text_clf = Pipeline(...)\n",
    "    \n",
    "    # Train the classifier\n",
    "    # (...)\n",
    "\n",
    "    # y_dev_pred = (...)\n",
    "    # print the classification report\n",
    "    # acc = (...)\n",
    "    \n",
    "    # YOUR CODE HERE\n",
    "    raise NotImplementedError()\n",
    "    \n",
    "    print(classification_report(y_dev, y_dev_pred))\n",
    "\n",
    "    # return text_clf, y_dev_pred, acc\n",
    "    # YOUR CODE HERE\n",
    "    raise NotImplementedError()"
   ]
  },
  {
   "cell_type": "code",
   "execution_count": null,
   "metadata": {
    "deletable": false,
    "editable": false,
    "nbgrader": {
     "grade": true,
     "grade_id": "cell-ee1c189fe642928a",
     "locked": true,
     "points": 1,
     "schema_version": 3,
     "solution": false,
     "task": false
    }
   },
   "outputs": [],
   "source": [
    "clf, y_dev_pred, acc = train_and_validate_with_tfidf(X_train_pre, X_dev_pre, y_train, y_dev)\n",
    "\n",
    "assert hashlib.sha256(\" \".join([str(x) for x in list(y_dev_pred)]).encode()).hexdigest() == \\\n",
    "    \"1beda6d3a1226853b58518db5f7fcba362722f1f97b53f0af5c71c53fc28f686\"\n",
    "assert_allclose(acc, 0.93367, rtol=1e-3)"
   ]
  },
  {
   "cell_type": "code",
   "execution_count": null,
   "metadata": {
    "deletable": false,
    "editable": false,
    "nbgrader": {
     "grade": false,
     "grade_id": "cell-87d3359e8827355d",
     "locked": true,
     "schema_version": 3,
     "solution": false,
     "task": false
    }
   },
   "outputs": [],
   "source": [
    "# As before, we should also look at some misclassified examples\n",
    "for text, pred, true in zip(X_dev_pre[:50], y_dev_pred[:50], y_dev[:50]):\n",
    "    if pred != true:\n",
    "        print(f\"Sentence: {text}\")\n",
    "        print(f\"Predicted: {pred}, Actual: {true}\\n\")"
   ]
  },
  {
   "cell_type": "markdown",
   "metadata": {
    "deletable": false,
    "editable": false,
    "nbgrader": {
     "grade": false,
     "grade_id": "cell-26ada9070ceb8872",
     "locked": true,
     "schema_version": 3,
     "solution": false,
     "task": false
    }
   },
   "source": [
    "Since \"outfield\" is clearly a baseball word, let's keep going and see if we can do even better."
   ]
  },
  {
   "cell_type": "markdown",
   "metadata": {
    "deletable": false,
    "editable": false,
    "nbgrader": {
     "grade": false,
     "grade_id": "cell-ab54cc6297c36ee2",
     "locked": true,
     "schema_version": 3,
     "solution": false
    }
   },
   "source": [
    "#### Q4.e)\n",
    "\n",
    "Use the `train_and_validate_with_tfidf` function you created before to train with different hyperparameters and get an accuracy score above 94% on the validation dataset. (This threshold is the same as what we got for plain CountVectorizer)\n"
   ]
  },
  {
   "cell_type": "code",
   "execution_count": null,
   "metadata": {
    "deletable": false,
    "nbgrader": {
     "grade": false,
     "grade_id": "cell-07b6f3694941ac8",
     "locked": false,
     "schema_version": 3,
     "solution": true,
     "task": false
    }
   },
   "outputs": [],
   "source": [
    "# clf, _, acc = train_and_validate_with_tfidf(...)\n",
    "# YOUR CODE HERE\n",
    "raise NotImplementedError()"
   ]
  },
  {
   "cell_type": "code",
   "execution_count": null,
   "metadata": {
    "deletable": false,
    "editable": false,
    "nbgrader": {
     "grade": true,
     "grade_id": "cell-07b6f3694941ac81",
     "locked": true,
     "points": 1,
     "schema_version": 3,
     "solution": false
    }
   },
   "outputs": [],
   "source": [
    "assert(acc > 0.94)"
   ]
  },
  {
   "cell_type": "markdown",
   "metadata": {
    "deletable": false,
    "editable": false,
    "nbgrader": {
     "grade": false,
     "grade_id": "cell-123f82e6058cdcdc",
     "locked": true,
     "schema_version": 3,
     "solution": false,
     "task": false
    }
   },
   "source": [
    "Now evaluate your model on the test set!"
   ]
  },
  {
   "cell_type": "code",
   "execution_count": null,
   "metadata": {
    "deletable": false,
    "editable": false,
    "nbgrader": {
     "grade": false,
     "grade_id": "cell-a5352a2d0b2f2903",
     "locked": true,
     "schema_version": 3,
     "solution": false,
     "task": false
    }
   },
   "outputs": [],
   "source": [
    "X_test_vec = clf['tfidf'].transform(clf['vect'].transform(X_test_pre))\n",
    "y_test_pred = clf['clf'].predict(X_test_vec)\n",
    "print(classification_report(y_test, y_test_pred))"
   ]
  },
  {
   "cell_type": "markdown",
   "metadata": {
    "deletable": false,
    "editable": false,
    "nbgrader": {
     "grade": false,
     "grade_id": "cell-c4aa5fa0188b8ce3",
     "locked": true,
     "schema_version": 3,
     "solution": false,
     "task": false
    }
   },
   "source": [
    "We ended up not being able to beat our baseline of BoW with TF-IDF, maybe because the dataset is small and very easy, and so a simple algorithm was enough. Still, in general, it's good to try TF-IDF for text classification tasks and have an understanding of how your results change with different hyperparameters!"
   ]
  }
 ],
 "metadata": {
  "kernelspec": {
   "display_name": "Python 3 (ipykernel)",
   "language": "python",
   "name": "python3"
  },
  "language_info": {
   "codemirror_mode": {
    "name": "ipython",
    "version": 3
   },
   "file_extension": ".py",
   "mimetype": "text/x-python",
   "name": "python",
   "nbconvert_exporter": "python",
   "pygments_lexer": "ipython3",
   "version": "3.8.14"
  }
 },
 "nbformat": 4,
 "nbformat_minor": 2
}
