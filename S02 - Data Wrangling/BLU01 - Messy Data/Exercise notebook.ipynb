{
 "cells": [
  {
   "cell_type": "markdown",
   "metadata": {
    "deletable": false,
    "editable": false,
    "nbgrader": {
     "grade": false,
     "grade_id": "cell-1b6b75485105e36c",
     "locked": true,
     "schema_version": 3,
     "solution": false
    }
   },
   "source": [
    "# BLU01 - Exercises Notebook"
   ]
  },
  {
   "cell_type": "markdown",
   "metadata": {},
   "source": [
    "**Important Note**\n",
    "\n",
    "Attention Windows users: The grader will run on Linux, and using power shell statements will not work."
   ]
  },
  {
   "cell_type": "code",
   "execution_count": 26,
   "metadata": {
    "deletable": false,
    "editable": false,
    "nbgrader": {
     "grade": false,
     "grade_id": "cell-0240afddd4fae69d",
     "locked": true,
     "schema_version": 3,
     "solution": false
    }
   },
   "outputs": [],
   "source": [
    "import chardet\n",
    "import hashlib # for grading purposes\n",
    "import math\n",
    "import numpy as np\n",
    "import csv\n",
    "import pandas as pd\n",
    "import random"
   ]
  },
  {
   "cell_type": "markdown",
   "metadata": {
    "deletable": false,
    "editable": false,
    "nbgrader": {
     "grade": false,
     "grade_id": "cell-93e0b4e1a40ebaaa",
     "locked": true,
     "schema_version": 3,
     "solution": false
    }
   },
   "source": [
    "## Q1: Use a shell command to count lines\n",
    "\n",
    "\n",
    "\n"
   ]
  },
  {
   "cell_type": "code",
   "execution_count": 27,
   "metadata": {
    "deletable": false,
    "nbgrader": {
     "grade": false,
     "grade_id": "cell-05a3d2245d57305d",
     "locked": false,
     "schema_version": 3,
     "solution": true
    }
   },
   "outputs": [],
   "source": [
    "# Count the total number of lines of files data/exercises/python_and_open_source.txt and data/exercises/finance.txt\n",
    "# and store the result in variable count_total.  \n",
    "# There is more than one way to do this. Hint: concatenate both files.\n",
    "!cat data/exercises/python_and_open_source.txt data/exercises/finance.txt > conc.txt\n",
    "count_total = ! wc -l < conc.txt\n",
    "count_total=int(count_total[0])"
   ]
  },
  {
   "cell_type": "code",
   "execution_count": 28,
   "metadata": {
    "deletable": false,
    "editable": false,
    "nbgrader": {
     "grade": true,
     "grade_id": "cell-2e69c6137e73d90c",
     "locked": true,
     "points": 2,
     "schema_version": 3,
     "solution": false
    }
   },
   "outputs": [],
   "source": [
    "expected_hash = '670671cd97404156226e507973f2ab8330d3022ca96e0c93bdbdb320c41adcaf'\n",
    "assert hashlib.sha256(str(count_total).encode()).hexdigest() == expected_hash, \"count_total is wrong\""
   ]
  },
  {
   "cell_type": "code",
   "execution_count": 29,
   "metadata": {},
   "outputs": [
    {
     "data": {
      "text/plain": [
       "9.0"
      ]
     },
     "execution_count": 29,
     "metadata": {},
     "output_type": "execute_result"
    }
   ],
   "source": [
    "count_total/3\n",
    "\n"
   ]
  },
  {
   "cell_type": "markdown",
   "metadata": {},
   "source": [
    "Now store in 2 variables the first third and the last third of the lines existent in file data/exercises/finance.txt."
   ]
  },
  {
   "cell_type": "code",
   "execution_count": 30,
   "metadata": {
    "deletable": false,
    "nbgrader": {
     "grade": false,
     "grade_id": "cell-14cf2619322a8763",
     "locked": false,
     "schema_version": 3,
     "solution": true
    }
   },
   "outputs": [],
   "source": [
    "# NOT GRADED optional exercise!!\n",
    "# Add the first third and the last third of the lines to the variables first_third and last_third. \n",
    "# Make it work to any files using count_total_finance / 3 for instance in the bash commands\n",
    "\n",
    "count_total_finance = ! cat conc.txt\n",
    "count_total = count_total/3\n",
    "\n",
    "first_third = ! head -8 conc.txt\n",
    "last_third = !tail -5 conc.txt\n",
    "\n",
    "\n"
   ]
  },
  {
   "cell_type": "code",
   "execution_count": 31,
   "metadata": {},
   "outputs": [
    {
     "data": {
      "text/plain": [
       "'s'"
      ]
     },
     "execution_count": 31,
     "metadata": {},
     "output_type": "execute_result"
    }
   ],
   "source": [
    "first_third[-1][0]"
   ]
  },
  {
   "cell_type": "code",
   "execution_count": 32,
   "metadata": {},
   "outputs": [
    {
     "data": {
      "text/plain": [
       "'m'"
      ]
     },
     "execution_count": 32,
     "metadata": {},
     "output_type": "execute_result"
    }
   ],
   "source": [
    "last_third[0][0]"
   ]
  },
  {
   "cell_type": "code",
   "execution_count": 33,
   "metadata": {
    "deletable": false,
    "editable": false,
    "nbgrader": {
     "grade": true,
     "grade_id": "cell-20d96111430874d4",
     "locked": true,
     "points": 0,
     "schema_version": 3,
     "solution": false,
     "task": false
    }
   },
   "outputs": [],
   "source": [
    "# Test the first_third and last_third exercise by running the following (ungraded) asserts.\n",
    "assert first_third[-1][0] == 's'\n",
    "assert last_third[0][0] == 'm'"
   ]
  },
  {
   "cell_type": "markdown",
   "metadata": {
    "deletable": false,
    "editable": false,
    "nbgrader": {
     "grade": false,
     "grade_id": "cell-e27cb8588bb5fd40",
     "locked": true,
     "schema_version": 3,
     "solution": false
    }
   },
   "source": [
    "## Q2: Read a file with specific delimiter\n",
    "\n",
    "Read file **data/exercises/microsoft_info.csv** into a pandas DataFrame. This file contains information about the company Microsoft including the country the headquarters is located, the website link but also financial information.\n",
    "\n",
    "First, you should preview the file using a shell command in order to find out the used delimiter, and other properties of this file.\n",
    "\n",
    "Then, you should use function read_csv to read the data into a DataFrame. The resulting DataFrame should have the first column as index."
   ]
  },
  {
   "cell_type": "code",
   "execution_count": 34,
   "metadata": {},
   "outputs": [
    {
     "name": "stdout",
     "output_type": "stream",
     "text": [
      "Key,Value\r",
      "\r\n",
      "Zip,98052-6399\r",
      "\r\n",
      "Sector,Technology\r",
      "\r\n",
      "Full time employees,221 K\r",
      "\r\n",
      "City,Redmond\r",
      "\r\n",
      "Phone,425 882 8080\r",
      "\r\n",
      "State,WA\r",
      "\r\n",
      "Country,United States\r",
      "\r\n",
      "Website,https://www.microsoft.com\r",
      "\r\n",
      "Max age,1\r",
      "\r\n",
      "Address,One Microsoft Way\r",
      "\r\n",
      "Fax,425 706 7329\r",
      "\r\n",
      "Industry,Software—Infrastructure\r",
      "\r\n",
      "Ebitda margins,0.494\r",
      "\r\n",
      "Profit margins,0.367\r",
      "\r\n",
      "Gross margins,0.684\r",
      "\r\n",
      "Operating cashflow,89.035 B\r",
      "\r\n",
      "Revenue growth,0.124\r",
      "\r\n",
      "Operating margins,0.421\r",
      "\r\n",
      "Ebitda,97.983 B\r",
      "\r\n",
      "Target low price,250\r",
      "\r\n",
      "Recommendation key,buy\r",
      "\r\n",
      "Gross profits,135.620 B\r",
      "\r\n",
      "Free cashflow,49.479 B\r",
      "\r\n",
      "Target median price,330\r",
      "\r\n",
      "Current price,277.750\r",
      "\r\n",
      "Earnings growth,0.031\r",
      "\r\n",
      "Current ratio,1.785\r",
      "\r\n",
      "Return on assets,0.149\r",
      "\r\n",
      "Number of analyst opinions,47\r",
      "\r\n",
      "Target mean price,333\r",
      "\r\n",
      "Debt to equity,47.075\r",
      "\r\n",
      "Return on equity,0.472\r",
      "\r\n",
      "Target high price,411\r",
      "\r\n",
      "Total cash,104.749 B\r",
      "\r\n",
      "Total debt,78.400 B\r",
      "\r\n",
      "Total revenue,198.270 B\r",
      "\r\n",
      "Total cash per share,14.045\r",
      "\r\n",
      "Financial currency,USD\r",
      "\r\n",
      "Revenue per share,26.450\r",
      "\r\n",
      "Quick ratio,1.567\r",
      "\r\n",
      "Recommendation mean,1.700\r",
      "\r\n",
      "Exchange,NMS\r",
      "\r\n",
      "Short name,Microsoft Corporation\r",
      "\r\n",
      "Long name,Microsoft Corporation\r",
      "\r\n",
      "Exchange timezone name,America/New_York\r",
      "\r\n",
      "Exchange timezone short name,EDT\r",
      "\r\n",
      "Is esg populated,False\r",
      "\r\n",
      "Gmt off set milliseconds,-14.400 M\r",
      "\r\n",
      "Quote type,EQUITY\r",
      "\r\n",
      "Symbol,MSFT\r",
      "\r\n",
      "Message board id,finmb_21835\r",
      "\r\n",
      "Market,us_market\r",
      "\r\n",
      "Enterprise to revenue,10.631\r",
      "\r\n",
      "Enterprise to ebitda,21.511\r",
      "\r\n",
      "52 week change,-0.082\r",
      "\r\n",
      "Forward EPS,11.930\r",
      "\r\n",
      "Shares outstanding,7.458 B\r",
      "\r\n",
      "Book value,22.313\r",
      "\r\n",
      "Shares short,38.192 M\r",
      "\r\n",
      "Shares percent shares out,0.005\r",
      "\r\n",
      "Last fiscal year end,1.657 B\r",
      "\r\n",
      "Held percent institutions,0.720\r",
      "\r\n",
      "Net income to common,72.738 B\r",
      "\r\n",
      "Trailing EPS,9.650\r",
      "\r\n",
      "Last dividend value,0.620\r",
      "\r\n",
      "Sand p52 week change,-0.078\r",
      "\r\n",
      "Price to book,12.448\r",
      "\r\n",
      "Held percent insiders,0.001\r",
      "\r\n",
      "Next fiscal year end,1.720 B\r",
      "\r\n",
      "Most recent quarter,1.657 B\r",
      "\r\n",
      "Short ratio,1.430\r",
      "\r\n",
      "Shares short previous month date,1.657 B\r",
      "\r\n",
      "Float shares,7.451 B\r",
      "\r\n",
      "Beta,0.927\r",
      "\r\n",
      "Enterprise value,2.108 T\r",
      "\r\n",
      "Price hint,2\r",
      "\r\n",
      "Last split date,2003-02-18\r",
      "\r\n",
      "Last split factor,2:1\r",
      "\r\n",
      "Last dividend date,1.661 B\r",
      "\r\n",
      "Earnings quarterly growth,0.017\r",
      "\r\n",
      "Price to sales trailing 12 months,10.448\r",
      "\r\n",
      "Date short interest,1.659 B\r",
      "\r\n",
      "PEG ratio,1.780\r",
      "\r\n",
      "Forward PE,23.282\r",
      "\r\n",
      "Short percent of float,0.005\r",
      "\r\n",
      "Shares short prior month,38.896 M\r",
      "\r\n",
      "Implied shares outstanding,0\r",
      "\r\n",
      "Previous close,286.150\r",
      "\r\n",
      "Regular market open,282.080\r",
      "\r\n",
      "Two hundred day average,293.335\r",
      "\r\n",
      "Trailing annual dividend yield,0.009\r",
      "\r\n",
      "Payout ratio,0.251\r",
      "\r\n",
      "Regular market day high,282.435\r",
      "\r\n",
      "Average daily volume 10 day,20.799 M\r",
      "\r\n",
      "Regular market previous close,286.150\r",
      "\r\n",
      "Fifty day average,267.288\r",
      "\r\n",
      "Trailing annual dividend rate,2.480\r",
      "\r\n",
      "Open,282.080\r",
      "\r\n",
      "Average volume 10 days,20.799 M\r",
      "\r\n",
      "Dividend rate,2.480\r",
      "\r\n",
      "Ex dividend date,1.661 B\r",
      "\r\n",
      "Regular market day low,277.230\r",
      "\r\n",
      "Currency,USD\r",
      "\r\n",
      "Trailing PE,28.782\r",
      "\r\n",
      "Regular market volume,24.793 M\r",
      "\r\n",
      "Market cap,2.071 T\r",
      "\r\n",
      "Average volume,26.338 M\r",
      "\r\n",
      "Day low,277.230\r",
      "\r\n",
      "Ask,0\r",
      "\r\n",
      "Ask size,1.100 K\r",
      "\r\n",
      "Volume,24.793 M\r",
      "\r\n",
      "Fifty two week high,349.670\r",
      "\r\n",
      "Five year avg dividend yield,1.230\r",
      "\r\n",
      "Fifty two week low,241.510\r",
      "\r\n",
      "Bid,0\r",
      "\r\n",
      "Tradeable,False\r",
      "\r\n",
      "Dividend yield,0.009\r",
      "\r\n",
      "Bid size,900\r",
      "\r\n",
      "Day high,282.435\r",
      "\r\n",
      "Regular market price,277.750\r",
      "\r\n",
      "Pre market price,278.180\r",
      "\r\n",
      "Logo_url,https://logo.clearbit.com/microsoft.com\r",
      "\r\n",
      "Trailing peg ratio,2.131"
     ]
    }
   ],
   "source": [
    "! cat data/exercises/microsoft_info.csv"
   ]
  },
  {
   "cell_type": "code",
   "execution_count": 37,
   "metadata": {
    "deletable": false,
    "nbgrader": {
     "grade": false,
     "grade_id": "cell-942e0590467e20d9",
     "locked": false,
     "schema_version": 3,
     "solution": true
    },
    "tags": []
   },
   "outputs": [
    {
     "data": {
      "text/html": [
       "<div>\n",
       "<style scoped>\n",
       "    .dataframe tbody tr th:only-of-type {\n",
       "        vertical-align: middle;\n",
       "    }\n",
       "\n",
       "    .dataframe tbody tr th {\n",
       "        vertical-align: top;\n",
       "    }\n",
       "\n",
       "    .dataframe thead th {\n",
       "        text-align: right;\n",
       "    }\n",
       "</style>\n",
       "<table border=\"1\" class=\"dataframe\">\n",
       "  <thead>\n",
       "    <tr style=\"text-align: right;\">\n",
       "      <th></th>\n",
       "      <th>Value</th>\n",
       "    </tr>\n",
       "    <tr>\n",
       "      <th>Key</th>\n",
       "      <th></th>\n",
       "    </tr>\n",
       "  </thead>\n",
       "  <tbody>\n",
       "    <tr>\n",
       "      <th>Zip</th>\n",
       "      <td>98052-6399</td>\n",
       "    </tr>\n",
       "    <tr>\n",
       "      <th>Sector</th>\n",
       "      <td>Technology</td>\n",
       "    </tr>\n",
       "    <tr>\n",
       "      <th>Full time employees</th>\n",
       "      <td>221 K</td>\n",
       "    </tr>\n",
       "    <tr>\n",
       "      <th>City</th>\n",
       "      <td>Redmond</td>\n",
       "    </tr>\n",
       "    <tr>\n",
       "      <th>Phone</th>\n",
       "      <td>425 882 8080</td>\n",
       "    </tr>\n",
       "    <tr>\n",
       "      <th>...</th>\n",
       "      <td>...</td>\n",
       "    </tr>\n",
       "    <tr>\n",
       "      <th>Day high</th>\n",
       "      <td>282.435</td>\n",
       "    </tr>\n",
       "    <tr>\n",
       "      <th>Regular market price</th>\n",
       "      <td>277.750</td>\n",
       "    </tr>\n",
       "    <tr>\n",
       "      <th>Pre market price</th>\n",
       "      <td>278.180</td>\n",
       "    </tr>\n",
       "    <tr>\n",
       "      <th>Logo_url</th>\n",
       "      <td>https://logo.clearbit.com/microsoft.com</td>\n",
       "    </tr>\n",
       "    <tr>\n",
       "      <th>Trailing peg ratio</th>\n",
       "      <td>2.131</td>\n",
       "    </tr>\n",
       "  </tbody>\n",
       "</table>\n",
       "<p>123 rows × 1 columns</p>\n",
       "</div>"
      ],
      "text/plain": [
       "                                                        Value\n",
       "Key                                                          \n",
       "Zip                                                98052-6399\n",
       "Sector                                             Technology\n",
       "Full time employees                                     221 K\n",
       "City                                                  Redmond\n",
       "Phone                                            425 882 8080\n",
       "...                                                       ...\n",
       "Day high                                              282.435\n",
       "Regular market price                                  277.750\n",
       "Pre market price                                      278.180\n",
       "Logo_url              https://logo.clearbit.com/microsoft.com\n",
       "Trailing peg ratio                                      2.131\n",
       "\n",
       "[123 rows x 1 columns]"
      ]
     },
     "execution_count": 37,
     "metadata": {},
     "output_type": "execute_result"
    }
   ],
   "source": [
    "# Use a shell command to preview the data\n",
    "#! cat data/exercises/microsoft_info.csv\n",
    "\n",
    "# Use function read_csv to read the data into a DataFrame\n",
    "df2 = pd.read_csv('data/exercises/microsoft_info.csv',index_col=0)\n",
    "\n",
    "df2"
   ]
  },
  {
   "cell_type": "code",
   "execution_count": 38,
   "metadata": {
    "deletable": false,
    "editable": false,
    "nbgrader": {
     "grade": true,
     "grade_id": "cell-0c275c9acaa9c74d",
     "locked": true,
     "points": 2,
     "schema_version": 3,
     "solution": false
    }
   },
   "outputs": [],
   "source": [
    "assert df2.loc['City', 'Value'] == 'Redmond', \"df2 data is wrong, the city of the headquarters is wrong.\"\n",
    "assert set(df2.columns) == {'Value'}, \"df2 data is wrong, the columns do not match what is expected.\"\n",
    "assert len(df2) == 123, \"df2 data is wrong, the length is different than expected.\"\n",
    "assert df2.index[34] == 'Total debt', \"df2 data is wrong, the positions are wrong.\"\n",
    "\n",
    "expected_hash = '99a52df3ff3d499488e2fa28150c4106a2cb5e928891a830a9aa3922b2d32160'\n",
    "assert hashlib.sha256(df2.index.name.encode()).hexdigest() == expected_hash"
   ]
  },
  {
   "cell_type": "markdown",
   "metadata": {
    "deletable": false,
    "editable": false,
    "nbgrader": {
     "grade": false,
     "grade_id": "cell-f6f9efef818e4a83",
     "locked": true,
     "schema_version": 3,
     "solution": false
    }
   },
   "source": [
    "## Q3: Read a csv file with problems\n",
    "\n",
    "Read file **data/exercises/microsoft_info_w_problems.csv** using function `read_csv`. Pay attention to the following:\n",
    "* use the first column as index\n",
    "* there are some inputs in the file that should be interpreted as NaN, make sure you select the right one when reading the file!"
   ]
  },
  {
   "cell_type": "code",
   "execution_count": 39,
   "metadata": {
    "deletable": false,
    "nbgrader": {
     "grade": false,
     "grade_id": "cell-2771b707556c08d2",
     "locked": false,
     "schema_version": 3,
     "solution": true
    }
   },
   "outputs": [
    {
     "data": {
      "text/html": [
       "<div>\n",
       "<style scoped>\n",
       "    .dataframe tbody tr th:only-of-type {\n",
       "        vertical-align: middle;\n",
       "    }\n",
       "\n",
       "    .dataframe tbody tr th {\n",
       "        vertical-align: top;\n",
       "    }\n",
       "\n",
       "    .dataframe thead th {\n",
       "        text-align: right;\n",
       "    }\n",
       "</style>\n",
       "<table border=\"1\" class=\"dataframe\">\n",
       "  <thead>\n",
       "    <tr style=\"text-align: right;\">\n",
       "      <th></th>\n",
       "      <th>Value</th>\n",
       "    </tr>\n",
       "    <tr>\n",
       "      <th>Key</th>\n",
       "      <th></th>\n",
       "    </tr>\n",
       "  </thead>\n",
       "  <tbody>\n",
       "    <tr>\n",
       "      <th>Zip</th>\n",
       "      <td>98052-6399</td>\n",
       "    </tr>\n",
       "    <tr>\n",
       "      <th>Sector</th>\n",
       "      <td>Technology</td>\n",
       "    </tr>\n",
       "    <tr>\n",
       "      <th>Full time employees</th>\n",
       "      <td>221 K</td>\n",
       "    </tr>\n",
       "    <tr>\n",
       "      <th>City</th>\n",
       "      <td>Redmond</td>\n",
       "    </tr>\n",
       "    <tr>\n",
       "      <th>Phone</th>\n",
       "      <td>425 882 8080</td>\n",
       "    </tr>\n",
       "    <tr>\n",
       "      <th>...</th>\n",
       "      <td>...</td>\n",
       "    </tr>\n",
       "    <tr>\n",
       "      <th>Day high</th>\n",
       "      <td>282.435</td>\n",
       "    </tr>\n",
       "    <tr>\n",
       "      <th>Regular market price</th>\n",
       "      <td>277.750</td>\n",
       "    </tr>\n",
       "    <tr>\n",
       "      <th>Pre market price</th>\n",
       "      <td>278.180</td>\n",
       "    </tr>\n",
       "    <tr>\n",
       "      <th>Logo_url</th>\n",
       "      <td>NaN</td>\n",
       "    </tr>\n",
       "    <tr>\n",
       "      <th>Trailing peg ratio</th>\n",
       "      <td>2.131</td>\n",
       "    </tr>\n",
       "  </tbody>\n",
       "</table>\n",
       "<p>123 rows × 1 columns</p>\n",
       "</div>"
      ],
      "text/plain": [
       "                             Value\n",
       "Key                               \n",
       "Zip                     98052-6399\n",
       "Sector                  Technology\n",
       "Full time employees          221 K\n",
       "City                       Redmond\n",
       "Phone                 425 882 8080\n",
       "...                            ...\n",
       "Day high                   282.435\n",
       "Regular market price       277.750\n",
       "Pre market price           278.180\n",
       "Logo_url                       NaN\n",
       "Trailing peg ratio           2.131\n",
       "\n",
       "[123 rows x 1 columns]"
      ]
     },
     "execution_count": 39,
     "metadata": {},
     "output_type": "execute_result"
    }
   ],
   "source": [
    "# Read file data/exercises/microsoft_info_w_problems.csv with read_csv\n",
    "df3 = pd.read_csv('data/exercises/microsoft_info_w_problems.csv',index_col=0,na_values='no-data')\n",
    "df3"
   ]
  },
  {
   "cell_type": "code",
   "execution_count": 40,
   "metadata": {
    "deletable": false,
    "editable": false,
    "nbgrader": {
     "grade": true,
     "grade_id": "cell-601b354802964776",
     "locked": true,
     "points": 2,
     "schema_version": 3,
     "solution": false
    }
   },
   "outputs": [],
   "source": [
    "assert np.isnan(df3.loc['Logo_url', 'Value']), \"df3 data is wrong, there seems to be existing NaNs.\"\n",
    "assert df3.loc['Full time employees', 'Value'] == '221 K', \"df3  data is wrong, the total amount of full time employees can't be found.\"\n",
    "assert df3.iloc[6]['Value'] == 'United States', \"df3 data is wrong, the positions of the object are wrong.\"\n",
    "\n",
    "expected_hash = '99a52df3ff3d499488e2fa28150c4106a2cb5e928891a830a9aa3922b2d32160'\n",
    "assert hashlib.sha256(df3.index.name.encode()).hexdigest() == expected_hash"
   ]
  },
  {
   "cell_type": "markdown",
   "metadata": {
    "deletable": false,
    "editable": false,
    "nbgrader": {
     "grade": false,
     "grade_id": "cell-5cfd5a97b1c49a0e",
     "locked": true,
     "schema_version": 3,
     "solution": false
    }
   },
   "source": [
    "## Q4: Repair a csv file after importing\n",
    "Read a new file **data/exercises/countries_gdp.csv** using function `csv.reader()` which includes information about the GDP of several countries from 2000 Q1 until 2022 Q3. The GDP stands for \"_Gross Domestic Product\" and is \"the standard measure of the value added created through the production of goods and services in a country during a certain period_\" (Source: Wikipedia). Be sure you don't miss any lines with relevant information! \n",
    "\n",
    "* use csv module to import everything to a list of lists\n",
    "* create a df with information from the first four columns (countries)\n",
    "* format the columns with the right type (don't forget to change the date from a string)\n",
    "* set the index of the df to the `date`"
   ]
  },
  {
   "cell_type": "code",
   "execution_count": 41,
   "metadata": {},
   "outputs": [],
   "source": [
    "#!cat 'data/exercises/microsoft_info_w_problems.csv'\n",
    "import os\n",
    "\n",
    "def filepath(filename):\n",
    "    return os.path.join('data', 'exercises', filename)"
   ]
  },
  {
   "cell_type": "code",
   "execution_count": 42,
   "metadata": {
    "deletable": false,
    "nbgrader": {
     "grade": false,
     "grade_id": "cell-119041388e17fb72",
     "locked": false,
     "schema_version": 3,
     "solution": true
    }
   },
   "outputs": [],
   "source": [
    "# Read file data/exercises/microsoft_info_w_problems.csv using csv.reader() and add result to\n",
    "f = open(filepath('countries_gdp.csv'), 'r' )\n",
    "\n",
    "\n",
    "n_elements = 5\n",
    "\n",
    "csv_list = list(csv.reader(f))\n",
    "csv_list = [i[:n_elements] for i in csv_list]\n",
    "# create a dataframe using the line list with only 4 columns (countries)\n",
    "df=pd.DataFrame(csv_list[1:], columns=csv_list[0] )\n",
    "\n",
    "# replace empty values with nan (np.nan)\n",
    "df_=df.replace('' , np.nan ).copy()\n",
    "\n",
    "\n",
    "# set types per dataframe column, including the date (always use float64 when floats are needed)\n",
    "# YOUR CODE HERE\n",
    "\n",
    "df_['date'] = pd.to_datetime(df['date'])\n",
    "\n",
    "df_['France_GDP'] = df_['France_GDP'].astype('float64')\n",
    "df_['Germany_GDP'] = df_['Germany_GDP'].astype('float64')\n",
    "df_['Italy_GDP'] = df_['Italy_GDP'].astype('float64')\n",
    "\n",
    "# set a new index to the dataframe\n",
    "f.close()\n",
    "df4=df_.set_index('date')"
   ]
  },
  {
   "cell_type": "code",
   "execution_count": 43,
   "metadata": {
    "deletable": false,
    "editable": false,
    "nbgrader": {
     "grade": true,
     "grade_id": "cell-a42299f9047590d5",
     "locked": true,
     "points": 2,
     "schema_version": 3,
     "solution": false
    }
   },
   "outputs": [],
   "source": [
    "assert np.isnan(df4.loc['2022-04-01', 'Netherlands_GDP']), \"df4 content is wrong\"\n",
    "assert df4.loc['2001-01-01', 'France_GDP'] == 380.839, \"df4 content is wrong\"\n",
    "\n",
    "mean_germany_gdp = df4['Germany_GDP'].mean()\n",
    "assert math.isclose(689.10, mean_germany_gdp, rel_tol=1e-3), \"df4 content is wrong\"\n",
    "\n",
    "assert df4['Italy_GDP'].dtype == np.float64, \"df4 types are wrong\"\n",
    "assert df4.index.dtype == np.dtype('<M8[ns]'), \"df4 types are wrong\"\n",
    "\n",
    "expected_hash = '0e87632cd46bd4907c516317eb6d81fe0f921a23c7643018f21292894b470681'\n",
    "assert hashlib.sha256(df4.index.name.encode()).hexdigest() == expected_hash"
   ]
  },
  {
   "cell_type": "markdown",
   "metadata": {
    "deletable": false,
    "editable": false,
    "nbgrader": {
     "grade": false,
     "grade_id": "cell-389bc42fe462c70e",
     "locked": true,
     "schema_version": 3,
     "solution": false
    }
   },
   "source": [
    "## Q5: Read a JSON file\n",
    "\n",
    "Read file **data/exercises/portugal_production_of_electricity_gwh.json**."
   ]
  },
  {
   "cell_type": "code",
   "execution_count": 60,
   "metadata": {},
   "outputs": [
    {
     "name": "stdout",
     "output_type": "stream",
     "text": [
      "{\"schema\":{\"fields\":[{\"name\":\"index\",\"type\":\"integer\"},{\"name\":\"Year\",\"type\":\"integer\"},{\"name\":\"Total\",\"type\":\"integer\"},{\"name\":\"Total renewables\",\"type\":\"integer\"},{\"name\":\"Hydropower > 10MW\",\"type\":\"integer\"},{\"name\":\"Hydropower < 10MW\",\"type\":\"integer\"},{\"name\":\"Biomass\",\"type\":\"integer\"},{\"name\":\"Windpower\",\"type\":\"integer\"},{\"name\":\"Geothermal power\",\"type\":\"integer\"},{\"name\":\"Photovoltaic\",\"type\":\"integer\"}],\"primaryKey\":[\"index\"],\"pandas_version\":\"0.20.0\"},\"data\":[{\"index\":0,\"Year\":1995,\"Total\":33264,\"Total renewables\":9501,\"Hydropower > 10MW\":7962,\"Hydropower < 10MW\":492,\"Biomass\":988,\"Windpower\":16,\"Geothermal power\":42,\"Photovoltaic\":1},{\"index\":1,\"Year\":1996,\"Total\":34520,\"Total renewables\":15895,\"Hydropower > 10MW\":14007,\"Hydropower < 10MW\":658,\"Biomass\":959,\"Windpower\":21,\"Geothermal power\":49,\"Photovoltaic\":1},{\"index\":2,\"Year\":1997,\"Total\":34207,\"Total renewables\":14301,\"Hydropower > 10MW\":12537,\"Hydropower < 10MW\":638,\"Biomass\":1036,\"Windpower\":38,\"Geothermal power\":51,\"Photovoltaic\":1},{\"index\":3,\"Year\":1998,\"Total\":38984,\"Total renewables\":14224,\"Hydropower > 10MW\":12488,\"Hydropower < 10MW\":566,\"Biomass\":1022,\"Windpower\":89,\"Geothermal power\":58,\"Photovoltaic\":1},{\"index\":4,\"Year\":1999,\"Total\":43287,\"Total renewables\":8915,\"Hydropower > 10MW\":7042,\"Hydropower < 10MW\":589,\"Biomass\":1081,\"Windpower\":122,\"Geothermal power\":80,\"Photovoltaic\":1},{\"index\":5,\"Year\":2000,\"Total\":43764,\"Total renewables\":13260,\"Hydropower > 10MW\":11040,\"Hydropower < 10MW\":675,\"Biomass\":1296,\"Windpower\":168,\"Geothermal power\":80,\"Photovoltaic\":1},{\"index\":6,\"Year\":2001,\"Total\":46509,\"Total renewables\":16083,\"Hydropower > 10MW\":13605,\"Hydropower < 10MW\":770,\"Biomass\":1345,\"Windpower\":256,\"Geothermal power\":105,\"Photovoltaic\":2},{\"index\":7,\"Year\":2002,\"Total\":46107,\"Total renewables\":10190,\"Hydropower > 10MW\":7551,\"Hydropower < 10MW\":706,\"Biomass\":1473,\"Windpower\":362,\"Geothermal power\":96,\"Photovoltaic\":2},{\"index\":8,\"Year\":2003,\"Total\":46852,\"Total renewables\":18037,\"Hydropower > 10MW\":15163,\"Hydropower < 10MW\":891,\"Biomass\":1394,\"Windpower\":496,\"Geothermal power\":90,\"Photovoltaic\":3},{\"index\":9,\"Year\":2004,\"Total\":45105,\"Total renewables\":12597,\"Hydropower > 10MW\":9570,\"Hydropower < 10MW\":577,\"Biomass\":1547,\"Windpower\":816,\"Geothermal power\":84,\"Photovoltaic\":3},{\"index\":10,\"Year\":2005,\"Total\":46575,\"Total renewables\":8616,\"Hydropower > 10MW\":4737,\"Hydropower < 10MW\":381,\"Biomass\":1651,\"Windpower\":1773,\"Geothermal power\":71,\"Photovoltaic\":3},{\"index\":11,\"Year\":2006,\"Total\":49041,\"Total renewables\":16187,\"Hydropower > 10MW\":10633,\"Hydropower < 10MW\":834,\"Biomass\":1704,\"Windpower\":2926,\"Geothermal power\":85,\"Photovoltaic\":5},{\"index\":12,\"Year\":2007,\"Total\":47253,\"Total renewables\":16593,\"Hydropower > 10MW\":9927,\"Hydropower < 10MW\":522,\"Biomass\":1882,\"Windpower\":4037,\"Geothermal power\":201,\"Photovoltaic\":24},{\"index\":13,\"Year\":2008,\"Total\":45969,\"Total renewables\":15140,\"Hydropower > 10MW\":6781,\"Hydropower < 10MW\":517,\"Biomass\":1852,\"Windpower\":5757,\"Geothermal power\":192,\"Photovoltaic\":41},{\"index\":14,\"Year\":2009,\"Total\":50207,\"Total renewables\":19017,\"Hydropower > 10MW\":8108,\"Hydropower < 10MW\":901,\"Biomass\":2087,\"Windpower\":7577,\"Geothermal power\":184,\"Photovoltaic\":160},{\"index\":15,\"Year\":2010,\"Total\":54093,\"Total renewables\":28755,\"Hydropower > 10MW\":15459,\"Hydropower < 10MW\":1088,\"Biomass\":2614,\"Windpower\":9182,\"Geothermal power\":197,\"Photovoltaic\":215},{\"index\":16,\"Year\":2011,\"Total\":52465,\"Total renewables\":24691,\"Hydropower > 10MW\":11294,\"Hydropower < 10MW\":820,\"Biomass\":2923,\"Windpower\":9162,\"Geothermal power\":210,\"Photovoltaic\":282},{\"index\":17,\"Year\":2012,\"Total\":46614,\"Total renewables\":20410,\"Hydropower > 10MW\":6093,\"Hydropower < 10MW\":567,\"Biomass\":2951,\"Windpower\":10260,\"Geothermal power\":146,\"Photovoltaic\":393},{\"index\":18,\"Year\":2013,\"Total\":51673,\"Total renewables\":30610,\"Hydropower > 10MW\":13701,\"Hydropower < 10MW\":1167,\"Biomass\":3051,\"Windpower\":12015,\"Geothermal power\":197,\"Photovoltaic\":479},{\"index\":19,\"Year\":2014,\"Total\":52802,\"Total renewables\":32405,\"Hydropower > 10MW\":15071,\"Hydropower < 10MW\":1341,\"Biomass\":3049,\"Windpower\":12111,\"Geothermal power\":205,\"Photovoltaic\":627},{\"index\":20,\"Year\":2015,\"Total\":52423,\"Total renewables\":25514,\"Hydropower > 10MW\":9048,\"Hydropower < 10MW\":752,\"Biomass\":3104,\"Windpower\":11608,\"Geothermal power\":204,\"Photovoltaic\":799},{\"index\":21,\"Year\":2016,\"Total\":60279,\"Total renewables\":33448,\"Hydropower > 10MW\":15689,\"Hydropower < 10MW\":1221,\"Biomass\":3070,\"Windpower\":12474,\"Geothermal power\":172,\"Photovoltaic\":822},{\"index\":22,\"Year\":2017,\"Total\":59432,\"Total renewables\":24309,\"Hydropower > 10MW\":7009,\"Hydropower < 10MW\":623,\"Biomass\":3220,\"Windpower\":12248,\"Geothermal power\":217,\"Photovoltaic\":992}]}"
     ]
    }
   ],
   "source": [
    "! cat data/exercises/portugal_production_of_electricity_gwh.json"
   ]
  },
  {
   "cell_type": "code",
   "execution_count": 50,
   "metadata": {},
   "outputs": [
    {
     "name": "stdout",
     "output_type": "stream",
     "text": [
      "Sorry, split orientation doesn't work for this json file... Mixing dicts with non-Series may lead to ambiguous ordering.\n"
     ]
    }
   ],
   "source": [
    "# split orientation doesn't match our json file\n",
    "try:\n",
    "    pd.read_json(os.path.join('data', 'exercises', 'portugal_production_of_electricity_gwh.json'))\n",
    "except Exception as e:\n",
    "    print(\"Sorry, split orientation doesn't work for this json file...\", e)"
   ]
  },
  {
   "cell_type": "code",
   "execution_count": 70,
   "metadata": {
    "deletable": false,
    "nbgrader": {
     "grade": false,
     "grade_id": "cell-5c2125479f7e50e5",
     "locked": false,
     "schema_version": 3,
     "solution": true
    }
   },
   "outputs": [
    {
     "data": {
      "text/html": [
       "<div>\n",
       "<style scoped>\n",
       "    .dataframe tbody tr th:only-of-type {\n",
       "        vertical-align: middle;\n",
       "    }\n",
       "\n",
       "    .dataframe tbody tr th {\n",
       "        vertical-align: top;\n",
       "    }\n",
       "\n",
       "    .dataframe thead th {\n",
       "        text-align: right;\n",
       "    }\n",
       "</style>\n",
       "<table border=\"1\" class=\"dataframe\">\n",
       "  <thead>\n",
       "    <tr style=\"text-align: right;\">\n",
       "      <th></th>\n",
       "      <th>Year</th>\n",
       "      <th>Total</th>\n",
       "      <th>Total renewables</th>\n",
       "      <th>Hydropower &gt; 10MW</th>\n",
       "      <th>Hydropower &lt; 10MW</th>\n",
       "      <th>Biomass</th>\n",
       "      <th>Windpower</th>\n",
       "      <th>Geothermal power</th>\n",
       "      <th>Photovoltaic</th>\n",
       "    </tr>\n",
       "  </thead>\n",
       "  <tbody>\n",
       "    <tr>\n",
       "      <th>0</th>\n",
       "      <td>1995</td>\n",
       "      <td>33264</td>\n",
       "      <td>9501</td>\n",
       "      <td>7962</td>\n",
       "      <td>492</td>\n",
       "      <td>988</td>\n",
       "      <td>16</td>\n",
       "      <td>42</td>\n",
       "      <td>1</td>\n",
       "    </tr>\n",
       "    <tr>\n",
       "      <th>1</th>\n",
       "      <td>1996</td>\n",
       "      <td>34520</td>\n",
       "      <td>15895</td>\n",
       "      <td>14007</td>\n",
       "      <td>658</td>\n",
       "      <td>959</td>\n",
       "      <td>21</td>\n",
       "      <td>49</td>\n",
       "      <td>1</td>\n",
       "    </tr>\n",
       "    <tr>\n",
       "      <th>2</th>\n",
       "      <td>1997</td>\n",
       "      <td>34207</td>\n",
       "      <td>14301</td>\n",
       "      <td>12537</td>\n",
       "      <td>638</td>\n",
       "      <td>1036</td>\n",
       "      <td>38</td>\n",
       "      <td>51</td>\n",
       "      <td>1</td>\n",
       "    </tr>\n",
       "    <tr>\n",
       "      <th>3</th>\n",
       "      <td>1998</td>\n",
       "      <td>38984</td>\n",
       "      <td>14224</td>\n",
       "      <td>12488</td>\n",
       "      <td>566</td>\n",
       "      <td>1022</td>\n",
       "      <td>89</td>\n",
       "      <td>58</td>\n",
       "      <td>1</td>\n",
       "    </tr>\n",
       "    <tr>\n",
       "      <th>4</th>\n",
       "      <td>1999</td>\n",
       "      <td>43287</td>\n",
       "      <td>8915</td>\n",
       "      <td>7042</td>\n",
       "      <td>589</td>\n",
       "      <td>1081</td>\n",
       "      <td>122</td>\n",
       "      <td>80</td>\n",
       "      <td>1</td>\n",
       "    </tr>\n",
       "    <tr>\n",
       "      <th>5</th>\n",
       "      <td>2000</td>\n",
       "      <td>43764</td>\n",
       "      <td>13260</td>\n",
       "      <td>11040</td>\n",
       "      <td>675</td>\n",
       "      <td>1296</td>\n",
       "      <td>168</td>\n",
       "      <td>80</td>\n",
       "      <td>1</td>\n",
       "    </tr>\n",
       "    <tr>\n",
       "      <th>6</th>\n",
       "      <td>2001</td>\n",
       "      <td>46509</td>\n",
       "      <td>16083</td>\n",
       "      <td>13605</td>\n",
       "      <td>770</td>\n",
       "      <td>1345</td>\n",
       "      <td>256</td>\n",
       "      <td>105</td>\n",
       "      <td>2</td>\n",
       "    </tr>\n",
       "    <tr>\n",
       "      <th>7</th>\n",
       "      <td>2002</td>\n",
       "      <td>46107</td>\n",
       "      <td>10190</td>\n",
       "      <td>7551</td>\n",
       "      <td>706</td>\n",
       "      <td>1473</td>\n",
       "      <td>362</td>\n",
       "      <td>96</td>\n",
       "      <td>2</td>\n",
       "    </tr>\n",
       "    <tr>\n",
       "      <th>8</th>\n",
       "      <td>2003</td>\n",
       "      <td>46852</td>\n",
       "      <td>18037</td>\n",
       "      <td>15163</td>\n",
       "      <td>891</td>\n",
       "      <td>1394</td>\n",
       "      <td>496</td>\n",
       "      <td>90</td>\n",
       "      <td>3</td>\n",
       "    </tr>\n",
       "    <tr>\n",
       "      <th>9</th>\n",
       "      <td>2004</td>\n",
       "      <td>45105</td>\n",
       "      <td>12597</td>\n",
       "      <td>9570</td>\n",
       "      <td>577</td>\n",
       "      <td>1547</td>\n",
       "      <td>816</td>\n",
       "      <td>84</td>\n",
       "      <td>3</td>\n",
       "    </tr>\n",
       "    <tr>\n",
       "      <th>10</th>\n",
       "      <td>2005</td>\n",
       "      <td>46575</td>\n",
       "      <td>8616</td>\n",
       "      <td>4737</td>\n",
       "      <td>381</td>\n",
       "      <td>1651</td>\n",
       "      <td>1773</td>\n",
       "      <td>71</td>\n",
       "      <td>3</td>\n",
       "    </tr>\n",
       "    <tr>\n",
       "      <th>11</th>\n",
       "      <td>2006</td>\n",
       "      <td>49041</td>\n",
       "      <td>16187</td>\n",
       "      <td>10633</td>\n",
       "      <td>834</td>\n",
       "      <td>1704</td>\n",
       "      <td>2926</td>\n",
       "      <td>85</td>\n",
       "      <td>5</td>\n",
       "    </tr>\n",
       "    <tr>\n",
       "      <th>12</th>\n",
       "      <td>2007</td>\n",
       "      <td>47253</td>\n",
       "      <td>16593</td>\n",
       "      <td>9927</td>\n",
       "      <td>522</td>\n",
       "      <td>1882</td>\n",
       "      <td>4037</td>\n",
       "      <td>201</td>\n",
       "      <td>24</td>\n",
       "    </tr>\n",
       "    <tr>\n",
       "      <th>13</th>\n",
       "      <td>2008</td>\n",
       "      <td>45969</td>\n",
       "      <td>15140</td>\n",
       "      <td>6781</td>\n",
       "      <td>517</td>\n",
       "      <td>1852</td>\n",
       "      <td>5757</td>\n",
       "      <td>192</td>\n",
       "      <td>41</td>\n",
       "    </tr>\n",
       "    <tr>\n",
       "      <th>14</th>\n",
       "      <td>2009</td>\n",
       "      <td>50207</td>\n",
       "      <td>19017</td>\n",
       "      <td>8108</td>\n",
       "      <td>901</td>\n",
       "      <td>2087</td>\n",
       "      <td>7577</td>\n",
       "      <td>184</td>\n",
       "      <td>160</td>\n",
       "    </tr>\n",
       "    <tr>\n",
       "      <th>15</th>\n",
       "      <td>2010</td>\n",
       "      <td>54093</td>\n",
       "      <td>28755</td>\n",
       "      <td>15459</td>\n",
       "      <td>1088</td>\n",
       "      <td>2614</td>\n",
       "      <td>9182</td>\n",
       "      <td>197</td>\n",
       "      <td>215</td>\n",
       "    </tr>\n",
       "    <tr>\n",
       "      <th>16</th>\n",
       "      <td>2011</td>\n",
       "      <td>52465</td>\n",
       "      <td>24691</td>\n",
       "      <td>11294</td>\n",
       "      <td>820</td>\n",
       "      <td>2923</td>\n",
       "      <td>9162</td>\n",
       "      <td>210</td>\n",
       "      <td>282</td>\n",
       "    </tr>\n",
       "    <tr>\n",
       "      <th>17</th>\n",
       "      <td>2012</td>\n",
       "      <td>46614</td>\n",
       "      <td>20410</td>\n",
       "      <td>6093</td>\n",
       "      <td>567</td>\n",
       "      <td>2951</td>\n",
       "      <td>10260</td>\n",
       "      <td>146</td>\n",
       "      <td>393</td>\n",
       "    </tr>\n",
       "    <tr>\n",
       "      <th>18</th>\n",
       "      <td>2013</td>\n",
       "      <td>51673</td>\n",
       "      <td>30610</td>\n",
       "      <td>13701</td>\n",
       "      <td>1167</td>\n",
       "      <td>3051</td>\n",
       "      <td>12015</td>\n",
       "      <td>197</td>\n",
       "      <td>479</td>\n",
       "    </tr>\n",
       "    <tr>\n",
       "      <th>19</th>\n",
       "      <td>2014</td>\n",
       "      <td>52802</td>\n",
       "      <td>32405</td>\n",
       "      <td>15071</td>\n",
       "      <td>1341</td>\n",
       "      <td>3049</td>\n",
       "      <td>12111</td>\n",
       "      <td>205</td>\n",
       "      <td>627</td>\n",
       "    </tr>\n",
       "    <tr>\n",
       "      <th>20</th>\n",
       "      <td>2015</td>\n",
       "      <td>52423</td>\n",
       "      <td>25514</td>\n",
       "      <td>9048</td>\n",
       "      <td>752</td>\n",
       "      <td>3104</td>\n",
       "      <td>11608</td>\n",
       "      <td>204</td>\n",
       "      <td>799</td>\n",
       "    </tr>\n",
       "    <tr>\n",
       "      <th>21</th>\n",
       "      <td>2016</td>\n",
       "      <td>60279</td>\n",
       "      <td>33448</td>\n",
       "      <td>15689</td>\n",
       "      <td>1221</td>\n",
       "      <td>3070</td>\n",
       "      <td>12474</td>\n",
       "      <td>172</td>\n",
       "      <td>822</td>\n",
       "    </tr>\n",
       "    <tr>\n",
       "      <th>22</th>\n",
       "      <td>2017</td>\n",
       "      <td>59432</td>\n",
       "      <td>24309</td>\n",
       "      <td>7009</td>\n",
       "      <td>623</td>\n",
       "      <td>3220</td>\n",
       "      <td>12248</td>\n",
       "      <td>217</td>\n",
       "      <td>992</td>\n",
       "    </tr>\n",
       "  </tbody>\n",
       "</table>\n",
       "</div>"
      ],
      "text/plain": [
       "    Year  Total  Total renewables  Hydropower > 10MW  Hydropower < 10MW  \\\n",
       "0   1995  33264              9501               7962                492   \n",
       "1   1996  34520             15895              14007                658   \n",
       "2   1997  34207             14301              12537                638   \n",
       "3   1998  38984             14224              12488                566   \n",
       "4   1999  43287              8915               7042                589   \n",
       "5   2000  43764             13260              11040                675   \n",
       "6   2001  46509             16083              13605                770   \n",
       "7   2002  46107             10190               7551                706   \n",
       "8   2003  46852             18037              15163                891   \n",
       "9   2004  45105             12597               9570                577   \n",
       "10  2005  46575              8616               4737                381   \n",
       "11  2006  49041             16187              10633                834   \n",
       "12  2007  47253             16593               9927                522   \n",
       "13  2008  45969             15140               6781                517   \n",
       "14  2009  50207             19017               8108                901   \n",
       "15  2010  54093             28755              15459               1088   \n",
       "16  2011  52465             24691              11294                820   \n",
       "17  2012  46614             20410               6093                567   \n",
       "18  2013  51673             30610              13701               1167   \n",
       "19  2014  52802             32405              15071               1341   \n",
       "20  2015  52423             25514               9048                752   \n",
       "21  2016  60279             33448              15689               1221   \n",
       "22  2017  59432             24309               7009                623   \n",
       "\n",
       "    Biomass  Windpower  Geothermal power  Photovoltaic  \n",
       "0       988         16                42             1  \n",
       "1       959         21                49             1  \n",
       "2      1036         38                51             1  \n",
       "3      1022         89                58             1  \n",
       "4      1081        122                80             1  \n",
       "5      1296        168                80             1  \n",
       "6      1345        256               105             2  \n",
       "7      1473        362                96             2  \n",
       "8      1394        496                90             3  \n",
       "9      1547        816                84             3  \n",
       "10     1651       1773                71             3  \n",
       "11     1704       2926                85             5  \n",
       "12     1882       4037               201            24  \n",
       "13     1852       5757               192            41  \n",
       "14     2087       7577               184           160  \n",
       "15     2614       9182               197           215  \n",
       "16     2923       9162               210           282  \n",
       "17     2951      10260               146           393  \n",
       "18     3051      12015               197           479  \n",
       "19     3049      12111               205           627  \n",
       "20     3104      11608               204           799  \n",
       "21     3070      12474               172           822  \n",
       "22     3220      12248               217           992  "
      ]
     },
     "execution_count": 70,
     "metadata": {},
     "output_type": "execute_result"
    }
   ],
   "source": [
    "# Read file data/exercises/portugal_production_of_electricity_gwh.json with read_json\n",
    "\n",
    "df5 = pd.read_json(os.path.join('data', 'exercises', 'portugal_production_of_electricity_gwh.json'),typ='frame',orient='table')\n",
    "\n",
    "df5"
   ]
  },
  {
   "cell_type": "code",
   "execution_count": 71,
   "metadata": {
    "deletable": false,
    "editable": false,
    "nbgrader": {
     "grade": true,
     "grade_id": "cell-3f085fa2cdad9319",
     "locked": true,
     "points": 2,
     "schema_version": 3,
     "solution": false
    }
   },
   "outputs": [],
   "source": [
    "assert len(df5) == 23\n",
    "assert set(df5.columns) == {'Biomass', 'Geothermal power', 'Hydropower < 10MW', 'Hydropower > 10MW', \n",
    "                           'Photovoltaic', 'Total','Total renewables','Windpower','Year'}, \"df5 columns are wrong\"\n",
    "\n",
    "expected_hash = '48beaa4bb16f0656bb4e4d3abb5da6ff6a50b52be037354f8c33455a7534102e'\n",
    "assert hashlib.sha256(str(df5.loc[:,'Hydropower > 10MW'].sum()).encode()).hexdigest() == expected_hash, \"df5 content is wrong\""
   ]
  },
  {
   "cell_type": "markdown",
   "metadata": {
    "deletable": false,
    "editable": false,
    "nbgrader": {
     "grade": false,
     "grade_id": "cell-4d4b970f55b3e427",
     "locked": true,
     "schema_version": 3,
     "solution": false
    }
   },
   "source": [
    "## Q6: Read an Excel file\n",
    "\n",
    "Read file **data/exercises/portugal_gas_emissions_per_year.xlsx** using function read_excel. Pay attention to the following:\n",
    "\n",
    "* you should grab the table \"Series\" in sheet \"metadata\"\n",
    "* use column 'Serie' as index\n",
    "* make sure you keep only the rows and columns with data\n",
    "* set the variable distinct_scales with the number of distinct scales found in the table"
   ]
  },
  {
   "cell_type": "code",
   "execution_count": null,
   "metadata": {
    "deletable": false,
    "nbgrader": {
     "grade": false,
     "grade_id": "cell-017a7c31b0ddc38e",
     "locked": false,
     "schema_version": 3,
     "solution": true
    }
   },
   "outputs": [],
   "source": [
    "# Read file data/exercises/portugal_gas_emissions_per_year.xlsx with read_excel\n",
    "# df6 = read_excel(...)\n",
    "# YOUR CODE HERE\n",
    "raise NotImplementedError()\n",
    "\n",
    "#distinct_scales = ...\n",
    "# YOUR CODE HERE\n",
    "raise NotImplementedError()"
   ]
  },
  {
   "cell_type": "code",
   "execution_count": null,
   "metadata": {
    "deletable": false,
    "editable": false,
    "nbgrader": {
     "grade": true,
     "grade_id": "cell-91d5f07e40585680",
     "locked": true,
     "points": 2,
     "schema_version": 3,
     "solution": false
    }
   },
   "outputs": [],
   "source": [
    "assert distinct_scales == 2\n",
    "assert isinstance(df6, pd.DataFrame)\n",
    "expected_hash = '60c3ad36f77e7366103fe36a3f551a0cde7d64e26d3102ddb8b953d6208a6006'\n",
    "assert hashlib.sha256(\n",
    "        df6.loc[\n",
    "            df6.index==\"Nitrogen oxides\", \n",
    "            \"Measure Unit\"][0].encode()\n",
    "    ).hexdigest() == expected_hash, \"df6 is wrong\""
   ]
  },
  {
   "cell_type": "markdown",
   "metadata": {
    "deletable": false,
    "editable": false,
    "nbgrader": {
     "grade": false,
     "grade_id": "cell-4a7407517d4d92c3",
     "locked": true,
     "schema_version": 3,
     "solution": false
    }
   },
   "source": [
    "## Q7: Find the encoding of a file\n",
    "\n",
    "Find the encoding used in file **data/exercises/cities.csv**, using the method that was shown in the Learning Units.\n",
    "\n",
    "Then, read the data into a DataFrame, using the read_csv method and find the `City` characters that has distance equal to 2377."
   ]
  },
  {
   "cell_type": "code",
   "execution_count": null,
   "metadata": {
    "deletable": false,
    "nbgrader": {
     "grade": false,
     "grade_id": "cell-bd6944fd63bb38d8",
     "locked": false,
     "schema_version": 3,
     "solution": true
    }
   },
   "outputs": [],
   "source": [
    "# Find the encoding of file data/exercises/cities.csv\n",
    "# encoding = ...\n",
    "# YOUR CODE HERE\n",
    "raise NotImplementedError()\n",
    "# Read the file into a DataFrame\n",
    "# df7 = ...\n",
    "# YOUR CODE HERE\n",
    "raise NotImplementedError()\n",
    "\n",
    "# Find the name of the city with distance = 7503\n",
    "# city_found = .... (assign a string)\n",
    "# YOUR CODE HERE\n",
    "raise NotImplementedError()"
   ]
  },
  {
   "cell_type": "code",
   "execution_count": null,
   "metadata": {
    "deletable": false,
    "editable": false,
    "nbgrader": {
     "grade": true,
     "grade_id": "cell-687fb83c97e03355",
     "locked": true,
     "points": 2,
     "schema_version": 3,
     "solution": false
    }
   },
   "outputs": [],
   "source": [
    "assert isinstance(df7, pd.DataFrame)\n",
    "\n",
    "expected_hash_1 = '969aef39a1d4cb1c5928c774cd7a4e3ccfc064a18fbd43a70193a2631d8a122d'\n",
    "assert hashlib.sha256(encoding.encode()).hexdigest() == expected_hash_1, \"encoding is wrong\"\n",
    "\n",
    "expected_hash_2 = '8086d7adc029756c1b9094df64f6e79017dcc5a99c3c5e55b47beede11179a2b'\n",
    "assert hashlib.sha256(city_found.encode()).hexdigest() == expected_hash_2, \"city_found is wrong\""
   ]
  },
  {
   "cell_type": "markdown",
   "metadata": {
    "deletable": false,
    "editable": false,
    "nbgrader": {
     "grade": false,
     "grade_id": "cell-d103dfae3d5e11fe",
     "locked": true,
     "schema_version": 3,
     "solution": false
    }
   },
   "source": [
    "## Q8: Import a Random Sample of a Big File\n",
    "\n",
    "Consider the file **data/exercises/world_percentage_of_literacy.tsv**. Let's imagine this file is really huge, with a lot of rows!  Read the file using a random sample of 10 rows. Count the actual lines with `wc` "
   ]
  },
  {
   "cell_type": "code",
   "execution_count": null,
   "metadata": {
    "deletable": false,
    "nbgrader": {
     "grade": false,
     "grade_id": "cell-fb39107093dd73fb",
     "locked": false,
     "schema_version": 3,
     "solution": true
    }
   },
   "outputs": [],
   "source": [
    "# Read file data/exercises/world_percentage_of_literacy.tsv with wc and save the number of lines\n",
    "# in lines_in_file (as an integer), using \n",
    "# lines_in_file = ...\n",
    "# Notice that the header is not a line..\n",
    "\n",
    "# YOUR CODE HERE\n",
    "raise NotImplementedError()\n",
    "\n",
    "# make parameter rows_to_skip equal to the lines you want to skip loading \n",
    "# don't forget: 10 rows should be fetched\n",
    "# rows_to_skip = ...\n",
    "# YOUR CODE HERE\n",
    "raise NotImplementedError()\n",
    "# Create a df8 dataframe with the sampled values\n",
    "# don't forget: you want to keep the header plus 10 rows in the new dataframe.\n",
    "# YOUR CODE HERE\n",
    "raise NotImplementedError()"
   ]
  },
  {
   "cell_type": "code",
   "execution_count": null,
   "metadata": {
    "deletable": false,
    "editable": false,
    "nbgrader": {
     "grade": true,
     "grade_id": "cell-ec15a8be42137a01",
     "locked": true,
     "points": 2,
     "schema_version": 3,
     "solution": false
    }
   },
   "outputs": [],
   "source": [
    "# getting remaining list of countries, removing rows_to_skip from the file\n",
    "df_helper = pd.read_csv( \n",
    "    'data/exercises/world_percentage_of_literacy.tsv', \n",
    "    sep='\\t',\n",
    "    header=0 \n",
    ")\n",
    "\n",
    "total_indexes = list(df_helper.index)\n",
    "for s in rows_to_skip:\n",
    "    total_indexes.remove(s-1)\n",
    "\n",
    "expected_hash = '7559ca4a957c8c82ba04781cd66a68d6022229fca0e8e88d8e487c96ee4446d0'\n",
    "assert hashlib.sha256(str(lines_in_file).encode()).hexdigest() == expected_hash, \"lines_in_file are wrong\"\n",
    "assert isinstance(df8, pd.DataFrame)\n",
    "assert list(df8['Country'])==list(df_helper.iloc[total_indexes]['Country'])\n",
    "assert df8.shape[0]==10, \"df8 size is wrong\"\n",
    "\n",
    "expected_hash = '4a44dc15364204a80fe80e9039455cc1608281820fe2b24f1e5233ade6af1dd5'\n",
    "assert  hashlib.sha256(str(df8.shape[0]).encode()).hexdigest() == expected_hash\n"
   ]
  },
  {
   "cell_type": "markdown",
   "metadata": {
    "deletable": false,
    "editable": false,
    "nbgrader": {
     "grade": false,
     "grade_id": "cell-f87e07a7b2cacd9d",
     "locked": true,
     "schema_version": 3,
     "solution": false
    }
   },
   "source": [
    "## Q9: Loading a Big File\n",
    "\n",
    "Read file **data/exercises/world_percentage_of_literacy.tsv** using chunks keep only the columns `Country` and `Gender difference`.\n",
    "Note that:\n",
    "* file should be read by chunks of 20 countries\n",
    "* the missing values for `Gender difference` should be removed (filtered in each chunk)\n",
    "* the `Gender difference` should be converted to type float (in each chunk)\n",
    "* the index should be incremental starting from 0 (i.e, you don't need to read any column as the index)\n",
    "\n",
    "At the end, calculate the average `Gender difference`\n",
    "\n",
    "Tip: Be sure you investigate the data you are about to load before doing any code."
   ]
  },
  {
   "cell_type": "code",
   "execution_count": null,
   "metadata": {
    "deletable": false,
    "nbgrader": {
     "grade": false,
     "grade_id": "cell-5106c25a705296e8",
     "locked": false,
     "schema_version": 3,
     "solution": true
    }
   },
   "outputs": [],
   "source": [
    "# Read file data/exercises/world_percentage_of_literacy.tsv\n",
    "# the chunks should be appended in a list called chunk_arr\n",
    "# YOUR CODE HERE\n",
    "raise NotImplementedError()\n",
    "\n",
    "# df9 should be the final dataframe with concatenated chunks\n",
    "# Resulting average should go on lit_avg variable\n",
    "# YOUR CODE HERE\n",
    "raise NotImplementedError()"
   ]
  },
  {
   "cell_type": "code",
   "execution_count": null,
   "metadata": {
    "deletable": false,
    "editable": false,
    "nbgrader": {
     "grade": true,
     "grade_id": "cell-f60a22c3465d5b83",
     "locked": true,
     "points": 2,
     "schema_version": 3,
     "solution": false
    }
   },
   "outputs": [],
   "source": [
    "expected_hash = 'cc63c8d6f0f9a8260d40b5c9a62d4fce5b693bab5750c90fd1f038ff64e37d6d'\n",
    "assert hashlib.sha256(str([len(c) for c in chunk_arr]).encode()).hexdigest() == expected_hash, \"error on chunk_arr sizes, did you correctly remove the missing values?\"\n",
    "\n",
    "assert df9.loc[df9['Country']=='World', 'Gender difference'].values[0] == 7.3, \"df9 data is wrong\"\n",
    "assert df9.dtypes['Country'] == object, \"df9 structure is wrong\"\n",
    "assert df9.dtypes['Gender difference'] == float, \"df9 structure is wrong\" \n",
    "\n",
    "expected_hash = 'c4d7d45402099baaea8a079580a4ef950016ef7403178f72e64ceb3738e4471d'\n",
    "assert hashlib.sha256(str(lit_avg).encode()).hexdigest() == expected_hash, \"lit_avg is wrong\""
   ]
  },
  {
   "cell_type": "markdown",
   "metadata": {
    "deletable": false,
    "editable": false,
    "nbgrader": {
     "grade": false,
     "grade_id": "cell-e990312f7cddd0b2",
     "locked": true,
     "schema_version": 3,
     "solution": false
    }
   },
   "source": [
    "## Q10: Calculate average values of `Literacy rate (all)` using chunks and avoiding a complete data frame in memory.\n",
    "\n",
    "Using chunks, read file **data/exercises/world_percentage_of_literacy.tsv**, avoid incomplete rows within `Literacy rate (all)` and calculate the average of `Literacy rate (all)` without loading all data simultaneously. \n",
    "\n",
    "Use a similar approach of the previous question but don't create any dataframe neither any list with chunks; ***Hint: Use the average definition***\n",
    "\n"
   ]
  },
  {
   "cell_type": "code",
   "execution_count": null,
   "metadata": {
    "deletable": false,
    "nbgrader": {
     "grade": false,
     "grade_id": "cell-57fd7700885246eb",
     "locked": false,
     "schema_version": 3,
     "solution": true
    }
   },
   "outputs": [],
   "source": [
    "# Read file data/exercises/world_percentage_of_literacy.tsv\n",
    "# the final average should be in the variable final_avg\n",
    "# You should increment 2 variables in each chunk and use them at the end to calculate final_avg. call them lit_a, lit_b\n",
    "# YOUR CODE HERE\n",
    "raise NotImplementedError()\n"
   ]
  },
  {
   "cell_type": "code",
   "execution_count": null,
   "metadata": {
    "deletable": false,
    "editable": false,
    "nbgrader": {
     "grade": true,
     "grade_id": "cell-0edcf1260d7886c9",
     "locked": true,
     "points": 2,
     "schema_version": 3,
     "solution": false
    }
   },
   "outputs": [],
   "source": [
    "assert math.isclose(83.24370860927154, final_avg, rel_tol=1e-1), \"final_avg is wrong\"\n",
    "assert lit_b==151 or lit_a==151, \"lit_a or lit_b is wrong\"\n",
    "assert int(lit_b) == 12569 or int(lit_a)==12569, \"lit_a or lit_b is wrong\""
   ]
  }
 ],
 "metadata": {
  "kernelspec": {
   "display_name": "Python 3 (ipykernel)",
   "language": "python",
   "name": "python3"
  },
  "language_info": {
   "codemirror_mode": {
    "name": "ipython",
    "version": 3
   },
   "file_extension": ".py",
   "mimetype": "text/x-python",
   "name": "python",
   "nbconvert_exporter": "python",
   "pygments_lexer": "ipython3",
   "version": "3.8.14"
  }
 },
 "nbformat": 4,
 "nbformat_minor": 2
}
