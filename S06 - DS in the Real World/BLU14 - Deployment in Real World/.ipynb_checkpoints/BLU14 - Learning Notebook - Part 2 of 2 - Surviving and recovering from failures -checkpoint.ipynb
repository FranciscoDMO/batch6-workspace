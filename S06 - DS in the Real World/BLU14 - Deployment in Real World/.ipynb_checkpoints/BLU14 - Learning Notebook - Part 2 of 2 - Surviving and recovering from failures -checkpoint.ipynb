{
 "cells": [
  {
   "cell_type": "markdown",
   "metadata": {},
   "source": [
    "## Surviving and recovering from failures \n",
    "\n",
    "It's time to deploy and manage our model! Now that your client is happy with your work, we'll pick up from BLU13 and provide them with a small app to use it."
   ]
  },
  {
   "cell_type": "code",
   "execution_count": 1,
   "metadata": {},
   "outputs": [],
   "source": [
    "import json\n",
    "import requests\n",
    "import numpy as np\n",
    "from uuid import uuid4\n",
    "from sklearn.metrics import precision_score, recall_score"
   ]
  },
  {
   "cell_type": "markdown",
   "metadata": {},
   "source": [
    "## Time to deploy! \n",
    "\n",
    "If you're reacting more or less like this \n",
    "\n",
    "<img src=\"media/model-deploy-unknown.png\" width=300 />\n",
    "\n",
    "do not panic, if you still haven't really internalized the last BLU, we provide you with the template code to deploy the model that we created in part 1, which you can also reuse as a starting point for the exercises. This code handles:\n",
    "\n",
    "* deserialization of our model\n",
    "* serving predictions \n",
    "* storage of observations\n",
    "* update of observations\n",
    "\n",
    "In the previous BLU you've learned how to deploy in railway, and you will want to do that to serve your app. However, for the following topics, we will focus on testing locally.\n",
    "\n",
    "<br>\n",
    "\n",
    "### Deploying locally\n",
    "\n",
    "What does this mean?\n",
    "\n",
    "Well, it means we'll launch a server in our own machine, making it available to test it there, but not available to the world. This server will be accessible to you by the URLs `127.0.0.1` or `localhost`. These are reserved so that in every machine the traffic that you send to these is looped back.\n",
    "\n",
    "\n",
    "<img src=\"media/localhost-ben.png\" width=450 />\n",
    "\n",
    "\n",
    "\n"
   ]
  },
  {
   "cell_type": "markdown",
   "metadata": {},
   "source": [
    "Start by running the server we provide under `server.py`. Open a shell tab and go to the BLU folder. Once you're there, run the following to start up the template server.\n",
    "\n",
    "```sh\n",
    "\n",
    "python server.py\n",
    "\n",
    "\n",
    "```\n",
    "\n",
    "You should see something like this if everything went well:\n",
    "\n",
    "<img src=\"media/flask-server-log.png\" width=\"100%\" />\n",
    "\n",
    "Yes, even with that scary red warning this is fine, you're ready to continue. The next thing we will do is to send some requests to our server. \n",
    "\n",
    "\n",
    "### Sending some observations\n",
    "\n",
    "If you remember correctly we used the following columns:\n",
    "\n",
    "* SubjectRaceCode\n",
    "* SubjectSexCode\n",
    "* SubjectEthnicityCode\n",
    "* StatuteReason\n",
    "* InterventionReasonCode\n",
    "* ResidentIndicator\n",
    "* SearchAuthorizationCode\n",
    "* SubjectAge\n",
    "* hour\n",
    "* day_of_week\n",
    "\n",
    "And the way we need to communicate to our server is by sending a json object such as:\n",
    "\n",
    "```json\n",
    "\n",
    "{\n",
    "  \"id\": \"your-observation-id\",\n",
    "  \"observation\": {\n",
    "     \"SubjectRaceCode\": \"W\",\n",
    "     \"SubjectSexCode\": \"F\",\n",
    "     \"SubjectEthnicityCode\": \"H\",\n",
    "     \"StatuteReason\": \"Stop sign\", \n",
    "     \"InterventionReasonCode\": \"V\", \n",
    "     \"ResidentIndicator\": False, \n",
    "     \"SearchAuthorizationCode\": \"N\",\n",
    "     \"SubjectAge\": 20,\n",
    "     \"hour\": 20,\n",
    "     \"day_of_week\": \"Tuesday\",\n",
    "   }\n",
    "}\n",
    "\n",
    "```\n",
    "\n",
    "We'll do this in 2 ways:\n",
    "\n",
    "* by using cURL requests, which you used in the previous BLU\n",
    "* by using the `requests` library from python\n",
    "\n",
    "We'll start by creating our dummy observation as JSON and print so we can use it in curl:"
   ]
  },
  {
   "cell_type": "code",
   "execution_count": 2,
   "metadata": {},
   "outputs": [
    {
     "name": "stdout",
     "output_type": "stream",
     "text": [
      "{\"id\": \"fake-observation-52edc761-e9ff-40d0-906e-b1307bebba37\", \"observation\": {\"SubjectRaceCode\": \"B\", \"SubjectSexCode\": \"M\", \"SubjectEthnicityCode\": \"N\", \"StatuteReason\": \"Stop sign\", \"InterventionReasonCode\": \"V\", \"ResidentIndicator\": false, \"SearchAuthorizationCode\": \"N\", \"SubjectAge\": 20, \"hour\": 20, \"day_of_week\": \"Tuesday\"}}\n"
     ]
    }
   ],
   "source": [
    "observation = {\n",
    "  \"id\": \"fake-observation-{}\".format(uuid4()),\n",
    "  \"observation\": {\n",
    "      \"SubjectRaceCode\": \"B\",\n",
    "      \"SubjectSexCode\": \"M\",\n",
    "      \"SubjectEthnicityCode\": \"N\",\n",
    "      \"StatuteReason\": \"Stop sign\", \n",
    "      \"InterventionReasonCode\": \"V\", \n",
    "      \"ResidentIndicator\": False, \n",
    "      \"SearchAuthorizationCode\": \"N\",\n",
    "      \"SubjectAge\": 20,\n",
    "      \"hour\": 20,\n",
    "      \"day_of_week\": \"Tuesday\",\n",
    "  }\n",
    "}\n",
    "\n",
    "print(json.dumps(observation))"
   ]
  },
  {
   "cell_type": "markdown",
   "metadata": {},
   "source": [
    "Let's copy this and prepare our curl request:\n",
    "\n",
    "\n",
    "```sh\n",
    "\n",
    "curl -X POST http://localhost:5000/predict -d '{\"id\": \"fake-observation-1bc5145b-d7b5-2688-95e8-21a378204133\", \"observation\": {\"SubjectRaceCode\": \"B\", \"SubjectSexCode\": \"M\", \"SubjectEthnicityCode\": \"N\", \"StatuteReason\": \"Stop sign\", \"InterventionReasonCode\": \"V\", \"ResidentIndicator\": false, \"SearchAuthorizationCode\": \"N\", \"SubjectAge\": 20, \"hour\": 20, \"day_of_week\": \"Tuesday\"}}'  -H \"Content-Type:application/json\"\n",
    "\n",
    "\n",
    "```\n",
    "\n",
    "**Note**: every time you run the previous cell, a different ID will be generated. You can also choose to change your id if you want to perform the request again."
   ]
  },
  {
   "cell_type": "markdown",
   "metadata": {},
   "source": [
    "If you sent the request through cURL, re-run the observation cell and let's run the same request through the requests library. This should give you the exact same probability and prediction as the curl request."
   ]
  },
  {
   "cell_type": "code",
   "execution_count": 3,
   "metadata": {},
   "outputs": [
    {
     "ename": "ConnectionError",
     "evalue": "HTTPConnectionPool(host='127.0.0.1', port=5000): Max retries exceeded with url: /predict (Caused by NewConnectionError('<urllib3.connection.HTTPConnection object at 0x7fd69454ab20>: Failed to establish a new connection: [Errno 111] Connection refused'))",
     "output_type": "error",
     "traceback": [
      "\u001b[0;31m---------------------------------------------------------------------------\u001b[0m",
      "\u001b[0;31mConnectionRefusedError\u001b[0m                    Traceback (most recent call last)",
      "File \u001b[0;32m~/.virtualenvs/slu01/lib/python3.8/site-packages/urllib3/connection.py:174\u001b[0m, in \u001b[0;36mHTTPConnection._new_conn\u001b[0;34m(self)\u001b[0m\n\u001b[1;32m    173\u001b[0m \u001b[38;5;28;01mtry\u001b[39;00m:\n\u001b[0;32m--> 174\u001b[0m     conn \u001b[38;5;241m=\u001b[39m \u001b[43mconnection\u001b[49m\u001b[38;5;241;43m.\u001b[39;49m\u001b[43mcreate_connection\u001b[49m\u001b[43m(\u001b[49m\n\u001b[1;32m    175\u001b[0m \u001b[43m        \u001b[49m\u001b[43m(\u001b[49m\u001b[38;5;28;43mself\u001b[39;49m\u001b[38;5;241;43m.\u001b[39;49m\u001b[43m_dns_host\u001b[49m\u001b[43m,\u001b[49m\u001b[43m \u001b[49m\u001b[38;5;28;43mself\u001b[39;49m\u001b[38;5;241;43m.\u001b[39;49m\u001b[43mport\u001b[49m\u001b[43m)\u001b[49m\u001b[43m,\u001b[49m\u001b[43m \u001b[49m\u001b[38;5;28;43mself\u001b[39;49m\u001b[38;5;241;43m.\u001b[39;49m\u001b[43mtimeout\u001b[49m\u001b[43m,\u001b[49m\u001b[43m \u001b[49m\u001b[38;5;241;43m*\u001b[39;49m\u001b[38;5;241;43m*\u001b[39;49m\u001b[43mextra_kw\u001b[49m\n\u001b[1;32m    176\u001b[0m \u001b[43m    \u001b[49m\u001b[43m)\u001b[49m\n\u001b[1;32m    178\u001b[0m \u001b[38;5;28;01mexcept\u001b[39;00m SocketTimeout:\n",
      "File \u001b[0;32m~/.virtualenvs/slu01/lib/python3.8/site-packages/urllib3/util/connection.py:95\u001b[0m, in \u001b[0;36mcreate_connection\u001b[0;34m(address, timeout, source_address, socket_options)\u001b[0m\n\u001b[1;32m     94\u001b[0m \u001b[38;5;28;01mif\u001b[39;00m err \u001b[38;5;129;01mis\u001b[39;00m \u001b[38;5;129;01mnot\u001b[39;00m \u001b[38;5;28;01mNone\u001b[39;00m:\n\u001b[0;32m---> 95\u001b[0m     \u001b[38;5;28;01mraise\u001b[39;00m err\n\u001b[1;32m     97\u001b[0m \u001b[38;5;28;01mraise\u001b[39;00m socket\u001b[38;5;241m.\u001b[39merror(\u001b[38;5;124m\"\u001b[39m\u001b[38;5;124mgetaddrinfo returns an empty list\u001b[39m\u001b[38;5;124m\"\u001b[39m)\n",
      "File \u001b[0;32m~/.virtualenvs/slu01/lib/python3.8/site-packages/urllib3/util/connection.py:85\u001b[0m, in \u001b[0;36mcreate_connection\u001b[0;34m(address, timeout, source_address, socket_options)\u001b[0m\n\u001b[1;32m     84\u001b[0m     sock\u001b[38;5;241m.\u001b[39mbind(source_address)\n\u001b[0;32m---> 85\u001b[0m \u001b[43msock\u001b[49m\u001b[38;5;241;43m.\u001b[39;49m\u001b[43mconnect\u001b[49m\u001b[43m(\u001b[49m\u001b[43msa\u001b[49m\u001b[43m)\u001b[49m\n\u001b[1;32m     86\u001b[0m \u001b[38;5;28;01mreturn\u001b[39;00m sock\n",
      "\u001b[0;31mConnectionRefusedError\u001b[0m: [Errno 111] Connection refused",
      "\nDuring handling of the above exception, another exception occurred:\n",
      "\u001b[0;31mNewConnectionError\u001b[0m                        Traceback (most recent call last)",
      "File \u001b[0;32m~/.virtualenvs/slu01/lib/python3.8/site-packages/urllib3/connectionpool.py:703\u001b[0m, in \u001b[0;36mHTTPConnectionPool.urlopen\u001b[0;34m(self, method, url, body, headers, retries, redirect, assert_same_host, timeout, pool_timeout, release_conn, chunked, body_pos, **response_kw)\u001b[0m\n\u001b[1;32m    702\u001b[0m \u001b[38;5;66;03m# Make the request on the httplib connection object.\u001b[39;00m\n\u001b[0;32m--> 703\u001b[0m httplib_response \u001b[38;5;241m=\u001b[39m \u001b[38;5;28;43mself\u001b[39;49m\u001b[38;5;241;43m.\u001b[39;49m\u001b[43m_make_request\u001b[49m\u001b[43m(\u001b[49m\n\u001b[1;32m    704\u001b[0m \u001b[43m    \u001b[49m\u001b[43mconn\u001b[49m\u001b[43m,\u001b[49m\n\u001b[1;32m    705\u001b[0m \u001b[43m    \u001b[49m\u001b[43mmethod\u001b[49m\u001b[43m,\u001b[49m\n\u001b[1;32m    706\u001b[0m \u001b[43m    \u001b[49m\u001b[43murl\u001b[49m\u001b[43m,\u001b[49m\n\u001b[1;32m    707\u001b[0m \u001b[43m    \u001b[49m\u001b[43mtimeout\u001b[49m\u001b[38;5;241;43m=\u001b[39;49m\u001b[43mtimeout_obj\u001b[49m\u001b[43m,\u001b[49m\n\u001b[1;32m    708\u001b[0m \u001b[43m    \u001b[49m\u001b[43mbody\u001b[49m\u001b[38;5;241;43m=\u001b[39;49m\u001b[43mbody\u001b[49m\u001b[43m,\u001b[49m\n\u001b[1;32m    709\u001b[0m \u001b[43m    \u001b[49m\u001b[43mheaders\u001b[49m\u001b[38;5;241;43m=\u001b[39;49m\u001b[43mheaders\u001b[49m\u001b[43m,\u001b[49m\n\u001b[1;32m    710\u001b[0m \u001b[43m    \u001b[49m\u001b[43mchunked\u001b[49m\u001b[38;5;241;43m=\u001b[39;49m\u001b[43mchunked\u001b[49m\u001b[43m,\u001b[49m\n\u001b[1;32m    711\u001b[0m \u001b[43m\u001b[49m\u001b[43m)\u001b[49m\n\u001b[1;32m    713\u001b[0m \u001b[38;5;66;03m# If we're going to release the connection in ``finally:``, then\u001b[39;00m\n\u001b[1;32m    714\u001b[0m \u001b[38;5;66;03m# the response doesn't need to know about the connection. Otherwise\u001b[39;00m\n\u001b[1;32m    715\u001b[0m \u001b[38;5;66;03m# it will also try to release it and we'll have a double-release\u001b[39;00m\n\u001b[1;32m    716\u001b[0m \u001b[38;5;66;03m# mess.\u001b[39;00m\n",
      "File \u001b[0;32m~/.virtualenvs/slu01/lib/python3.8/site-packages/urllib3/connectionpool.py:398\u001b[0m, in \u001b[0;36mHTTPConnectionPool._make_request\u001b[0;34m(self, conn, method, url, timeout, chunked, **httplib_request_kw)\u001b[0m\n\u001b[1;32m    397\u001b[0m     \u001b[38;5;28;01melse\u001b[39;00m:\n\u001b[0;32m--> 398\u001b[0m         \u001b[43mconn\u001b[49m\u001b[38;5;241;43m.\u001b[39;49m\u001b[43mrequest\u001b[49m\u001b[43m(\u001b[49m\u001b[43mmethod\u001b[49m\u001b[43m,\u001b[49m\u001b[43m \u001b[49m\u001b[43murl\u001b[49m\u001b[43m,\u001b[49m\u001b[43m \u001b[49m\u001b[38;5;241;43m*\u001b[39;49m\u001b[38;5;241;43m*\u001b[39;49m\u001b[43mhttplib_request_kw\u001b[49m\u001b[43m)\u001b[49m\n\u001b[1;32m    400\u001b[0m \u001b[38;5;66;03m# We are swallowing BrokenPipeError (errno.EPIPE) since the server is\u001b[39;00m\n\u001b[1;32m    401\u001b[0m \u001b[38;5;66;03m# legitimately able to close the connection after sending a valid response.\u001b[39;00m\n\u001b[1;32m    402\u001b[0m \u001b[38;5;66;03m# With this behaviour, the received response is still readable.\u001b[39;00m\n",
      "File \u001b[0;32m~/.virtualenvs/slu01/lib/python3.8/site-packages/urllib3/connection.py:239\u001b[0m, in \u001b[0;36mHTTPConnection.request\u001b[0;34m(self, method, url, body, headers)\u001b[0m\n\u001b[1;32m    238\u001b[0m     headers[\u001b[38;5;124m\"\u001b[39m\u001b[38;5;124mUser-Agent\u001b[39m\u001b[38;5;124m\"\u001b[39m] \u001b[38;5;241m=\u001b[39m _get_default_user_agent()\n\u001b[0;32m--> 239\u001b[0m \u001b[38;5;28;43msuper\u001b[39;49m\u001b[43m(\u001b[49m\u001b[43mHTTPConnection\u001b[49m\u001b[43m,\u001b[49m\u001b[43m \u001b[49m\u001b[38;5;28;43mself\u001b[39;49m\u001b[43m)\u001b[49m\u001b[38;5;241;43m.\u001b[39;49m\u001b[43mrequest\u001b[49m\u001b[43m(\u001b[49m\u001b[43mmethod\u001b[49m\u001b[43m,\u001b[49m\u001b[43m \u001b[49m\u001b[43murl\u001b[49m\u001b[43m,\u001b[49m\u001b[43m \u001b[49m\u001b[43mbody\u001b[49m\u001b[38;5;241;43m=\u001b[39;49m\u001b[43mbody\u001b[49m\u001b[43m,\u001b[49m\u001b[43m \u001b[49m\u001b[43mheaders\u001b[49m\u001b[38;5;241;43m=\u001b[39;49m\u001b[43mheaders\u001b[49m\u001b[43m)\u001b[49m\n",
      "File \u001b[0;32m/usr/lib/python3.8/http/client.py:1256\u001b[0m, in \u001b[0;36mHTTPConnection.request\u001b[0;34m(self, method, url, body, headers, encode_chunked)\u001b[0m\n\u001b[1;32m   1255\u001b[0m \u001b[38;5;124;03m\"\"\"Send a complete request to the server.\"\"\"\u001b[39;00m\n\u001b[0;32m-> 1256\u001b[0m \u001b[38;5;28;43mself\u001b[39;49m\u001b[38;5;241;43m.\u001b[39;49m\u001b[43m_send_request\u001b[49m\u001b[43m(\u001b[49m\u001b[43mmethod\u001b[49m\u001b[43m,\u001b[49m\u001b[43m \u001b[49m\u001b[43murl\u001b[49m\u001b[43m,\u001b[49m\u001b[43m \u001b[49m\u001b[43mbody\u001b[49m\u001b[43m,\u001b[49m\u001b[43m \u001b[49m\u001b[43mheaders\u001b[49m\u001b[43m,\u001b[49m\u001b[43m \u001b[49m\u001b[43mencode_chunked\u001b[49m\u001b[43m)\u001b[49m\n",
      "File \u001b[0;32m/usr/lib/python3.8/http/client.py:1302\u001b[0m, in \u001b[0;36mHTTPConnection._send_request\u001b[0;34m(self, method, url, body, headers, encode_chunked)\u001b[0m\n\u001b[1;32m   1301\u001b[0m     body \u001b[38;5;241m=\u001b[39m _encode(body, \u001b[38;5;124m'\u001b[39m\u001b[38;5;124mbody\u001b[39m\u001b[38;5;124m'\u001b[39m)\n\u001b[0;32m-> 1302\u001b[0m \u001b[38;5;28;43mself\u001b[39;49m\u001b[38;5;241;43m.\u001b[39;49m\u001b[43mendheaders\u001b[49m\u001b[43m(\u001b[49m\u001b[43mbody\u001b[49m\u001b[43m,\u001b[49m\u001b[43m \u001b[49m\u001b[43mencode_chunked\u001b[49m\u001b[38;5;241;43m=\u001b[39;49m\u001b[43mencode_chunked\u001b[49m\u001b[43m)\u001b[49m\n",
      "File \u001b[0;32m/usr/lib/python3.8/http/client.py:1251\u001b[0m, in \u001b[0;36mHTTPConnection.endheaders\u001b[0;34m(self, message_body, encode_chunked)\u001b[0m\n\u001b[1;32m   1250\u001b[0m     \u001b[38;5;28;01mraise\u001b[39;00m CannotSendHeader()\n\u001b[0;32m-> 1251\u001b[0m \u001b[38;5;28;43mself\u001b[39;49m\u001b[38;5;241;43m.\u001b[39;49m\u001b[43m_send_output\u001b[49m\u001b[43m(\u001b[49m\u001b[43mmessage_body\u001b[49m\u001b[43m,\u001b[49m\u001b[43m \u001b[49m\u001b[43mencode_chunked\u001b[49m\u001b[38;5;241;43m=\u001b[39;49m\u001b[43mencode_chunked\u001b[49m\u001b[43m)\u001b[49m\n",
      "File \u001b[0;32m/usr/lib/python3.8/http/client.py:1011\u001b[0m, in \u001b[0;36mHTTPConnection._send_output\u001b[0;34m(self, message_body, encode_chunked)\u001b[0m\n\u001b[1;32m   1010\u001b[0m \u001b[38;5;28;01mdel\u001b[39;00m \u001b[38;5;28mself\u001b[39m\u001b[38;5;241m.\u001b[39m_buffer[:]\n\u001b[0;32m-> 1011\u001b[0m \u001b[38;5;28;43mself\u001b[39;49m\u001b[38;5;241;43m.\u001b[39;49m\u001b[43msend\u001b[49m\u001b[43m(\u001b[49m\u001b[43mmsg\u001b[49m\u001b[43m)\u001b[49m\n\u001b[1;32m   1013\u001b[0m \u001b[38;5;28;01mif\u001b[39;00m message_body \u001b[38;5;129;01mis\u001b[39;00m \u001b[38;5;129;01mnot\u001b[39;00m \u001b[38;5;28;01mNone\u001b[39;00m:\n\u001b[1;32m   1014\u001b[0m \n\u001b[1;32m   1015\u001b[0m     \u001b[38;5;66;03m# create a consistent interface to message_body\u001b[39;00m\n",
      "File \u001b[0;32m/usr/lib/python3.8/http/client.py:951\u001b[0m, in \u001b[0;36mHTTPConnection.send\u001b[0;34m(self, data)\u001b[0m\n\u001b[1;32m    950\u001b[0m \u001b[38;5;28;01mif\u001b[39;00m \u001b[38;5;28mself\u001b[39m\u001b[38;5;241m.\u001b[39mauto_open:\n\u001b[0;32m--> 951\u001b[0m     \u001b[38;5;28;43mself\u001b[39;49m\u001b[38;5;241;43m.\u001b[39;49m\u001b[43mconnect\u001b[49m\u001b[43m(\u001b[49m\u001b[43m)\u001b[49m\n\u001b[1;32m    952\u001b[0m \u001b[38;5;28;01melse\u001b[39;00m:\n",
      "File \u001b[0;32m~/.virtualenvs/slu01/lib/python3.8/site-packages/urllib3/connection.py:205\u001b[0m, in \u001b[0;36mHTTPConnection.connect\u001b[0;34m(self)\u001b[0m\n\u001b[1;32m    204\u001b[0m \u001b[38;5;28;01mdef\u001b[39;00m \u001b[38;5;21mconnect\u001b[39m(\u001b[38;5;28mself\u001b[39m):\n\u001b[0;32m--> 205\u001b[0m     conn \u001b[38;5;241m=\u001b[39m \u001b[38;5;28;43mself\u001b[39;49m\u001b[38;5;241;43m.\u001b[39;49m\u001b[43m_new_conn\u001b[49m\u001b[43m(\u001b[49m\u001b[43m)\u001b[49m\n\u001b[1;32m    206\u001b[0m     \u001b[38;5;28mself\u001b[39m\u001b[38;5;241m.\u001b[39m_prepare_conn(conn)\n",
      "File \u001b[0;32m~/.virtualenvs/slu01/lib/python3.8/site-packages/urllib3/connection.py:186\u001b[0m, in \u001b[0;36mHTTPConnection._new_conn\u001b[0;34m(self)\u001b[0m\n\u001b[1;32m    185\u001b[0m \u001b[38;5;28;01mexcept\u001b[39;00m SocketError \u001b[38;5;28;01mas\u001b[39;00m e:\n\u001b[0;32m--> 186\u001b[0m     \u001b[38;5;28;01mraise\u001b[39;00m NewConnectionError(\n\u001b[1;32m    187\u001b[0m         \u001b[38;5;28mself\u001b[39m, \u001b[38;5;124m\"\u001b[39m\u001b[38;5;124mFailed to establish a new connection: \u001b[39m\u001b[38;5;132;01m%s\u001b[39;00m\u001b[38;5;124m\"\u001b[39m \u001b[38;5;241m%\u001b[39m e\n\u001b[1;32m    188\u001b[0m     )\n\u001b[1;32m    190\u001b[0m \u001b[38;5;28;01mreturn\u001b[39;00m conn\n",
      "\u001b[0;31mNewConnectionError\u001b[0m: <urllib3.connection.HTTPConnection object at 0x7fd69454ab20>: Failed to establish a new connection: [Errno 111] Connection refused",
      "\nDuring handling of the above exception, another exception occurred:\n",
      "\u001b[0;31mMaxRetryError\u001b[0m                             Traceback (most recent call last)",
      "File \u001b[0;32m~/.virtualenvs/slu01/lib/python3.8/site-packages/requests/adapters.py:489\u001b[0m, in \u001b[0;36mHTTPAdapter.send\u001b[0;34m(self, request, stream, timeout, verify, cert, proxies)\u001b[0m\n\u001b[1;32m    488\u001b[0m \u001b[38;5;28;01mif\u001b[39;00m \u001b[38;5;129;01mnot\u001b[39;00m chunked:\n\u001b[0;32m--> 489\u001b[0m     resp \u001b[38;5;241m=\u001b[39m \u001b[43mconn\u001b[49m\u001b[38;5;241;43m.\u001b[39;49m\u001b[43murlopen\u001b[49m\u001b[43m(\u001b[49m\n\u001b[1;32m    490\u001b[0m \u001b[43m        \u001b[49m\u001b[43mmethod\u001b[49m\u001b[38;5;241;43m=\u001b[39;49m\u001b[43mrequest\u001b[49m\u001b[38;5;241;43m.\u001b[39;49m\u001b[43mmethod\u001b[49m\u001b[43m,\u001b[49m\n\u001b[1;32m    491\u001b[0m \u001b[43m        \u001b[49m\u001b[43murl\u001b[49m\u001b[38;5;241;43m=\u001b[39;49m\u001b[43murl\u001b[49m\u001b[43m,\u001b[49m\n\u001b[1;32m    492\u001b[0m \u001b[43m        \u001b[49m\u001b[43mbody\u001b[49m\u001b[38;5;241;43m=\u001b[39;49m\u001b[43mrequest\u001b[49m\u001b[38;5;241;43m.\u001b[39;49m\u001b[43mbody\u001b[49m\u001b[43m,\u001b[49m\n\u001b[1;32m    493\u001b[0m \u001b[43m        \u001b[49m\u001b[43mheaders\u001b[49m\u001b[38;5;241;43m=\u001b[39;49m\u001b[43mrequest\u001b[49m\u001b[38;5;241;43m.\u001b[39;49m\u001b[43mheaders\u001b[49m\u001b[43m,\u001b[49m\n\u001b[1;32m    494\u001b[0m \u001b[43m        \u001b[49m\u001b[43mredirect\u001b[49m\u001b[38;5;241;43m=\u001b[39;49m\u001b[38;5;28;43;01mFalse\u001b[39;49;00m\u001b[43m,\u001b[49m\n\u001b[1;32m    495\u001b[0m \u001b[43m        \u001b[49m\u001b[43massert_same_host\u001b[49m\u001b[38;5;241;43m=\u001b[39;49m\u001b[38;5;28;43;01mFalse\u001b[39;49;00m\u001b[43m,\u001b[49m\n\u001b[1;32m    496\u001b[0m \u001b[43m        \u001b[49m\u001b[43mpreload_content\u001b[49m\u001b[38;5;241;43m=\u001b[39;49m\u001b[38;5;28;43;01mFalse\u001b[39;49;00m\u001b[43m,\u001b[49m\n\u001b[1;32m    497\u001b[0m \u001b[43m        \u001b[49m\u001b[43mdecode_content\u001b[49m\u001b[38;5;241;43m=\u001b[39;49m\u001b[38;5;28;43;01mFalse\u001b[39;49;00m\u001b[43m,\u001b[49m\n\u001b[1;32m    498\u001b[0m \u001b[43m        \u001b[49m\u001b[43mretries\u001b[49m\u001b[38;5;241;43m=\u001b[39;49m\u001b[38;5;28;43mself\u001b[39;49m\u001b[38;5;241;43m.\u001b[39;49m\u001b[43mmax_retries\u001b[49m\u001b[43m,\u001b[49m\n\u001b[1;32m    499\u001b[0m \u001b[43m        \u001b[49m\u001b[43mtimeout\u001b[49m\u001b[38;5;241;43m=\u001b[39;49m\u001b[43mtimeout\u001b[49m\u001b[43m,\u001b[49m\n\u001b[1;32m    500\u001b[0m \u001b[43m    \u001b[49m\u001b[43m)\u001b[49m\n\u001b[1;32m    502\u001b[0m \u001b[38;5;66;03m# Send the request.\u001b[39;00m\n\u001b[1;32m    503\u001b[0m \u001b[38;5;28;01melse\u001b[39;00m:\n",
      "File \u001b[0;32m~/.virtualenvs/slu01/lib/python3.8/site-packages/urllib3/connectionpool.py:787\u001b[0m, in \u001b[0;36mHTTPConnectionPool.urlopen\u001b[0;34m(self, method, url, body, headers, retries, redirect, assert_same_host, timeout, pool_timeout, release_conn, chunked, body_pos, **response_kw)\u001b[0m\n\u001b[1;32m    785\u001b[0m     e \u001b[38;5;241m=\u001b[39m ProtocolError(\u001b[38;5;124m\"\u001b[39m\u001b[38;5;124mConnection aborted.\u001b[39m\u001b[38;5;124m\"\u001b[39m, e)\n\u001b[0;32m--> 787\u001b[0m retries \u001b[38;5;241m=\u001b[39m \u001b[43mretries\u001b[49m\u001b[38;5;241;43m.\u001b[39;49m\u001b[43mincrement\u001b[49m\u001b[43m(\u001b[49m\n\u001b[1;32m    788\u001b[0m \u001b[43m    \u001b[49m\u001b[43mmethod\u001b[49m\u001b[43m,\u001b[49m\u001b[43m \u001b[49m\u001b[43murl\u001b[49m\u001b[43m,\u001b[49m\u001b[43m \u001b[49m\u001b[43merror\u001b[49m\u001b[38;5;241;43m=\u001b[39;49m\u001b[43me\u001b[49m\u001b[43m,\u001b[49m\u001b[43m \u001b[49m\u001b[43m_pool\u001b[49m\u001b[38;5;241;43m=\u001b[39;49m\u001b[38;5;28;43mself\u001b[39;49m\u001b[43m,\u001b[49m\u001b[43m \u001b[49m\u001b[43m_stacktrace\u001b[49m\u001b[38;5;241;43m=\u001b[39;49m\u001b[43msys\u001b[49m\u001b[38;5;241;43m.\u001b[39;49m\u001b[43mexc_info\u001b[49m\u001b[43m(\u001b[49m\u001b[43m)\u001b[49m\u001b[43m[\u001b[49m\u001b[38;5;241;43m2\u001b[39;49m\u001b[43m]\u001b[49m\n\u001b[1;32m    789\u001b[0m \u001b[43m\u001b[49m\u001b[43m)\u001b[49m\n\u001b[1;32m    790\u001b[0m retries\u001b[38;5;241m.\u001b[39msleep()\n",
      "File \u001b[0;32m~/.virtualenvs/slu01/lib/python3.8/site-packages/urllib3/util/retry.py:592\u001b[0m, in \u001b[0;36mRetry.increment\u001b[0;34m(self, method, url, response, error, _pool, _stacktrace)\u001b[0m\n\u001b[1;32m    591\u001b[0m \u001b[38;5;28;01mif\u001b[39;00m new_retry\u001b[38;5;241m.\u001b[39mis_exhausted():\n\u001b[0;32m--> 592\u001b[0m     \u001b[38;5;28;01mraise\u001b[39;00m MaxRetryError(_pool, url, error \u001b[38;5;129;01mor\u001b[39;00m ResponseError(cause))\n\u001b[1;32m    594\u001b[0m log\u001b[38;5;241m.\u001b[39mdebug(\u001b[38;5;124m\"\u001b[39m\u001b[38;5;124mIncremented Retry for (url=\u001b[39m\u001b[38;5;124m'\u001b[39m\u001b[38;5;132;01m%s\u001b[39;00m\u001b[38;5;124m'\u001b[39m\u001b[38;5;124m): \u001b[39m\u001b[38;5;132;01m%r\u001b[39;00m\u001b[38;5;124m\"\u001b[39m, url, new_retry)\n",
      "\u001b[0;31mMaxRetryError\u001b[0m: HTTPConnectionPool(host='127.0.0.1', port=5000): Max retries exceeded with url: /predict (Caused by NewConnectionError('<urllib3.connection.HTTPConnection object at 0x7fd69454ab20>: Failed to establish a new connection: [Errno 111] Connection refused'))",
      "\nDuring handling of the above exception, another exception occurred:\n",
      "\u001b[0;31mConnectionError\u001b[0m                           Traceback (most recent call last)",
      "Input \u001b[0;32mIn [3]\u001b[0m, in \u001b[0;36m<cell line: 21>\u001b[0;34m()\u001b[0m\n\u001b[1;32m     18\u001b[0m url\u001b[38;5;241m=\u001b[39m\u001b[38;5;124m\"\u001b[39m\u001b[38;5;124mhttp://127.0.0.1:5000/predict\u001b[39m\u001b[38;5;124m\"\u001b[39m\n\u001b[1;32m     19\u001b[0m headers \u001b[38;5;241m=\u001b[39m {\u001b[38;5;124m'\u001b[39m\u001b[38;5;124mContent-Type\u001b[39m\u001b[38;5;124m'\u001b[39m: \u001b[38;5;124m'\u001b[39m\u001b[38;5;124mapplication/json\u001b[39m\u001b[38;5;124m'\u001b[39m}\n\u001b[0;32m---> 21\u001b[0m r \u001b[38;5;241m=\u001b[39m requests\u001b[38;5;241m.\u001b[39mpost(url, data\u001b[38;5;241m=\u001b[39mjson\u001b[38;5;241m.\u001b[39mdumps(observation), headers\u001b[38;5;241m=\u001b[39mheaders)\n\u001b[1;32m     23\u001b[0m \u001b[38;5;28mprint\u001b[39m(r\u001b[38;5;241m.\u001b[39mstatus_code)\n\u001b[1;32m     24\u001b[0m \u001b[38;5;28mprint\u001b[39m(r\u001b[38;5;241m.\u001b[39mtext)\n",
      "File \u001b[0;32m~/.virtualenvs/slu01/lib/python3.8/site-packages/requests/api.py:115\u001b[0m, in \u001b[0;36mpost\u001b[0;34m(url, data, json, **kwargs)\u001b[0m\n\u001b[1;32m    103\u001b[0m \u001b[38;5;28;01mdef\u001b[39;00m \u001b[38;5;21mpost\u001b[39m(url, data\u001b[38;5;241m=\u001b[39m\u001b[38;5;28;01mNone\u001b[39;00m, json\u001b[38;5;241m=\u001b[39m\u001b[38;5;28;01mNone\u001b[39;00m, \u001b[38;5;241m*\u001b[39m\u001b[38;5;241m*\u001b[39mkwargs):\n\u001b[1;32m    104\u001b[0m     \u001b[38;5;124mr\u001b[39m\u001b[38;5;124;03m\"\"\"Sends a POST request.\u001b[39;00m\n\u001b[1;32m    105\u001b[0m \n\u001b[1;32m    106\u001b[0m \u001b[38;5;124;03m    :param url: URL for the new :class:`Request` object.\u001b[39;00m\n\u001b[0;32m   (...)\u001b[0m\n\u001b[1;32m    112\u001b[0m \u001b[38;5;124;03m    :rtype: requests.Response\u001b[39;00m\n\u001b[1;32m    113\u001b[0m \u001b[38;5;124;03m    \"\"\"\u001b[39;00m\n\u001b[0;32m--> 115\u001b[0m     \u001b[38;5;28;01mreturn\u001b[39;00m \u001b[43mrequest\u001b[49m\u001b[43m(\u001b[49m\u001b[38;5;124;43m\"\u001b[39;49m\u001b[38;5;124;43mpost\u001b[39;49m\u001b[38;5;124;43m\"\u001b[39;49m\u001b[43m,\u001b[49m\u001b[43m \u001b[49m\u001b[43murl\u001b[49m\u001b[43m,\u001b[49m\u001b[43m \u001b[49m\u001b[43mdata\u001b[49m\u001b[38;5;241;43m=\u001b[39;49m\u001b[43mdata\u001b[49m\u001b[43m,\u001b[49m\u001b[43m \u001b[49m\u001b[43mjson\u001b[49m\u001b[38;5;241;43m=\u001b[39;49m\u001b[43mjson\u001b[49m\u001b[43m,\u001b[49m\u001b[43m \u001b[49m\u001b[38;5;241;43m*\u001b[39;49m\u001b[38;5;241;43m*\u001b[39;49m\u001b[43mkwargs\u001b[49m\u001b[43m)\u001b[49m\n",
      "File \u001b[0;32m~/.virtualenvs/slu01/lib/python3.8/site-packages/requests/api.py:59\u001b[0m, in \u001b[0;36mrequest\u001b[0;34m(method, url, **kwargs)\u001b[0m\n\u001b[1;32m     55\u001b[0m \u001b[38;5;66;03m# By using the 'with' statement we are sure the session is closed, thus we\u001b[39;00m\n\u001b[1;32m     56\u001b[0m \u001b[38;5;66;03m# avoid leaving sockets open which can trigger a ResourceWarning in some\u001b[39;00m\n\u001b[1;32m     57\u001b[0m \u001b[38;5;66;03m# cases, and look like a memory leak in others.\u001b[39;00m\n\u001b[1;32m     58\u001b[0m \u001b[38;5;28;01mwith\u001b[39;00m sessions\u001b[38;5;241m.\u001b[39mSession() \u001b[38;5;28;01mas\u001b[39;00m session:\n\u001b[0;32m---> 59\u001b[0m     \u001b[38;5;28;01mreturn\u001b[39;00m \u001b[43msession\u001b[49m\u001b[38;5;241;43m.\u001b[39;49m\u001b[43mrequest\u001b[49m\u001b[43m(\u001b[49m\u001b[43mmethod\u001b[49m\u001b[38;5;241;43m=\u001b[39;49m\u001b[43mmethod\u001b[49m\u001b[43m,\u001b[49m\u001b[43m \u001b[49m\u001b[43murl\u001b[49m\u001b[38;5;241;43m=\u001b[39;49m\u001b[43murl\u001b[49m\u001b[43m,\u001b[49m\u001b[43m \u001b[49m\u001b[38;5;241;43m*\u001b[39;49m\u001b[38;5;241;43m*\u001b[39;49m\u001b[43mkwargs\u001b[49m\u001b[43m)\u001b[49m\n",
      "File \u001b[0;32m~/.virtualenvs/slu01/lib/python3.8/site-packages/requests/sessions.py:587\u001b[0m, in \u001b[0;36mSession.request\u001b[0;34m(self, method, url, params, data, headers, cookies, files, auth, timeout, allow_redirects, proxies, hooks, stream, verify, cert, json)\u001b[0m\n\u001b[1;32m    582\u001b[0m send_kwargs \u001b[38;5;241m=\u001b[39m {\n\u001b[1;32m    583\u001b[0m     \u001b[38;5;124m\"\u001b[39m\u001b[38;5;124mtimeout\u001b[39m\u001b[38;5;124m\"\u001b[39m: timeout,\n\u001b[1;32m    584\u001b[0m     \u001b[38;5;124m\"\u001b[39m\u001b[38;5;124mallow_redirects\u001b[39m\u001b[38;5;124m\"\u001b[39m: allow_redirects,\n\u001b[1;32m    585\u001b[0m }\n\u001b[1;32m    586\u001b[0m send_kwargs\u001b[38;5;241m.\u001b[39mupdate(settings)\n\u001b[0;32m--> 587\u001b[0m resp \u001b[38;5;241m=\u001b[39m \u001b[38;5;28;43mself\u001b[39;49m\u001b[38;5;241;43m.\u001b[39;49m\u001b[43msend\u001b[49m\u001b[43m(\u001b[49m\u001b[43mprep\u001b[49m\u001b[43m,\u001b[49m\u001b[43m \u001b[49m\u001b[38;5;241;43m*\u001b[39;49m\u001b[38;5;241;43m*\u001b[39;49m\u001b[43msend_kwargs\u001b[49m\u001b[43m)\u001b[49m\n\u001b[1;32m    589\u001b[0m \u001b[38;5;28;01mreturn\u001b[39;00m resp\n",
      "File \u001b[0;32m~/.virtualenvs/slu01/lib/python3.8/site-packages/requests/sessions.py:701\u001b[0m, in \u001b[0;36mSession.send\u001b[0;34m(self, request, **kwargs)\u001b[0m\n\u001b[1;32m    698\u001b[0m start \u001b[38;5;241m=\u001b[39m preferred_clock()\n\u001b[1;32m    700\u001b[0m \u001b[38;5;66;03m# Send the request\u001b[39;00m\n\u001b[0;32m--> 701\u001b[0m r \u001b[38;5;241m=\u001b[39m \u001b[43madapter\u001b[49m\u001b[38;5;241;43m.\u001b[39;49m\u001b[43msend\u001b[49m\u001b[43m(\u001b[49m\u001b[43mrequest\u001b[49m\u001b[43m,\u001b[49m\u001b[43m \u001b[49m\u001b[38;5;241;43m*\u001b[39;49m\u001b[38;5;241;43m*\u001b[39;49m\u001b[43mkwargs\u001b[49m\u001b[43m)\u001b[49m\n\u001b[1;32m    703\u001b[0m \u001b[38;5;66;03m# Total elapsed time of the request (approximately)\u001b[39;00m\n\u001b[1;32m    704\u001b[0m elapsed \u001b[38;5;241m=\u001b[39m preferred_clock() \u001b[38;5;241m-\u001b[39m start\n",
      "File \u001b[0;32m~/.virtualenvs/slu01/lib/python3.8/site-packages/requests/adapters.py:565\u001b[0m, in \u001b[0;36mHTTPAdapter.send\u001b[0;34m(self, request, stream, timeout, verify, cert, proxies)\u001b[0m\n\u001b[1;32m    561\u001b[0m     \u001b[38;5;28;01mif\u001b[39;00m \u001b[38;5;28misinstance\u001b[39m(e\u001b[38;5;241m.\u001b[39mreason, _SSLError):\n\u001b[1;32m    562\u001b[0m         \u001b[38;5;66;03m# This branch is for urllib3 v1.22 and later.\u001b[39;00m\n\u001b[1;32m    563\u001b[0m         \u001b[38;5;28;01mraise\u001b[39;00m SSLError(e, request\u001b[38;5;241m=\u001b[39mrequest)\n\u001b[0;32m--> 565\u001b[0m     \u001b[38;5;28;01mraise\u001b[39;00m \u001b[38;5;167;01mConnectionError\u001b[39;00m(e, request\u001b[38;5;241m=\u001b[39mrequest)\n\u001b[1;32m    567\u001b[0m \u001b[38;5;28;01mexcept\u001b[39;00m ClosedPoolError \u001b[38;5;28;01mas\u001b[39;00m e:\n\u001b[1;32m    568\u001b[0m     \u001b[38;5;28;01mraise\u001b[39;00m \u001b[38;5;167;01mConnectionError\u001b[39;00m(e, request\u001b[38;5;241m=\u001b[39mrequest)\n",
      "\u001b[0;31mConnectionError\u001b[0m: HTTPConnectionPool(host='127.0.0.1', port=5000): Max retries exceeded with url: /predict (Caused by NewConnectionError('<urllib3.connection.HTTPConnection object at 0x7fd69454ab20>: Failed to establish a new connection: [Errno 111] Connection refused'))"
     ]
    }
   ],
   "source": [
    "observation = {\n",
    "  \"id\": \"fake-observation-{}\".format(uuid4()),\n",
    "  \"observation\": {\n",
    "      \"SubjectRaceCode\": \"B\",\n",
    "      \"SubjectSexCode\": \"M\",\n",
    "      \"SubjectEthnicityCode\": \"N\",\n",
    "      \"StatuteReason\": \"Stop sign\", \n",
    "      \"InterventionReasonCode\": \"V\", \n",
    "      \"ResidentIndicator\": False, \n",
    "      \"SearchAuthorizationCode\": \"N\",\n",
    "      \"SubjectAge\": 20,\n",
    "      \"hour\": 20,\n",
    "      \"day_of_week\": \"Tuesday\",\n",
    "  }\n",
    "}\n",
    "\n",
    "\n",
    "url=\"http://127.0.0.1:5000/predict\"\n",
    "headers = {'Content-Type': 'application/json'}\n",
    "\n",
    "r = requests.post(url, data=json.dumps(observation), headers=headers)\n",
    "\n",
    "print(r.status_code)\n",
    "print(r.text)"
   ]
  },
  {
   "cell_type": "markdown",
   "metadata": {},
   "source": [
    "Pretty simple, right? Try out a few more requests and play around with both commands.\n",
    "\n",
    "**Note**: You should get a status 200 and a proper response here. If not, make sure you ran the server as mentioned before and that you did so with the environment activated.\n",
    "\n",
    "<br>\n",
    "\n",
    "## Dealing with unexpected formats\n",
    "\n",
    "\n",
    "But what happens if we get a weird observation? \n",
    "\n",
    "Let's start by changing our dictionary so that the `observation` is now `my_observation`.\n",
    "\n"
   ]
  },
  {
   "cell_type": "code",
   "execution_count": null,
   "metadata": {},
   "outputs": [],
   "source": [
    "# Bad format\n",
    "\n",
    "observation = {\n",
    "  \"id\": \"fake-observation-{}\".format(uuid4()),\n",
    "  \"my_observation\": {\n",
    "      \"SubjectRaceCode\": \"B\",\n",
    "      \"SubjectSexCode\": None,\n",
    "      \"SubjectEthnicityCode\": \"N\",\n",
    "      \"StatuteReason\": \"Stop sign\", \n",
    "      \"InterventionReasonCode\": \"V\", \n",
    "      \"ResidentIndicator\": False, \n",
    "      \"SearchAuthorizationCode\": \"N\",\n",
    "      \"SubjectAge\": 20,\n",
    "      \"hour\": 20,\n",
    "      \"day_of_week\": \"Tuesday\",\n",
    "  }\n",
    "}\n",
    "\n",
    "\n",
    "url=\"http://127.0.0.1:5000/predict\"\n",
    "headers = {'Content-Type': 'application/json'}\n",
    "\n",
    "r = requests.post(url, data=json.dumps(observation), headers=headers)\n",
    "\n",
    "print(r.status_code)\n",
    "print(r.text)"
   ]
  },
  {
   "cell_type": "markdown",
   "metadata": {},
   "source": [
    "<img src=\"media/michael-surprised.jpg\" width=500 />\n",
    "\n",
    "\n",
    "Ok ok, your users know what they should send.\n",
    "\n",
    "But what about if they are missing some columns?\n"
   ]
  },
  {
   "cell_type": "code",
   "execution_count": null,
   "metadata": {},
   "outputs": [],
   "source": [
    "# Missing columns\n",
    "\n",
    "observation = {\n",
    "  \"id\": \"fake-observation-{}\".format(uuid4()),\n",
    "  \"observation\": {\n",
    "      \"SubjectAge\": 20,\n",
    "      \"hour\": 20\n",
    "  }\n",
    "}\n",
    "\n",
    "\n",
    "url=\"http://127.0.0.1:5000/predict\"\n",
    "headers = {'Content-Type': 'application/json'}\n",
    "\n",
    "r = requests.post(url, data=json.dumps(observation), headers=headers)\n",
    "\n",
    "print(r.status_code)\n",
    "print(r.text)"
   ]
  },
  {
   "cell_type": "markdown",
   "metadata": {},
   "source": [
    "\n",
    "<img src=\"media/michael-nope.jpg\" width=500 />\n",
    "\n",
    "We got a 200 but in reality our model had almost no information about the observation, how do we know how to interpret this information? \n",
    "\n",
    "Maybe it is useful to see what happens if we send just complete nonsense? "
   ]
  },
  {
   "cell_type": "code",
   "execution_count": null,
   "metadata": {},
   "outputs": [],
   "source": [
    "# Non sense values that don't break the request\n",
    "\n",
    "observation = {\n",
    "  \"id\": \"fake-observation-{}\".format(uuid4()),\n",
    "  \"observation\": {\n",
    "      \"SubjectRaceCode\": \"A\",\n",
    "      \"SubjectSexCode\": \"B\",\n",
    "      \"SubjectEthnicityCode\": \"C\",\n",
    "      \"StatuteReason\": \"D\", \n",
    "      \"InterventionReasonCode\": \"E\", \n",
    "      \"ResidentIndicator\": \"F\", \n",
    "      \"SearchAuthorizationCode\": \"F\",\n",
    "      \"SubjectAge\": 1,\n",
    "      \"hour\": 90,\n",
    "      \"day_of_week\": \"potato\",\n",
    "  }\n",
    "}\n",
    "\n",
    "\n",
    "url=\"http://127.0.0.1:5000/predict\"\n",
    "headers = {'Content-Type': 'application/json'}\n",
    "\n",
    "r = requests.post(url, data=json.dumps(observation), headers=headers)\n",
    "\n",
    "print(r.status_code)\n",
    "print(r.text)"
   ]
  },
  {
   "cell_type": "markdown",
   "metadata": {},
   "source": [
    "\n",
    "<img src=\"media/michael-cringe.png\" width=500 />\n",
    "\n",
    "Getting a 200 is not always good. In fact, if someone just sends completely random values and gets a probability and prediction, not only are they misled, but since our system is also storing these observations, we will get polluted data. \n",
    "\n",
    "**Most of the time, silent errors are worse than explicit ones** \n",
    "\n",
    "Let's do one more just so you get the full picture:"
   ]
  },
  {
   "cell_type": "code",
   "execution_count": null,
   "metadata": {},
   "outputs": [],
   "source": [
    "# More non sense values that break the request\n",
    "\n",
    "observation = {\n",
    "  \"id\": \"fake-observation-{}\".format(uuid4()),\n",
    "  \"observation\": {\n",
    "      \"SubjectRaceCode\": \"B\",\n",
    "      \"SubjectSexCode\": \"M\",\n",
    "      \"SubjectEthnicityCode\": \"N\",\n",
    "      \"StatuteReason\": \"Stop sign\", \n",
    "      \"InterventionReasonCode\": \"V\", \n",
    "      \"ResidentIndicator\": False, \n",
    "      \"SearchAuthorizationCode\": \"N\",\n",
    "      \"SubjectAge\": \"twenty\",\n",
    "      \"hour\": 20,\n",
    "      \"day_of_week\": \"Tuesday\",\n",
    "  }\n",
    "}\n",
    "\n",
    "\n",
    "url=\"http://127.0.0.1:5000/predict\"\n",
    "headers = {'Content-Type': 'application/json'}\n",
    "\n",
    "r = requests.post(url, data=json.dumps(observation), headers=headers)\n",
    "\n",
    "print(r.status_code)\n",
    "print(r.text)"
   ]
  },
  {
   "cell_type": "markdown",
   "metadata": {},
   "source": [
    "<img src=\"media/michael-tired.jpg\" width=500 />\n",
    "\n",
    "Alright, alright, I'll stop. By this point, you should have an idea of the different ways input data can be bad. So what do we do?\n",
    "\n",
    "\n",
    "### Handling input \n",
    "\n",
    "\n",
    "We protect the code. On one hand, we obviously don't want to send obscure errors to our client. On the other hand, we don't want to store data that doesn't make sense. So neither of the errors above are acceptable.\n",
    "\n",
    "Let's retrieve the map we did with our known values from the last unit:\n"
   ]
  },
  {
   "cell_type": "code",
   "execution_count": null,
   "metadata": {},
   "outputs": [],
   "source": [
    "known_categories = {\n",
    "    \"InterventionReasonCode\": {\"values\": [\"V\", \"E\", \"I\"], \"default\": None},\n",
    "    \"SubjectRaceCode\": {\"values\": [\"W\", \"B\", \"A\", \"I\"], \"default\": None},\n",
    "    \"SubjectSexCode\": {\"values\": [\"M\", \"F\"], \"default\": None},\n",
    "    \"SubjectEthnicityCode\": {\"values\": [\"H\", \"M\", \"N\"], \"default\": \"N\"},\n",
    "    \"SearchAuthorizationCode\": {\"values\": [\"O\", \"I\", \"C\", \"N\"], \"default\": \"N\"},\n",
    "    # We can use it also for booleans!\n",
    "    \"TownResidentIndicator\": {\"values\": [True, False]}, \n",
    "    \"ResidentIndicator\": {\"values\": [True, False]},\n",
    "    \"VehicleSearchedIndicator\": {\"values\": [True, False]},\n",
    "    \"ContrabandIndicator\": {\"values\": [True, False]},\n",
    "}\n"
   ]
  },
  {
   "cell_type": "markdown",
   "metadata": {},
   "source": [
    "We're going to do some slight modifications. Since we ended up using only a subset of our features and we actually augmented it with some others, we'll change the map to reflect this. Additionally, we'll keep only the allowed values and forget about any defaults for now.\n",
    "\n",
    "Notice that we are not handling numeric values, only categorical (including boolean) values in this map. We'll go back to the numerical values later on.\n"
   ]
  },
  {
   "cell_type": "code",
   "execution_count": null,
   "metadata": {},
   "outputs": [],
   "source": [
    "valid_categories = {\n",
    "    \"InterventionReasonCode\": [\"V\", \"E\", \"I\"],\n",
    "    \"SubjectRaceCode\": [\"W\", \"B\", \"A\", \"I\"],\n",
    "    \"SubjectSexCode\": [\"M\", \"F\"],\n",
    "    \"SubjectEthnicityCode\": [\"H\", \"M\", \"N\"],\n",
    "    \"SearchAuthorizationCode\": [\"O\", \"I\", \"C\", \"N\"],\n",
    "    \"ResidentIndicator\": {\"values\": [True, False]},\n",
    "    \"StatuteReason\": [\n",
    "        'Stop Sign', 'Other', 'Speed Related', 'Cell Phone', 'Traffic Control Signal', 'Defective Lights', \n",
    "        'Moving Violation', 'Registration', 'Display of Plates', 'Equipment Violation', 'Window Tint', \n",
    "        'Suspended License', 'Seatbelt', 'Other/Error', 'STC Violation', 'Administrative Offense', 'Unlicensed Operation'], \n",
    "    \"day_of_week\": [\"Monday\", \"Tuesday\", \"Wednesday\", \"Thursday\", \"Friday\", \"Saturday\", \"Sunday\"]\n",
    "}\n"
   ]
  },
  {
   "cell_type": "markdown",
   "metadata": {},
   "source": [
    "What we want to do is verify, when we receive the input, that it is:\n",
    "\n",
    "1. a valid input, with an `id` and an `observation`\n",
    "2. valid columns under the observation\n",
    "3. if categorical, a valid category within its column\n",
    "\n",
    "We can build some small functions to do that for us."
   ]
  },
  {
   "cell_type": "code",
   "execution_count": 4,
   "metadata": {},
   "outputs": [],
   "source": [
    "def check_request(request):\n",
    "    \"\"\"\n",
    "        Validates that our request is well formatted\n",
    "        \n",
    "        Returns:\n",
    "        - assertion value: True if request is ok, False otherwise\n",
    "        - error message: empty if request is ok, False otherwise\n",
    "    \"\"\"\n",
    "    \n",
    "    if \"id\" not in request:\n",
    "        error = \"Field `id` missing from request: {}\".format(request)\n",
    "        return False, error\n",
    "    \n",
    "    if \"observation\" not in request:\n",
    "        error = \"Field `observation` missing from request: {}\".format(request)\n",
    "        return False, error\n",
    "    \n",
    "    return True, \"\"\n",
    "\n",
    "\n",
    "\n",
    "def check_valid_column(observation):\n",
    "    \"\"\"\n",
    "        Validates that our observation only has valid columns\n",
    "        \n",
    "        Returns:\n",
    "        - assertion value: True if all provided columns are valid, False otherwise\n",
    "        - error message: empty if all provided columns are valid, False otherwise\n",
    "    \"\"\"\n",
    "    \n",
    "    valid_columns = {\n",
    "      \"SubjectRaceCode\",\n",
    "      \"SubjectSexCode\",\n",
    "      \"SubjectEthnicityCode\",\n",
    "      \"StatuteReason\", \n",
    "      \"InterventionReasonCode\", \n",
    "      \"ResidentIndicator\", \n",
    "      \"SearchAuthorizationCode\",\n",
    "      \"SubjectAge\",\n",
    "      \"hour\",\n",
    "      \"day_of_week\",\n",
    "    }\n",
    "    \n",
    "    keys = set(observation.keys())\n",
    "    \n",
    "    if len(valid_columns - keys) > 0: \n",
    "        missing = valid_columns - keys\n",
    "        error = \"Missing columns: {}\".format(missing)\n",
    "        return False, error\n",
    "    \n",
    "    if len(keys - valid_columns) > 0: \n",
    "        extra = keys - valid_columns\n",
    "        error = \"Unrecognized columns provided: {}\".format(extra)\n",
    "        return False, error    \n",
    "\n",
    "    return True, \"\"\n",
    "\n",
    "\n",
    "\n",
    "def check_categorical_values(observation):\n",
    "    \"\"\"\n",
    "        Validates that all categorical fields are in the observation and values are valid\n",
    "        \n",
    "        Returns:\n",
    "        - assertion value: True if all provided categorical columns contain valid values, \n",
    "                           False otherwise\n",
    "        - error message: empty if all provided columns are valid, False otherwise\n",
    "    \"\"\"\n",
    "    \n",
    "    valid_category_map = {\n",
    "        \"InterventionReasonCode\": [\"V\", \"E\", \"I\"],\n",
    "        \"SubjectRaceCode\": [\"W\", \"B\", \"A\", \"I\"],\n",
    "        \"SubjectSexCode\": [\"M\", \"F\"],\n",
    "        \"SubjectEthnicityCode\": [\"H\", \"M\", \"N\"],\n",
    "        \"SearchAuthorizationCode\": [\"O\", \"I\", \"C\", \"N\"],\n",
    "        \"ResidentIndicator\": [True, False],\n",
    "        \"StatuteReason\": [\n",
    "            'Stop Sign', 'Other', 'Speed Related', 'Cell Phone', 'Traffic Control Signal', 'Defective Lights', \n",
    "            'Moving Violation', 'Registration', 'Display of Plates', 'Equipment Violation', 'Window Tint', \n",
    "            'Suspended License', 'Seatbelt', 'Other/Error', 'STC Violation', 'Administrative Offense', 'Unlicensed Operation'], \n",
    "        \"day_of_week\": [\"Monday\", \"Tuesday\", \"Wednesday\", \"Thursday\", \"Friday\", \"Saturday\", \"Sunday\"]\n",
    "    }\n",
    "    \n",
    "    for key, valid_categories in valid_category_map.items():\n",
    "        if key in observation:\n",
    "            value = observation[key]\n",
    "            if value not in valid_categories:\n",
    "                error = \"Invalid value provided for {}: {}. Allowed values are: {}\".format(\n",
    "                    key, value, \",\".join([\"'{}'\".format(v) for v in valid_categories]))\n",
    "                return False, error\n",
    "        else:\n",
    "            error = \"Categorical field {} missing\"\n",
    "            return False, error\n",
    "\n",
    "    return True, \"\"\n"
   ]
  },
  {
   "cell_type": "markdown",
   "metadata": {},
   "source": [
    "Let's try out our functions:"
   ]
  },
  {
   "cell_type": "markdown",
   "metadata": {},
   "source": [
    "#### Check request structure\n"
   ]
  },
  {
   "cell_type": "code",
   "execution_count": 5,
   "metadata": {},
   "outputs": [
    {
     "data": {
      "text/plain": [
       "(True, '')"
      ]
     },
     "execution_count": 5,
     "metadata": {},
     "output_type": "execute_result"
    }
   ],
   "source": [
    "check_request({\"id\": \"fake-id\", \"observation\": \"fake-obs\"})\n"
   ]
  },
  {
   "cell_type": "code",
   "execution_count": 6,
   "metadata": {},
   "outputs": [
    {
     "data": {
      "text/plain": [
       "(False,\n",
       " \"Field `id` missing from request: {'bad_id': 'fake-id', 'observation': 'fake-obs'}\")"
      ]
     },
     "execution_count": 6,
     "metadata": {},
     "output_type": "execute_result"
    }
   ],
   "source": [
    "check_request({\"bad_id\": \"fake-id\", \"observation\": \"fake-obs\"})\n"
   ]
  },
  {
   "cell_type": "markdown",
   "metadata": {},
   "source": [
    "#### Check observation\n"
   ]
  },
  {
   "cell_type": "code",
   "execution_count": 7,
   "metadata": {},
   "outputs": [
    {
     "data": {
      "text/plain": [
       "(True, '')"
      ]
     },
     "execution_count": 7,
     "metadata": {},
     "output_type": "execute_result"
    }
   ],
   "source": [
    "observation = {\n",
    "      \"SubjectRaceCode\": \"B\",\n",
    "      \"SubjectSexCode\": \"M\",\n",
    "      \"SubjectEthnicityCode\": \"N\",\n",
    "      \"StatuteReason\": \"Stop sign\", \n",
    "      \"InterventionReasonCode\": \"V\", \n",
    "      \"ResidentIndicator\": False, \n",
    "      \"SearchAuthorizationCode\": \"N\",\n",
    "      \"SubjectAge\": 20,\n",
    "      \"hour\": 20,\n",
    "      \"day_of_week\": \"Tuesday\",\n",
    "  }\n",
    "\n",
    "check_valid_column(observation)"
   ]
  },
  {
   "cell_type": "code",
   "execution_count": 8,
   "metadata": {},
   "outputs": [
    {
     "data": {
      "text/plain": [
       "(False, \"Missing columns: {'SearchAuthorizationCode'}\")"
      ]
     },
     "execution_count": 8,
     "metadata": {},
     "output_type": "execute_result"
    }
   ],
   "source": [
    "observation = {\n",
    "      \"SubjectRaceCode\": \"B\",\n",
    "      \"SubjectSexCode\": \"M\",\n",
    "      \"SubjectEthnicityCode\": \"N\",\n",
    "      \"StatuteReason\": \"Stop sign\", \n",
    "      \"InterventionReasonCode\": \"V\", \n",
    "      \"ResidentIndicator\": False, \n",
    "      \"SubjectAge\": 20,\n",
    "      \"hour\": 20,\n",
    "      \"day_of_week\": \"Tuesday\",\n",
    "  }\n",
    "\n",
    "check_valid_column(observation)"
   ]
  },
  {
   "cell_type": "code",
   "execution_count": 9,
   "metadata": {},
   "outputs": [
    {
     "data": {
      "text/plain": [
       "(False, \"Unrecognized columns provided: {'SomeRandomColumn'}\")"
      ]
     },
     "execution_count": 9,
     "metadata": {},
     "output_type": "execute_result"
    }
   ],
   "source": [
    "observation = {\n",
    "      \"SubjectRaceCode\": \"B\",\n",
    "      \"SubjectSexCode\": \"M\",\n",
    "      \"SubjectEthnicityCode\": \"N\",\n",
    "      \"StatuteReason\": \"Stop sign\", \n",
    "      \"InterventionReasonCode\": \"V\", \n",
    "      \"ResidentIndicator\": False, \n",
    "      \"SearchAuthorizationCode\": \"N\",\n",
    "      \"SomeRandomColumn\": \"N\",\n",
    "      \"SubjectAge\": 20,\n",
    "      \"hour\": 20,\n",
    "      \"day_of_week\": \"Tuesday\",\n",
    "  }\n",
    "\n",
    "check_valid_column(observation)"
   ]
  },
  {
   "cell_type": "markdown",
   "metadata": {},
   "source": [
    "#### Check categories\n"
   ]
  },
  {
   "cell_type": "code",
   "execution_count": 10,
   "metadata": {},
   "outputs": [
    {
     "data": {
      "text/plain": [
       "(True, '')"
      ]
     },
     "execution_count": 10,
     "metadata": {},
     "output_type": "execute_result"
    }
   ],
   "source": [
    "observation = {\n",
    "      \"SubjectRaceCode\": \"B\",\n",
    "      \"SubjectSexCode\": \"M\",\n",
    "      \"SubjectEthnicityCode\": \"N\",\n",
    "      \"StatuteReason\": \"Stop Sign\", \n",
    "      \"InterventionReasonCode\": \"V\", \n",
    "      \"ResidentIndicator\": False, \n",
    "      \"SearchAuthorizationCode\": \"N\",\n",
    "      \"SomeRandomColumn\": \"N\",\n",
    "      \"SubjectAge\": 20,\n",
    "      \"hour\": 20,\n",
    "      \"day_of_week\": \"Tuesday\",\n",
    "  }\n",
    "\n",
    "check_categorical_values(observation)"
   ]
  },
  {
   "cell_type": "code",
   "execution_count": 17,
   "metadata": {},
   "outputs": [
    {
     "data": {
      "text/plain": [
       "(False,\n",
       " \"Invalid value provided for SubjectRaceCode: t. Allowed values are: 'W','B','A','I'\")"
      ]
     },
     "execution_count": 17,
     "metadata": {},
     "output_type": "execute_result"
    }
   ],
   "source": [
    "observation = {\n",
    "      \"SubjectRaceCode\": \"t\",\n",
    "      \"SubjectSexCode\": \"M\",\n",
    "      \"SubjectEthnicityCode\": \"N\",\n",
    "      \"StatuteReason\": \"Stop sign\", \n",
    "      \"InterventionReasonCode\": \"V\", \n",
    "      \"ResidentIndicator\": False, \n",
    "      \"SearchAuthorizationCode\": \"N\",\n",
    "      \"SomeRandomColumn\": \"N\",\n",
    "      \"SubjectAge\": 20,\n",
    "      \"hour\": 20,\n",
    "      \"day_of_week\": \"Tuesday\",\n",
    "  }\n",
    "\n",
    "check_categorical_values(observation)"
   ]
  },
  {
   "cell_type": "code",
   "execution_count": 18,
   "metadata": {},
   "outputs": [
    {
     "data": {
      "text/plain": [
       "(False,\n",
       " \"Invalid value provided for ResidentIndicator: COUCH POTATO. Allowed values are: 'True','False'\")"
      ]
     },
     "execution_count": 18,
     "metadata": {},
     "output_type": "execute_result"
    }
   ],
   "source": [
    "observation = {\n",
    "      \"SubjectRaceCode\": \"B\",\n",
    "      \"SubjectSexCode\": \"M\",\n",
    "      \"SubjectEthnicityCode\": \"N\",\n",
    "      \"StatuteReason\": \"Stop sign\", \n",
    "      \"InterventionReasonCode\": \"V\", \n",
    "      \"ResidentIndicator\": \"COUCH POTATO\", \n",
    "      \"SearchAuthorizationCode\": \"N\",\n",
    "      \"SomeRandomColumn\": \"N\",\n",
    "      \"SubjectAge\": 20,\n",
    "      \"hour\": 20,\n",
    "      \"day_of_week\": \"Tuesday\",\n",
    "  }\n",
    "\n",
    "check_categorical_values(observation)"
   ]
  },
  {
   "cell_type": "markdown",
   "metadata": {},
   "source": [
    "<br>\n",
    "\n",
    "#### Numerical values\n",
    "\n",
    "What about our numeric values - `hour` and `SubjectAge`. Well, each has a particular set of conditions that make sense to apply, so let's create some functions to perform similar verifications:\n",
    "\n"
   ]
  },
  {
   "cell_type": "code",
   "execution_count": 19,
   "metadata": {},
   "outputs": [],
   "source": [
    "def check_hour(observation):\n",
    "    \"\"\"\n",
    "        Validates that observation contains valid hour value \n",
    "        \n",
    "        Returns:\n",
    "        - assertion value: True if hour is valid, False otherwise\n",
    "        - error message: empty if hour is valid, False otherwise\n",
    "    \"\"\"\n",
    "    \n",
    "    hour = observation.get(\"hour\")\n",
    "        \n",
    "    if not hour:\n",
    "        error = \"Field `hour` missing\"\n",
    "        return False, error\n",
    "\n",
    "    if not isinstance(hour, int):\n",
    "        error = \"Field `hour` is not an integer\"\n",
    "        return False, error\n",
    "    \n",
    "    if hour < 0 or hour > 24:\n",
    "        error = \"Field `hour` is not between 0 and 24\"\n",
    "        return False, error\n",
    "\n",
    "    return True, \"\"\n",
    "\n",
    "\n",
    "def check_age(observation):\n",
    "    \"\"\"\n",
    "        Validates that observation contains valid hour value \n",
    "        \n",
    "        Returns:\n",
    "        - assertion value: True if hour is valid, False otherwise\n",
    "        - error message: empty if hour is valid, False otherwise\n",
    "    \"\"\"\n",
    "    \n",
    "    age = observation.get(\"SubjectAge\")\n",
    "        \n",
    "    if not age: \n",
    "        error = \"Field `SubjectAge` missing\"\n",
    "        return False, error\n",
    "\n",
    "    if not isinstance(age, int):\n",
    "        error = \"Field `SubjectAge` is not an integer\"\n",
    "        return False, error\n",
    "    \n",
    "    if age < 10 or age > 100:\n",
    "        error = \"Field `SubjectAge` is not between 10 and 100\"\n",
    "        return False, error\n",
    "\n",
    "    return True, \"\"\n"
   ]
  },
  {
   "cell_type": "code",
   "execution_count": 20,
   "metadata": {},
   "outputs": [
    {
     "data": {
      "text/plain": [
       "(True, '')"
      ]
     },
     "execution_count": 20,
     "metadata": {},
     "output_type": "execute_result"
    }
   ],
   "source": [
    "observation = {\n",
    "      \"hour\": 20,\n",
    "      \"day_of_week\": \"Tuesday\",\n",
    "  }\n",
    "\n",
    "check_hour(observation)"
   ]
  },
  {
   "cell_type": "code",
   "execution_count": 21,
   "metadata": {},
   "outputs": [
    {
     "data": {
      "text/plain": [
       "(False, 'Field `hour` is not between 0 and 24')"
      ]
     },
     "execution_count": 21,
     "metadata": {},
     "output_type": "execute_result"
    }
   ],
   "source": [
    "observation = {\n",
    "      \"hour\": 100,\n",
    "      \"day_of_week\": \"Tuesday\",\n",
    "  }\n",
    "\n",
    "check_hour(observation)"
   ]
  },
  {
   "cell_type": "code",
   "execution_count": 22,
   "metadata": {},
   "outputs": [
    {
     "data": {
      "text/plain": [
       "(True, '')"
      ]
     },
     "execution_count": 22,
     "metadata": {},
     "output_type": "execute_result"
    }
   ],
   "source": [
    "observation = {\n",
    "      \"SubjectAge\": 20,\n",
    "      \"day_of_week\": \"Tuesday\",\n",
    "  }\n",
    "\n",
    "check_age(observation)"
   ]
  },
  {
   "cell_type": "markdown",
   "metadata": {},
   "source": [
    "### Putting it all together\n",
    "\n",
    "Now we can run our server with these functions. \n",
    "\n",
    "Run the code under `protected_server.py`\n",
    "\n",
    "```sh\n",
    "\n",
    "python protected_server.py\n",
    "\n",
    "\n",
    "```\n",
    "\n",
    "\n",
    "And try out the same examples as before to see what the server returns to us:\n"
   ]
  },
  {
   "cell_type": "code",
   "execution_count": 23,
   "metadata": {},
   "outputs": [
    {
     "name": "stdout",
     "output_type": "stream",
     "text": [
      "{\"error\":\"Field `observation` missing from request: {'id': 'fake-observation-21571c72-0104-4c11-95c7-914bf2954d2b', 'my_observation': {'SubjectRaceCode': 'B', 'SubjectSexCode': None, 'SubjectEthnicityCode': 'N', 'StatuteReason': 'Stop sign', 'InterventionReasonCode': 'V', 'ResidentIndicator': False, 'SearchAuthorizationCode': 'N', 'SubjectAge': 20, 'hour': 20, 'day_of_week': 'Tuesday'}}\"}\n",
      "\n"
     ]
    }
   ],
   "source": [
    "# Bad format\n",
    "\n",
    "observation = {\n",
    "  \"id\": \"fake-observation-{}\".format(uuid4()),\n",
    "  \"my_observation\": {\n",
    "      \"SubjectRaceCode\": \"B\",\n",
    "      \"SubjectSexCode\": None,\n",
    "      \"SubjectEthnicityCode\": \"N\",\n",
    "      \"StatuteReason\": \"Stop sign\", \n",
    "      \"InterventionReasonCode\": \"V\", \n",
    "      \"ResidentIndicator\": False, \n",
    "      \"SearchAuthorizationCode\": \"N\",\n",
    "      \"SubjectAge\": 20,\n",
    "      \"hour\": 20,\n",
    "      \"day_of_week\": \"Tuesday\",\n",
    "  }\n",
    "}\n",
    "\n",
    "\n",
    "url=\"http://127.0.0.1:5000/predict\"\n",
    "headers = {'Content-Type': 'application/json'}\n",
    "\n",
    "r = requests.post(url, data=json.dumps(observation), headers=headers)\n",
    "\n",
    "print(r.text)"
   ]
  },
  {
   "cell_type": "code",
   "execution_count": 24,
   "metadata": {},
   "outputs": [
    {
     "name": "stdout",
     "output_type": "stream",
     "text": [
      "{\"error\":\"Missing columns: {'SubjectSexCode', 'SubjectEthnicityCode'}\"}\n",
      "\n"
     ]
    }
   ],
   "source": [
    "# Missing columns\n",
    "\n",
    "observation = {\n",
    "  \"id\": \"fake-observation-{}\".format(uuid4()),\n",
    "  \"observation\": {\n",
    "      \"SubjectRaceCode\": \"B\",\n",
    "      \"StatuteReason\": \"Stop sign\", \n",
    "      \"InterventionReasonCode\": \"V\", \n",
    "      \"ResidentIndicator\": False, \n",
    "      \"SearchAuthorizationCode\": \"N\",\n",
    "      \"SubjectAge\": 20,\n",
    "      \"hour\": 20,\n",
    "      \"day_of_week\": \"Tuesday\",\n",
    "  }\n",
    "}\n",
    "\n",
    "\n",
    "url=\"http://127.0.0.1:5000/predict\"\n",
    "headers = {'Content-Type': 'application/json'}\n",
    "\n",
    "r = requests.post(url, data=json.dumps(observation), headers=headers)\n",
    "\n",
    "print(r.text)\n"
   ]
  },
  {
   "cell_type": "code",
   "execution_count": 25,
   "metadata": {},
   "outputs": [
    {
     "name": "stdout",
     "output_type": "stream",
     "text": [
      "200\n",
      "{\"error\":\"Invalid value provided for SubjectSexCode: B. Allowed values are: 'M','F'\"}\n",
      "\n"
     ]
    }
   ],
   "source": [
    "# Non sense values that don't break the request\n",
    "\n",
    "observation = {\n",
    "  \"id\": \"fake-observation-{}\".format(uuid4()),\n",
    "  \"observation\": {\n",
    "      \"SubjectRaceCode\": \"A\",\n",
    "      \"SubjectSexCode\": \"B\",\n",
    "      \"SubjectEthnicityCode\": \"C\",\n",
    "      \"StatuteReason\": \"D\", \n",
    "      \"InterventionReasonCode\": \"E\", \n",
    "      \"ResidentIndicator\": \"F\", \n",
    "      \"SearchAuthorizationCode\": \"F\",\n",
    "      \"SubjectAge\": 1,\n",
    "      \"hour\": 90,\n",
    "      \"day_of_week\": \"potato\",\n",
    "  }\n",
    "}\n",
    "\n",
    "\n",
    "url=\"http://127.0.0.1:5000/predict\"\n",
    "headers = {'Content-Type': 'application/json'}\n",
    "\n",
    "r = requests.post(url, data=json.dumps(observation), headers=headers)\n",
    "\n",
    "print(r.status_code)\n",
    "print(r.text)"
   ]
  },
  {
   "cell_type": "code",
   "execution_count": 26,
   "metadata": {},
   "outputs": [
    {
     "name": "stdout",
     "output_type": "stream",
     "text": [
      "200\n",
      "{\"error\":\"Field `SubjectAge` is not an integer\"}\n",
      "\n"
     ]
    }
   ],
   "source": [
    "# Non sense values that break the request\n",
    "\n",
    "observation = {\n",
    "  \"id\": \"fake-observation-{}\".format(uuid4()),\n",
    "  \"observation\": {\n",
    "      \"SubjectRaceCode\": \"B\",\n",
    "      \"SubjectSexCode\": \"M\",\n",
    "      \"SubjectEthnicityCode\": \"N\",\n",
    "      \"StatuteReason\": \"Stop Sign\", \n",
    "      \"InterventionReasonCode\": \"V\", \n",
    "      \"ResidentIndicator\": False, \n",
    "      \"SearchAuthorizationCode\": \"N\",\n",
    "      \"SubjectAge\": \"twenty\",\n",
    "      \"hour\": 20,\n",
    "      \"day_of_week\": \"Tuesday\",\n",
    "  }\n",
    "}\n",
    "\n",
    "\n",
    "url=\"http://127.0.0.1:5000/predict\"\n",
    "headers = {'Content-Type': 'application/json'}\n",
    "\n",
    "r = requests.post(url, data=json.dumps(observation), headers=headers)\n",
    "\n",
    "print(r.status_code)\n",
    "print(r.text)"
   ]
  },
  {
   "cell_type": "markdown",
   "metadata": {},
   "source": [
    "\n",
    "<img src=\"media/great_success.jpg\" width=400 />\n",
    "\n",
    "\n",
    "Now we have a bit more robust server. Try out other examples to see if you can break the server!\n",
    "\n",
    "\n",
    "#### A final note\n",
    "\n",
    "When designing APIs there are actually proper error codes to apply for each type of error. For example here the correct code might be 422 (`Unprocessable Entity`) while for the previously coded error when the id is the same we may want to return a 409 (`Conflict`). However, you don't need to know these for now.\n",
    "\n",
    "<a href=\"https://developer.mozilla.org/en-US/docs/Web/HTTP/Status/418\"><img src=\"media/418_teapot.jpeg\" width=400 /></a>\n",
    "\n",
    "_Who said programmers are no fun?_\n"
   ]
  },
  {
   "cell_type": "markdown",
   "metadata": {},
   "source": [
    "<br>\n",
    "\n",
    "## Monitoring and maintaining the system\n",
    "\n",
    "So you've deployed your model, you made sure to protect it from bad input, you even found a bunch of other potential sources of issues and protected against them. \n",
    "\n",
    "What next?\n",
    "\n",
    "\n",
    "### Uptime and surviving failures\n",
    "\n",
    "\n",
    "Even when you are 100% sure all you did was right, things can go wrong. After all, just because your model is deployed on the \"cloud\" it doesn't mean this doesn't rely on an actual system and underlying resources that you need to be aware of. All of those, even though you don't manage them directly, can be the cause of problems with your service. \n",
    "\n",
    "<img src=\"media/cloud-what-if-i-told-you.png\" width=450 />\n",
    "\n",
    "<br>\n",
    "\n",
    "So, how does the average developer handle all of this?\n",
    "\n",
    "\n",
    "### Logging, metrics, monitoring and alerting\n",
    "\n",
    "\n",
    "#### Logging\n",
    "\n",
    "One way of understanding better what is happening to your system is by creating logs. Logs are just textual\n",
    "pieces of information that show what the app is doing. They can be emitted from different points in your code and \n",
    "typically exist in the underlying libraries you use. \n",
    "\n",
    "When you create an app in python, for example, errors and their tracebacks (where the error came from) will be exposed in the STDERR. You can consider that one type of logging. However, these are not enough and we typically create more logs in important parts of our application. You will learn more about this in BLU15.\n",
    "\n",
    "At the simplest level, it's important to learn where to check for your logs, so you can debug quickly when your app is not working. For example, let's say we deploy an app but pass the wrong paths to the necessary model elements (like `columns.json`, `pipeline.pickle`, etc). When we deploy the app it will crash. By accessing the logs we would be able to check why that is.\n",
    "\n",
    "#### Metrics \n",
    "\n",
    "Metrics represent the raw measurements you can expose and collect in your system. They can be generated at many levels, from the operating system where you are running your service to the application that you are running. At the system level, for example, you can measure most resource-related metrics: \n",
    "\n",
    "* how many **CPUs** you are using\n",
    "* how much **memory** you are using\n",
    "* how much **disk space** you are using\n",
    "\n",
    "Another example of a dependency on your system that can be a problem is the database, where you can measure different aspects:\n",
    "\n",
    "* how many **connections to the database** are opened\n",
    "* size of the dabase, this is the amount of **disk space** it is also using\n",
    "\n",
    "Additionally, you may want to measure particular aspects of the application, for example, related to the requests your server is receiving. In this group you could measure the following:\n",
    "\n",
    "* how much time each request took - also known as **request latency**\n",
    "* how many requests were done to the server\n",
    "* how many requests resulted in 200 codes (OK)\n",
    "* how many requests resulted in error codes\n",
    "\n",
    "Finally, for each problem, there will be a number of \"business level\" metrics, and these can overlap with some of the ones mentioned or be completely different. For example, part of our requirements can be that the server should respond in less than 20 milliseconds, which overlaps with the request latency mentioned in the points above.\n",
    "\n",
    "#### Final note: Model Metrics \n",
    "\n",
    "Besides all of the metrics above which are pretty standard, typically when you serve machine learning models, there are also other metrics you can expose. This depends a lot on the models you are using and on your input, but you could expose as metrics things such as:\n",
    "\n",
    "* the **feature distribution** for each feature - hour, sex, age, and so on... \n",
    "* the **prediction distribution** of your model\n",
    "* the **probability distribution** of your model\n",
    "\n",
    "These can help you be quick to identify data shifts or problems with your model.\n",
    "\n",
    "Overall, emitting or exposing these metrics is known as **instrumenting** your services.\n",
    "\n",
    "\n",
    "<br> \n",
    "\n",
    "#### Monitoring\n",
    "\n",
    "Once you are outputting your metrics, you still need a way to crunch them into meaningful insights. Obviously you are not going to go through, or manually curate, thousands and thousands of measurements.\n",
    "\n",
    "The process of collecting and aggregating these measures, while potentially providing some sort of analytics on them, is called **monitoring**. There are a number of tools out there that provide this functionality, giving you a place to store the metrics aggregated and then set visualizations on those metrics. They can also provide you the ability to set up thresholds or other conditions that, when met, trigger some sort of response.\n",
    "\n",
    "In more complex applications, the monitoring might even have specific systems of its own, that they themselves need to be monitored. But for now, think of it just as a side system that can provide you with visibility over the things you want to measure.\n",
    "\n",
    "\n",
    "<img src=\"media/monitoring-monitors.png\" width=500 />\n",
    "\n",
    "\n",
    "<br> \n",
    "\n",
    "#### Alerting\n",
    "\n",
    "Finally, the last step in tracking the health of your app is alerting. As mentioned before some tools for monitoring already allow integrated alerting functionality, and you can set up certain conditions to alert a responsible person.\n",
    "\n",
    "While you may want certain responses to be even more automated and have a specific programmatic action to happen, the main purpose of alerting is really to bring a person's attention to the status of the system. Usually, alerts have information that allows the watcher to either take the proper action to fix the problem or at most, it gives them a starting point to investigate what the problem is.\n",
    "\n",
    "An example of a potential dashboard you could set up for monitoring and alerting is shown below. There, the red lines represent thresholds that when passed would trigger alerts. For example, if the response time goes above a given number, then we want to be notified and potentially investigate the problem.\n",
    "\n",
    "<img src=\"media/monitor-metrics-example.png\" width=1000 />\n",
    "\n",
    "\n",
    "<br>\n",
    "\n",
    "All of these things together, allow you to have visibility over your system and make sure it's healthy, but obviously with each error or problem, you are the one that needs to improve the code and make it more reliable. Which brings us to our final section."
   ]
  },
  {
   "cell_type": "markdown",
   "metadata": {},
   "source": [
    "### Testing\n",
    "\n",
    "If you write up a program, even when you are super careful and think you did everything 100% right, usually you try to run it and something is wrong. This is true, even just locally, without accounting for all the system components and potentially bad input.\n",
    "\n",
    "> Anything that can go wrong, will go wrong\n",
    "\n",
    "(this is called Murphy's law)\n",
    "\n",
    "That's why normally we perform some sort of testing on our server and model before we actually share it with the client. This usually happens before you deploy the model to what is called the production environment - this is, the same environment where your app is available to the client. It even happens before you try to run your server locally.\n",
    "\n",
    "There are several layers of testing that you can apply, and QA is a whole discipline by itself, but here we want to introduce you to the most common one: **unit testing**.\n",
    "\n",
    "#### Unit tests\n",
    "\n",
    "Unit tests focus on a small part of your code, usually a well isolated one. Let's take one of our functions from a previous notebook:\n"
   ]
  },
  {
   "cell_type": "code",
   "execution_count": 27,
   "metadata": {},
   "outputs": [],
   "source": [
    "def verify_success_rate_above(y_true, y_pred, min_success_rate=0.5):\n",
    "    \"\"\"\n",
    "    Verifies the success rate on a test set is above a provided minimum\n",
    "    \"\"\"\n",
    "    \n",
    "    precision = precision_score(y_true, y_pred, pos_label=True)\n",
    "    is_satisfied = (precision >= min_success_rate)\n",
    "    \n",
    "    return is_satisfied, precision\n"
   ]
  },
  {
   "cell_type": "markdown",
   "metadata": {},
   "source": [
    "The function description is `Verifies the success rate on a test set is above a provided minimum`. So how would we go about defining our tests for it? \n",
    "\n",
    "We can think of potential scenarios that we know should either be verified as success and scenarios that shouldn't. For example, if I have a vector where all my predictions are right, and my minimum success rate is 0.5, then my function should inform me that the condition is satisfied and return a precision of 1. On the other hand, if I pass an array that is completely wrong, I should get the opposite - my condition is not satisfied and the precision should be 0.\n",
    "\n",
    "We could also decide on more fine-grained cases for which we know what precision values and outcome we should get.\n",
    "\n",
    "For example, we could write the following:\n"
   ]
  },
  {
   "cell_type": "code",
   "execution_count": 28,
   "metadata": {},
   "outputs": [],
   "source": [
    "def test_verify_success_rate_above():\n",
    "    \n",
    "    # Test correct vector returns success and 1 precision\n",
    "    y = np.array([1.0, 1.0, 0.0, 0.0])\n",
    "    is_satisfied, precision = verify_success_rate_above(y, y)\n",
    "    assert is_satisfied == True\n",
    "    assert precision == 1.0\n",
    "    \n",
    "    # Test wrong vector returns unsuccessful and 0 precision\n",
    "    y_true = np.array([1.0, 1.0, 0.0, 0.0])\n",
    "    y_pred = np.array([0.0, 0.0, 1.0, 1.0])\n",
    "    is_satisfied, precision = verify_success_rate_above(y_true, y_pred)\n",
    "    assert is_satisfied == False\n",
    "    assert precision == 0.0\n",
    "    \n",
    "    # Test 3/4 of positive labels correct\n",
    "    y_true = np.array([0.0, 1.0, 1.0, 1.0, 0.0])\n",
    "    y_pred = np.array([0.0, 1.0, 1.0, 1.0, 1.0])\n",
    "    is_satisfied, precision = verify_success_rate_above(y_true, y_pred)\n",
    "    assert is_satisfied == True\n",
    "    assert precision == 0.75\n",
    "\n",
    "\n",
    "test_verify_success_rate_above()"
   ]
  },
  {
   "cell_type": "markdown",
   "metadata": {},
   "source": [
    "But how would this help us catch a problem? Let's say we wrote our tests after a lot of thinking and then went on to write the function. But for some reason, we got confused and picked the wrong metric:"
   ]
  },
  {
   "cell_type": "code",
   "execution_count": 29,
   "metadata": {},
   "outputs": [
    {
     "ename": "AssertionError",
     "evalue": "",
     "output_type": "error",
     "traceback": [
      "\u001b[0;31m---------------------------------------------------------------------------\u001b[0m",
      "\u001b[0;31mAssertionError\u001b[0m                            Traceback (most recent call last)",
      "\u001b[0;32m<ipython-input-29-890aa0633faa>\u001b[0m in \u001b[0;36m<module>\u001b[0;34m\u001b[0m\n\u001b[1;32m     35\u001b[0m \u001b[0;34m\u001b[0m\u001b[0m\n\u001b[1;32m     36\u001b[0m \u001b[0;34m\u001b[0m\u001b[0m\n\u001b[0;32m---> 37\u001b[0;31m \u001b[0mtest_verify_success_rate_above\u001b[0m\u001b[0;34m(\u001b[0m\u001b[0;34m)\u001b[0m\u001b[0;34m\u001b[0m\u001b[0;34m\u001b[0m\u001b[0m\n\u001b[0m",
      "\u001b[0;32m<ipython-input-29-890aa0633faa>\u001b[0m in \u001b[0;36mtest_verify_success_rate_above\u001b[0;34m()\u001b[0m\n\u001b[1;32m     32\u001b[0m     \u001b[0mis_satisfied\u001b[0m\u001b[0;34m,\u001b[0m \u001b[0mprecision\u001b[0m \u001b[0;34m=\u001b[0m \u001b[0mverify_wrong_success_rate_above\u001b[0m\u001b[0;34m(\u001b[0m\u001b[0my_true\u001b[0m\u001b[0;34m,\u001b[0m \u001b[0my_pred\u001b[0m\u001b[0;34m)\u001b[0m\u001b[0;34m\u001b[0m\u001b[0;34m\u001b[0m\u001b[0m\n\u001b[1;32m     33\u001b[0m     \u001b[0;32massert\u001b[0m \u001b[0mis_satisfied\u001b[0m \u001b[0;34m==\u001b[0m \u001b[0;32mTrue\u001b[0m\u001b[0;34m\u001b[0m\u001b[0;34m\u001b[0m\u001b[0m\n\u001b[0;32m---> 34\u001b[0;31m     \u001b[0;32massert\u001b[0m \u001b[0mprecision\u001b[0m \u001b[0;34m==\u001b[0m \u001b[0;36m0.75\u001b[0m\u001b[0;34m\u001b[0m\u001b[0;34m\u001b[0m\u001b[0m\n\u001b[0m\u001b[1;32m     35\u001b[0m \u001b[0;34m\u001b[0m\u001b[0m\n\u001b[1;32m     36\u001b[0m \u001b[0;34m\u001b[0m\u001b[0m\n",
      "\u001b[0;31mAssertionError\u001b[0m: "
     ]
    }
   ],
   "source": [
    "# Function with \"bug\"\n",
    "def verify_wrong_success_rate_above(y_true, y_pred, min_success_rate=0.5):\n",
    "    \"\"\"\n",
    "    Verifies the success rate on a test set is above a provided minimum\n",
    "    \"\"\"\n",
    "\n",
    "    precision = recall_score(y_true, y_pred, pos_label=True)\n",
    "    is_satisfied = (precision >= min_success_rate)\n",
    "    \n",
    "    return is_satisfied, precision\n",
    "\n",
    "\n",
    "# Tests\n",
    "def test_verify_success_rate_above():\n",
    "    \n",
    "    # Test correct vector returns success and 1 precision\n",
    "    y = np.array([1.0, 1.0, 0.0, 0.0])\n",
    "    is_satisfied, precision = verify_wrong_success_rate_above(y, y)\n",
    "    assert is_satisfied == True\n",
    "    assert precision == 1.0\n",
    "    \n",
    "    # Test wrong vector returns unsuccessful and 0 precision\n",
    "    y_true = np.array([1.0, 1.0, 0.0, 0.0])\n",
    "    y_pred = np.array([0.0, 0.0, 1.0, 1.0])\n",
    "    is_satisfied, precision = verify_wrong_success_rate_above(y_true, y_pred)\n",
    "    assert is_satisfied == False\n",
    "    assert precision == 0.0\n",
    "    \n",
    "    # Test 3/4 of positive labels correct\n",
    "    y_true = np.array([0.0, 1.0, 1.0, 1.0, 0.0])\n",
    "    y_pred = np.array([0.0, 1.0, 1.0, 1.0, 1.0])\n",
    "    is_satisfied, precision = verify_wrong_success_rate_above(y_true, y_pred)\n",
    "    assert is_satisfied == True\n",
    "    assert precision == 0.75\n",
    "\n",
    "\n",
    "test_verify_success_rate_above()"
   ]
  },
  {
   "cell_type": "markdown",
   "metadata": {},
   "source": [
    "Your tests would actually break. \n",
    "\n",
    "Writing tests forces you to think about the different scenarios that may happen, and usually when done before the code it leads you to understand better what code you should actually write - writing tests before the code is called **test driven development**. For each piece of code you are writing, there is an intended behavior. And this behavior can be put into tests.\n",
    "\n",
    "If you actually think about it, a lot of the assertions the instructors write to test your code in the exercise notebooks could actually be packed into unit tests. They basically describe the expected behavior of your function and enforce it by breaking, if the behavior is wrong. \n",
    "\n",
    "Unit tests help you a lot to make sure your server is robust, but of course you should also try to test the end to end behavior and try out your app locally before you deploy it. The difference is, unit tests can be easily automated and will prevent changes from breaking previously defined behaviors. \n",
    "\n",
    "<br>\n",
    "\n",
    "And that's it. We will not dive too deep into these topics, but keep in mind that they are important for any real-life app that you may work on. So if you take something out of this: monitor your servers, and always, always, test your code before you ship it to production.\n",
    "\n",
    "<img src=\"media/testing-in-production.png\" width=400 />\n",
    "\n"
   ]
  },
  {
   "cell_type": "markdown",
   "metadata": {},
   "source": [
    "________________"
   ]
  }
 ],
 "metadata": {
  "kernelspec": {
   "display_name": "Python 3 (ipykernel)",
   "language": "python",
   "name": "python3"
  },
  "language_info": {
   "codemirror_mode": {
    "name": "ipython",
    "version": 3
   },
   "file_extension": ".py",
   "mimetype": "text/x-python",
   "name": "python",
   "nbconvert_exporter": "python",
   "pygments_lexer": "ipython3",
   "version": "3.8.16"
  }
 },
 "nbformat": 4,
 "nbformat_minor": 4
}
